{
  "nbformat": 4,
  "nbformat_minor": 0,
  "metadata": {
    "colab": {
      "provenance": [],
      "collapsed_sections": [
        "a8SONi7zmU7L"
      ],
      "authorship_tag": "ABX9TyOvVXDrPLoW3kefTpp+Qihl",
      "include_colab_link": true
    },
    "kernelspec": {
      "name": "python3",
      "display_name": "Python 3"
    }
  },
  "cells": [
    {
      "cell_type": "markdown",
      "metadata": {
        "id": "view-in-github",
        "colab_type": "text"
      },
      "source": [
        "<a href=\"https://colab.research.google.com/github/prof-rossetti/intro-to-python/blob/main/exercises/web-requests/Web_Requests_Exercise_Fall_2022.ipynb\" target=\"_parent\"><img src=\"https://colab.research.google.com/assets/colab-badge.svg\" alt=\"Open In Colab\"/></a>"
      ]
    },
    {
      "cell_type": "markdown",
      "metadata": {
        "id": "bej520VKmMXQ"
      },
      "source": [
        "\n",
        "\n",
        "# Learning Objectives\n",
        "\n",
        "  + Practice using Python to request static data files located on the Internet, focusing on \"GET\" requests.\n",
        "  + Increase exposure to JSON-formatted data, and practice processing it in Python.\n",
        "  + Leverage built-in Python modules and third-party Python packages to speed development and enhance capabilities.\n",
        "  + Prepare to issue requests to get data from web services (APIs).\n",
        "\n",
        "\n"
      ]
    },
    {
      "cell_type": "markdown",
      "metadata": {
        "id": "Vd1fTwy5muAZ"
      },
      "source": [
        "# Instructions"
      ]
    },
    {
      "cell_type": "markdown",
      "metadata": {
        "id": "oSsRKvXCmVO2"
      },
      "source": [
        "\n",
        "\n",
        "Write Python code to tackle each of the challenges below. Each challenge asks you to fetch some data from the internet and process it.\n",
        "\n",
        "\n",
        "> HINT: for the JSON and HTML challenges, let's use [the `requests` package](https://github.com/prof-rossetti/intro-to-python/blob/master/notes/python/packages/requests.md) to issue our HTTP requests to get the data.\n"
      ]
    },
    {
      "cell_type": "markdown",
      "metadata": {
        "id": "a8SONi7zmU7L"
      },
      "source": [
        "# Setup\n",
        "\n",
        "> FYI: The Google Colab environment already has the requests package installed, so no need to take action. Otherwise if we are working locally we'll need to install it separately via pip (`pip install requests`) into an active virtual environment.\n",
        "\n"
      ]
    },
    {
      "cell_type": "code",
      "metadata": {
        "id": "FNEyz4ZEoeZZ"
      },
      "source": [
        "!pip list"
      ],
      "execution_count": null,
      "outputs": []
    },
    {
      "cell_type": "markdown",
      "metadata": {
        "id": "_rV1jf7ynbEg"
      },
      "source": [
        "\n",
        "\n",
        "# JSON Challenges\n",
        "\n",
        "\n",
        "> FYI: the response text for each basic challenge will be a string formatted as JSON, so you can use [the `json` module](https://github.com/prof-rossetti/intro-to-python/blob/master/notes/python/modules/json.md) to parse it and convert into a Python datastructure. \n",
        "\n",
        "> NOTE: depending on which URL we are making a request to, sometimes the JSON response will resemble a Python list and sometimes it will resemble a Python dictionary, so make sure to parse each accordingly.\n",
        "\n"
      ]
    },
    {
      "cell_type": "markdown",
      "metadata": {
        "id": "9UvD5No6mVmi"
      },
      "source": [
        "\n",
        "## 1) Requesting a Product (JSON)\n",
        "\n",
        "Write Python code which issues a GET request for this [product](https://raw.githubusercontent.com/prof-rossetti/intro-to-python/master/data/products/2.json) data, then prints the product's \"name\".\n",
        "\n"
      ]
    },
    {
      "cell_type": "code",
      "metadata": {
        "id": "jbs9_7KpnicX"
      },
      "source": [
        "\n",
        "product_url = \"https://raw.githubusercontent.com/prof-rossetti/intro-to-python/master/data/products/2.json\"\n",
        "\n",
        "# write code here\n",
        "\n"
      ],
      "execution_count": null,
      "outputs": []
    },
    {
      "cell_type": "markdown",
      "metadata": {
        "id": "WI49LVTUmV42"
      },
      "source": [
        "\n",
        "## 2) Requesting Products (JSON)\n",
        "\n",
        "Write Python code which issues a GET request for this [products](https://raw.githubusercontent.com/prof-rossetti/intro-to-python/master/data/products.json) data, then loop through each product and print its \"name\" and \"id\" attributes.\n",
        "\n"
      ]
    },
    {
      "cell_type": "code",
      "metadata": {
        "id": "aDdTGXlpnnLP"
      },
      "source": [
        "\n",
        "products_url = \"https://raw.githubusercontent.com/prof-rossetti/intro-to-python/master/data/products.json\"\n",
        "\n",
        "# write some code here\n",
        "\n"
      ],
      "execution_count": null,
      "outputs": []
    },
    {
      "cell_type": "markdown",
      "metadata": {
        "id": "_T8eX8JRmWKB"
      },
      "source": [
        "\n",
        "## 3) Requesting the Gradebook (JSON)\n",
        "\n",
        "Write Python code which issues a GET request for this [gradebook](https://raw.githubusercontent.com/prof-rossetti/intro-to-python/master/data/gradebook.json) data, then calculate and print the average, min, and max grades.\n"
      ]
    },
    {
      "cell_type": "code",
      "metadata": {
        "id": "HCyj9xEhobp5"
      },
      "source": [
        "\n",
        "gradebook_url = \"https://raw.githubusercontent.com/prof-rossetti/intro-to-python/master/data/gradebook.json\"\n",
        "\n",
        "# write some code here\n",
        "\n"
      ],
      "execution_count": null,
      "outputs": []
    },
    {
      "cell_type": "markdown",
      "metadata": {
        "id": "AY2e14m4Gp3C"
      },
      "source": [
        "# CSV Challenges \n",
        "\n",
        "> FYI: the response text for these challenges will be a string formatted as CSV, so you can use [the `pandas.read_csv` method](https://pandas.pydata.org/pandas-docs/stable/reference/api/pandas.read_csv.html) to parse it.\n",
        "\n"
      ]
    },
    {
      "cell_type": "markdown",
      "metadata": {
        "id": "Z5s2f91GG7ac"
      },
      "source": [
        "\n",
        "## 4) Requesting Products (CSV)\n",
        "\n",
        "Write Python code which issues a GET request for this [products](https://raw.githubusercontent.com/prof-rossetti/intro-to-python/master/data/products.csv) CSV data, then loop through each product and print its \"name\" and \"id\" attributes.\n",
        "\n"
      ]
    },
    {
      "cell_type": "code",
      "metadata": {
        "id": "Z293CsYgGood"
      },
      "source": [
        "products_csv_url = \"https://raw.githubusercontent.com/prof-rossetti/intro-to-python/master/data/products.csv\"\n",
        "\n",
        "# write some code here\n"
      ],
      "execution_count": null,
      "outputs": []
    },
    {
      "cell_type": "markdown",
      "metadata": {
        "id": "7P61y0ljHL28"
      },
      "source": [
        "## 5) Requesting Stock Prices (CSV)\n",
        "\n",
        "Write Python code which issues a GET request for this [stock price](https://raw.githubusercontent.com/prof-rossetti/intro-to-python/main/data/daily_adjusted_nflx.csv) CSV data, then print the latest (adjusted) closing price."
      ]
    },
    {
      "cell_type": "code",
      "metadata": {
        "id": "TouJEu9FHdpx"
      },
      "source": [
        "\n",
        "nflx_prices_url = \"https://raw.githubusercontent.com/prof-rossetti/intro-to-python/main/data/daily_adjusted_nflx.csv\"\n",
        "\n",
        "# write some code here\n",
        "\n"
      ],
      "execution_count": null,
      "outputs": []
    },
    {
      "cell_type": "markdown",
      "metadata": {
        "id": "fwYgUfTmkpmk"
      },
      "source": [
        "# HTML Challenges\n",
        "\n",
        "> FYI: the response text for these challenges will be a string formatted as HTML, so you can use [the `BeautifulSoup` package](https://github.com/prof-rossetti/intro-to-python/blob/master/notes/python/packages/beautifulsoup.md) to parse it.\n",
        "\n",
        "> HINT: it helps to \"inspect\" the HTML contents in the browser first, so you can get a feel for the organizational structure of the page, and know which elements / tags to look for.\n"
      ]
    },
    {
      "cell_type": "markdown",
      "source": [
        "## 6) Practice Parsing HTML Lists"
      ],
      "metadata": {
        "id": "0v5kRA3sy8hC"
      }
    },
    {
      "cell_type": "markdown",
      "source": [
        "\n",
        "Write Python code which issues a GET request for this [example HTML list](https://raw.githubusercontent.com/prof-rossetti/intro-to-python/main/data/my_lists.html) data, then loop through the favorite flavors and print each one."
      ],
      "metadata": {
        "id": "s71xDYBxzN3U"
      }
    },
    {
      "cell_type": "code",
      "source": [
        "my_lists_url = \"https://raw.githubusercontent.com/prof-rossetti/intro-to-python/main/data/my_lists.html\"\n",
        "\n",
        "\n"
      ],
      "metadata": {
        "id": "XQtXiAKIy66i"
      },
      "execution_count": null,
      "outputs": []
    },
    {
      "cell_type": "markdown",
      "source": [
        "## 7) Practice Parsing HTML Tables\n",
        "\n",
        "\n",
        "Write Python code which issues a GET request for this [example HTML table](https://raw.githubusercontent.com/prof-rossetti/intro-to-python/main/data/my_tables.html) data, then loop through the products and print the name of each one."
      ],
      "metadata": {
        "id": "lRef5OOhzDdT"
      }
    },
    {
      "cell_type": "code",
      "source": [
        "my_tables_url = \"https://raw.githubusercontent.com/prof-rossetti/intro-to-python/main/data/my_tables.html\"\n",
        "\n",
        "\n"
      ],
      "metadata": {
        "id": "CQOooliDznof"
      },
      "execution_count": null,
      "outputs": []
    },
    {
      "cell_type": "markdown",
      "metadata": {
        "id": "eC_nfjzUkr7Z"
      },
      "source": [
        "## 8) Requesting Books (HTML)\n",
        "\n",
        "Write Python code which issues a GET request for this [book list](https://www.gutenberg.org/ebooks/author/65) information, then print the titles of all the books authored by Shakespeare.\n",
        "\n",
        "\n"
      ]
    },
    {
      "cell_type": "code",
      "metadata": {
        "id": "BsmsEbE8lTx4"
      },
      "source": [
        "\n",
        "books_url = \"https://www.gutenberg.org/ebooks/author/65\"\n",
        "\n",
        "# write some code here\n",
        "\n",
        "\n",
        "\n",
        "\n"
      ],
      "execution_count": null,
      "outputs": []
    },
    {
      "cell_type": "markdown",
      "metadata": {
        "id": "lVTBwkistjdl"
      },
      "source": [
        "## 9) Requesting Events (HTML)\n",
        "\n",
        "\n",
        "Write Python code which issues a GET request for this list of [upcoming events](https://www.georgetown.edu/events/), then print the name, location, and time of each event."
      ]
    },
    {
      "cell_type": "code",
      "metadata": {
        "id": "31kz7lxnti_D"
      },
      "source": [
        "\n",
        "events_url = \"https://www.georgetown.edu/events/\"\n",
        "\n",
        "# write some code here\n",
        "\n",
        "\n"
      ],
      "execution_count": null,
      "outputs": []
    }
  ]
}