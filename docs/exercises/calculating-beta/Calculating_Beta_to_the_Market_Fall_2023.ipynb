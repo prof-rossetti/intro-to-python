{
  "nbformat": 4,
  "nbformat_minor": 0,
  "metadata": {
    "colab": {
      "provenance": [],
      "authorship_tag": "ABX9TyPcUCXm9lsVKhSc4SATiqwb",
      "include_colab_link": true
    },
    "kernelspec": {
      "name": "python3",
      "display_name": "Python 3"
    },
    "language_info": {
      "name": "python"
    }
  },
  "cells": [
    {
      "cell_type": "markdown",
      "metadata": {
        "id": "view-in-github",
        "colab_type": "text"
      },
      "source": [
        "<a href=\"https://colab.research.google.com/github/prof-rossetti/intro-to-python/blob/main/exercises/calculating-beta/Calculating_Beta_to_the_Market_Fall_2023.ipynb\" target=\"_parent\"><img src=\"https://colab.research.google.com/assets/colab-badge.svg\" alt=\"Open In Colab\"/></a>"
      ]
    },
    {
      "cell_type": "markdown",
      "source": [
        "In this notebook, we will analyze a set of selected stocks, and calculate a given stock's \"beta to the market\", as one way of assessing the risk of that stock.\n"
      ],
      "metadata": {
        "id": "p6YCup8i7BTo"
      }
    },
    {
      "cell_type": "markdown",
      "source": [
        "## Setup\n",
        "\n"
      ],
      "metadata": {
        "id": "Kx17rH3maxsO"
      }
    },
    {
      "cell_type": "markdown",
      "source": [
        "Installing packages:"
      ],
      "metadata": {
        "id": "MY4izYXSazHv"
      }
    },
    {
      "cell_type": "code",
      "source": [
        "%%capture\n",
        "!pip install yahooquery"
      ],
      "metadata": {
        "id": "Mobj9PkkVpKc"
      },
      "execution_count": 29,
      "outputs": []
    },
    {
      "cell_type": "markdown",
      "source": [
        "## Challenges"
      ],
      "metadata": {
        "id": "XkoRdhIRr06G"
      }
    },
    {
      "cell_type": "markdown",
      "source": [
        "### Part 1: Fetching Stock Data"
      ],
      "metadata": {
        "id": "NPnHOp9dsjqm"
      }
    },
    {
      "cell_type": "markdown",
      "source": [
        "First, update the `symbols` list provided in the cell below, to choose your own list of 5-10 valid stock symbols.\n",
        "\n",
        "Then run all cells in Part 1 to fetch historical price data for the designated symbols, as well as the market. This data will be stored in a dataframe variable called `histories_df`."
      ],
      "metadata": {
        "id": "3zEwOp9qhl4J"
      }
    },
    {
      "cell_type": "code",
      "source": [
        "# choose your own stocks here (at least five):\n",
        "symbols = [\"AAPL\", \"GOOGL\", \"META\",\n",
        "           \"MSFT\", \"NFLX\", \"AMZN\", \"NVDA\",\n",
        "           \"BAC\", \"JPM\"\n",
        "]"
      ],
      "metadata": {
        "id": "B98IEZbxesbw"
      },
      "execution_count": 30,
      "outputs": []
    },
    {
      "cell_type": "code",
      "source": [
        "# https://yahooquery.dpguthrie.com/guide/ticker/intro/\n",
        "from yahooquery import Ticker\n",
        "\n",
        "# adding market index as well (leave this as is):\n",
        "all_symbols = symbols + [\"SPY\"]\n",
        "\n",
        "companies = Ticker(all_symbols)\n",
        "print(type(companies))"
      ],
      "metadata": {
        "colab": {
          "base_uri": "https://localhost:8080/"
        },
        "id": "KdZMGL9rjm8K",
        "outputId": "ad6cc04d-bdd6-466c-b101-2ccacfdbe355"
      },
      "execution_count": 31,
      "outputs": [
        {
          "output_type": "stream",
          "name": "stdout",
          "text": [
            "<class 'yahooquery.ticker.Ticker'>\n"
          ]
        }
      ]
    },
    {
      "cell_type": "code",
      "source": [
        "# companies.history()"
      ],
      "metadata": {
        "id": "7kkfg21Ud4-L"
      },
      "execution_count": 32,
      "outputs": []
    },
    {
      "cell_type": "code",
      "source": [
        "from pandas import to_datetime\n",
        "\n",
        "# the prices data is accessible via history method\n",
        "# ... but it has a multi-level index\n",
        "# ... so we are simplifying the index to make our lives easier:\n",
        "histories_df = companies.history()\n",
        "histories_df[\"symbol\"] = histories_df.index.get_level_values(0)\n",
        "histories_df[\"date\"] = to_datetime(histories_df.index.get_level_values(1)).date\n",
        "histories_df.reset_index(drop=True, inplace=True) # use default index (0-based)\n",
        "\n",
        "histories_df[[\"date\", \"symbol\", \"adjclose\"]]"
      ],
      "metadata": {
        "colab": {
          "base_uri": "https://localhost:8080/",
          "height": 423
        },
        "id": "6xKbM_DplEPD",
        "outputId": "343bb915-68e0-44be-acfb-30bca3c08d10"
      },
      "execution_count": 33,
      "outputs": [
        {
          "output_type": "execute_result",
          "data": {
            "text/plain": [
              "            date symbol    adjclose\n",
              "0     2023-01-02   AAPL  124.538658\n",
              "1     2023-01-03   AAPL  125.823189\n",
              "2     2023-01-04   AAPL  124.488876\n",
              "3     2023-01-05   AAPL  129.069321\n",
              "4     2023-01-08   AAPL  129.597061\n",
              "...          ...    ...         ...\n",
              "2025  2023-10-16    SPY  436.019989\n",
              "2026  2023-10-17    SPY  430.209991\n",
              "2027  2023-10-18    SPY  426.429993\n",
              "2028  2023-10-19    SPY  421.190002\n",
              "2029  2023-10-22    SPY  420.459991\n",
              "\n",
              "[2030 rows x 3 columns]"
            ],
            "text/html": [
              "\n",
              "  <div id=\"df-2d4a782b-4cd4-4e6d-8b57-135bd2438248\" class=\"colab-df-container\">\n",
              "    <div>\n",
              "<style scoped>\n",
              "    .dataframe tbody tr th:only-of-type {\n",
              "        vertical-align: middle;\n",
              "    }\n",
              "\n",
              "    .dataframe tbody tr th {\n",
              "        vertical-align: top;\n",
              "    }\n",
              "\n",
              "    .dataframe thead th {\n",
              "        text-align: right;\n",
              "    }\n",
              "</style>\n",
              "<table border=\"1\" class=\"dataframe\">\n",
              "  <thead>\n",
              "    <tr style=\"text-align: right;\">\n",
              "      <th></th>\n",
              "      <th>date</th>\n",
              "      <th>symbol</th>\n",
              "      <th>adjclose</th>\n",
              "    </tr>\n",
              "  </thead>\n",
              "  <tbody>\n",
              "    <tr>\n",
              "      <th>0</th>\n",
              "      <td>2023-01-02</td>\n",
              "      <td>AAPL</td>\n",
              "      <td>124.538658</td>\n",
              "    </tr>\n",
              "    <tr>\n",
              "      <th>1</th>\n",
              "      <td>2023-01-03</td>\n",
              "      <td>AAPL</td>\n",
              "      <td>125.823189</td>\n",
              "    </tr>\n",
              "    <tr>\n",
              "      <th>2</th>\n",
              "      <td>2023-01-04</td>\n",
              "      <td>AAPL</td>\n",
              "      <td>124.488876</td>\n",
              "    </tr>\n",
              "    <tr>\n",
              "      <th>3</th>\n",
              "      <td>2023-01-05</td>\n",
              "      <td>AAPL</td>\n",
              "      <td>129.069321</td>\n",
              "    </tr>\n",
              "    <tr>\n",
              "      <th>4</th>\n",
              "      <td>2023-01-08</td>\n",
              "      <td>AAPL</td>\n",
              "      <td>129.597061</td>\n",
              "    </tr>\n",
              "    <tr>\n",
              "      <th>...</th>\n",
              "      <td>...</td>\n",
              "      <td>...</td>\n",
              "      <td>...</td>\n",
              "    </tr>\n",
              "    <tr>\n",
              "      <th>2025</th>\n",
              "      <td>2023-10-16</td>\n",
              "      <td>SPY</td>\n",
              "      <td>436.019989</td>\n",
              "    </tr>\n",
              "    <tr>\n",
              "      <th>2026</th>\n",
              "      <td>2023-10-17</td>\n",
              "      <td>SPY</td>\n",
              "      <td>430.209991</td>\n",
              "    </tr>\n",
              "    <tr>\n",
              "      <th>2027</th>\n",
              "      <td>2023-10-18</td>\n",
              "      <td>SPY</td>\n",
              "      <td>426.429993</td>\n",
              "    </tr>\n",
              "    <tr>\n",
              "      <th>2028</th>\n",
              "      <td>2023-10-19</td>\n",
              "      <td>SPY</td>\n",
              "      <td>421.190002</td>\n",
              "    </tr>\n",
              "    <tr>\n",
              "      <th>2029</th>\n",
              "      <td>2023-10-22</td>\n",
              "      <td>SPY</td>\n",
              "      <td>420.459991</td>\n",
              "    </tr>\n",
              "  </tbody>\n",
              "</table>\n",
              "<p>2030 rows × 3 columns</p>\n",
              "</div>\n",
              "    <div class=\"colab-df-buttons\">\n",
              "\n",
              "  <div class=\"colab-df-container\">\n",
              "    <button class=\"colab-df-convert\" onclick=\"convertToInteractive('df-2d4a782b-4cd4-4e6d-8b57-135bd2438248')\"\n",
              "            title=\"Convert this dataframe to an interactive table.\"\n",
              "            style=\"display:none;\">\n",
              "\n",
              "  <svg xmlns=\"http://www.w3.org/2000/svg\" height=\"24px\" viewBox=\"0 -960 960 960\">\n",
              "    <path d=\"M120-120v-720h720v720H120Zm60-500h600v-160H180v160Zm220 220h160v-160H400v160Zm0 220h160v-160H400v160ZM180-400h160v-160H180v160Zm440 0h160v-160H620v160ZM180-180h160v-160H180v160Zm440 0h160v-160H620v160Z\"/>\n",
              "  </svg>\n",
              "    </button>\n",
              "\n",
              "  <style>\n",
              "    .colab-df-container {\n",
              "      display:flex;\n",
              "      gap: 12px;\n",
              "    }\n",
              "\n",
              "    .colab-df-convert {\n",
              "      background-color: #E8F0FE;\n",
              "      border: none;\n",
              "      border-radius: 50%;\n",
              "      cursor: pointer;\n",
              "      display: none;\n",
              "      fill: #1967D2;\n",
              "      height: 32px;\n",
              "      padding: 0 0 0 0;\n",
              "      width: 32px;\n",
              "    }\n",
              "\n",
              "    .colab-df-convert:hover {\n",
              "      background-color: #E2EBFA;\n",
              "      box-shadow: 0px 1px 2px rgba(60, 64, 67, 0.3), 0px 1px 3px 1px rgba(60, 64, 67, 0.15);\n",
              "      fill: #174EA6;\n",
              "    }\n",
              "\n",
              "    .colab-df-buttons div {\n",
              "      margin-bottom: 4px;\n",
              "    }\n",
              "\n",
              "    [theme=dark] .colab-df-convert {\n",
              "      background-color: #3B4455;\n",
              "      fill: #D2E3FC;\n",
              "    }\n",
              "\n",
              "    [theme=dark] .colab-df-convert:hover {\n",
              "      background-color: #434B5C;\n",
              "      box-shadow: 0px 1px 3px 1px rgba(0, 0, 0, 0.15);\n",
              "      filter: drop-shadow(0px 1px 2px rgba(0, 0, 0, 0.3));\n",
              "      fill: #FFFFFF;\n",
              "    }\n",
              "  </style>\n",
              "\n",
              "    <script>\n",
              "      const buttonEl =\n",
              "        document.querySelector('#df-2d4a782b-4cd4-4e6d-8b57-135bd2438248 button.colab-df-convert');\n",
              "      buttonEl.style.display =\n",
              "        google.colab.kernel.accessAllowed ? 'block' : 'none';\n",
              "\n",
              "      async function convertToInteractive(key) {\n",
              "        const element = document.querySelector('#df-2d4a782b-4cd4-4e6d-8b57-135bd2438248');\n",
              "        const dataTable =\n",
              "          await google.colab.kernel.invokeFunction('convertToInteractive',\n",
              "                                                    [key], {});\n",
              "        if (!dataTable) return;\n",
              "\n",
              "        const docLinkHtml = 'Like what you see? Visit the ' +\n",
              "          '<a target=\"_blank\" href=https://colab.research.google.com/notebooks/data_table.ipynb>data table notebook</a>'\n",
              "          + ' to learn more about interactive tables.';\n",
              "        element.innerHTML = '';\n",
              "        dataTable['output_type'] = 'display_data';\n",
              "        await google.colab.output.renderOutput(dataTable, element);\n",
              "        const docLink = document.createElement('div');\n",
              "        docLink.innerHTML = docLinkHtml;\n",
              "        element.appendChild(docLink);\n",
              "      }\n",
              "    </script>\n",
              "  </div>\n",
              "\n",
              "\n",
              "<div id=\"df-cfdbb479-e69e-45f8-9f47-e3e018829397\">\n",
              "  <button class=\"colab-df-quickchart\" onclick=\"quickchart('df-cfdbb479-e69e-45f8-9f47-e3e018829397')\"\n",
              "            title=\"Suggest charts.\"\n",
              "            style=\"display:none;\">\n",
              "\n",
              "<svg xmlns=\"http://www.w3.org/2000/svg\" height=\"24px\"viewBox=\"0 0 24 24\"\n",
              "     width=\"24px\">\n",
              "    <g>\n",
              "        <path d=\"M19 3H5c-1.1 0-2 .9-2 2v14c0 1.1.9 2 2 2h14c1.1 0 2-.9 2-2V5c0-1.1-.9-2-2-2zM9 17H7v-7h2v7zm4 0h-2V7h2v10zm4 0h-2v-4h2v4z\"/>\n",
              "    </g>\n",
              "</svg>\n",
              "  </button>\n",
              "\n",
              "<style>\n",
              "  .colab-df-quickchart {\n",
              "      --bg-color: #E8F0FE;\n",
              "      --fill-color: #1967D2;\n",
              "      --hover-bg-color: #E2EBFA;\n",
              "      --hover-fill-color: #174EA6;\n",
              "      --disabled-fill-color: #AAA;\n",
              "      --disabled-bg-color: #DDD;\n",
              "  }\n",
              "\n",
              "  [theme=dark] .colab-df-quickchart {\n",
              "      --bg-color: #3B4455;\n",
              "      --fill-color: #D2E3FC;\n",
              "      --hover-bg-color: #434B5C;\n",
              "      --hover-fill-color: #FFFFFF;\n",
              "      --disabled-bg-color: #3B4455;\n",
              "      --disabled-fill-color: #666;\n",
              "  }\n",
              "\n",
              "  .colab-df-quickchart {\n",
              "    background-color: var(--bg-color);\n",
              "    border: none;\n",
              "    border-radius: 50%;\n",
              "    cursor: pointer;\n",
              "    display: none;\n",
              "    fill: var(--fill-color);\n",
              "    height: 32px;\n",
              "    padding: 0;\n",
              "    width: 32px;\n",
              "  }\n",
              "\n",
              "  .colab-df-quickchart:hover {\n",
              "    background-color: var(--hover-bg-color);\n",
              "    box-shadow: 0 1px 2px rgba(60, 64, 67, 0.3), 0 1px 3px 1px rgba(60, 64, 67, 0.15);\n",
              "    fill: var(--button-hover-fill-color);\n",
              "  }\n",
              "\n",
              "  .colab-df-quickchart-complete:disabled,\n",
              "  .colab-df-quickchart-complete:disabled:hover {\n",
              "    background-color: var(--disabled-bg-color);\n",
              "    fill: var(--disabled-fill-color);\n",
              "    box-shadow: none;\n",
              "  }\n",
              "\n",
              "  .colab-df-spinner {\n",
              "    border: 2px solid var(--fill-color);\n",
              "    border-color: transparent;\n",
              "    border-bottom-color: var(--fill-color);\n",
              "    animation:\n",
              "      spin 1s steps(1) infinite;\n",
              "  }\n",
              "\n",
              "  @keyframes spin {\n",
              "    0% {\n",
              "      border-color: transparent;\n",
              "      border-bottom-color: var(--fill-color);\n",
              "      border-left-color: var(--fill-color);\n",
              "    }\n",
              "    20% {\n",
              "      border-color: transparent;\n",
              "      border-left-color: var(--fill-color);\n",
              "      border-top-color: var(--fill-color);\n",
              "    }\n",
              "    30% {\n",
              "      border-color: transparent;\n",
              "      border-left-color: var(--fill-color);\n",
              "      border-top-color: var(--fill-color);\n",
              "      border-right-color: var(--fill-color);\n",
              "    }\n",
              "    40% {\n",
              "      border-color: transparent;\n",
              "      border-right-color: var(--fill-color);\n",
              "      border-top-color: var(--fill-color);\n",
              "    }\n",
              "    60% {\n",
              "      border-color: transparent;\n",
              "      border-right-color: var(--fill-color);\n",
              "    }\n",
              "    80% {\n",
              "      border-color: transparent;\n",
              "      border-right-color: var(--fill-color);\n",
              "      border-bottom-color: var(--fill-color);\n",
              "    }\n",
              "    90% {\n",
              "      border-color: transparent;\n",
              "      border-bottom-color: var(--fill-color);\n",
              "    }\n",
              "  }\n",
              "</style>\n",
              "\n",
              "  <script>\n",
              "    async function quickchart(key) {\n",
              "      const quickchartButtonEl =\n",
              "        document.querySelector('#' + key + ' button');\n",
              "      quickchartButtonEl.disabled = true;  // To prevent multiple clicks.\n",
              "      quickchartButtonEl.classList.add('colab-df-spinner');\n",
              "      try {\n",
              "        const charts = await google.colab.kernel.invokeFunction(\n",
              "            'suggestCharts', [key], {});\n",
              "      } catch (error) {\n",
              "        console.error('Error during call to suggestCharts:', error);\n",
              "      }\n",
              "      quickchartButtonEl.classList.remove('colab-df-spinner');\n",
              "      quickchartButtonEl.classList.add('colab-df-quickchart-complete');\n",
              "    }\n",
              "    (() => {\n",
              "      let quickchartButtonEl =\n",
              "        document.querySelector('#df-cfdbb479-e69e-45f8-9f47-e3e018829397 button');\n",
              "      quickchartButtonEl.style.display =\n",
              "        google.colab.kernel.accessAllowed ? 'block' : 'none';\n",
              "    })();\n",
              "  </script>\n",
              "</div>\n",
              "\n",
              "    </div>\n",
              "  </div>\n"
            ]
          },
          "metadata": {},
          "execution_count": 33
        }
      ]
    },
    {
      "cell_type": "code",
      "source": [
        "# checking number of rows and structure:\n",
        "print(\"ROWS:\", len(histories_df))\n",
        "print(histories_df[\"symbol\"].value_counts())"
      ],
      "metadata": {
        "colab": {
          "base_uri": "https://localhost:8080/"
        },
        "id": "4O2EcIDqgSu6",
        "outputId": "0be0fefa-abe9-4084-f3ad-6eb1334a92c8"
      },
      "execution_count": 34,
      "outputs": [
        {
          "output_type": "stream",
          "name": "stdout",
          "text": [
            "ROWS: 2030\n",
            "AAPL     203\n",
            "GOOGL    203\n",
            "META     203\n",
            "MSFT     203\n",
            "NFLX     203\n",
            "AMZN     203\n",
            "NVDA     203\n",
            "BAC      203\n",
            "JPM      203\n",
            "SPY      203\n",
            "Name: symbol, dtype: int64\n"
          ]
        }
      ]
    },
    {
      "cell_type": "code",
      "source": [
        "# quick check for null values (because in theory, some stocks may have different history lengths, for example recent IPO vs older company)\n",
        "nulls_count = histories_df[\"adjclose\"].isnull().sum()\n",
        "assert nulls_count == 0 #> 0 ok looks good. can proceed without concern for nulls"
      ],
      "metadata": {
        "id": "VHnuYmlMrEwx"
      },
      "execution_count": 35,
      "outputs": []
    },
    {
      "cell_type": "code",
      "source": [
        "import plotly.express as px\n",
        "\n",
        "# quick chart of the market (this chart df shouldn't need to be used for anything else later, just here for charting purposes)\n",
        "# filtering because right now data is row per symbol per date, so we'd have many different rows for the same date unless we choose just a single symbol\n",
        "chart_df = histories_df[histories_df[\"symbol\"] == \"SPY\"]\n",
        "px.line(chart_df, y=\"adjclose\", x=\"date\", title=\"Market (SPY)\", height=350,\n",
        "        labels={\"date\": \"Date\", \"adjclose\": \"Adjusted Close\"}\n",
        ")"
      ],
      "metadata": {
        "colab": {
          "base_uri": "https://localhost:8080/",
          "height": 367
        },
        "id": "fTjZRA450_-i",
        "outputId": "12bec02f-766f-41ee-9830-af43bd3f2d11"
      },
      "execution_count": 36,
      "outputs": [
        {
          "output_type": "display_data",
          "data": {
            "text/html": [
              "<html>\n",
              "<head><meta charset=\"utf-8\" /></head>\n",
              "<body>\n",
              "    <div>            <script src=\"https://cdnjs.cloudflare.com/ajax/libs/mathjax/2.7.5/MathJax.js?config=TeX-AMS-MML_SVG\"></script><script type=\"text/javascript\">if (window.MathJax && window.MathJax.Hub && window.MathJax.Hub.Config) {window.MathJax.Hub.Config({SVG: {font: \"STIX-Web\"}});}</script>                <script type=\"text/javascript\">window.PlotlyConfig = {MathJaxConfig: 'local'};</script>\n",
              "        <script charset=\"utf-8\" src=\"https://cdn.plot.ly/plotly-2.24.1.min.js\"></script>                <div id=\"c44d2341-d70c-4b62-947a-c07fc7035350\" class=\"plotly-graph-div\" style=\"height:350px; width:100%;\"></div>            <script type=\"text/javascript\">                                    window.PLOTLYENV=window.PLOTLYENV || {};                                    if (document.getElementById(\"c44d2341-d70c-4b62-947a-c07fc7035350\")) {                    Plotly.newPlot(                        \"c44d2341-d70c-4b62-947a-c07fc7035350\",                        [{\"hovertemplate\":\"Date=%{x}\\u003cbr\\u003eAdjusted Close=%{y}\\u003cextra\\u003e\\u003c\\u002fextra\\u003e\",\"legendgroup\":\"\",\"line\":{\"color\":\"#636efa\",\"dash\":\"solid\"},\"marker\":{\"symbol\":\"circle\"},\"mode\":\"lines\",\"name\":\"\",\"orientation\":\"v\",\"showlegend\":false,\"x\":[\"2023-01-02\",\"2023-01-03\",\"2023-01-04\",\"2023-01-05\",\"2023-01-08\",\"2023-01-09\",\"2023-01-10\",\"2023-01-11\",\"2023-01-12\",\"2023-01-16\",\"2023-01-17\",\"2023-01-18\",\"2023-01-19\",\"2023-01-22\",\"2023-01-23\",\"2023-01-24\",\"2023-01-25\",\"2023-01-26\",\"2023-01-29\",\"2023-01-30\",\"2023-01-31\",\"2023-02-01\",\"2023-02-02\",\"2023-02-05\",\"2023-02-06\",\"2023-02-07\",\"2023-02-08\",\"2023-02-09\",\"2023-02-12\",\"2023-02-13\",\"2023-02-14\",\"2023-02-15\",\"2023-02-16\",\"2023-02-20\",\"2023-02-21\",\"2023-02-22\",\"2023-02-23\",\"2023-02-26\",\"2023-02-27\",\"2023-02-28\",\"2023-03-01\",\"2023-03-02\",\"2023-03-05\",\"2023-03-06\",\"2023-03-07\",\"2023-03-08\",\"2023-03-09\",\"2023-03-12\",\"2023-03-13\",\"2023-03-14\",\"2023-03-15\",\"2023-03-16\",\"2023-03-19\",\"2023-03-20\",\"2023-03-21\",\"2023-03-22\",\"2023-03-23\",\"2023-03-26\",\"2023-03-27\",\"2023-03-28\",\"2023-03-29\",\"2023-03-30\",\"2023-04-02\",\"2023-04-03\",\"2023-04-04\",\"2023-04-05\",\"2023-04-09\",\"2023-04-10\",\"2023-04-11\",\"2023-04-12\",\"2023-04-13\",\"2023-04-16\",\"2023-04-17\",\"2023-04-18\",\"2023-04-19\",\"2023-04-20\",\"2023-04-23\",\"2023-04-24\",\"2023-04-25\",\"2023-04-26\",\"2023-04-27\",\"2023-04-30\",\"2023-05-01\",\"2023-05-02\",\"2023-05-03\",\"2023-05-04\",\"2023-05-07\",\"2023-05-08\",\"2023-05-09\",\"2023-05-10\",\"2023-05-11\",\"2023-05-14\",\"2023-05-15\",\"2023-05-16\",\"2023-05-17\",\"2023-05-18\",\"2023-05-21\",\"2023-05-22\",\"2023-05-23\",\"2023-05-24\",\"2023-05-25\",\"2023-05-29\",\"2023-05-30\",\"2023-05-31\",\"2023-06-01\",\"2023-06-04\",\"2023-06-05\",\"2023-06-06\",\"2023-06-07\",\"2023-06-08\",\"2023-06-11\",\"2023-06-12\",\"2023-06-13\",\"2023-06-14\",\"2023-06-15\",\"2023-06-19\",\"2023-06-20\",\"2023-06-21\",\"2023-06-22\",\"2023-06-25\",\"2023-06-26\",\"2023-06-27\",\"2023-06-28\",\"2023-06-29\",\"2023-07-02\",\"2023-07-04\",\"2023-07-05\",\"2023-07-06\",\"2023-07-09\",\"2023-07-10\",\"2023-07-11\",\"2023-07-12\",\"2023-07-13\",\"2023-07-16\",\"2023-07-17\",\"2023-07-18\",\"2023-07-19\",\"2023-07-20\",\"2023-07-23\",\"2023-07-24\",\"2023-07-25\",\"2023-07-26\",\"2023-07-27\",\"2023-07-30\",\"2023-07-31\",\"2023-08-01\",\"2023-08-02\",\"2023-08-03\",\"2023-08-06\",\"2023-08-07\",\"2023-08-08\",\"2023-08-09\",\"2023-08-10\",\"2023-08-13\",\"2023-08-14\",\"2023-08-15\",\"2023-08-16\",\"2023-08-17\",\"2023-08-20\",\"2023-08-21\",\"2023-08-22\",\"2023-08-23\",\"2023-08-24\",\"2023-08-27\",\"2023-08-28\",\"2023-08-29\",\"2023-08-30\",\"2023-08-31\",\"2023-09-04\",\"2023-09-05\",\"2023-09-06\",\"2023-09-07\",\"2023-09-10\",\"2023-09-11\",\"2023-09-12\",\"2023-09-13\",\"2023-09-14\",\"2023-09-17\",\"2023-09-18\",\"2023-09-19\",\"2023-09-20\",\"2023-09-21\",\"2023-09-24\",\"2023-09-25\",\"2023-09-26\",\"2023-09-27\",\"2023-09-28\",\"2023-10-01\",\"2023-10-02\",\"2023-10-03\",\"2023-10-04\",\"2023-10-05\",\"2023-10-08\",\"2023-10-09\",\"2023-10-10\",\"2023-10-11\",\"2023-10-12\",\"2023-10-15\",\"2023-10-16\",\"2023-10-17\",\"2023-10-18\",\"2023-10-19\",\"2023-10-22\"],\"xaxis\":\"x\",\"y\":[376.63958740234375,379.5473327636719,375.2154235839844,383.81988525390625,383.6022644042969,386.29241943359375,391.17816162109375,392.6023864746094,394.1255187988281,393.40350341796875,387.19244384765625,384.3737487792969,391.5342712402344,396.23211669921875,395.8068542480469,395.9552001953125,400.306884765625,401.2266845703125,396.19256591796875,402.0179138183594,406.29046630859375,412.204833984375,407.823486328125,405.33111572265625,410.6322937011719,406.1421203613281,402.6211853027344,403.560791015625,408.29815673828125,408.11029052734375,409.4355773925781,403.7981262207031,402.7893371582031,394.70904541015625,394.1650695800781,396.2618103027344,392.0287780761719,393.36395263671875,391.9101257324219,390.4067687988281,393.4430847167969,399.7530517578125,400.0299377441406,393.89801025390625,394.5408935546875,387.2616882324219,381.6737060546875,381.1297302246094,387.4298095703125,385.0067138671875,391.76171875,387.18096923828125,390.9039611816406,396.0367126464844,389.28570556640625,390.33807373046875,392.8995056152344,393.6341552734375,392.7505798339844,398.4591369628906,400.792236328125,406.4412536621094,407.9900207519531,405.7264709472656,404.6641540527344,406.2427062988281,406.65966796875,406.76885986328125,405.11090087890625,410.49188232421875,409.4891357421875,410.95849609375,411.2265319824219,411.15704345703125,408.913330078125,409.23101806640625,409.6579284667969,403.15509033203125,401.44744873046875,409.4394836425781,412.9341125488281,412.5171813964844,407.8808288574219,405.08111572265625,402.2119445800781,409.6579284667969,409.76708984375,407.97015380859375,409.8763427734375,409.1614990234375,408.6253967285156,410.03515625,407.2950439453125,412.23919677734375,416.21038818359375,415.6047668457031,415.7735595703125,411.107421875,408.1289978027344,411.6633605957031,416.9946594238281,417.1535339355469,414.84033203125,418.78173828125,424.8377990722656,424.0237121582031,424.9469909667969,423.4776306152344,426.0390930175781,426.8034973144531,430.6754150390625,433.51483154296875,434.03106689453125,439.41204833984375,437.9153137207031,435.6433410644531,433.4112243652344,434.9757080078125,431.6872863769531,429.92352294921875,434.63690185546875,434.85614013671875,436.5700378417969,441.7218933105469,442.2301025390625,441.5724182128906,438.1146240234375,437.0085144042969,438.1146240234375,440.9047546386719,444.4522399902344,447.9798278808594,447.7008056640625,449.25531005859375,452.5935363769531,453.6000061035156,450.5906066894531,450.5906066894531,452.603515625,453.8391418457031,453.9089050292969,450.8995056152344,455.31396484375,456.180908203125,454.8755187988281,448.5478210449219,447.2623596191406,445.2394714355469,449.1257629394531,447.17266845703125,444.1832275390625,444.3426513671875,444.08355712890625,446.534912109375,441.3332824707031,438.0946960449219,434.7564697265625,434.9657287597656,437.7957458496094,436.60992431640625,441.4727783203125,435.3543701171875,438.42352294921875,441.2037353515625,447.58123779296875,449.42474365234375,448.7670593261719,449.6040954589844,447.66094970703125,444.65155029296875,443.286376953125,443.9540100097656,446.8737487792969,444.42236328125,444.9405517578125,448.7770080566406,443.3699951171875,443.6300048828125,442.7099914550781,438.6400146484375,431.3900146484375,430.4200134277344,432.2300109863281,425.8800048828125,426.04998779296875,428.5199890136719,427.4800109863281,427.30999755859375,421.5899963378906,424.6600036621094,424.5,429.5400085449219,432.2900085449219,434.5400085449219,436.32000732421875,433.6600036621094,431.5,436.0400085449219,436.0199890136719,430.2099914550781,426.42999267578125,421.19000244140625,420.4599914550781],\"yaxis\":\"y\",\"type\":\"scatter\"}],                        {\"template\":{\"data\":{\"histogram2dcontour\":[{\"type\":\"histogram2dcontour\",\"colorbar\":{\"outlinewidth\":0,\"ticks\":\"\"},\"colorscale\":[[0.0,\"#0d0887\"],[0.1111111111111111,\"#46039f\"],[0.2222222222222222,\"#7201a8\"],[0.3333333333333333,\"#9c179e\"],[0.4444444444444444,\"#bd3786\"],[0.5555555555555556,\"#d8576b\"],[0.6666666666666666,\"#ed7953\"],[0.7777777777777778,\"#fb9f3a\"],[0.8888888888888888,\"#fdca26\"],[1.0,\"#f0f921\"]]}],\"choropleth\":[{\"type\":\"choropleth\",\"colorbar\":{\"outlinewidth\":0,\"ticks\":\"\"}}],\"histogram2d\":[{\"type\":\"histogram2d\",\"colorbar\":{\"outlinewidth\":0,\"ticks\":\"\"},\"colorscale\":[[0.0,\"#0d0887\"],[0.1111111111111111,\"#46039f\"],[0.2222222222222222,\"#7201a8\"],[0.3333333333333333,\"#9c179e\"],[0.4444444444444444,\"#bd3786\"],[0.5555555555555556,\"#d8576b\"],[0.6666666666666666,\"#ed7953\"],[0.7777777777777778,\"#fb9f3a\"],[0.8888888888888888,\"#fdca26\"],[1.0,\"#f0f921\"]]}],\"heatmap\":[{\"type\":\"heatmap\",\"colorbar\":{\"outlinewidth\":0,\"ticks\":\"\"},\"colorscale\":[[0.0,\"#0d0887\"],[0.1111111111111111,\"#46039f\"],[0.2222222222222222,\"#7201a8\"],[0.3333333333333333,\"#9c179e\"],[0.4444444444444444,\"#bd3786\"],[0.5555555555555556,\"#d8576b\"],[0.6666666666666666,\"#ed7953\"],[0.7777777777777778,\"#fb9f3a\"],[0.8888888888888888,\"#fdca26\"],[1.0,\"#f0f921\"]]}],\"heatmapgl\":[{\"type\":\"heatmapgl\",\"colorbar\":{\"outlinewidth\":0,\"ticks\":\"\"},\"colorscale\":[[0.0,\"#0d0887\"],[0.1111111111111111,\"#46039f\"],[0.2222222222222222,\"#7201a8\"],[0.3333333333333333,\"#9c179e\"],[0.4444444444444444,\"#bd3786\"],[0.5555555555555556,\"#d8576b\"],[0.6666666666666666,\"#ed7953\"],[0.7777777777777778,\"#fb9f3a\"],[0.8888888888888888,\"#fdca26\"],[1.0,\"#f0f921\"]]}],\"contourcarpet\":[{\"type\":\"contourcarpet\",\"colorbar\":{\"outlinewidth\":0,\"ticks\":\"\"}}],\"contour\":[{\"type\":\"contour\",\"colorbar\":{\"outlinewidth\":0,\"ticks\":\"\"},\"colorscale\":[[0.0,\"#0d0887\"],[0.1111111111111111,\"#46039f\"],[0.2222222222222222,\"#7201a8\"],[0.3333333333333333,\"#9c179e\"],[0.4444444444444444,\"#bd3786\"],[0.5555555555555556,\"#d8576b\"],[0.6666666666666666,\"#ed7953\"],[0.7777777777777778,\"#fb9f3a\"],[0.8888888888888888,\"#fdca26\"],[1.0,\"#f0f921\"]]}],\"surface\":[{\"type\":\"surface\",\"colorbar\":{\"outlinewidth\":0,\"ticks\":\"\"},\"colorscale\":[[0.0,\"#0d0887\"],[0.1111111111111111,\"#46039f\"],[0.2222222222222222,\"#7201a8\"],[0.3333333333333333,\"#9c179e\"],[0.4444444444444444,\"#bd3786\"],[0.5555555555555556,\"#d8576b\"],[0.6666666666666666,\"#ed7953\"],[0.7777777777777778,\"#fb9f3a\"],[0.8888888888888888,\"#fdca26\"],[1.0,\"#f0f921\"]]}],\"mesh3d\":[{\"type\":\"mesh3d\",\"colorbar\":{\"outlinewidth\":0,\"ticks\":\"\"}}],\"scatter\":[{\"fillpattern\":{\"fillmode\":\"overlay\",\"size\":10,\"solidity\":0.2},\"type\":\"scatter\"}],\"parcoords\":[{\"type\":\"parcoords\",\"line\":{\"colorbar\":{\"outlinewidth\":0,\"ticks\":\"\"}}}],\"scatterpolargl\":[{\"type\":\"scatterpolargl\",\"marker\":{\"colorbar\":{\"outlinewidth\":0,\"ticks\":\"\"}}}],\"bar\":[{\"error_x\":{\"color\":\"#2a3f5f\"},\"error_y\":{\"color\":\"#2a3f5f\"},\"marker\":{\"line\":{\"color\":\"#E5ECF6\",\"width\":0.5},\"pattern\":{\"fillmode\":\"overlay\",\"size\":10,\"solidity\":0.2}},\"type\":\"bar\"}],\"scattergeo\":[{\"type\":\"scattergeo\",\"marker\":{\"colorbar\":{\"outlinewidth\":0,\"ticks\":\"\"}}}],\"scatterpolar\":[{\"type\":\"scatterpolar\",\"marker\":{\"colorbar\":{\"outlinewidth\":0,\"ticks\":\"\"}}}],\"histogram\":[{\"marker\":{\"pattern\":{\"fillmode\":\"overlay\",\"size\":10,\"solidity\":0.2}},\"type\":\"histogram\"}],\"scattergl\":[{\"type\":\"scattergl\",\"marker\":{\"colorbar\":{\"outlinewidth\":0,\"ticks\":\"\"}}}],\"scatter3d\":[{\"type\":\"scatter3d\",\"line\":{\"colorbar\":{\"outlinewidth\":0,\"ticks\":\"\"}},\"marker\":{\"colorbar\":{\"outlinewidth\":0,\"ticks\":\"\"}}}],\"scattermapbox\":[{\"type\":\"scattermapbox\",\"marker\":{\"colorbar\":{\"outlinewidth\":0,\"ticks\":\"\"}}}],\"scatterternary\":[{\"type\":\"scatterternary\",\"marker\":{\"colorbar\":{\"outlinewidth\":0,\"ticks\":\"\"}}}],\"scattercarpet\":[{\"type\":\"scattercarpet\",\"marker\":{\"colorbar\":{\"outlinewidth\":0,\"ticks\":\"\"}}}],\"carpet\":[{\"aaxis\":{\"endlinecolor\":\"#2a3f5f\",\"gridcolor\":\"white\",\"linecolor\":\"white\",\"minorgridcolor\":\"white\",\"startlinecolor\":\"#2a3f5f\"},\"baxis\":{\"endlinecolor\":\"#2a3f5f\",\"gridcolor\":\"white\",\"linecolor\":\"white\",\"minorgridcolor\":\"white\",\"startlinecolor\":\"#2a3f5f\"},\"type\":\"carpet\"}],\"table\":[{\"cells\":{\"fill\":{\"color\":\"#EBF0F8\"},\"line\":{\"color\":\"white\"}},\"header\":{\"fill\":{\"color\":\"#C8D4E3\"},\"line\":{\"color\":\"white\"}},\"type\":\"table\"}],\"barpolar\":[{\"marker\":{\"line\":{\"color\":\"#E5ECF6\",\"width\":0.5},\"pattern\":{\"fillmode\":\"overlay\",\"size\":10,\"solidity\":0.2}},\"type\":\"barpolar\"}],\"pie\":[{\"automargin\":true,\"type\":\"pie\"}]},\"layout\":{\"autotypenumbers\":\"strict\",\"colorway\":[\"#636efa\",\"#EF553B\",\"#00cc96\",\"#ab63fa\",\"#FFA15A\",\"#19d3f3\",\"#FF6692\",\"#B6E880\",\"#FF97FF\",\"#FECB52\"],\"font\":{\"color\":\"#2a3f5f\"},\"hovermode\":\"closest\",\"hoverlabel\":{\"align\":\"left\"},\"paper_bgcolor\":\"white\",\"plot_bgcolor\":\"#E5ECF6\",\"polar\":{\"bgcolor\":\"#E5ECF6\",\"angularaxis\":{\"gridcolor\":\"white\",\"linecolor\":\"white\",\"ticks\":\"\"},\"radialaxis\":{\"gridcolor\":\"white\",\"linecolor\":\"white\",\"ticks\":\"\"}},\"ternary\":{\"bgcolor\":\"#E5ECF6\",\"aaxis\":{\"gridcolor\":\"white\",\"linecolor\":\"white\",\"ticks\":\"\"},\"baxis\":{\"gridcolor\":\"white\",\"linecolor\":\"white\",\"ticks\":\"\"},\"caxis\":{\"gridcolor\":\"white\",\"linecolor\":\"white\",\"ticks\":\"\"}},\"coloraxis\":{\"colorbar\":{\"outlinewidth\":0,\"ticks\":\"\"}},\"colorscale\":{\"sequential\":[[0.0,\"#0d0887\"],[0.1111111111111111,\"#46039f\"],[0.2222222222222222,\"#7201a8\"],[0.3333333333333333,\"#9c179e\"],[0.4444444444444444,\"#bd3786\"],[0.5555555555555556,\"#d8576b\"],[0.6666666666666666,\"#ed7953\"],[0.7777777777777778,\"#fb9f3a\"],[0.8888888888888888,\"#fdca26\"],[1.0,\"#f0f921\"]],\"sequentialminus\":[[0.0,\"#0d0887\"],[0.1111111111111111,\"#46039f\"],[0.2222222222222222,\"#7201a8\"],[0.3333333333333333,\"#9c179e\"],[0.4444444444444444,\"#bd3786\"],[0.5555555555555556,\"#d8576b\"],[0.6666666666666666,\"#ed7953\"],[0.7777777777777778,\"#fb9f3a\"],[0.8888888888888888,\"#fdca26\"],[1.0,\"#f0f921\"]],\"diverging\":[[0,\"#8e0152\"],[0.1,\"#c51b7d\"],[0.2,\"#de77ae\"],[0.3,\"#f1b6da\"],[0.4,\"#fde0ef\"],[0.5,\"#f7f7f7\"],[0.6,\"#e6f5d0\"],[0.7,\"#b8e186\"],[0.8,\"#7fbc41\"],[0.9,\"#4d9221\"],[1,\"#276419\"]]},\"xaxis\":{\"gridcolor\":\"white\",\"linecolor\":\"white\",\"ticks\":\"\",\"title\":{\"standoff\":15},\"zerolinecolor\":\"white\",\"automargin\":true,\"zerolinewidth\":2},\"yaxis\":{\"gridcolor\":\"white\",\"linecolor\":\"white\",\"ticks\":\"\",\"title\":{\"standoff\":15},\"zerolinecolor\":\"white\",\"automargin\":true,\"zerolinewidth\":2},\"scene\":{\"xaxis\":{\"backgroundcolor\":\"#E5ECF6\",\"gridcolor\":\"white\",\"linecolor\":\"white\",\"showbackground\":true,\"ticks\":\"\",\"zerolinecolor\":\"white\",\"gridwidth\":2},\"yaxis\":{\"backgroundcolor\":\"#E5ECF6\",\"gridcolor\":\"white\",\"linecolor\":\"white\",\"showbackground\":true,\"ticks\":\"\",\"zerolinecolor\":\"white\",\"gridwidth\":2},\"zaxis\":{\"backgroundcolor\":\"#E5ECF6\",\"gridcolor\":\"white\",\"linecolor\":\"white\",\"showbackground\":true,\"ticks\":\"\",\"zerolinecolor\":\"white\",\"gridwidth\":2}},\"shapedefaults\":{\"line\":{\"color\":\"#2a3f5f\"}},\"annotationdefaults\":{\"arrowcolor\":\"#2a3f5f\",\"arrowhead\":0,\"arrowwidth\":1},\"geo\":{\"bgcolor\":\"white\",\"landcolor\":\"#E5ECF6\",\"subunitcolor\":\"white\",\"showland\":true,\"showlakes\":true,\"lakecolor\":\"white\"},\"title\":{\"x\":0.05},\"mapbox\":{\"style\":\"light\"}}},\"xaxis\":{\"anchor\":\"y\",\"domain\":[0.0,1.0],\"title\":{\"text\":\"Date\"}},\"yaxis\":{\"anchor\":\"x\",\"domain\":[0.0,1.0],\"title\":{\"text\":\"Adjusted Close\"}},\"legend\":{\"tracegroupgap\":0},\"title\":{\"text\":\"Market (SPY)\"},\"height\":350},                        {\"responsive\": true}                    ).then(function(){\n",
              "                            \n",
              "var gd = document.getElementById('c44d2341-d70c-4b62-947a-c07fc7035350');\n",
              "var x = new MutationObserver(function (mutations, observer) {{\n",
              "        var display = window.getComputedStyle(gd).display;\n",
              "        if (!display || display === 'none') {{\n",
              "            console.log([gd, 'removed!']);\n",
              "            Plotly.purge(gd);\n",
              "            observer.disconnect();\n",
              "        }}\n",
              "}});\n",
              "\n",
              "// Listen for the removal of the full notebook cells\n",
              "var notebookContainer = gd.closest('#notebook-container');\n",
              "if (notebookContainer) {{\n",
              "    x.observe(notebookContainer, {childList: true});\n",
              "}}\n",
              "\n",
              "// Listen for the clearing of the current output cell\n",
              "var outputEl = gd.closest('.output');\n",
              "if (outputEl) {{\n",
              "    x.observe(outputEl, {childList: true});\n",
              "}}\n",
              "\n",
              "                        })                };                            </script>        </div>\n",
              "</body>\n",
              "</html>"
            ]
          },
          "metadata": {}
        }
      ]
    },
    {
      "cell_type": "markdown",
      "source": [
        "### Part 2: Restructuring the Data\n"
      ],
      "metadata": {
        "id": "rgMTPYnq_Brp"
      }
    },
    {
      "cell_type": "markdown",
      "source": [
        "\n",
        "\n",
        "\n",
        "Use the `histories_df` dataframe provided in Part 1, which is structured as: a row per stock symbol per date.\n",
        "\n",
        "Manipulate the data to format it instead as: a row per date, with a column per symbol, and corresponding cell values of the closing price for that symbol on that day (see example table, below). Store this new dataframe in a variable called `prices_pivot`.\n",
        "\n",
        "> HINT: use the [`DataFrame.pivot()` function](https://pandas.pydata.org/docs/reference/api/pandas.DataFrame.pivot.html) or another pivot-based approach\n",
        "\n",
        "\n",
        "<img width=\"1218\" alt=\"Screenshot 2023-10-23 at 6 27 04 PM\" src=\"https://github.com/prof-rossetti/intro-to-python/assets/1328807/ec3dd0f4-0049-40e4-a624-eedd29003846\">\n",
        "\n",
        "\n",
        "Questions:\n",
        "\n",
        "  + 2-A) How many trading days (i.e. rows) are in the provided data?\n",
        "  + 2-B) What is the earliest date and latest date in the provided data?\n",
        "  + 2-C) For each stock: print the symbol, as well as that stock's minimum, maximum, and mean price.\n"
      ],
      "metadata": {
        "id": "ZXiRbUN4sPUC"
      }
    },
    {
      "cell_type": "code",
      "source": [],
      "metadata": {
        "id": "D0kgL5e8j0bY"
      },
      "execution_count": 36,
      "outputs": []
    },
    {
      "cell_type": "code",
      "source": [],
      "metadata": {
        "id": "QtMDK94Yj0VX"
      },
      "execution_count": 36,
      "outputs": []
    },
    {
      "cell_type": "code",
      "source": [],
      "metadata": {
        "id": "_Vr7lJGdj0Ph"
      },
      "execution_count": 36,
      "outputs": []
    },
    {
      "cell_type": "code",
      "source": [],
      "metadata": {
        "id": "uOcVvuc3j0IF"
      },
      "execution_count": 36,
      "outputs": []
    },
    {
      "cell_type": "code",
      "source": [],
      "metadata": {
        "id": "HZKdkd3Rjz82"
      },
      "execution_count": 36,
      "outputs": []
    },
    {
      "cell_type": "markdown",
      "source": [
        "### Part 3: Daily Returns"
      ],
      "metadata": {
        "id": "sT1hiO5x-qdq"
      }
    },
    {
      "cell_type": "markdown",
      "source": [
        "Each stock price is different, but we want to compare their performance, so let's compare them in relative terms.\n",
        "\n",
        "Process the `prices_pivot` from Part 2, to calculate each stock's percent change in price since the previous day (see example table below). Store this new dataframe in a variable called `returns_df`.\n",
        "\n",
        "> HINT: consider an approach that loops through the `all_symbols` variable, and creates a new returns column for each symbol\n",
        "\n",
        "> HINT: leverage the [`DataFrame.pct_change()` function](https://pandas.pydata.org/docs/reference/api/pandas.DataFrame.pct_change.html), as demonstrated in the professor's \"Pandas Package Overview Mega Notebook\"\n",
        "\n",
        "> NOTE: returns for each stock on the first / earliest day should be 0.0\n",
        "\n",
        "<img width=\"1223\" alt=\"Screenshot 2023-10-24 at 12 47 02 AM\" src=\"https://github.com/prof-rossetti/intro-to-python/assets/1328807/7ea0fa1c-7254-46f5-b08f-a64084ebf06d\">\n",
        "\n",
        "Questions:\n",
        "\n",
        "  + 3-A) For each stock: print the symbol, as well as that stock's minimum, maximum, and mean daily returns. Also print the standard deviation of returns.\n",
        "\n",
        "  + 3-B) Consider standard deviation of returns as a measure of how much a given stock may vary over time, and thus a basic measure of risk. Which stocks' returns have the highest (and lowest) standard deviations?\n"
      ],
      "metadata": {
        "id": "rFYuTL6R-sS7"
      }
    },
    {
      "cell_type": "code",
      "source": [],
      "metadata": {
        "id": "y8V7FO7e_nSP"
      },
      "execution_count": 36,
      "outputs": []
    },
    {
      "cell_type": "code",
      "source": [],
      "metadata": {
        "id": "TYi7Uz8V_nHZ"
      },
      "execution_count": 36,
      "outputs": []
    },
    {
      "cell_type": "code",
      "source": [],
      "metadata": {
        "id": "gpt2p7NS_m3p"
      },
      "execution_count": 36,
      "outputs": []
    },
    {
      "cell_type": "code",
      "source": [],
      "metadata": {
        "id": "9fjS9zdY_myE"
      },
      "execution_count": 36,
      "outputs": []
    },
    {
      "cell_type": "code",
      "source": [],
      "metadata": {
        "id": "LhoNBtYd_mrH"
      },
      "execution_count": 36,
      "outputs": []
    },
    {
      "cell_type": "markdown",
      "source": [
        "### Part 4: Cumulative Growth\n",
        "\n",
        "Process the `prices_pivot` from Part 2, to calculate each stock's cumulative growth in prices since the earliest provided date (see example table below). Store this new dataframe in a variable called `growth_df`.\n",
        "\n",
        "> HINT: consider an approach that loops through the `all_symbols` variable, and creates a new growth column for each symbol\n",
        "\n",
        "> HINT: leverage the [`DataFrame.cumprod()` function](https://pandas.pydata.org/docs/reference/api/pandas.DataFrame.cumprod.html), as demonstrated in the professor's \"Pandas Package Overview Mega Notebook\"\n",
        "\n",
        "> NOTE: growth for each stock on the first / earliest day should be 1.0\n",
        "\n",
        "\n",
        "<img width=\"1288\" alt=\"Screenshot 2023-10-23 at 6 27 20 PM\" src=\"https://github.com/prof-rossetti/intro-to-python/assets/1328807/9ba9f25d-e6e1-48f3-a599-e813d078a85c\">\n",
        "\n",
        "\n",
        "Then plot the cumulative growth for all the stocks and the market on the same graph (see example plot below).\n",
        "\n",
        "<img width=\"1306\" alt=\"Screenshot 2023-10-23 at 6 27 32 PM\" src=\"https://github.com/prof-rossetti/intro-to-python/assets/1328807/f04bc8a2-d7b8-4d58-90e4-3b3ff056d223\">\n",
        "\n",
        "\n",
        "Questions:\n",
        "\n",
        "  + 4-A) Which company has the highest cumulative growth since the beginning of the period?\n",
        "  + 4-B) Which companies have performed better (or worse) than the market (\"SPY\") over this period?\n",
        "\n",
        "\n"
      ],
      "metadata": {
        "id": "m-POVW3Fr2ye"
      }
    },
    {
      "cell_type": "code",
      "source": [],
      "metadata": {
        "id": "osQPe6jPj3Ad"
      },
      "execution_count": 36,
      "outputs": []
    },
    {
      "cell_type": "code",
      "source": [],
      "metadata": {
        "id": "U0UH2s1Pj28c"
      },
      "execution_count": 36,
      "outputs": []
    },
    {
      "cell_type": "code",
      "source": [],
      "metadata": {
        "id": "dnIPedFoj20X"
      },
      "execution_count": 36,
      "outputs": []
    },
    {
      "cell_type": "code",
      "source": [],
      "metadata": {
        "id": "q24iUKvWj2vb"
      },
      "execution_count": 36,
      "outputs": []
    },
    {
      "cell_type": "code",
      "source": [],
      "metadata": {
        "id": "KdVcQzakj2ri"
      },
      "execution_count": 36,
      "outputs": []
    },
    {
      "cell_type": "markdown",
      "source": [
        "### Part 5: Correlation"
      ],
      "metadata": {
        "id": "4mJHNVSWvxo9"
      }
    },
    {
      "cell_type": "markdown",
      "source": [
        "Use the `returns_df` from Part 3 to calculate the Spearman correlation between each pair of stocks.\n",
        "\n",
        "> HINT: use the [`DataFrame.corr()` function](https://pandas.pydata.org/docs/reference/api/pandas.DataFrame.corr.html)\n",
        "\n",
        "Then plot this correlation matrix as a heatmap (see example plot below).\n",
        "\n",
        "<img width=\"639\" alt=\"Screenshot 2023-10-24 at 1 00 42 AM\" src=\"https://github.com/prof-rossetti/intro-to-python/assets/1328807/1c040530-6923-48de-9a02-d8a9a3352373\">\n",
        "\n",
        "Questions:\n",
        "\n",
        "  + 5-A) The correlation matrix has all 1.0 values on the main diagonal. What does this mean?\n",
        "\n",
        "  + 5-B) Which pair or pairs of companies are most positively (and negatively) correlated with eachother?\n",
        "\n",
        "  + 5-C) Which companies are most positively (and negatively) correlated with the market?\n",
        "\n",
        "  + 5-D) Choose one of the stocks from your analysis. If you own that stock, which other stock from your analysis should you consider buying if you want to hedge your risk?\n"
      ],
      "metadata": {
        "id": "yQnRkR8SwgU6"
      }
    },
    {
      "cell_type": "code",
      "source": [],
      "metadata": {
        "id": "8Cx0b2Vsr1-a"
      },
      "execution_count": 36,
      "outputs": []
    },
    {
      "cell_type": "code",
      "source": [],
      "metadata": {
        "id": "Bi44Xt-Gj475"
      },
      "execution_count": 36,
      "outputs": []
    },
    {
      "cell_type": "code",
      "source": [],
      "metadata": {
        "id": "yOwy2Xv_j4z7"
      },
      "execution_count": 36,
      "outputs": []
    },
    {
      "cell_type": "code",
      "source": [],
      "metadata": {
        "id": "v6d4RfC5j4m3"
      },
      "execution_count": 36,
      "outputs": []
    },
    {
      "cell_type": "code",
      "source": [],
      "metadata": {
        "id": "OSSq9xqMj4em"
      },
      "execution_count": 36,
      "outputs": []
    },
    {
      "cell_type": "markdown",
      "source": [
        "## Further Exploration"
      ],
      "metadata": {
        "id": "zUBJUK8jx-bR"
      }
    },
    {
      "cell_type": "markdown",
      "source": [
        "### Part 6: Calculating Beta to the Market (Optional)\n",
        "\n",
        "Optionally tackle this further exploration challenge, related to calculating beta to the market.\n",
        "\n",
        "\n"
      ],
      "metadata": {
        "id": "vEcvOQRKxvyF"
      }
    },
    {
      "cell_type": "markdown",
      "source": [
        "#### Understanding Beta"
      ],
      "metadata": {
        "id": "Rf78pRdhcdz1"
      }
    },
    {
      "cell_type": "markdown",
      "source": [
        "https://www.investopedia.com/ask/answers/070615/what-formula-calculating-beta.asp\n",
        "\n",
        "\n",
        "> Beta is a measure used in fundamental analysis to determine the volatility of an asset or portfolio in relation to the overall market. The overall market has a beta of 1.0, and individual stocks are ranked according to how much they deviate from the market.\n",
        "\n",
        "> A stock that swings more than the market over time has a beta greater than 1.0. If a stock moves less than the market, the stock's beta is less than 1.0. High-beta stocks tend to be riskier but provide the potential for higher returns. Low-beta stocks pose less risk but typically yield lower returns.\n",
        "\n",
        "> As a result, beta is often used as a risk-reward measure, meaning it helps investors determine how much risk they are willing to take to achieve the return for taking on that risk. A stock's price variability is important to consider when assessing risk. If you think of risk as the possibility of a stock losing its value, beta is useful as a proxy for risk.\n",
        "\n"
      ],
      "metadata": {
        "id": "-xssFL-wclr2"
      }
    },
    {
      "cell_type": "markdown",
      "source": [
        "> To calculate the beta of a security, the covariance between the return of the security and the return of the market must be known, as well as the variance of the market returns.\n",
        "\n"
      ],
      "metadata": {
        "id": "AgGv1ZV8i9ha"
      }
    },
    {
      "cell_type": "markdown",
      "source": [
        "\\begin{align}\n",
        "        Beta = \\frac{Covariance} {Variance}\n",
        "\\end{align}\n",
        "\n",
        "\n",
        "\n",
        "Where:\n",
        "  + Covariance = Measure of a stock's return relative to that of the market\n",
        "  + Variance = Measure of how the market moves relative to its mean\n"
      ],
      "metadata": {
        "id": "95p3aXUdj6eN"
      }
    },
    {
      "cell_type": "markdown",
      "source": [
        "> **Covariance** measures how two stocks move together. A positive covariance means the stocks tend to move together when their prices go up or down. A negative covariance means the stocks move opposite of each other.\n",
        "\n",
        "> **Variance**, on the other hand, refers to how far a stock moves relative to its mean. For example, variance is used in measuring the volatility of an individual stock's price over time. Covariance is used to measure the correlation in price moves of two different stocks.\n",
        "\n",
        "> The formula for calculating beta is the covariance of the return of an asset with the return of the benchmark, divided by the variance of the return of the benchmark over a certain period."
      ],
      "metadata": {
        "id": "BYD00zMqjW9Q"
      }
    },
    {
      "cell_type": "markdown",
      "source": [
        "#### Calculating Beta"
      ],
      "metadata": {
        "id": "A7xfN5FRjArM"
      }
    },
    {
      "cell_type": "markdown",
      "source": [
        "\n",
        "We saw from the \"Understanding Beta\" section that we need to calculcate the variance of the market, as well as the covariance of each stock with respect to the market.\n",
        "\n",
        "Luckily pandas makes this easy."
      ],
      "metadata": {
        "id": "j0abt7nfjDmu"
      }
    },
    {
      "cell_type": "markdown",
      "source": [
        "##### Variance"
      ],
      "metadata": {
        "id": "kleFbFrUkQqh"
      }
    },
    {
      "cell_type": "markdown",
      "source": [
        "https://www.investopedia.com/terms/v/variance.asp\n",
        "\n",
        "<img src=\"https://www.investopedia.com/thmb/_hIorwcVnDj-oKWhpTu_qnuUldM=/750x0/filters:no_upscale():max_bytes(150000):strip_icc():format(webp)/Variance-TAERM-ADD-Source-464952914f77460a8139dbf20e14f0c0.jpg\" height=300>\n",
        "\n",
        "> FYI: standard deviation is the square root of the variance!"
      ],
      "metadata": {
        "id": "vk9Xc_Jyke46"
      }
    },
    {
      "cell_type": "markdown",
      "source": [
        "https://pandas.pydata.org/docs/reference/api/pandas.DataFrame.var.html\n",
        "\n"
      ],
      "metadata": {
        "id": "mLCnC5MvkR3u"
      }
    },
    {
      "cell_type": "code",
      "source": [
        "#returns_df.var()"
      ],
      "metadata": {
        "id": "i9DLbUODenk7"
      },
      "execution_count": 37,
      "outputs": []
    },
    {
      "cell_type": "code",
      "source": [
        "#returns_df.std() ** 2 # squaring the standard deviation, is equivalent to the variance"
      ],
      "metadata": {
        "id": "_0jNOB-i-wrD"
      },
      "execution_count": 38,
      "outputs": []
    },
    {
      "cell_type": "markdown",
      "source": [
        "##### Covariance\n",
        "\n",
        "https://pandas.pydata.org/docs/reference/api/pandas.DataFrame.cov.html\n",
        "\n",
        "> Computes the pairwise covariance among the series of a DataFrame. The returned data frame is the covariance matrix of the columns of the DataFrame.\n",
        "\n",
        "> This method is generally used for the analysis of time series data to understand the relationship between different measures across time."
      ],
      "metadata": {
        "id": "g9pNN3vCdHi9"
      }
    },
    {
      "cell_type": "code",
      "source": [
        "#cov_mat = returns_df.cov()\n",
        "#cov_mat"
      ],
      "metadata": {
        "id": "b470XJF9cj6F"
      },
      "execution_count": 39,
      "outputs": []
    },
    {
      "cell_type": "markdown",
      "source": [
        "If we want to calculate the covariance of \"this with respect to that\", we can access the specific value from this matrix. For example, the covariance of NFLX with respect to the market:"
      ],
      "metadata": {
        "id": "vr-dqJ5S_AUT"
      }
    },
    {
      "cell_type": "code",
      "source": [
        "# if we have well defined index and columns, we can use the loc method and specify the name of the row, then the name of the column\n",
        "# ... df.loc[row_name, col_name]\n",
        "\n",
        "#cov_mat.loc[\"NFLX_returns\", \"SPY_returns\"]"
      ],
      "metadata": {
        "id": "3Ob9Yo4wckRA"
      },
      "execution_count": 40,
      "outputs": []
    },
    {
      "cell_type": "markdown",
      "source": [
        "##### Beta"
      ],
      "metadata": {
        "id": "XuNvINFFibec"
      }
    },
    {
      "cell_type": "markdown",
      "source": [
        "Calculating beta to the market (choose your own symbol as desired):"
      ],
      "metadata": {
        "id": "mfxcknsJAnMU"
      }
    },
    {
      "cell_type": "code",
      "source": [
        "## calculating beta to market for a given company:\n",
        "#symbol = \"NVDA\"\n",
        "#\n",
        "## get covariance between this stock and the market\n",
        "#cov_mat = returns_df.cov()\n",
        "#cov = cov_mat.loc[symbol + \"_returns\", \"SPY_returns\"] # using loc method to access a given [row, col] combo\n",
        "#print(f\"COVARIANCE OF {symbol} WITH RESPECT TO THE MARKET:\", cov)"
      ],
      "metadata": {
        "id": "itSsqXduidAR"
      },
      "execution_count": 41,
      "outputs": []
    },
    {
      "cell_type": "code",
      "source": [
        "#var = returns_df[\"SPY_returns\"].var()\n",
        "#print(f\"VARIANCE OF THE MARKET:\", var)"
      ],
      "metadata": {
        "id": "R_nHtTF1RBmO"
      },
      "execution_count": 42,
      "outputs": []
    },
    {
      "cell_type": "code",
      "source": [
        "#beta = cov / var\n",
        "#print(f\"BETA OF {symbol} WITH RESPECT TO THE MARKET:\", round(beta,3))"
      ],
      "metadata": {
        "id": "ErxhU967RKkE"
      },
      "execution_count": 43,
      "outputs": []
    },
    {
      "cell_type": "markdown",
      "source": [
        "https://www.investopedia.com/investing/beta-gauging-price-fluctuations/\n",
        "\n",
        "Questions:\n",
        "\n",
        "  + 6-A) How can we interpret this beta value? What does it tell us about the company's stock, and the risk involved?"
      ],
      "metadata": {
        "id": "LdiOoeAnRbYl"
      }
    }
  ]
}