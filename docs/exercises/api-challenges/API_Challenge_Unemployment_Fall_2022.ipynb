{
  "nbformat": 4,
  "nbformat_minor": 0,
  "metadata": {
    "colab": {
      "provenance": [],
      "collapsed_sections": []
    },
    "kernelspec": {
      "name": "python3",
      "display_name": "Python 3"
    },
    "language_info": {
      "name": "python"
    }
  },
  "cells": [
    {
      "cell_type": "markdown",
      "source": [
        "# Prerequisites\n",
        "\n",
        "Obtain an [AlphaVantage API Key](https://www.alphavantage.co/support/#api-key). A normal key should be fine, but alternatively you can use one of the prof's \"premium\" keys.  "
      ],
      "metadata": {
        "id": "4YR2GYMrQTNj"
      }
    },
    {
      "cell_type": "markdown",
      "source": [
        "# Instructions\n",
        "\n",
        "\n",
        "  1. Read the docs for the [AlphaVantage API](https://www.alphavantage.co/documentation/).\n",
        "  2. Find the endpoint and corresponding URL for requesting **unemployment data**.\n",
        "  3. Make an example request in the browser, to verify the data is there and start to visually inspect its structure.\n",
        "  4. Make the request programmatically via Python.\n",
        "  5. Parse the response data, to answer the questions below.\n",
        "\n",
        "\n",
        "\n",
        "> NOTE: Remember to run the setup cell before you try to make a request. This will help you keep your secret credentials safe!!!! \n",
        "\n",
        "\n",
        "**Further Exploration:**\n",
        "\n",
        "After answering the questions using JSON formatted data, also answer the same questsions, but this time using CSV formatted data.\n",
        "\n",
        "> HINT: modify your request URL to specify the `datatype` parameter (see the unemployment endpoint docs)\n",
        "\n",
        "> HINT: [filtering dataframe by substring](https://stackoverflow.com/questions/11350770/filter-pandas-dataframe-by-substring-criteria)\n"
      ],
      "metadata": {
        "id": "wH7dSuZ2QKwb"
      }
    },
    {
      "cell_type": "markdown",
      "source": [
        "# Challenges\n",
        "\n",
        "**Challenge A**\n",
        "\n",
        "What is the most recent unemployment rate? And the corresponding date? Display the unemployment rate using a percent sign.\n",
        "\n",
        "> NOTE: assume the most recent data is first (i.e. no need to sort, although it may be helpful / safe to do so)\n",
        "\n",
        "> HINT: use a format string or string concat to help with the percent sign display \n",
        "\n",
        "\n",
        "**Challenge B**\n",
        "\n",
        "What is the average unemployment rate for all months during this calendar year? How many months are included?\n",
        "\n",
        "> HINT: use a filtering operation to get only the datapoints we care about. You could maybe use substring inclusion in your filter condition.\n",
        "\n",
        "> HINT: you might need to convert the string values to float datatype\n",
        "\n",
        "**Challenge C**\n",
        "\n",
        "Plot a line chart of unemployment rates over time.\n",
        "\n",
        "> HINT: use the [plotly package](https://github.com/prof-rossetti/intro-to-python/blob/main/notes/python/packages/plotly.md)!\n",
        "\n",
        "> HINT: you might need to convert the string values to float datatype\n"
      ],
      "metadata": {
        "id": "MZWGwHbxSMxr"
      }
    },
    {
      "cell_type": "markdown",
      "source": [
        "# Setup"
      ],
      "metadata": {
        "id": "uSh-06AJRQ99"
      }
    },
    {
      "cell_type": "code",
      "source": [
        "from getpass import getpass\n",
        "\n",
        "API_KEY = getpass(\"Please input your AlphaVantage API Key: \") \n"
      ],
      "metadata": {
        "colab": {
          "base_uri": "https://localhost:8080/"
        },
        "id": "QteioJ7jRNrY",
        "outputId": "6ff56ad4-52df-49e2-9f6c-c9c6132ae217"
      },
      "execution_count": 8,
      "outputs": [
        {
          "name": "stdout",
          "output_type": "stream",
          "text": [
            "Please input your AlphaVantage API Key: ··········\n"
          ]
        }
      ]
    },
    {
      "cell_type": "markdown",
      "source": [
        "# Solution (JSON)"
      ],
      "metadata": {
        "id": "xtQT5Ar3RD4S"
      }
    },
    {
      "cell_type": "code",
      "execution_count": 1,
      "metadata": {
        "id": "NZn081W3QGIL"
      },
      "outputs": [],
      "source": []
    },
    {
      "cell_type": "code",
      "source": [],
      "metadata": {
        "id": "zizE3xRMrvUS"
      },
      "execution_count": 1,
      "outputs": []
    },
    {
      "cell_type": "code",
      "source": [
        "# Challenge A\n",
        "#\n",
        "# What is the most recent unemployment rate? And the corresponding date? \n",
        "# Display the unemployment rate using a percent sign.\n",
        "\n",
        "\n"
      ],
      "metadata": {
        "id": "9lSkbGRKbpz4"
      },
      "execution_count": 2,
      "outputs": []
    },
    {
      "cell_type": "code",
      "source": [
        "\n",
        "# Challenge B\n",
        "# \n",
        "# What is the average unemployment rate for all months during this calendar year?\n",
        "# ... How many months does this cover?\n",
        "\n",
        "\n"
      ],
      "metadata": {
        "id": "-WZklXHscjYf"
      },
      "execution_count": 3,
      "outputs": []
    },
    {
      "cell_type": "code",
      "source": [
        "# Challenge C\n",
        "# \n",
        "# Plot a line chart of unemployment rates over time.\n",
        "\n"
      ],
      "metadata": {
        "id": "aPuHMNI8dKYF"
      },
      "execution_count": 4,
      "outputs": []
    },
    {
      "cell_type": "markdown",
      "source": [
        "# Solution (CSV)"
      ],
      "metadata": {
        "id": "exiy28iSsdq0"
      }
    },
    {
      "cell_type": "code",
      "source": [],
      "metadata": {
        "id": "jRTl2w8asfdq"
      },
      "execution_count": 4,
      "outputs": []
    },
    {
      "cell_type": "code",
      "source": [
        "# Challenge A\n",
        "#\n",
        "# What is the most recent unemployment rate? And the corresponding date? \n",
        "# Display the unemployment rate using a percent sign.\n",
        "\n",
        "\n"
      ],
      "metadata": {
        "id": "7VL55UdCst2d"
      },
      "execution_count": 5,
      "outputs": []
    },
    {
      "cell_type": "code",
      "source": [
        "\n",
        "# Challenge B\n",
        "# \n",
        "# What is the average unemployment rate for all months during this calendar year?\n",
        "# ... How many months does this cover?\n",
        "\n",
        "# https://stackoverflow.com/questions/11350770/filter-pandas-dataframe-by-substring-criteria\n",
        "\n"
      ],
      "metadata": {
        "id": "OtKGrNvos96e"
      },
      "execution_count": 6,
      "outputs": []
    },
    {
      "cell_type": "code",
      "source": [
        "# Challenge C\n",
        "# \n",
        "# Plot a line chart of unemployment rates over time.\n",
        "\n",
        "\n",
        "\n"
      ],
      "metadata": {
        "id": "cqzOGsuYuIuT"
      },
      "execution_count": 7,
      "outputs": []
    }
  ]
}