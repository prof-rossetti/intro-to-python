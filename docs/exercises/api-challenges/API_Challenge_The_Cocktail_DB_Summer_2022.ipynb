{
  "nbformat": 4,
  "nbformat_minor": 0,
  "metadata": {
    "colab": {
      "provenance": []
    },
    "kernelspec": {
      "name": "python3",
      "display_name": "Python 3"
    },
    "language_info": {
      "name": "python"
    }
  },
  "cells": [
    {
      "cell_type": "markdown",
      "source": [
        "# Instructions\n",
        "\n",
        "  1. Read the docs for the [Cocktail DB API](https://www.thecocktaildb.com/api.php).\n",
        "  2. Find the URL for requesting **non-alcoholic beverages**, from the docs.\n",
        "  3. Make an example request in the browser, to verify the data is there and start to visually inspect its structure.\n",
        "  4. Make the request programmatically via Python.\n",
        "  5. Parse the response data, to answer the questions below.\n",
        "\n",
        "\n"
      ],
      "metadata": {
        "id": "Z7MXMoI9gKMz"
      }
    },
    {
      "cell_type": "markdown",
      "source": [
        "## Setup / Displaying Images in Colab\n",
        "\n",
        "The code cell below provides an example of how to display images in a Colab notebook. Run the cell to see the images!\n",
        "\n",
        "If you are asked to display images later, you can feel free to adapt this code to suit your purpose.\n",
        "\n",
        "For more info, see the `IPython` Package Docs:\n",
        "  + [`IPython.display.Image`](https://ipython.readthedocs.io/en/stable/api/generated/IPython.display.html#IPython.display.Image)\n",
        "  + [`IPython.display.display`](https://ipython.readthedocs.io/en/stable/api/generated/IPython.display.html#IPython.display.DisplayHandle.display)\n"
      ],
      "metadata": {
        "id": "tK2CFAD7hEci"
      }
    },
    {
      "cell_type": "code",
      "source": [
        "\n",
        "#\n",
        "# SETUP CELL \n",
        "# ... leave this cell as-is\n",
        "# ... run this cell to display some example images, and feel free to reference the code later\n",
        "#\n",
        "\n",
        "from IPython.display import Image, display \n",
        "\n",
        "print(\"-----------\")\n",
        "print(\"EXAMPLE IMAGES:\")\n",
        "\n",
        "print(\"-----------\")\n",
        "image_url = \"https://upload.wikimedia.org/wikipedia/commons/thumb/9/9f/Georgetown_Hoyas_logo.svg/64px-Georgetown_Hoyas_logo.svg.png\"\n",
        "#image_url = \"https://yt3.ggpht.com/-RZYi5isxH_M/AAAAAAAAAAI/AAAAAAAAAAA/rmWpoe2qZzI/s900-c-k-no/photo.jpg\"\n",
        "display(Image(url=image_url, height=100))\n",
        "\n",
        "print(\"-----------\")\n",
        "display(Image(url=\"https://www.python.org/static/community_logos/python-powered-w-200x80.png\"))\n",
        "\n",
        "print(\"-----------\")\n",
        "display(Image(url=\"https://www.thecocktaildb.com/images/cocktail_left.png\", height=100))"
      ],
      "metadata": {
        "colab": {
          "base_uri": "https://localhost:8080/",
          "height": 398
        },
        "id": "S5c_CyVvg9KX",
        "outputId": "d9dbf63e-8edf-4b17-ffea-9467af2af648"
      },
      "execution_count": null,
      "outputs": [
        {
          "output_type": "stream",
          "name": "stdout",
          "text": [
            "-----------\n",
            "EXAMPLE IMAGES:\n",
            "-----------\n"
          ]
        },
        {
          "output_type": "display_data",
          "data": {
            "text/plain": [
              "<IPython.core.display.Image object>"
            ],
            "text/html": [
              "<img src=\"https://upload.wikimedia.org/wikipedia/commons/thumb/9/9f/Georgetown_Hoyas_logo.svg/64px-Georgetown_Hoyas_logo.svg.png\" height=\"100\"/>"
            ]
          },
          "metadata": {}
        },
        {
          "output_type": "stream",
          "name": "stdout",
          "text": [
            "-----------\n"
          ]
        },
        {
          "output_type": "display_data",
          "data": {
            "text/plain": [
              "<IPython.core.display.Image object>"
            ],
            "text/html": [
              "<img src=\"https://www.python.org/static/community_logos/python-powered-w-200x80.png\"/>"
            ]
          },
          "metadata": {}
        },
        {
          "output_type": "stream",
          "name": "stdout",
          "text": [
            "-----------\n"
          ]
        },
        {
          "output_type": "display_data",
          "data": {
            "text/plain": [
              "<IPython.core.display.Image object>"
            ],
            "text/html": [
              "<img src=\"https://www.thecocktaildb.com/images/cocktail_left.png\" height=\"100\"/>"
            ]
          },
          "metadata": {}
        }
      ]
    },
    {
      "cell_type": "markdown",
      "source": [
        "# Questions\n",
        "\n",
        "A) Print the **number of non-alcoholic drinks** (i.e. 58)\n",
        "    \n",
        "B) Loop through each drink and **print the drink name**, each on a new line (i.e. \"Afterglow\" then \"Alice Cocktail\", then \"Aloha Fruit punch\", etc.).\n",
        "\n",
        "C) In the same loop, in addition to printing the drink's name, also **display an image of the drink**. HINT: consult the example in the setup cell."
      ],
      "metadata": {
        "id": "1zIx828ihMNU"
      }
    },
    {
      "cell_type": "code",
      "source": [],
      "metadata": {
        "id": "vO1R475qhPtO"
      },
      "execution_count": null,
      "outputs": []
    },
    {
      "cell_type": "code",
      "source": [],
      "metadata": {
        "id": "BVLzIZqYhPp2"
      },
      "execution_count": null,
      "outputs": []
    },
    {
      "cell_type": "code",
      "source": [],
      "metadata": {
        "id": "sz_OWc2uhPnb"
      },
      "execution_count": null,
      "outputs": []
    },
    {
      "cell_type": "code",
      "source": [],
      "metadata": {
        "id": "_Xi4M4xshPlJ"
      },
      "execution_count": null,
      "outputs": []
    }
  ]
}