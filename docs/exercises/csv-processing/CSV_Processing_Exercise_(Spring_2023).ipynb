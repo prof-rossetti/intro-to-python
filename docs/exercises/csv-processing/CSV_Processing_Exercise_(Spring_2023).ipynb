{
  "nbformat": 4,
  "nbformat_minor": 0,
  "metadata": {
    "colab": {
      "provenance": [],
      "authorship_tag": "ABX9TyNStFrl1QPSvNoZTir7DGFt",
      "include_colab_link": true
    },
    "kernelspec": {
      "name": "python3",
      "display_name": "Python 3"
    }
  },
  "cells": [
    {
      "cell_type": "markdown",
      "metadata": {
        "id": "view-in-github",
        "colab_type": "text"
      },
      "source": [
        "<a href=\"https://colab.research.google.com/github/prof-rossetti/intro-to-python/blob/main/exercises/csv-processing/CSV_Processing_Exercise_(Spring_2023).ipynb\" target=\"_parent\"><img src=\"https://colab.research.google.com/assets/colab-badge.svg\" alt=\"Open In Colab\"/></a>"
      ]
    },
    {
      "cell_type": "markdown",
      "metadata": {
        "id": "wbaQ4VhP0UKx"
      },
      "source": [
        "# Instructions\n",
        "\n",
        "Each of these challenges provides a different CSV formatted dataset. Write Python code to process each file and answer the respective questions about the data contained within.\n"
      ]
    },
    {
      "cell_type": "markdown",
      "metadata": {
        "id": "YCUuLa2J0RHU"
      },
      "source": [
        "\n",
        "# References\n",
        "\n",
        "You will find the following reference material directly helpful in completing this exercise.\n",
        "\n",
        "Working with CSV files:\n",
        "\n",
        "  + [`pandas.read_csv()`](https://pandas.pydata.org/pandas-docs/stable/reference/api/pandas.read_csv.html)\n",
        "  + [`pandas.DataFrame`](https://pandas.pydata.org/pandas-docs/stable/reference/api/pandas.DataFrame.html):\n",
        "    + [`pandas.DataFrame.iterrows()`](https://pandas.pydata.org/pandas-docs/stable/reference/api/pandas.DataFrame.iterrows.html)\n",
        "    + [`pandas.DataFrame.groupby()`](https://pandas.pydata.org/pandas-docs/stable/reference/api/pandas.DataFrame.groupby.html)\n",
        "  + [`pandas.Series`](https://pandas.pydata.org/pandas-docs/stable/reference/api/pandas.Series.html):\n",
        "    + [`pandas.Series.map()`](https://pandas.pydata.org/pandas-docs/stable/reference/api/pandas.Series.map.html)\n",
        "    + [`pandas.Series.value_counts()`](https://pandas.pydata.org/pandas-docs/stable/reference/api/pandas.Series.value_counts.html)\n",
        "  + [`pandas.pivot_table()`](https://pandas.pydata.org/docs/reference/api/pandas.pivot_table.html)\n",
        "\n",
        "\n",
        "\n",
        "    \n",
        "\n",
        "\n"
      ]
    },
    {
      "cell_type": "markdown",
      "source": [
        "# Challenges"
      ],
      "metadata": {
        "id": "sibPuGCWALm-"
      }
    },
    {
      "cell_type": "markdown",
      "metadata": {
        "id": "5b06VpNVE4C5"
      },
      "source": [
        "## Challenge 1 (Gradebook)"
      ]
    },
    {
      "cell_type": "markdown",
      "metadata": {
        "id": "20nwP1b_FNGe"
      },
      "source": [
        "\n",
        "Given the provided \"gradebook.csv\" file, write Python code to read the CSV data and perform each of the following tasks...\n",
        "\n",
        "A) Print the **column names** (i.e. `['student_id', 'final_grade']`).\n",
        "\n",
        "B) Print the **number of students** / rows (i.e. `10`).\n",
        "\n",
        "C) Print the **average grade** (i.e. `83.64`).\n",
        "\n",
        "D) Print the **median grade** (i.e. ` 87.6`).\n",
        "\n",
        "E) Create another column on the DataFrame called \"letter_grade\", and use a custom function to assign each numeric score a corresponding **letter grade**.\n",
        "\n",
        "> HINT: use the Series object's `apply()` or `map()` method\n",
        "\n",
        "\n",
        "F) Print the **percentage of students who got each letter grade**.\n",
        "\n",
        "> HINT: use the Series object's `value_counts()` method"
      ]
    },
    {
      "cell_type": "code",
      "source": [
        "from pandas import read_csv\n",
        "\n",
        "#\n",
        "# GRADEBOOK\n",
        "#\n",
        "\n",
        "#df = read_csv(\"gradebook.csv\")\n",
        "df = read_csv(\"https://raw.githubusercontent.com/prof-rossetti/intro-to-python/master/data/gradebook.csv\")\n",
        "\n",
        "print(df.head())"
      ],
      "metadata": {
        "colab": {
          "base_uri": "https://localhost:8080/"
        },
        "id": "BDgxuJH3QRTm",
        "outputId": "a810e646-4c0b-483a-b2e3-e22d6a4b7bad"
      },
      "execution_count": null,
      "outputs": [
        {
          "output_type": "stream",
          "name": "stdout",
          "text": [
            "   student_id  final_grade\n",
            "0           1         76.7\n",
            "1           2         85.1\n",
            "2           3         50.3\n",
            "3           4         89.8\n",
            "4           5         97.4\n"
          ]
        }
      ]
    },
    {
      "cell_type": "code",
      "source": [],
      "metadata": {
        "id": "Eh4nBhe8W9sm"
      },
      "execution_count": null,
      "outputs": []
    },
    {
      "cell_type": "code",
      "source": [],
      "metadata": {
        "id": "kte_0sExW9pu"
      },
      "execution_count": null,
      "outputs": []
    },
    {
      "cell_type": "code",
      "metadata": {
        "id": "2Xm_a4xF_Nwh",
        "colab": {
          "base_uri": "https://localhost:8080/"
        },
        "outputId": "c49a90c5-c02c-4f80-99a7-e834019aeb96"
      },
      "source": [
        "\n",
        "# HERE IS AN EXAMPLE FUNCTION TO USE FOR LETTER GRADE CONVERSION (FEEL FREE TO REVISE AS DESIRED)\n",
        "\n",
        "def calculate_grade(score):\n",
        "    if score >= 75.0:\n",
        "        grade = \"Pass\"\n",
        "    else:\n",
        "        grade = \"Fail\"\n",
        "    return grade\n",
        "\n",
        "\n",
        "# example invocations:\n",
        "print(calculate_grade(50))\n",
        "print(calculate_grade(90))"
      ],
      "execution_count": null,
      "outputs": [
        {
          "output_type": "stream",
          "name": "stdout",
          "text": [
            "Fail\n",
            "Pass\n"
          ]
        }
      ]
    },
    {
      "cell_type": "code",
      "source": [],
      "metadata": {
        "id": "Q0pwHNEZQU30"
      },
      "execution_count": null,
      "outputs": []
    },
    {
      "cell_type": "code",
      "source": [],
      "metadata": {
        "id": "jgLxWvtIVJiK"
      },
      "execution_count": null,
      "outputs": []
    },
    {
      "cell_type": "code",
      "source": [],
      "metadata": {
        "id": "J6B6VAQqW6Ii"
      },
      "execution_count": null,
      "outputs": []
    },
    {
      "cell_type": "code",
      "source": [],
      "metadata": {
        "id": "gxM_q1ZJW6GN"
      },
      "execution_count": null,
      "outputs": []
    },
    {
      "cell_type": "markdown",
      "metadata": {
        "id": "Erj3QCpkFBx0"
      },
      "source": [
        "## Challenge 2 (Products)\n",
        "\n",
        "Given the provided \"products.csv\" file, write Python code to read the CSV data and perform each of the following tasks...\n",
        "\n",
        "A) Print the **number of products** (rows) (i.e. `20`).\n",
        "\n",
        "B) Print the **columns** (i.e. `['id', 'name', 'aisle', 'department', 'price']`).\n",
        "\n",
        "B) Loop through each of the rows and **print the name and price of each product**. Use the provided `to_usd` function to format prices as USD with dollar sign and two decimal places.\n"
      ]
    },
    {
      "cell_type": "code",
      "metadata": {
        "id": "nGbRcwzl_ar0",
        "colab": {
          "base_uri": "https://localhost:8080/"
        },
        "outputId": "be82073f-4e85-424d-90c0-850c3d2f574a"
      },
      "source": [
        "\n",
        "# HERE IS A PRICE FORMATTING FUNCTION FOR YOU TO USE\n",
        "\n",
        "def to_usd(my_price):\n",
        "    \"\"\"\n",
        "        Converts a numeric value to USD-formatted string, for printing and display purposes.\n",
        "        Adds dollar sign and commas for the thousands separator.\n",
        "        Rounds to two decimal places. \n",
        "        \n",
        "        Param: my_price (int or float or str) like 4000.444444 or \"4000.444444\"\n",
        "        \n",
        "        Example: to_usd(4000.444444)\n",
        "        \n",
        "        Returns: $4,000.44\n",
        "    \"\"\"\n",
        "    return f\"${float(my_price):,.2f}\"\n",
        "\n",
        "\n",
        "# example invocations:\n",
        "print(to_usd(4.5))\n",
        "print(to_usd(1234567890.12345))"
      ],
      "execution_count": null,
      "outputs": [
        {
          "output_type": "stream",
          "name": "stdout",
          "text": [
            "$4.50\n",
            "$1,234,567,890.12\n"
          ]
        }
      ]
    },
    {
      "cell_type": "code",
      "metadata": {
        "id": "9XzkP4dG_m4l",
        "colab": {
          "base_uri": "https://localhost:8080/"
        },
        "outputId": "d4531398-1c81-4120-c129-29df264cbaef"
      },
      "source": [
        "#\n",
        "# PRODUCTS\n",
        "#\n",
        "\n",
        "from pandas import read_csv\n",
        "\n",
        "#df = read_csv(\"products.csv\")\n",
        "df = read_csv(\"https://raw.githubusercontent.com/prof-rossetti/intro-to-python/master/data/products.csv\")\n",
        "\n",
        "print(df.head())"
      ],
      "execution_count": null,
      "outputs": [
        {
          "output_type": "stream",
          "name": "stdout",
          "text": [
            "   id                                               name  \\\n",
            "0   1                         Chocolate Sandwich Cookies   \n",
            "1   2                                   All-Seasons Salt   \n",
            "2   3               Robust Golden Unsweetened Oolong Tea   \n",
            "3   4  Smart Ones Classic Favorites Mini Rigatoni Wit...   \n",
            "4   5                          Green Chile Anytime Sauce   \n",
            "\n",
            "                        aisle department  price  \n",
            "0               cookies cakes     snacks   3.50  \n",
            "1           spices seasonings     pantry   4.99  \n",
            "2                         tea  beverages   2.49  \n",
            "3                frozen meals     frozen   6.99  \n",
            "4  marinades meat preparation     pantry   7.99  \n"
          ]
        }
      ]
    },
    {
      "cell_type": "code",
      "source": [],
      "metadata": {
        "id": "05ExyBv3RRK3"
      },
      "execution_count": null,
      "outputs": []
    },
    {
      "cell_type": "code",
      "source": [],
      "metadata": {
        "id": "3rXQ8jQrVORa"
      },
      "execution_count": null,
      "outputs": []
    },
    {
      "cell_type": "code",
      "source": [],
      "metadata": {
        "id": "ra_su82lVOLD"
      },
      "execution_count": null,
      "outputs": []
    },
    {
      "cell_type": "markdown",
      "source": [
        "## Challenge 3 (Monthly Sales)"
      ],
      "metadata": {
        "id": "ZeG0Tijy_RDI"
      }
    },
    {
      "cell_type": "markdown",
      "source": [
        "\n",
        "Given the provided `sales_df` variable representing monthly retail sales, write Python code to read the CSV data and perform each of the following tasks...\n",
        "\n",
        "\n",
        "A) What is the **structure** of this data. In other words, we have a \"row per what?\" Describe your answer in words. \n",
        "\n",
        "\n",
        "B) How many **unique products** are sold (i.e. `7`), and what are their names? Print the list of unique products in alphabetical order (i.e. `['Baseball Cap', 'Brown Boots', 'Button-Down Shirt', 'Khaki Pants', 'Sticker Pack', 'Super Soft Hoodie', 'Vintage Logo Tee']`).\n",
        "\n",
        "C) Print the **total monthly sales**, formatted as USD (i.e. `\"$12,000.71\"`).\n",
        "\n",
        "\n",
        "D) Calculate the **total sales for each day**, and create a bar or line chart depicting the sales over time. Optionally  also print which five dates have the most sales.\n",
        "\n",
        "\n",
        "\n",
        "<img src=\"https://user-images.githubusercontent.com/1328807/211162483-1418bd1c-7e43-42bc-b2c4-b5c24e242f0a.png\" height=\"300\"/>\n",
        "\n",
        "\n",
        "\n",
        "\n",
        "E) Determine the **total sales for each product**, and create a horizontal bar chart to show the top selling products, with the bars sorted in descending order of their length.\n",
        "\n",
        "\n",
        "\n",
        "\n",
        "<img src=\"https://user-images.githubusercontent.com/1328807/211162481-07593a51-57f9-4bfd-ab14-f0878d8bc960.png\" height=\"300\"/>\n",
        "\n",
        "\n",
        "\n",
        "\n"
      ],
      "metadata": {
        "id": "28gXC34HMbX9"
      }
    },
    {
      "cell_type": "code",
      "source": [
        "#\n",
        "# MONTHLY SALES\n",
        "#\n",
        "\n",
        "month = \"201803\"\n",
        "sales_df = read_csv(f\"https://raw.githubusercontent.com/prof-rossetti/data-analytics-in-python/main/data/unit-2/monthly-sales/sales-{month}.csv\")\n",
        "sales_df.head()"
      ],
      "metadata": {
        "colab": {
          "base_uri": "https://localhost:8080/",
          "height": 206
        },
        "id": "lJeSWjfNAZdy",
        "outputId": "6590a2f2-ec76-459c-94f6-94c6390ad6b5"
      },
      "execution_count": null,
      "outputs": [
        {
          "output_type": "execute_result",
          "data": {
            "text/plain": [
              "         date            product  unit price  units sold  sales price\n",
              "0  2018-03-01  Button-Down Shirt       65.05           2       130.10\n",
              "1  2018-03-01   Vintage Logo Tee       15.95           1        15.95\n",
              "2  2018-03-01       Sticker Pack        4.50           1         4.50\n",
              "3  2018-03-02  Super Soft Hoodie       75.00           2       150.00\n",
              "4  2018-03-02  Button-Down Shirt       65.05           7       455.35"
            ],
            "text/html": [
              "\n",
              "  <div id=\"df-d1131601-ed8b-4277-8a46-51cf4baffed3\">\n",
              "    <div class=\"colab-df-container\">\n",
              "      <div>\n",
              "<style scoped>\n",
              "    .dataframe tbody tr th:only-of-type {\n",
              "        vertical-align: middle;\n",
              "    }\n",
              "\n",
              "    .dataframe tbody tr th {\n",
              "        vertical-align: top;\n",
              "    }\n",
              "\n",
              "    .dataframe thead th {\n",
              "        text-align: right;\n",
              "    }\n",
              "</style>\n",
              "<table border=\"1\" class=\"dataframe\">\n",
              "  <thead>\n",
              "    <tr style=\"text-align: right;\">\n",
              "      <th></th>\n",
              "      <th>date</th>\n",
              "      <th>product</th>\n",
              "      <th>unit price</th>\n",
              "      <th>units sold</th>\n",
              "      <th>sales price</th>\n",
              "    </tr>\n",
              "  </thead>\n",
              "  <tbody>\n",
              "    <tr>\n",
              "      <th>0</th>\n",
              "      <td>2018-03-01</td>\n",
              "      <td>Button-Down Shirt</td>\n",
              "      <td>65.05</td>\n",
              "      <td>2</td>\n",
              "      <td>130.10</td>\n",
              "    </tr>\n",
              "    <tr>\n",
              "      <th>1</th>\n",
              "      <td>2018-03-01</td>\n",
              "      <td>Vintage Logo Tee</td>\n",
              "      <td>15.95</td>\n",
              "      <td>1</td>\n",
              "      <td>15.95</td>\n",
              "    </tr>\n",
              "    <tr>\n",
              "      <th>2</th>\n",
              "      <td>2018-03-01</td>\n",
              "      <td>Sticker Pack</td>\n",
              "      <td>4.50</td>\n",
              "      <td>1</td>\n",
              "      <td>4.50</td>\n",
              "    </tr>\n",
              "    <tr>\n",
              "      <th>3</th>\n",
              "      <td>2018-03-02</td>\n",
              "      <td>Super Soft Hoodie</td>\n",
              "      <td>75.00</td>\n",
              "      <td>2</td>\n",
              "      <td>150.00</td>\n",
              "    </tr>\n",
              "    <tr>\n",
              "      <th>4</th>\n",
              "      <td>2018-03-02</td>\n",
              "      <td>Button-Down Shirt</td>\n",
              "      <td>65.05</td>\n",
              "      <td>7</td>\n",
              "      <td>455.35</td>\n",
              "    </tr>\n",
              "  </tbody>\n",
              "</table>\n",
              "</div>\n",
              "      <button class=\"colab-df-convert\" onclick=\"convertToInteractive('df-d1131601-ed8b-4277-8a46-51cf4baffed3')\"\n",
              "              title=\"Convert this dataframe to an interactive table.\"\n",
              "              style=\"display:none;\">\n",
              "        \n",
              "  <svg xmlns=\"http://www.w3.org/2000/svg\" height=\"24px\"viewBox=\"0 0 24 24\"\n",
              "       width=\"24px\">\n",
              "    <path d=\"M0 0h24v24H0V0z\" fill=\"none\"/>\n",
              "    <path d=\"M18.56 5.44l.94 2.06.94-2.06 2.06-.94-2.06-.94-.94-2.06-.94 2.06-2.06.94zm-11 1L8.5 8.5l.94-2.06 2.06-.94-2.06-.94L8.5 2.5l-.94 2.06-2.06.94zm10 10l.94 2.06.94-2.06 2.06-.94-2.06-.94-.94-2.06-.94 2.06-2.06.94z\"/><path d=\"M17.41 7.96l-1.37-1.37c-.4-.4-.92-.59-1.43-.59-.52 0-1.04.2-1.43.59L10.3 9.45l-7.72 7.72c-.78.78-.78 2.05 0 2.83L4 21.41c.39.39.9.59 1.41.59.51 0 1.02-.2 1.41-.59l7.78-7.78 2.81-2.81c.8-.78.8-2.07 0-2.86zM5.41 20L4 18.59l7.72-7.72 1.47 1.35L5.41 20z\"/>\n",
              "  </svg>\n",
              "      </button>\n",
              "      \n",
              "  <style>\n",
              "    .colab-df-container {\n",
              "      display:flex;\n",
              "      flex-wrap:wrap;\n",
              "      gap: 12px;\n",
              "    }\n",
              "\n",
              "    .colab-df-convert {\n",
              "      background-color: #E8F0FE;\n",
              "      border: none;\n",
              "      border-radius: 50%;\n",
              "      cursor: pointer;\n",
              "      display: none;\n",
              "      fill: #1967D2;\n",
              "      height: 32px;\n",
              "      padding: 0 0 0 0;\n",
              "      width: 32px;\n",
              "    }\n",
              "\n",
              "    .colab-df-convert:hover {\n",
              "      background-color: #E2EBFA;\n",
              "      box-shadow: 0px 1px 2px rgba(60, 64, 67, 0.3), 0px 1px 3px 1px rgba(60, 64, 67, 0.15);\n",
              "      fill: #174EA6;\n",
              "    }\n",
              "\n",
              "    [theme=dark] .colab-df-convert {\n",
              "      background-color: #3B4455;\n",
              "      fill: #D2E3FC;\n",
              "    }\n",
              "\n",
              "    [theme=dark] .colab-df-convert:hover {\n",
              "      background-color: #434B5C;\n",
              "      box-shadow: 0px 1px 3px 1px rgba(0, 0, 0, 0.15);\n",
              "      filter: drop-shadow(0px 1px 2px rgba(0, 0, 0, 0.3));\n",
              "      fill: #FFFFFF;\n",
              "    }\n",
              "  </style>\n",
              "\n",
              "      <script>\n",
              "        const buttonEl =\n",
              "          document.querySelector('#df-d1131601-ed8b-4277-8a46-51cf4baffed3 button.colab-df-convert');\n",
              "        buttonEl.style.display =\n",
              "          google.colab.kernel.accessAllowed ? 'block' : 'none';\n",
              "\n",
              "        async function convertToInteractive(key) {\n",
              "          const element = document.querySelector('#df-d1131601-ed8b-4277-8a46-51cf4baffed3');\n",
              "          const dataTable =\n",
              "            await google.colab.kernel.invokeFunction('convertToInteractive',\n",
              "                                                     [key], {});\n",
              "          if (!dataTable) return;\n",
              "\n",
              "          const docLinkHtml = 'Like what you see? Visit the ' +\n",
              "            '<a target=\"_blank\" href=https://colab.research.google.com/notebooks/data_table.ipynb>data table notebook</a>'\n",
              "            + ' to learn more about interactive tables.';\n",
              "          element.innerHTML = '';\n",
              "          dataTable['output_type'] = 'display_data';\n",
              "          await google.colab.output.renderOutput(dataTable, element);\n",
              "          const docLink = document.createElement('div');\n",
              "          docLink.innerHTML = docLinkHtml;\n",
              "          element.appendChild(docLink);\n",
              "        }\n",
              "      </script>\n",
              "    </div>\n",
              "  </div>\n",
              "  "
            ]
          },
          "metadata": {},
          "execution_count": 16
        }
      ]
    },
    {
      "cell_type": "markdown",
      "source": [
        "Answer for A (fill in blanks):\n",
        "\n",
        "Looks like we have a row per _____________ per __________."
      ],
      "metadata": {
        "id": "dVdjZ3rnPHPk"
      }
    },
    {
      "cell_type": "code",
      "source": [],
      "metadata": {
        "id": "Tka_YC9vMj-j"
      },
      "execution_count": null,
      "outputs": []
    },
    {
      "cell_type": "code",
      "source": [],
      "metadata": {
        "id": "LwlDQ93rSnQ3"
      },
      "execution_count": null,
      "outputs": []
    },
    {
      "cell_type": "code",
      "source": [],
      "metadata": {
        "id": "CkfKCXoNAp2g"
      },
      "execution_count": null,
      "outputs": []
    },
    {
      "cell_type": "code",
      "source": [],
      "metadata": {
        "id": "_zOxes9zLN1S"
      },
      "execution_count": null,
      "outputs": []
    },
    {
      "cell_type": "code",
      "source": [],
      "metadata": {
        "id": "mjzhvDGqBQ80"
      },
      "execution_count": null,
      "outputs": []
    },
    {
      "cell_type": "code",
      "source": [],
      "metadata": {
        "id": "jWLpl52HCCMZ"
      },
      "execution_count": null,
      "outputs": []
    },
    {
      "cell_type": "markdown",
      "metadata": {
        "id": "T3pog_lUEnH9"
      },
      "source": [
        "## Challenge 4 (Albums)"
      ]
    },
    {
      "cell_type": "markdown",
      "metadata": {
        "id": "p1YRvNq9D-0B"
      },
      "source": [
        "\n",
        "Given the provided \"albums.csv\" file, write Python code to read the CSV data and perform each of the following tasks...\n",
        "\n",
        "> artist_id | artist_name | album_id | album_title\n",
        "> --- | ---  | ---  | --- \n",
        "> 1 | AC/DC | 1 | For Those About To Rock We Salute You\n",
        "> 1 | AC/DC | 4 | Let There Be Rock\n",
        "> 3 | Aerosmith | 5 | Big Ones\n",
        "> 4 | Alanis Morissette | 6 | Jagged Little Pill\n",
        "> 68 | Miles Davis | 48 | The Essential Miles Davis [Disc 1]\n",
        "> 68 | Miles Davis | 49 | The Essential Miles Davis [Disc 2]\n",
        "> 59 | Santana | 197 | Santana - As Years Go By\n",
        "> 59 | Santana | 198 | Santana Live\n",
        "\n",
        "\n",
        "\n",
        "A) Print a list of the CSV file's **column names** (i.e. `['artist_id', 'artist_name', 'album_id', 'album_title']`).\n",
        "\n",
        "B) Print the **number of rows** in the CSV file, excluding the header row (i.e. `347`).\n",
        "\n",
        "C) Assuming each \"artist_id\" represents a unique artist, print the **number of unique artists** (i.e. `204`).\n",
        "\n",
        "D) Assuming each \"album_id\" represents a unique album, identify **which five artists have the most albums**, and print that artist's name and corresponding album count \n",
        "\n",
        "> FYI: the following table depicts the top five artists by album count...\n",
        ">\n",
        "> | artist_name   | album_count |\n",
        "> |---------------|----------|\n",
        "> | Iron Maiden   | 21       |\n",
        "> | Led Zeppelin  | 14       |\n",
        "> | Deep Purple   | 11       |\n",
        "> | Metallica     | 10       |\n",
        "> | U2            | 10       |\n",
        "\n",
        "\n"
      ]
    },
    {
      "cell_type": "code",
      "metadata": {
        "id": "QDzPKrLGdJZj",
        "colab": {
          "base_uri": "https://localhost:8080/"
        },
        "outputId": "3a3c2c95-a4e5-4a81-9374-e810b648fc4c"
      },
      "source": [
        "\n",
        "#\n",
        "# ALBUMS\n",
        "#\n",
        "\n",
        "df = read_csv(\"https://gist.githubusercontent.com/s2t2/f2b01347c06258cad28e7331f1e9320f/raw/b61ea33cd18aaadf885eb04544d921c9d9445e21/albums.csv\")\n",
        "print(df.head())"
      ],
      "execution_count": null,
      "outputs": [
        {
          "output_type": "stream",
          "name": "stdout",
          "text": [
            "   artist_id artist_name  album_id                            album_title\n",
            "0          1       AC/DC         1  For Those About To Rock We Salute You\n",
            "1          2      Accept         2                      Balls to the Wall\n",
            "2          2      Accept         3                      Restless and Wild\n",
            "3          1       AC/DC         4                      Let There Be Rock\n",
            "4          3   Aerosmith         5                               Big Ones\n"
          ]
        }
      ]
    },
    {
      "cell_type": "code",
      "source": [],
      "metadata": {
        "id": "KJ6HkiJnTfdQ"
      },
      "execution_count": null,
      "outputs": []
    },
    {
      "cell_type": "code",
      "source": [],
      "metadata": {
        "id": "CbdOFqb6WfBF"
      },
      "execution_count": null,
      "outputs": []
    },
    {
      "cell_type": "code",
      "source": [],
      "metadata": {
        "id": "a794Wu9sWe-x"
      },
      "execution_count": null,
      "outputs": []
    },
    {
      "cell_type": "code",
      "source": [],
      "metadata": {
        "id": "hRFgR8h-We8L"
      },
      "execution_count": null,
      "outputs": []
    },
    {
      "cell_type": "code",
      "source": [],
      "metadata": {
        "id": "p68azTwwWe5m"
      },
      "execution_count": null,
      "outputs": []
    },
    {
      "cell_type": "code",
      "source": [],
      "metadata": {
        "id": "CVOnTt_NWe3U"
      },
      "execution_count": null,
      "outputs": []
    }
  ]
}
