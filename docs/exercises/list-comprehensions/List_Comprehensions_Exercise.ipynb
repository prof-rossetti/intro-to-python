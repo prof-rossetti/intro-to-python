{
  "nbformat": 4,
  "nbformat_minor": 0,
  "metadata": {
    "colab": {
      "name": "List Comprehensions Exercise",
      "provenance": [],
      "authorship_tag": "ABX9TyOJ4fdktvrafTZmIKa6oZPU",
      "include_colab_link": true
    },
    "kernelspec": {
      "name": "python3",
      "display_name": "Python 3"
    }
  },
  "cells": [
    {
      "cell_type": "markdown",
      "metadata": {
        "id": "view-in-github",
        "colab_type": "text"
      },
      "source": [
        "<a href=\"https://colab.research.google.com/github/prof-rossetti/intro-to-python/blob/master/exercises/list-comprehensions/List_Comprehensions_Exercise.ipynb\" target=\"_parent\"><img src=\"https://colab.research.google.com/assets/colab-badge.svg\" alt=\"Open In Colab\"/></a>"
      ]
    },
    {
      "cell_type": "markdown",
      "metadata": {
        "id": "CxPYjQK9pfEK"
      },
      "source": [
        "# Prerequisites\n",
        "\n",
        "  + [Lists](https://github.com/prof-rossetti/intro-to-python/blob/master/notes/python/datatypes/lists.md)\n",
        "  + [List Comprehensions](https://docs.python.org/3/tutorial/datastructures.html?#list-comprehensions)"
      ]
    },
    {
      "cell_type": "markdown",
      "metadata": {
        "id": "wThIawpS0Jyf"
      },
      "source": [
        "# Instructions\n",
        "\n",
        "Make a copy of this notebook so you can edit and save your own version of it. Do the work in your copy of the notebook.\n"
      ]
    },
    {
      "cell_type": "markdown",
      "metadata": {
        "id": "10mRJKXD0Res"
      },
      "source": [
        "# Challenges\n",
        "\n",
        "In the corresponding code cells below, use list comprehensions  to transform the provided list (i.e. `my_numbers`) in each of the following ways:\n",
        "\n",
        "  1. Use mapping capabilities to multiply each number by 100 (e.g. `[100, 200, 300, 400, 500, 600, 700]`)\n",
        "  2. Use filtering capabilities to return only the numbers greater than three (e.g. `[4, 5, 6, 7]`)\n",
        "  3. Use filtering capabilities to return only the numbers greater than eight (e.g. `[]`)\n",
        "  4. Use mapping and filtering capabilities to return only the numbers greater than three, each multiplied by 100 (e.g. `[400, 500, 600, 700]`)\n",
        "\n",
        "Example final output:\n",
        "\n",
        "```\n",
        "--------------\n",
        "ORIGINAL LIST: [1, 2, 3, 4, 5, 6, 7]\n",
        "--------------\n",
        "1) MAPPED LIST: [100, 200, 300, 400, 500, 600, 700]\n",
        "--------------\n",
        "2) FILTERED LIST W/ MATCHES: [4, 5, 6, 7]\n",
        "--------------\n",
        "3) FILTERED LIST W/O MATCHES: []\n",
        "--------------\n",
        "4) MAPPED AND FILTERED LIST: [400, 500, 600, 700]\n",
        "```\n",
        "\n",
        "Spoiler Alert: [List Comprehensions Exercise Solution](https://github.com/prof-rossetti/intro-to-python/blob/master/exercises/list-comprehensions/solutions.py)"
      ]
    },
    {
      "cell_type": "code",
      "metadata": {
        "id": "QRlNine90jDn",
        "colab": {
          "base_uri": "https://localhost:8080/"
        },
        "outputId": "b885a5e3-2362-4fb3-da92-6c74e1083f82"
      },
      "source": [
        "# leave this cell as-is\n",
        "\n",
        "my_numbers = [1, 2, 3, 4, 5, 6, 7]\n",
        "\n",
        "print(\"--------------\")\n",
        "print(\"ORIGINAL LIST:\", my_numbers)\n"
      ],
      "execution_count": 2,
      "outputs": [
        {
          "output_type": "stream",
          "text": [
            "--------------\n",
            "ORIGINAL LIST: [1, 2, 3, 4, 5, 6, 7]\n"
          ],
          "name": "stdout"
        }
      ]
    },
    {
      "cell_type": "code",
      "metadata": {
        "id": "OzIW7VKdlqRc"
      },
      "source": [
        "\n",
        "#\n",
        "# 1) Use mapping capabilities to multiply each number by 100 (e.g. `[100, 200, 300, 400, 500, 600, 700]`)\n",
        "# \n",
        "\n",
        "# TODO: write python code here"
      ],
      "execution_count": 3,
      "outputs": []
    },
    {
      "cell_type": "code",
      "metadata": {
        "id": "NThBNlBfolYg"
      },
      "source": [
        "\n",
        "# \n",
        "# 2) Use filtering capabilities to return only the numbers greater than three (e.g. `[4, 5, 6, 7]`)\n",
        "# \n",
        "\n",
        "# TODO: write python code here"
      ],
      "execution_count": 4,
      "outputs": []
    },
    {
      "cell_type": "code",
      "metadata": {
        "id": "4sspG3HJouAB"
      },
      "source": [
        "\n",
        "#\n",
        "# 3) Use filtering capabilities to return only the numbers greater than eight (e.g. `[]` or empty list)\n",
        "#\n",
        "\n",
        "# TODO: write python code here"
      ],
      "execution_count": 5,
      "outputs": []
    },
    {
      "cell_type": "code",
      "metadata": {
        "id": "1g0bDhhmougK"
      },
      "source": [
        "#\n",
        "# 4) Use mapping and filtering capabilities to return only the numbers greater than three, each multiplied by 100 (e.g. `[400, 500, 600, 700]`)\n",
        "#\n",
        "\n",
        "# TODO: write python code here"
      ],
      "execution_count": 6,
      "outputs": []
    }
  ]
}