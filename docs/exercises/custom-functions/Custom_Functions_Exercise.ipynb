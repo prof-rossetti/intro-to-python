{
  "nbformat": 4,
  "nbformat_minor": 0,
  "metadata": {
    "colab": {
      "provenance": [],
      "collapsed_sections": [
        "vDbiG6fcG8XQ"
      ],
      "toc_visible": true,
      "authorship_tag": "ABX9TyNMJkM/ue2UVnoHwavVLQC6",
      "include_colab_link": true
    },
    "kernelspec": {
      "name": "python3",
      "display_name": "Python 3"
    }
  },
  "cells": [
    {
      "cell_type": "markdown",
      "metadata": {
        "id": "view-in-github",
        "colab_type": "text"
      },
      "source": [
        "<a href=\"https://colab.research.google.com/github/prof-rossetti/intro-to-python/blob/main/exercises/custom-functions/Custom_Functions_Exercise.ipynb\" target=\"_parent\"><img src=\"https://colab.research.google.com/assets/colab-badge.svg\" alt=\"Open In Colab\"/></a>"
      ]
    },
    {
      "cell_type": "markdown",
      "metadata": {
        "id": "S2WNuBjne_qG"
      },
      "source": [
        "\n",
        "# Instructions\n",
        "\n",
        "\n"
      ]
    },
    {
      "cell_type": "markdown",
      "metadata": {
        "id": "9VcdzHLiOrCt"
      },
      "source": [
        "\n",
        "\n",
        "\n",
        "\n",
        "\n",
        "\n",
        "1. **Make a copy of this notebook** so you can edit and save your own version of it. Do the work in your copy of the notebook. \n",
        "2. **Update the title of your notebook** to include your name and/or net id.\n",
        "\n",
        "3. **Write Python code** in the \"Solution\" section to meet the requirements set forth in the \"Requirements\" section. \n",
        "\n",
        "\n"
      ]
    },
    {
      "cell_type": "markdown",
      "metadata": {
        "id": "m4OgF-WX0Fxo"
      },
      "source": [
        "## References\n",
        "\n",
        "\n"
      ]
    },
    {
      "cell_type": "markdown",
      "metadata": {
        "id": "aedRcX8SYIqi"
      },
      "source": [
        "\n",
        "These official Python docs should help provide more context:\n",
        "\n",
        "  + https://docs.python.org/3/tutorial/controlflow.html#defining-functions\n",
        "  + https://docs.python.org/3/tutorial/controlflow.html#default-argument-values\n",
        "  + https://docs.python.org/3/tutorial/controlflow.html#keyword-arguments\n",
        "  + https://www.w3schools.com/python/python_functions.asp\n",
        "\n",
        "Optionally see also:\n",
        "\n",
        "  + https://github.com/prof-rossetti/intro-to-python/blob/main/notes/python/functions.md\n",
        "  + https://github.com/prof-rossetti/intro-to-python/blob/main/notes/python/docstrings.md"
      ]
    },
    {
      "cell_type": "markdown",
      "source": [
        "# Requirements"
      ],
      "metadata": {
        "id": "8lJzgEqcNW9m"
      }
    },
    {
      "cell_type": "markdown",
      "metadata": {
        "id": "Jjgzk-DvfCty"
      },
      "source": [
        "\n",
        "## Basic Requirements\n",
        "\n",
        "For each of the three challenges below, write a custom function to address the requirements. \n",
        "\n",
        "After writing a function in (and running) the first code cell, you should be able to then run the cell(s) immediately below which use some provided code to call / use / invoke the function. If you have defined the functions properly, the invocation cells should just work as-is.\n",
        "\n",
        "\n"
      ]
    },
    {
      "cell_type": "markdown",
      "source": [
        "## Further Exploration\n",
        "\n",
        "Ideally also add a [\"docstring\"](https://github.com/prof-rossetti/intro-to-python/blob/master/notes/python/docstrings.md) to each function, to provide more information about the parameters it accepts, and the job it is expected to perform."
      ],
      "metadata": {
        "id": "iKdcpFfgNZtQ"
      }
    },
    {
      "cell_type": "markdown",
      "metadata": {
        "id": "mdOQuAFkfHTd"
      },
      "source": [
        "# Challenges"
      ]
    },
    {
      "cell_type": "markdown",
      "metadata": {
        "id": "zgeFDH0CR6cN"
      },
      "source": [
        "## 1) Motivation Function\n",
        "\n",
        "Define a custom function called `motivate()`, the responsibility of which is to print a motivational or inspirational textual message like \"Row harder, you can do it!\". The function doesn't need any parameter inputs or return values. It can display the same message every time."
      ]
    },
    {
      "cell_type": "code",
      "metadata": {
        "id": "ism3HbhJR6Hi"
      },
      "source": [
        "# FUNCTION DEFINITION\n",
        "\n",
        "# todo: your code here\n",
        "\n",
        "\n",
        "\n"
      ],
      "execution_count": null,
      "outputs": []
    },
    {
      "cell_type": "code",
      "metadata": {
        "id": "XWW1iycMR44V"
      },
      "source": [
        "# FUNCTION INVOCATIONS (LEAVE THIS CELL AS IS AND RUN AFTER YOU HAVE RUN THE CELL ABOVE)\n",
        "\n",
        "motivate()\n",
        "motivate()\n",
        "motivate()\n",
        "motivate()\n"
      ],
      "execution_count": null,
      "outputs": []
    },
    {
      "cell_type": "markdown",
      "metadata": {
        "id": "ElJb0gWG0uRT"
      },
      "source": [
        "\n",
        "## 2) Temperature Conversion Function\n",
        "\n",
        "Define a custom function called `celsius_to_fahrenheit()`, the responsibility of which is to convert a Celsius temperature (e.g. `0`) to a Fahrenheit temperature (e.g. `32`). Inside the function's definition, use a mathematical formula to convert the temperature and return the resulting value.\n"
      ]
    },
    {
      "cell_type": "code",
      "metadata": {
        "id": "Tb5YtYEb0DEg"
      },
      "source": [
        "# FUNCTION DEFINITION\n",
        "\n",
        "# todo: your code here\n",
        "\n"
      ],
      "execution_count": null,
      "outputs": []
    },
    {
      "cell_type": "code",
      "metadata": {
        "id": "DQKdwjAKOibU"
      },
      "source": [
        "# FUNCTION INVOCATIONS (LEAVE THIS CELL AS-IS)\n",
        "\n",
        "print(celsius_to_fahrenheit(0))\n",
        "print(celsius_to_fahrenheit(10))\n",
        "print(celsius_to_fahrenheit(20))\n",
        "print(celsius_to_fahrenheit(30))\n",
        "print(celsius_to_fahrenheit(40))\n",
        "\n",
        "print(\"---------\")\n",
        "\n",
        "c = 50\n",
        "f = celsius_to_fahrenheit(c)\n",
        "print(\"THE CELSIUS TEMP IS:\", c, \"DEGREES\")\n",
        "print(\"THE FAHRENHEIT EQUIVALENT IS:\", f, \"DEGREES\")\n",
        "\n",
        "print(\"---------\")\n",
        "\n",
        "assert celsius_to_fahrenheit(0) == 32"
      ],
      "execution_count": null,
      "outputs": []
    },
    {
      "cell_type": "markdown",
      "metadata": {
        "id": "Xjb98FD21VIj"
      },
      "source": [
        "\n",
        "## 3) Letter Grade Conversion Function\n",
        "\n",
        "Define a custom function called `number_to_letter_grade()`, the responsibility of which is to convert a numeric grade (e.g. `87.5`) to a corresponding letter grade (e.g. `B+`). Inside the function's definition, use your own custom algorithm to convert the grade and return the resulting value. Use your own grading scale, or the following scale:\n",
        "\n",
        "  + above 93.0 is \"A\"\n",
        "  + above 90.0 is \"A-\"\n",
        "  + above 87.0 is \"B+\"\n",
        "  + above 83.0 is \"B\"\n",
        "  + above 80.0 is \"B-\"\n",
        "  + etc.\n"
      ]
    },
    {
      "cell_type": "code",
      "metadata": {
        "id": "-PXqEqQMTDTJ"
      },
      "source": [
        "# FUNCTION DEFINITION\n",
        "\n",
        "# todo: your code here\n",
        "\n",
        "\n",
        "\n",
        "\n"
      ],
      "execution_count": null,
      "outputs": []
    },
    {
      "cell_type": "code",
      "metadata": {
        "id": "7VNEWlSBS9I0"
      },
      "source": [
        "\n",
        "# FUNCTION INVOCATIONS (LEAVE THIS CELL AS-IS)\n",
        "\n",
        "print(number_to_letter_grade(100))\n",
        "print(number_to_letter_grade(95))\n",
        "print(number_to_letter_grade(85))\n",
        "print(number_to_letter_grade(75))\n",
        "print(number_to_letter_grade(50))\n",
        "\n",
        "print(\"------------\")\n",
        "\n",
        "score = 87.5\n",
        "print(\"THE NUMERIC SCORE IS:\", score)\n",
        "grade = number_to_letter_grade(score)\n",
        "print(\"THE LETTER-GRADE EQUIVALENT IS:\", grade)\n",
        "\n",
        "print(\"------------\")\n",
        "\n",
        "# TESTING THE FUNCTION\n",
        "assert number_to_letter_grade(87.5) == \"B+\""
      ],
      "execution_count": null,
      "outputs": []
    },
    {
      "cell_type": "markdown",
      "source": [
        "\n",
        "## 4) Your Own Function\n",
        "\n",
        "Define your own function that does something interesting. The function should accept one or more parameters.\n",
        "\n",
        "Invoke your function a few times, using different parameter values.\n"
      ],
      "metadata": {
        "id": "vDbiG6fcG8XQ"
      }
    },
    {
      "cell_type": "code",
      "source": [
        "# FUNCTION DEFINITION\n",
        "\n",
        "# todo: your code here\n",
        "\n",
        "\n"
      ],
      "metadata": {
        "id": "jynyQvPiHN3O"
      },
      "execution_count": null,
      "outputs": []
    },
    {
      "cell_type": "code",
      "source": [
        "# FUNCTION INVOCATIONS\n",
        "\n",
        "# todo: your code here\n",
        "\n",
        "\n"
      ],
      "metadata": {
        "id": "ozaVBgUfHOKJ"
      },
      "execution_count": null,
      "outputs": []
    },
    {
      "cell_type": "code",
      "source": [
        "# TESTING THE FUNCTION\n",
        "\n",
        "# todo: test your code here\n",
        "\n",
        "\n"
      ],
      "metadata": {
        "id": "REQZxQf8JlH7"
      },
      "execution_count": null,
      "outputs": []
    },
    {
      "cell_type": "markdown",
      "source": [
        "## 5) Multiplication Function"
      ],
      "metadata": {
        "id": "1USlzPKAA8dr"
      }
    },
    {
      "cell_type": "markdown",
      "source": [
        "Define a function called `multiply`  which takes two separate numeric parameters as inputs, and multiplies them and returns the result (like a calculator).\n",
        "\n"
      ],
      "metadata": {
        "id": "rdNMmYK3A63m"
      }
    },
    {
      "cell_type": "code",
      "source": [
        "# FUNCTION DEFINITION\n",
        "\n",
        "# todo: your code here\n",
        "\n"
      ],
      "metadata": {
        "id": "rz_2qplAA7Fu"
      },
      "execution_count": null,
      "outputs": []
    },
    {
      "cell_type": "code",
      "source": [
        "\n",
        "# FUNCTION INVOCATIONS (LEAVE THIS CELL AS-IS)\n",
        "\n",
        "print(multiply(2, 10))\n",
        "print(multiply(5, 5))\n",
        "\n",
        "print(\"------------\")\n",
        "\n",
        "first_num = 6\n",
        "second_num = 8\n",
        "print(\"PERFORMING MULTIPLICATION ON:\", first_num, \"AND\", second_num, \"...\")\n",
        "result = multiply(first_num, second_num)\n",
        "print(\"THE RESULT IS:\", result)\n",
        "\n",
        "print(\"------------\")\n",
        "\n",
        "# TESTING THE FUNCTION\n",
        "assert multiply(3, 2) == 6"
      ],
      "metadata": {
        "colab": {
          "base_uri": "https://localhost:8080/"
        },
        "id": "ZsTTeoLSBEfK",
        "outputId": "4d353181-7897-4852-da7b-7a5b8b63680a"
      },
      "execution_count": null,
      "outputs": [
        {
          "output_type": "stream",
          "name": "stdout",
          "text": [
            "20\n",
            "25\n",
            "------------\n",
            "PERFORMING MULTIPLICATION ON: 6 AND 8 ...\n",
            "THE RESULT IS: 48\n",
            "------------\n"
          ]
        }
      ]
    },
    {
      "cell_type": "markdown",
      "source": [
        "## 6) Calculator Function"
      ],
      "metadata": {
        "id": "adB6RgAWBHnn"
      }
    },
    {
      "cell_type": "markdown",
      "source": [
        "Define a function called `calculate`  which takes three input arguments. The first should denote which `operation` to perform (i.e. \"addition\", \"subtraction\", \"multiplication\", or \"division\"). The second and third parameters should denote the numbers to perform the selected operation on the provided numbers, and return the resulting value.\n",
        "\n",
        "If an invalid `operation` is specified (e.g. \"OOPS\"), the function should print a helpful friendly error message (i.e. \"OOPS, invalid operation, please choose one of the following: 'addition', 'subtraction', 'multiplication', or 'division'...\" and return a null value (i.e. `None`).\n"
      ],
      "metadata": {
        "id": "G4WT1rTkBLUg"
      }
    },
    {
      "cell_type": "code",
      "source": [
        "# FUNCTION DEFINITION\n",
        "\n",
        "# todo: your code here\n",
        "\n"
      ],
      "metadata": {
        "id": "S_8dvyo9BLot"
      },
      "execution_count": null,
      "outputs": []
    },
    {
      "cell_type": "code",
      "source": [
        "\n",
        "# FUNCTION INVOCATIONS (LEAVE THIS CELL AS-IS)\n",
        "\n",
        "print(calculate(\"addition\", 2, 10))\n",
        "print(calculate(\"subtraction\", 2, 10))\n",
        "print(calculate(\"multiplication\", 2, 10))\n",
        "print(calculate(\"division\", 2, 10))\n",
        "print(calculate(\"OOPS\", 2, 10))\n",
        "\n",
        "print(\"------------\")\n",
        "\n",
        "first_num = 6\n",
        "second_num = 8\n",
        "print(\"PERFORMING MULTIPLICATION ON:\", first_num, \"AND\", second_num, \"...\")\n",
        "result = calculate(\"multiplication\", first_num, second_num)\n",
        "print(\"THE RESULT IS:\", result)\n",
        "\n",
        "print(\"------------\")\n",
        "\n",
        "# TESTING THE FUNCTION\n",
        "assert calculate(\"addition\", 2, 10) == 12\n",
        "assert calculate(\"subtraction\", 2, 10) == -8\n",
        "assert calculate(\"multiplication\", 2, 10) == 20\n",
        "assert calculate(\"division\", 2, 10) == 0.2"
      ],
      "metadata": {
        "colab": {
          "base_uri": "https://localhost:8080/"
        },
        "id": "vo8ZaopACUM4",
        "outputId": "f80c81fd-3c5b-4a44-9cab-c47321f8124f"
      },
      "execution_count": null,
      "outputs": [
        {
          "output_type": "stream",
          "name": "stdout",
          "text": [
            "12\n",
            "-8\n",
            "20\n",
            "0.2\n",
            "OOPS, invalid operation, please choose one of the following: 'addition', 'subtraction', 'multiplication', or 'division'...\n",
            "None\n",
            "------------\n",
            "PERFORMING MULTIPLICATION ON: 6 AND 8 ...\n",
            "THE RESULT IS: 48\n",
            "------------\n"
          ]
        }
      ]
    },
    {
      "cell_type": "markdown",
      "source": [
        "## 7) Advertisement Function"
      ],
      "metadata": {
        "id": "ojDleYfRWBCq"
      }
    },
    {
      "cell_type": "markdown",
      "source": [
        "Define a function called `advertise`, which should print a message like:\n",
        "\n",
        "\"COME TO OUR ICE CREAM SHOP! NOW SERVING: CHOCOLATE\"\n",
        "  \n",
        "... where chocolate is one of a number of available flavors, chosen at random. \n",
        "\n",
        "Use the provided list of `FLAVORS` in your function. So sometimes the function will print a message related to chocolate, sometimes it will print a message related to vanilla, and other times it will print a message related to strawberry.\n",
        "\n",
        "\n",
        "HINT: use [the `random` module](https://github.com/prof-rossetti/intro-to-python/blob/main/notes/python/modules/random.md).\n"
      ],
      "metadata": {
        "id": "hU-ic40xWM8J"
      }
    },
    {
      "cell_type": "code",
      "source": [
        "# FUNCTION DEFINITION\n",
        "\n",
        "FLAVORS = [\"vanilla bean\", \"chocolate\", \"strawberry\"]\n",
        "\n",
        "\n",
        "# todo: your code here\n",
        "\n",
        "\n",
        "\n"
      ],
      "metadata": {
        "id": "oEtxaoXmWMWI"
      },
      "execution_count": null,
      "outputs": []
    },
    {
      "cell_type": "code",
      "source": [
        "# FUNCTION INVOCATIONS (LEAVE THIS CELL AS-IS)\n",
        "\n",
        "advertise()\n",
        "\n",
        "\n",
        "advertise()\n",
        "\n",
        "\n",
        "advertise()"
      ],
      "metadata": {
        "colab": {
          "base_uri": "https://localhost:8080/"
        },
        "id": "Qr_OrKa1XPz1",
        "outputId": "e6b4e0ff-20fa-4676-f301-0577e1c0900f"
      },
      "execution_count": null,
      "outputs": [
        {
          "output_type": "stream",
          "name": "stdout",
          "text": [
            "COME TO OUR ICE CREAM SHOP! NOW SERVING: CHOCOLATE\n",
            "COME TO OUR ICE CREAM SHOP! NOW SERVING: VANILLA BEAN\n",
            "COME TO OUR ICE CREAM SHOP! NOW SERVING: CHOCOLATE\n"
          ]
        }
      ]
    }
  ]
}