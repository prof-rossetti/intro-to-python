{
  "nbformat": 4,
  "nbformat_minor": 0,
  "metadata": {
    "colab": {
      "name": "Chart Gallery Exercise",
      "provenance": [],
      "authorship_tag": "ABX9TyNwNSBgr5ImQEMtxoOTFMi3",
      "include_colab_link": true
    },
    "kernelspec": {
      "name": "python3",
      "display_name": "Python 3"
    }
  },
  "cells": [
    {
      "cell_type": "markdown",
      "metadata": {
        "id": "view-in-github",
        "colab_type": "text"
      },
      "source": [
        "<a href=\"https://colab.research.google.com/github/prof-rossetti/intro-to-python/blob/master/exercises/chart-gallery/Chart_Gallery_Exercise.ipynb\" target=\"_parent\"><img src=\"https://colab.research.google.com/assets/colab-badge.svg\" alt=\"Open In Colab\"/></a>"
      ]
    },
    {
      "cell_type": "markdown",
      "metadata": {
        "id": "YwRSB3X6rIU_"
      },
      "source": [
        "# \"Chart Gallery\" Exercise\n",
        "\n",
        "Dataviz Packages:\n",
        "\n",
        "  + [The `matplotlib` Package](https://github.com/prof-rossetti/intro-to-python/blob/master/notes/python/packages/matplotlib.md)\n",
        "  + [The `plotly` Package](https://github.com/prof-rossetti/intro-to-python/blob/master/notes/python/packages/plotly.md) (recommended)\n",
        "\n",
        "Dataviz Packages for Pandas DataFrames:\n",
        "\n",
        "  + [The `plotly.express` Package](https://plotly.com/python/plotly-express/) (recommended)\n",
        "  + [The `altair` Package](https://github.com/prof-rossetti/intro-to-python/blob/master/notes/python/packages/altair.md)\n",
        "  + [The `seaborn` Package](https://github.com/prof-rossetti/intro-to-python/blob/master/notes/python/packages/seaborn.md) (recommended)\n",
        "\n",
        "## Instructions\n",
        "\n",
        "Choose a dataviz package, and use it to make at least three different kinds of charts (bar, line, pie). \n",
        "\n",
        "If you start using one package and decide you'd like to switch, that's ok. Go for it. Get a feel for which package(s) you prefer.\n",
        "\n",
        "You might choose a package based on clarity of  documentation, popularity on GitHub, community support, etc.\n",
        "\n",
        "## Recommended Dataviz Approach \n",
        "\n",
        "  1. Find the **official documentation** and **example charts** for the type of chart you want to make.\n",
        "  2. Reproduce an example chart using **example data** from the documentation.\n",
        "  2. Transform **your data** into the same structure as the example data, and pass it to the chart. \n",
        "  3. Customize chart **style, formatting, and options** as desired, one at a time.\n",
        "\n",
        "\n"
      ]
    },
    {
      "cell_type": "markdown",
      "metadata": {
        "id": "NqC46JjNyflN"
      },
      "source": [
        "# Pie Charts"
      ]
    },
    {
      "cell_type": "code",
      "metadata": {
        "id": "8rgijTbPriJC",
        "colab": {
          "base_uri": "https://localhost:8080/"
        },
        "outputId": "fd64a7d6-9245-44ab-8c01-15f3b2d1071c"
      },
      "source": [
        "\n",
        "#\n",
        "# PIE DATA\n",
        "#\n",
        "\n",
        "pie_data = [\n",
        "    {\"company\": \"Company X\", \"market_share\": 0.55},\n",
        "    {\"company\": \"Company Y\", \"market_share\": 0.30},\n",
        "    {\"company\": \"Company Z\", \"market_share\": 0.15}\n",
        "]\n",
        "print(pie_data) \n",
        "\n",
        "# TODO: create a pie chart based on the pie_data\n"
      ],
      "execution_count": null,
      "outputs": [
        {
          "output_type": "stream",
          "text": [
            "[{'company': 'Company X', 'market_share': 0.55}, {'company': 'Company Y', 'market_share': 0.3}, {'company': 'Company Z', 'market_share': 0.15}]\n"
          ],
          "name": "stdout"
        }
      ]
    },
    {
      "cell_type": "markdown",
      "metadata": {
        "id": "GxvBieIhyg8s"
      },
      "source": [
        "# Line Charts"
      ]
    },
    {
      "cell_type": "code",
      "metadata": {
        "id": "Y109XWSPriWb",
        "colab": {
          "base_uri": "https://localhost:8080/"
        },
        "outputId": "3a1fd11f-96bc-43fd-b5bc-c766546a6952"
      },
      "source": [
        "\n",
        "#\n",
        "# LINE DATA\n",
        "#\n",
        "\n",
        "line_data = [\n",
        "    {\"date\": \"2020-10-01\", \"stock_price_usd\": 100.00},\n",
        "    {\"date\": \"2020-10-02\", \"stock_price_usd\": 101.01},\n",
        "    {\"date\": \"2020-10-03\", \"stock_price_usd\": 120.20},\n",
        "    {\"date\": \"2020-10-04\", \"stock_price_usd\": 107.07},\n",
        "    {\"date\": \"2020-10-05\", \"stock_price_usd\": 142.42},\n",
        "    {\"date\": \"2020-10-06\", \"stock_price_usd\": 135.35},\n",
        "    {\"date\": \"2020-10-07\", \"stock_price_usd\": 160.60},\n",
        "    {\"date\": \"2020-10-08\", \"stock_price_usd\": 162.62},\n",
        "]\n",
        "\n",
        "print(line_data) \n",
        "\n",
        "# TODO: create a line graph based on the line_data\n"
      ],
      "execution_count": null,
      "outputs": [
        {
          "output_type": "stream",
          "text": [
            "[{'date': '2020-10-01', 'stock_price_usd': 100.0}, {'date': '2020-10-02', 'stock_price_usd': 101.01}, {'date': '2020-10-03', 'stock_price_usd': 120.2}, {'date': '2020-10-04', 'stock_price_usd': 107.07}, {'date': '2020-10-05', 'stock_price_usd': 142.42}, {'date': '2020-10-06', 'stock_price_usd': 135.35}, {'date': '2020-10-07', 'stock_price_usd': 160.6}, {'date': '2020-10-08', 'stock_price_usd': 162.62}]\n"
          ],
          "name": "stdout"
        }
      ]
    },
    {
      "cell_type": "markdown",
      "metadata": {
        "id": "DxwwAOc4yiJD"
      },
      "source": [
        "# Bar Charts"
      ]
    },
    {
      "cell_type": "code",
      "metadata": {
        "id": "ON0mnYtpZ-hP",
        "colab": {
          "base_uri": "https://localhost:8080/"
        },
        "outputId": "f8f79dca-640e-48c7-f261-a0c9eb9e3dee"
      },
      "source": [
        "\n",
        "#\n",
        "# BAR DATA\n",
        "#\n",
        "\n",
        "bar_data = [\n",
        "    {\"genre\": \"Thriller\", \"viewers\": 123456},\n",
        "    {\"genre\": \"Mystery\", \"viewers\": 234567},\n",
        "    {\"genre\": \"Sci-Fi\", \"viewers\": 987654},\n",
        "    {\"genre\": \"Fantasy\", \"viewers\": 876543},\n",
        "    {\"genre\": \"Documentary\", \"viewers\": 283105},\n",
        "    {\"genre\": \"Action\", \"viewers\": 544099},\n",
        "    {\"genre\": \"Romantic Comedy\", \"viewers\": 121212}\n",
        "]\n",
        "\n",
        "print(bar_data) \n",
        "\n",
        "# TODO: create a horizontal bar chart based on the bar_data"
      ],
      "execution_count": null,
      "outputs": [
        {
          "output_type": "stream",
          "text": [
            "[{'genre': 'Thriller', 'viewers': 123456}, {'genre': 'Mystery', 'viewers': 234567}, {'genre': 'Sci-Fi', 'viewers': 987654}, {'genre': 'Fantasy', 'viewers': 876543}, {'genre': 'Documentary', 'viewers': 283105}, {'genre': 'Action', 'viewers': 544099}, {'genre': 'Romantic Comedy', 'viewers': 121212}]\n"
          ],
          "name": "stdout"
        }
      ]
    },
    {
      "cell_type": "markdown",
      "metadata": {
        "id": "jWgx7gzryjfA"
      },
      "source": [
        "# Scatter Plots"
      ]
    },
    {
      "cell_type": "code",
      "metadata": {
        "colab": {
          "base_uri": "https://localhost:8080/"
        },
        "id": "91-fdqMgylax",
        "outputId": "74174f13-935b-456b-eace-e8704775921f"
      },
      "source": [
        "\n",
        "#\n",
        "# SCATTER DATA\n",
        "#\n",
        "\n",
        "scatter_data = [\n",
        "    {\"income\": 30_000, \"life_expectancy\": 65.5},\n",
        "    {\"income\": 30_000, \"life_expectancy\": 62.1},\n",
        "    {\"income\": 50_000, \"life_expectancy\": 66.7},\n",
        "    {\"income\": 50_000, \"life_expectancy\": 71.0},\n",
        "    {\"income\": 70_000, \"life_expectancy\": 72.5},\n",
        "    {\"income\": 70_000, \"life_expectancy\": 77.3},\n",
        "    {\"income\": 90_000, \"life_expectancy\": 82.9},\n",
        "    {\"income\": 90_000, \"life_expectancy\": 80.0},\n",
        "]\n",
        "\n",
        "print(scatter_data)\n",
        "\n",
        "# TODO: create a scatter plot based on the scatter_data\n"
      ],
      "execution_count": null,
      "outputs": [
        {
          "output_type": "stream",
          "text": [
            "[{'income': 30000, 'life_expectancy': 65.5}, {'income': 30000, 'life_expectancy': 62.1}, {'income': 50000, 'life_expectancy': 66.7}, {'income': 50000, 'life_expectancy': 71.0}, {'income': 70000, 'life_expectancy': 72.5}, {'income': 70000, 'life_expectancy': 77.3}, {'income': 90000, 'life_expectancy': 82.9}, {'income': 90000, 'life_expectancy': 80.0}]\n"
          ],
          "name": "stdout"
        }
      ]
    },
    {
      "cell_type": "markdown",
      "metadata": {
        "id": "W1oy58GWyltr"
      },
      "source": [
        "# Histograms"
      ]
    },
    {
      "cell_type": "code",
      "metadata": {
        "colab": {
          "base_uri": "https://localhost:8080/"
        },
        "id": "AtFLTd8lynMj",
        "outputId": "41c0162f-9e30-475d-c59a-126ff6665a79"
      },
      "source": [
        "#\n",
        "# HISTOGRAM DATA\n",
        "#\n",
        "\n",
        "histo_data = [\n",
        "    {\"user\": \"User A\", \"average_opinion\": 0.1},\n",
        "    {\"user\": \"User B\", \"average_opinion\": 0.4},\n",
        "    {\"user\": \"User C\", \"average_opinion\": 0.4},\n",
        "    {\"user\": \"User D\", \"average_opinion\": 0.8},\n",
        "    {\"user\": \"User E\", \"average_opinion\": 0.86},\n",
        "    {\"user\": \"User F\", \"average_opinion\": 0.75},\n",
        "    {\"user\": \"User G\", \"average_opinion\": 0.90},\n",
        "    {\"user\": \"User H\", \"average_opinion\": 0.99},\n",
        "]\n",
        "\n",
        "print(histo_data)\n",
        "\n",
        "# TODO: create a histogram based on the histo_data\n"
      ],
      "execution_count": null,
      "outputs": [
        {
          "output_type": "stream",
          "text": [
            "[{'user': 'User A', 'average_opinion': 0.1}, {'user': 'User B', 'average_opinion': 0.4}, {'user': 'User C', 'average_opinion': 0.4}, {'user': 'User D', 'average_opinion': 0.8}, {'user': 'User E', 'average_opinion': 0.86}, {'user': 'User F', 'average_opinion': 0.75}, {'user': 'User G', 'average_opinion': 0.9}, {'user': 'User H', 'average_opinion': 0.99}]\n"
          ],
          "name": "stdout"
        }
      ]
    }
  ]
}