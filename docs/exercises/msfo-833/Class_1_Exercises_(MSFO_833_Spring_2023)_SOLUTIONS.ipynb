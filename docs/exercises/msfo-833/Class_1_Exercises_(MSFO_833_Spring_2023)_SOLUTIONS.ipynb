{
  "nbformat": 4,
  "nbformat_minor": 0,
  "metadata": {
    "colab": {
      "provenance": [],
      "toc_visible": true,
      "include_colab_link": true
    },
    "kernelspec": {
      "name": "python3",
      "display_name": "Python 3"
    }
  },
  "cells": [
    {
      "cell_type": "markdown",
      "metadata": {
        "id": "view-in-github",
        "colab_type": "text"
      },
      "source": [
        "<a href=\"https://colab.research.google.com/github/prof-rossetti/intro-to-python/blob/main/units/msfo-833/Class_1_Exercises_(MSFO_833_Spring_2023)_SOLUTIONS.ipynb\" target=\"_parent\"><img src=\"https://colab.research.google.com/assets/colab-badge.svg\" alt=\"Open In Colab\"/></a>"
      ]
    },
    {
      "cell_type": "markdown",
      "source": [
        "# Instructions\n",
        "\n",
        "\n",
        "\n",
        "1. **Make a copy of this notebook** so you can edit and save your own version of it. Do the work in your copy of the notebook. \n",
        "2. **Update the title of your notebook** to include your name and/or net id.\n",
        "3. Follow along with some Python warmup, as led by the prof.\n",
        "3. Finally, **Write Python code** to address each of the \"Challenges\". \n",
        "\n",
        "> NOTE: Each of the challenges below contains a provided data structure in a setup cell, as well as some questions relating to the provided data structure. For each challenge, run its setup cell to define the provided variable, then write additional code cells below which references that variable to answer the provided questions."
      ],
      "metadata": {
        "id": "XJwF6JmZOqbx"
      }
    },
    {
      "cell_type": "markdown",
      "source": [
        "# Python Practice / Warmup"
      ],
      "metadata": {
        "id": "W8oUgCwAYQ7o"
      }
    },
    {
      "cell_type": "markdown",
      "source": [
        "## Datatypes"
      ],
      "metadata": {
        "id": "I889cDV6gC_l"
      }
    },
    {
      "cell_type": "code",
      "source": [
        "2 + 2"
      ],
      "metadata": {
        "colab": {
          "base_uri": "https://localhost:8080/"
        },
        "id": "3hT3vDNEYTo6",
        "outputId": "158dc65e-8031-46ec-bfde-0bc1f9ed72d7"
      },
      "execution_count": null,
      "outputs": [
        {
          "output_type": "execute_result",
          "data": {
            "text/plain": [
              "4"
            ]
          },
          "metadata": {},
          "execution_count": 8
        }
      ]
    },
    {
      "cell_type": "code",
      "source": [
        "\"2\" + \"2\""
      ],
      "metadata": {
        "colab": {
          "base_uri": "https://localhost:8080/",
          "height": 36
        },
        "id": "uOmEMpvoYUGc",
        "outputId": "9138a0b4-7345-4d3b-c5b4-b20989777178"
      },
      "execution_count": null,
      "outputs": [
        {
          "output_type": "execute_result",
          "data": {
            "text/plain": [
              "'22'"
            ],
            "application/vnd.google.colaboratory.intrinsic+json": {
              "type": "string"
            }
          },
          "metadata": {},
          "execution_count": 9
        }
      ]
    },
    {
      "cell_type": "code",
      "source": [
        "# 2 + \"2\" #> TypeError: unsupported operand type(s) for +: 'int' and 'str'"
      ],
      "metadata": {
        "id": "hYjomUiUgO9r"
      },
      "execution_count": null,
      "outputs": []
    },
    {
      "cell_type": "code",
      "source": [
        "\n",
        "print(type(2))\n",
        "\n",
        "\n",
        "print(type(\"2\"))"
      ],
      "metadata": {
        "colab": {
          "base_uri": "https://localhost:8080/"
        },
        "id": "WYPRYWNWYUC1",
        "outputId": "481b15d6-9474-4222-a10d-6f0dc5af80da"
      },
      "execution_count": null,
      "outputs": [
        {
          "output_type": "stream",
          "name": "stdout",
          "text": [
            "<class 'int'>\n",
            "<class 'str'>\n"
          ]
        }
      ]
    },
    {
      "cell_type": "markdown",
      "source": [
        "## String Operations and Printing"
      ],
      "metadata": {
        "id": "kECz5ACXgFIZ"
      }
    },
    {
      "cell_type": "markdown",
      "source": [
        "The Print Statement"
      ],
      "metadata": {
        "id": "5MvhStjJhgMy"
      }
    },
    {
      "cell_type": "code",
      "source": [
        "print(\"HELLO\")"
      ],
      "metadata": {
        "colab": {
          "base_uri": "https://localhost:8080/"
        },
        "id": "hQ7wxYDoYT_u",
        "outputId": "b0551c25-3b4d-4871-f920-2df7345df4b0"
      },
      "execution_count": null,
      "outputs": [
        {
          "output_type": "stream",
          "name": "stdout",
          "text": [
            "HELLO\n"
          ]
        }
      ]
    },
    {
      "cell_type": "markdown",
      "source": [
        "Printing comma separated items introduces a space:"
      ],
      "metadata": {
        "id": "ifwHFRNMhX3e"
      }
    },
    {
      "cell_type": "code",
      "source": [
        "print(\"HELLO\", \"WORLD\")\n",
        "\n",
        "print(\"HELLO\", \"WORLD\", 999)\n",
        "\n",
        "my_list = [1,2,3,4]\n",
        "print(\"HELLO\", \"WORLD\", 999, my_list)\n"
      ],
      "metadata": {
        "colab": {
          "base_uri": "https://localhost:8080/"
        },
        "id": "_mbPBkBDYT9O",
        "outputId": "7d66ec14-a94e-4b6d-c7d0-212808df1100"
      },
      "execution_count": null,
      "outputs": [
        {
          "output_type": "stream",
          "name": "stdout",
          "text": [
            "HELLO WORLD\n",
            "HELLO WORLD 999\n",
            "HELLO WORLD 999 [1, 2, 3, 4]\n"
          ]
        }
      ]
    },
    {
      "cell_type": "markdown",
      "source": [
        "String Concatenation:"
      ],
      "metadata": {
        "id": "41fZNzIsh8mX"
      }
    },
    {
      "cell_type": "code",
      "source": [
        "print(\"HELLO\" + \"WORLD\")"
      ],
      "metadata": {
        "colab": {
          "base_uri": "https://localhost:8080/"
        },
        "id": "31Ja010EgtJr",
        "outputId": "319fb76f-720e-4c62-8eed-0ecda6a40d99"
      },
      "execution_count": null,
      "outputs": [
        {
          "output_type": "stream",
          "name": "stdout",
          "text": [
            "HELLOWORLD\n"
          ]
        }
      ]
    },
    {
      "cell_type": "code",
      "source": [
        "print(\"HELLO\" + \" WORLD\")\n",
        "print(\"HELLO \" + \"WORLD\")\n",
        "print(\"HELLO\" + \" \" + \"WORLD\")"
      ],
      "metadata": {
        "colab": {
          "base_uri": "https://localhost:8080/"
        },
        "id": "imhf5ncagvE3",
        "outputId": "1ff85bc3-277f-4d25-bc06-e6f893b16ab3"
      },
      "execution_count": null,
      "outputs": [
        {
          "output_type": "stream",
          "name": "stdout",
          "text": [
            "HELLO WORLD\n",
            "HELLO WORLD\n",
            "HELLO WORLD\n"
          ]
        }
      ]
    },
    {
      "cell_type": "markdown",
      "source": [
        "String Interpolation / Format strings:"
      ],
      "metadata": {
        "id": "5koR9nYkhWWL"
      }
    },
    {
      "cell_type": "code",
      "source": [
        "price = 4.99\n",
        "\n",
        "print(\"PRICE:\", price)\n",
        "\n",
        "print(f\"PRICE: {price}\")\n",
        "\n",
        "print(f\"PRICE: ${price}\")"
      ],
      "metadata": {
        "colab": {
          "base_uri": "https://localhost:8080/"
        },
        "id": "F1VfsiYRhJlZ",
        "outputId": "c53773a2-cf83-4d2f-8701-1551a0f4474c"
      },
      "execution_count": null,
      "outputs": [
        {
          "output_type": "stream",
          "name": "stdout",
          "text": [
            "PRICE: 4.99\n",
            "PRICE: 4.99\n",
            "PRICE: $4.99\n"
          ]
        }
      ]
    },
    {
      "cell_type": "markdown",
      "source": [
        "## List Operations"
      ],
      "metadata": {
        "id": "C3x2dWilgc43"
      }
    },
    {
      "cell_type": "code",
      "source": [
        "my_numbers = [1, 2, 3, 4, 5, 6, 7]\n",
        "\n",
        "print(my_numbers)\n"
      ],
      "metadata": {
        "colab": {
          "base_uri": "https://localhost:8080/"
        },
        "id": "yN8v6rg8YTv4",
        "outputId": "2e8476c6-f890-452e-c312-e8fe4b6930bb"
      },
      "execution_count": null,
      "outputs": [
        {
          "output_type": "stream",
          "name": "stdout",
          "text": [
            "[1, 2, 3, 4, 5, 6, 7]\n"
          ]
        }
      ]
    },
    {
      "cell_type": "markdown",
      "source": [
        "Counting Items in a List:"
      ],
      "metadata": {
        "id": "0gJJS3VgiQsY"
      }
    },
    {
      "cell_type": "code",
      "source": [
        "print(len(my_numbers))"
      ],
      "metadata": {
        "id": "DFWpHovUiQMz",
        "colab": {
          "base_uri": "https://localhost:8080/"
        },
        "outputId": "88a1c754-38b1-4abb-b7b2-9a80adc11aee"
      },
      "execution_count": null,
      "outputs": [
        {
          "output_type": "stream",
          "name": "stdout",
          "text": [
            "7\n"
          ]
        }
      ]
    },
    {
      "cell_type": "markdown",
      "source": [
        "Looping:"
      ],
      "metadata": {
        "id": "vZyrruFOiDdx"
      }
    },
    {
      "cell_type": "code",
      "source": [
        "for x in my_numbers:\n",
        "    print(x)"
      ],
      "metadata": {
        "colab": {
          "base_uri": "https://localhost:8080/"
        },
        "id": "KcPN1GJCYTtT",
        "outputId": "58cfd9d0-c3f3-415b-f76f-822b5fe2c630"
      },
      "execution_count": null,
      "outputs": [
        {
          "output_type": "stream",
          "name": "stdout",
          "text": [
            "1\n",
            "2\n",
            "3\n",
            "4\n",
            "5\n",
            "6\n",
            "7\n"
          ]
        }
      ]
    },
    {
      "cell_type": "code",
      "source": [
        "for n in my_numbers:\n",
        "    print(n)"
      ],
      "metadata": {
        "colab": {
          "base_uri": "https://localhost:8080/"
        },
        "id": "XjbXVSxpiTu-",
        "outputId": "e69baea5-a47c-4e7b-bdb6-48f27717f2f7"
      },
      "execution_count": null,
      "outputs": [
        {
          "output_type": "stream",
          "name": "stdout",
          "text": [
            "1\n",
            "2\n",
            "3\n",
            "4\n",
            "5\n",
            "6\n",
            "7\n"
          ]
        }
      ]
    },
    {
      "cell_type": "code",
      "source": [
        "for item in my_numbers:\n",
        "    print(item)"
      ],
      "metadata": {
        "colab": {
          "base_uri": "https://localhost:8080/"
        },
        "id": "hTVchVuMiVi4",
        "outputId": "9a4c58a1-067a-41ec-9cb1-a441a6f31bc1"
      },
      "execution_count": null,
      "outputs": [
        {
          "output_type": "stream",
          "name": "stdout",
          "text": [
            "1\n",
            "2\n",
            "3\n",
            "4\n",
            "5\n",
            "6\n",
            "7\n"
          ]
        }
      ]
    },
    {
      "cell_type": "code",
      "source": [
        "for n in my_numbers:\n",
        "    print(\"HELLO\")"
      ],
      "metadata": {
        "colab": {
          "base_uri": "https://localhost:8080/"
        },
        "id": "VbrrEZWHiXVy",
        "outputId": "db521921-6cce-45c1-b445-b695c584ceac"
      },
      "execution_count": null,
      "outputs": [
        {
          "output_type": "stream",
          "name": "stdout",
          "text": [
            "HELLO\n",
            "HELLO\n",
            "HELLO\n",
            "HELLO\n",
            "HELLO\n",
            "HELLO\n",
            "HELLO\n"
          ]
        }
      ]
    },
    {
      "cell_type": "markdown",
      "source": [
        "Mapping:"
      ],
      "metadata": {
        "id": "uGuw4GlXiEqM"
      }
    },
    {
      "cell_type": "code",
      "source": [
        "# the long way:\n",
        "\n",
        "bigger_nums = []\n",
        "\n",
        "for x in my_numbers:\n",
        "    bigger_nums.append(x * 100)\n",
        "\n",
        "print(bigger_nums)"
      ],
      "metadata": {
        "colab": {
          "base_uri": "https://localhost:8080/"
        },
        "id": "DPMXI1dEYTq7",
        "outputId": "85acc0c0-81f8-4f6b-e987-31a89d085526"
      },
      "execution_count": null,
      "outputs": [
        {
          "output_type": "stream",
          "name": "stdout",
          "text": [
            "[100, 200, 300, 400, 500, 600, 700]\n"
          ]
        }
      ]
    },
    {
      "cell_type": "code",
      "source": [
        "# using a list comprehension one liner:\n",
        "\n",
        "[x*100 for x in my_numbers]"
      ],
      "metadata": {
        "colab": {
          "base_uri": "https://localhost:8080/"
        },
        "id": "wmqFja9MjT9P",
        "outputId": "713ebb27-40c3-45ce-e239-e11d82dd3d48"
      },
      "execution_count": null,
      "outputs": [
        {
          "output_type": "execute_result",
          "data": {
            "text/plain": [
              "[100, 200, 300, 400, 500, 600, 700]"
            ]
          },
          "metadata": {},
          "execution_count": 24
        }
      ]
    },
    {
      "cell_type": "markdown",
      "source": [
        "Filtering:"
      ],
      "metadata": {
        "id": "pjEG8N8siF6_"
      }
    },
    {
      "cell_type": "code",
      "source": [
        "# the long way:\n",
        "\n",
        "some_nums = []\n",
        "\n",
        "for x in my_numbers:\n",
        "    if x > 5:\n",
        "        some_nums.append(x)\n",
        "\n",
        "print(some_nums)"
      ],
      "metadata": {
        "colab": {
          "base_uri": "https://localhost:8080/"
        },
        "id": "jxtxSlcViH8P",
        "outputId": "ca509385-9a41-434b-ae34-178f847f0d88"
      },
      "execution_count": null,
      "outputs": [
        {
          "output_type": "stream",
          "name": "stdout",
          "text": [
            "[6, 7]\n"
          ]
        }
      ]
    },
    {
      "cell_type": "code",
      "source": [
        "# using a list comprehension one liner\n",
        "[x for x in my_numbers if x > 5]"
      ],
      "metadata": {
        "colab": {
          "base_uri": "https://localhost:8080/"
        },
        "id": "Ertt5M_bjOiQ",
        "outputId": "d86be3a9-a066-45b4-db09-0d6e2d4c789b"
      },
      "execution_count": null,
      "outputs": [
        {
          "output_type": "execute_result",
          "data": {
            "text/plain": [
              "[6, 7]"
            ]
          },
          "metadata": {},
          "execution_count": 26
        }
      ]
    },
    {
      "cell_type": "markdown",
      "source": [
        "List Comprehensions for Mapping and Filtering:"
      ],
      "metadata": {
        "id": "jDxd-FMUjgGj"
      }
    },
    {
      "cell_type": "code",
      "source": [
        "# using a list comprehension one liner\n",
        "[x*100 for x in my_numbers if x > 5]"
      ],
      "metadata": {
        "colab": {
          "base_uri": "https://localhost:8080/"
        },
        "id": "x97LLQEmjmaB",
        "outputId": "587afe93-ed28-4251-cd07-991b57c3ad42"
      },
      "execution_count": null,
      "outputs": [
        {
          "output_type": "execute_result",
          "data": {
            "text/plain": [
              "[600, 700]"
            ]
          },
          "metadata": {},
          "execution_count": 27
        }
      ]
    },
    {
      "cell_type": "markdown",
      "source": [
        "## Ranges"
      ],
      "metadata": {
        "id": "n_9xKT31iemJ"
      }
    },
    {
      "cell_type": "markdown",
      "source": [
        "Assembling Ranges:"
      ],
      "metadata": {
        "id": "3VhaeIBDic6H"
      }
    },
    {
      "cell_type": "code",
      "source": [
        "list(range(0, 10))"
      ],
      "metadata": {
        "colab": {
          "base_uri": "https://localhost:8080/"
        },
        "id": "PMicAqWrih8M",
        "outputId": "dd180d92-888d-460e-dcfb-382326d77630"
      },
      "execution_count": null,
      "outputs": [
        {
          "output_type": "execute_result",
          "data": {
            "text/plain": [
              "[0, 1, 2, 3, 4, 5, 6, 7, 8, 9]"
            ]
          },
          "metadata": {},
          "execution_count": 28
        }
      ]
    },
    {
      "cell_type": "code",
      "source": [
        "list(range(1, 10))"
      ],
      "metadata": {
        "colab": {
          "base_uri": "https://localhost:8080/"
        },
        "id": "fGwWOIB-ilW5",
        "outputId": "0b7a0f32-f0fd-426e-ff4a-9c7f8422c68a"
      },
      "execution_count": null,
      "outputs": [
        {
          "output_type": "execute_result",
          "data": {
            "text/plain": [
              "[1, 2, 3, 4, 5, 6, 7, 8, 9]"
            ]
          },
          "metadata": {},
          "execution_count": 29
        }
      ]
    },
    {
      "cell_type": "code",
      "source": [
        "n = 10\n",
        "\n",
        "list(range(1, n+1))"
      ],
      "metadata": {
        "colab": {
          "base_uri": "https://localhost:8080/"
        },
        "id": "Kt2f_3BJio17",
        "outputId": "514f2f98-e222-4f16-c352-9b586031d3c4"
      },
      "execution_count": null,
      "outputs": [
        {
          "output_type": "execute_result",
          "data": {
            "text/plain": [
              "[1, 2, 3, 4, 5, 6, 7, 8, 9, 10]"
            ]
          },
          "metadata": {},
          "execution_count": 30
        }
      ]
    },
    {
      "cell_type": "code",
      "source": [
        "for num in range(0,3):\n",
        "    print(num)"
      ],
      "metadata": {
        "colab": {
          "base_uri": "https://localhost:8080/"
        },
        "id": "Z-RdGBZ2ix9g",
        "outputId": "2f4e245c-8db8-47dc-8c29-75c3cdb170ed"
      },
      "execution_count": null,
      "outputs": [
        {
          "output_type": "stream",
          "name": "stdout",
          "text": [
            "0\n",
            "1\n",
            "2\n"
          ]
        }
      ]
    },
    {
      "cell_type": "code",
      "source": [
        "for i in range(3):\n",
        "    print(i)"
      ],
      "metadata": {
        "colab": {
          "base_uri": "https://localhost:8080/"
        },
        "id": "DVhH5_35QZuB",
        "outputId": "73919311-e3f5-41e8-85b7-358a409418b0"
      },
      "execution_count": null,
      "outputs": [
        {
          "output_type": "stream",
          "name": "stdout",
          "text": [
            "0\n",
            "1\n",
            "2\n"
          ]
        }
      ]
    },
    {
      "cell_type": "markdown",
      "metadata": {
        "id": "-KpOcL7dRi0y"
      },
      "source": [
        "# Python Data Challenges\n"
      ]
    },
    {
      "cell_type": "markdown",
      "metadata": {
        "id": "jkFPIYgmG6ag"
      },
      "source": [
        "## Challenge 1 (Gradebook)\n"
      ]
    },
    {
      "cell_type": "markdown",
      "metadata": {
        "id": "S-JKOpkHSpfB"
      },
      "source": [
        "\n",
        "Given the Python variable called `gradebook` provided below, write Python code which references that variable to perform each of the following tasks...\n",
        "\n",
        "A) Print the date this data was downloaded (i.e. `\"2018-06-05\"`).\n",
        "\n",
        "B) Print the number of students in the gradebook (i.e. `10`).\n",
        "\n",
        "C) Loop through each student and print their grade, each on a new line.\n",
        "\n",
        "D) Print the average grade (i.e. `83.64`). \n",
        "\n",
        "E) Print the median grade (i.e. `87.6`). HINT: it might be helpful to leverage [the `statistics` module](https://github.com/prof-rossetti/intro-to-python/blob/master/notes/python/modules/statistics.md) or the `numpy` package\n",
        "\n"
      ]
    },
    {
      "cell_type": "code",
      "metadata": {
        "id": "7mLcsfnESwG1"
      },
      "source": [
        "# leave this cell as-is (and run it)\n",
        "gradebook = {\n",
        "    \"downloadDate\": \"2018-06-05\",\n",
        "    \"professorId\": 123,\n",
        "    \"students\":[\n",
        "        {\"studentId\": 1, \"finalGrade\": 76.7},\n",
        "        {\"studentId\": 2, \"finalGrade\": 85.1},\n",
        "        {\"studentId\": 3, \"finalGrade\": 50.3},\n",
        "        {\"studentId\": 4, \"finalGrade\": 89.8},\n",
        "        {\"studentId\": 5, \"finalGrade\": 97.4},\n",
        "        {\"studentId\": 6, \"finalGrade\": 75.5},\n",
        "        {\"studentId\": 7, \"finalGrade\": 87.2},\n",
        "        {\"studentId\": 8, \"finalGrade\": 88.0},\n",
        "        {\"studentId\": 9, \"finalGrade\": 93.9},\n",
        "        {\"studentId\": 10, \"finalGrade\": 92.5}\n",
        "    ]\n",
        "}"
      ],
      "execution_count": null,
      "outputs": []
    },
    {
      "cell_type": "code",
      "metadata": {
        "colab": {
          "base_uri": "https://localhost:8080/"
        },
        "id": "MCaUtr-QjxDB",
        "outputId": "f8d0bc1e-d8d4-43b4-e60d-d4f405c9aeec"
      },
      "source": [
        "print(\"------------------\")\n",
        "print(\"PROCESSING GRADEBOOK DATA...\")\n",
        "print(\"------------------\")\n",
        "\n",
        "# todo: write some python here\n",
        "\n",
        "\n",
        "print(gradebook[\"downloadDate\"])\n"
      ],
      "execution_count": null,
      "outputs": [
        {
          "output_type": "stream",
          "name": "stdout",
          "text": [
            "------------------\n",
            "PROCESSING GRADEBOOK DATA...\n",
            "------------------\n",
            "2018-06-05\n"
          ]
        }
      ]
    },
    {
      "cell_type": "code",
      "source": [
        "for student in gradebook[\"students\"]:\n",
        "    print(\"STUDENT:\", student[\"studentId\"], \"GRADE:\", student[\"finalGrade\"])"
      ],
      "metadata": {
        "colab": {
          "base_uri": "https://localhost:8080/"
        },
        "id": "07q7zijQaXor",
        "outputId": "7fa9fd60-9089-4683-9c9f-8d5cce0c7b11"
      },
      "execution_count": null,
      "outputs": [
        {
          "output_type": "stream",
          "name": "stdout",
          "text": [
            "STUDENT: 1 GRADE: 76.7\n",
            "STUDENT: 2 GRADE: 85.1\n",
            "STUDENT: 3 GRADE: 50.3\n",
            "STUDENT: 4 GRADE: 89.8\n",
            "STUDENT: 5 GRADE: 97.4\n",
            "STUDENT: 6 GRADE: 75.5\n",
            "STUDENT: 7 GRADE: 87.2\n",
            "STUDENT: 8 GRADE: 88.0\n",
            "STUDENT: 9 GRADE: 93.9\n",
            "STUDENT: 10 GRADE: 92.5\n"
          ]
        }
      ]
    },
    {
      "cell_type": "code",
      "source": [
        "\n",
        "grades = []\n",
        "\n",
        "for s in gradebook[\"students\"]:\n",
        "    grades.append(s[\"finalGrade\"])\n",
        "\n",
        "print(grades)"
      ],
      "metadata": {
        "colab": {
          "base_uri": "https://localhost:8080/"
        },
        "id": "NVZTjT0Sajdi",
        "outputId": "c52a8e11-4b46-4a6c-bd65-538064a7587d"
      },
      "execution_count": null,
      "outputs": [
        {
          "output_type": "stream",
          "name": "stdout",
          "text": [
            "[76.7, 85.1, 50.3, 89.8, 97.4, 75.5, 87.2, 88.0, 93.9, 92.5]\n"
          ]
        }
      ]
    },
    {
      "cell_type": "code",
      "source": [
        "from statistics import mean, median\n",
        "import numpy as np\n",
        "\n",
        "print(\"MEAN:\", mean(grades))\n",
        "print(\"MEAN:\", np.mean(grades))\n",
        "\n",
        "\n",
        "print(\"MEDIAN:\", median(grades))\n",
        "print(\"MEDIAN:\", np.median(grades))"
      ],
      "metadata": {
        "colab": {
          "base_uri": "https://localhost:8080/"
        },
        "id": "HIUoYZsSazv0",
        "outputId": "a34df31a-23ae-4853-9113-d5f6b62117fc"
      },
      "execution_count": null,
      "outputs": [
        {
          "output_type": "stream",
          "name": "stdout",
          "text": [
            "MEAN: 83.64\n",
            "MEAN: 83.64\n",
            "MEDIAN: 87.6\n",
            "MEDIAN: 87.6\n"
          ]
        }
      ]
    },
    {
      "cell_type": "markdown",
      "metadata": {
        "id": "H6vAJbNjG_US"
      },
      "source": [
        "## Challenge 2 (Rideshare)\n"
      ]
    },
    {
      "cell_type": "markdown",
      "metadata": {
        "id": "-uRFHQMYRkpb"
      },
      "source": [
        "\n",
        "\n",
        "Given the Python variable called `trip` provided below, write Python code which references that variable to perform each of the following tasks...\n",
        "\n",
        "A) Print a human-friendly message to denote the driver’s first name (i.e. `“Your driver is Danny\"`).\n",
        "\n",
        "B) Assuming stops can get added or removed at any time, print the number of stops this trip makes (i.e. `3`).\n",
        "\n",
        "C) Assuming the stops will always be listed in ascending order of their stop sequence, and there will always be at least one stop, print the destination of the FIRST stop (i.e. `\"Madison Square”`).\n",
        "\n",
        "D) Assuming the stops will always be listed in ascending order of their stop sequence, and there will always be at least one stop, but the number of stops may change at any time, print the destination of the LAST stop (i.e. `“Washington Square”`).\n",
        "\n",
        "E) Loop through each of the trip’s stops and print that stop’s passenger name, one at a time (i.e. `“Vishal”`, then `“Clara”`, then `“Lee”`, each on a separate line):\n",
        "\n"
      ]
    },
    {
      "cell_type": "code",
      "metadata": {
        "id": "MSyUjpWA-11o"
      },
      "source": [
        "# leave this cell as-is (and run it)\n",
        "trip = {\n",
        "    \"driver\": {\n",
        "        \"first_name\": \"Danny\",\n",
        "        \"last_name\": \"Dreyfus\",\n",
        "        \"avg_rating\": 3.6,\n",
        "        \"total_rides\": 950\n",
        "    },\n",
        "    \"vehicle\": {\n",
        "        \"make\": \"Tesla\",\n",
        "        \"model\": \"Cybertruck\",\n",
        "        \"year\": 2021,\n",
        "        \"color\": \"silver\"\n",
        "    },\n",
        "    \"rideshare\": True,\n",
        "    \"pickup_location\": \"Grand Central Terminal\",\n",
        "    \"stops\": [\n",
        "        {\"sequence\": 1, \"passenger\": \"Vishal\", \"destination\": \"Madison Square\", \"fare\": 3.99},\n",
        "        {\"sequence\": 2, \"passenger\": \"Clara\", \"destination\": \"Union Square\", \"fare\": 5.99},\n",
        "        {\"sequence\": 3, \"passenger\": \"Lee\", \"destination\": \"Washington Square\", \"fare\": 7.99}\n",
        "    ]\n",
        "}\n",
        "\n"
      ],
      "execution_count": null,
      "outputs": []
    },
    {
      "cell_type": "code",
      "metadata": {
        "colab": {
          "base_uri": "https://localhost:8080/"
        },
        "id": "2H5Id5qTj9zM",
        "outputId": "f751fb6a-2066-44bd-b1df-5d2ae76975f4"
      },
      "source": [
        "\n",
        "print(\"------------------\")\n",
        "print(\"PROCESSING RIDESHARE DATA...\")\n",
        "print(\"------------------\")\n",
        "\n",
        "# todo: write some python here\n",
        "\n",
        "\n",
        "\n",
        "\n",
        "#A) Print a human-friendly message to denote the driver’s first name (i.e. “Your driver is Danny\").\n",
        "\n",
        "print(trip[\"driver\"][\"first_name\"])\n",
        "\n",
        "#B) Assuming stops can get added or removed at any time, print the number of stops this trip makes (i.e. 3).\n",
        "\n",
        "print(len(trip[\"stops\"]))\n",
        "\n",
        "#C) Assuming the stops will always be listed in ascending order of their stop sequence, and there will always be at least one stop, \n",
        "# ... print the destination of the FIRST stop (i.e. \"Madison Square”).\n",
        "\n",
        "print(trip[\"stops\"][0][\"destination\"])\n",
        "\n",
        "#D) Assuming the stops will always be listed in ascending order of their stop sequence, and there will always be at least one stop, but the number of stops may change at any time, \n",
        "# ... print the destination of the LAST stop (i.e. “Washington Square”).\n",
        "\n",
        "print(trip[\"stops\"][-1][\"destination\"])\n",
        "\n",
        "\n",
        "#E) Loop through each of the trip’s stops and print that stop’s passenger name, one at a time (i.e. “Vishal”, then “Clara”, then “Lee”, each on a separate line):\n",
        "\n",
        "for s in trip[\"stops\"]:\n",
        "    print(s[\"passenger\"])"
      ],
      "execution_count": null,
      "outputs": [
        {
          "output_type": "stream",
          "name": "stdout",
          "text": [
            "------------------\n",
            "PROCESSING RIDESHARE DATA...\n",
            "------------------\n",
            "Danny\n",
            "3\n",
            "Madison Square\n",
            "Washington Square\n",
            "Vishal\n",
            "Clara\n",
            "Lee\n"
          ]
        }
      ]
    },
    {
      "cell_type": "code",
      "source": [],
      "metadata": {
        "id": "kLVECFwSHAKT"
      },
      "execution_count": null,
      "outputs": []
    },
    {
      "cell_type": "code",
      "source": [],
      "metadata": {
        "id": "Gt7qdjT2HAIO"
      },
      "execution_count": null,
      "outputs": []
    },
    {
      "cell_type": "markdown",
      "metadata": {
        "id": "frq5vQMsHOS1"
      },
      "source": [
        "## Challenge 3 (Social Media Posts)\n"
      ]
    },
    {
      "cell_type": "markdown",
      "metadata": {
        "id": "qHWXSX8iRkBU"
      },
      "source": [
        "\n",
        "Given the Python variable called `tweets` provided below, write Python code which references that variable to perform each of the following tasks...\n",
        "\n",
        "A) Print the screen name of the user who authored the first tweet (i.e. `“sandwhoa”`).\n",
        "\n",
        "\n",
        "B) Of all the tweets which include the phrase `“@sandwhoa”` in their full text, print the screen name of the user who authored that tweet, each on a separate line (i.e. `“person2”`, then `“person3”`).\n",
        "\n",
        "C) Of all the tweets which include the phrase `“@sandwhoa”` in their full text, determine which tweet has the greatest number of likes, and then print the screen name of the user who authored that tweet (i.e. `“person3”`). FYI: Assume the tweet order can change at any time and has no relationship with the number of likes.\n"
      ]
    },
    {
      "cell_type": "code",
      "metadata": {
        "id": "nY7zZDCm-8OD"
      },
      "source": [
        "# leave this cell as-is (and run it)\n",
        "tweets = [\n",
        "    {\n",
        "        \"id\": 100200297,\n",
        "        \"full_text\": \"Look at this delicious sandwich!\",\n",
        "        \"img_url\": \"https://sandwhoa.com/sandwich.png\",\n",
        "        \"user\": {\"screen_name\": \"sandwhoa\", \"followers\": 5000},\n",
        "        \"likes_count\": 150\n",
        "    },\n",
        "    {\n",
        "        \"id\": 100200298,\n",
        "        \"full_text\": \"I love sandwiches\",\n",
        "        \"img_url\": None,\n",
        "        \"user\": {\"screen_name\": \"person1\", \"followers\": 100},\n",
        "        \"likes_count\": 5\n",
        "    },\n",
        "    {\n",
        "        \"id\": 100200299,\n",
        "        \"full_text\": \"@sandwhoa yumm...\",\n",
        "        \"img_url\": None,\n",
        "        \"user\": {\"screen_name\": \"person2\", \"followers\": 200},\n",
        "        \"likes_count\": 10\n",
        "    },\n",
        "    {\n",
        "        \"id\": 100200300,\n",
        "        \"full_text\": \"@sandwhoa that sandwich looks amazing!!\",\n",
        "        \"img_url\": None,\n",
        "        \"user\": {\"screen_name\": \"person3\", \"followers\": 300},\n",
        "        \"likes_count\": 35\n",
        "    },\n",
        "    {\n",
        "        \"id\": 100200301,\n",
        "        \"full_text\": \"I ate a great sandwich today\",\n",
        "        \"img_url\": None,\n",
        "        \"user\": {\"screen_name\": \"person4\", \"followers\": 400},\n",
        "        \"likes_count\": 50\n",
        "    }\n",
        "]\n"
      ],
      "execution_count": null,
      "outputs": []
    },
    {
      "cell_type": "code",
      "metadata": {
        "colab": {
          "base_uri": "https://localhost:8080/"
        },
        "id": "hsy4ZFCRj_ce",
        "outputId": "8d2bf272-527b-4450-802a-39fd70976b90"
      },
      "source": [
        "\n",
        "print(\"------------------\")\n",
        "print(\"PROCESSING SOCIAL MEDIA DATA...\")\n",
        "print(\"------------------\")\n",
        "\n",
        "# todo: write some python here\n",
        "\n",
        "\n",
        "\n",
        "# A) Print the screen name of the user who authored the first tweet (i.e. “sandwhoa”).\n",
        "\n",
        "print(tweets[0][\"user\"][\"screen_name\"])\n"
      ],
      "execution_count": null,
      "outputs": [
        {
          "output_type": "stream",
          "name": "stdout",
          "text": [
            "------------------\n",
            "PROCESSING SOCIAL MEDIA DATA...\n",
            "------------------\n",
            "sandwhoa\n"
          ]
        }
      ]
    },
    {
      "cell_type": "code",
      "source": [
        "\n",
        "# B) Of all the tweets which include the phrase “@sandwhoa” in their full text, \n",
        "# .. print the screen name of the user who authored that tweet, each on a separate line (i.e. “person2”, then “person3”).\n",
        "\n",
        "# the long way\n",
        "for t in tweets:\n",
        "    if \"@sandwhoa\" in t[\"full_text\"]:\n",
        "        print(t[\"user\"][\"screen_name\"])\n",
        "\n"
      ],
      "metadata": {
        "colab": {
          "base_uri": "https://localhost:8080/"
        },
        "id": "4RtOH6C8HesI",
        "outputId": "cc3a0d21-dad2-4e0b-d8bd-eac48bf6bf01"
      },
      "execution_count": null,
      "outputs": [
        {
          "output_type": "stream",
          "name": "stdout",
          "text": [
            "person2\n",
            "person3\n"
          ]
        }
      ]
    },
    {
      "cell_type": "code",
      "source": [
        "# one liner alternative, also collect for later:\n",
        "matching_tweets = [t for t in tweets if \"@sandwhoa\" in t[\"full_text\"]]\n",
        "\n",
        "print(len(matching_tweets))\n",
        "\n",
        "for tweet in matching_tweets:\n",
        "    print(tweet[\"user\"][\"screen_name\"])"
      ],
      "metadata": {
        "colab": {
          "base_uri": "https://localhost:8080/"
        },
        "id": "vdxdbspbH8CM",
        "outputId": "86da5c45-7498-4ffe-b55b-adb5356d2f79"
      },
      "execution_count": null,
      "outputs": [
        {
          "output_type": "stream",
          "name": "stdout",
          "text": [
            "2\n",
            "person2\n",
            "person3\n"
          ]
        }
      ]
    },
    {
      "cell_type": "code",
      "source": [
        "\n",
        "# C) Of all the tweets which include the phrase “@sandwhoa” in their full text, \n",
        "# ... determine which tweet has the greatest number of likes, \n",
        "# and then print the screen name of the user who authored that tweet \n",
        "# (i.e. “person3”). FYI: Assume the tweet order can change at any time and has no relationship with the number of likes.\n",
        "\n",
        "from operator import itemgetter\n",
        "\n",
        "sorted_matches = sorted(matching_tweets, key=itemgetter(\"likes_count\"), reverse=True)\n",
        "\n",
        "top_match = sorted_matches[0]\n",
        "\n",
        "print(top_match)\n",
        "\n",
        "print(top_match[\"user\"][\"screen_name\"])"
      ],
      "metadata": {
        "colab": {
          "base_uri": "https://localhost:8080/"
        },
        "id": "6ekArXX5HemJ",
        "outputId": "1a0ee15b-91c3-44cc-8ed8-d125c65dc333"
      },
      "execution_count": null,
      "outputs": [
        {
          "output_type": "stream",
          "name": "stdout",
          "text": [
            "{'id': 100200300, 'full_text': '@sandwhoa that sandwich looks amazing!!', 'img_url': None, 'user': {'screen_name': 'person3', 'followers': 300}, 'likes_count': 35}\n",
            "person3\n"
          ]
        }
      ]
    },
    {
      "cell_type": "code",
      "source": [],
      "metadata": {
        "id": "VxQSxSmTHeh0"
      },
      "execution_count": null,
      "outputs": []
    },
    {
      "cell_type": "markdown",
      "metadata": {
        "id": "IPkloYZT47ap"
      },
      "source": [
        "## Challenge 4 (Weather Forecast)\n",
        "\n"
      ]
    },
    {
      "cell_type": "markdown",
      "metadata": {
        "id": "g49sx66W6PGu"
      },
      "source": [
        "\n",
        "Given the Python variable called `weather_data` provided below, write Python code which references that variable to perform the following tasks...\n",
        "\n",
        "A) For each day in the provided data (excluding night-time forecasts), print a human-readable weather forecast on that date. \n",
        "\n",
        "B) ... and display an image of the weather on that date. HINT: see example image display setup cell below, using `IPython.display` module."
      ]
    },
    {
      "cell_type": "code",
      "source": [
        "\n",
        "#\n",
        "# SETUP CELL \n",
        "# ... leave this cell as-is (and run it to see the example images)\n",
        "# ... feel free to reference / adapt this code later\n",
        "#\n",
        "\n",
        "from IPython.display import Image, display \n",
        "\n",
        "print(\"-----------\")\n",
        "print(\"EXAMPLE IMAGES:\")\n",
        "\n",
        "print(\"-----------\")\n",
        "image_url = \"https://upload.wikimedia.org/wikipedia/commons/thumb/9/9f/Georgetown_Hoyas_logo.svg/64px-Georgetown_Hoyas_logo.svg.png\"\n",
        "#image_url = \"https://www.clipartmax.com/png/middle/285-2854649_nyu-logo-new-york-university-logo.png\"\n",
        "display(Image(url=image_url, height=100))\n",
        "\n",
        "print(\"-----------\")\n",
        "display(Image(url=\"https://www.python.org/static/community_logos/python-powered-w-200x80.png\"))\n",
        "\n",
        "print(\"-----------\")\n",
        "display(Image(url=\"https://api.weather.gov/icons/land/day/tsra_sct,60?size=medium\", height=100))"
      ],
      "metadata": {
        "colab": {
          "base_uri": "https://localhost:8080/",
          "height": 398
        },
        "id": "l1f_e3niyVV9",
        "outputId": "a773a36e-48d3-48b5-ded1-574902901ac4"
      },
      "execution_count": null,
      "outputs": [
        {
          "output_type": "stream",
          "name": "stdout",
          "text": [
            "-----------\n",
            "EXAMPLE IMAGES:\n",
            "-----------\n"
          ]
        },
        {
          "output_type": "display_data",
          "data": {
            "text/html": [
              "<img src=\"https://upload.wikimedia.org/wikipedia/commons/thumb/9/9f/Georgetown_Hoyas_logo.svg/64px-Georgetown_Hoyas_logo.svg.png\" height=\"100\"/>"
            ],
            "text/plain": [
              "<IPython.core.display.Image object>"
            ]
          },
          "metadata": {}
        },
        {
          "output_type": "stream",
          "name": "stdout",
          "text": [
            "-----------\n"
          ]
        },
        {
          "output_type": "display_data",
          "data": {
            "text/html": [
              "<img src=\"https://www.python.org/static/community_logos/python-powered-w-200x80.png\"/>"
            ],
            "text/plain": [
              "<IPython.core.display.Image object>"
            ]
          },
          "metadata": {}
        },
        {
          "output_type": "stream",
          "name": "stdout",
          "text": [
            "-----------\n"
          ]
        },
        {
          "output_type": "display_data",
          "data": {
            "text/html": [
              "<img src=\"https://api.weather.gov/icons/land/day/tsra_sct,60?size=medium\" height=\"100\"/>"
            ],
            "text/plain": [
              "<IPython.core.display.Image object>"
            ]
          },
          "metadata": {}
        }
      ]
    },
    {
      "cell_type": "code",
      "metadata": {
        "id": "29TZ3ctX45tp"
      },
      "source": [
        "# leave this cell as-is (and run it)\n",
        "\n",
        "weather_data = {\n",
        "    \"type\": \"Feature\",\n",
        "    \"geometry\": {\n",
        "        \"type\": \"Polygon\",\n",
        "        \"coordinates\": [\n",
        "            [\n",
        "                [-77.036996200000004, 38.900789000000003],\n",
        "                [-77.040754800000002, 38.878836500000006],\n",
        "                [-77.012551900000005,  38.875908600000002],\n",
        "                [-77.008787600000005, 38.897860800000004],\n",
        "                [-77.036996200000004, 38.900789000000003]\n",
        "            ]\n",
        "        ]\n",
        "    },\n",
        "    \"properties\": {\n",
        "        \"updated\": \"2021-06-08T17:34:46+00:00\",\n",
        "        \"units\": \"us\",\n",
        "        \"forecastGenerator\": \"BaselineForecastGenerator\",\n",
        "        \"generatedAt\": \"2021-06-08T18:32:38+00:00\",\n",
        "        \"updateTime\": \"2021-06-08T17:34:46+00:00\",\n",
        "        \"validTimes\": \"2021-06-08T11:00:00+00:00/P7DT14H\",\n",
        "        \"elevation\": {\n",
        "            \"value\": 6.0960000000000001,\n",
        "            \"unitCode\": \"unit:m\"\n",
        "        },\n",
        "        \"periods\": [\n",
        "            {\n",
        "                \"number\": 1,\n",
        "                \"name\": \"This Afternoon\",\n",
        "                \"startTime\": \"2021-06-08T14:00:00-04:00\",\n",
        "                \"endTime\": \"2021-06-08T18:00:00-04:00\",\n",
        "                \"isDaytime\": True,\n",
        "                \"temperature\": 91,\n",
        "                \"temperatureUnit\": \"F\",\n",
        "                \"temperatureTrend\": None,\n",
        "                \"windSpeed\": \"7 mph\",\n",
        "                \"windDirection\": \"W\",\n",
        "                \"icon\": \"https://api.weather.gov/icons/land/day/tsra_sct,60?size=medium\",\n",
        "                \"shortForecast\": \"Showers And Thunderstorms Likely\",\n",
        "                \"detailedForecast\": \"Showers and thunderstorms likely. Partly sunny, with a high near 91. West wind around 7 mph. Chance of precipitation is 60%. New rainfall amounts less than a tenth of an inch possible.\"\n",
        "            },\n",
        "            {\n",
        "                \"number\": 2,\n",
        "                \"name\": \"Tonight\",\n",
        "                \"startTime\": \"2021-06-08T18:00:00-04:00\",\n",
        "                \"endTime\": \"2021-06-09T06:00:00-04:00\",\n",
        "                \"isDaytime\": False,\n",
        "                \"temperature\": 73,\n",
        "                \"temperatureUnit\": \"F\",\n",
        "                \"temperatureTrend\": None,\n",
        "                \"windSpeed\": \"1 to 6 mph\",\n",
        "                \"windDirection\": \"SW\",\n",
        "                \"icon\": \"https://api.weather.gov/icons/land/night/tsra_sct,60/tsra_sct,20?size=medium\",\n",
        "                \"shortForecast\": \"Showers And Thunderstorms Likely then Chance Showers And Thunderstorms\",\n",
        "                \"detailedForecast\": \"Showers and thunderstorms likely before 8pm, then a chance of showers and thunderstorms between 8pm and 2am. Mostly cloudy, with a low around 73. Southwest wind 1 to 6 mph. Chance of precipitation is 60%. New rainfall amounts between a tenth and quarter of an inch possible.\"\n",
        "            },\n",
        "            {\n",
        "                \"number\": 3,\n",
        "                \"name\": \"Wednesday\",\n",
        "                \"startTime\": \"2021-06-09T06:00:00-04:00\",\n",
        "                \"endTime\": \"2021-06-09T18:00:00-04:00\",\n",
        "                \"isDaytime\": True,\n",
        "                \"temperature\": 90,\n",
        "                \"temperatureUnit\": \"F\",\n",
        "                \"temperatureTrend\": None,\n",
        "                \"windSpeed\": \"1 to 6 mph\",\n",
        "                \"windDirection\": \"W\",\n",
        "                \"icon\": \"https://api.weather.gov/icons/land/day/tsra_sct,30/tsra_sct,60?size=medium\",\n",
        "                \"shortForecast\": \"Showers And Thunderstorms Likely\",\n",
        "                \"detailedForecast\": \"A slight chance of rain showers between 8am and 11am, then showers and thunderstorms likely. Mostly cloudy, with a high near 90. West wind 1 to 6 mph. Chance of precipitation is 60%. New rainfall amounts between a tenth and quarter of an inch possible.\"\n",
        "            },\n",
        "            {\n",
        "                \"number\": 4,\n",
        "                \"name\": \"Wednesday Night\",\n",
        "                \"startTime\": \"2021-06-09T18:00:00-04:00\",\n",
        "                \"endTime\": \"2021-06-10T06:00:00-04:00\",\n",
        "                \"isDaytime\": False,\n",
        "                \"temperature\": 71,\n",
        "                \"temperatureUnit\": \"F\",\n",
        "                \"temperatureTrend\": None,\n",
        "                \"windSpeed\": \"1 to 6 mph\",\n",
        "                \"windDirection\": \"W\",\n",
        "                \"icon\": \"https://api.weather.gov/icons/land/night/tsra_sct,60/tsra_sct,30?size=medium\",\n",
        "                \"shortForecast\": \"Showers And Thunderstorms Likely\",\n",
        "                \"detailedForecast\": \"Showers and thunderstorms likely before 2am, then a slight chance of showers and thunderstorms. Mostly cloudy, with a low around 71. West wind 1 to 6 mph. Chance of precipitation is 60%. New rainfall amounts between a tenth and quarter of an inch possible.\"\n",
        "            },\n",
        "            {\n",
        "                \"number\": 5,\n",
        "                \"name\": \"Thursday\",\n",
        "                \"startTime\": \"2021-06-10T06:00:00-04:00\",\n",
        "                \"endTime\": \"2021-06-10T18:00:00-04:00\",\n",
        "                \"isDaytime\": True,\n",
        "                \"temperature\": 89,\n",
        "                \"temperatureUnit\": \"F\",\n",
        "                \"temperatureTrend\": None,\n",
        "                \"windSpeed\": \"1 to 6 mph\",\n",
        "                \"windDirection\": \"NE\",\n",
        "                \"icon\": \"https://api.weather.gov/icons/land/day/tsra_hi,60/tsra_hi,80?size=medium\",\n",
        "                \"shortForecast\": \"Showers And Thunderstorms\",\n",
        "                \"detailedForecast\": \"Showers and thunderstorms. Partly sunny, with a high near 89. Northeast wind 1 to 6 mph. Chance of precipitation is 80%.\"\n",
        "            },\n",
        "            {\n",
        "                \"number\": 6,\n",
        "                \"name\": \"Thursday Night\",\n",
        "                \"startTime\": \"2021-06-10T18:00:00-04:00\",\n",
        "                \"endTime\": \"2021-06-11T06:00:00-04:00\",\n",
        "                \"isDaytime\": False,\n",
        "                \"temperature\": 70,\n",
        "                \"temperatureUnit\": \"F\",\n",
        "                \"temperatureTrend\": None,\n",
        "                \"windSpeed\": \"2 to 6 mph\",\n",
        "                \"windDirection\": \"E\",\n",
        "                \"icon\": \"https://api.weather.gov/icons/land/night/tsra,80?size=medium\",\n",
        "                \"shortForecast\": \"Showers And Thunderstorms\",\n",
        "                \"detailedForecast\": \"Showers and thunderstorms. Mostly cloudy, with a low around 70. Chance of precipitation is 80%.\"\n",
        "            },\n",
        "            {\n",
        "                \"number\": 7,\n",
        "                \"name\": \"Friday\",\n",
        "                \"startTime\": \"2021-06-11T06:00:00-04:00\",\n",
        "                \"endTime\": \"2021-06-11T18:00:00-04:00\",\n",
        "                \"isDaytime\": True,\n",
        "                \"temperature\": 76,\n",
        "                \"temperatureUnit\": \"F\",\n",
        "                \"temperatureTrend\": None,\n",
        "                \"windSpeed\": \"2 to 8 mph\",\n",
        "                \"windDirection\": \"E\",\n",
        "                \"icon\": \"https://api.weather.gov/icons/land/day/tsra,80?size=medium\",\n",
        "                \"shortForecast\": \"Showers And Thunderstorms\",\n",
        "                \"detailedForecast\": \"Showers and thunderstorms. Mostly cloudy, with a high near 76. Chance of precipitation is 80%.\"\n",
        "            },\n",
        "            {\n",
        "                \"number\": 8,\n",
        "                \"name\": \"Friday Night\",\n",
        "                \"startTime\": \"2021-06-11T18:00:00-04:00\",\n",
        "                \"endTime\": \"2021-06-12T06:00:00-04:00\",\n",
        "                \"isDaytime\": False,\n",
        "                \"temperature\": 64,\n",
        "                \"temperatureUnit\": \"F\",\n",
        "                \"temperatureTrend\": None,\n",
        "                \"windSpeed\": \"7 mph\",\n",
        "                \"windDirection\": \"NE\",\n",
        "                \"icon\": \"https://api.weather.gov/icons/land/night/tsra,80/tsra,70?size=medium\",\n",
        "                \"shortForecast\": \"Showers And Thunderstorms\",\n",
        "                \"detailedForecast\": \"Showers and thunderstorms. Mostly cloudy, with a low around 64. Chance of precipitation is 80%.\"\n",
        "            },\n",
        "            {\n",
        "                \"number\": 9,\n",
        "                \"name\": \"Saturday\",\n",
        "                \"startTime\": \"2021-06-12T06:00:00-04:00\",\n",
        "                \"endTime\": \"2021-06-12T18:00:00-04:00\",\n",
        "                \"isDaytime\": True,\n",
        "                \"temperature\": 79,\n",
        "                \"temperatureUnit\": \"F\",\n",
        "                \"temperatureTrend\": None,\n",
        "                \"windSpeed\": \"7 mph\",\n",
        "                \"windDirection\": \"NE\",\n",
        "                \"icon\": \"https://api.weather.gov/icons/land/day/rain_showers,50/tsra_sct,50?size=medium\",\n",
        "                \"shortForecast\": \"Chance Rain Showers\",\n",
        "                \"detailedForecast\": \"A chance of rain showers before 2pm, then a chance of showers and thunderstorms. Partly sunny, with a high near 79. Chance of precipitation is 50%.\"\n",
        "            },\n",
        "            {\n",
        "                \"number\": 10,\n",
        "                \"name\": \"Saturday Night\",\n",
        "                \"startTime\": \"2021-06-12T18:00:00-04:00\",\n",
        "                \"endTime\": \"2021-06-13T06:00:00-04:00\",\n",
        "                \"isDaytime\": False,\n",
        "                \"temperature\": 63,\n",
        "                \"temperatureUnit\": \"F\",\n",
        "                \"temperatureTrend\": None,\n",
        "                \"windSpeed\": \"2 to 7 mph\",\n",
        "                \"windDirection\": \"E\",\n",
        "                \"icon\": \"https://api.weather.gov/icons/land/night/tsra_hi,40/tsra_hi,30?size=medium\",\n",
        "                \"shortForecast\": \"Chance Showers And Thunderstorms\",\n",
        "                \"detailedForecast\": \"A chance of showers and thunderstorms. Partly cloudy, with a low around 63. Chance of precipitation is 40%.\"\n",
        "            },\n",
        "            {\n",
        "                \"number\": 11,\n",
        "                \"name\": \"Sunday\",\n",
        "                \"startTime\": \"2021-06-13T06:00:00-04:00\",\n",
        "                \"endTime\": \"2021-06-13T18:00:00-04:00\",\n",
        "                \"isDaytime\": True,\n",
        "                \"temperature\": 82,\n",
        "                \"temperatureUnit\": \"F\",\n",
        "                \"temperatureTrend\": None,\n",
        "                \"windSpeed\": \"2 to 8 mph\",\n",
        "                \"windDirection\": \"SE\",\n",
        "                \"icon\": \"https://api.weather.gov/icons/land/day/rain_showers,30/tsra_hi,30?size=medium\",\n",
        "                \"shortForecast\": \"Chance Rain Showers\",\n",
        "                \"detailedForecast\": \"A chance of rain showers before 2pm, then a chance of showers and thunderstorms. Mostly sunny, with a high near 82. Chance of precipitation is 30%.\"\n",
        "            },\n",
        "            {\n",
        "                \"number\": 12,\n",
        "                \"name\": \"Sunday Night\",\n",
        "                \"startTime\": \"2021-06-13T18:00:00-04:00\",\n",
        "                \"endTime\": \"2021-06-14T06:00:00-04:00\",\n",
        "                \"isDaytime\": False,\n",
        "                \"temperature\": 64,\n",
        "                \"temperatureUnit\": \"F\",\n",
        "                \"temperatureTrend\": None,\n",
        "                \"windSpeed\": \"2 to 8 mph\",\n",
        "                \"windDirection\": \"S\",\n",
        "                \"icon\": \"https://api.weather.gov/icons/land/night/tsra_hi,30/tsra_hi?size=medium\",\n",
        "                \"shortForecast\": \"Chance Showers And Thunderstorms then Slight Chance Showers And Thunderstorms\",\n",
        "                \"detailedForecast\": \"A chance of showers and thunderstorms before 8pm, then a slight chance of showers and thunderstorms. Partly cloudy, with a low around 64. Chance of precipitation is 30%.\"\n",
        "            },\n",
        "            {\n",
        "                \"number\": 13,\n",
        "                \"name\": \"Monday\",\n",
        "                \"startTime\": \"2021-06-14T06:00:00-04:00\",\n",
        "                \"endTime\": \"2021-06-14T18:00:00-04:00\",\n",
        "                \"isDaytime\": True,\n",
        "                \"temperature\": 84,\n",
        "                \"temperatureUnit\": \"F\",\n",
        "                \"temperatureTrend\": None,\n",
        "                \"windSpeed\": \"2 to 6 mph\",\n",
        "                \"windDirection\": \"W\",\n",
        "                \"icon\": \"https://api.weather.gov/icons/land/day/rain_showers/tsra_hi?size=medium\",\n",
        "                \"shortForecast\": \"Slight Chance Rain Showers then Slight Chance Showers And Thunderstorms\",\n",
        "                \"detailedForecast\": \"A slight chance of rain showers before 2pm, then a slight chance of showers and thunderstorms. Mostly sunny, with a high near 84.\"\n",
        "            },\n",
        "            {\n",
        "                \"number\": 14,\n",
        "                \"name\": \"Monday Night\",\n",
        "                \"startTime\": \"2021-06-14T18:00:00-04:00\",\n",
        "                \"endTime\": \"2021-06-15T06:00:00-04:00\",\n",
        "                \"isDaytime\": False,\n",
        "                \"temperature\": 64,\n",
        "                \"temperatureUnit\": \"F\",\n",
        "                \"temperatureTrend\": None,\n",
        "                \"windSpeed\": \"2 to 6 mph\",\n",
        "                \"windDirection\": \"W\",\n",
        "                \"icon\": \"https://api.weather.gov/icons/land/night/tsra_hi?size=medium\",\n",
        "                \"shortForecast\": \"Chance Showers And Thunderstorms\",\n",
        "                \"detailedForecast\": \"A chance of showers and thunderstorms. Partly cloudy, with a low around 64.\"\n",
        "            }\n",
        "        ]\n",
        "    }\n",
        "}\n",
        "\n",
        "\n"
      ],
      "execution_count": null,
      "outputs": []
    },
    {
      "cell_type": "code",
      "metadata": {
        "colab": {
          "base_uri": "https://localhost:8080/"
        },
        "id": "eaVQcTF36sTV",
        "outputId": "9b35c5be-d790-4226-c43d-ebc5f619b5fd"
      },
      "source": [
        "print(\"------------------\")\n",
        "print(\"PROCESSING WEATHER DATA...\")\n",
        "print(\"------------------\")\n",
        "\n",
        "# todo: write some python here\n",
        "\n",
        "\n",
        "\n"
      ],
      "execution_count": null,
      "outputs": [
        {
          "output_type": "stream",
          "name": "stdout",
          "text": [
            "------------------\n",
            "PROCESSING WEATHER DATA...\n",
            "------------------\n"
          ]
        }
      ]
    },
    {
      "cell_type": "code",
      "source": [
        "# A) For each day in the provided data (excluding night-time forecasts), print a human-readable weather forecast on that date.\n",
        "\n",
        "# B) ... and display an image of the weather on that date. HINT: see example image display setup cell below, using IPython.display module."
      ],
      "metadata": {
        "id": "EVNCbH6gJIBk"
      },
      "execution_count": null,
      "outputs": []
    },
    {
      "cell_type": "code",
      "source": [
        "for p in weather_data[\"properties\"][\"periods\"]:\n",
        "    #print(p)\n",
        "    if p[\"isDaytime\"] == True:\n",
        "        #print(p)\n",
        "        print(\"----------\")\n",
        "        print(p[\"name\"], p[\"temperature\"], p[\"temperatureUnit\"])\n",
        "        print(p[\"shortForecast\"])\n",
        "\n",
        "        display(Image(url=p[\"icon\"], height=100))\n"
      ],
      "metadata": {
        "colab": {
          "base_uri": "https://localhost:8080/",
          "height": 1000
        },
        "id": "npce9O1jJH_Q",
        "outputId": "d53d9775-4c85-483b-c786-5d2824b31e2d"
      },
      "execution_count": null,
      "outputs": [
        {
          "output_type": "stream",
          "name": "stdout",
          "text": [
            "----------\n",
            "This Afternoon 91 F\n",
            "Showers And Thunderstorms Likely\n"
          ]
        },
        {
          "output_type": "display_data",
          "data": {
            "text/html": [
              "<img src=\"https://api.weather.gov/icons/land/day/tsra_sct,60?size=medium\" height=\"100\"/>"
            ],
            "text/plain": [
              "<IPython.core.display.Image object>"
            ]
          },
          "metadata": {}
        },
        {
          "output_type": "stream",
          "name": "stdout",
          "text": [
            "----------\n",
            "Wednesday 90 F\n",
            "Showers And Thunderstorms Likely\n"
          ]
        },
        {
          "output_type": "display_data",
          "data": {
            "text/html": [
              "<img src=\"https://api.weather.gov/icons/land/day/tsra_sct,30/tsra_sct,60?size=medium\" height=\"100\"/>"
            ],
            "text/plain": [
              "<IPython.core.display.Image object>"
            ]
          },
          "metadata": {}
        },
        {
          "output_type": "stream",
          "name": "stdout",
          "text": [
            "----------\n",
            "Thursday 89 F\n",
            "Showers And Thunderstorms\n"
          ]
        },
        {
          "output_type": "display_data",
          "data": {
            "text/html": [
              "<img src=\"https://api.weather.gov/icons/land/day/tsra_hi,60/tsra_hi,80?size=medium\" height=\"100\"/>"
            ],
            "text/plain": [
              "<IPython.core.display.Image object>"
            ]
          },
          "metadata": {}
        },
        {
          "output_type": "stream",
          "name": "stdout",
          "text": [
            "----------\n",
            "Friday 76 F\n",
            "Showers And Thunderstorms\n"
          ]
        },
        {
          "output_type": "display_data",
          "data": {
            "text/html": [
              "<img src=\"https://api.weather.gov/icons/land/day/tsra,80?size=medium\" height=\"100\"/>"
            ],
            "text/plain": [
              "<IPython.core.display.Image object>"
            ]
          },
          "metadata": {}
        },
        {
          "output_type": "stream",
          "name": "stdout",
          "text": [
            "----------\n",
            "Saturday 79 F\n",
            "Chance Rain Showers\n"
          ]
        },
        {
          "output_type": "display_data",
          "data": {
            "text/html": [
              "<img src=\"https://api.weather.gov/icons/land/day/rain_showers,50/tsra_sct,50?size=medium\" height=\"100\"/>"
            ],
            "text/plain": [
              "<IPython.core.display.Image object>"
            ]
          },
          "metadata": {}
        },
        {
          "output_type": "stream",
          "name": "stdout",
          "text": [
            "----------\n",
            "Sunday 82 F\n",
            "Chance Rain Showers\n"
          ]
        },
        {
          "output_type": "display_data",
          "data": {
            "text/html": [
              "<img src=\"https://api.weather.gov/icons/land/day/rain_showers,30/tsra_hi,30?size=medium\" height=\"100\"/>"
            ],
            "text/plain": [
              "<IPython.core.display.Image object>"
            ]
          },
          "metadata": {}
        },
        {
          "output_type": "stream",
          "name": "stdout",
          "text": [
            "----------\n",
            "Monday 84 F\n",
            "Slight Chance Rain Showers then Slight Chance Showers And Thunderstorms\n"
          ]
        },
        {
          "output_type": "display_data",
          "data": {
            "text/html": [
              "<img src=\"https://api.weather.gov/icons/land/day/rain_showers/tsra_hi?size=medium\" height=\"100\"/>"
            ],
            "text/plain": [
              "<IPython.core.display.Image object>"
            ]
          },
          "metadata": {}
        }
      ]
    },
    {
      "cell_type": "markdown",
      "source": [
        "# Pandas Package Foreshadowing"
      ],
      "metadata": {
        "id": "xyBYJTJ7kpX-"
      }
    },
    {
      "cell_type": "markdown",
      "source": [
        "Looking ahead to next module with some basic pandas DataFrame operations. for more info, peek ahead to the Module 2 materials in Canvas, including the pandas package overview notebook."
      ],
      "metadata": {
        "id": "CQ8MikyalINw"
      }
    },
    {
      "cell_type": "markdown",
      "source": [
        "### Creating DataFrames from Scratch"
      ],
      "metadata": {
        "id": "2awQynG9mohj"
      }
    },
    {
      "cell_type": "code",
      "source": [
        "from pandas import DataFrame\n",
        "\n",
        "financial_data = [\n",
        "    {\"symbol\": \"MSFT\",  \"company_name\": \"Microsoft\", \"latest_close\": 100.00},\n",
        "    {\"symbol\": \"GOOGL\", \"company_name\": \"Google\", \"latest_close\": 200.00},\n",
        "    {\"symbol\": \"NFLX\",  \"company_name\": \"Netflix\", \"latest_close\": 300.00},\n",
        "    {\"symbol\": \"AMZN\",  \"company_name\": \"Amazon\", \"latest_close\": 1000.00},\n",
        "\n",
        "]\n",
        "practice_df = DataFrame(financial_data)\n",
        "\n",
        "print(type(practice_df))"
      ],
      "metadata": {
        "colab": {
          "base_uri": "https://localhost:8080/"
        },
        "id": "WmdqRFLdksHn",
        "outputId": "765a6e12-31fd-4a39-c9d2-db47825d9f38"
      },
      "execution_count": null,
      "outputs": [
        {
          "output_type": "stream",
          "name": "stdout",
          "text": [
            "<class 'pandas.core.frame.DataFrame'>\n"
          ]
        }
      ]
    },
    {
      "cell_type": "markdown",
      "source": [
        "### Pandas DataFrame Operations"
      ],
      "metadata": {
        "id": "I1S_lyz2mr2i"
      }
    },
    {
      "cell_type": "code",
      "source": [
        "practice_df.head()"
      ],
      "metadata": {
        "colab": {
          "base_uri": "https://localhost:8080/",
          "height": 175
        },
        "id": "_7nNuh1ukxuj",
        "outputId": "8eabd2a6-8458-4250-9ae2-6fdecd0ba0f6"
      },
      "execution_count": null,
      "outputs": [
        {
          "output_type": "execute_result",
          "data": {
            "text/plain": [
              "  symbol company_name  latest_close\n",
              "0   MSFT    Microsoft         100.0\n",
              "1  GOOGL       Google         200.0\n",
              "2   NFLX      Netflix         300.0\n",
              "3   AMZN       Amazon        1000.0"
            ],
            "text/html": [
              "\n",
              "  <div id=\"df-f112b9a5-6ebe-4ab2-b97b-6b416a3e7ec4\">\n",
              "    <div class=\"colab-df-container\">\n",
              "      <div>\n",
              "<style scoped>\n",
              "    .dataframe tbody tr th:only-of-type {\n",
              "        vertical-align: middle;\n",
              "    }\n",
              "\n",
              "    .dataframe tbody tr th {\n",
              "        vertical-align: top;\n",
              "    }\n",
              "\n",
              "    .dataframe thead th {\n",
              "        text-align: right;\n",
              "    }\n",
              "</style>\n",
              "<table border=\"1\" class=\"dataframe\">\n",
              "  <thead>\n",
              "    <tr style=\"text-align: right;\">\n",
              "      <th></th>\n",
              "      <th>symbol</th>\n",
              "      <th>company_name</th>\n",
              "      <th>latest_close</th>\n",
              "    </tr>\n",
              "  </thead>\n",
              "  <tbody>\n",
              "    <tr>\n",
              "      <th>0</th>\n",
              "      <td>MSFT</td>\n",
              "      <td>Microsoft</td>\n",
              "      <td>100.0</td>\n",
              "    </tr>\n",
              "    <tr>\n",
              "      <th>1</th>\n",
              "      <td>GOOGL</td>\n",
              "      <td>Google</td>\n",
              "      <td>200.0</td>\n",
              "    </tr>\n",
              "    <tr>\n",
              "      <th>2</th>\n",
              "      <td>NFLX</td>\n",
              "      <td>Netflix</td>\n",
              "      <td>300.0</td>\n",
              "    </tr>\n",
              "    <tr>\n",
              "      <th>3</th>\n",
              "      <td>AMZN</td>\n",
              "      <td>Amazon</td>\n",
              "      <td>1000.0</td>\n",
              "    </tr>\n",
              "  </tbody>\n",
              "</table>\n",
              "</div>\n",
              "      <button class=\"colab-df-convert\" onclick=\"convertToInteractive('df-f112b9a5-6ebe-4ab2-b97b-6b416a3e7ec4')\"\n",
              "              title=\"Convert this dataframe to an interactive table.\"\n",
              "              style=\"display:none;\">\n",
              "        \n",
              "  <svg xmlns=\"http://www.w3.org/2000/svg\" height=\"24px\"viewBox=\"0 0 24 24\"\n",
              "       width=\"24px\">\n",
              "    <path d=\"M0 0h24v24H0V0z\" fill=\"none\"/>\n",
              "    <path d=\"M18.56 5.44l.94 2.06.94-2.06 2.06-.94-2.06-.94-.94-2.06-.94 2.06-2.06.94zm-11 1L8.5 8.5l.94-2.06 2.06-.94-2.06-.94L8.5 2.5l-.94 2.06-2.06.94zm10 10l.94 2.06.94-2.06 2.06-.94-2.06-.94-.94-2.06-.94 2.06-2.06.94z\"/><path d=\"M17.41 7.96l-1.37-1.37c-.4-.4-.92-.59-1.43-.59-.52 0-1.04.2-1.43.59L10.3 9.45l-7.72 7.72c-.78.78-.78 2.05 0 2.83L4 21.41c.39.39.9.59 1.41.59.51 0 1.02-.2 1.41-.59l7.78-7.78 2.81-2.81c.8-.78.8-2.07 0-2.86zM5.41 20L4 18.59l7.72-7.72 1.47 1.35L5.41 20z\"/>\n",
              "  </svg>\n",
              "      </button>\n",
              "      \n",
              "  <style>\n",
              "    .colab-df-container {\n",
              "      display:flex;\n",
              "      flex-wrap:wrap;\n",
              "      gap: 12px;\n",
              "    }\n",
              "\n",
              "    .colab-df-convert {\n",
              "      background-color: #E8F0FE;\n",
              "      border: none;\n",
              "      border-radius: 50%;\n",
              "      cursor: pointer;\n",
              "      display: none;\n",
              "      fill: #1967D2;\n",
              "      height: 32px;\n",
              "      padding: 0 0 0 0;\n",
              "      width: 32px;\n",
              "    }\n",
              "\n",
              "    .colab-df-convert:hover {\n",
              "      background-color: #E2EBFA;\n",
              "      box-shadow: 0px 1px 2px rgba(60, 64, 67, 0.3), 0px 1px 3px 1px rgba(60, 64, 67, 0.15);\n",
              "      fill: #174EA6;\n",
              "    }\n",
              "\n",
              "    [theme=dark] .colab-df-convert {\n",
              "      background-color: #3B4455;\n",
              "      fill: #D2E3FC;\n",
              "    }\n",
              "\n",
              "    [theme=dark] .colab-df-convert:hover {\n",
              "      background-color: #434B5C;\n",
              "      box-shadow: 0px 1px 3px 1px rgba(0, 0, 0, 0.15);\n",
              "      filter: drop-shadow(0px 1px 2px rgba(0, 0, 0, 0.3));\n",
              "      fill: #FFFFFF;\n",
              "    }\n",
              "  </style>\n",
              "\n",
              "      <script>\n",
              "        const buttonEl =\n",
              "          document.querySelector('#df-f112b9a5-6ebe-4ab2-b97b-6b416a3e7ec4 button.colab-df-convert');\n",
              "        buttonEl.style.display =\n",
              "          google.colab.kernel.accessAllowed ? 'block' : 'none';\n",
              "\n",
              "        async function convertToInteractive(key) {\n",
              "          const element = document.querySelector('#df-f112b9a5-6ebe-4ab2-b97b-6b416a3e7ec4');\n",
              "          const dataTable =\n",
              "            await google.colab.kernel.invokeFunction('convertToInteractive',\n",
              "                                                     [key], {});\n",
              "          if (!dataTable) return;\n",
              "\n",
              "          const docLinkHtml = 'Like what you see? Visit the ' +\n",
              "            '<a target=\"_blank\" href=https://colab.research.google.com/notebooks/data_table.ipynb>data table notebook</a>'\n",
              "            + ' to learn more about interactive tables.';\n",
              "          element.innerHTML = '';\n",
              "          dataTable['output_type'] = 'display_data';\n",
              "          await google.colab.output.renderOutput(dataTable, element);\n",
              "          const docLink = document.createElement('div');\n",
              "          docLink.innerHTML = docLinkHtml;\n",
              "          element.appendChild(docLink);\n",
              "        }\n",
              "      </script>\n",
              "    </div>\n",
              "  </div>\n",
              "  "
            ]
          },
          "metadata": {},
          "execution_count": 46
        }
      ]
    },
    {
      "cell_type": "code",
      "source": [
        "print(len(practice_df))"
      ],
      "metadata": {
        "colab": {
          "base_uri": "https://localhost:8080/"
        },
        "id": "YJ_pNU9bme-P",
        "outputId": "39144a32-8ee6-43cf-c04a-3761ac63deb9"
      },
      "execution_count": null,
      "outputs": [
        {
          "output_type": "stream",
          "name": "stdout",
          "text": [
            "4\n"
          ]
        }
      ]
    },
    {
      "cell_type": "code",
      "source": [
        "print(practice_df.columns)\n",
        "print(practice_df.columns.tolist())"
      ],
      "metadata": {
        "colab": {
          "base_uri": "https://localhost:8080/"
        },
        "id": "qjhom4ZamUQK",
        "outputId": "7b687bc1-2a0b-4e27-e759-84798598b86e"
      },
      "execution_count": null,
      "outputs": [
        {
          "output_type": "stream",
          "name": "stdout",
          "text": [
            "Index(['symbol', 'company_name', 'latest_close'], dtype='object')\n",
            "['symbol', 'company_name', 'latest_close']\n"
          ]
        }
      ]
    },
    {
      "cell_type": "markdown",
      "source": [
        "### Pandas Series Operations"
      ],
      "metadata": {
        "id": "x4FPAlrimuUU"
      }
    },
    {
      "cell_type": "code",
      "source": [
        "\n",
        "practice_df[\"latest_close\"]"
      ],
      "metadata": {
        "colab": {
          "base_uri": "https://localhost:8080/"
        },
        "id": "f9pj-b5lmbo2",
        "outputId": "496bb064-7620-4303-dec5-74a71354dd90"
      },
      "execution_count": null,
      "outputs": [
        {
          "output_type": "execute_result",
          "data": {
            "text/plain": [
              "0     100.0\n",
              "1     200.0\n",
              "2     300.0\n",
              "3    1000.0\n",
              "Name: latest_close, dtype: float64"
            ]
          },
          "metadata": {},
          "execution_count": 49
        }
      ]
    },
    {
      "cell_type": "code",
      "source": [
        "print(type(practice_df[\"latest_close\"]))\n"
      ],
      "metadata": {
        "colab": {
          "base_uri": "https://localhost:8080/"
        },
        "id": "jDAgyi6Km0rS",
        "outputId": "ae0da2b9-b128-4ff6-adf1-01d2f122c950"
      },
      "execution_count": null,
      "outputs": [
        {
          "output_type": "stream",
          "name": "stdout",
          "text": [
            "<class 'pandas.core.series.Series'>\n"
          ]
        }
      ]
    },
    {
      "cell_type": "code",
      "source": [
        "print(\"MIN:\", practice_df[\"latest_close\"].min())\n",
        "print(\"MAX:\", practice_df[\"latest_close\"].max())\n",
        "print(\"MEAN:\", practice_df[\"latest_close\"].mean())"
      ],
      "metadata": {
        "colab": {
          "base_uri": "https://localhost:8080/"
        },
        "id": "-M-Quqf3m3DG",
        "outputId": "36ffc8e4-4dba-46b0-b6f4-dff651b5bd57"
      },
      "execution_count": null,
      "outputs": [
        {
          "output_type": "stream",
          "name": "stdout",
          "text": [
            "MIN: 100.0\n",
            "MAX: 1000.0\n",
            "MEAN: 400.0\n"
          ]
        }
      ]
    },
    {
      "cell_type": "markdown",
      "source": [
        "# CSV / XLSX Data Challenges"
      ],
      "metadata": {
        "id": "v27AsvpQXunR"
      }
    },
    {
      "cell_type": "markdown",
      "metadata": {
        "id": "5b06VpNVE4C5"
      },
      "source": [
        "## Challenge 5 (Gradebook CSV)"
      ]
    },
    {
      "cell_type": "markdown",
      "metadata": {
        "id": "20nwP1b_FNGe"
      },
      "source": [
        "\n",
        "Given the [provided hosted \"gradebook.csv\" file](https://raw.githubusercontent.com/prof-rossetti/intro-to-python/main/data/gradebook.csv), write Python code to read the CSV data and perform each of the following tasks...\n",
        "\n",
        "A) Print the number of students / rows (i.e. `10`).\n",
        "\n",
        "B) Print the column names (i.e. `[\"student_id\", \"final_grade\"]`).\n",
        "\n",
        "C) Print the average / mean grade (i.e. `83.64`).\n",
        "\n",
        "D) Print the median grade (i.e. `87.6`).\n",
        "\n",
        "E) Create another column on the DataFrame called \"letter_grade\", and use a custom function to assign each numeric score a corresponding letter grade. Use any grading scale you would like.\n",
        "\n",
        "F) Print the percentage of students who got each grade.\n",
        "\n"
      ]
    },
    {
      "cell_type": "code",
      "metadata": {
        "id": "2Xm_a4xF_Nwh",
        "colab": {
          "base_uri": "https://localhost:8080/"
        },
        "outputId": "8d079510-21c9-4a0c-979f-b68a82f6a096"
      },
      "source": [
        "from statistics import mean, median\n",
        "import numpy as np\n",
        "\n",
        "from pandas import read_csv #, DataFrame\n",
        "\n",
        "#\n",
        "# GRADEBOOK\n",
        "#\n",
        "\n",
        "#df = read_csv(\"gradebook.csv\") # manual upload strategy\n",
        "df = read_csv(\"https://raw.githubusercontent.com/prof-rossetti/intro-to-python/main/data/gradebook.csv\") # hosted strategy\n",
        "print(df.head())\n",
        "print(type(df))"
      ],
      "execution_count": null,
      "outputs": [
        {
          "output_type": "stream",
          "name": "stdout",
          "text": [
            "   student_id  final_grade\n",
            "0           1         76.7\n",
            "1           2         85.1\n",
            "2           3         50.3\n",
            "3           4         89.8\n",
            "4           5         97.4\n",
            "<class 'pandas.core.frame.DataFrame'>\n"
          ]
        }
      ]
    },
    {
      "cell_type": "code",
      "source": [
        "\n",
        "print(\"ROWS:\", len(df))\n",
        "print(\"COLUMNS:\", df.columns.tolist())\n"
      ],
      "metadata": {
        "colab": {
          "base_uri": "https://localhost:8080/"
        },
        "id": "9UNydpLDZDVQ",
        "outputId": "f2231d78-e539-49f9-f52a-a9258fc401c5"
      },
      "execution_count": null,
      "outputs": [
        {
          "output_type": "stream",
          "name": "stdout",
          "text": [
            "ROWS: 10\n",
            "COLUMNS: ['student_id', 'final_grade']\n"
          ]
        }
      ]
    },
    {
      "cell_type": "code",
      "source": [
        "from statistics import mean, median\n",
        "import numpy as np\n",
        "\n",
        "print(\"MEAN:\", mean(df[\"final_grade\"]))\n",
        "print(\"MEAN:\", np.mean(df[\"final_grade\"]))\n",
        "print(\"MEAN:\", df[\"final_grade\"].mean())\n",
        "\n",
        "\n",
        "print(\"MEDIAN:\", median(df[\"final_grade\"]))\n",
        "print(\"MEDIAN:\", np.median(df[\"final_grade\"]))\n",
        "print(\"MEDIAN:\", df[\"final_grade\"].median())\n",
        "\n"
      ],
      "metadata": {
        "colab": {
          "base_uri": "https://localhost:8080/"
        },
        "id": "TIXr49v9ZD3w",
        "outputId": "1211deea-403d-4c25-93a8-53ae7dbc36a9"
      },
      "execution_count": null,
      "outputs": [
        {
          "output_type": "stream",
          "name": "stdout",
          "text": [
            "MEAN: 83.64\n",
            "MEAN: 83.64\n",
            "MEAN: 83.64\n",
            "MEDIAN: 87.6\n",
            "MEDIAN: 87.6\n",
            "MEDIAN: 87.6\n"
          ]
        }
      ]
    },
    {
      "cell_type": "code",
      "source": [
        "\n",
        "print(df[\"final_grade\"].describe())\n"
      ],
      "metadata": {
        "colab": {
          "base_uri": "https://localhost:8080/"
        },
        "id": "-oJQyNnRZDuw",
        "outputId": "0d116e68-ff06-45ae-cb67-a5d623c42aee"
      },
      "execution_count": null,
      "outputs": [
        {
          "output_type": "stream",
          "name": "stdout",
          "text": [
            "count    10.00000\n",
            "mean     83.64000\n",
            "std      13.62532\n",
            "min      50.30000\n",
            "25%      78.80000\n",
            "50%      87.60000\n",
            "75%      91.82500\n",
            "max      97.40000\n",
            "Name: final_grade, dtype: float64\n"
          ]
        }
      ]
    },
    {
      "cell_type": "code",
      "source": [
        "\n",
        "print(\"LETTER GRADES...\")\n",
        "\n",
        "def calculate_grade(score):\n",
        "    if score >= 75.0:\n",
        "        grade = \"Pass\"\n",
        "    else:\n",
        "        grade = \"Fail\"\n",
        "    return grade\n"
      ],
      "metadata": {
        "colab": {
          "base_uri": "https://localhost:8080/"
        },
        "id": "N0x_S5ouZKnS",
        "outputId": "b9cbf5bb-861c-47d3-a831-88daecc51039"
      },
      "execution_count": null,
      "outputs": [
        {
          "output_type": "stream",
          "name": "stdout",
          "text": [
            "LETTER GRADES...\n"
          ]
        }
      ]
    },
    {
      "cell_type": "code",
      "source": [
        "calculate_grade(95)"
      ],
      "metadata": {
        "colab": {
          "base_uri": "https://localhost:8080/",
          "height": 36
        },
        "id": "CqXs9qpAbRbz",
        "outputId": "40c9a918-24ef-4b7d-e667-84967562090d"
      },
      "execution_count": null,
      "outputs": [
        {
          "output_type": "execute_result",
          "data": {
            "text/plain": [
              "'Pass'"
            ],
            "application/vnd.google.colaboratory.intrinsic+json": {
              "type": "string"
            }
          },
          "metadata": {},
          "execution_count": 80
        }
      ]
    },
    {
      "cell_type": "code",
      "source": [
        "calculate_grade(40)"
      ],
      "metadata": {
        "colab": {
          "base_uri": "https://localhost:8080/",
          "height": 36
        },
        "id": "kGK4LblvbPk1",
        "outputId": "8cdb18de-c761-405f-bbd7-c054fbd3a006"
      },
      "execution_count": null,
      "outputs": [
        {
          "output_type": "execute_result",
          "data": {
            "text/plain": [
              "'Fail'"
            ],
            "application/vnd.google.colaboratory.intrinsic+json": {
              "type": "string"
            }
          },
          "metadata": {},
          "execution_count": 81
        }
      ]
    },
    {
      "cell_type": "code",
      "source": [
        "\n",
        "df[\"letter_grade\"] = df[\"final_grade\"].map(calculate_grade)\n",
        "\n",
        "print(df.head())"
      ],
      "metadata": {
        "id": "xoFCPZ8WbMZ2",
        "colab": {
          "base_uri": "https://localhost:8080/"
        },
        "outputId": "14a915bc-8af5-47e0-8911-b71f7f697bc5"
      },
      "execution_count": null,
      "outputs": [
        {
          "output_type": "stream",
          "name": "stdout",
          "text": [
            "   student_id  final_grade letter_grade\n",
            "0           1         76.7         Pass\n",
            "1           2         85.1         Pass\n",
            "2           3         50.3         Fail\n",
            "3           4         89.8         Pass\n",
            "4           5         97.4         Pass\n"
          ]
        }
      ]
    },
    {
      "cell_type": "code",
      "source": [
        "\n",
        "#print(df[\"letter_grade\"].value_counts())\n",
        "\n",
        "print(df[\"letter_grade\"].value_counts(normalize=True))"
      ],
      "metadata": {
        "colab": {
          "base_uri": "https://localhost:8080/"
        },
        "id": "G5wUsEGrZ9ES",
        "outputId": "ab538ae0-5874-4cc4-9b1a-2f2caf887869"
      },
      "execution_count": null,
      "outputs": [
        {
          "output_type": "stream",
          "name": "stdout",
          "text": [
            "Pass    0.9\n",
            "Fail    0.1\n",
            "Name: letter_grade, dtype: float64\n"
          ]
        }
      ]
    },
    {
      "cell_type": "markdown",
      "source": [
        "# Alphavantage API Data Challenges"
      ],
      "metadata": {
        "id": "64mLQYeBco7O"
      }
    },
    {
      "cell_type": "markdown",
      "source": [
        "For these challenges, we will be using data from the Alphavantage API.\n",
        "\n",
        "Before proceeding, take a moment to locate one of the professor's \"premium\" API Keys, shared via Slack and/or Canvas. This is a secret credential like a password, so it is important to securely provide the key via the setup cell below.\n",
        "\n",
        "First **run the setup cell** to provide the API Key.\n",
        "\n",
        "Then, for each of the challenges below:\n",
        "  1. Read the docs for the [AlphaVantage API](https://www.alphavantage.co/documentation/).\n",
        "  2. Find the endpoint and corresponding URL for requesting **unemployment data**.\n",
        "  3. Optionally make an example request in the browser, to verify the data is there and start to visually inspect its structure.\n",
        "  4. Make the request programmatically via Python.\n",
        "  5. Parse the response data, to answer the questions below.\n",
        "\n",
        "> NOTE: steps 1-4 have been done for you 😸\n",
        "\n"
      ],
      "metadata": {
        "id": "wH7dSuZ2QKwb"
      }
    },
    {
      "cell_type": "markdown",
      "source": [
        "### Setup Cell (API Key)"
      ],
      "metadata": {
        "id": "CCuS4jgreIaA"
      }
    },
    {
      "cell_type": "code",
      "source": [
        "#\n",
        "# SETUP CELL (RUN AND DO NOT MODIFY)\n",
        "#\n",
        "\n",
        "from getpass import getpass\n",
        "\n",
        "# copy one of the professor's premium keys from Canvas or Slack, \n",
        "# then run this cell and paste it when prompted\n",
        "# avoid printing or otherwise exposing this secret credential!\n",
        "API_KEY = getpass(\"Please input your Alphavantage API KEY: \") "
      ],
      "metadata": {
        "colab": {
          "base_uri": "https://localhost:8080/"
        },
        "id": "nzWQGm4yeHvX",
        "outputId": "71d662c5-ca0b-4302-841a-d392f9bf1d10"
      },
      "execution_count": null,
      "outputs": [
        {
          "name": "stdout",
          "output_type": "stream",
          "text": [
            "Please input your Alphavantage API KEY: ··········\n"
          ]
        }
      ]
    },
    {
      "cell_type": "markdown",
      "source": [
        "### Challenge 6 (Unemployment JSON)"
      ],
      "metadata": {
        "id": "cGSAuL4ycxQv"
      }
    },
    {
      "cell_type": "markdown",
      "source": [
        "\n",
        "A)  What is the most recent unemployment rate? And the corresponding date? Display the unemployment rate using a percent sign.\n",
        "\n",
        "> NOTE: assume the most recent data is first (i.e. no need to sort, although it may be helpful / safe to do so)\n",
        "\n",
        "> HINT: use a format string or string concat to help with the percent sign display \n",
        "\n",
        "\n",
        "B) What is the average unemployment rate for all months during this calendar year? How many months are included?\n",
        "\n",
        "> HINT: use a filtering operation to get only the datapoints we care about. You could maybe use substring inclusion in your filter condition.\n",
        "\n",
        "> HINT: you might need to convert the string values to float datatype\n",
        "\n",
        "C) Plot a line chart of unemployment rates over time.\n",
        "\n",
        "> HINT: use the `matplotlib` or `plotly` package\n",
        "\n",
        "> HINT: you might need to convert the string values to float datatype\n"
      ],
      "metadata": {
        "id": "MZWGwHbxSMxr"
      }
    },
    {
      "cell_type": "code",
      "source": [
        "import requests\n",
        "import json\n",
        "#from pprint import pprint\n",
        "\n",
        "request_url = f\"https://www.alphavantage.co/query?function=UNEMPLOYMENT&apikey={API_KEY}\"\n",
        "\n",
        "response = requests.get(request_url)\n",
        "\n",
        "parsed_response = json.loads(response.text)\n",
        "print(type(parsed_response))\n",
        "print(parsed_response)\n",
        "#pprint(parsed_response)\n",
        "print(parsed_response.keys())"
      ],
      "metadata": {
        "colab": {
          "base_uri": "https://localhost:8080/"
        },
        "id": "sepxuyL5dph8",
        "outputId": "039b7cf0-1ec6-4042-fc87-9d28f35cd166"
      },
      "execution_count": null,
      "outputs": [
        {
          "output_type": "stream",
          "name": "stdout",
          "text": [
            "<class 'dict'>\n",
            "{'name': 'Unemployment Rate', 'interval': 'monthly', 'unit': 'percent', 'data': [{'date': '2022-11-01', 'value': '3.7'}, {'date': '2022-10-01', 'value': '3.7'}, {'date': '2022-09-01', 'value': '3.5'}, {'date': '2022-08-01', 'value': '3.7'}, {'date': '2022-07-01', 'value': '3.5'}, {'date': '2022-06-01', 'value': '3.6'}, {'date': '2022-05-01', 'value': '3.6'}, {'date': '2022-04-01', 'value': '3.6'}, {'date': '2022-03-01', 'value': '3.6'}, {'date': '2022-02-01', 'value': '3.8'}, {'date': '2022-01-01', 'value': '4.0'}, {'date': '2021-12-01', 'value': '3.9'}, {'date': '2021-11-01', 'value': '4.2'}, {'date': '2021-10-01', 'value': '4.6'}, {'date': '2021-09-01', 'value': '4.7'}, {'date': '2021-08-01', 'value': '5.2'}, {'date': '2021-07-01', 'value': '5.4'}, {'date': '2021-06-01', 'value': '5.9'}, {'date': '2021-05-01', 'value': '5.8'}, {'date': '2021-04-01', 'value': '6.0'}, {'date': '2021-03-01', 'value': '6.0'}, {'date': '2021-02-01', 'value': '6.2'}, {'date': '2021-01-01', 'value': '6.4'}, {'date': '2020-12-01', 'value': '6.7'}, {'date': '2020-11-01', 'value': '6.7'}, {'date': '2020-10-01', 'value': '6.9'}, {'date': '2020-09-01', 'value': '7.9'}, {'date': '2020-08-01', 'value': '8.4'}, {'date': '2020-07-01', 'value': '10.2'}, {'date': '2020-06-01', 'value': '11.0'}, {'date': '2020-05-01', 'value': '13.2'}, {'date': '2020-04-01', 'value': '14.7'}, {'date': '2020-03-01', 'value': '4.4'}, {'date': '2020-02-01', 'value': '3.5'}, {'date': '2020-01-01', 'value': '3.5'}, {'date': '2019-12-01', 'value': '3.6'}, {'date': '2019-11-01', 'value': '3.6'}, {'date': '2019-10-01', 'value': '3.6'}, {'date': '2019-09-01', 'value': '3.5'}, {'date': '2019-08-01', 'value': '3.7'}, {'date': '2019-07-01', 'value': '3.7'}, {'date': '2019-06-01', 'value': '3.6'}, {'date': '2019-05-01', 'value': '3.6'}, {'date': '2019-04-01', 'value': '3.6'}, {'date': '2019-03-01', 'value': '3.8'}, {'date': '2019-02-01', 'value': '3.8'}, {'date': '2019-01-01', 'value': '4.0'}, {'date': '2018-12-01', 'value': '3.9'}, {'date': '2018-11-01', 'value': '3.8'}, {'date': '2018-10-01', 'value': '3.8'}, {'date': '2018-09-01', 'value': '3.7'}, {'date': '2018-08-01', 'value': '3.8'}, {'date': '2018-07-01', 'value': '3.8'}, {'date': '2018-06-01', 'value': '4.0'}, {'date': '2018-05-01', 'value': '3.8'}, {'date': '2018-04-01', 'value': '4.0'}, {'date': '2018-03-01', 'value': '4.0'}, {'date': '2018-02-01', 'value': '4.1'}, {'date': '2018-01-01', 'value': '4.0'}, {'date': '2017-12-01', 'value': '4.1'}, {'date': '2017-11-01', 'value': '4.2'}, {'date': '2017-10-01', 'value': '4.2'}, {'date': '2017-09-01', 'value': '4.3'}, {'date': '2017-08-01', 'value': '4.4'}, {'date': '2017-07-01', 'value': '4.3'}, {'date': '2017-06-01', 'value': '4.3'}, {'date': '2017-05-01', 'value': '4.4'}, {'date': '2017-04-01', 'value': '4.4'}, {'date': '2017-03-01', 'value': '4.4'}, {'date': '2017-02-01', 'value': '4.6'}, {'date': '2017-01-01', 'value': '4.7'}, {'date': '2016-12-01', 'value': '4.7'}, {'date': '2016-11-01', 'value': '4.7'}, {'date': '2016-10-01', 'value': '4.9'}, {'date': '2016-09-01', 'value': '5.0'}, {'date': '2016-08-01', 'value': '4.9'}, {'date': '2016-07-01', 'value': '4.8'}, {'date': '2016-06-01', 'value': '4.9'}, {'date': '2016-05-01', 'value': '4.8'}, {'date': '2016-04-01', 'value': '5.1'}, {'date': '2016-03-01', 'value': '5.0'}, {'date': '2016-02-01', 'value': '4.9'}, {'date': '2016-01-01', 'value': '4.8'}, {'date': '2015-12-01', 'value': '5.0'}, {'date': '2015-11-01', 'value': '5.1'}, {'date': '2015-10-01', 'value': '5.0'}, {'date': '2015-09-01', 'value': '5.0'}, {'date': '2015-08-01', 'value': '5.1'}, {'date': '2015-07-01', 'value': '5.2'}, {'date': '2015-06-01', 'value': '5.3'}, {'date': '2015-05-01', 'value': '5.6'}, {'date': '2015-04-01', 'value': '5.4'}, {'date': '2015-03-01', 'value': '5.4'}, {'date': '2015-02-01', 'value': '5.5'}, {'date': '2015-01-01', 'value': '5.7'}, {'date': '2014-12-01', 'value': '5.6'}, {'date': '2014-11-01', 'value': '5.8'}, {'date': '2014-10-01', 'value': '5.7'}, {'date': '2014-09-01', 'value': '5.9'}, {'date': '2014-08-01', 'value': '6.1'}, {'date': '2014-07-01', 'value': '6.2'}, {'date': '2014-06-01', 'value': '6.1'}, {'date': '2014-05-01', 'value': '6.3'}, {'date': '2014-04-01', 'value': '6.2'}, {'date': '2014-03-01', 'value': '6.7'}, {'date': '2014-02-01', 'value': '6.7'}, {'date': '2014-01-01', 'value': '6.6'}, {'date': '2013-12-01', 'value': '6.7'}, {'date': '2013-11-01', 'value': '6.9'}, {'date': '2013-10-01', 'value': '7.2'}, {'date': '2013-09-01', 'value': '7.2'}, {'date': '2013-08-01', 'value': '7.2'}, {'date': '2013-07-01', 'value': '7.3'}, {'date': '2013-06-01', 'value': '7.5'}, {'date': '2013-05-01', 'value': '7.5'}, {'date': '2013-04-01', 'value': '7.6'}, {'date': '2013-03-01', 'value': '7.5'}, {'date': '2013-02-01', 'value': '7.7'}, {'date': '2013-01-01', 'value': '8.0'}, {'date': '2012-12-01', 'value': '7.9'}, {'date': '2012-11-01', 'value': '7.7'}, {'date': '2012-10-01', 'value': '7.8'}, {'date': '2012-09-01', 'value': '7.8'}, {'date': '2012-08-01', 'value': '8.1'}, {'date': '2012-07-01', 'value': '8.2'}, {'date': '2012-06-01', 'value': '8.2'}, {'date': '2012-05-01', 'value': '8.2'}, {'date': '2012-04-01', 'value': '8.2'}, {'date': '2012-03-01', 'value': '8.2'}, {'date': '2012-02-01', 'value': '8.3'}, {'date': '2012-01-01', 'value': '8.3'}, {'date': '2011-12-01', 'value': '8.5'}, {'date': '2011-11-01', 'value': '8.6'}, {'date': '2011-10-01', 'value': '8.8'}, {'date': '2011-09-01', 'value': '9.0'}, {'date': '2011-08-01', 'value': '9.0'}, {'date': '2011-07-01', 'value': '9.0'}, {'date': '2011-06-01', 'value': '9.1'}, {'date': '2011-05-01', 'value': '9.0'}, {'date': '2011-04-01', 'value': '9.1'}, {'date': '2011-03-01', 'value': '9.0'}, {'date': '2011-02-01', 'value': '9.0'}, {'date': '2011-01-01', 'value': '9.1'}, {'date': '2010-12-01', 'value': '9.3'}, {'date': '2010-11-01', 'value': '9.8'}, {'date': '2010-10-01', 'value': '9.4'}, {'date': '2010-09-01', 'value': '9.5'}, {'date': '2010-08-01', 'value': '9.5'}, {'date': '2010-07-01', 'value': '9.4'}, {'date': '2010-06-01', 'value': '9.4'}, {'date': '2010-05-01', 'value': '9.6'}, {'date': '2010-04-01', 'value': '9.9'}, {'date': '2010-03-01', 'value': '9.9'}, {'date': '2010-02-01', 'value': '9.8'}, {'date': '2010-01-01', 'value': '9.8'}, {'date': '2009-12-01', 'value': '9.9'}, {'date': '2009-11-01', 'value': '9.9'}, {'date': '2009-10-01', 'value': '10.0'}, {'date': '2009-09-01', 'value': '9.8'}, {'date': '2009-08-01', 'value': '9.6'}, {'date': '2009-07-01', 'value': '9.5'}, {'date': '2009-06-01', 'value': '9.5'}, {'date': '2009-05-01', 'value': '9.4'}, {'date': '2009-04-01', 'value': '9.0'}, {'date': '2009-03-01', 'value': '8.7'}, {'date': '2009-02-01', 'value': '8.3'}, {'date': '2009-01-01', 'value': '7.8'}, {'date': '2008-12-01', 'value': '7.3'}, {'date': '2008-11-01', 'value': '6.8'}, {'date': '2008-10-01', 'value': '6.5'}, {'date': '2008-09-01', 'value': '6.1'}, {'date': '2008-08-01', 'value': '6.1'}, {'date': '2008-07-01', 'value': '5.8'}, {'date': '2008-06-01', 'value': '5.6'}, {'date': '2008-05-01', 'value': '5.4'}, {'date': '2008-04-01', 'value': '5.0'}, {'date': '2008-03-01', 'value': '5.1'}, {'date': '2008-02-01', 'value': '4.9'}, {'date': '2008-01-01', 'value': '5.0'}, {'date': '2007-12-01', 'value': '5.0'}, {'date': '2007-11-01', 'value': '4.7'}, {'date': '2007-10-01', 'value': '4.7'}, {'date': '2007-09-01', 'value': '4.7'}, {'date': '2007-08-01', 'value': '4.6'}, {'date': '2007-07-01', 'value': '4.7'}, {'date': '2007-06-01', 'value': '4.6'}, {'date': '2007-05-01', 'value': '4.4'}, {'date': '2007-04-01', 'value': '4.5'}, {'date': '2007-03-01', 'value': '4.4'}, {'date': '2007-02-01', 'value': '4.5'}, {'date': '2007-01-01', 'value': '4.6'}, {'date': '2006-12-01', 'value': '4.4'}, {'date': '2006-11-01', 'value': '4.5'}, {'date': '2006-10-01', 'value': '4.4'}, {'date': '2006-09-01', 'value': '4.5'}, {'date': '2006-08-01', 'value': '4.7'}, {'date': '2006-07-01', 'value': '4.7'}, {'date': '2006-06-01', 'value': '4.6'}, {'date': '2006-05-01', 'value': '4.6'}, {'date': '2006-04-01', 'value': '4.7'}, {'date': '2006-03-01', 'value': '4.7'}, {'date': '2006-02-01', 'value': '4.8'}, {'date': '2006-01-01', 'value': '4.7'}, {'date': '2005-12-01', 'value': '4.9'}, {'date': '2005-11-01', 'value': '5.0'}, {'date': '2005-10-01', 'value': '5.0'}, {'date': '2005-09-01', 'value': '5.0'}, {'date': '2005-08-01', 'value': '4.9'}, {'date': '2005-07-01', 'value': '5.0'}, {'date': '2005-06-01', 'value': '5.0'}, {'date': '2005-05-01', 'value': '5.1'}, {'date': '2005-04-01', 'value': '5.2'}, {'date': '2005-03-01', 'value': '5.2'}, {'date': '2005-02-01', 'value': '5.4'}, {'date': '2005-01-01', 'value': '5.3'}, {'date': '2004-12-01', 'value': '5.4'}, {'date': '2004-11-01', 'value': '5.4'}, {'date': '2004-10-01', 'value': '5.5'}, {'date': '2004-09-01', 'value': '5.4'}, {'date': '2004-08-01', 'value': '5.4'}, {'date': '2004-07-01', 'value': '5.5'}, {'date': '2004-06-01', 'value': '5.6'}, {'date': '2004-05-01', 'value': '5.6'}, {'date': '2004-04-01', 'value': '5.6'}, {'date': '2004-03-01', 'value': '5.8'}, {'date': '2004-02-01', 'value': '5.6'}, {'date': '2004-01-01', 'value': '5.7'}, {'date': '2003-12-01', 'value': '5.7'}, {'date': '2003-11-01', 'value': '5.8'}, {'date': '2003-10-01', 'value': '6.0'}, {'date': '2003-09-01', 'value': '6.1'}, {'date': '2003-08-01', 'value': '6.1'}, {'date': '2003-07-01', 'value': '6.2'}, {'date': '2003-06-01', 'value': '6.3'}, {'date': '2003-05-01', 'value': '6.1'}, {'date': '2003-04-01', 'value': '6.0'}, {'date': '2003-03-01', 'value': '5.9'}, {'date': '2003-02-01', 'value': '5.9'}, {'date': '2003-01-01', 'value': '5.8'}, {'date': '2002-12-01', 'value': '6.0'}, {'date': '2002-11-01', 'value': '5.9'}, {'date': '2002-10-01', 'value': '5.7'}, {'date': '2002-09-01', 'value': '5.7'}, {'date': '2002-08-01', 'value': '5.7'}, {'date': '2002-07-01', 'value': '5.8'}, {'date': '2002-06-01', 'value': '5.8'}, {'date': '2002-05-01', 'value': '5.8'}, {'date': '2002-04-01', 'value': '5.9'}, {'date': '2002-03-01', 'value': '5.7'}, {'date': '2002-02-01', 'value': '5.7'}, {'date': '2002-01-01', 'value': '5.7'}, {'date': '2001-12-01', 'value': '5.7'}, {'date': '2001-11-01', 'value': '5.5'}, {'date': '2001-10-01', 'value': '5.3'}, {'date': '2001-09-01', 'value': '5.0'}, {'date': '2001-08-01', 'value': '4.9'}, {'date': '2001-07-01', 'value': '4.6'}, {'date': '2001-06-01', 'value': '4.5'}, {'date': '2001-05-01', 'value': '4.3'}, {'date': '2001-04-01', 'value': '4.4'}, {'date': '2001-03-01', 'value': '4.3'}, {'date': '2001-02-01', 'value': '4.2'}, {'date': '2001-01-01', 'value': '4.2'}, {'date': '2000-12-01', 'value': '3.9'}, {'date': '2000-11-01', 'value': '3.9'}, {'date': '2000-10-01', 'value': '3.9'}, {'date': '2000-09-01', 'value': '3.9'}, {'date': '2000-08-01', 'value': '4.1'}, {'date': '2000-07-01', 'value': '4.0'}, {'date': '2000-06-01', 'value': '4.0'}, {'date': '2000-05-01', 'value': '4.0'}, {'date': '2000-04-01', 'value': '3.8'}, {'date': '2000-03-01', 'value': '4.0'}, {'date': '2000-02-01', 'value': '4.1'}, {'date': '2000-01-01', 'value': '4.0'}, {'date': '1999-12-01', 'value': '4.0'}, {'date': '1999-11-01', 'value': '4.1'}, {'date': '1999-10-01', 'value': '4.1'}, {'date': '1999-09-01', 'value': '4.2'}, {'date': '1999-08-01', 'value': '4.2'}, {'date': '1999-07-01', 'value': '4.3'}, {'date': '1999-06-01', 'value': '4.3'}, {'date': '1999-05-01', 'value': '4.2'}, {'date': '1999-04-01', 'value': '4.3'}, {'date': '1999-03-01', 'value': '4.2'}, {'date': '1999-02-01', 'value': '4.4'}, {'date': '1999-01-01', 'value': '4.3'}, {'date': '1998-12-01', 'value': '4.4'}, {'date': '1998-11-01', 'value': '4.4'}, {'date': '1998-10-01', 'value': '4.5'}, {'date': '1998-09-01', 'value': '4.6'}, {'date': '1998-08-01', 'value': '4.5'}, {'date': '1998-07-01', 'value': '4.5'}, {'date': '1998-06-01', 'value': '4.5'}, {'date': '1998-05-01', 'value': '4.4'}, {'date': '1998-04-01', 'value': '4.3'}, {'date': '1998-03-01', 'value': '4.7'}, {'date': '1998-02-01', 'value': '4.6'}, {'date': '1998-01-01', 'value': '4.6'}, {'date': '1997-12-01', 'value': '4.7'}, {'date': '1997-11-01', 'value': '4.6'}, {'date': '1997-10-01', 'value': '4.7'}, {'date': '1997-09-01', 'value': '4.9'}, {'date': '1997-08-01', 'value': '4.8'}, {'date': '1997-07-01', 'value': '4.9'}, {'date': '1997-06-01', 'value': '5.0'}, {'date': '1997-05-01', 'value': '4.9'}, {'date': '1997-04-01', 'value': '5.1'}, {'date': '1997-03-01', 'value': '5.2'}, {'date': '1997-02-01', 'value': '5.2'}, {'date': '1997-01-01', 'value': '5.3'}, {'date': '1996-12-01', 'value': '5.4'}, {'date': '1996-11-01', 'value': '5.4'}, {'date': '1996-10-01', 'value': '5.2'}, {'date': '1996-09-01', 'value': '5.2'}, {'date': '1996-08-01', 'value': '5.1'}, {'date': '1996-07-01', 'value': '5.5'}, {'date': '1996-06-01', 'value': '5.3'}, {'date': '1996-05-01', 'value': '5.6'}, {'date': '1996-04-01', 'value': '5.6'}, {'date': '1996-03-01', 'value': '5.5'}, {'date': '1996-02-01', 'value': '5.5'}, {'date': '1996-01-01', 'value': '5.6'}, {'date': '1995-12-01', 'value': '5.6'}, {'date': '1995-11-01', 'value': '5.6'}, {'date': '1995-10-01', 'value': '5.5'}, {'date': '1995-09-01', 'value': '5.6'}, {'date': '1995-08-01', 'value': '5.7'}, {'date': '1995-07-01', 'value': '5.7'}, {'date': '1995-06-01', 'value': '5.6'}, {'date': '1995-05-01', 'value': '5.6'}, {'date': '1995-04-01', 'value': '5.8'}, {'date': '1995-03-01', 'value': '5.4'}, {'date': '1995-02-01', 'value': '5.4'}, {'date': '1995-01-01', 'value': '5.6'}, {'date': '1994-12-01', 'value': '5.5'}, {'date': '1994-11-01', 'value': '5.6'}, {'date': '1994-10-01', 'value': '5.8'}, {'date': '1994-09-01', 'value': '5.9'}, {'date': '1994-08-01', 'value': '6.0'}, {'date': '1994-07-01', 'value': '6.1'}, {'date': '1994-06-01', 'value': '6.1'}, {'date': '1994-05-01', 'value': '6.1'}, {'date': '1994-04-01', 'value': '6.4'}, {'date': '1994-03-01', 'value': '6.5'}, {'date': '1994-02-01', 'value': '6.6'}, {'date': '1994-01-01', 'value': '6.6'}, {'date': '1993-12-01', 'value': '6.5'}, {'date': '1993-11-01', 'value': '6.6'}, {'date': '1993-10-01', 'value': '6.8'}, {'date': '1993-09-01', 'value': '6.7'}, {'date': '1993-08-01', 'value': '6.8'}, {'date': '1993-07-01', 'value': '6.9'}, {'date': '1993-06-01', 'value': '7.0'}, {'date': '1993-05-01', 'value': '7.1'}, {'date': '1993-04-01', 'value': '7.1'}, {'date': '1993-03-01', 'value': '7.0'}, {'date': '1993-02-01', 'value': '7.1'}, {'date': '1993-01-01', 'value': '7.3'}, {'date': '1992-12-01', 'value': '7.4'}, {'date': '1992-11-01', 'value': '7.4'}, {'date': '1992-10-01', 'value': '7.3'}, {'date': '1992-09-01', 'value': '7.6'}, {'date': '1992-08-01', 'value': '7.6'}, {'date': '1992-07-01', 'value': '7.7'}, {'date': '1992-06-01', 'value': '7.8'}, {'date': '1992-05-01', 'value': '7.6'}, {'date': '1992-04-01', 'value': '7.4'}, {'date': '1992-03-01', 'value': '7.4'}, {'date': '1992-02-01', 'value': '7.4'}, {'date': '1992-01-01', 'value': '7.3'}, {'date': '1991-12-01', 'value': '7.3'}, {'date': '1991-11-01', 'value': '7.0'}, {'date': '1991-10-01', 'value': '7.0'}, {'date': '1991-09-01', 'value': '6.9'}, {'date': '1991-08-01', 'value': '6.9'}, {'date': '1991-07-01', 'value': '6.8'}, {'date': '1991-06-01', 'value': '6.9'}, {'date': '1991-05-01', 'value': '6.9'}, {'date': '1991-04-01', 'value': '6.7'}, {'date': '1991-03-01', 'value': '6.8'}, {'date': '1991-02-01', 'value': '6.6'}, {'date': '1991-01-01', 'value': '6.4'}, {'date': '1990-12-01', 'value': '6.3'}, {'date': '1990-11-01', 'value': '6.2'}, {'date': '1990-10-01', 'value': '5.9'}, {'date': '1990-09-01', 'value': '5.9'}, {'date': '1990-08-01', 'value': '5.7'}, {'date': '1990-07-01', 'value': '5.5'}, {'date': '1990-06-01', 'value': '5.2'}, {'date': '1990-05-01', 'value': '5.4'}, {'date': '1990-04-01', 'value': '5.4'}, {'date': '1990-03-01', 'value': '5.2'}, {'date': '1990-02-01', 'value': '5.3'}, {'date': '1990-01-01', 'value': '5.4'}, {'date': '1989-12-01', 'value': '5.4'}, {'date': '1989-11-01', 'value': '5.4'}, {'date': '1989-10-01', 'value': '5.3'}, {'date': '1989-09-01', 'value': '5.3'}, {'date': '1989-08-01', 'value': '5.2'}, {'date': '1989-07-01', 'value': '5.2'}, {'date': '1989-06-01', 'value': '5.3'}, {'date': '1989-05-01', 'value': '5.2'}, {'date': '1989-04-01', 'value': '5.2'}, {'date': '1989-03-01', 'value': '5.0'}, {'date': '1989-02-01', 'value': '5.2'}, {'date': '1989-01-01', 'value': '5.4'}, {'date': '1988-12-01', 'value': '5.3'}, {'date': '1988-11-01', 'value': '5.3'}, {'date': '1988-10-01', 'value': '5.4'}, {'date': '1988-09-01', 'value': '5.4'}, {'date': '1988-08-01', 'value': '5.6'}, {'date': '1988-07-01', 'value': '5.4'}, {'date': '1988-06-01', 'value': '5.4'}, {'date': '1988-05-01', 'value': '5.6'}, {'date': '1988-04-01', 'value': '5.4'}, {'date': '1988-03-01', 'value': '5.7'}, {'date': '1988-02-01', 'value': '5.7'}, {'date': '1988-01-01', 'value': '5.7'}, {'date': '1987-12-01', 'value': '5.7'}, {'date': '1987-11-01', 'value': '5.8'}, {'date': '1987-10-01', 'value': '6.0'}, {'date': '1987-09-01', 'value': '5.9'}, {'date': '1987-08-01', 'value': '6.0'}, {'date': '1987-07-01', 'value': '6.1'}, {'date': '1987-06-01', 'value': '6.2'}, {'date': '1987-05-01', 'value': '6.3'}, {'date': '1987-04-01', 'value': '6.3'}, {'date': '1987-03-01', 'value': '6.6'}, {'date': '1987-02-01', 'value': '6.6'}, {'date': '1987-01-01', 'value': '6.6'}, {'date': '1986-12-01', 'value': '6.6'}, {'date': '1986-11-01', 'value': '6.9'}, {'date': '1986-10-01', 'value': '7.0'}, {'date': '1986-09-01', 'value': '7.0'}, {'date': '1986-08-01', 'value': '6.9'}, {'date': '1986-07-01', 'value': '7.0'}, {'date': '1986-06-01', 'value': '7.2'}, {'date': '1986-05-01', 'value': '7.2'}, {'date': '1986-04-01', 'value': '7.1'}, {'date': '1986-03-01', 'value': '7.2'}, {'date': '1986-02-01', 'value': '7.2'}, {'date': '1986-01-01', 'value': '6.7'}, {'date': '1985-12-01', 'value': '7.0'}, {'date': '1985-11-01', 'value': '7.0'}, {'date': '1985-10-01', 'value': '7.1'}, {'date': '1985-09-01', 'value': '7.1'}, {'date': '1985-08-01', 'value': '7.1'}, {'date': '1985-07-01', 'value': '7.4'}, {'date': '1985-06-01', 'value': '7.4'}, {'date': '1985-05-01', 'value': '7.2'}, {'date': '1985-04-01', 'value': '7.3'}, {'date': '1985-03-01', 'value': '7.2'}, {'date': '1985-02-01', 'value': '7.2'}, {'date': '1985-01-01', 'value': '7.3'}, {'date': '1984-12-01', 'value': '7.3'}, {'date': '1984-11-01', 'value': '7.2'}, {'date': '1984-10-01', 'value': '7.4'}, {'date': '1984-09-01', 'value': '7.3'}, {'date': '1984-08-01', 'value': '7.5'}, {'date': '1984-07-01', 'value': '7.5'}, {'date': '1984-06-01', 'value': '7.2'}, {'date': '1984-05-01', 'value': '7.4'}, {'date': '1984-04-01', 'value': '7.7'}, {'date': '1984-03-01', 'value': '7.8'}, {'date': '1984-02-01', 'value': '7.8'}, {'date': '1984-01-01', 'value': '8.0'}, {'date': '1983-12-01', 'value': '8.3'}, {'date': '1983-11-01', 'value': '8.5'}, {'date': '1983-10-01', 'value': '8.8'}, {'date': '1983-09-01', 'value': '9.2'}, {'date': '1983-08-01', 'value': '9.5'}, {'date': '1983-07-01', 'value': '9.4'}, {'date': '1983-06-01', 'value': '10.1'}, {'date': '1983-05-01', 'value': '10.1'}, {'date': '1983-04-01', 'value': '10.2'}, {'date': '1983-03-01', 'value': '10.3'}, {'date': '1983-02-01', 'value': '10.4'}, {'date': '1983-01-01', 'value': '10.4'}, {'date': '1982-12-01', 'value': '10.8'}, {'date': '1982-11-01', 'value': '10.8'}, {'date': '1982-10-01', 'value': '10.4'}, {'date': '1982-09-01', 'value': '10.1'}, {'date': '1982-08-01', 'value': '9.8'}, {'date': '1982-07-01', 'value': '9.8'}, {'date': '1982-06-01', 'value': '9.6'}, {'date': '1982-05-01', 'value': '9.4'}, {'date': '1982-04-01', 'value': '9.3'}, {'date': '1982-03-01', 'value': '9.0'}, {'date': '1982-02-01', 'value': '8.9'}, {'date': '1982-01-01', 'value': '8.6'}, {'date': '1981-12-01', 'value': '8.5'}, {'date': '1981-11-01', 'value': '8.3'}, {'date': '1981-10-01', 'value': '7.9'}, {'date': '1981-09-01', 'value': '7.6'}, {'date': '1981-08-01', 'value': '7.4'}, {'date': '1981-07-01', 'value': '7.2'}, {'date': '1981-06-01', 'value': '7.5'}, {'date': '1981-05-01', 'value': '7.5'}, {'date': '1981-04-01', 'value': '7.2'}, {'date': '1981-03-01', 'value': '7.4'}, {'date': '1981-02-01', 'value': '7.4'}, {'date': '1981-01-01', 'value': '7.5'}, {'date': '1980-12-01', 'value': '7.2'}, {'date': '1980-11-01', 'value': '7.5'}, {'date': '1980-10-01', 'value': '7.5'}, {'date': '1980-09-01', 'value': '7.5'}, {'date': '1980-08-01', 'value': '7.7'}, {'date': '1980-07-01', 'value': '7.8'}, {'date': '1980-06-01', 'value': '7.6'}, {'date': '1980-05-01', 'value': '7.5'}, {'date': '1980-04-01', 'value': '6.9'}, {'date': '1980-03-01', 'value': '6.3'}, {'date': '1980-02-01', 'value': '6.3'}, {'date': '1980-01-01', 'value': '6.3'}, {'date': '1979-12-01', 'value': '6.0'}, {'date': '1979-11-01', 'value': '5.9'}, {'date': '1979-10-01', 'value': '6.0'}, {'date': '1979-09-01', 'value': '5.9'}, {'date': '1979-08-01', 'value': '6.0'}, {'date': '1979-07-01', 'value': '5.7'}, {'date': '1979-06-01', 'value': '5.7'}, {'date': '1979-05-01', 'value': '5.6'}, {'date': '1979-04-01', 'value': '5.8'}, {'date': '1979-03-01', 'value': '5.8'}, {'date': '1979-02-01', 'value': '5.9'}, {'date': '1979-01-01', 'value': '5.9'}, {'date': '1978-12-01', 'value': '6.0'}, {'date': '1978-11-01', 'value': '5.9'}, {'date': '1978-10-01', 'value': '5.8'}, {'date': '1978-09-01', 'value': '6.0'}, {'date': '1978-08-01', 'value': '5.9'}, {'date': '1978-07-01', 'value': '6.2'}, {'date': '1978-06-01', 'value': '5.9'}, {'date': '1978-05-01', 'value': '6.0'}, {'date': '1978-04-01', 'value': '6.1'}, {'date': '1978-03-01', 'value': '6.3'}, {'date': '1978-02-01', 'value': '6.3'}, {'date': '1978-01-01', 'value': '6.4'}, {'date': '1977-12-01', 'value': '6.4'}, {'date': '1977-11-01', 'value': '6.8'}, {'date': '1977-10-01', 'value': '6.8'}, {'date': '1977-09-01', 'value': '6.8'}, {'date': '1977-08-01', 'value': '7.0'}, {'date': '1977-07-01', 'value': '6.9'}, {'date': '1977-06-01', 'value': '7.2'}, {'date': '1977-05-01', 'value': '7.0'}, {'date': '1977-04-01', 'value': '7.2'}, {'date': '1977-03-01', 'value': '7.4'}, {'date': '1977-02-01', 'value': '7.6'}, {'date': '1977-01-01', 'value': '7.5'}, {'date': '1976-12-01', 'value': '7.8'}, {'date': '1976-11-01', 'value': '7.8'}, {'date': '1976-10-01', 'value': '7.7'}, {'date': '1976-09-01', 'value': '7.6'}, {'date': '1976-08-01', 'value': '7.8'}, {'date': '1976-07-01', 'value': '7.8'}, {'date': '1976-06-01', 'value': '7.6'}, {'date': '1976-05-01', 'value': '7.4'}, {'date': '1976-04-01', 'value': '7.7'}, {'date': '1976-03-01', 'value': '7.6'}, {'date': '1976-02-01', 'value': '7.7'}, {'date': '1976-01-01', 'value': '7.9'}, {'date': '1975-12-01', 'value': '8.2'}, {'date': '1975-11-01', 'value': '8.3'}, {'date': '1975-10-01', 'value': '8.4'}, {'date': '1975-09-01', 'value': '8.4'}, {'date': '1975-08-01', 'value': '8.4'}, {'date': '1975-07-01', 'value': '8.6'}, {'date': '1975-06-01', 'value': '8.8'}, {'date': '1975-05-01', 'value': '9.0'}, {'date': '1975-04-01', 'value': '8.8'}, {'date': '1975-03-01', 'value': '8.6'}, {'date': '1975-02-01', 'value': '8.1'}, {'date': '1975-01-01', 'value': '8.1'}, {'date': '1974-12-01', 'value': '7.2'}, {'date': '1974-11-01', 'value': '6.6'}, {'date': '1974-10-01', 'value': '6.0'}, {'date': '1974-09-01', 'value': '5.9'}, {'date': '1974-08-01', 'value': '5.5'}, {'date': '1974-07-01', 'value': '5.5'}, {'date': '1974-06-01', 'value': '5.4'}, {'date': '1974-05-01', 'value': '5.1'}, {'date': '1974-04-01', 'value': '5.1'}, {'date': '1974-03-01', 'value': '5.1'}, {'date': '1974-02-01', 'value': '5.2'}, {'date': '1974-01-01', 'value': '5.1'}, {'date': '1973-12-01', 'value': '4.9'}, {'date': '1973-11-01', 'value': '4.8'}, {'date': '1973-10-01', 'value': '4.6'}, {'date': '1973-09-01', 'value': '4.8'}, {'date': '1973-08-01', 'value': '4.8'}, {'date': '1973-07-01', 'value': '4.8'}, {'date': '1973-06-01', 'value': '4.9'}, {'date': '1973-05-01', 'value': '4.9'}, {'date': '1973-04-01', 'value': '5.0'}, {'date': '1973-03-01', 'value': '4.9'}, {'date': '1973-02-01', 'value': '5.0'}, {'date': '1973-01-01', 'value': '4.9'}, {'date': '1972-12-01', 'value': '5.2'}, {'date': '1972-11-01', 'value': '5.3'}, {'date': '1972-10-01', 'value': '5.6'}, {'date': '1972-09-01', 'value': '5.5'}, {'date': '1972-08-01', 'value': '5.6'}, {'date': '1972-07-01', 'value': '5.6'}, {'date': '1972-06-01', 'value': '5.7'}, {'date': '1972-05-01', 'value': '5.7'}, {'date': '1972-04-01', 'value': '5.7'}, {'date': '1972-03-01', 'value': '5.8'}, {'date': '1972-02-01', 'value': '5.7'}, {'date': '1972-01-01', 'value': '5.8'}, {'date': '1971-12-01', 'value': '6.0'}, {'date': '1971-11-01', 'value': '6.0'}, {'date': '1971-10-01', 'value': '5.8'}, {'date': '1971-09-01', 'value': '6.0'}, {'date': '1971-08-01', 'value': '6.1'}, {'date': '1971-07-01', 'value': '6.0'}, {'date': '1971-06-01', 'value': '5.9'}, {'date': '1971-05-01', 'value': '5.9'}, {'date': '1971-04-01', 'value': '5.9'}, {'date': '1971-03-01', 'value': '6.0'}, {'date': '1971-02-01', 'value': '5.9'}, {'date': '1971-01-01', 'value': '5.9'}, {'date': '1970-12-01', 'value': '6.1'}, {'date': '1970-11-01', 'value': '5.9'}, {'date': '1970-10-01', 'value': '5.5'}, {'date': '1970-09-01', 'value': '5.4'}, {'date': '1970-08-01', 'value': '5.1'}, {'date': '1970-07-01', 'value': '5.0'}, {'date': '1970-06-01', 'value': '4.9'}, {'date': '1970-05-01', 'value': '4.8'}, {'date': '1970-04-01', 'value': '4.6'}, {'date': '1970-03-01', 'value': '4.4'}, {'date': '1970-02-01', 'value': '4.2'}, {'date': '1970-01-01', 'value': '3.9'}, {'date': '1969-12-01', 'value': '3.5'}, {'date': '1969-11-01', 'value': '3.5'}, {'date': '1969-10-01', 'value': '3.7'}, {'date': '1969-09-01', 'value': '3.7'}, {'date': '1969-08-01', 'value': '3.5'}, {'date': '1969-07-01', 'value': '3.5'}, {'date': '1969-06-01', 'value': '3.5'}, {'date': '1969-05-01', 'value': '3.4'}, {'date': '1969-04-01', 'value': '3.4'}, {'date': '1969-03-01', 'value': '3.4'}, {'date': '1969-02-01', 'value': '3.4'}, {'date': '1969-01-01', 'value': '3.4'}, {'date': '1968-12-01', 'value': '3.4'}, {'date': '1968-11-01', 'value': '3.4'}, {'date': '1968-10-01', 'value': '3.4'}, {'date': '1968-09-01', 'value': '3.4'}, {'date': '1968-08-01', 'value': '3.5'}, {'date': '1968-07-01', 'value': '3.7'}, {'date': '1968-06-01', 'value': '3.7'}, {'date': '1968-05-01', 'value': '3.5'}, {'date': '1968-04-01', 'value': '3.5'}, {'date': '1968-03-01', 'value': '3.7'}, {'date': '1968-02-01', 'value': '3.8'}, {'date': '1968-01-01', 'value': '3.7'}, {'date': '1967-12-01', 'value': '3.8'}, {'date': '1967-11-01', 'value': '3.9'}, {'date': '1967-10-01', 'value': '4.0'}, {'date': '1967-09-01', 'value': '3.8'}, {'date': '1967-08-01', 'value': '3.8'}, {'date': '1967-07-01', 'value': '3.8'}, {'date': '1967-06-01', 'value': '3.9'}, {'date': '1967-05-01', 'value': '3.8'}, {'date': '1967-04-01', 'value': '3.8'}, {'date': '1967-03-01', 'value': '3.8'}, {'date': '1967-02-01', 'value': '3.8'}, {'date': '1967-01-01', 'value': '3.9'}, {'date': '1966-12-01', 'value': '3.8'}, {'date': '1966-11-01', 'value': '3.6'}, {'date': '1966-10-01', 'value': '3.7'}, {'date': '1966-09-01', 'value': '3.7'}, {'date': '1966-08-01', 'value': '3.8'}, {'date': '1966-07-01', 'value': '3.8'}, {'date': '1966-06-01', 'value': '3.8'}, {'date': '1966-05-01', 'value': '3.9'}, {'date': '1966-04-01', 'value': '3.8'}, {'date': '1966-03-01', 'value': '3.8'}, {'date': '1966-02-01', 'value': '3.8'}, {'date': '1966-01-01', 'value': '4.0'}, {'date': '1965-12-01', 'value': '4.0'}, {'date': '1965-11-01', 'value': '4.1'}, {'date': '1965-10-01', 'value': '4.2'}, {'date': '1965-09-01', 'value': '4.3'}, {'date': '1965-08-01', 'value': '4.4'}, {'date': '1965-07-01', 'value': '4.4'}, {'date': '1965-06-01', 'value': '4.6'}, {'date': '1965-05-01', 'value': '4.6'}, {'date': '1965-04-01', 'value': '4.8'}, {'date': '1965-03-01', 'value': '4.7'}, {'date': '1965-02-01', 'value': '5.1'}, {'date': '1965-01-01', 'value': '4.9'}, {'date': '1964-12-01', 'value': '5.0'}, {'date': '1964-11-01', 'value': '4.8'}, {'date': '1964-10-01', 'value': '5.1'}, {'date': '1964-09-01', 'value': '5.1'}, {'date': '1964-08-01', 'value': '5.0'}, {'date': '1964-07-01', 'value': '4.9'}, {'date': '1964-06-01', 'value': '5.2'}, {'date': '1964-05-01', 'value': '5.1'}, {'date': '1964-04-01', 'value': '5.3'}, {'date': '1964-03-01', 'value': '5.4'}, {'date': '1964-02-01', 'value': '5.4'}, {'date': '1964-01-01', 'value': '5.6'}, {'date': '1963-12-01', 'value': '5.5'}, {'date': '1963-11-01', 'value': '5.7'}, {'date': '1963-10-01', 'value': '5.5'}, {'date': '1963-09-01', 'value': '5.5'}, {'date': '1963-08-01', 'value': '5.4'}, {'date': '1963-07-01', 'value': '5.6'}, {'date': '1963-06-01', 'value': '5.6'}, {'date': '1963-05-01', 'value': '5.9'}, {'date': '1963-04-01', 'value': '5.7'}, {'date': '1963-03-01', 'value': '5.7'}, {'date': '1963-02-01', 'value': '5.9'}, {'date': '1963-01-01', 'value': '5.7'}, {'date': '1962-12-01', 'value': '5.5'}, {'date': '1962-11-01', 'value': '5.7'}, {'date': '1962-10-01', 'value': '5.4'}, {'date': '1962-09-01', 'value': '5.6'}, {'date': '1962-08-01', 'value': '5.7'}, {'date': '1962-07-01', 'value': '5.4'}, {'date': '1962-06-01', 'value': '5.5'}, {'date': '1962-05-01', 'value': '5.5'}, {'date': '1962-04-01', 'value': '5.6'}, {'date': '1962-03-01', 'value': '5.6'}, {'date': '1962-02-01', 'value': '5.5'}, {'date': '1962-01-01', 'value': '5.8'}, {'date': '1961-12-01', 'value': '6.0'}, {'date': '1961-11-01', 'value': '6.1'}, {'date': '1961-10-01', 'value': '6.5'}, {'date': '1961-09-01', 'value': '6.7'}, {'date': '1961-08-01', 'value': '6.6'}, {'date': '1961-07-01', 'value': '7.0'}, {'date': '1961-06-01', 'value': '6.9'}, {'date': '1961-05-01', 'value': '7.1'}, {'date': '1961-04-01', 'value': '7.0'}, {'date': '1961-03-01', 'value': '6.9'}, {'date': '1961-02-01', 'value': '6.9'}, {'date': '1961-01-01', 'value': '6.6'}, {'date': '1960-12-01', 'value': '6.6'}, {'date': '1960-11-01', 'value': '6.1'}, {'date': '1960-10-01', 'value': '6.1'}, {'date': '1960-09-01', 'value': '5.5'}, {'date': '1960-08-01', 'value': '5.6'}, {'date': '1960-07-01', 'value': '5.5'}, {'date': '1960-06-01', 'value': '5.4'}, {'date': '1960-05-01', 'value': '5.1'}, {'date': '1960-04-01', 'value': '5.2'}, {'date': '1960-03-01', 'value': '5.4'}, {'date': '1960-02-01', 'value': '4.8'}, {'date': '1960-01-01', 'value': '5.2'}, {'date': '1959-12-01', 'value': '5.3'}, {'date': '1959-11-01', 'value': '5.8'}, {'date': '1959-10-01', 'value': '5.7'}, {'date': '1959-09-01', 'value': '5.5'}, {'date': '1959-08-01', 'value': '5.2'}, {'date': '1959-07-01', 'value': '5.1'}, {'date': '1959-06-01', 'value': '5.0'}, {'date': '1959-05-01', 'value': '5.1'}, {'date': '1959-04-01', 'value': '5.2'}, {'date': '1959-03-01', 'value': '5.6'}, {'date': '1959-02-01', 'value': '5.9'}, {'date': '1959-01-01', 'value': '6.0'}, {'date': '1958-12-01', 'value': '6.2'}, {'date': '1958-11-01', 'value': '6.2'}, {'date': '1958-10-01', 'value': '6.7'}, {'date': '1958-09-01', 'value': '7.1'}, {'date': '1958-08-01', 'value': '7.4'}, {'date': '1958-07-01', 'value': '7.5'}, {'date': '1958-06-01', 'value': '7.3'}, {'date': '1958-05-01', 'value': '7.4'}, {'date': '1958-04-01', 'value': '7.4'}, {'date': '1958-03-01', 'value': '6.7'}, {'date': '1958-02-01', 'value': '6.4'}, {'date': '1958-01-01', 'value': '5.8'}, {'date': '1957-12-01', 'value': '5.2'}, {'date': '1957-11-01', 'value': '5.1'}, {'date': '1957-10-01', 'value': '4.5'}, {'date': '1957-09-01', 'value': '4.4'}, {'date': '1957-08-01', 'value': '4.1'}, {'date': '1957-07-01', 'value': '4.2'}, {'date': '1957-06-01', 'value': '4.3'}, {'date': '1957-05-01', 'value': '4.1'}, {'date': '1957-04-01', 'value': '3.9'}, {'date': '1957-03-01', 'value': '3.7'}, {'date': '1957-02-01', 'value': '3.9'}, {'date': '1957-01-01', 'value': '4.2'}, {'date': '1956-12-01', 'value': '4.2'}, {'date': '1956-11-01', 'value': '4.3'}, {'date': '1956-10-01', 'value': '3.9'}, {'date': '1956-09-01', 'value': '3.9'}, {'date': '1956-08-01', 'value': '4.1'}, {'date': '1956-07-01', 'value': '4.4'}, {'date': '1956-06-01', 'value': '4.3'}, {'date': '1956-05-01', 'value': '4.3'}, {'date': '1956-04-01', 'value': '4.0'}, {'date': '1956-03-01', 'value': '4.2'}, {'date': '1956-02-01', 'value': '3.9'}, {'date': '1956-01-01', 'value': '4.0'}, {'date': '1955-12-01', 'value': '4.2'}, {'date': '1955-11-01', 'value': '4.2'}, {'date': '1955-10-01', 'value': '4.3'}, {'date': '1955-09-01', 'value': '4.1'}, {'date': '1955-08-01', 'value': '4.2'}, {'date': '1955-07-01', 'value': '4.0'}, {'date': '1955-06-01', 'value': '4.2'}, {'date': '1955-05-01', 'value': '4.3'}, {'date': '1955-04-01', 'value': '4.7'}, {'date': '1955-03-01', 'value': '4.6'}, {'date': '1955-02-01', 'value': '4.7'}, {'date': '1955-01-01', 'value': '4.9'}, {'date': '1954-12-01', 'value': '5.0'}, {'date': '1954-11-01', 'value': '5.3'}, {'date': '1954-10-01', 'value': '5.7'}, {'date': '1954-09-01', 'value': '6.1'}, {'date': '1954-08-01', 'value': '6.0'}, {'date': '1954-07-01', 'value': '5.8'}, {'date': '1954-06-01', 'value': '5.6'}, {'date': '1954-05-01', 'value': '5.9'}, {'date': '1954-04-01', 'value': '5.9'}, {'date': '1954-03-01', 'value': '5.7'}, {'date': '1954-02-01', 'value': '5.2'}, {'date': '1954-01-01', 'value': '4.9'}, {'date': '1953-12-01', 'value': '4.5'}, {'date': '1953-11-01', 'value': '3.5'}, {'date': '1953-10-01', 'value': '3.1'}, {'date': '1953-09-01', 'value': '2.9'}, {'date': '1953-08-01', 'value': '2.7'}, {'date': '1953-07-01', 'value': '2.6'}, {'date': '1953-06-01', 'value': '2.5'}, {'date': '1953-05-01', 'value': '2.5'}, {'date': '1953-04-01', 'value': '2.7'}, {'date': '1953-03-01', 'value': '2.6'}, {'date': '1953-02-01', 'value': '2.6'}, {'date': '1953-01-01', 'value': '2.9'}, {'date': '1952-12-01', 'value': '2.7'}, {'date': '1952-11-01', 'value': '2.8'}, {'date': '1952-10-01', 'value': '3.0'}, {'date': '1952-09-01', 'value': '3.1'}, {'date': '1952-08-01', 'value': '3.4'}, {'date': '1952-07-01', 'value': '3.2'}, {'date': '1952-06-01', 'value': '3.0'}, {'date': '1952-05-01', 'value': '3.0'}, {'date': '1952-04-01', 'value': '2.9'}, {'date': '1952-03-01', 'value': '2.9'}, {'date': '1952-02-01', 'value': '3.1'}, {'date': '1952-01-01', 'value': '3.2'}, {'date': '1951-12-01', 'value': '3.1'}, {'date': '1951-11-01', 'value': '3.5'}, {'date': '1951-10-01', 'value': '3.5'}, {'date': '1951-09-01', 'value': '3.3'}, {'date': '1951-08-01', 'value': '3.1'}, {'date': '1951-07-01', 'value': '3.1'}, {'date': '1951-06-01', 'value': '3.2'}, {'date': '1951-05-01', 'value': '3.0'}, {'date': '1951-04-01', 'value': '3.1'}, {'date': '1951-03-01', 'value': '3.4'}, {'date': '1951-02-01', 'value': '3.4'}, {'date': '1951-01-01', 'value': '3.7'}, {'date': '1950-12-01', 'value': '4.3'}, {'date': '1950-11-01', 'value': '4.2'}, {'date': '1950-10-01', 'value': '4.2'}, {'date': '1950-09-01', 'value': '4.4'}, {'date': '1950-08-01', 'value': '4.5'}, {'date': '1950-07-01', 'value': '5.0'}, {'date': '1950-06-01', 'value': '5.4'}, {'date': '1950-05-01', 'value': '5.5'}, {'date': '1950-04-01', 'value': '5.8'}, {'date': '1950-03-01', 'value': '6.3'}, {'date': '1950-02-01', 'value': '6.4'}, {'date': '1950-01-01', 'value': '6.5'}, {'date': '1949-12-01', 'value': '6.6'}, {'date': '1949-11-01', 'value': '6.4'}, {'date': '1949-10-01', 'value': '7.9'}, {'date': '1949-09-01', 'value': '6.6'}, {'date': '1949-08-01', 'value': '6.8'}, {'date': '1949-07-01', 'value': '6.7'}, {'date': '1949-06-01', 'value': '6.2'}, {'date': '1949-05-01', 'value': '6.1'}, {'date': '1949-04-01', 'value': '5.3'}, {'date': '1949-03-01', 'value': '5.0'}, {'date': '1949-02-01', 'value': '4.7'}, {'date': '1949-01-01', 'value': '4.3'}, {'date': '1948-12-01', 'value': '4.0'}, {'date': '1948-11-01', 'value': '3.8'}, {'date': '1948-10-01', 'value': '3.7'}, {'date': '1948-09-01', 'value': '3.8'}, {'date': '1948-08-01', 'value': '3.9'}, {'date': '1948-07-01', 'value': '3.6'}, {'date': '1948-06-01', 'value': '3.6'}, {'date': '1948-05-01', 'value': '3.5'}, {'date': '1948-04-01', 'value': '3.9'}, {'date': '1948-03-01', 'value': '4.0'}, {'date': '1948-02-01', 'value': '3.8'}, {'date': '1948-01-01', 'value': '3.4'}]}\n",
            "dict_keys(['name', 'interval', 'unit', 'data'])\n"
          ]
        }
      ]
    },
    {
      "cell_type": "code",
      "source": [
        "print(parsed_response[\"name\"])"
      ],
      "metadata": {
        "colab": {
          "base_uri": "https://localhost:8080/"
        },
        "id": "flvWvRXNeo2A",
        "outputId": "b3ac1ca5-7e1f-43dc-e213-bbd67e9904fd"
      },
      "execution_count": null,
      "outputs": [
        {
          "output_type": "stream",
          "name": "stdout",
          "text": [
            "Unemployment Rate\n"
          ]
        }
      ]
    },
    {
      "cell_type": "code",
      "source": [
        "data = parsed_response[\"data\"]\n",
        "print(type(data))"
      ],
      "metadata": {
        "colab": {
          "base_uri": "https://localhost:8080/"
        },
        "id": "KE-c9rVuerDe",
        "outputId": "bdf0fc9d-9c39-4d8b-ede4-c080dbf3cb2c"
      },
      "execution_count": null,
      "outputs": [
        {
          "output_type": "stream",
          "name": "stdout",
          "text": [
            "<class 'list'>\n"
          ]
        }
      ]
    },
    {
      "cell_type": "code",
      "source": [
        "# Challenge A\n",
        "#\n",
        "# What is the most recent unemployment rate? And the corresponding date? \n",
        "# Display the unemployment rate using a percent sign.\n",
        "\n",
        "print(\"-------------------------\")\n",
        "print(\"LATEST UNEMPLOYMENT RATE:\")\n",
        "#print(data[0])\n",
        "print(f\"{data[0]['value']}%\", \"as of\", data[0][\"date\"])"
      ],
      "metadata": {
        "colab": {
          "base_uri": "https://localhost:8080/"
        },
        "id": "XlvchZIGeyYL",
        "outputId": "737af0c6-f35d-45d9-e1f7-d45fbbbcf2b0"
      },
      "execution_count": null,
      "outputs": [
        {
          "output_type": "stream",
          "name": "stdout",
          "text": [
            "-------------------------\n",
            "LATEST UNEMPLOYMENT RATE:\n",
            "3.7% as of 2022-11-01\n"
          ]
        }
      ]
    },
    {
      "cell_type": "code",
      "source": [
        "\n",
        "# Challenge B\n",
        "# \n",
        "# What is the average unemployment rate for all months during this calendar year?\n",
        "# ... How many months does this cover?\n",
        "\n",
        "from statistics import mean\n",
        "\n",
        "this_year = [d for d in data if \"2022-\" in d[\"date\"]]\n",
        "\n",
        "rates_this_year = [float(d[\"value\"]) for d in this_year]\n",
        "#print(rates_this_year)\n",
        "\n",
        "print(\"-------------------------\")\n",
        "print(\"AVG UNEMPLOYMENT THIS YEAR:\", f\"{mean(rates_this_year)}%\")\n",
        "print(\"NO MONTHS:\", len(this_year))"
      ],
      "metadata": {
        "colab": {
          "base_uri": "https://localhost:8080/"
        },
        "id": "Vd1oep07eyVb",
        "outputId": "22eb3ff5-a2ac-4438-8bb1-a333997d94b0"
      },
      "execution_count": null,
      "outputs": [
        {
          "output_type": "stream",
          "name": "stdout",
          "text": [
            "-------------------------\n",
            "AVG UNEMPLOYMENT THIS YEAR: 3.6636363636363636%\n",
            "NO MONTHS: 11\n"
          ]
        }
      ]
    },
    {
      "cell_type": "code",
      "source": [
        "# Challenge C\n",
        "# \n",
        "# Plot a line chart of unemployment rates over time.\n",
        "\n",
        "from plotly.express import line\n",
        "\n",
        "dates = [d[\"date\"] for d in data]\n",
        "rates = [float(d[\"value\"]) for d in data]\n",
        "\n",
        "fig = line(x=dates, y=rates, title=\"United States Unemployment Rate over time\", labels= {\"x\": \"Month\", \"y\": \"Unemployment Rate\"})\n",
        "fig.show()"
      ],
      "metadata": {
        "colab": {
          "base_uri": "https://localhost:8080/",
          "height": 542
        },
        "id": "p2lWcSk3eySe",
        "outputId": "e0b9b4ec-9433-4cd9-d3a7-fcad4ea1306c"
      },
      "execution_count": null,
      "outputs": [
        {
          "output_type": "display_data",
          "data": {
            "text/html": [
              "<html>\n",
              "<head><meta charset=\"utf-8\" /></head>\n",
              "<body>\n",
              "    <div>            <script src=\"https://cdnjs.cloudflare.com/ajax/libs/mathjax/2.7.5/MathJax.js?config=TeX-AMS-MML_SVG\"></script><script type=\"text/javascript\">if (window.MathJax) {MathJax.Hub.Config({SVG: {font: \"STIX-Web\"}});}</script>                <script type=\"text/javascript\">window.PlotlyConfig = {MathJaxConfig: 'local'};</script>\n",
              "        <script src=\"https://cdn.plot.ly/plotly-2.8.3.min.js\"></script>                <div id=\"52b4b453-8f72-4cfd-86a5-3da0f755af80\" class=\"plotly-graph-div\" style=\"height:525px; width:100%;\"></div>            <script type=\"text/javascript\">                                    window.PLOTLYENV=window.PLOTLYENV || {};                                    if (document.getElementById(\"52b4b453-8f72-4cfd-86a5-3da0f755af80\")) {                    Plotly.newPlot(                        \"52b4b453-8f72-4cfd-86a5-3da0f755af80\",                        [{\"hovertemplate\":\"Month=%{x}<br>Unemployment Rate=%{y}<extra></extra>\",\"legendgroup\":\"\",\"line\":{\"color\":\"#636efa\",\"dash\":\"solid\"},\"marker\":{\"symbol\":\"circle\"},\"mode\":\"lines\",\"name\":\"\",\"orientation\":\"v\",\"showlegend\":false,\"x\":[\"2022-11-01\",\"2022-10-01\",\"2022-09-01\",\"2022-08-01\",\"2022-07-01\",\"2022-06-01\",\"2022-05-01\",\"2022-04-01\",\"2022-03-01\",\"2022-02-01\",\"2022-01-01\",\"2021-12-01\",\"2021-11-01\",\"2021-10-01\",\"2021-09-01\",\"2021-08-01\",\"2021-07-01\",\"2021-06-01\",\"2021-05-01\",\"2021-04-01\",\"2021-03-01\",\"2021-02-01\",\"2021-01-01\",\"2020-12-01\",\"2020-11-01\",\"2020-10-01\",\"2020-09-01\",\"2020-08-01\",\"2020-07-01\",\"2020-06-01\",\"2020-05-01\",\"2020-04-01\",\"2020-03-01\",\"2020-02-01\",\"2020-01-01\",\"2019-12-01\",\"2019-11-01\",\"2019-10-01\",\"2019-09-01\",\"2019-08-01\",\"2019-07-01\",\"2019-06-01\",\"2019-05-01\",\"2019-04-01\",\"2019-03-01\",\"2019-02-01\",\"2019-01-01\",\"2018-12-01\",\"2018-11-01\",\"2018-10-01\",\"2018-09-01\",\"2018-08-01\",\"2018-07-01\",\"2018-06-01\",\"2018-05-01\",\"2018-04-01\",\"2018-03-01\",\"2018-02-01\",\"2018-01-01\",\"2017-12-01\",\"2017-11-01\",\"2017-10-01\",\"2017-09-01\",\"2017-08-01\",\"2017-07-01\",\"2017-06-01\",\"2017-05-01\",\"2017-04-01\",\"2017-03-01\",\"2017-02-01\",\"2017-01-01\",\"2016-12-01\",\"2016-11-01\",\"2016-10-01\",\"2016-09-01\",\"2016-08-01\",\"2016-07-01\",\"2016-06-01\",\"2016-05-01\",\"2016-04-01\",\"2016-03-01\",\"2016-02-01\",\"2016-01-01\",\"2015-12-01\",\"2015-11-01\",\"2015-10-01\",\"2015-09-01\",\"2015-08-01\",\"2015-07-01\",\"2015-06-01\",\"2015-05-01\",\"2015-04-01\",\"2015-03-01\",\"2015-02-01\",\"2015-01-01\",\"2014-12-01\",\"2014-11-01\",\"2014-10-01\",\"2014-09-01\",\"2014-08-01\",\"2014-07-01\",\"2014-06-01\",\"2014-05-01\",\"2014-04-01\",\"2014-03-01\",\"2014-02-01\",\"2014-01-01\",\"2013-12-01\",\"2013-11-01\",\"2013-10-01\",\"2013-09-01\",\"2013-08-01\",\"2013-07-01\",\"2013-06-01\",\"2013-05-01\",\"2013-04-01\",\"2013-03-01\",\"2013-02-01\",\"2013-01-01\",\"2012-12-01\",\"2012-11-01\",\"2012-10-01\",\"2012-09-01\",\"2012-08-01\",\"2012-07-01\",\"2012-06-01\",\"2012-05-01\",\"2012-04-01\",\"2012-03-01\",\"2012-02-01\",\"2012-01-01\",\"2011-12-01\",\"2011-11-01\",\"2011-10-01\",\"2011-09-01\",\"2011-08-01\",\"2011-07-01\",\"2011-06-01\",\"2011-05-01\",\"2011-04-01\",\"2011-03-01\",\"2011-02-01\",\"2011-01-01\",\"2010-12-01\",\"2010-11-01\",\"2010-10-01\",\"2010-09-01\",\"2010-08-01\",\"2010-07-01\",\"2010-06-01\",\"2010-05-01\",\"2010-04-01\",\"2010-03-01\",\"2010-02-01\",\"2010-01-01\",\"2009-12-01\",\"2009-11-01\",\"2009-10-01\",\"2009-09-01\",\"2009-08-01\",\"2009-07-01\",\"2009-06-01\",\"2009-05-01\",\"2009-04-01\",\"2009-03-01\",\"2009-02-01\",\"2009-01-01\",\"2008-12-01\",\"2008-11-01\",\"2008-10-01\",\"2008-09-01\",\"2008-08-01\",\"2008-07-01\",\"2008-06-01\",\"2008-05-01\",\"2008-04-01\",\"2008-03-01\",\"2008-02-01\",\"2008-01-01\",\"2007-12-01\",\"2007-11-01\",\"2007-10-01\",\"2007-09-01\",\"2007-08-01\",\"2007-07-01\",\"2007-06-01\",\"2007-05-01\",\"2007-04-01\",\"2007-03-01\",\"2007-02-01\",\"2007-01-01\",\"2006-12-01\",\"2006-11-01\",\"2006-10-01\",\"2006-09-01\",\"2006-08-01\",\"2006-07-01\",\"2006-06-01\",\"2006-05-01\",\"2006-04-01\",\"2006-03-01\",\"2006-02-01\",\"2006-01-01\",\"2005-12-01\",\"2005-11-01\",\"2005-10-01\",\"2005-09-01\",\"2005-08-01\",\"2005-07-01\",\"2005-06-01\",\"2005-05-01\",\"2005-04-01\",\"2005-03-01\",\"2005-02-01\",\"2005-01-01\",\"2004-12-01\",\"2004-11-01\",\"2004-10-01\",\"2004-09-01\",\"2004-08-01\",\"2004-07-01\",\"2004-06-01\",\"2004-05-01\",\"2004-04-01\",\"2004-03-01\",\"2004-02-01\",\"2004-01-01\",\"2003-12-01\",\"2003-11-01\",\"2003-10-01\",\"2003-09-01\",\"2003-08-01\",\"2003-07-01\",\"2003-06-01\",\"2003-05-01\",\"2003-04-01\",\"2003-03-01\",\"2003-02-01\",\"2003-01-01\",\"2002-12-01\",\"2002-11-01\",\"2002-10-01\",\"2002-09-01\",\"2002-08-01\",\"2002-07-01\",\"2002-06-01\",\"2002-05-01\",\"2002-04-01\",\"2002-03-01\",\"2002-02-01\",\"2002-01-01\",\"2001-12-01\",\"2001-11-01\",\"2001-10-01\",\"2001-09-01\",\"2001-08-01\",\"2001-07-01\",\"2001-06-01\",\"2001-05-01\",\"2001-04-01\",\"2001-03-01\",\"2001-02-01\",\"2001-01-01\",\"2000-12-01\",\"2000-11-01\",\"2000-10-01\",\"2000-09-01\",\"2000-08-01\",\"2000-07-01\",\"2000-06-01\",\"2000-05-01\",\"2000-04-01\",\"2000-03-01\",\"2000-02-01\",\"2000-01-01\",\"1999-12-01\",\"1999-11-01\",\"1999-10-01\",\"1999-09-01\",\"1999-08-01\",\"1999-07-01\",\"1999-06-01\",\"1999-05-01\",\"1999-04-01\",\"1999-03-01\",\"1999-02-01\",\"1999-01-01\",\"1998-12-01\",\"1998-11-01\",\"1998-10-01\",\"1998-09-01\",\"1998-08-01\",\"1998-07-01\",\"1998-06-01\",\"1998-05-01\",\"1998-04-01\",\"1998-03-01\",\"1998-02-01\",\"1998-01-01\",\"1997-12-01\",\"1997-11-01\",\"1997-10-01\",\"1997-09-01\",\"1997-08-01\",\"1997-07-01\",\"1997-06-01\",\"1997-05-01\",\"1997-04-01\",\"1997-03-01\",\"1997-02-01\",\"1997-01-01\",\"1996-12-01\",\"1996-11-01\",\"1996-10-01\",\"1996-09-01\",\"1996-08-01\",\"1996-07-01\",\"1996-06-01\",\"1996-05-01\",\"1996-04-01\",\"1996-03-01\",\"1996-02-01\",\"1996-01-01\",\"1995-12-01\",\"1995-11-01\",\"1995-10-01\",\"1995-09-01\",\"1995-08-01\",\"1995-07-01\",\"1995-06-01\",\"1995-05-01\",\"1995-04-01\",\"1995-03-01\",\"1995-02-01\",\"1995-01-01\",\"1994-12-01\",\"1994-11-01\",\"1994-10-01\",\"1994-09-01\",\"1994-08-01\",\"1994-07-01\",\"1994-06-01\",\"1994-05-01\",\"1994-04-01\",\"1994-03-01\",\"1994-02-01\",\"1994-01-01\",\"1993-12-01\",\"1993-11-01\",\"1993-10-01\",\"1993-09-01\",\"1993-08-01\",\"1993-07-01\",\"1993-06-01\",\"1993-05-01\",\"1993-04-01\",\"1993-03-01\",\"1993-02-01\",\"1993-01-01\",\"1992-12-01\",\"1992-11-01\",\"1992-10-01\",\"1992-09-01\",\"1992-08-01\",\"1992-07-01\",\"1992-06-01\",\"1992-05-01\",\"1992-04-01\",\"1992-03-01\",\"1992-02-01\",\"1992-01-01\",\"1991-12-01\",\"1991-11-01\",\"1991-10-01\",\"1991-09-01\",\"1991-08-01\",\"1991-07-01\",\"1991-06-01\",\"1991-05-01\",\"1991-04-01\",\"1991-03-01\",\"1991-02-01\",\"1991-01-01\",\"1990-12-01\",\"1990-11-01\",\"1990-10-01\",\"1990-09-01\",\"1990-08-01\",\"1990-07-01\",\"1990-06-01\",\"1990-05-01\",\"1990-04-01\",\"1990-03-01\",\"1990-02-01\",\"1990-01-01\",\"1989-12-01\",\"1989-11-01\",\"1989-10-01\",\"1989-09-01\",\"1989-08-01\",\"1989-07-01\",\"1989-06-01\",\"1989-05-01\",\"1989-04-01\",\"1989-03-01\",\"1989-02-01\",\"1989-01-01\",\"1988-12-01\",\"1988-11-01\",\"1988-10-01\",\"1988-09-01\",\"1988-08-01\",\"1988-07-01\",\"1988-06-01\",\"1988-05-01\",\"1988-04-01\",\"1988-03-01\",\"1988-02-01\",\"1988-01-01\",\"1987-12-01\",\"1987-11-01\",\"1987-10-01\",\"1987-09-01\",\"1987-08-01\",\"1987-07-01\",\"1987-06-01\",\"1987-05-01\",\"1987-04-01\",\"1987-03-01\",\"1987-02-01\",\"1987-01-01\",\"1986-12-01\",\"1986-11-01\",\"1986-10-01\",\"1986-09-01\",\"1986-08-01\",\"1986-07-01\",\"1986-06-01\",\"1986-05-01\",\"1986-04-01\",\"1986-03-01\",\"1986-02-01\",\"1986-01-01\",\"1985-12-01\",\"1985-11-01\",\"1985-10-01\",\"1985-09-01\",\"1985-08-01\",\"1985-07-01\",\"1985-06-01\",\"1985-05-01\",\"1985-04-01\",\"1985-03-01\",\"1985-02-01\",\"1985-01-01\",\"1984-12-01\",\"1984-11-01\",\"1984-10-01\",\"1984-09-01\",\"1984-08-01\",\"1984-07-01\",\"1984-06-01\",\"1984-05-01\",\"1984-04-01\",\"1984-03-01\",\"1984-02-01\",\"1984-01-01\",\"1983-12-01\",\"1983-11-01\",\"1983-10-01\",\"1983-09-01\",\"1983-08-01\",\"1983-07-01\",\"1983-06-01\",\"1983-05-01\",\"1983-04-01\",\"1983-03-01\",\"1983-02-01\",\"1983-01-01\",\"1982-12-01\",\"1982-11-01\",\"1982-10-01\",\"1982-09-01\",\"1982-08-01\",\"1982-07-01\",\"1982-06-01\",\"1982-05-01\",\"1982-04-01\",\"1982-03-01\",\"1982-02-01\",\"1982-01-01\",\"1981-12-01\",\"1981-11-01\",\"1981-10-01\",\"1981-09-01\",\"1981-08-01\",\"1981-07-01\",\"1981-06-01\",\"1981-05-01\",\"1981-04-01\",\"1981-03-01\",\"1981-02-01\",\"1981-01-01\",\"1980-12-01\",\"1980-11-01\",\"1980-10-01\",\"1980-09-01\",\"1980-08-01\",\"1980-07-01\",\"1980-06-01\",\"1980-05-01\",\"1980-04-01\",\"1980-03-01\",\"1980-02-01\",\"1980-01-01\",\"1979-12-01\",\"1979-11-01\",\"1979-10-01\",\"1979-09-01\",\"1979-08-01\",\"1979-07-01\",\"1979-06-01\",\"1979-05-01\",\"1979-04-01\",\"1979-03-01\",\"1979-02-01\",\"1979-01-01\",\"1978-12-01\",\"1978-11-01\",\"1978-10-01\",\"1978-09-01\",\"1978-08-01\",\"1978-07-01\",\"1978-06-01\",\"1978-05-01\",\"1978-04-01\",\"1978-03-01\",\"1978-02-01\",\"1978-01-01\",\"1977-12-01\",\"1977-11-01\",\"1977-10-01\",\"1977-09-01\",\"1977-08-01\",\"1977-07-01\",\"1977-06-01\",\"1977-05-01\",\"1977-04-01\",\"1977-03-01\",\"1977-02-01\",\"1977-01-01\",\"1976-12-01\",\"1976-11-01\",\"1976-10-01\",\"1976-09-01\",\"1976-08-01\",\"1976-07-01\",\"1976-06-01\",\"1976-05-01\",\"1976-04-01\",\"1976-03-01\",\"1976-02-01\",\"1976-01-01\",\"1975-12-01\",\"1975-11-01\",\"1975-10-01\",\"1975-09-01\",\"1975-08-01\",\"1975-07-01\",\"1975-06-01\",\"1975-05-01\",\"1975-04-01\",\"1975-03-01\",\"1975-02-01\",\"1975-01-01\",\"1974-12-01\",\"1974-11-01\",\"1974-10-01\",\"1974-09-01\",\"1974-08-01\",\"1974-07-01\",\"1974-06-01\",\"1974-05-01\",\"1974-04-01\",\"1974-03-01\",\"1974-02-01\",\"1974-01-01\",\"1973-12-01\",\"1973-11-01\",\"1973-10-01\",\"1973-09-01\",\"1973-08-01\",\"1973-07-01\",\"1973-06-01\",\"1973-05-01\",\"1973-04-01\",\"1973-03-01\",\"1973-02-01\",\"1973-01-01\",\"1972-12-01\",\"1972-11-01\",\"1972-10-01\",\"1972-09-01\",\"1972-08-01\",\"1972-07-01\",\"1972-06-01\",\"1972-05-01\",\"1972-04-01\",\"1972-03-01\",\"1972-02-01\",\"1972-01-01\",\"1971-12-01\",\"1971-11-01\",\"1971-10-01\",\"1971-09-01\",\"1971-08-01\",\"1971-07-01\",\"1971-06-01\",\"1971-05-01\",\"1971-04-01\",\"1971-03-01\",\"1971-02-01\",\"1971-01-01\",\"1970-12-01\",\"1970-11-01\",\"1970-10-01\",\"1970-09-01\",\"1970-08-01\",\"1970-07-01\",\"1970-06-01\",\"1970-05-01\",\"1970-04-01\",\"1970-03-01\",\"1970-02-01\",\"1970-01-01\",\"1969-12-01\",\"1969-11-01\",\"1969-10-01\",\"1969-09-01\",\"1969-08-01\",\"1969-07-01\",\"1969-06-01\",\"1969-05-01\",\"1969-04-01\",\"1969-03-01\",\"1969-02-01\",\"1969-01-01\",\"1968-12-01\",\"1968-11-01\",\"1968-10-01\",\"1968-09-01\",\"1968-08-01\",\"1968-07-01\",\"1968-06-01\",\"1968-05-01\",\"1968-04-01\",\"1968-03-01\",\"1968-02-01\",\"1968-01-01\",\"1967-12-01\",\"1967-11-01\",\"1967-10-01\",\"1967-09-01\",\"1967-08-01\",\"1967-07-01\",\"1967-06-01\",\"1967-05-01\",\"1967-04-01\",\"1967-03-01\",\"1967-02-01\",\"1967-01-01\",\"1966-12-01\",\"1966-11-01\",\"1966-10-01\",\"1966-09-01\",\"1966-08-01\",\"1966-07-01\",\"1966-06-01\",\"1966-05-01\",\"1966-04-01\",\"1966-03-01\",\"1966-02-01\",\"1966-01-01\",\"1965-12-01\",\"1965-11-01\",\"1965-10-01\",\"1965-09-01\",\"1965-08-01\",\"1965-07-01\",\"1965-06-01\",\"1965-05-01\",\"1965-04-01\",\"1965-03-01\",\"1965-02-01\",\"1965-01-01\",\"1964-12-01\",\"1964-11-01\",\"1964-10-01\",\"1964-09-01\",\"1964-08-01\",\"1964-07-01\",\"1964-06-01\",\"1964-05-01\",\"1964-04-01\",\"1964-03-01\",\"1964-02-01\",\"1964-01-01\",\"1963-12-01\",\"1963-11-01\",\"1963-10-01\",\"1963-09-01\",\"1963-08-01\",\"1963-07-01\",\"1963-06-01\",\"1963-05-01\",\"1963-04-01\",\"1963-03-01\",\"1963-02-01\",\"1963-01-01\",\"1962-12-01\",\"1962-11-01\",\"1962-10-01\",\"1962-09-01\",\"1962-08-01\",\"1962-07-01\",\"1962-06-01\",\"1962-05-01\",\"1962-04-01\",\"1962-03-01\",\"1962-02-01\",\"1962-01-01\",\"1961-12-01\",\"1961-11-01\",\"1961-10-01\",\"1961-09-01\",\"1961-08-01\",\"1961-07-01\",\"1961-06-01\",\"1961-05-01\",\"1961-04-01\",\"1961-03-01\",\"1961-02-01\",\"1961-01-01\",\"1960-12-01\",\"1960-11-01\",\"1960-10-01\",\"1960-09-01\",\"1960-08-01\",\"1960-07-01\",\"1960-06-01\",\"1960-05-01\",\"1960-04-01\",\"1960-03-01\",\"1960-02-01\",\"1960-01-01\",\"1959-12-01\",\"1959-11-01\",\"1959-10-01\",\"1959-09-01\",\"1959-08-01\",\"1959-07-01\",\"1959-06-01\",\"1959-05-01\",\"1959-04-01\",\"1959-03-01\",\"1959-02-01\",\"1959-01-01\",\"1958-12-01\",\"1958-11-01\",\"1958-10-01\",\"1958-09-01\",\"1958-08-01\",\"1958-07-01\",\"1958-06-01\",\"1958-05-01\",\"1958-04-01\",\"1958-03-01\",\"1958-02-01\",\"1958-01-01\",\"1957-12-01\",\"1957-11-01\",\"1957-10-01\",\"1957-09-01\",\"1957-08-01\",\"1957-07-01\",\"1957-06-01\",\"1957-05-01\",\"1957-04-01\",\"1957-03-01\",\"1957-02-01\",\"1957-01-01\",\"1956-12-01\",\"1956-11-01\",\"1956-10-01\",\"1956-09-01\",\"1956-08-01\",\"1956-07-01\",\"1956-06-01\",\"1956-05-01\",\"1956-04-01\",\"1956-03-01\",\"1956-02-01\",\"1956-01-01\",\"1955-12-01\",\"1955-11-01\",\"1955-10-01\",\"1955-09-01\",\"1955-08-01\",\"1955-07-01\",\"1955-06-01\",\"1955-05-01\",\"1955-04-01\",\"1955-03-01\",\"1955-02-01\",\"1955-01-01\",\"1954-12-01\",\"1954-11-01\",\"1954-10-01\",\"1954-09-01\",\"1954-08-01\",\"1954-07-01\",\"1954-06-01\",\"1954-05-01\",\"1954-04-01\",\"1954-03-01\",\"1954-02-01\",\"1954-01-01\",\"1953-12-01\",\"1953-11-01\",\"1953-10-01\",\"1953-09-01\",\"1953-08-01\",\"1953-07-01\",\"1953-06-01\",\"1953-05-01\",\"1953-04-01\",\"1953-03-01\",\"1953-02-01\",\"1953-01-01\",\"1952-12-01\",\"1952-11-01\",\"1952-10-01\",\"1952-09-01\",\"1952-08-01\",\"1952-07-01\",\"1952-06-01\",\"1952-05-01\",\"1952-04-01\",\"1952-03-01\",\"1952-02-01\",\"1952-01-01\",\"1951-12-01\",\"1951-11-01\",\"1951-10-01\",\"1951-09-01\",\"1951-08-01\",\"1951-07-01\",\"1951-06-01\",\"1951-05-01\",\"1951-04-01\",\"1951-03-01\",\"1951-02-01\",\"1951-01-01\",\"1950-12-01\",\"1950-11-01\",\"1950-10-01\",\"1950-09-01\",\"1950-08-01\",\"1950-07-01\",\"1950-06-01\",\"1950-05-01\",\"1950-04-01\",\"1950-03-01\",\"1950-02-01\",\"1950-01-01\",\"1949-12-01\",\"1949-11-01\",\"1949-10-01\",\"1949-09-01\",\"1949-08-01\",\"1949-07-01\",\"1949-06-01\",\"1949-05-01\",\"1949-04-01\",\"1949-03-01\",\"1949-02-01\",\"1949-01-01\",\"1948-12-01\",\"1948-11-01\",\"1948-10-01\",\"1948-09-01\",\"1948-08-01\",\"1948-07-01\",\"1948-06-01\",\"1948-05-01\",\"1948-04-01\",\"1948-03-01\",\"1948-02-01\",\"1948-01-01\"],\"xaxis\":\"x\",\"y\":[3.7,3.7,3.5,3.7,3.5,3.6,3.6,3.6,3.6,3.8,4.0,3.9,4.2,4.6,4.7,5.2,5.4,5.9,5.8,6.0,6.0,6.2,6.4,6.7,6.7,6.9,7.9,8.4,10.2,11.0,13.2,14.7,4.4,3.5,3.5,3.6,3.6,3.6,3.5,3.7,3.7,3.6,3.6,3.6,3.8,3.8,4.0,3.9,3.8,3.8,3.7,3.8,3.8,4.0,3.8,4.0,4.0,4.1,4.0,4.1,4.2,4.2,4.3,4.4,4.3,4.3,4.4,4.4,4.4,4.6,4.7,4.7,4.7,4.9,5.0,4.9,4.8,4.9,4.8,5.1,5.0,4.9,4.8,5.0,5.1,5.0,5.0,5.1,5.2,5.3,5.6,5.4,5.4,5.5,5.7,5.6,5.8,5.7,5.9,6.1,6.2,6.1,6.3,6.2,6.7,6.7,6.6,6.7,6.9,7.2,7.2,7.2,7.3,7.5,7.5,7.6,7.5,7.7,8.0,7.9,7.7,7.8,7.8,8.1,8.2,8.2,8.2,8.2,8.2,8.3,8.3,8.5,8.6,8.8,9.0,9.0,9.0,9.1,9.0,9.1,9.0,9.0,9.1,9.3,9.8,9.4,9.5,9.5,9.4,9.4,9.6,9.9,9.9,9.8,9.8,9.9,9.9,10.0,9.8,9.6,9.5,9.5,9.4,9.0,8.7,8.3,7.8,7.3,6.8,6.5,6.1,6.1,5.8,5.6,5.4,5.0,5.1,4.9,5.0,5.0,4.7,4.7,4.7,4.6,4.7,4.6,4.4,4.5,4.4,4.5,4.6,4.4,4.5,4.4,4.5,4.7,4.7,4.6,4.6,4.7,4.7,4.8,4.7,4.9,5.0,5.0,5.0,4.9,5.0,5.0,5.1,5.2,5.2,5.4,5.3,5.4,5.4,5.5,5.4,5.4,5.5,5.6,5.6,5.6,5.8,5.6,5.7,5.7,5.8,6.0,6.1,6.1,6.2,6.3,6.1,6.0,5.9,5.9,5.8,6.0,5.9,5.7,5.7,5.7,5.8,5.8,5.8,5.9,5.7,5.7,5.7,5.7,5.5,5.3,5.0,4.9,4.6,4.5,4.3,4.4,4.3,4.2,4.2,3.9,3.9,3.9,3.9,4.1,4.0,4.0,4.0,3.8,4.0,4.1,4.0,4.0,4.1,4.1,4.2,4.2,4.3,4.3,4.2,4.3,4.2,4.4,4.3,4.4,4.4,4.5,4.6,4.5,4.5,4.5,4.4,4.3,4.7,4.6,4.6,4.7,4.6,4.7,4.9,4.8,4.9,5.0,4.9,5.1,5.2,5.2,5.3,5.4,5.4,5.2,5.2,5.1,5.5,5.3,5.6,5.6,5.5,5.5,5.6,5.6,5.6,5.5,5.6,5.7,5.7,5.6,5.6,5.8,5.4,5.4,5.6,5.5,5.6,5.8,5.9,6.0,6.1,6.1,6.1,6.4,6.5,6.6,6.6,6.5,6.6,6.8,6.7,6.8,6.9,7.0,7.1,7.1,7.0,7.1,7.3,7.4,7.4,7.3,7.6,7.6,7.7,7.8,7.6,7.4,7.4,7.4,7.3,7.3,7.0,7.0,6.9,6.9,6.8,6.9,6.9,6.7,6.8,6.6,6.4,6.3,6.2,5.9,5.9,5.7,5.5,5.2,5.4,5.4,5.2,5.3,5.4,5.4,5.4,5.3,5.3,5.2,5.2,5.3,5.2,5.2,5.0,5.2,5.4,5.3,5.3,5.4,5.4,5.6,5.4,5.4,5.6,5.4,5.7,5.7,5.7,5.7,5.8,6.0,5.9,6.0,6.1,6.2,6.3,6.3,6.6,6.6,6.6,6.6,6.9,7.0,7.0,6.9,7.0,7.2,7.2,7.1,7.2,7.2,6.7,7.0,7.0,7.1,7.1,7.1,7.4,7.4,7.2,7.3,7.2,7.2,7.3,7.3,7.2,7.4,7.3,7.5,7.5,7.2,7.4,7.7,7.8,7.8,8.0,8.3,8.5,8.8,9.2,9.5,9.4,10.1,10.1,10.2,10.3,10.4,10.4,10.8,10.8,10.4,10.1,9.8,9.8,9.6,9.4,9.3,9.0,8.9,8.6,8.5,8.3,7.9,7.6,7.4,7.2,7.5,7.5,7.2,7.4,7.4,7.5,7.2,7.5,7.5,7.5,7.7,7.8,7.6,7.5,6.9,6.3,6.3,6.3,6.0,5.9,6.0,5.9,6.0,5.7,5.7,5.6,5.8,5.8,5.9,5.9,6.0,5.9,5.8,6.0,5.9,6.2,5.9,6.0,6.1,6.3,6.3,6.4,6.4,6.8,6.8,6.8,7.0,6.9,7.2,7.0,7.2,7.4,7.6,7.5,7.8,7.8,7.7,7.6,7.8,7.8,7.6,7.4,7.7,7.6,7.7,7.9,8.2,8.3,8.4,8.4,8.4,8.6,8.8,9.0,8.8,8.6,8.1,8.1,7.2,6.6,6.0,5.9,5.5,5.5,5.4,5.1,5.1,5.1,5.2,5.1,4.9,4.8,4.6,4.8,4.8,4.8,4.9,4.9,5.0,4.9,5.0,4.9,5.2,5.3,5.6,5.5,5.6,5.6,5.7,5.7,5.7,5.8,5.7,5.8,6.0,6.0,5.8,6.0,6.1,6.0,5.9,5.9,5.9,6.0,5.9,5.9,6.1,5.9,5.5,5.4,5.1,5.0,4.9,4.8,4.6,4.4,4.2,3.9,3.5,3.5,3.7,3.7,3.5,3.5,3.5,3.4,3.4,3.4,3.4,3.4,3.4,3.4,3.4,3.4,3.5,3.7,3.7,3.5,3.5,3.7,3.8,3.7,3.8,3.9,4.0,3.8,3.8,3.8,3.9,3.8,3.8,3.8,3.8,3.9,3.8,3.6,3.7,3.7,3.8,3.8,3.8,3.9,3.8,3.8,3.8,4.0,4.0,4.1,4.2,4.3,4.4,4.4,4.6,4.6,4.8,4.7,5.1,4.9,5.0,4.8,5.1,5.1,5.0,4.9,5.2,5.1,5.3,5.4,5.4,5.6,5.5,5.7,5.5,5.5,5.4,5.6,5.6,5.9,5.7,5.7,5.9,5.7,5.5,5.7,5.4,5.6,5.7,5.4,5.5,5.5,5.6,5.6,5.5,5.8,6.0,6.1,6.5,6.7,6.6,7.0,6.9,7.1,7.0,6.9,6.9,6.6,6.6,6.1,6.1,5.5,5.6,5.5,5.4,5.1,5.2,5.4,4.8,5.2,5.3,5.8,5.7,5.5,5.2,5.1,5.0,5.1,5.2,5.6,5.9,6.0,6.2,6.2,6.7,7.1,7.4,7.5,7.3,7.4,7.4,6.7,6.4,5.8,5.2,5.1,4.5,4.4,4.1,4.2,4.3,4.1,3.9,3.7,3.9,4.2,4.2,4.3,3.9,3.9,4.1,4.4,4.3,4.3,4.0,4.2,3.9,4.0,4.2,4.2,4.3,4.1,4.2,4.0,4.2,4.3,4.7,4.6,4.7,4.9,5.0,5.3,5.7,6.1,6.0,5.8,5.6,5.9,5.9,5.7,5.2,4.9,4.5,3.5,3.1,2.9,2.7,2.6,2.5,2.5,2.7,2.6,2.6,2.9,2.7,2.8,3.0,3.1,3.4,3.2,3.0,3.0,2.9,2.9,3.1,3.2,3.1,3.5,3.5,3.3,3.1,3.1,3.2,3.0,3.1,3.4,3.4,3.7,4.3,4.2,4.2,4.4,4.5,5.0,5.4,5.5,5.8,6.3,6.4,6.5,6.6,6.4,7.9,6.6,6.8,6.7,6.2,6.1,5.3,5.0,4.7,4.3,4.0,3.8,3.7,3.8,3.9,3.6,3.6,3.5,3.9,4.0,3.8,3.4],\"yaxis\":\"y\",\"type\":\"scatter\"}],                        {\"template\":{\"data\":{\"bar\":[{\"error_x\":{\"color\":\"#2a3f5f\"},\"error_y\":{\"color\":\"#2a3f5f\"},\"marker\":{\"line\":{\"color\":\"#E5ECF6\",\"width\":0.5},\"pattern\":{\"fillmode\":\"overlay\",\"size\":10,\"solidity\":0.2}},\"type\":\"bar\"}],\"barpolar\":[{\"marker\":{\"line\":{\"color\":\"#E5ECF6\",\"width\":0.5},\"pattern\":{\"fillmode\":\"overlay\",\"size\":10,\"solidity\":0.2}},\"type\":\"barpolar\"}],\"carpet\":[{\"aaxis\":{\"endlinecolor\":\"#2a3f5f\",\"gridcolor\":\"white\",\"linecolor\":\"white\",\"minorgridcolor\":\"white\",\"startlinecolor\":\"#2a3f5f\"},\"baxis\":{\"endlinecolor\":\"#2a3f5f\",\"gridcolor\":\"white\",\"linecolor\":\"white\",\"minorgridcolor\":\"white\",\"startlinecolor\":\"#2a3f5f\"},\"type\":\"carpet\"}],\"choropleth\":[{\"colorbar\":{\"outlinewidth\":0,\"ticks\":\"\"},\"type\":\"choropleth\"}],\"contour\":[{\"colorbar\":{\"outlinewidth\":0,\"ticks\":\"\"},\"colorscale\":[[0.0,\"#0d0887\"],[0.1111111111111111,\"#46039f\"],[0.2222222222222222,\"#7201a8\"],[0.3333333333333333,\"#9c179e\"],[0.4444444444444444,\"#bd3786\"],[0.5555555555555556,\"#d8576b\"],[0.6666666666666666,\"#ed7953\"],[0.7777777777777778,\"#fb9f3a\"],[0.8888888888888888,\"#fdca26\"],[1.0,\"#f0f921\"]],\"type\":\"contour\"}],\"contourcarpet\":[{\"colorbar\":{\"outlinewidth\":0,\"ticks\":\"\"},\"type\":\"contourcarpet\"}],\"heatmap\":[{\"colorbar\":{\"outlinewidth\":0,\"ticks\":\"\"},\"colorscale\":[[0.0,\"#0d0887\"],[0.1111111111111111,\"#46039f\"],[0.2222222222222222,\"#7201a8\"],[0.3333333333333333,\"#9c179e\"],[0.4444444444444444,\"#bd3786\"],[0.5555555555555556,\"#d8576b\"],[0.6666666666666666,\"#ed7953\"],[0.7777777777777778,\"#fb9f3a\"],[0.8888888888888888,\"#fdca26\"],[1.0,\"#f0f921\"]],\"type\":\"heatmap\"}],\"heatmapgl\":[{\"colorbar\":{\"outlinewidth\":0,\"ticks\":\"\"},\"colorscale\":[[0.0,\"#0d0887\"],[0.1111111111111111,\"#46039f\"],[0.2222222222222222,\"#7201a8\"],[0.3333333333333333,\"#9c179e\"],[0.4444444444444444,\"#bd3786\"],[0.5555555555555556,\"#d8576b\"],[0.6666666666666666,\"#ed7953\"],[0.7777777777777778,\"#fb9f3a\"],[0.8888888888888888,\"#fdca26\"],[1.0,\"#f0f921\"]],\"type\":\"heatmapgl\"}],\"histogram\":[{\"marker\":{\"pattern\":{\"fillmode\":\"overlay\",\"size\":10,\"solidity\":0.2}},\"type\":\"histogram\"}],\"histogram2d\":[{\"colorbar\":{\"outlinewidth\":0,\"ticks\":\"\"},\"colorscale\":[[0.0,\"#0d0887\"],[0.1111111111111111,\"#46039f\"],[0.2222222222222222,\"#7201a8\"],[0.3333333333333333,\"#9c179e\"],[0.4444444444444444,\"#bd3786\"],[0.5555555555555556,\"#d8576b\"],[0.6666666666666666,\"#ed7953\"],[0.7777777777777778,\"#fb9f3a\"],[0.8888888888888888,\"#fdca26\"],[1.0,\"#f0f921\"]],\"type\":\"histogram2d\"}],\"histogram2dcontour\":[{\"colorbar\":{\"outlinewidth\":0,\"ticks\":\"\"},\"colorscale\":[[0.0,\"#0d0887\"],[0.1111111111111111,\"#46039f\"],[0.2222222222222222,\"#7201a8\"],[0.3333333333333333,\"#9c179e\"],[0.4444444444444444,\"#bd3786\"],[0.5555555555555556,\"#d8576b\"],[0.6666666666666666,\"#ed7953\"],[0.7777777777777778,\"#fb9f3a\"],[0.8888888888888888,\"#fdca26\"],[1.0,\"#f0f921\"]],\"type\":\"histogram2dcontour\"}],\"mesh3d\":[{\"colorbar\":{\"outlinewidth\":0,\"ticks\":\"\"},\"type\":\"mesh3d\"}],\"parcoords\":[{\"line\":{\"colorbar\":{\"outlinewidth\":0,\"ticks\":\"\"}},\"type\":\"parcoords\"}],\"pie\":[{\"automargin\":true,\"type\":\"pie\"}],\"scatter\":[{\"marker\":{\"colorbar\":{\"outlinewidth\":0,\"ticks\":\"\"}},\"type\":\"scatter\"}],\"scatter3d\":[{\"line\":{\"colorbar\":{\"outlinewidth\":0,\"ticks\":\"\"}},\"marker\":{\"colorbar\":{\"outlinewidth\":0,\"ticks\":\"\"}},\"type\":\"scatter3d\"}],\"scattercarpet\":[{\"marker\":{\"colorbar\":{\"outlinewidth\":0,\"ticks\":\"\"}},\"type\":\"scattercarpet\"}],\"scattergeo\":[{\"marker\":{\"colorbar\":{\"outlinewidth\":0,\"ticks\":\"\"}},\"type\":\"scattergeo\"}],\"scattergl\":[{\"marker\":{\"colorbar\":{\"outlinewidth\":0,\"ticks\":\"\"}},\"type\":\"scattergl\"}],\"scattermapbox\":[{\"marker\":{\"colorbar\":{\"outlinewidth\":0,\"ticks\":\"\"}},\"type\":\"scattermapbox\"}],\"scatterpolar\":[{\"marker\":{\"colorbar\":{\"outlinewidth\":0,\"ticks\":\"\"}},\"type\":\"scatterpolar\"}],\"scatterpolargl\":[{\"marker\":{\"colorbar\":{\"outlinewidth\":0,\"ticks\":\"\"}},\"type\":\"scatterpolargl\"}],\"scatterternary\":[{\"marker\":{\"colorbar\":{\"outlinewidth\":0,\"ticks\":\"\"}},\"type\":\"scatterternary\"}],\"surface\":[{\"colorbar\":{\"outlinewidth\":0,\"ticks\":\"\"},\"colorscale\":[[0.0,\"#0d0887\"],[0.1111111111111111,\"#46039f\"],[0.2222222222222222,\"#7201a8\"],[0.3333333333333333,\"#9c179e\"],[0.4444444444444444,\"#bd3786\"],[0.5555555555555556,\"#d8576b\"],[0.6666666666666666,\"#ed7953\"],[0.7777777777777778,\"#fb9f3a\"],[0.8888888888888888,\"#fdca26\"],[1.0,\"#f0f921\"]],\"type\":\"surface\"}],\"table\":[{\"cells\":{\"fill\":{\"color\":\"#EBF0F8\"},\"line\":{\"color\":\"white\"}},\"header\":{\"fill\":{\"color\":\"#C8D4E3\"},\"line\":{\"color\":\"white\"}},\"type\":\"table\"}]},\"layout\":{\"annotationdefaults\":{\"arrowcolor\":\"#2a3f5f\",\"arrowhead\":0,\"arrowwidth\":1},\"autotypenumbers\":\"strict\",\"coloraxis\":{\"colorbar\":{\"outlinewidth\":0,\"ticks\":\"\"}},\"colorscale\":{\"diverging\":[[0,\"#8e0152\"],[0.1,\"#c51b7d\"],[0.2,\"#de77ae\"],[0.3,\"#f1b6da\"],[0.4,\"#fde0ef\"],[0.5,\"#f7f7f7\"],[0.6,\"#e6f5d0\"],[0.7,\"#b8e186\"],[0.8,\"#7fbc41\"],[0.9,\"#4d9221\"],[1,\"#276419\"]],\"sequential\":[[0.0,\"#0d0887\"],[0.1111111111111111,\"#46039f\"],[0.2222222222222222,\"#7201a8\"],[0.3333333333333333,\"#9c179e\"],[0.4444444444444444,\"#bd3786\"],[0.5555555555555556,\"#d8576b\"],[0.6666666666666666,\"#ed7953\"],[0.7777777777777778,\"#fb9f3a\"],[0.8888888888888888,\"#fdca26\"],[1.0,\"#f0f921\"]],\"sequentialminus\":[[0.0,\"#0d0887\"],[0.1111111111111111,\"#46039f\"],[0.2222222222222222,\"#7201a8\"],[0.3333333333333333,\"#9c179e\"],[0.4444444444444444,\"#bd3786\"],[0.5555555555555556,\"#d8576b\"],[0.6666666666666666,\"#ed7953\"],[0.7777777777777778,\"#fb9f3a\"],[0.8888888888888888,\"#fdca26\"],[1.0,\"#f0f921\"]]},\"colorway\":[\"#636efa\",\"#EF553B\",\"#00cc96\",\"#ab63fa\",\"#FFA15A\",\"#19d3f3\",\"#FF6692\",\"#B6E880\",\"#FF97FF\",\"#FECB52\"],\"font\":{\"color\":\"#2a3f5f\"},\"geo\":{\"bgcolor\":\"white\",\"lakecolor\":\"white\",\"landcolor\":\"#E5ECF6\",\"showlakes\":true,\"showland\":true,\"subunitcolor\":\"white\"},\"hoverlabel\":{\"align\":\"left\"},\"hovermode\":\"closest\",\"mapbox\":{\"style\":\"light\"},\"paper_bgcolor\":\"white\",\"plot_bgcolor\":\"#E5ECF6\",\"polar\":{\"angularaxis\":{\"gridcolor\":\"white\",\"linecolor\":\"white\",\"ticks\":\"\"},\"bgcolor\":\"#E5ECF6\",\"radialaxis\":{\"gridcolor\":\"white\",\"linecolor\":\"white\",\"ticks\":\"\"}},\"scene\":{\"xaxis\":{\"backgroundcolor\":\"#E5ECF6\",\"gridcolor\":\"white\",\"gridwidth\":2,\"linecolor\":\"white\",\"showbackground\":true,\"ticks\":\"\",\"zerolinecolor\":\"white\"},\"yaxis\":{\"backgroundcolor\":\"#E5ECF6\",\"gridcolor\":\"white\",\"gridwidth\":2,\"linecolor\":\"white\",\"showbackground\":true,\"ticks\":\"\",\"zerolinecolor\":\"white\"},\"zaxis\":{\"backgroundcolor\":\"#E5ECF6\",\"gridcolor\":\"white\",\"gridwidth\":2,\"linecolor\":\"white\",\"showbackground\":true,\"ticks\":\"\",\"zerolinecolor\":\"white\"}},\"shapedefaults\":{\"line\":{\"color\":\"#2a3f5f\"}},\"ternary\":{\"aaxis\":{\"gridcolor\":\"white\",\"linecolor\":\"white\",\"ticks\":\"\"},\"baxis\":{\"gridcolor\":\"white\",\"linecolor\":\"white\",\"ticks\":\"\"},\"bgcolor\":\"#E5ECF6\",\"caxis\":{\"gridcolor\":\"white\",\"linecolor\":\"white\",\"ticks\":\"\"}},\"title\":{\"x\":0.05},\"xaxis\":{\"automargin\":true,\"gridcolor\":\"white\",\"linecolor\":\"white\",\"ticks\":\"\",\"title\":{\"standoff\":15},\"zerolinecolor\":\"white\",\"zerolinewidth\":2},\"yaxis\":{\"automargin\":true,\"gridcolor\":\"white\",\"linecolor\":\"white\",\"ticks\":\"\",\"title\":{\"standoff\":15},\"zerolinecolor\":\"white\",\"zerolinewidth\":2}}},\"xaxis\":{\"anchor\":\"y\",\"domain\":[0.0,1.0],\"title\":{\"text\":\"Month\"}},\"yaxis\":{\"anchor\":\"x\",\"domain\":[0.0,1.0],\"title\":{\"text\":\"Unemployment Rate\"}},\"legend\":{\"tracegroupgap\":0},\"title\":{\"text\":\"United States Unemployment Rate over time\"}},                        {\"responsive\": true}                    ).then(function(){\n",
              "                            \n",
              "var gd = document.getElementById('52b4b453-8f72-4cfd-86a5-3da0f755af80');\n",
              "var x = new MutationObserver(function (mutations, observer) {{\n",
              "        var display = window.getComputedStyle(gd).display;\n",
              "        if (!display || display === 'none') {{\n",
              "            console.log([gd, 'removed!']);\n",
              "            Plotly.purge(gd);\n",
              "            observer.disconnect();\n",
              "        }}\n",
              "}});\n",
              "\n",
              "// Listen for the removal of the full notebook cells\n",
              "var notebookContainer = gd.closest('#notebook-container');\n",
              "if (notebookContainer) {{\n",
              "    x.observe(notebookContainer, {childList: true});\n",
              "}}\n",
              "\n",
              "// Listen for the clearing of the current output cell\n",
              "var outputEl = gd.closest('.output');\n",
              "if (outputEl) {{\n",
              "    x.observe(outputEl, {childList: true});\n",
              "}}\n",
              "\n",
              "                        })                };                            </script>        </div>\n",
              "</body>\n",
              "</html>"
            ]
          },
          "metadata": {}
        }
      ]
    },
    {
      "cell_type": "markdown",
      "source": [
        "### Challenge 7 (Unemployment CSV)"
      ],
      "metadata": {
        "id": "WxmDs-5cfF-t"
      }
    },
    {
      "cell_type": "markdown",
      "source": [
        "\n",
        "A)  What is the most recent unemployment rate? And the corresponding date? Display the unemployment rate using a percent sign.\n",
        "\n",
        "> NOTE: assume the most recent data is first (i.e. no need to sort, although it may be helpful / safe to do so)\n",
        "\n",
        "> HINT: use a format string or string concat to help with the percent sign display \n",
        "\n",
        "\n",
        "B) What is the average unemployment rate for all months during this calendar year? How many months are included?\n",
        "\n",
        "> HINT: use a filtering operation to get only the datapoints we care about. You could maybe use substring inclusion in your filter condition.\n",
        "\n",
        "\n",
        "> HINT: try a [pandas substring operation](https://stackoverflow.com/questions/11350770/filter-pandas-dataframe-by-substring-criteria\n",
        ")\n",
        "\n",
        "C) Plot a line chart of unemployment rates over time.\n",
        "\n",
        "> HINT: use the `matplotlib` or `plotly` package\n"
      ],
      "metadata": {
        "id": "Q5zVN77ffei9"
      }
    },
    {
      "cell_type": "code",
      "source": [
        "from pandas import read_csv\n",
        "\n",
        "request_url = f\"https://www.alphavantage.co/query?function=UNEMPLOYMENT&apikey={API_KEY}&datatype=csv\"\n",
        "\n",
        "df = read_csv(request_url)\n",
        "\n",
        "df.head()"
      ],
      "metadata": {
        "colab": {
          "base_uri": "https://localhost:8080/",
          "height": 206
        },
        "id": "RdGytnkleyPv",
        "outputId": "5be27263-7f0e-4552-e86a-cdb0a26c20b9"
      },
      "execution_count": null,
      "outputs": [
        {
          "output_type": "execute_result",
          "data": {
            "text/plain": [
              "    timestamp  value\n",
              "0  2022-11-01    3.7\n",
              "1  2022-10-01    3.7\n",
              "2  2022-09-01    3.5\n",
              "3  2022-08-01    3.7\n",
              "4  2022-07-01    3.5"
            ],
            "text/html": [
              "\n",
              "  <div id=\"df-01dd6df1-1661-4df8-ac31-9e923ad47f80\">\n",
              "    <div class=\"colab-df-container\">\n",
              "      <div>\n",
              "<style scoped>\n",
              "    .dataframe tbody tr th:only-of-type {\n",
              "        vertical-align: middle;\n",
              "    }\n",
              "\n",
              "    .dataframe tbody tr th {\n",
              "        vertical-align: top;\n",
              "    }\n",
              "\n",
              "    .dataframe thead th {\n",
              "        text-align: right;\n",
              "    }\n",
              "</style>\n",
              "<table border=\"1\" class=\"dataframe\">\n",
              "  <thead>\n",
              "    <tr style=\"text-align: right;\">\n",
              "      <th></th>\n",
              "      <th>timestamp</th>\n",
              "      <th>value</th>\n",
              "    </tr>\n",
              "  </thead>\n",
              "  <tbody>\n",
              "    <tr>\n",
              "      <th>0</th>\n",
              "      <td>2022-11-01</td>\n",
              "      <td>3.7</td>\n",
              "    </tr>\n",
              "    <tr>\n",
              "      <th>1</th>\n",
              "      <td>2022-10-01</td>\n",
              "      <td>3.7</td>\n",
              "    </tr>\n",
              "    <tr>\n",
              "      <th>2</th>\n",
              "      <td>2022-09-01</td>\n",
              "      <td>3.5</td>\n",
              "    </tr>\n",
              "    <tr>\n",
              "      <th>3</th>\n",
              "      <td>2022-08-01</td>\n",
              "      <td>3.7</td>\n",
              "    </tr>\n",
              "    <tr>\n",
              "      <th>4</th>\n",
              "      <td>2022-07-01</td>\n",
              "      <td>3.5</td>\n",
              "    </tr>\n",
              "  </tbody>\n",
              "</table>\n",
              "</div>\n",
              "      <button class=\"colab-df-convert\" onclick=\"convertToInteractive('df-01dd6df1-1661-4df8-ac31-9e923ad47f80')\"\n",
              "              title=\"Convert this dataframe to an interactive table.\"\n",
              "              style=\"display:none;\">\n",
              "        \n",
              "  <svg xmlns=\"http://www.w3.org/2000/svg\" height=\"24px\"viewBox=\"0 0 24 24\"\n",
              "       width=\"24px\">\n",
              "    <path d=\"M0 0h24v24H0V0z\" fill=\"none\"/>\n",
              "    <path d=\"M18.56 5.44l.94 2.06.94-2.06 2.06-.94-2.06-.94-.94-2.06-.94 2.06-2.06.94zm-11 1L8.5 8.5l.94-2.06 2.06-.94-2.06-.94L8.5 2.5l-.94 2.06-2.06.94zm10 10l.94 2.06.94-2.06 2.06-.94-2.06-.94-.94-2.06-.94 2.06-2.06.94z\"/><path d=\"M17.41 7.96l-1.37-1.37c-.4-.4-.92-.59-1.43-.59-.52 0-1.04.2-1.43.59L10.3 9.45l-7.72 7.72c-.78.78-.78 2.05 0 2.83L4 21.41c.39.39.9.59 1.41.59.51 0 1.02-.2 1.41-.59l7.78-7.78 2.81-2.81c.8-.78.8-2.07 0-2.86zM5.41 20L4 18.59l7.72-7.72 1.47 1.35L5.41 20z\"/>\n",
              "  </svg>\n",
              "      </button>\n",
              "      \n",
              "  <style>\n",
              "    .colab-df-container {\n",
              "      display:flex;\n",
              "      flex-wrap:wrap;\n",
              "      gap: 12px;\n",
              "    }\n",
              "\n",
              "    .colab-df-convert {\n",
              "      background-color: #E8F0FE;\n",
              "      border: none;\n",
              "      border-radius: 50%;\n",
              "      cursor: pointer;\n",
              "      display: none;\n",
              "      fill: #1967D2;\n",
              "      height: 32px;\n",
              "      padding: 0 0 0 0;\n",
              "      width: 32px;\n",
              "    }\n",
              "\n",
              "    .colab-df-convert:hover {\n",
              "      background-color: #E2EBFA;\n",
              "      box-shadow: 0px 1px 2px rgba(60, 64, 67, 0.3), 0px 1px 3px 1px rgba(60, 64, 67, 0.15);\n",
              "      fill: #174EA6;\n",
              "    }\n",
              "\n",
              "    [theme=dark] .colab-df-convert {\n",
              "      background-color: #3B4455;\n",
              "      fill: #D2E3FC;\n",
              "    }\n",
              "\n",
              "    [theme=dark] .colab-df-convert:hover {\n",
              "      background-color: #434B5C;\n",
              "      box-shadow: 0px 1px 3px 1px rgba(0, 0, 0, 0.15);\n",
              "      filter: drop-shadow(0px 1px 2px rgba(0, 0, 0, 0.3));\n",
              "      fill: #FFFFFF;\n",
              "    }\n",
              "  </style>\n",
              "\n",
              "      <script>\n",
              "        const buttonEl =\n",
              "          document.querySelector('#df-01dd6df1-1661-4df8-ac31-9e923ad47f80 button.colab-df-convert');\n",
              "        buttonEl.style.display =\n",
              "          google.colab.kernel.accessAllowed ? 'block' : 'none';\n",
              "\n",
              "        async function convertToInteractive(key) {\n",
              "          const element = document.querySelector('#df-01dd6df1-1661-4df8-ac31-9e923ad47f80');\n",
              "          const dataTable =\n",
              "            await google.colab.kernel.invokeFunction('convertToInteractive',\n",
              "                                                     [key], {});\n",
              "          if (!dataTable) return;\n",
              "\n",
              "          const docLinkHtml = 'Like what you see? Visit the ' +\n",
              "            '<a target=\"_blank\" href=https://colab.research.google.com/notebooks/data_table.ipynb>data table notebook</a>'\n",
              "            + ' to learn more about interactive tables.';\n",
              "          element.innerHTML = '';\n",
              "          dataTable['output_type'] = 'display_data';\n",
              "          await google.colab.output.renderOutput(dataTable, element);\n",
              "          const docLink = document.createElement('div');\n",
              "          docLink.innerHTML = docLinkHtml;\n",
              "          element.appendChild(docLink);\n",
              "        }\n",
              "      </script>\n",
              "    </div>\n",
              "  </div>\n",
              "  "
            ]
          },
          "metadata": {},
          "execution_count": 68
        }
      ]
    },
    {
      "cell_type": "code",
      "source": [
        "print(df.columns)\n",
        "print(len(df))"
      ],
      "metadata": {
        "colab": {
          "base_uri": "https://localhost:8080/"
        },
        "id": "QWrm3w8zfONt",
        "outputId": "0185f71e-3135-4992-f54c-ab8bf7b29673"
      },
      "execution_count": null,
      "outputs": [
        {
          "output_type": "stream",
          "name": "stdout",
          "text": [
            "Index(['timestamp', 'value'], dtype='object')\n",
            "899\n"
          ]
        }
      ]
    },
    {
      "cell_type": "code",
      "source": [
        "# Challenge A\n",
        "#\n",
        "# What is the most recent unemployment rate? And the corresponding date? \n",
        "# Display the unemployment rate using a percent sign.\n",
        "\n",
        "print(\"-------------------------\")\n",
        "print(\"LATEST UNEMPLOYMENT RATE:\")\n",
        "first_row = df.iloc[0]\n",
        "#print(first_row)\n",
        "print(f\"{first_row['value']}%\", \"as of\", first_row[\"timestamp\"])"
      ],
      "metadata": {
        "colab": {
          "base_uri": "https://localhost:8080/"
        },
        "id": "252lFJlGfRKm",
        "outputId": "ed7fdf96-de8f-4a05-b590-56e83e2f7fb5"
      },
      "execution_count": null,
      "outputs": [
        {
          "output_type": "stream",
          "name": "stdout",
          "text": [
            "-------------------------\n",
            "LATEST UNEMPLOYMENT RATE:\n",
            "3.7% as of 2022-11-01\n"
          ]
        }
      ]
    },
    {
      "cell_type": "code",
      "source": [
        "\n",
        "# Challenge B\n",
        "# \n",
        "# What is the average unemployment rate for all months during this calendar year?\n",
        "# ... How many months does this cover?\n",
        "\n",
        "# https://stackoverflow.com/questions/11350770/filter-pandas-dataframe-by-substring-criteria\n",
        "this_year_df = df[df[\"timestamp\"].str.contains(\"2022-\")]\n",
        "print(this_year_df)\n",
        "\n",
        "print(\"-------------------------\")\n",
        "print(\"AVG UNEMPLOYMENT THIS YEAR:\", f\"{this_year_df['value'].mean()}%\")\n",
        "print(\"NO MONTHS:\", len(this_year_df))"
      ],
      "metadata": {
        "colab": {
          "base_uri": "https://localhost:8080/"
        },
        "id": "nGc5ZnXafTLt",
        "outputId": "8889c7fb-e1cf-49d5-a409-f8c3e48b66ce"
      },
      "execution_count": null,
      "outputs": [
        {
          "output_type": "stream",
          "name": "stdout",
          "text": [
            "     timestamp  value\n",
            "0   2022-11-01    3.7\n",
            "1   2022-10-01    3.7\n",
            "2   2022-09-01    3.5\n",
            "3   2022-08-01    3.7\n",
            "4   2022-07-01    3.5\n",
            "5   2022-06-01    3.6\n",
            "6   2022-05-01    3.6\n",
            "7   2022-04-01    3.6\n",
            "8   2022-03-01    3.6\n",
            "9   2022-02-01    3.8\n",
            "10  2022-01-01    4.0\n",
            "-------------------------\n",
            "AVG UNEMPLOYMENT THIS YEAR: 3.6636363636363636%\n",
            "NO MONTHS: 11\n"
          ]
        }
      ]
    },
    {
      "cell_type": "code",
      "source": [
        "# Challenge C\n",
        "# \n",
        "# Plot a line chart of unemployment rates over time.\n",
        "\n",
        "from plotly.express import line\n",
        "\n",
        "# passing lists / series:\n",
        "fig = line(x=df[\"timestamp\"], y=df[\"value\"], \n",
        "           title=\"United States Unemployment Rate over time\", \n",
        "           labels= {\"x\": \"Month\", \"y\": \"Unemployment Rate\"})\n",
        "fig.show()"
      ],
      "metadata": {
        "colab": {
          "base_uri": "https://localhost:8080/",
          "height": 542
        },
        "id": "kxjMYntGfV-0",
        "outputId": "b5f5a7f3-da79-4ea9-d97e-31991248e77c"
      },
      "execution_count": null,
      "outputs": [
        {
          "output_type": "display_data",
          "data": {
            "text/html": [
              "<html>\n",
              "<head><meta charset=\"utf-8\" /></head>\n",
              "<body>\n",
              "    <div>            <script src=\"https://cdnjs.cloudflare.com/ajax/libs/mathjax/2.7.5/MathJax.js?config=TeX-AMS-MML_SVG\"></script><script type=\"text/javascript\">if (window.MathJax) {MathJax.Hub.Config({SVG: {font: \"STIX-Web\"}});}</script>                <script type=\"text/javascript\">window.PlotlyConfig = {MathJaxConfig: 'local'};</script>\n",
              "        <script src=\"https://cdn.plot.ly/plotly-2.8.3.min.js\"></script>                <div id=\"0afa7d18-c329-470f-9553-6ba35a27c381\" class=\"plotly-graph-div\" style=\"height:525px; width:100%;\"></div>            <script type=\"text/javascript\">                                    window.PLOTLYENV=window.PLOTLYENV || {};                                    if (document.getElementById(\"0afa7d18-c329-470f-9553-6ba35a27c381\")) {                    Plotly.newPlot(                        \"0afa7d18-c329-470f-9553-6ba35a27c381\",                        [{\"hovertemplate\":\"Month=%{x}<br>Unemployment Rate=%{y}<extra></extra>\",\"legendgroup\":\"\",\"line\":{\"color\":\"#636efa\",\"dash\":\"solid\"},\"marker\":{\"symbol\":\"circle\"},\"mode\":\"lines\",\"name\":\"\",\"orientation\":\"v\",\"showlegend\":false,\"x\":[\"2022-11-01\",\"2022-10-01\",\"2022-09-01\",\"2022-08-01\",\"2022-07-01\",\"2022-06-01\",\"2022-05-01\",\"2022-04-01\",\"2022-03-01\",\"2022-02-01\",\"2022-01-01\",\"2021-12-01\",\"2021-11-01\",\"2021-10-01\",\"2021-09-01\",\"2021-08-01\",\"2021-07-01\",\"2021-06-01\",\"2021-05-01\",\"2021-04-01\",\"2021-03-01\",\"2021-02-01\",\"2021-01-01\",\"2020-12-01\",\"2020-11-01\",\"2020-10-01\",\"2020-09-01\",\"2020-08-01\",\"2020-07-01\",\"2020-06-01\",\"2020-05-01\",\"2020-04-01\",\"2020-03-01\",\"2020-02-01\",\"2020-01-01\",\"2019-12-01\",\"2019-11-01\",\"2019-10-01\",\"2019-09-01\",\"2019-08-01\",\"2019-07-01\",\"2019-06-01\",\"2019-05-01\",\"2019-04-01\",\"2019-03-01\",\"2019-02-01\",\"2019-01-01\",\"2018-12-01\",\"2018-11-01\",\"2018-10-01\",\"2018-09-01\",\"2018-08-01\",\"2018-07-01\",\"2018-06-01\",\"2018-05-01\",\"2018-04-01\",\"2018-03-01\",\"2018-02-01\",\"2018-01-01\",\"2017-12-01\",\"2017-11-01\",\"2017-10-01\",\"2017-09-01\",\"2017-08-01\",\"2017-07-01\",\"2017-06-01\",\"2017-05-01\",\"2017-04-01\",\"2017-03-01\",\"2017-02-01\",\"2017-01-01\",\"2016-12-01\",\"2016-11-01\",\"2016-10-01\",\"2016-09-01\",\"2016-08-01\",\"2016-07-01\",\"2016-06-01\",\"2016-05-01\",\"2016-04-01\",\"2016-03-01\",\"2016-02-01\",\"2016-01-01\",\"2015-12-01\",\"2015-11-01\",\"2015-10-01\",\"2015-09-01\",\"2015-08-01\",\"2015-07-01\",\"2015-06-01\",\"2015-05-01\",\"2015-04-01\",\"2015-03-01\",\"2015-02-01\",\"2015-01-01\",\"2014-12-01\",\"2014-11-01\",\"2014-10-01\",\"2014-09-01\",\"2014-08-01\",\"2014-07-01\",\"2014-06-01\",\"2014-05-01\",\"2014-04-01\",\"2014-03-01\",\"2014-02-01\",\"2014-01-01\",\"2013-12-01\",\"2013-11-01\",\"2013-10-01\",\"2013-09-01\",\"2013-08-01\",\"2013-07-01\",\"2013-06-01\",\"2013-05-01\",\"2013-04-01\",\"2013-03-01\",\"2013-02-01\",\"2013-01-01\",\"2012-12-01\",\"2012-11-01\",\"2012-10-01\",\"2012-09-01\",\"2012-08-01\",\"2012-07-01\",\"2012-06-01\",\"2012-05-01\",\"2012-04-01\",\"2012-03-01\",\"2012-02-01\",\"2012-01-01\",\"2011-12-01\",\"2011-11-01\",\"2011-10-01\",\"2011-09-01\",\"2011-08-01\",\"2011-07-01\",\"2011-06-01\",\"2011-05-01\",\"2011-04-01\",\"2011-03-01\",\"2011-02-01\",\"2011-01-01\",\"2010-12-01\",\"2010-11-01\",\"2010-10-01\",\"2010-09-01\",\"2010-08-01\",\"2010-07-01\",\"2010-06-01\",\"2010-05-01\",\"2010-04-01\",\"2010-03-01\",\"2010-02-01\",\"2010-01-01\",\"2009-12-01\",\"2009-11-01\",\"2009-10-01\",\"2009-09-01\",\"2009-08-01\",\"2009-07-01\",\"2009-06-01\",\"2009-05-01\",\"2009-04-01\",\"2009-03-01\",\"2009-02-01\",\"2009-01-01\",\"2008-12-01\",\"2008-11-01\",\"2008-10-01\",\"2008-09-01\",\"2008-08-01\",\"2008-07-01\",\"2008-06-01\",\"2008-05-01\",\"2008-04-01\",\"2008-03-01\",\"2008-02-01\",\"2008-01-01\",\"2007-12-01\",\"2007-11-01\",\"2007-10-01\",\"2007-09-01\",\"2007-08-01\",\"2007-07-01\",\"2007-06-01\",\"2007-05-01\",\"2007-04-01\",\"2007-03-01\",\"2007-02-01\",\"2007-01-01\",\"2006-12-01\",\"2006-11-01\",\"2006-10-01\",\"2006-09-01\",\"2006-08-01\",\"2006-07-01\",\"2006-06-01\",\"2006-05-01\",\"2006-04-01\",\"2006-03-01\",\"2006-02-01\",\"2006-01-01\",\"2005-12-01\",\"2005-11-01\",\"2005-10-01\",\"2005-09-01\",\"2005-08-01\",\"2005-07-01\",\"2005-06-01\",\"2005-05-01\",\"2005-04-01\",\"2005-03-01\",\"2005-02-01\",\"2005-01-01\",\"2004-12-01\",\"2004-11-01\",\"2004-10-01\",\"2004-09-01\",\"2004-08-01\",\"2004-07-01\",\"2004-06-01\",\"2004-05-01\",\"2004-04-01\",\"2004-03-01\",\"2004-02-01\",\"2004-01-01\",\"2003-12-01\",\"2003-11-01\",\"2003-10-01\",\"2003-09-01\",\"2003-08-01\",\"2003-07-01\",\"2003-06-01\",\"2003-05-01\",\"2003-04-01\",\"2003-03-01\",\"2003-02-01\",\"2003-01-01\",\"2002-12-01\",\"2002-11-01\",\"2002-10-01\",\"2002-09-01\",\"2002-08-01\",\"2002-07-01\",\"2002-06-01\",\"2002-05-01\",\"2002-04-01\",\"2002-03-01\",\"2002-02-01\",\"2002-01-01\",\"2001-12-01\",\"2001-11-01\",\"2001-10-01\",\"2001-09-01\",\"2001-08-01\",\"2001-07-01\",\"2001-06-01\",\"2001-05-01\",\"2001-04-01\",\"2001-03-01\",\"2001-02-01\",\"2001-01-01\",\"2000-12-01\",\"2000-11-01\",\"2000-10-01\",\"2000-09-01\",\"2000-08-01\",\"2000-07-01\",\"2000-06-01\",\"2000-05-01\",\"2000-04-01\",\"2000-03-01\",\"2000-02-01\",\"2000-01-01\",\"1999-12-01\",\"1999-11-01\",\"1999-10-01\",\"1999-09-01\",\"1999-08-01\",\"1999-07-01\",\"1999-06-01\",\"1999-05-01\",\"1999-04-01\",\"1999-03-01\",\"1999-02-01\",\"1999-01-01\",\"1998-12-01\",\"1998-11-01\",\"1998-10-01\",\"1998-09-01\",\"1998-08-01\",\"1998-07-01\",\"1998-06-01\",\"1998-05-01\",\"1998-04-01\",\"1998-03-01\",\"1998-02-01\",\"1998-01-01\",\"1997-12-01\",\"1997-11-01\",\"1997-10-01\",\"1997-09-01\",\"1997-08-01\",\"1997-07-01\",\"1997-06-01\",\"1997-05-01\",\"1997-04-01\",\"1997-03-01\",\"1997-02-01\",\"1997-01-01\",\"1996-12-01\",\"1996-11-01\",\"1996-10-01\",\"1996-09-01\",\"1996-08-01\",\"1996-07-01\",\"1996-06-01\",\"1996-05-01\",\"1996-04-01\",\"1996-03-01\",\"1996-02-01\",\"1996-01-01\",\"1995-12-01\",\"1995-11-01\",\"1995-10-01\",\"1995-09-01\",\"1995-08-01\",\"1995-07-01\",\"1995-06-01\",\"1995-05-01\",\"1995-04-01\",\"1995-03-01\",\"1995-02-01\",\"1995-01-01\",\"1994-12-01\",\"1994-11-01\",\"1994-10-01\",\"1994-09-01\",\"1994-08-01\",\"1994-07-01\",\"1994-06-01\",\"1994-05-01\",\"1994-04-01\",\"1994-03-01\",\"1994-02-01\",\"1994-01-01\",\"1993-12-01\",\"1993-11-01\",\"1993-10-01\",\"1993-09-01\",\"1993-08-01\",\"1993-07-01\",\"1993-06-01\",\"1993-05-01\",\"1993-04-01\",\"1993-03-01\",\"1993-02-01\",\"1993-01-01\",\"1992-12-01\",\"1992-11-01\",\"1992-10-01\",\"1992-09-01\",\"1992-08-01\",\"1992-07-01\",\"1992-06-01\",\"1992-05-01\",\"1992-04-01\",\"1992-03-01\",\"1992-02-01\",\"1992-01-01\",\"1991-12-01\",\"1991-11-01\",\"1991-10-01\",\"1991-09-01\",\"1991-08-01\",\"1991-07-01\",\"1991-06-01\",\"1991-05-01\",\"1991-04-01\",\"1991-03-01\",\"1991-02-01\",\"1991-01-01\",\"1990-12-01\",\"1990-11-01\",\"1990-10-01\",\"1990-09-01\",\"1990-08-01\",\"1990-07-01\",\"1990-06-01\",\"1990-05-01\",\"1990-04-01\",\"1990-03-01\",\"1990-02-01\",\"1990-01-01\",\"1989-12-01\",\"1989-11-01\",\"1989-10-01\",\"1989-09-01\",\"1989-08-01\",\"1989-07-01\",\"1989-06-01\",\"1989-05-01\",\"1989-04-01\",\"1989-03-01\",\"1989-02-01\",\"1989-01-01\",\"1988-12-01\",\"1988-11-01\",\"1988-10-01\",\"1988-09-01\",\"1988-08-01\",\"1988-07-01\",\"1988-06-01\",\"1988-05-01\",\"1988-04-01\",\"1988-03-01\",\"1988-02-01\",\"1988-01-01\",\"1987-12-01\",\"1987-11-01\",\"1987-10-01\",\"1987-09-01\",\"1987-08-01\",\"1987-07-01\",\"1987-06-01\",\"1987-05-01\",\"1987-04-01\",\"1987-03-01\",\"1987-02-01\",\"1987-01-01\",\"1986-12-01\",\"1986-11-01\",\"1986-10-01\",\"1986-09-01\",\"1986-08-01\",\"1986-07-01\",\"1986-06-01\",\"1986-05-01\",\"1986-04-01\",\"1986-03-01\",\"1986-02-01\",\"1986-01-01\",\"1985-12-01\",\"1985-11-01\",\"1985-10-01\",\"1985-09-01\",\"1985-08-01\",\"1985-07-01\",\"1985-06-01\",\"1985-05-01\",\"1985-04-01\",\"1985-03-01\",\"1985-02-01\",\"1985-01-01\",\"1984-12-01\",\"1984-11-01\",\"1984-10-01\",\"1984-09-01\",\"1984-08-01\",\"1984-07-01\",\"1984-06-01\",\"1984-05-01\",\"1984-04-01\",\"1984-03-01\",\"1984-02-01\",\"1984-01-01\",\"1983-12-01\",\"1983-11-01\",\"1983-10-01\",\"1983-09-01\",\"1983-08-01\",\"1983-07-01\",\"1983-06-01\",\"1983-05-01\",\"1983-04-01\",\"1983-03-01\",\"1983-02-01\",\"1983-01-01\",\"1982-12-01\",\"1982-11-01\",\"1982-10-01\",\"1982-09-01\",\"1982-08-01\",\"1982-07-01\",\"1982-06-01\",\"1982-05-01\",\"1982-04-01\",\"1982-03-01\",\"1982-02-01\",\"1982-01-01\",\"1981-12-01\",\"1981-11-01\",\"1981-10-01\",\"1981-09-01\",\"1981-08-01\",\"1981-07-01\",\"1981-06-01\",\"1981-05-01\",\"1981-04-01\",\"1981-03-01\",\"1981-02-01\",\"1981-01-01\",\"1980-12-01\",\"1980-11-01\",\"1980-10-01\",\"1980-09-01\",\"1980-08-01\",\"1980-07-01\",\"1980-06-01\",\"1980-05-01\",\"1980-04-01\",\"1980-03-01\",\"1980-02-01\",\"1980-01-01\",\"1979-12-01\",\"1979-11-01\",\"1979-10-01\",\"1979-09-01\",\"1979-08-01\",\"1979-07-01\",\"1979-06-01\",\"1979-05-01\",\"1979-04-01\",\"1979-03-01\",\"1979-02-01\",\"1979-01-01\",\"1978-12-01\",\"1978-11-01\",\"1978-10-01\",\"1978-09-01\",\"1978-08-01\",\"1978-07-01\",\"1978-06-01\",\"1978-05-01\",\"1978-04-01\",\"1978-03-01\",\"1978-02-01\",\"1978-01-01\",\"1977-12-01\",\"1977-11-01\",\"1977-10-01\",\"1977-09-01\",\"1977-08-01\",\"1977-07-01\",\"1977-06-01\",\"1977-05-01\",\"1977-04-01\",\"1977-03-01\",\"1977-02-01\",\"1977-01-01\",\"1976-12-01\",\"1976-11-01\",\"1976-10-01\",\"1976-09-01\",\"1976-08-01\",\"1976-07-01\",\"1976-06-01\",\"1976-05-01\",\"1976-04-01\",\"1976-03-01\",\"1976-02-01\",\"1976-01-01\",\"1975-12-01\",\"1975-11-01\",\"1975-10-01\",\"1975-09-01\",\"1975-08-01\",\"1975-07-01\",\"1975-06-01\",\"1975-05-01\",\"1975-04-01\",\"1975-03-01\",\"1975-02-01\",\"1975-01-01\",\"1974-12-01\",\"1974-11-01\",\"1974-10-01\",\"1974-09-01\",\"1974-08-01\",\"1974-07-01\",\"1974-06-01\",\"1974-05-01\",\"1974-04-01\",\"1974-03-01\",\"1974-02-01\",\"1974-01-01\",\"1973-12-01\",\"1973-11-01\",\"1973-10-01\",\"1973-09-01\",\"1973-08-01\",\"1973-07-01\",\"1973-06-01\",\"1973-05-01\",\"1973-04-01\",\"1973-03-01\",\"1973-02-01\",\"1973-01-01\",\"1972-12-01\",\"1972-11-01\",\"1972-10-01\",\"1972-09-01\",\"1972-08-01\",\"1972-07-01\",\"1972-06-01\",\"1972-05-01\",\"1972-04-01\",\"1972-03-01\",\"1972-02-01\",\"1972-01-01\",\"1971-12-01\",\"1971-11-01\",\"1971-10-01\",\"1971-09-01\",\"1971-08-01\",\"1971-07-01\",\"1971-06-01\",\"1971-05-01\",\"1971-04-01\",\"1971-03-01\",\"1971-02-01\",\"1971-01-01\",\"1970-12-01\",\"1970-11-01\",\"1970-10-01\",\"1970-09-01\",\"1970-08-01\",\"1970-07-01\",\"1970-06-01\",\"1970-05-01\",\"1970-04-01\",\"1970-03-01\",\"1970-02-01\",\"1970-01-01\",\"1969-12-01\",\"1969-11-01\",\"1969-10-01\",\"1969-09-01\",\"1969-08-01\",\"1969-07-01\",\"1969-06-01\",\"1969-05-01\",\"1969-04-01\",\"1969-03-01\",\"1969-02-01\",\"1969-01-01\",\"1968-12-01\",\"1968-11-01\",\"1968-10-01\",\"1968-09-01\",\"1968-08-01\",\"1968-07-01\",\"1968-06-01\",\"1968-05-01\",\"1968-04-01\",\"1968-03-01\",\"1968-02-01\",\"1968-01-01\",\"1967-12-01\",\"1967-11-01\",\"1967-10-01\",\"1967-09-01\",\"1967-08-01\",\"1967-07-01\",\"1967-06-01\",\"1967-05-01\",\"1967-04-01\",\"1967-03-01\",\"1967-02-01\",\"1967-01-01\",\"1966-12-01\",\"1966-11-01\",\"1966-10-01\",\"1966-09-01\",\"1966-08-01\",\"1966-07-01\",\"1966-06-01\",\"1966-05-01\",\"1966-04-01\",\"1966-03-01\",\"1966-02-01\",\"1966-01-01\",\"1965-12-01\",\"1965-11-01\",\"1965-10-01\",\"1965-09-01\",\"1965-08-01\",\"1965-07-01\",\"1965-06-01\",\"1965-05-01\",\"1965-04-01\",\"1965-03-01\",\"1965-02-01\",\"1965-01-01\",\"1964-12-01\",\"1964-11-01\",\"1964-10-01\",\"1964-09-01\",\"1964-08-01\",\"1964-07-01\",\"1964-06-01\",\"1964-05-01\",\"1964-04-01\",\"1964-03-01\",\"1964-02-01\",\"1964-01-01\",\"1963-12-01\",\"1963-11-01\",\"1963-10-01\",\"1963-09-01\",\"1963-08-01\",\"1963-07-01\",\"1963-06-01\",\"1963-05-01\",\"1963-04-01\",\"1963-03-01\",\"1963-02-01\",\"1963-01-01\",\"1962-12-01\",\"1962-11-01\",\"1962-10-01\",\"1962-09-01\",\"1962-08-01\",\"1962-07-01\",\"1962-06-01\",\"1962-05-01\",\"1962-04-01\",\"1962-03-01\",\"1962-02-01\",\"1962-01-01\",\"1961-12-01\",\"1961-11-01\",\"1961-10-01\",\"1961-09-01\",\"1961-08-01\",\"1961-07-01\",\"1961-06-01\",\"1961-05-01\",\"1961-04-01\",\"1961-03-01\",\"1961-02-01\",\"1961-01-01\",\"1960-12-01\",\"1960-11-01\",\"1960-10-01\",\"1960-09-01\",\"1960-08-01\",\"1960-07-01\",\"1960-06-01\",\"1960-05-01\",\"1960-04-01\",\"1960-03-01\",\"1960-02-01\",\"1960-01-01\",\"1959-12-01\",\"1959-11-01\",\"1959-10-01\",\"1959-09-01\",\"1959-08-01\",\"1959-07-01\",\"1959-06-01\",\"1959-05-01\",\"1959-04-01\",\"1959-03-01\",\"1959-02-01\",\"1959-01-01\",\"1958-12-01\",\"1958-11-01\",\"1958-10-01\",\"1958-09-01\",\"1958-08-01\",\"1958-07-01\",\"1958-06-01\",\"1958-05-01\",\"1958-04-01\",\"1958-03-01\",\"1958-02-01\",\"1958-01-01\",\"1957-12-01\",\"1957-11-01\",\"1957-10-01\",\"1957-09-01\",\"1957-08-01\",\"1957-07-01\",\"1957-06-01\",\"1957-05-01\",\"1957-04-01\",\"1957-03-01\",\"1957-02-01\",\"1957-01-01\",\"1956-12-01\",\"1956-11-01\",\"1956-10-01\",\"1956-09-01\",\"1956-08-01\",\"1956-07-01\",\"1956-06-01\",\"1956-05-01\",\"1956-04-01\",\"1956-03-01\",\"1956-02-01\",\"1956-01-01\",\"1955-12-01\",\"1955-11-01\",\"1955-10-01\",\"1955-09-01\",\"1955-08-01\",\"1955-07-01\",\"1955-06-01\",\"1955-05-01\",\"1955-04-01\",\"1955-03-01\",\"1955-02-01\",\"1955-01-01\",\"1954-12-01\",\"1954-11-01\",\"1954-10-01\",\"1954-09-01\",\"1954-08-01\",\"1954-07-01\",\"1954-06-01\",\"1954-05-01\",\"1954-04-01\",\"1954-03-01\",\"1954-02-01\",\"1954-01-01\",\"1953-12-01\",\"1953-11-01\",\"1953-10-01\",\"1953-09-01\",\"1953-08-01\",\"1953-07-01\",\"1953-06-01\",\"1953-05-01\",\"1953-04-01\",\"1953-03-01\",\"1953-02-01\",\"1953-01-01\",\"1952-12-01\",\"1952-11-01\",\"1952-10-01\",\"1952-09-01\",\"1952-08-01\",\"1952-07-01\",\"1952-06-01\",\"1952-05-01\",\"1952-04-01\",\"1952-03-01\",\"1952-02-01\",\"1952-01-01\",\"1951-12-01\",\"1951-11-01\",\"1951-10-01\",\"1951-09-01\",\"1951-08-01\",\"1951-07-01\",\"1951-06-01\",\"1951-05-01\",\"1951-04-01\",\"1951-03-01\",\"1951-02-01\",\"1951-01-01\",\"1950-12-01\",\"1950-11-01\",\"1950-10-01\",\"1950-09-01\",\"1950-08-01\",\"1950-07-01\",\"1950-06-01\",\"1950-05-01\",\"1950-04-01\",\"1950-03-01\",\"1950-02-01\",\"1950-01-01\",\"1949-12-01\",\"1949-11-01\",\"1949-10-01\",\"1949-09-01\",\"1949-08-01\",\"1949-07-01\",\"1949-06-01\",\"1949-05-01\",\"1949-04-01\",\"1949-03-01\",\"1949-02-01\",\"1949-01-01\",\"1948-12-01\",\"1948-11-01\",\"1948-10-01\",\"1948-09-01\",\"1948-08-01\",\"1948-07-01\",\"1948-06-01\",\"1948-05-01\",\"1948-04-01\",\"1948-03-01\",\"1948-02-01\",\"1948-01-01\"],\"xaxis\":\"x\",\"y\":[3.7,3.7,3.5,3.7,3.5,3.6,3.6,3.6,3.6,3.8,4.0,3.9,4.2,4.6,4.7,5.2,5.4,5.9,5.8,6.0,6.0,6.2,6.4,6.7,6.7,6.9,7.9,8.4,10.2,11.0,13.2,14.7,4.4,3.5,3.5,3.6,3.6,3.6,3.5,3.7,3.7,3.6,3.6,3.6,3.8,3.8,4.0,3.9,3.8,3.8,3.7,3.8,3.8,4.0,3.8,4.0,4.0,4.1,4.0,4.1,4.2,4.2,4.3,4.4,4.3,4.3,4.4,4.4,4.4,4.6,4.7,4.7,4.7,4.9,5.0,4.9,4.8,4.9,4.8,5.1,5.0,4.9,4.8,5.0,5.1,5.0,5.0,5.1,5.2,5.3,5.6,5.4,5.4,5.5,5.7,5.6,5.8,5.7,5.9,6.1,6.2,6.1,6.3,6.2,6.7,6.7,6.6,6.7,6.9,7.2,7.2,7.2,7.3,7.5,7.5,7.6,7.5,7.7,8.0,7.9,7.7,7.8,7.8,8.1,8.2,8.2,8.2,8.2,8.2,8.3,8.3,8.5,8.6,8.8,9.0,9.0,9.0,9.1,9.0,9.1,9.0,9.0,9.1,9.3,9.8,9.4,9.5,9.5,9.4,9.4,9.6,9.9,9.9,9.8,9.8,9.9,9.9,10.0,9.8,9.6,9.5,9.5,9.4,9.0,8.7,8.3,7.8,7.3,6.8,6.5,6.1,6.1,5.8,5.6,5.4,5.0,5.1,4.9,5.0,5.0,4.7,4.7,4.7,4.6,4.7,4.6,4.4,4.5,4.4,4.5,4.6,4.4,4.5,4.4,4.5,4.7,4.7,4.6,4.6,4.7,4.7,4.8,4.7,4.9,5.0,5.0,5.0,4.9,5.0,5.0,5.1,5.2,5.2,5.4,5.3,5.4,5.4,5.5,5.4,5.4,5.5,5.6,5.6,5.6,5.8,5.6,5.7,5.7,5.8,6.0,6.1,6.1,6.2,6.3,6.1,6.0,5.9,5.9,5.8,6.0,5.9,5.7,5.7,5.7,5.8,5.8,5.8,5.9,5.7,5.7,5.7,5.7,5.5,5.3,5.0,4.9,4.6,4.5,4.3,4.4,4.3,4.2,4.2,3.9,3.9,3.9,3.9,4.1,4.0,4.0,4.0,3.8,4.0,4.1,4.0,4.0,4.1,4.1,4.2,4.2,4.3,4.3,4.2,4.3,4.2,4.4,4.3,4.4,4.4,4.5,4.6,4.5,4.5,4.5,4.4,4.3,4.7,4.6,4.6,4.7,4.6,4.7,4.9,4.8,4.9,5.0,4.9,5.1,5.2,5.2,5.3,5.4,5.4,5.2,5.2,5.1,5.5,5.3,5.6,5.6,5.5,5.5,5.6,5.6,5.6,5.5,5.6,5.7,5.7,5.6,5.6,5.8,5.4,5.4,5.6,5.5,5.6,5.8,5.9,6.0,6.1,6.1,6.1,6.4,6.5,6.6,6.6,6.5,6.6,6.8,6.7,6.8,6.9,7.0,7.1,7.1,7.0,7.1,7.3,7.4,7.4,7.3,7.6,7.6,7.7,7.8,7.6,7.4,7.4,7.4,7.3,7.3,7.0,7.0,6.9,6.9,6.8,6.9,6.9,6.7,6.8,6.6,6.4,6.3,6.2,5.9,5.9,5.7,5.5,5.2,5.4,5.4,5.2,5.3,5.4,5.4,5.4,5.3,5.3,5.2,5.2,5.3,5.2,5.2,5.0,5.2,5.4,5.3,5.3,5.4,5.4,5.6,5.4,5.4,5.6,5.4,5.7,5.7,5.7,5.7,5.8,6.0,5.9,6.0,6.1,6.2,6.3,6.3,6.6,6.6,6.6,6.6,6.9,7.0,7.0,6.9,7.0,7.2,7.2,7.1,7.2,7.2,6.7,7.0,7.0,7.1,7.1,7.1,7.4,7.4,7.2,7.3,7.2,7.2,7.3,7.3,7.2,7.4,7.3,7.5,7.5,7.2,7.4,7.7,7.8,7.8,8.0,8.3,8.5,8.8,9.2,9.5,9.4,10.1,10.1,10.2,10.3,10.4,10.4,10.8,10.8,10.4,10.1,9.8,9.8,9.6,9.4,9.3,9.0,8.9,8.6,8.5,8.3,7.9,7.6,7.4,7.2,7.5,7.5,7.2,7.4,7.4,7.5,7.2,7.5,7.5,7.5,7.7,7.8,7.6,7.5,6.9,6.3,6.3,6.3,6.0,5.9,6.0,5.9,6.0,5.7,5.7,5.6,5.8,5.8,5.9,5.9,6.0,5.9,5.8,6.0,5.9,6.2,5.9,6.0,6.1,6.3,6.3,6.4,6.4,6.8,6.8,6.8,7.0,6.9,7.2,7.0,7.2,7.4,7.6,7.5,7.8,7.8,7.7,7.6,7.8,7.8,7.6,7.4,7.7,7.6,7.7,7.9,8.2,8.3,8.4,8.4,8.4,8.6,8.8,9.0,8.8,8.6,8.1,8.1,7.2,6.6,6.0,5.9,5.5,5.5,5.4,5.1,5.1,5.1,5.2,5.1,4.9,4.8,4.6,4.8,4.8,4.8,4.9,4.9,5.0,4.9,5.0,4.9,5.2,5.3,5.6,5.5,5.6,5.6,5.7,5.7,5.7,5.8,5.7,5.8,6.0,6.0,5.8,6.0,6.1,6.0,5.9,5.9,5.9,6.0,5.9,5.9,6.1,5.9,5.5,5.4,5.1,5.0,4.9,4.8,4.6,4.4,4.2,3.9,3.5,3.5,3.7,3.7,3.5,3.5,3.5,3.4,3.4,3.4,3.4,3.4,3.4,3.4,3.4,3.4,3.5,3.7,3.7,3.5,3.5,3.7,3.8,3.7,3.8,3.9,4.0,3.8,3.8,3.8,3.9,3.8,3.8,3.8,3.8,3.9,3.8,3.6,3.7,3.7,3.8,3.8,3.8,3.9,3.8,3.8,3.8,4.0,4.0,4.1,4.2,4.3,4.4,4.4,4.6,4.6,4.8,4.7,5.1,4.9,5.0,4.8,5.1,5.1,5.0,4.9,5.2,5.1,5.3,5.4,5.4,5.6,5.5,5.7,5.5,5.5,5.4,5.6,5.6,5.9,5.7,5.7,5.9,5.7,5.5,5.7,5.4,5.6,5.7,5.4,5.5,5.5,5.6,5.6,5.5,5.8,6.0,6.1,6.5,6.7,6.6,7.0,6.9,7.1,7.0,6.9,6.9,6.6,6.6,6.1,6.1,5.5,5.6,5.5,5.4,5.1,5.2,5.4,4.8,5.2,5.3,5.8,5.7,5.5,5.2,5.1,5.0,5.1,5.2,5.6,5.9,6.0,6.2,6.2,6.7,7.1,7.4,7.5,7.3,7.4,7.4,6.7,6.4,5.8,5.2,5.1,4.5,4.4,4.1,4.2,4.3,4.1,3.9,3.7,3.9,4.2,4.2,4.3,3.9,3.9,4.1,4.4,4.3,4.3,4.0,4.2,3.9,4.0,4.2,4.2,4.3,4.1,4.2,4.0,4.2,4.3,4.7,4.6,4.7,4.9,5.0,5.3,5.7,6.1,6.0,5.8,5.6,5.9,5.9,5.7,5.2,4.9,4.5,3.5,3.1,2.9,2.7,2.6,2.5,2.5,2.7,2.6,2.6,2.9,2.7,2.8,3.0,3.1,3.4,3.2,3.0,3.0,2.9,2.9,3.1,3.2,3.1,3.5,3.5,3.3,3.1,3.1,3.2,3.0,3.1,3.4,3.4,3.7,4.3,4.2,4.2,4.4,4.5,5.0,5.4,5.5,5.8,6.3,6.4,6.5,6.6,6.4,7.9,6.6,6.8,6.7,6.2,6.1,5.3,5.0,4.7,4.3,4.0,3.8,3.7,3.8,3.9,3.6,3.6,3.5,3.9,4.0,3.8,3.4],\"yaxis\":\"y\",\"type\":\"scatter\"}],                        {\"template\":{\"data\":{\"bar\":[{\"error_x\":{\"color\":\"#2a3f5f\"},\"error_y\":{\"color\":\"#2a3f5f\"},\"marker\":{\"line\":{\"color\":\"#E5ECF6\",\"width\":0.5},\"pattern\":{\"fillmode\":\"overlay\",\"size\":10,\"solidity\":0.2}},\"type\":\"bar\"}],\"barpolar\":[{\"marker\":{\"line\":{\"color\":\"#E5ECF6\",\"width\":0.5},\"pattern\":{\"fillmode\":\"overlay\",\"size\":10,\"solidity\":0.2}},\"type\":\"barpolar\"}],\"carpet\":[{\"aaxis\":{\"endlinecolor\":\"#2a3f5f\",\"gridcolor\":\"white\",\"linecolor\":\"white\",\"minorgridcolor\":\"white\",\"startlinecolor\":\"#2a3f5f\"},\"baxis\":{\"endlinecolor\":\"#2a3f5f\",\"gridcolor\":\"white\",\"linecolor\":\"white\",\"minorgridcolor\":\"white\",\"startlinecolor\":\"#2a3f5f\"},\"type\":\"carpet\"}],\"choropleth\":[{\"colorbar\":{\"outlinewidth\":0,\"ticks\":\"\"},\"type\":\"choropleth\"}],\"contour\":[{\"colorbar\":{\"outlinewidth\":0,\"ticks\":\"\"},\"colorscale\":[[0.0,\"#0d0887\"],[0.1111111111111111,\"#46039f\"],[0.2222222222222222,\"#7201a8\"],[0.3333333333333333,\"#9c179e\"],[0.4444444444444444,\"#bd3786\"],[0.5555555555555556,\"#d8576b\"],[0.6666666666666666,\"#ed7953\"],[0.7777777777777778,\"#fb9f3a\"],[0.8888888888888888,\"#fdca26\"],[1.0,\"#f0f921\"]],\"type\":\"contour\"}],\"contourcarpet\":[{\"colorbar\":{\"outlinewidth\":0,\"ticks\":\"\"},\"type\":\"contourcarpet\"}],\"heatmap\":[{\"colorbar\":{\"outlinewidth\":0,\"ticks\":\"\"},\"colorscale\":[[0.0,\"#0d0887\"],[0.1111111111111111,\"#46039f\"],[0.2222222222222222,\"#7201a8\"],[0.3333333333333333,\"#9c179e\"],[0.4444444444444444,\"#bd3786\"],[0.5555555555555556,\"#d8576b\"],[0.6666666666666666,\"#ed7953\"],[0.7777777777777778,\"#fb9f3a\"],[0.8888888888888888,\"#fdca26\"],[1.0,\"#f0f921\"]],\"type\":\"heatmap\"}],\"heatmapgl\":[{\"colorbar\":{\"outlinewidth\":0,\"ticks\":\"\"},\"colorscale\":[[0.0,\"#0d0887\"],[0.1111111111111111,\"#46039f\"],[0.2222222222222222,\"#7201a8\"],[0.3333333333333333,\"#9c179e\"],[0.4444444444444444,\"#bd3786\"],[0.5555555555555556,\"#d8576b\"],[0.6666666666666666,\"#ed7953\"],[0.7777777777777778,\"#fb9f3a\"],[0.8888888888888888,\"#fdca26\"],[1.0,\"#f0f921\"]],\"type\":\"heatmapgl\"}],\"histogram\":[{\"marker\":{\"pattern\":{\"fillmode\":\"overlay\",\"size\":10,\"solidity\":0.2}},\"type\":\"histogram\"}],\"histogram2d\":[{\"colorbar\":{\"outlinewidth\":0,\"ticks\":\"\"},\"colorscale\":[[0.0,\"#0d0887\"],[0.1111111111111111,\"#46039f\"],[0.2222222222222222,\"#7201a8\"],[0.3333333333333333,\"#9c179e\"],[0.4444444444444444,\"#bd3786\"],[0.5555555555555556,\"#d8576b\"],[0.6666666666666666,\"#ed7953\"],[0.7777777777777778,\"#fb9f3a\"],[0.8888888888888888,\"#fdca26\"],[1.0,\"#f0f921\"]],\"type\":\"histogram2d\"}],\"histogram2dcontour\":[{\"colorbar\":{\"outlinewidth\":0,\"ticks\":\"\"},\"colorscale\":[[0.0,\"#0d0887\"],[0.1111111111111111,\"#46039f\"],[0.2222222222222222,\"#7201a8\"],[0.3333333333333333,\"#9c179e\"],[0.4444444444444444,\"#bd3786\"],[0.5555555555555556,\"#d8576b\"],[0.6666666666666666,\"#ed7953\"],[0.7777777777777778,\"#fb9f3a\"],[0.8888888888888888,\"#fdca26\"],[1.0,\"#f0f921\"]],\"type\":\"histogram2dcontour\"}],\"mesh3d\":[{\"colorbar\":{\"outlinewidth\":0,\"ticks\":\"\"},\"type\":\"mesh3d\"}],\"parcoords\":[{\"line\":{\"colorbar\":{\"outlinewidth\":0,\"ticks\":\"\"}},\"type\":\"parcoords\"}],\"pie\":[{\"automargin\":true,\"type\":\"pie\"}],\"scatter\":[{\"marker\":{\"colorbar\":{\"outlinewidth\":0,\"ticks\":\"\"}},\"type\":\"scatter\"}],\"scatter3d\":[{\"line\":{\"colorbar\":{\"outlinewidth\":0,\"ticks\":\"\"}},\"marker\":{\"colorbar\":{\"outlinewidth\":0,\"ticks\":\"\"}},\"type\":\"scatter3d\"}],\"scattercarpet\":[{\"marker\":{\"colorbar\":{\"outlinewidth\":0,\"ticks\":\"\"}},\"type\":\"scattercarpet\"}],\"scattergeo\":[{\"marker\":{\"colorbar\":{\"outlinewidth\":0,\"ticks\":\"\"}},\"type\":\"scattergeo\"}],\"scattergl\":[{\"marker\":{\"colorbar\":{\"outlinewidth\":0,\"ticks\":\"\"}},\"type\":\"scattergl\"}],\"scattermapbox\":[{\"marker\":{\"colorbar\":{\"outlinewidth\":0,\"ticks\":\"\"}},\"type\":\"scattermapbox\"}],\"scatterpolar\":[{\"marker\":{\"colorbar\":{\"outlinewidth\":0,\"ticks\":\"\"}},\"type\":\"scatterpolar\"}],\"scatterpolargl\":[{\"marker\":{\"colorbar\":{\"outlinewidth\":0,\"ticks\":\"\"}},\"type\":\"scatterpolargl\"}],\"scatterternary\":[{\"marker\":{\"colorbar\":{\"outlinewidth\":0,\"ticks\":\"\"}},\"type\":\"scatterternary\"}],\"surface\":[{\"colorbar\":{\"outlinewidth\":0,\"ticks\":\"\"},\"colorscale\":[[0.0,\"#0d0887\"],[0.1111111111111111,\"#46039f\"],[0.2222222222222222,\"#7201a8\"],[0.3333333333333333,\"#9c179e\"],[0.4444444444444444,\"#bd3786\"],[0.5555555555555556,\"#d8576b\"],[0.6666666666666666,\"#ed7953\"],[0.7777777777777778,\"#fb9f3a\"],[0.8888888888888888,\"#fdca26\"],[1.0,\"#f0f921\"]],\"type\":\"surface\"}],\"table\":[{\"cells\":{\"fill\":{\"color\":\"#EBF0F8\"},\"line\":{\"color\":\"white\"}},\"header\":{\"fill\":{\"color\":\"#C8D4E3\"},\"line\":{\"color\":\"white\"}},\"type\":\"table\"}]},\"layout\":{\"annotationdefaults\":{\"arrowcolor\":\"#2a3f5f\",\"arrowhead\":0,\"arrowwidth\":1},\"autotypenumbers\":\"strict\",\"coloraxis\":{\"colorbar\":{\"outlinewidth\":0,\"ticks\":\"\"}},\"colorscale\":{\"diverging\":[[0,\"#8e0152\"],[0.1,\"#c51b7d\"],[0.2,\"#de77ae\"],[0.3,\"#f1b6da\"],[0.4,\"#fde0ef\"],[0.5,\"#f7f7f7\"],[0.6,\"#e6f5d0\"],[0.7,\"#b8e186\"],[0.8,\"#7fbc41\"],[0.9,\"#4d9221\"],[1,\"#276419\"]],\"sequential\":[[0.0,\"#0d0887\"],[0.1111111111111111,\"#46039f\"],[0.2222222222222222,\"#7201a8\"],[0.3333333333333333,\"#9c179e\"],[0.4444444444444444,\"#bd3786\"],[0.5555555555555556,\"#d8576b\"],[0.6666666666666666,\"#ed7953\"],[0.7777777777777778,\"#fb9f3a\"],[0.8888888888888888,\"#fdca26\"],[1.0,\"#f0f921\"]],\"sequentialminus\":[[0.0,\"#0d0887\"],[0.1111111111111111,\"#46039f\"],[0.2222222222222222,\"#7201a8\"],[0.3333333333333333,\"#9c179e\"],[0.4444444444444444,\"#bd3786\"],[0.5555555555555556,\"#d8576b\"],[0.6666666666666666,\"#ed7953\"],[0.7777777777777778,\"#fb9f3a\"],[0.8888888888888888,\"#fdca26\"],[1.0,\"#f0f921\"]]},\"colorway\":[\"#636efa\",\"#EF553B\",\"#00cc96\",\"#ab63fa\",\"#FFA15A\",\"#19d3f3\",\"#FF6692\",\"#B6E880\",\"#FF97FF\",\"#FECB52\"],\"font\":{\"color\":\"#2a3f5f\"},\"geo\":{\"bgcolor\":\"white\",\"lakecolor\":\"white\",\"landcolor\":\"#E5ECF6\",\"showlakes\":true,\"showland\":true,\"subunitcolor\":\"white\"},\"hoverlabel\":{\"align\":\"left\"},\"hovermode\":\"closest\",\"mapbox\":{\"style\":\"light\"},\"paper_bgcolor\":\"white\",\"plot_bgcolor\":\"#E5ECF6\",\"polar\":{\"angularaxis\":{\"gridcolor\":\"white\",\"linecolor\":\"white\",\"ticks\":\"\"},\"bgcolor\":\"#E5ECF6\",\"radialaxis\":{\"gridcolor\":\"white\",\"linecolor\":\"white\",\"ticks\":\"\"}},\"scene\":{\"xaxis\":{\"backgroundcolor\":\"#E5ECF6\",\"gridcolor\":\"white\",\"gridwidth\":2,\"linecolor\":\"white\",\"showbackground\":true,\"ticks\":\"\",\"zerolinecolor\":\"white\"},\"yaxis\":{\"backgroundcolor\":\"#E5ECF6\",\"gridcolor\":\"white\",\"gridwidth\":2,\"linecolor\":\"white\",\"showbackground\":true,\"ticks\":\"\",\"zerolinecolor\":\"white\"},\"zaxis\":{\"backgroundcolor\":\"#E5ECF6\",\"gridcolor\":\"white\",\"gridwidth\":2,\"linecolor\":\"white\",\"showbackground\":true,\"ticks\":\"\",\"zerolinecolor\":\"white\"}},\"shapedefaults\":{\"line\":{\"color\":\"#2a3f5f\"}},\"ternary\":{\"aaxis\":{\"gridcolor\":\"white\",\"linecolor\":\"white\",\"ticks\":\"\"},\"baxis\":{\"gridcolor\":\"white\",\"linecolor\":\"white\",\"ticks\":\"\"},\"bgcolor\":\"#E5ECF6\",\"caxis\":{\"gridcolor\":\"white\",\"linecolor\":\"white\",\"ticks\":\"\"}},\"title\":{\"x\":0.05},\"xaxis\":{\"automargin\":true,\"gridcolor\":\"white\",\"linecolor\":\"white\",\"ticks\":\"\",\"title\":{\"standoff\":15},\"zerolinecolor\":\"white\",\"zerolinewidth\":2},\"yaxis\":{\"automargin\":true,\"gridcolor\":\"white\",\"linecolor\":\"white\",\"ticks\":\"\",\"title\":{\"standoff\":15},\"zerolinecolor\":\"white\",\"zerolinewidth\":2}}},\"xaxis\":{\"anchor\":\"y\",\"domain\":[0.0,1.0],\"title\":{\"text\":\"Month\"}},\"yaxis\":{\"anchor\":\"x\",\"domain\":[0.0,1.0],\"title\":{\"text\":\"Unemployment Rate\"}},\"legend\":{\"tracegroupgap\":0},\"title\":{\"text\":\"United States Unemployment Rate over time\"}},                        {\"responsive\": true}                    ).then(function(){\n",
              "                            \n",
              "var gd = document.getElementById('0afa7d18-c329-470f-9553-6ba35a27c381');\n",
              "var x = new MutationObserver(function (mutations, observer) {{\n",
              "        var display = window.getComputedStyle(gd).display;\n",
              "        if (!display || display === 'none') {{\n",
              "            console.log([gd, 'removed!']);\n",
              "            Plotly.purge(gd);\n",
              "            observer.disconnect();\n",
              "        }}\n",
              "}});\n",
              "\n",
              "// Listen for the removal of the full notebook cells\n",
              "var notebookContainer = gd.closest('#notebook-container');\n",
              "if (notebookContainer) {{\n",
              "    x.observe(notebookContainer, {childList: true});\n",
              "}}\n",
              "\n",
              "// Listen for the clearing of the current output cell\n",
              "var outputEl = gd.closest('.output');\n",
              "if (outputEl) {{\n",
              "    x.observe(outputEl, {childList: true});\n",
              "}}\n",
              "\n",
              "                        })                };                            </script>        </div>\n",
              "</body>\n",
              "</html>"
            ]
          },
          "metadata": {}
        }
      ]
    },
    {
      "cell_type": "code",
      "source": [
        "from plotly.express import line\n",
        "\n",
        "# leveraging the pandas dataframe integration, referencing column names:\n",
        "fig = line(df, x=\"timestamp\", y=\"value\", \n",
        "           title=\"United States Unemployment Rate over time\", \n",
        "           labels= {\"timestamp\": \"Month\", \"value\": \"Unemployment Rate\"})\n",
        "fig.show()"
      ],
      "metadata": {
        "colab": {
          "base_uri": "https://localhost:8080/",
          "height": 542
        },
        "id": "NYtlKlsMkDfz",
        "outputId": "5e8f8f12-3534-4e8a-9472-e17a7688baf4"
      },
      "execution_count": null,
      "outputs": [
        {
          "output_type": "display_data",
          "data": {
            "text/html": [
              "<html>\n",
              "<head><meta charset=\"utf-8\" /></head>\n",
              "<body>\n",
              "    <div>            <script src=\"https://cdnjs.cloudflare.com/ajax/libs/mathjax/2.7.5/MathJax.js?config=TeX-AMS-MML_SVG\"></script><script type=\"text/javascript\">if (window.MathJax) {MathJax.Hub.Config({SVG: {font: \"STIX-Web\"}});}</script>                <script type=\"text/javascript\">window.PlotlyConfig = {MathJaxConfig: 'local'};</script>\n",
              "        <script src=\"https://cdn.plot.ly/plotly-2.8.3.min.js\"></script>                <div id=\"b1cf087f-cff6-4d68-8b29-2df0c08eeaa3\" class=\"plotly-graph-div\" style=\"height:525px; width:100%;\"></div>            <script type=\"text/javascript\">                                    window.PLOTLYENV=window.PLOTLYENV || {};                                    if (document.getElementById(\"b1cf087f-cff6-4d68-8b29-2df0c08eeaa3\")) {                    Plotly.newPlot(                        \"b1cf087f-cff6-4d68-8b29-2df0c08eeaa3\",                        [{\"hovertemplate\":\"Month=%{x}<br>Unemployment Rate=%{y}<extra></extra>\",\"legendgroup\":\"\",\"line\":{\"color\":\"#636efa\",\"dash\":\"solid\"},\"marker\":{\"symbol\":\"circle\"},\"mode\":\"lines\",\"name\":\"\",\"orientation\":\"v\",\"showlegend\":false,\"x\":[\"2022-11-01\",\"2022-10-01\",\"2022-09-01\",\"2022-08-01\",\"2022-07-01\",\"2022-06-01\",\"2022-05-01\",\"2022-04-01\",\"2022-03-01\",\"2022-02-01\",\"2022-01-01\",\"2021-12-01\",\"2021-11-01\",\"2021-10-01\",\"2021-09-01\",\"2021-08-01\",\"2021-07-01\",\"2021-06-01\",\"2021-05-01\",\"2021-04-01\",\"2021-03-01\",\"2021-02-01\",\"2021-01-01\",\"2020-12-01\",\"2020-11-01\",\"2020-10-01\",\"2020-09-01\",\"2020-08-01\",\"2020-07-01\",\"2020-06-01\",\"2020-05-01\",\"2020-04-01\",\"2020-03-01\",\"2020-02-01\",\"2020-01-01\",\"2019-12-01\",\"2019-11-01\",\"2019-10-01\",\"2019-09-01\",\"2019-08-01\",\"2019-07-01\",\"2019-06-01\",\"2019-05-01\",\"2019-04-01\",\"2019-03-01\",\"2019-02-01\",\"2019-01-01\",\"2018-12-01\",\"2018-11-01\",\"2018-10-01\",\"2018-09-01\",\"2018-08-01\",\"2018-07-01\",\"2018-06-01\",\"2018-05-01\",\"2018-04-01\",\"2018-03-01\",\"2018-02-01\",\"2018-01-01\",\"2017-12-01\",\"2017-11-01\",\"2017-10-01\",\"2017-09-01\",\"2017-08-01\",\"2017-07-01\",\"2017-06-01\",\"2017-05-01\",\"2017-04-01\",\"2017-03-01\",\"2017-02-01\",\"2017-01-01\",\"2016-12-01\",\"2016-11-01\",\"2016-10-01\",\"2016-09-01\",\"2016-08-01\",\"2016-07-01\",\"2016-06-01\",\"2016-05-01\",\"2016-04-01\",\"2016-03-01\",\"2016-02-01\",\"2016-01-01\",\"2015-12-01\",\"2015-11-01\",\"2015-10-01\",\"2015-09-01\",\"2015-08-01\",\"2015-07-01\",\"2015-06-01\",\"2015-05-01\",\"2015-04-01\",\"2015-03-01\",\"2015-02-01\",\"2015-01-01\",\"2014-12-01\",\"2014-11-01\",\"2014-10-01\",\"2014-09-01\",\"2014-08-01\",\"2014-07-01\",\"2014-06-01\",\"2014-05-01\",\"2014-04-01\",\"2014-03-01\",\"2014-02-01\",\"2014-01-01\",\"2013-12-01\",\"2013-11-01\",\"2013-10-01\",\"2013-09-01\",\"2013-08-01\",\"2013-07-01\",\"2013-06-01\",\"2013-05-01\",\"2013-04-01\",\"2013-03-01\",\"2013-02-01\",\"2013-01-01\",\"2012-12-01\",\"2012-11-01\",\"2012-10-01\",\"2012-09-01\",\"2012-08-01\",\"2012-07-01\",\"2012-06-01\",\"2012-05-01\",\"2012-04-01\",\"2012-03-01\",\"2012-02-01\",\"2012-01-01\",\"2011-12-01\",\"2011-11-01\",\"2011-10-01\",\"2011-09-01\",\"2011-08-01\",\"2011-07-01\",\"2011-06-01\",\"2011-05-01\",\"2011-04-01\",\"2011-03-01\",\"2011-02-01\",\"2011-01-01\",\"2010-12-01\",\"2010-11-01\",\"2010-10-01\",\"2010-09-01\",\"2010-08-01\",\"2010-07-01\",\"2010-06-01\",\"2010-05-01\",\"2010-04-01\",\"2010-03-01\",\"2010-02-01\",\"2010-01-01\",\"2009-12-01\",\"2009-11-01\",\"2009-10-01\",\"2009-09-01\",\"2009-08-01\",\"2009-07-01\",\"2009-06-01\",\"2009-05-01\",\"2009-04-01\",\"2009-03-01\",\"2009-02-01\",\"2009-01-01\",\"2008-12-01\",\"2008-11-01\",\"2008-10-01\",\"2008-09-01\",\"2008-08-01\",\"2008-07-01\",\"2008-06-01\",\"2008-05-01\",\"2008-04-01\",\"2008-03-01\",\"2008-02-01\",\"2008-01-01\",\"2007-12-01\",\"2007-11-01\",\"2007-10-01\",\"2007-09-01\",\"2007-08-01\",\"2007-07-01\",\"2007-06-01\",\"2007-05-01\",\"2007-04-01\",\"2007-03-01\",\"2007-02-01\",\"2007-01-01\",\"2006-12-01\",\"2006-11-01\",\"2006-10-01\",\"2006-09-01\",\"2006-08-01\",\"2006-07-01\",\"2006-06-01\",\"2006-05-01\",\"2006-04-01\",\"2006-03-01\",\"2006-02-01\",\"2006-01-01\",\"2005-12-01\",\"2005-11-01\",\"2005-10-01\",\"2005-09-01\",\"2005-08-01\",\"2005-07-01\",\"2005-06-01\",\"2005-05-01\",\"2005-04-01\",\"2005-03-01\",\"2005-02-01\",\"2005-01-01\",\"2004-12-01\",\"2004-11-01\",\"2004-10-01\",\"2004-09-01\",\"2004-08-01\",\"2004-07-01\",\"2004-06-01\",\"2004-05-01\",\"2004-04-01\",\"2004-03-01\",\"2004-02-01\",\"2004-01-01\",\"2003-12-01\",\"2003-11-01\",\"2003-10-01\",\"2003-09-01\",\"2003-08-01\",\"2003-07-01\",\"2003-06-01\",\"2003-05-01\",\"2003-04-01\",\"2003-03-01\",\"2003-02-01\",\"2003-01-01\",\"2002-12-01\",\"2002-11-01\",\"2002-10-01\",\"2002-09-01\",\"2002-08-01\",\"2002-07-01\",\"2002-06-01\",\"2002-05-01\",\"2002-04-01\",\"2002-03-01\",\"2002-02-01\",\"2002-01-01\",\"2001-12-01\",\"2001-11-01\",\"2001-10-01\",\"2001-09-01\",\"2001-08-01\",\"2001-07-01\",\"2001-06-01\",\"2001-05-01\",\"2001-04-01\",\"2001-03-01\",\"2001-02-01\",\"2001-01-01\",\"2000-12-01\",\"2000-11-01\",\"2000-10-01\",\"2000-09-01\",\"2000-08-01\",\"2000-07-01\",\"2000-06-01\",\"2000-05-01\",\"2000-04-01\",\"2000-03-01\",\"2000-02-01\",\"2000-01-01\",\"1999-12-01\",\"1999-11-01\",\"1999-10-01\",\"1999-09-01\",\"1999-08-01\",\"1999-07-01\",\"1999-06-01\",\"1999-05-01\",\"1999-04-01\",\"1999-03-01\",\"1999-02-01\",\"1999-01-01\",\"1998-12-01\",\"1998-11-01\",\"1998-10-01\",\"1998-09-01\",\"1998-08-01\",\"1998-07-01\",\"1998-06-01\",\"1998-05-01\",\"1998-04-01\",\"1998-03-01\",\"1998-02-01\",\"1998-01-01\",\"1997-12-01\",\"1997-11-01\",\"1997-10-01\",\"1997-09-01\",\"1997-08-01\",\"1997-07-01\",\"1997-06-01\",\"1997-05-01\",\"1997-04-01\",\"1997-03-01\",\"1997-02-01\",\"1997-01-01\",\"1996-12-01\",\"1996-11-01\",\"1996-10-01\",\"1996-09-01\",\"1996-08-01\",\"1996-07-01\",\"1996-06-01\",\"1996-05-01\",\"1996-04-01\",\"1996-03-01\",\"1996-02-01\",\"1996-01-01\",\"1995-12-01\",\"1995-11-01\",\"1995-10-01\",\"1995-09-01\",\"1995-08-01\",\"1995-07-01\",\"1995-06-01\",\"1995-05-01\",\"1995-04-01\",\"1995-03-01\",\"1995-02-01\",\"1995-01-01\",\"1994-12-01\",\"1994-11-01\",\"1994-10-01\",\"1994-09-01\",\"1994-08-01\",\"1994-07-01\",\"1994-06-01\",\"1994-05-01\",\"1994-04-01\",\"1994-03-01\",\"1994-02-01\",\"1994-01-01\",\"1993-12-01\",\"1993-11-01\",\"1993-10-01\",\"1993-09-01\",\"1993-08-01\",\"1993-07-01\",\"1993-06-01\",\"1993-05-01\",\"1993-04-01\",\"1993-03-01\",\"1993-02-01\",\"1993-01-01\",\"1992-12-01\",\"1992-11-01\",\"1992-10-01\",\"1992-09-01\",\"1992-08-01\",\"1992-07-01\",\"1992-06-01\",\"1992-05-01\",\"1992-04-01\",\"1992-03-01\",\"1992-02-01\",\"1992-01-01\",\"1991-12-01\",\"1991-11-01\",\"1991-10-01\",\"1991-09-01\",\"1991-08-01\",\"1991-07-01\",\"1991-06-01\",\"1991-05-01\",\"1991-04-01\",\"1991-03-01\",\"1991-02-01\",\"1991-01-01\",\"1990-12-01\",\"1990-11-01\",\"1990-10-01\",\"1990-09-01\",\"1990-08-01\",\"1990-07-01\",\"1990-06-01\",\"1990-05-01\",\"1990-04-01\",\"1990-03-01\",\"1990-02-01\",\"1990-01-01\",\"1989-12-01\",\"1989-11-01\",\"1989-10-01\",\"1989-09-01\",\"1989-08-01\",\"1989-07-01\",\"1989-06-01\",\"1989-05-01\",\"1989-04-01\",\"1989-03-01\",\"1989-02-01\",\"1989-01-01\",\"1988-12-01\",\"1988-11-01\",\"1988-10-01\",\"1988-09-01\",\"1988-08-01\",\"1988-07-01\",\"1988-06-01\",\"1988-05-01\",\"1988-04-01\",\"1988-03-01\",\"1988-02-01\",\"1988-01-01\",\"1987-12-01\",\"1987-11-01\",\"1987-10-01\",\"1987-09-01\",\"1987-08-01\",\"1987-07-01\",\"1987-06-01\",\"1987-05-01\",\"1987-04-01\",\"1987-03-01\",\"1987-02-01\",\"1987-01-01\",\"1986-12-01\",\"1986-11-01\",\"1986-10-01\",\"1986-09-01\",\"1986-08-01\",\"1986-07-01\",\"1986-06-01\",\"1986-05-01\",\"1986-04-01\",\"1986-03-01\",\"1986-02-01\",\"1986-01-01\",\"1985-12-01\",\"1985-11-01\",\"1985-10-01\",\"1985-09-01\",\"1985-08-01\",\"1985-07-01\",\"1985-06-01\",\"1985-05-01\",\"1985-04-01\",\"1985-03-01\",\"1985-02-01\",\"1985-01-01\",\"1984-12-01\",\"1984-11-01\",\"1984-10-01\",\"1984-09-01\",\"1984-08-01\",\"1984-07-01\",\"1984-06-01\",\"1984-05-01\",\"1984-04-01\",\"1984-03-01\",\"1984-02-01\",\"1984-01-01\",\"1983-12-01\",\"1983-11-01\",\"1983-10-01\",\"1983-09-01\",\"1983-08-01\",\"1983-07-01\",\"1983-06-01\",\"1983-05-01\",\"1983-04-01\",\"1983-03-01\",\"1983-02-01\",\"1983-01-01\",\"1982-12-01\",\"1982-11-01\",\"1982-10-01\",\"1982-09-01\",\"1982-08-01\",\"1982-07-01\",\"1982-06-01\",\"1982-05-01\",\"1982-04-01\",\"1982-03-01\",\"1982-02-01\",\"1982-01-01\",\"1981-12-01\",\"1981-11-01\",\"1981-10-01\",\"1981-09-01\",\"1981-08-01\",\"1981-07-01\",\"1981-06-01\",\"1981-05-01\",\"1981-04-01\",\"1981-03-01\",\"1981-02-01\",\"1981-01-01\",\"1980-12-01\",\"1980-11-01\",\"1980-10-01\",\"1980-09-01\",\"1980-08-01\",\"1980-07-01\",\"1980-06-01\",\"1980-05-01\",\"1980-04-01\",\"1980-03-01\",\"1980-02-01\",\"1980-01-01\",\"1979-12-01\",\"1979-11-01\",\"1979-10-01\",\"1979-09-01\",\"1979-08-01\",\"1979-07-01\",\"1979-06-01\",\"1979-05-01\",\"1979-04-01\",\"1979-03-01\",\"1979-02-01\",\"1979-01-01\",\"1978-12-01\",\"1978-11-01\",\"1978-10-01\",\"1978-09-01\",\"1978-08-01\",\"1978-07-01\",\"1978-06-01\",\"1978-05-01\",\"1978-04-01\",\"1978-03-01\",\"1978-02-01\",\"1978-01-01\",\"1977-12-01\",\"1977-11-01\",\"1977-10-01\",\"1977-09-01\",\"1977-08-01\",\"1977-07-01\",\"1977-06-01\",\"1977-05-01\",\"1977-04-01\",\"1977-03-01\",\"1977-02-01\",\"1977-01-01\",\"1976-12-01\",\"1976-11-01\",\"1976-10-01\",\"1976-09-01\",\"1976-08-01\",\"1976-07-01\",\"1976-06-01\",\"1976-05-01\",\"1976-04-01\",\"1976-03-01\",\"1976-02-01\",\"1976-01-01\",\"1975-12-01\",\"1975-11-01\",\"1975-10-01\",\"1975-09-01\",\"1975-08-01\",\"1975-07-01\",\"1975-06-01\",\"1975-05-01\",\"1975-04-01\",\"1975-03-01\",\"1975-02-01\",\"1975-01-01\",\"1974-12-01\",\"1974-11-01\",\"1974-10-01\",\"1974-09-01\",\"1974-08-01\",\"1974-07-01\",\"1974-06-01\",\"1974-05-01\",\"1974-04-01\",\"1974-03-01\",\"1974-02-01\",\"1974-01-01\",\"1973-12-01\",\"1973-11-01\",\"1973-10-01\",\"1973-09-01\",\"1973-08-01\",\"1973-07-01\",\"1973-06-01\",\"1973-05-01\",\"1973-04-01\",\"1973-03-01\",\"1973-02-01\",\"1973-01-01\",\"1972-12-01\",\"1972-11-01\",\"1972-10-01\",\"1972-09-01\",\"1972-08-01\",\"1972-07-01\",\"1972-06-01\",\"1972-05-01\",\"1972-04-01\",\"1972-03-01\",\"1972-02-01\",\"1972-01-01\",\"1971-12-01\",\"1971-11-01\",\"1971-10-01\",\"1971-09-01\",\"1971-08-01\",\"1971-07-01\",\"1971-06-01\",\"1971-05-01\",\"1971-04-01\",\"1971-03-01\",\"1971-02-01\",\"1971-01-01\",\"1970-12-01\",\"1970-11-01\",\"1970-10-01\",\"1970-09-01\",\"1970-08-01\",\"1970-07-01\",\"1970-06-01\",\"1970-05-01\",\"1970-04-01\",\"1970-03-01\",\"1970-02-01\",\"1970-01-01\",\"1969-12-01\",\"1969-11-01\",\"1969-10-01\",\"1969-09-01\",\"1969-08-01\",\"1969-07-01\",\"1969-06-01\",\"1969-05-01\",\"1969-04-01\",\"1969-03-01\",\"1969-02-01\",\"1969-01-01\",\"1968-12-01\",\"1968-11-01\",\"1968-10-01\",\"1968-09-01\",\"1968-08-01\",\"1968-07-01\",\"1968-06-01\",\"1968-05-01\",\"1968-04-01\",\"1968-03-01\",\"1968-02-01\",\"1968-01-01\",\"1967-12-01\",\"1967-11-01\",\"1967-10-01\",\"1967-09-01\",\"1967-08-01\",\"1967-07-01\",\"1967-06-01\",\"1967-05-01\",\"1967-04-01\",\"1967-03-01\",\"1967-02-01\",\"1967-01-01\",\"1966-12-01\",\"1966-11-01\",\"1966-10-01\",\"1966-09-01\",\"1966-08-01\",\"1966-07-01\",\"1966-06-01\",\"1966-05-01\",\"1966-04-01\",\"1966-03-01\",\"1966-02-01\",\"1966-01-01\",\"1965-12-01\",\"1965-11-01\",\"1965-10-01\",\"1965-09-01\",\"1965-08-01\",\"1965-07-01\",\"1965-06-01\",\"1965-05-01\",\"1965-04-01\",\"1965-03-01\",\"1965-02-01\",\"1965-01-01\",\"1964-12-01\",\"1964-11-01\",\"1964-10-01\",\"1964-09-01\",\"1964-08-01\",\"1964-07-01\",\"1964-06-01\",\"1964-05-01\",\"1964-04-01\",\"1964-03-01\",\"1964-02-01\",\"1964-01-01\",\"1963-12-01\",\"1963-11-01\",\"1963-10-01\",\"1963-09-01\",\"1963-08-01\",\"1963-07-01\",\"1963-06-01\",\"1963-05-01\",\"1963-04-01\",\"1963-03-01\",\"1963-02-01\",\"1963-01-01\",\"1962-12-01\",\"1962-11-01\",\"1962-10-01\",\"1962-09-01\",\"1962-08-01\",\"1962-07-01\",\"1962-06-01\",\"1962-05-01\",\"1962-04-01\",\"1962-03-01\",\"1962-02-01\",\"1962-01-01\",\"1961-12-01\",\"1961-11-01\",\"1961-10-01\",\"1961-09-01\",\"1961-08-01\",\"1961-07-01\",\"1961-06-01\",\"1961-05-01\",\"1961-04-01\",\"1961-03-01\",\"1961-02-01\",\"1961-01-01\",\"1960-12-01\",\"1960-11-01\",\"1960-10-01\",\"1960-09-01\",\"1960-08-01\",\"1960-07-01\",\"1960-06-01\",\"1960-05-01\",\"1960-04-01\",\"1960-03-01\",\"1960-02-01\",\"1960-01-01\",\"1959-12-01\",\"1959-11-01\",\"1959-10-01\",\"1959-09-01\",\"1959-08-01\",\"1959-07-01\",\"1959-06-01\",\"1959-05-01\",\"1959-04-01\",\"1959-03-01\",\"1959-02-01\",\"1959-01-01\",\"1958-12-01\",\"1958-11-01\",\"1958-10-01\",\"1958-09-01\",\"1958-08-01\",\"1958-07-01\",\"1958-06-01\",\"1958-05-01\",\"1958-04-01\",\"1958-03-01\",\"1958-02-01\",\"1958-01-01\",\"1957-12-01\",\"1957-11-01\",\"1957-10-01\",\"1957-09-01\",\"1957-08-01\",\"1957-07-01\",\"1957-06-01\",\"1957-05-01\",\"1957-04-01\",\"1957-03-01\",\"1957-02-01\",\"1957-01-01\",\"1956-12-01\",\"1956-11-01\",\"1956-10-01\",\"1956-09-01\",\"1956-08-01\",\"1956-07-01\",\"1956-06-01\",\"1956-05-01\",\"1956-04-01\",\"1956-03-01\",\"1956-02-01\",\"1956-01-01\",\"1955-12-01\",\"1955-11-01\",\"1955-10-01\",\"1955-09-01\",\"1955-08-01\",\"1955-07-01\",\"1955-06-01\",\"1955-05-01\",\"1955-04-01\",\"1955-03-01\",\"1955-02-01\",\"1955-01-01\",\"1954-12-01\",\"1954-11-01\",\"1954-10-01\",\"1954-09-01\",\"1954-08-01\",\"1954-07-01\",\"1954-06-01\",\"1954-05-01\",\"1954-04-01\",\"1954-03-01\",\"1954-02-01\",\"1954-01-01\",\"1953-12-01\",\"1953-11-01\",\"1953-10-01\",\"1953-09-01\",\"1953-08-01\",\"1953-07-01\",\"1953-06-01\",\"1953-05-01\",\"1953-04-01\",\"1953-03-01\",\"1953-02-01\",\"1953-01-01\",\"1952-12-01\",\"1952-11-01\",\"1952-10-01\",\"1952-09-01\",\"1952-08-01\",\"1952-07-01\",\"1952-06-01\",\"1952-05-01\",\"1952-04-01\",\"1952-03-01\",\"1952-02-01\",\"1952-01-01\",\"1951-12-01\",\"1951-11-01\",\"1951-10-01\",\"1951-09-01\",\"1951-08-01\",\"1951-07-01\",\"1951-06-01\",\"1951-05-01\",\"1951-04-01\",\"1951-03-01\",\"1951-02-01\",\"1951-01-01\",\"1950-12-01\",\"1950-11-01\",\"1950-10-01\",\"1950-09-01\",\"1950-08-01\",\"1950-07-01\",\"1950-06-01\",\"1950-05-01\",\"1950-04-01\",\"1950-03-01\",\"1950-02-01\",\"1950-01-01\",\"1949-12-01\",\"1949-11-01\",\"1949-10-01\",\"1949-09-01\",\"1949-08-01\",\"1949-07-01\",\"1949-06-01\",\"1949-05-01\",\"1949-04-01\",\"1949-03-01\",\"1949-02-01\",\"1949-01-01\",\"1948-12-01\",\"1948-11-01\",\"1948-10-01\",\"1948-09-01\",\"1948-08-01\",\"1948-07-01\",\"1948-06-01\",\"1948-05-01\",\"1948-04-01\",\"1948-03-01\",\"1948-02-01\",\"1948-01-01\"],\"xaxis\":\"x\",\"y\":[3.7,3.7,3.5,3.7,3.5,3.6,3.6,3.6,3.6,3.8,4.0,3.9,4.2,4.6,4.7,5.2,5.4,5.9,5.8,6.0,6.0,6.2,6.4,6.7,6.7,6.9,7.9,8.4,10.2,11.0,13.2,14.7,4.4,3.5,3.5,3.6,3.6,3.6,3.5,3.7,3.7,3.6,3.6,3.6,3.8,3.8,4.0,3.9,3.8,3.8,3.7,3.8,3.8,4.0,3.8,4.0,4.0,4.1,4.0,4.1,4.2,4.2,4.3,4.4,4.3,4.3,4.4,4.4,4.4,4.6,4.7,4.7,4.7,4.9,5.0,4.9,4.8,4.9,4.8,5.1,5.0,4.9,4.8,5.0,5.1,5.0,5.0,5.1,5.2,5.3,5.6,5.4,5.4,5.5,5.7,5.6,5.8,5.7,5.9,6.1,6.2,6.1,6.3,6.2,6.7,6.7,6.6,6.7,6.9,7.2,7.2,7.2,7.3,7.5,7.5,7.6,7.5,7.7,8.0,7.9,7.7,7.8,7.8,8.1,8.2,8.2,8.2,8.2,8.2,8.3,8.3,8.5,8.6,8.8,9.0,9.0,9.0,9.1,9.0,9.1,9.0,9.0,9.1,9.3,9.8,9.4,9.5,9.5,9.4,9.4,9.6,9.9,9.9,9.8,9.8,9.9,9.9,10.0,9.8,9.6,9.5,9.5,9.4,9.0,8.7,8.3,7.8,7.3,6.8,6.5,6.1,6.1,5.8,5.6,5.4,5.0,5.1,4.9,5.0,5.0,4.7,4.7,4.7,4.6,4.7,4.6,4.4,4.5,4.4,4.5,4.6,4.4,4.5,4.4,4.5,4.7,4.7,4.6,4.6,4.7,4.7,4.8,4.7,4.9,5.0,5.0,5.0,4.9,5.0,5.0,5.1,5.2,5.2,5.4,5.3,5.4,5.4,5.5,5.4,5.4,5.5,5.6,5.6,5.6,5.8,5.6,5.7,5.7,5.8,6.0,6.1,6.1,6.2,6.3,6.1,6.0,5.9,5.9,5.8,6.0,5.9,5.7,5.7,5.7,5.8,5.8,5.8,5.9,5.7,5.7,5.7,5.7,5.5,5.3,5.0,4.9,4.6,4.5,4.3,4.4,4.3,4.2,4.2,3.9,3.9,3.9,3.9,4.1,4.0,4.0,4.0,3.8,4.0,4.1,4.0,4.0,4.1,4.1,4.2,4.2,4.3,4.3,4.2,4.3,4.2,4.4,4.3,4.4,4.4,4.5,4.6,4.5,4.5,4.5,4.4,4.3,4.7,4.6,4.6,4.7,4.6,4.7,4.9,4.8,4.9,5.0,4.9,5.1,5.2,5.2,5.3,5.4,5.4,5.2,5.2,5.1,5.5,5.3,5.6,5.6,5.5,5.5,5.6,5.6,5.6,5.5,5.6,5.7,5.7,5.6,5.6,5.8,5.4,5.4,5.6,5.5,5.6,5.8,5.9,6.0,6.1,6.1,6.1,6.4,6.5,6.6,6.6,6.5,6.6,6.8,6.7,6.8,6.9,7.0,7.1,7.1,7.0,7.1,7.3,7.4,7.4,7.3,7.6,7.6,7.7,7.8,7.6,7.4,7.4,7.4,7.3,7.3,7.0,7.0,6.9,6.9,6.8,6.9,6.9,6.7,6.8,6.6,6.4,6.3,6.2,5.9,5.9,5.7,5.5,5.2,5.4,5.4,5.2,5.3,5.4,5.4,5.4,5.3,5.3,5.2,5.2,5.3,5.2,5.2,5.0,5.2,5.4,5.3,5.3,5.4,5.4,5.6,5.4,5.4,5.6,5.4,5.7,5.7,5.7,5.7,5.8,6.0,5.9,6.0,6.1,6.2,6.3,6.3,6.6,6.6,6.6,6.6,6.9,7.0,7.0,6.9,7.0,7.2,7.2,7.1,7.2,7.2,6.7,7.0,7.0,7.1,7.1,7.1,7.4,7.4,7.2,7.3,7.2,7.2,7.3,7.3,7.2,7.4,7.3,7.5,7.5,7.2,7.4,7.7,7.8,7.8,8.0,8.3,8.5,8.8,9.2,9.5,9.4,10.1,10.1,10.2,10.3,10.4,10.4,10.8,10.8,10.4,10.1,9.8,9.8,9.6,9.4,9.3,9.0,8.9,8.6,8.5,8.3,7.9,7.6,7.4,7.2,7.5,7.5,7.2,7.4,7.4,7.5,7.2,7.5,7.5,7.5,7.7,7.8,7.6,7.5,6.9,6.3,6.3,6.3,6.0,5.9,6.0,5.9,6.0,5.7,5.7,5.6,5.8,5.8,5.9,5.9,6.0,5.9,5.8,6.0,5.9,6.2,5.9,6.0,6.1,6.3,6.3,6.4,6.4,6.8,6.8,6.8,7.0,6.9,7.2,7.0,7.2,7.4,7.6,7.5,7.8,7.8,7.7,7.6,7.8,7.8,7.6,7.4,7.7,7.6,7.7,7.9,8.2,8.3,8.4,8.4,8.4,8.6,8.8,9.0,8.8,8.6,8.1,8.1,7.2,6.6,6.0,5.9,5.5,5.5,5.4,5.1,5.1,5.1,5.2,5.1,4.9,4.8,4.6,4.8,4.8,4.8,4.9,4.9,5.0,4.9,5.0,4.9,5.2,5.3,5.6,5.5,5.6,5.6,5.7,5.7,5.7,5.8,5.7,5.8,6.0,6.0,5.8,6.0,6.1,6.0,5.9,5.9,5.9,6.0,5.9,5.9,6.1,5.9,5.5,5.4,5.1,5.0,4.9,4.8,4.6,4.4,4.2,3.9,3.5,3.5,3.7,3.7,3.5,3.5,3.5,3.4,3.4,3.4,3.4,3.4,3.4,3.4,3.4,3.4,3.5,3.7,3.7,3.5,3.5,3.7,3.8,3.7,3.8,3.9,4.0,3.8,3.8,3.8,3.9,3.8,3.8,3.8,3.8,3.9,3.8,3.6,3.7,3.7,3.8,3.8,3.8,3.9,3.8,3.8,3.8,4.0,4.0,4.1,4.2,4.3,4.4,4.4,4.6,4.6,4.8,4.7,5.1,4.9,5.0,4.8,5.1,5.1,5.0,4.9,5.2,5.1,5.3,5.4,5.4,5.6,5.5,5.7,5.5,5.5,5.4,5.6,5.6,5.9,5.7,5.7,5.9,5.7,5.5,5.7,5.4,5.6,5.7,5.4,5.5,5.5,5.6,5.6,5.5,5.8,6.0,6.1,6.5,6.7,6.6,7.0,6.9,7.1,7.0,6.9,6.9,6.6,6.6,6.1,6.1,5.5,5.6,5.5,5.4,5.1,5.2,5.4,4.8,5.2,5.3,5.8,5.7,5.5,5.2,5.1,5.0,5.1,5.2,5.6,5.9,6.0,6.2,6.2,6.7,7.1,7.4,7.5,7.3,7.4,7.4,6.7,6.4,5.8,5.2,5.1,4.5,4.4,4.1,4.2,4.3,4.1,3.9,3.7,3.9,4.2,4.2,4.3,3.9,3.9,4.1,4.4,4.3,4.3,4.0,4.2,3.9,4.0,4.2,4.2,4.3,4.1,4.2,4.0,4.2,4.3,4.7,4.6,4.7,4.9,5.0,5.3,5.7,6.1,6.0,5.8,5.6,5.9,5.9,5.7,5.2,4.9,4.5,3.5,3.1,2.9,2.7,2.6,2.5,2.5,2.7,2.6,2.6,2.9,2.7,2.8,3.0,3.1,3.4,3.2,3.0,3.0,2.9,2.9,3.1,3.2,3.1,3.5,3.5,3.3,3.1,3.1,3.2,3.0,3.1,3.4,3.4,3.7,4.3,4.2,4.2,4.4,4.5,5.0,5.4,5.5,5.8,6.3,6.4,6.5,6.6,6.4,7.9,6.6,6.8,6.7,6.2,6.1,5.3,5.0,4.7,4.3,4.0,3.8,3.7,3.8,3.9,3.6,3.6,3.5,3.9,4.0,3.8,3.4],\"yaxis\":\"y\",\"type\":\"scatter\"}],                        {\"template\":{\"data\":{\"bar\":[{\"error_x\":{\"color\":\"#2a3f5f\"},\"error_y\":{\"color\":\"#2a3f5f\"},\"marker\":{\"line\":{\"color\":\"#E5ECF6\",\"width\":0.5},\"pattern\":{\"fillmode\":\"overlay\",\"size\":10,\"solidity\":0.2}},\"type\":\"bar\"}],\"barpolar\":[{\"marker\":{\"line\":{\"color\":\"#E5ECF6\",\"width\":0.5},\"pattern\":{\"fillmode\":\"overlay\",\"size\":10,\"solidity\":0.2}},\"type\":\"barpolar\"}],\"carpet\":[{\"aaxis\":{\"endlinecolor\":\"#2a3f5f\",\"gridcolor\":\"white\",\"linecolor\":\"white\",\"minorgridcolor\":\"white\",\"startlinecolor\":\"#2a3f5f\"},\"baxis\":{\"endlinecolor\":\"#2a3f5f\",\"gridcolor\":\"white\",\"linecolor\":\"white\",\"minorgridcolor\":\"white\",\"startlinecolor\":\"#2a3f5f\"},\"type\":\"carpet\"}],\"choropleth\":[{\"colorbar\":{\"outlinewidth\":0,\"ticks\":\"\"},\"type\":\"choropleth\"}],\"contour\":[{\"colorbar\":{\"outlinewidth\":0,\"ticks\":\"\"},\"colorscale\":[[0.0,\"#0d0887\"],[0.1111111111111111,\"#46039f\"],[0.2222222222222222,\"#7201a8\"],[0.3333333333333333,\"#9c179e\"],[0.4444444444444444,\"#bd3786\"],[0.5555555555555556,\"#d8576b\"],[0.6666666666666666,\"#ed7953\"],[0.7777777777777778,\"#fb9f3a\"],[0.8888888888888888,\"#fdca26\"],[1.0,\"#f0f921\"]],\"type\":\"contour\"}],\"contourcarpet\":[{\"colorbar\":{\"outlinewidth\":0,\"ticks\":\"\"},\"type\":\"contourcarpet\"}],\"heatmap\":[{\"colorbar\":{\"outlinewidth\":0,\"ticks\":\"\"},\"colorscale\":[[0.0,\"#0d0887\"],[0.1111111111111111,\"#46039f\"],[0.2222222222222222,\"#7201a8\"],[0.3333333333333333,\"#9c179e\"],[0.4444444444444444,\"#bd3786\"],[0.5555555555555556,\"#d8576b\"],[0.6666666666666666,\"#ed7953\"],[0.7777777777777778,\"#fb9f3a\"],[0.8888888888888888,\"#fdca26\"],[1.0,\"#f0f921\"]],\"type\":\"heatmap\"}],\"heatmapgl\":[{\"colorbar\":{\"outlinewidth\":0,\"ticks\":\"\"},\"colorscale\":[[0.0,\"#0d0887\"],[0.1111111111111111,\"#46039f\"],[0.2222222222222222,\"#7201a8\"],[0.3333333333333333,\"#9c179e\"],[0.4444444444444444,\"#bd3786\"],[0.5555555555555556,\"#d8576b\"],[0.6666666666666666,\"#ed7953\"],[0.7777777777777778,\"#fb9f3a\"],[0.8888888888888888,\"#fdca26\"],[1.0,\"#f0f921\"]],\"type\":\"heatmapgl\"}],\"histogram\":[{\"marker\":{\"pattern\":{\"fillmode\":\"overlay\",\"size\":10,\"solidity\":0.2}},\"type\":\"histogram\"}],\"histogram2d\":[{\"colorbar\":{\"outlinewidth\":0,\"ticks\":\"\"},\"colorscale\":[[0.0,\"#0d0887\"],[0.1111111111111111,\"#46039f\"],[0.2222222222222222,\"#7201a8\"],[0.3333333333333333,\"#9c179e\"],[0.4444444444444444,\"#bd3786\"],[0.5555555555555556,\"#d8576b\"],[0.6666666666666666,\"#ed7953\"],[0.7777777777777778,\"#fb9f3a\"],[0.8888888888888888,\"#fdca26\"],[1.0,\"#f0f921\"]],\"type\":\"histogram2d\"}],\"histogram2dcontour\":[{\"colorbar\":{\"outlinewidth\":0,\"ticks\":\"\"},\"colorscale\":[[0.0,\"#0d0887\"],[0.1111111111111111,\"#46039f\"],[0.2222222222222222,\"#7201a8\"],[0.3333333333333333,\"#9c179e\"],[0.4444444444444444,\"#bd3786\"],[0.5555555555555556,\"#d8576b\"],[0.6666666666666666,\"#ed7953\"],[0.7777777777777778,\"#fb9f3a\"],[0.8888888888888888,\"#fdca26\"],[1.0,\"#f0f921\"]],\"type\":\"histogram2dcontour\"}],\"mesh3d\":[{\"colorbar\":{\"outlinewidth\":0,\"ticks\":\"\"},\"type\":\"mesh3d\"}],\"parcoords\":[{\"line\":{\"colorbar\":{\"outlinewidth\":0,\"ticks\":\"\"}},\"type\":\"parcoords\"}],\"pie\":[{\"automargin\":true,\"type\":\"pie\"}],\"scatter\":[{\"marker\":{\"colorbar\":{\"outlinewidth\":0,\"ticks\":\"\"}},\"type\":\"scatter\"}],\"scatter3d\":[{\"line\":{\"colorbar\":{\"outlinewidth\":0,\"ticks\":\"\"}},\"marker\":{\"colorbar\":{\"outlinewidth\":0,\"ticks\":\"\"}},\"type\":\"scatter3d\"}],\"scattercarpet\":[{\"marker\":{\"colorbar\":{\"outlinewidth\":0,\"ticks\":\"\"}},\"type\":\"scattercarpet\"}],\"scattergeo\":[{\"marker\":{\"colorbar\":{\"outlinewidth\":0,\"ticks\":\"\"}},\"type\":\"scattergeo\"}],\"scattergl\":[{\"marker\":{\"colorbar\":{\"outlinewidth\":0,\"ticks\":\"\"}},\"type\":\"scattergl\"}],\"scattermapbox\":[{\"marker\":{\"colorbar\":{\"outlinewidth\":0,\"ticks\":\"\"}},\"type\":\"scattermapbox\"}],\"scatterpolar\":[{\"marker\":{\"colorbar\":{\"outlinewidth\":0,\"ticks\":\"\"}},\"type\":\"scatterpolar\"}],\"scatterpolargl\":[{\"marker\":{\"colorbar\":{\"outlinewidth\":0,\"ticks\":\"\"}},\"type\":\"scatterpolargl\"}],\"scatterternary\":[{\"marker\":{\"colorbar\":{\"outlinewidth\":0,\"ticks\":\"\"}},\"type\":\"scatterternary\"}],\"surface\":[{\"colorbar\":{\"outlinewidth\":0,\"ticks\":\"\"},\"colorscale\":[[0.0,\"#0d0887\"],[0.1111111111111111,\"#46039f\"],[0.2222222222222222,\"#7201a8\"],[0.3333333333333333,\"#9c179e\"],[0.4444444444444444,\"#bd3786\"],[0.5555555555555556,\"#d8576b\"],[0.6666666666666666,\"#ed7953\"],[0.7777777777777778,\"#fb9f3a\"],[0.8888888888888888,\"#fdca26\"],[1.0,\"#f0f921\"]],\"type\":\"surface\"}],\"table\":[{\"cells\":{\"fill\":{\"color\":\"#EBF0F8\"},\"line\":{\"color\":\"white\"}},\"header\":{\"fill\":{\"color\":\"#C8D4E3\"},\"line\":{\"color\":\"white\"}},\"type\":\"table\"}]},\"layout\":{\"annotationdefaults\":{\"arrowcolor\":\"#2a3f5f\",\"arrowhead\":0,\"arrowwidth\":1},\"autotypenumbers\":\"strict\",\"coloraxis\":{\"colorbar\":{\"outlinewidth\":0,\"ticks\":\"\"}},\"colorscale\":{\"diverging\":[[0,\"#8e0152\"],[0.1,\"#c51b7d\"],[0.2,\"#de77ae\"],[0.3,\"#f1b6da\"],[0.4,\"#fde0ef\"],[0.5,\"#f7f7f7\"],[0.6,\"#e6f5d0\"],[0.7,\"#b8e186\"],[0.8,\"#7fbc41\"],[0.9,\"#4d9221\"],[1,\"#276419\"]],\"sequential\":[[0.0,\"#0d0887\"],[0.1111111111111111,\"#46039f\"],[0.2222222222222222,\"#7201a8\"],[0.3333333333333333,\"#9c179e\"],[0.4444444444444444,\"#bd3786\"],[0.5555555555555556,\"#d8576b\"],[0.6666666666666666,\"#ed7953\"],[0.7777777777777778,\"#fb9f3a\"],[0.8888888888888888,\"#fdca26\"],[1.0,\"#f0f921\"]],\"sequentialminus\":[[0.0,\"#0d0887\"],[0.1111111111111111,\"#46039f\"],[0.2222222222222222,\"#7201a8\"],[0.3333333333333333,\"#9c179e\"],[0.4444444444444444,\"#bd3786\"],[0.5555555555555556,\"#d8576b\"],[0.6666666666666666,\"#ed7953\"],[0.7777777777777778,\"#fb9f3a\"],[0.8888888888888888,\"#fdca26\"],[1.0,\"#f0f921\"]]},\"colorway\":[\"#636efa\",\"#EF553B\",\"#00cc96\",\"#ab63fa\",\"#FFA15A\",\"#19d3f3\",\"#FF6692\",\"#B6E880\",\"#FF97FF\",\"#FECB52\"],\"font\":{\"color\":\"#2a3f5f\"},\"geo\":{\"bgcolor\":\"white\",\"lakecolor\":\"white\",\"landcolor\":\"#E5ECF6\",\"showlakes\":true,\"showland\":true,\"subunitcolor\":\"white\"},\"hoverlabel\":{\"align\":\"left\"},\"hovermode\":\"closest\",\"mapbox\":{\"style\":\"light\"},\"paper_bgcolor\":\"white\",\"plot_bgcolor\":\"#E5ECF6\",\"polar\":{\"angularaxis\":{\"gridcolor\":\"white\",\"linecolor\":\"white\",\"ticks\":\"\"},\"bgcolor\":\"#E5ECF6\",\"radialaxis\":{\"gridcolor\":\"white\",\"linecolor\":\"white\",\"ticks\":\"\"}},\"scene\":{\"xaxis\":{\"backgroundcolor\":\"#E5ECF6\",\"gridcolor\":\"white\",\"gridwidth\":2,\"linecolor\":\"white\",\"showbackground\":true,\"ticks\":\"\",\"zerolinecolor\":\"white\"},\"yaxis\":{\"backgroundcolor\":\"#E5ECF6\",\"gridcolor\":\"white\",\"gridwidth\":2,\"linecolor\":\"white\",\"showbackground\":true,\"ticks\":\"\",\"zerolinecolor\":\"white\"},\"zaxis\":{\"backgroundcolor\":\"#E5ECF6\",\"gridcolor\":\"white\",\"gridwidth\":2,\"linecolor\":\"white\",\"showbackground\":true,\"ticks\":\"\",\"zerolinecolor\":\"white\"}},\"shapedefaults\":{\"line\":{\"color\":\"#2a3f5f\"}},\"ternary\":{\"aaxis\":{\"gridcolor\":\"white\",\"linecolor\":\"white\",\"ticks\":\"\"},\"baxis\":{\"gridcolor\":\"white\",\"linecolor\":\"white\",\"ticks\":\"\"},\"bgcolor\":\"#E5ECF6\",\"caxis\":{\"gridcolor\":\"white\",\"linecolor\":\"white\",\"ticks\":\"\"}},\"title\":{\"x\":0.05},\"xaxis\":{\"automargin\":true,\"gridcolor\":\"white\",\"linecolor\":\"white\",\"ticks\":\"\",\"title\":{\"standoff\":15},\"zerolinecolor\":\"white\",\"zerolinewidth\":2},\"yaxis\":{\"automargin\":true,\"gridcolor\":\"white\",\"linecolor\":\"white\",\"ticks\":\"\",\"title\":{\"standoff\":15},\"zerolinecolor\":\"white\",\"zerolinewidth\":2}}},\"xaxis\":{\"anchor\":\"y\",\"domain\":[0.0,1.0],\"title\":{\"text\":\"Month\"}},\"yaxis\":{\"anchor\":\"x\",\"domain\":[0.0,1.0],\"title\":{\"text\":\"Unemployment Rate\"}},\"legend\":{\"tracegroupgap\":0},\"title\":{\"text\":\"United States Unemployment Rate over time\"}},                        {\"responsive\": true}                    ).then(function(){\n",
              "                            \n",
              "var gd = document.getElementById('b1cf087f-cff6-4d68-8b29-2df0c08eeaa3');\n",
              "var x = new MutationObserver(function (mutations, observer) {{\n",
              "        var display = window.getComputedStyle(gd).display;\n",
              "        if (!display || display === 'none') {{\n",
              "            console.log([gd, 'removed!']);\n",
              "            Plotly.purge(gd);\n",
              "            observer.disconnect();\n",
              "        }}\n",
              "}});\n",
              "\n",
              "// Listen for the removal of the full notebook cells\n",
              "var notebookContainer = gd.closest('#notebook-container');\n",
              "if (notebookContainer) {{\n",
              "    x.observe(notebookContainer, {childList: true});\n",
              "}}\n",
              "\n",
              "// Listen for the clearing of the current output cell\n",
              "var outputEl = gd.closest('.output');\n",
              "if (outputEl) {{\n",
              "    x.observe(outputEl, {childList: true});\n",
              "}}\n",
              "\n",
              "                        })                };                            </script>        </div>\n",
              "</body>\n",
              "</html>"
            ]
          },
          "metadata": {}
        }
      ]
    }
  ]
}