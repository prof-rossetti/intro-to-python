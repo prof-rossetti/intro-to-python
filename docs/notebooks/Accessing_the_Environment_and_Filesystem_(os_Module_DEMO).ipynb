{
  "nbformat": 4,
  "nbformat_minor": 0,
  "metadata": {
    "colab": {
      "provenance": [],
      "authorship_tag": "ABX9TyMPDHgYvxnnrXxmMsr12uhM",
      "include_colab_link": true
    },
    "kernelspec": {
      "name": "python3",
      "display_name": "Python 3"
    },
    "language_info": {
      "name": "python"
    }
  },
  "cells": [
    {
      "cell_type": "markdown",
      "metadata": {
        "id": "view-in-github",
        "colab_type": "text"
      },
      "source": [
        "<a href=\"https://colab.research.google.com/github/prof-rossetti/intro-to-python/blob/main/notebooks/Accessing_the_Environment_and_Filesystem_(os_Module_DEMO).ipynb\" target=\"_parent\"><img src=\"https://colab.research.google.com/assets/colab-badge.svg\" alt=\"Open In Colab\"/></a>"
      ]
    },
    {
      "cell_type": "markdown",
      "metadata": {
        "id": "LtvEN1HbUIhI"
      },
      "source": [
        "## Filesystem Operations (`os` Module)"
      ]
    },
    {
      "cell_type": "markdown",
      "metadata": {
        "id": "BGjW1GpqSX9-"
      },
      "source": [
        "References:\n",
        "\n",
        "  + https://github.com/prof-rossetti/intro-to-python/blob/main/notes/python/modules/os.md\n",
        "  + https://docs.python.org/3/library/os.html\n"
      ]
    },
    {
      "cell_type": "code",
      "metadata": {
        "id": "xlquAuOIQ8bn"
      },
      "source": [
        "import os\n",
        "from pprint import pprint\n",
        "\n",
        "#print(dir(os))\n",
        "#pprint(dir(os))\n",
        "#help(os)"
      ],
      "execution_count": null,
      "outputs": []
    },
    {
      "cell_type": "markdown",
      "metadata": {
        "id": "Asemi3gmXPv8"
      },
      "source": [
        "We have access to the local filesystem surrounding our program. \n",
        "\n",
        "In other words, the program can interact with its surrounding environment.\n",
        "\n",
        "Click the directory-like icon in the left sidebar menu to view the Colab filesystem. Then run these cells below..."
      ]
    },
    {
      "cell_type": "code",
      "metadata": {
        "colab": {
          "base_uri": "https://localhost:8080/"
        },
        "id": "dZQ-OXj6TJ66",
        "outputId": "139b72ce-9f0e-4eed-f307-ad9c1023606a"
      },
      "source": [
        "print(os.getcwd())"
      ],
      "execution_count": null,
      "outputs": [
        {
          "output_type": "stream",
          "name": "stdout",
          "text": [
            "/content\n"
          ]
        }
      ]
    },
    {
      "cell_type": "code",
      "metadata": {
        "colab": {
          "base_uri": "https://localhost:8080/"
        },
        "id": "yIJejVTaTLyL",
        "outputId": "8055d034-ef66-4b87-ff16-9f80599e800d"
      },
      "source": [
        "print(os.listdir(\"/content\"))"
      ],
      "execution_count": null,
      "outputs": [
        {
          "output_type": "stream",
          "name": "stdout",
          "text": [
            "['.config', 'sample_data']\n"
          ]
        }
      ]
    },
    {
      "cell_type": "code",
      "metadata": {
        "colab": {
          "base_uri": "https://localhost:8080/"
        },
        "id": "3xb6BLCITQ4a",
        "outputId": "98b1e847-645a-4300-bbf4-9fdeb1227d1b"
      },
      "source": [
        "print(os.listdir(\"/content/sample_data\"))"
      ],
      "execution_count": null,
      "outputs": [
        {
          "output_type": "stream",
          "name": "stdout",
          "text": [
            "['README.md', 'anscombe.json', 'california_housing_train.csv', 'mnist_test.csv', 'california_housing_test.csv', 'mnist_train_small.csv']\n"
          ]
        }
      ]
    },
    {
      "cell_type": "code",
      "metadata": {
        "colab": {
          "base_uri": "https://localhost:8080/"
        },
        "id": "TbOYS96BT1ab",
        "outputId": "43c8c6ca-b877-40a7-fbe6-a5ed7b544450"
      },
      "source": [
        "print(os.path.isfile(\"/content/sample_data/README.md\"))"
      ],
      "execution_count": null,
      "outputs": [
        {
          "output_type": "stream",
          "name": "stdout",
          "text": [
            "True\n"
          ]
        }
      ]
    },
    {
      "cell_type": "markdown",
      "metadata": {
        "id": "hE1PoEsVbR0l"
      },
      "source": [
        "FYI - We'll later learn how to [read text files](https://github.com/prof-rossetti/intro-to-python/blob/main/notes/python/file-management.md#reading-files) and [read csv files](https://pandas.pydata.org/pandas-docs/stable/reference/api/pandas.read_csv.html) like these."
      ]
    },
    {
      "cell_type": "markdown",
      "source": [
        "## Accessing Data Files (pandas Package)"
      ],
      "metadata": {
        "id": "hm0Xqar9uPP7"
      }
    },
    {
      "cell_type": "markdown",
      "source": [
        "... but here is a quick demo of how to read a CSV data file (we will return to pandas package later):"
      ],
      "metadata": {
        "id": "1n3k61qmJ1zg"
      }
    },
    {
      "cell_type": "code",
      "source": [
        "from pandas import read_csv\n",
        "\n",
        "read_csv(\"sample_data/california_housing_test.csv\")"
      ],
      "metadata": {
        "colab": {
          "base_uri": "https://localhost:8080/",
          "height": 488
        },
        "id": "sUnpooGhuSRD",
        "outputId": "0d36f3eb-d57d-4226-af55-435662598c5c"
      },
      "execution_count": null,
      "outputs": [
        {
          "output_type": "execute_result",
          "data": {
            "text/plain": [
              "      longitude  latitude  ...  median_income  median_house_value\n",
              "0       -122.05     37.37  ...         6.6085            344700.0\n",
              "1       -118.30     34.26  ...         3.5990            176500.0\n",
              "2       -117.81     33.78  ...         5.7934            270500.0\n",
              "3       -118.36     33.82  ...         6.1359            330000.0\n",
              "4       -119.67     36.33  ...         2.9375             81700.0\n",
              "...         ...       ...  ...            ...                 ...\n",
              "2995    -119.86     34.42  ...         1.1790            225000.0\n",
              "2996    -118.14     34.06  ...         3.3906            237200.0\n",
              "2997    -119.70     36.30  ...         2.2895             62000.0\n",
              "2998    -117.12     34.10  ...         3.2708            162500.0\n",
              "2999    -119.63     34.42  ...         8.5608            500001.0\n",
              "\n",
              "[3000 rows x 9 columns]"
            ],
            "text/html": [
              "\n",
              "  <div id=\"df-7579bada-cbc8-42c6-b60e-bacd4b655748\">\n",
              "    <div class=\"colab-df-container\">\n",
              "      <div>\n",
              "<style scoped>\n",
              "    .dataframe tbody tr th:only-of-type {\n",
              "        vertical-align: middle;\n",
              "    }\n",
              "\n",
              "    .dataframe tbody tr th {\n",
              "        vertical-align: top;\n",
              "    }\n",
              "\n",
              "    .dataframe thead th {\n",
              "        text-align: right;\n",
              "    }\n",
              "</style>\n",
              "<table border=\"1\" class=\"dataframe\">\n",
              "  <thead>\n",
              "    <tr style=\"text-align: right;\">\n",
              "      <th></th>\n",
              "      <th>longitude</th>\n",
              "      <th>latitude</th>\n",
              "      <th>housing_median_age</th>\n",
              "      <th>total_rooms</th>\n",
              "      <th>total_bedrooms</th>\n",
              "      <th>population</th>\n",
              "      <th>households</th>\n",
              "      <th>median_income</th>\n",
              "      <th>median_house_value</th>\n",
              "    </tr>\n",
              "  </thead>\n",
              "  <tbody>\n",
              "    <tr>\n",
              "      <th>0</th>\n",
              "      <td>-122.05</td>\n",
              "      <td>37.37</td>\n",
              "      <td>27.0</td>\n",
              "      <td>3885.0</td>\n",
              "      <td>661.0</td>\n",
              "      <td>1537.0</td>\n",
              "      <td>606.0</td>\n",
              "      <td>6.6085</td>\n",
              "      <td>344700.0</td>\n",
              "    </tr>\n",
              "    <tr>\n",
              "      <th>1</th>\n",
              "      <td>-118.30</td>\n",
              "      <td>34.26</td>\n",
              "      <td>43.0</td>\n",
              "      <td>1510.0</td>\n",
              "      <td>310.0</td>\n",
              "      <td>809.0</td>\n",
              "      <td>277.0</td>\n",
              "      <td>3.5990</td>\n",
              "      <td>176500.0</td>\n",
              "    </tr>\n",
              "    <tr>\n",
              "      <th>2</th>\n",
              "      <td>-117.81</td>\n",
              "      <td>33.78</td>\n",
              "      <td>27.0</td>\n",
              "      <td>3589.0</td>\n",
              "      <td>507.0</td>\n",
              "      <td>1484.0</td>\n",
              "      <td>495.0</td>\n",
              "      <td>5.7934</td>\n",
              "      <td>270500.0</td>\n",
              "    </tr>\n",
              "    <tr>\n",
              "      <th>3</th>\n",
              "      <td>-118.36</td>\n",
              "      <td>33.82</td>\n",
              "      <td>28.0</td>\n",
              "      <td>67.0</td>\n",
              "      <td>15.0</td>\n",
              "      <td>49.0</td>\n",
              "      <td>11.0</td>\n",
              "      <td>6.1359</td>\n",
              "      <td>330000.0</td>\n",
              "    </tr>\n",
              "    <tr>\n",
              "      <th>4</th>\n",
              "      <td>-119.67</td>\n",
              "      <td>36.33</td>\n",
              "      <td>19.0</td>\n",
              "      <td>1241.0</td>\n",
              "      <td>244.0</td>\n",
              "      <td>850.0</td>\n",
              "      <td>237.0</td>\n",
              "      <td>2.9375</td>\n",
              "      <td>81700.0</td>\n",
              "    </tr>\n",
              "    <tr>\n",
              "      <th>...</th>\n",
              "      <td>...</td>\n",
              "      <td>...</td>\n",
              "      <td>...</td>\n",
              "      <td>...</td>\n",
              "      <td>...</td>\n",
              "      <td>...</td>\n",
              "      <td>...</td>\n",
              "      <td>...</td>\n",
              "      <td>...</td>\n",
              "    </tr>\n",
              "    <tr>\n",
              "      <th>2995</th>\n",
              "      <td>-119.86</td>\n",
              "      <td>34.42</td>\n",
              "      <td>23.0</td>\n",
              "      <td>1450.0</td>\n",
              "      <td>642.0</td>\n",
              "      <td>1258.0</td>\n",
              "      <td>607.0</td>\n",
              "      <td>1.1790</td>\n",
              "      <td>225000.0</td>\n",
              "    </tr>\n",
              "    <tr>\n",
              "      <th>2996</th>\n",
              "      <td>-118.14</td>\n",
              "      <td>34.06</td>\n",
              "      <td>27.0</td>\n",
              "      <td>5257.0</td>\n",
              "      <td>1082.0</td>\n",
              "      <td>3496.0</td>\n",
              "      <td>1036.0</td>\n",
              "      <td>3.3906</td>\n",
              "      <td>237200.0</td>\n",
              "    </tr>\n",
              "    <tr>\n",
              "      <th>2997</th>\n",
              "      <td>-119.70</td>\n",
              "      <td>36.30</td>\n",
              "      <td>10.0</td>\n",
              "      <td>956.0</td>\n",
              "      <td>201.0</td>\n",
              "      <td>693.0</td>\n",
              "      <td>220.0</td>\n",
              "      <td>2.2895</td>\n",
              "      <td>62000.0</td>\n",
              "    </tr>\n",
              "    <tr>\n",
              "      <th>2998</th>\n",
              "      <td>-117.12</td>\n",
              "      <td>34.10</td>\n",
              "      <td>40.0</td>\n",
              "      <td>96.0</td>\n",
              "      <td>14.0</td>\n",
              "      <td>46.0</td>\n",
              "      <td>14.0</td>\n",
              "      <td>3.2708</td>\n",
              "      <td>162500.0</td>\n",
              "    </tr>\n",
              "    <tr>\n",
              "      <th>2999</th>\n",
              "      <td>-119.63</td>\n",
              "      <td>34.42</td>\n",
              "      <td>42.0</td>\n",
              "      <td>1765.0</td>\n",
              "      <td>263.0</td>\n",
              "      <td>753.0</td>\n",
              "      <td>260.0</td>\n",
              "      <td>8.5608</td>\n",
              "      <td>500001.0</td>\n",
              "    </tr>\n",
              "  </tbody>\n",
              "</table>\n",
              "<p>3000 rows × 9 columns</p>\n",
              "</div>\n",
              "      <button class=\"colab-df-convert\" onclick=\"convertToInteractive('df-7579bada-cbc8-42c6-b60e-bacd4b655748')\"\n",
              "              title=\"Convert this dataframe to an interactive table.\"\n",
              "              style=\"display:none;\">\n",
              "        \n",
              "  <svg xmlns=\"http://www.w3.org/2000/svg\" height=\"24px\"viewBox=\"0 0 24 24\"\n",
              "       width=\"24px\">\n",
              "    <path d=\"M0 0h24v24H0V0z\" fill=\"none\"/>\n",
              "    <path d=\"M18.56 5.44l.94 2.06.94-2.06 2.06-.94-2.06-.94-.94-2.06-.94 2.06-2.06.94zm-11 1L8.5 8.5l.94-2.06 2.06-.94-2.06-.94L8.5 2.5l-.94 2.06-2.06.94zm10 10l.94 2.06.94-2.06 2.06-.94-2.06-.94-.94-2.06-.94 2.06-2.06.94z\"/><path d=\"M17.41 7.96l-1.37-1.37c-.4-.4-.92-.59-1.43-.59-.52 0-1.04.2-1.43.59L10.3 9.45l-7.72 7.72c-.78.78-.78 2.05 0 2.83L4 21.41c.39.39.9.59 1.41.59.51 0 1.02-.2 1.41-.59l7.78-7.78 2.81-2.81c.8-.78.8-2.07 0-2.86zM5.41 20L4 18.59l7.72-7.72 1.47 1.35L5.41 20z\"/>\n",
              "  </svg>\n",
              "      </button>\n",
              "      \n",
              "  <style>\n",
              "    .colab-df-container {\n",
              "      display:flex;\n",
              "      flex-wrap:wrap;\n",
              "      gap: 12px;\n",
              "    }\n",
              "\n",
              "    .colab-df-convert {\n",
              "      background-color: #E8F0FE;\n",
              "      border: none;\n",
              "      border-radius: 50%;\n",
              "      cursor: pointer;\n",
              "      display: none;\n",
              "      fill: #1967D2;\n",
              "      height: 32px;\n",
              "      padding: 0 0 0 0;\n",
              "      width: 32px;\n",
              "    }\n",
              "\n",
              "    .colab-df-convert:hover {\n",
              "      background-color: #E2EBFA;\n",
              "      box-shadow: 0px 1px 2px rgba(60, 64, 67, 0.3), 0px 1px 3px 1px rgba(60, 64, 67, 0.15);\n",
              "      fill: #174EA6;\n",
              "    }\n",
              "\n",
              "    [theme=dark] .colab-df-convert {\n",
              "      background-color: #3B4455;\n",
              "      fill: #D2E3FC;\n",
              "    }\n",
              "\n",
              "    [theme=dark] .colab-df-convert:hover {\n",
              "      background-color: #434B5C;\n",
              "      box-shadow: 0px 1px 3px 1px rgba(0, 0, 0, 0.15);\n",
              "      filter: drop-shadow(0px 1px 2px rgba(0, 0, 0, 0.3));\n",
              "      fill: #FFFFFF;\n",
              "    }\n",
              "  </style>\n",
              "\n",
              "      <script>\n",
              "        const buttonEl =\n",
              "          document.querySelector('#df-7579bada-cbc8-42c6-b60e-bacd4b655748 button.colab-df-convert');\n",
              "        buttonEl.style.display =\n",
              "          google.colab.kernel.accessAllowed ? 'block' : 'none';\n",
              "\n",
              "        async function convertToInteractive(key) {\n",
              "          const element = document.querySelector('#df-7579bada-cbc8-42c6-b60e-bacd4b655748');\n",
              "          const dataTable =\n",
              "            await google.colab.kernel.invokeFunction('convertToInteractive',\n",
              "                                                     [key], {});\n",
              "          if (!dataTable) return;\n",
              "\n",
              "          const docLinkHtml = 'Like what you see? Visit the ' +\n",
              "            '<a target=\"_blank\" href=https://colab.research.google.com/notebooks/data_table.ipynb>data table notebook</a>'\n",
              "            + ' to learn more about interactive tables.';\n",
              "          element.innerHTML = '';\n",
              "          dataTable['output_type'] = 'display_data';\n",
              "          await google.colab.output.renderOutput(dataTable, element);\n",
              "          const docLink = document.createElement('div');\n",
              "          docLink.innerHTML = docLinkHtml;\n",
              "          element.appendChild(docLink);\n",
              "        }\n",
              "      </script>\n",
              "    </div>\n",
              "  </div>\n",
              "  "
            ]
          },
          "metadata": {},
          "execution_count": 6
        }
      ]
    },
    {
      "cell_type": "markdown",
      "metadata": {
        "id": "84_p-1OWUCkc"
      },
      "source": [
        "## Reading Environment Variables (`os` Module)\n",
        "\n",
        "Reference: https://docs.python.org/3/library/os.html#os.environ\n",
        "\n",
        "FYI - there are more variables that provide metadata about the surrounding development environment. We can access them via `os.environ`."
      ]
    },
    {
      "cell_type": "code",
      "metadata": {
        "colab": {
          "base_uri": "https://localhost:8080/"
        },
        "id": "oWyyGcvOUOLb",
        "outputId": "eb394d63-c655-4381-a87e-43d1b95b2d2b"
      },
      "source": [
        "pprint(dict(os.environ))"
      ],
      "execution_count": null,
      "outputs": [
        {
          "output_type": "stream",
          "name": "stdout",
          "text": [
            "{'CLICOLOR': '1',\n",
            " 'CLOUDSDK_CONFIG': '/content/.config',\n",
            " 'CLOUDSDK_PYTHON': 'python3',\n",
            " 'COLAB_GPU': '0',\n",
            " 'CUDA_VERSION': '11.0.3',\n",
            " 'CUDNN_VERSION': '8.0.4.30',\n",
            " 'DATALAB_SETTINGS_OVERRIDES': '{\"kernelManagerProxyPort\":6000,\"kernelManagerProxyHost\":\"172.28.0.3\",\"jupyterArgs\":[\"--ip=\\\\\"172.28.0.2\\\\\"\"],\"debugAdapterMultiplexerPath\":\"/usr/local/bin/dap_multiplexer\",\"enableLsp\":true}',\n",
            " 'DEBIAN_FRONTEND': 'noninteractive',\n",
            " 'ENV': '/root/.bashrc',\n",
            " 'GCE_METADATA_TIMEOUT': '0',\n",
            " 'GCS_READ_CACHE_BLOCK_SIZE_MB': '16',\n",
            " 'GIT_PAGER': 'cat',\n",
            " 'GLIBCPP_FORCE_NEW': '1',\n",
            " 'GLIBCXX_FORCE_NEW': '1',\n",
            " 'HOME': '/root',\n",
            " 'HOSTNAME': '62dd26a5da00',\n",
            " 'JPY_PARENT_PID': '52',\n",
            " 'LANG': 'en_US.UTF-8',\n",
            " 'LAST_FORCED_REBUILD': '20210824',\n",
            " 'LD_LIBRARY_PATH': '/usr/local/nvidia/lib:/usr/local/nvidia/lib64',\n",
            " 'LD_PRELOAD': '/usr/lib/x86_64-linux-gnu/libtcmalloc.so.4',\n",
            " 'LIBRARY_PATH': '/usr/local/cuda/lib64/stubs',\n",
            " 'MPLBACKEND': 'module://ipykernel.pylab.backend_inline',\n",
            " 'NCCL_VERSION': '2.7.8',\n",
            " 'NO_GCE_CHECK': 'True',\n",
            " 'NVIDIA_DRIVER_CAPABILITIES': 'compute,utility',\n",
            " 'NVIDIA_REQUIRE_CUDA': 'cuda>=11.0 brand=tesla,driver>=418,driver<419 '\n",
            "                        'brand=tesla,driver>=440,driver<441 '\n",
            "                        'brand=tesla,driver>=450,driver<451',\n",
            " 'NVIDIA_VISIBLE_DEVICES': 'all',\n",
            " 'OLDPWD': '/',\n",
            " 'PAGER': 'cat',\n",
            " 'PATH': '/usr/local/nvidia/bin:/usr/local/cuda/bin:/usr/local/sbin:/usr/local/bin:/usr/sbin:/usr/bin:/sbin:/bin:/tools/node/bin:/tools/google-cloud-sdk/bin:/opt/bin',\n",
            " 'PWD': '/',\n",
            " 'PYDEVD_USE_FRAME_EVAL': 'NO',\n",
            " 'PYTHONPATH': '/env/python',\n",
            " 'PYTHONWARNINGS': 'ignore:::pip._internal.cli.base_command',\n",
            " 'SHELL': '/bin/bash',\n",
            " 'SHLVL': '0',\n",
            " 'TBE_CREDS_ADDR': '172.28.0.1:8008',\n",
            " 'TERM': 'xterm-color',\n",
            " 'TF_FORCE_GPU_ALLOW_GROWTH': 'true'}\n"
          ]
        }
      ]
    },
    {
      "cell_type": "markdown",
      "metadata": {
        "id": "O_oEFXG8djey"
      },
      "source": [
        "FYI - we can access one of these variables at a time via the `os.getenv()` function, supplying the name of the environment variable in quotes (e.g. \"HOME\" or \"LANG\")."
      ]
    },
    {
      "cell_type": "code",
      "metadata": {
        "colab": {
          "base_uri": "https://localhost:8080/"
        },
        "id": "jc3fx039Uerw",
        "outputId": "c3c2aa60-a0be-48c7-f682-336c2b3a5625"
      },
      "source": [
        "print(os.getenv(\"HOME\"))\n",
        "\n",
        "print(os.getenv(\"LANG\"))"
      ],
      "execution_count": null,
      "outputs": [
        {
          "output_type": "stream",
          "name": "stdout",
          "text": [
            "/root\n",
            "en_US.UTF-8\n"
          ]
        }
      ]
    },
    {
      "cell_type": "markdown",
      "metadata": {
        "id": "zM7bh6_iei6R"
      },
      "source": [
        "In local development, we may set our own environment variables (for example, to store secret passwords and credentials we don't want to hard-code into our Python code).\n",
        "\n",
        "\n",
        "See also: [Environment Variables](https://github.com/prof-rossetti/intro-to-python/blob/main/notes/environment-variables/README.md).\n",
        "\n",
        "\n"
      ]
    },
    {
      "cell_type": "markdown",
      "metadata": {
        "id": "PdtZbTr5ilBd"
      },
      "source": [
        "# Your Turn!"
      ]
    },
    {
      "cell_type": "markdown",
      "metadata": {
        "id": "jZ63oAmJfHSN"
      },
      "source": [
        "How do the Colab environment variables differ from those on your local machine?\n",
        "\n",
        "  1. Open your command-line application (i.e. Terminal or Git Bash)\n",
        "  2. Enter into an interactive Python shell / interpreter via `python -i`\n",
        "  3. In the python interpreter, input the following code, one line at a time (pressing Enter after each line):\n",
        "\n",
        "```py\n",
        "import os\n",
        "\n",
        "from pprint import pprint\n",
        "\n",
        "pprint(dict(os.environ))\n",
        "```\n",
        "\n",
        "What do you notice about the results? \n",
        "\n",
        "Compare with a friend - how do yours differ?"
      ]
    }
  ]
}
