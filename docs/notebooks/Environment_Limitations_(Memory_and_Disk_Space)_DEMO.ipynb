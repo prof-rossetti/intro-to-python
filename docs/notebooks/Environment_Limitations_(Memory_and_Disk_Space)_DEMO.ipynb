{
  "nbformat": 4,
  "nbformat_minor": 0,
  "metadata": {
    "colab": {
      "provenance": [],
      "authorship_tag": "ABX9TyPpYpFC4BRQD1ZOgWuxnmRG",
      "include_colab_link": true
    },
    "kernelspec": {
      "name": "python3",
      "display_name": "Python 3"
    },
    "language_info": {
      "name": "python"
    }
  },
  "cells": [
    {
      "cell_type": "markdown",
      "metadata": {
        "id": "view-in-github",
        "colab_type": "text"
      },
      "source": [
        "<a href=\"https://colab.research.google.com/github/prof-rossetti/intro-to-python/blob/main/notebooks/Environment_Limitations_(Memory_and_Disk_Space)_DEMO.ipynb\" target=\"_parent\"><img src=\"https://colab.research.google.com/assets/colab-badge.svg\" alt=\"Open In Colab\"/></a>"
      ]
    },
    {
      "cell_type": "markdown",
      "metadata": {
        "id": "oj1RlmG_ZmFz"
      },
      "source": [
        "# Memory Constraints"
      ]
    },
    {
      "cell_type": "markdown",
      "metadata": {
        "id": "-VynomzYZTyT"
      },
      "source": [
        "The following cell, when run, will infinitely perform some calculations and store data in variables in the program's / notebook's memory. Running this cell will eventually exceed the colab's notebook's RAM / memory, resulting in a crash."
      ]
    },
    {
      "cell_type": "code",
      "metadata": {
        "id": "Mys4naM8XX-b",
        "colab": {
          "base_uri": "https://localhost:8080/"
        },
        "outputId": "29bf639e-1b0b-4a26-b9e1-8414af394c13"
      },
      "source": [
        "\n",
        "my_numbers = []\n",
        "counter = 0\n",
        "while True:\n",
        "    print(\"DOING STUFF...\")\n",
        "    counter+=1\n",
        "    my_numbers.append(counter)\n",
        "    my_numbers += my_numbers\n",
        "    print(len(my_numbers))"
      ],
      "execution_count": null,
      "outputs": [
        {
          "output_type": "stream",
          "name": "stdout",
          "text": [
            "DOING STUFF...\n",
            "2\n",
            "DOING STUFF...\n",
            "6\n",
            "DOING STUFF...\n",
            "14\n",
            "DOING STUFF...\n",
            "30\n",
            "DOING STUFF...\n",
            "62\n",
            "DOING STUFF...\n",
            "126\n",
            "DOING STUFF...\n",
            "254\n",
            "DOING STUFF...\n",
            "510\n",
            "DOING STUFF...\n",
            "1022\n",
            "DOING STUFF...\n",
            "2046\n",
            "DOING STUFF...\n",
            "4094\n",
            "DOING STUFF...\n",
            "8190\n",
            "DOING STUFF...\n",
            "16382\n",
            "DOING STUFF...\n",
            "32766\n",
            "DOING STUFF...\n",
            "65534\n",
            "DOING STUFF...\n",
            "131070\n",
            "DOING STUFF...\n",
            "262142\n",
            "DOING STUFF...\n",
            "524286\n",
            "DOING STUFF...\n",
            "1048574\n",
            "DOING STUFF...\n",
            "2097150\n",
            "DOING STUFF...\n",
            "4194302\n",
            "DOING STUFF...\n",
            "8388606\n",
            "DOING STUFF...\n",
            "16777214\n",
            "DOING STUFF...\n",
            "33554430\n",
            "DOING STUFF...\n",
            "67108862\n",
            "DOING STUFF...\n",
            "134217726\n",
            "DOING STUFF...\n",
            "268435454\n",
            "DOING STUFF...\n"
          ]
        }
      ]
    },
    {
      "cell_type": "markdown",
      "metadata": {
        "id": "ViROTD5LZsiP"
      },
      "source": [
        "# Disk Space Constraints"
      ]
    },
    {
      "cell_type": "markdown",
      "metadata": {
        "id": "Y_2eUSmyZsUL"
      },
      "source": [
        "The following cell, when run, will infinitely save more and more data to the computer / notebook's disk space (i.e. adding lines to a text file). Running this cell will eventually exceed the colab's notebook's disk space, resulting in a crash."
      ]
    },
    {
      "cell_type": "code",
      "metadata": {
        "colab": {
          "base_uri": "https://localhost:8080/",
          "height": 1000
        },
        "id": "MaTGhdeVZtBv",
        "outputId": "d6befc41-e9fd-4d76-bfb3-2c9065af2c1e"
      },
      "source": [
        "# open a text file for writing purposes\n",
        "with open(\"my_file.txt\", \"w\") as txt_file:\n",
        "    # infinite loop never ends\n",
        "    while True:\n",
        "        print(\"WRITING TO FILE...\")\n",
        "        # continue writing some text to the file. this takes up disk space.\n",
        "        txt_file.write(\"MY MESSAGE\"*100000000)\n"
      ],
      "execution_count": null,
      "outputs": [
        {
          "output_type": "stream",
          "name": "stdout",
          "text": [
            "WRITING TO FILE...\n",
            "WRITING TO FILE...\n",
            "WRITING TO FILE...\n",
            "WRITING TO FILE...\n",
            "WRITING TO FILE...\n",
            "WRITING TO FILE...\n",
            "WRITING TO FILE...\n",
            "WRITING TO FILE...\n",
            "WRITING TO FILE...\n",
            "WRITING TO FILE...\n",
            "WRITING TO FILE...\n",
            "WRITING TO FILE...\n",
            "WRITING TO FILE...\n",
            "WRITING TO FILE...\n",
            "WRITING TO FILE...\n",
            "WRITING TO FILE...\n",
            "WRITING TO FILE...\n",
            "WRITING TO FILE...\n",
            "WRITING TO FILE...\n",
            "WRITING TO FILE...\n",
            "WRITING TO FILE...\n",
            "WRITING TO FILE...\n",
            "WRITING TO FILE...\n",
            "WRITING TO FILE...\n",
            "WRITING TO FILE...\n",
            "WRITING TO FILE...\n",
            "WRITING TO FILE...\n",
            "WRITING TO FILE...\n",
            "WRITING TO FILE...\n",
            "WRITING TO FILE...\n",
            "WRITING TO FILE...\n",
            "WRITING TO FILE...\n",
            "WRITING TO FILE...\n",
            "WRITING TO FILE...\n",
            "WRITING TO FILE...\n",
            "WRITING TO FILE...\n",
            "WRITING TO FILE...\n",
            "WRITING TO FILE...\n",
            "WRITING TO FILE...\n",
            "WRITING TO FILE...\n",
            "WRITING TO FILE...\n",
            "WRITING TO FILE...\n",
            "WRITING TO FILE...\n",
            "WRITING TO FILE...\n",
            "WRITING TO FILE...\n",
            "WRITING TO FILE...\n",
            "WRITING TO FILE...\n",
            "WRITING TO FILE...\n",
            "WRITING TO FILE...\n",
            "WRITING TO FILE...\n",
            "WRITING TO FILE...\n",
            "WRITING TO FILE...\n",
            "WRITING TO FILE...\n",
            "WRITING TO FILE...\n",
            "WRITING TO FILE...\n",
            "WRITING TO FILE...\n",
            "WRITING TO FILE...\n",
            "WRITING TO FILE...\n",
            "WRITING TO FILE...\n",
            "WRITING TO FILE...\n",
            "WRITING TO FILE...\n",
            "WRITING TO FILE...\n",
            "WRITING TO FILE...\n",
            "WRITING TO FILE...\n",
            "WRITING TO FILE...\n",
            "WRITING TO FILE...\n",
            "WRITING TO FILE...\n",
            "WRITING TO FILE...\n",
            "WRITING TO FILE...\n",
            "WRITING TO FILE...\n",
            "WRITING TO FILE...\n",
            "WRITING TO FILE...\n",
            "WRITING TO FILE...\n",
            "WRITING TO FILE...\n",
            "WRITING TO FILE...\n",
            "WRITING TO FILE...\n",
            "WRITING TO FILE...\n",
            "WRITING TO FILE...\n",
            "WRITING TO FILE...\n",
            "WRITING TO FILE...\n",
            "WRITING TO FILE...\n",
            "WRITING TO FILE...\n",
            "WRITING TO FILE...\n",
            "WRITING TO FILE...\n",
            "WRITING TO FILE...\n",
            "WRITING TO FILE...\n",
            "WRITING TO FILE...\n",
            "WRITING TO FILE...\n",
            "WRITING TO FILE...\n",
            "WRITING TO FILE...\n",
            "WRITING TO FILE...\n"
          ]
        },
        {
          "output_type": "error",
          "ename": "OSError",
          "evalue": "ignored",
          "traceback": [
            "\u001b[0;31m---------------------------------------------------------------------------\u001b[0m",
            "\u001b[0;31mOSError\u001b[0m                                   Traceback (most recent call last)",
            "\u001b[0;32m<ipython-input-1-c3e194562d84>\u001b[0m in \u001b[0;36m<module>\u001b[0;34m\u001b[0m\n\u001b[1;32m      5\u001b[0m         \u001b[0mprint\u001b[0m\u001b[0;34m(\u001b[0m\u001b[0;34m\"WRITING TO FILE...\"\u001b[0m\u001b[0;34m)\u001b[0m\u001b[0;34m\u001b[0m\u001b[0;34m\u001b[0m\u001b[0m\n\u001b[1;32m      6\u001b[0m         \u001b[0;31m# continue writing some text to the file. this takes up disk space.\u001b[0m\u001b[0;34m\u001b[0m\u001b[0;34m\u001b[0m\u001b[0;34m\u001b[0m\u001b[0m\n\u001b[0;32m----> 7\u001b[0;31m         \u001b[0mtxt_file\u001b[0m\u001b[0;34m.\u001b[0m\u001b[0mwrite\u001b[0m\u001b[0;34m(\u001b[0m\u001b[0;34m\"MY MESSAGE\"\u001b[0m\u001b[0;34m*\u001b[0m\u001b[0;36m100000000\u001b[0m\u001b[0;34m)\u001b[0m\u001b[0;34m\u001b[0m\u001b[0;34m\u001b[0m\u001b[0m\n\u001b[0m",
            "\u001b[0;31mOSError\u001b[0m: [Errno 28] No space left on device"
          ]
        }
      ]
    }
  ]
}