{
  "nbformat": 4,
  "nbformat_minor": 0,
  "metadata": {
    "colab": {
      "provenance": [],
      "toc_visible": true,
      "authorship_tag": "ABX9TyNFHEJJ1AnRFRz5kTc1Dbsv",
      "include_colab_link": true
    },
    "kernelspec": {
      "name": "python3",
      "display_name": "Python 3"
    },
    "language_info": {
      "name": "python"
    }
  },
  "cells": [
    {
      "cell_type": "markdown",
      "metadata": {
        "id": "view-in-github",
        "colab_type": "text"
      },
      "source": [
        "<a href=\"https://colab.research.google.com/github/prof-rossetti/intro-to-python/blob/main/notebooks/applied-ds/Applied_Statistics_for_Finance_Calculating_Beta_to_the_Market_(Summer_2023).ipynb\" target=\"_parent\"><img src=\"https://colab.research.google.com/assets/colab-badge.svg\" alt=\"Open In Colab\"/></a>"
      ]
    },
    {
      "cell_type": "markdown",
      "source": [
        "In this notebook, we will attempt to calculate a given stock's beta to the market, as one way of assessing the risk of that stock.\n",
        "\n",
        "We will fetch some data about a number of stocks and the market.\n",
        "\n",
        "While we have the stock and market data, we will illustrate the previously introduced statistical concept of correlation, just for fun, as we see which stocks may be positively or negatively correlated with eachother.\n",
        "\n",
        "Then we will cover new statistical concpets of variance and covariance as we use these in our calculations for beta."
      ],
      "metadata": {
        "id": "p6YCup8i7BTo"
      }
    },
    {
      "cell_type": "markdown",
      "source": [
        "## Understanding Beta"
      ],
      "metadata": {
        "id": "Rf78pRdhcdz1"
      }
    },
    {
      "cell_type": "markdown",
      "source": [
        "https://www.investopedia.com/ask/answers/070615/what-formula-calculating-beta.asp\n",
        "\n",
        "\n",
        "> Beta is a measure used in fundamental analysis to determine the volatility of an asset or portfolio in relation to the overall market. The overall market has a beta of 1.0, and individual stocks are ranked according to how much they deviate from the market.\n",
        "\n",
        "> A stock that swings more than the market over time has a beta greater than 1.0. If a stock moves less than the market, the stock's beta is less than 1.0. High-beta stocks tend to be riskier but provide the potential for higher returns. Low-beta stocks pose less risk but typically yield lower returns.\n",
        "\n",
        "> As a result, beta is often used as a risk-reward measure, meaning it helps investors determine how much risk they are willing to take to achieve the return for taking on that risk. A stock's price variability is important to consider when assessing risk. If you think of risk as the possibility of a stock losing its value, beta is useful as a proxy for risk.\n",
        "\n"
      ],
      "metadata": {
        "id": "-xssFL-wclr2"
      }
    },
    {
      "cell_type": "markdown",
      "source": [
        "> To calculate the beta of a security, the covariance between the return of the security and the return of the market must be known, as well as the variance of the market returns.\n",
        "\n"
      ],
      "metadata": {
        "id": "AgGv1ZV8i9ha"
      }
    },
    {
      "cell_type": "markdown",
      "source": [
        "\\begin{align}\n",
        "        Beta = \\frac{Covariance} {Variance}\n",
        "\\end{align}"
      ],
      "metadata": {
        "id": "95p3aXUdj6eN"
      }
    },
    {
      "cell_type": "markdown",
      "source": [
        "> **Covariance** measures how two stocks move together. A positive covariance means the stocks tend to move together when their prices go up or down. A negative covariance means the stocks move opposite of each other.\n",
        "\n",
        "> **Variance**, on the other hand, refers to how far a stock moves relative to its mean. For example, variance is used in measuring the volatility of an individual stock's price over time. Covariance is used to measure the correlation in price moves of two different stocks.\n",
        "\n",
        "> The formula for calculating beta is the covariance of the return of an asset with the return of the benchmark, divided by the variance of the return of the benchmark over a certain period."
      ],
      "metadata": {
        "id": "BYD00zMqjW9Q"
      }
    },
    {
      "cell_type": "markdown",
      "source": [
        "OK, so let's fetch some data for a handful of stocks, and then use it to illustrate statistical concepts of variance and covariance, and then we will calculate beta to the market for one or moe of the stocks."
      ],
      "metadata": {
        "id": "z6CcGE436WuR"
      }
    },
    {
      "cell_type": "markdown",
      "source": [
        "## Fetching Stock and Market Data"
      ],
      "metadata": {
        "id": "Kx17rH3maxsO"
      }
    },
    {
      "cell_type": "markdown",
      "source": [
        "Installing packages:"
      ],
      "metadata": {
        "id": "MY4izYXSazHv"
      }
    },
    {
      "cell_type": "code",
      "source": [
        "# setup cell (run and leave as is)\n",
        "\n",
        "%%capture\n",
        "\n",
        "!pip install yahooquery"
      ],
      "metadata": {
        "id": "Mobj9PkkVpKc"
      },
      "execution_count": 116,
      "outputs": []
    },
    {
      "cell_type": "markdown",
      "source": [
        "Getting stock (and market) prices data:"
      ],
      "metadata": {
        "id": "Ps53_uchaxMY"
      }
    },
    {
      "cell_type": "code",
      "source": [
        "# setup cell (run and leave as is)\n",
        "\n",
        "# https://yahooquery.dpguthrie.com/guide/ticker/intro/\n",
        "from yahooquery import Ticker\n",
        "\n",
        "symbols = [\"AAPL\", \"GOOGL\", \"META\", \"MSFT\", \"NFLX\", \"AMZN\", \"NVDA\",\n",
        "           \"BAC\", \"JPM\"\n",
        "]\n",
        "all_symbols = symbols + [\"SPY\"] # adding market index, but leaving the symbols variable as just a list of the individual stocks (in case we need it later)\n",
        "companies = Ticker(all_symbols)\n",
        "print(type(companies))"
      ],
      "metadata": {
        "colab": {
          "base_uri": "https://localhost:8080/"
        },
        "id": "KdZMGL9rjm8K",
        "outputId": "01c7adbf-3ec9-4ba0-bec2-7e1a7b0d5cf4"
      },
      "execution_count": 117,
      "outputs": [
        {
          "output_type": "stream",
          "name": "stdout",
          "text": [
            "<class 'yahooquery.ticker.Ticker'>\n"
          ]
        }
      ]
    },
    {
      "cell_type": "code",
      "source": [
        "from pandas import to_datetime\n",
        "\n",
        "histories_df = companies.history()\n",
        "histories_df[\"symbol\"] = histories_df.index.get_level_values(0)\n",
        "histories_df[\"date\"] = to_datetime(histories_df.index.get_level_values(1)).date\n",
        "histories_df.reset_index(drop=True, inplace=True)\n",
        "print(len(histories_df)) #> 1053 rows\n",
        "histories_df[[\"date\", \"symbol\", \"adjclose\"]].head()"
      ],
      "metadata": {
        "colab": {
          "base_uri": "https://localhost:8080/",
          "height": 224
        },
        "id": "6xKbM_DplEPD",
        "outputId": "8bc2b5c0-33f4-4137-c514-f6f40f0b404a"
      },
      "execution_count": 118,
      "outputs": [
        {
          "output_type": "stream",
          "name": "stdout",
          "text": [
            "1220\n"
          ]
        },
        {
          "output_type": "execute_result",
          "data": {
            "text/plain": [
              "         date symbol    adjclose\n",
              "0  2023-01-03   AAPL  124.706833\n",
              "1  2023-01-04   AAPL  125.993095\n",
              "2  2023-01-05   AAPL  124.656975\n",
              "3  2023-01-06   AAPL  129.243622\n",
              "4  2023-01-09   AAPL  129.772079"
            ],
            "text/html": [
              "\n",
              "  <div id=\"df-ea981e10-81dc-408f-a607-517826a629a7\">\n",
              "    <div class=\"colab-df-container\">\n",
              "      <div>\n",
              "<style scoped>\n",
              "    .dataframe tbody tr th:only-of-type {\n",
              "        vertical-align: middle;\n",
              "    }\n",
              "\n",
              "    .dataframe tbody tr th {\n",
              "        vertical-align: top;\n",
              "    }\n",
              "\n",
              "    .dataframe thead th {\n",
              "        text-align: right;\n",
              "    }\n",
              "</style>\n",
              "<table border=\"1\" class=\"dataframe\">\n",
              "  <thead>\n",
              "    <tr style=\"text-align: right;\">\n",
              "      <th></th>\n",
              "      <th>date</th>\n",
              "      <th>symbol</th>\n",
              "      <th>adjclose</th>\n",
              "    </tr>\n",
              "  </thead>\n",
              "  <tbody>\n",
              "    <tr>\n",
              "      <th>0</th>\n",
              "      <td>2023-01-03</td>\n",
              "      <td>AAPL</td>\n",
              "      <td>124.706833</td>\n",
              "    </tr>\n",
              "    <tr>\n",
              "      <th>1</th>\n",
              "      <td>2023-01-04</td>\n",
              "      <td>AAPL</td>\n",
              "      <td>125.993095</td>\n",
              "    </tr>\n",
              "    <tr>\n",
              "      <th>2</th>\n",
              "      <td>2023-01-05</td>\n",
              "      <td>AAPL</td>\n",
              "      <td>124.656975</td>\n",
              "    </tr>\n",
              "    <tr>\n",
              "      <th>3</th>\n",
              "      <td>2023-01-06</td>\n",
              "      <td>AAPL</td>\n",
              "      <td>129.243622</td>\n",
              "    </tr>\n",
              "    <tr>\n",
              "      <th>4</th>\n",
              "      <td>2023-01-09</td>\n",
              "      <td>AAPL</td>\n",
              "      <td>129.772079</td>\n",
              "    </tr>\n",
              "  </tbody>\n",
              "</table>\n",
              "</div>\n",
              "      <button class=\"colab-df-convert\" onclick=\"convertToInteractive('df-ea981e10-81dc-408f-a607-517826a629a7')\"\n",
              "              title=\"Convert this dataframe to an interactive table.\"\n",
              "              style=\"display:none;\">\n",
              "        \n",
              "  <svg xmlns=\"http://www.w3.org/2000/svg\" height=\"24px\"viewBox=\"0 0 24 24\"\n",
              "       width=\"24px\">\n",
              "    <path d=\"M0 0h24v24H0V0z\" fill=\"none\"/>\n",
              "    <path d=\"M18.56 5.44l.94 2.06.94-2.06 2.06-.94-2.06-.94-.94-2.06-.94 2.06-2.06.94zm-11 1L8.5 8.5l.94-2.06 2.06-.94-2.06-.94L8.5 2.5l-.94 2.06-2.06.94zm10 10l.94 2.06.94-2.06 2.06-.94-2.06-.94-.94-2.06-.94 2.06-2.06.94z\"/><path d=\"M17.41 7.96l-1.37-1.37c-.4-.4-.92-.59-1.43-.59-.52 0-1.04.2-1.43.59L10.3 9.45l-7.72 7.72c-.78.78-.78 2.05 0 2.83L4 21.41c.39.39.9.59 1.41.59.51 0 1.02-.2 1.41-.59l7.78-7.78 2.81-2.81c.8-.78.8-2.07 0-2.86zM5.41 20L4 18.59l7.72-7.72 1.47 1.35L5.41 20z\"/>\n",
              "  </svg>\n",
              "      </button>\n",
              "      \n",
              "  <style>\n",
              "    .colab-df-container {\n",
              "      display:flex;\n",
              "      flex-wrap:wrap;\n",
              "      gap: 12px;\n",
              "    }\n",
              "\n",
              "    .colab-df-convert {\n",
              "      background-color: #E8F0FE;\n",
              "      border: none;\n",
              "      border-radius: 50%;\n",
              "      cursor: pointer;\n",
              "      display: none;\n",
              "      fill: #1967D2;\n",
              "      height: 32px;\n",
              "      padding: 0 0 0 0;\n",
              "      width: 32px;\n",
              "    }\n",
              "\n",
              "    .colab-df-convert:hover {\n",
              "      background-color: #E2EBFA;\n",
              "      box-shadow: 0px 1px 2px rgba(60, 64, 67, 0.3), 0px 1px 3px 1px rgba(60, 64, 67, 0.15);\n",
              "      fill: #174EA6;\n",
              "    }\n",
              "\n",
              "    [theme=dark] .colab-df-convert {\n",
              "      background-color: #3B4455;\n",
              "      fill: #D2E3FC;\n",
              "    }\n",
              "\n",
              "    [theme=dark] .colab-df-convert:hover {\n",
              "      background-color: #434B5C;\n",
              "      box-shadow: 0px 1px 3px 1px rgba(0, 0, 0, 0.15);\n",
              "      filter: drop-shadow(0px 1px 2px rgba(0, 0, 0, 0.3));\n",
              "      fill: #FFFFFF;\n",
              "    }\n",
              "  </style>\n",
              "\n",
              "      <script>\n",
              "        const buttonEl =\n",
              "          document.querySelector('#df-ea981e10-81dc-408f-a607-517826a629a7 button.colab-df-convert');\n",
              "        buttonEl.style.display =\n",
              "          google.colab.kernel.accessAllowed ? 'block' : 'none';\n",
              "\n",
              "        async function convertToInteractive(key) {\n",
              "          const element = document.querySelector('#df-ea981e10-81dc-408f-a607-517826a629a7');\n",
              "          const dataTable =\n",
              "            await google.colab.kernel.invokeFunction('convertToInteractive',\n",
              "                                                     [key], {});\n",
              "          if (!dataTable) return;\n",
              "\n",
              "          const docLinkHtml = 'Like what you see? Visit the ' +\n",
              "            '<a target=\"_blank\" href=https://colab.research.google.com/notebooks/data_table.ipynb>data table notebook</a>'\n",
              "            + ' to learn more about interactive tables.';\n",
              "          element.innerHTML = '';\n",
              "          dataTable['output_type'] = 'display_data';\n",
              "          await google.colab.output.renderOutput(dataTable, element);\n",
              "          const docLink = document.createElement('div');\n",
              "          docLink.innerHTML = docLinkHtml;\n",
              "          element.appendChild(docLink);\n",
              "        }\n",
              "      </script>\n",
              "    </div>\n",
              "  </div>\n",
              "  "
            ]
          },
          "metadata": {},
          "execution_count": 118
        }
      ]
    },
    {
      "cell_type": "code",
      "source": [
        "# quick check for null values (because some stocks may have different history lengths)\n",
        "histories_df[\"adjclose\"].isnull().sum()  #> 0 ok looks good. can proceed without concern for nulls"
      ],
      "metadata": {
        "colab": {
          "base_uri": "https://localhost:8080/"
        },
        "id": "VHnuYmlMrEwx",
        "outputId": "d6de8ab9-297d-4aac-bae8-dadde00a05c8"
      },
      "execution_count": 119,
      "outputs": [
        {
          "output_type": "execute_result",
          "data": {
            "text/plain": [
              "0"
            ]
          },
          "metadata": {},
          "execution_count": 119
        }
      ]
    },
    {
      "cell_type": "code",
      "source": [
        "prices_pivot = histories_df.pivot(columns=\"symbol\", values=\"adjclose\", index=\"date\")\n",
        "prices_pivot.head()"
      ],
      "metadata": {
        "colab": {
          "base_uri": "https://localhost:8080/",
          "height": 388
        },
        "id": "da7t8thIlNss",
        "outputId": "7d95d504-923d-4579-f737-3432d2514046"
      },
      "execution_count": 120,
      "outputs": [
        {
          "output_type": "execute_result",
          "data": {
            "text/plain": [
              "symbol            AAPL       AMZN        BAC      GOOGL         JPM  \\\n",
              "date                                                                  \n",
              "2023-01-03  124.706833  85.820000  33.030487  89.120003  133.084793   \n",
              "2023-01-04  125.993095  85.139999  33.651470  88.080002  134.325806   \n",
              "2023-01-05  124.656975  83.120003  33.582474  86.199997  134.296051   \n",
              "2023-01-06  129.243622  86.080002  33.917610  87.339996  136.865875   \n",
              "2023-01-09  129.772079  87.360001  33.405048  88.019997  136.300308   \n",
              "\n",
              "symbol            META        MSFT        NFLX        NVDA         SPY  \n",
              "date                                                                    \n",
              "2023-01-03  124.739998  238.460144  294.950012  143.110870  377.968140  \n",
              "2023-01-04  127.370003  228.029129  309.410004  147.449707  380.886139  \n",
              "2023-01-05  126.940002  221.270844  309.700012  142.611023  376.538910  \n",
              "2023-01-06  130.020004  223.878601  315.549988  148.549393  385.173737  \n",
              "2023-01-09  129.470001  226.058380  315.170013  156.237289  384.955383  "
            ],
            "text/html": [
              "\n",
              "  <div id=\"df-e4599269-2622-47d2-a0b9-60a0582988a2\">\n",
              "    <div class=\"colab-df-container\">\n",
              "      <div>\n",
              "<style scoped>\n",
              "    .dataframe tbody tr th:only-of-type {\n",
              "        vertical-align: middle;\n",
              "    }\n",
              "\n",
              "    .dataframe tbody tr th {\n",
              "        vertical-align: top;\n",
              "    }\n",
              "\n",
              "    .dataframe thead th {\n",
              "        text-align: right;\n",
              "    }\n",
              "</style>\n",
              "<table border=\"1\" class=\"dataframe\">\n",
              "  <thead>\n",
              "    <tr style=\"text-align: right;\">\n",
              "      <th>symbol</th>\n",
              "      <th>AAPL</th>\n",
              "      <th>AMZN</th>\n",
              "      <th>BAC</th>\n",
              "      <th>GOOGL</th>\n",
              "      <th>JPM</th>\n",
              "      <th>META</th>\n",
              "      <th>MSFT</th>\n",
              "      <th>NFLX</th>\n",
              "      <th>NVDA</th>\n",
              "      <th>SPY</th>\n",
              "    </tr>\n",
              "    <tr>\n",
              "      <th>date</th>\n",
              "      <th></th>\n",
              "      <th></th>\n",
              "      <th></th>\n",
              "      <th></th>\n",
              "      <th></th>\n",
              "      <th></th>\n",
              "      <th></th>\n",
              "      <th></th>\n",
              "      <th></th>\n",
              "      <th></th>\n",
              "    </tr>\n",
              "  </thead>\n",
              "  <tbody>\n",
              "    <tr>\n",
              "      <th>2023-01-03</th>\n",
              "      <td>124.706833</td>\n",
              "      <td>85.820000</td>\n",
              "      <td>33.030487</td>\n",
              "      <td>89.120003</td>\n",
              "      <td>133.084793</td>\n",
              "      <td>124.739998</td>\n",
              "      <td>238.460144</td>\n",
              "      <td>294.950012</td>\n",
              "      <td>143.110870</td>\n",
              "      <td>377.968140</td>\n",
              "    </tr>\n",
              "    <tr>\n",
              "      <th>2023-01-04</th>\n",
              "      <td>125.993095</td>\n",
              "      <td>85.139999</td>\n",
              "      <td>33.651470</td>\n",
              "      <td>88.080002</td>\n",
              "      <td>134.325806</td>\n",
              "      <td>127.370003</td>\n",
              "      <td>228.029129</td>\n",
              "      <td>309.410004</td>\n",
              "      <td>147.449707</td>\n",
              "      <td>380.886139</td>\n",
              "    </tr>\n",
              "    <tr>\n",
              "      <th>2023-01-05</th>\n",
              "      <td>124.656975</td>\n",
              "      <td>83.120003</td>\n",
              "      <td>33.582474</td>\n",
              "      <td>86.199997</td>\n",
              "      <td>134.296051</td>\n",
              "      <td>126.940002</td>\n",
              "      <td>221.270844</td>\n",
              "      <td>309.700012</td>\n",
              "      <td>142.611023</td>\n",
              "      <td>376.538910</td>\n",
              "    </tr>\n",
              "    <tr>\n",
              "      <th>2023-01-06</th>\n",
              "      <td>129.243622</td>\n",
              "      <td>86.080002</td>\n",
              "      <td>33.917610</td>\n",
              "      <td>87.339996</td>\n",
              "      <td>136.865875</td>\n",
              "      <td>130.020004</td>\n",
              "      <td>223.878601</td>\n",
              "      <td>315.549988</td>\n",
              "      <td>148.549393</td>\n",
              "      <td>385.173737</td>\n",
              "    </tr>\n",
              "    <tr>\n",
              "      <th>2023-01-09</th>\n",
              "      <td>129.772079</td>\n",
              "      <td>87.360001</td>\n",
              "      <td>33.405048</td>\n",
              "      <td>88.019997</td>\n",
              "      <td>136.300308</td>\n",
              "      <td>129.470001</td>\n",
              "      <td>226.058380</td>\n",
              "      <td>315.170013</td>\n",
              "      <td>156.237289</td>\n",
              "      <td>384.955383</td>\n",
              "    </tr>\n",
              "  </tbody>\n",
              "</table>\n",
              "</div>\n",
              "      <button class=\"colab-df-convert\" onclick=\"convertToInteractive('df-e4599269-2622-47d2-a0b9-60a0582988a2')\"\n",
              "              title=\"Convert this dataframe to an interactive table.\"\n",
              "              style=\"display:none;\">\n",
              "        \n",
              "  <svg xmlns=\"http://www.w3.org/2000/svg\" height=\"24px\"viewBox=\"0 0 24 24\"\n",
              "       width=\"24px\">\n",
              "    <path d=\"M0 0h24v24H0V0z\" fill=\"none\"/>\n",
              "    <path d=\"M18.56 5.44l.94 2.06.94-2.06 2.06-.94-2.06-.94-.94-2.06-.94 2.06-2.06.94zm-11 1L8.5 8.5l.94-2.06 2.06-.94-2.06-.94L8.5 2.5l-.94 2.06-2.06.94zm10 10l.94 2.06.94-2.06 2.06-.94-2.06-.94-.94-2.06-.94 2.06-2.06.94z\"/><path d=\"M17.41 7.96l-1.37-1.37c-.4-.4-.92-.59-1.43-.59-.52 0-1.04.2-1.43.59L10.3 9.45l-7.72 7.72c-.78.78-.78 2.05 0 2.83L4 21.41c.39.39.9.59 1.41.59.51 0 1.02-.2 1.41-.59l7.78-7.78 2.81-2.81c.8-.78.8-2.07 0-2.86zM5.41 20L4 18.59l7.72-7.72 1.47 1.35L5.41 20z\"/>\n",
              "  </svg>\n",
              "      </button>\n",
              "      \n",
              "  <style>\n",
              "    .colab-df-container {\n",
              "      display:flex;\n",
              "      flex-wrap:wrap;\n",
              "      gap: 12px;\n",
              "    }\n",
              "\n",
              "    .colab-df-convert {\n",
              "      background-color: #E8F0FE;\n",
              "      border: none;\n",
              "      border-radius: 50%;\n",
              "      cursor: pointer;\n",
              "      display: none;\n",
              "      fill: #1967D2;\n",
              "      height: 32px;\n",
              "      padding: 0 0 0 0;\n",
              "      width: 32px;\n",
              "    }\n",
              "\n",
              "    .colab-df-convert:hover {\n",
              "      background-color: #E2EBFA;\n",
              "      box-shadow: 0px 1px 2px rgba(60, 64, 67, 0.3), 0px 1px 3px 1px rgba(60, 64, 67, 0.15);\n",
              "      fill: #174EA6;\n",
              "    }\n",
              "\n",
              "    [theme=dark] .colab-df-convert {\n",
              "      background-color: #3B4455;\n",
              "      fill: #D2E3FC;\n",
              "    }\n",
              "\n",
              "    [theme=dark] .colab-df-convert:hover {\n",
              "      background-color: #434B5C;\n",
              "      box-shadow: 0px 1px 3px 1px rgba(0, 0, 0, 0.15);\n",
              "      filter: drop-shadow(0px 1px 2px rgba(0, 0, 0, 0.3));\n",
              "      fill: #FFFFFF;\n",
              "    }\n",
              "  </style>\n",
              "\n",
              "      <script>\n",
              "        const buttonEl =\n",
              "          document.querySelector('#df-e4599269-2622-47d2-a0b9-60a0582988a2 button.colab-df-convert');\n",
              "        buttonEl.style.display =\n",
              "          google.colab.kernel.accessAllowed ? 'block' : 'none';\n",
              "\n",
              "        async function convertToInteractive(key) {\n",
              "          const element = document.querySelector('#df-e4599269-2622-47d2-a0b9-60a0582988a2');\n",
              "          const dataTable =\n",
              "            await google.colab.kernel.invokeFunction('convertToInteractive',\n",
              "                                                     [key], {});\n",
              "          if (!dataTable) return;\n",
              "\n",
              "          const docLinkHtml = 'Like what you see? Visit the ' +\n",
              "            '<a target=\"_blank\" href=https://colab.research.google.com/notebooks/data_table.ipynb>data table notebook</a>'\n",
              "            + ' to learn more about interactive tables.';\n",
              "          element.innerHTML = '';\n",
              "          dataTable['output_type'] = 'display_data';\n",
              "          await google.colab.output.renderOutput(dataTable, element);\n",
              "          const docLink = document.createElement('div');\n",
              "          docLink.innerHTML = docLinkHtml;\n",
              "          element.appendChild(docLink);\n",
              "        }\n",
              "      </script>\n",
              "    </div>\n",
              "  </div>\n",
              "  "
            ]
          },
          "metadata": {},
          "execution_count": 120
        }
      ]
    },
    {
      "cell_type": "code",
      "source": [
        "print(len(prices_pivot))\n",
        "\n",
        "earliest_date = prices_pivot.index.min()\n",
        "print(earliest_date)\n",
        "\n",
        "latest_date = prices_pivot.index.max()\n",
        "print(latest_date)"
      ],
      "metadata": {
        "colab": {
          "base_uri": "https://localhost:8080/"
        },
        "id": "oztGp-kh9prL",
        "outputId": "cef4e12e-b428-48a9-cffa-722338ef3f5e"
      },
      "execution_count": 121,
      "outputs": [
        {
          "output_type": "stream",
          "name": "stdout",
          "text": [
            "122\n",
            "2023-01-03\n",
            "2023-06-28\n"
          ]
        }
      ]
    },
    {
      "cell_type": "markdown",
      "source": [
        "#### Percent Change / Stock Returns"
      ],
      "metadata": {
        "id": "ul_eki-xGlvt"
      }
    },
    {
      "cell_type": "markdown",
      "source": [
        "Let's do some plotting of growth rates, just so we can get a better sense of the data. Also, we will use these returns as the basis for our beta calculations later."
      ],
      "metadata": {
        "id": "iBGuHpCD6qq_"
      }
    },
    {
      "cell_type": "code",
      "source": [
        "import warnings\n",
        "warnings.filterwarnings(\"ignore\")\n",
        "\n",
        "returns_df = prices_pivot.copy()\n",
        "for symbol in all_symbols:\n",
        "    growth_col = f\"{symbol}_growth\"\n",
        "    # calculate relative growth :\n",
        "    returns_df[growth_col] = (returns_df[symbol].pct_change(periods=1) + 1).cumprod()\n",
        "    returns_df[growth_col].iloc[0] = 1\n",
        "\n",
        "print(len(returns_df.columns))\n",
        "growth_cols = [f\"{symbol}_growth\" for symbol in all_symbols]\n",
        "returns_df = returns_df[growth_cols]\n",
        "print(len(returns_df.columns))\n",
        "returns_df.head()"
      ],
      "metadata": {
        "colab": {
          "base_uri": "https://localhost:8080/",
          "height": 424
        },
        "id": "4k569On5Apc0",
        "outputId": "84c54b56-d6df-4dc9-b60f-32ca78ca66be"
      },
      "execution_count": 122,
      "outputs": [
        {
          "output_type": "stream",
          "name": "stdout",
          "text": [
            "20\n",
            "10\n"
          ]
        },
        {
          "output_type": "execute_result",
          "data": {
            "text/plain": [
              "symbol      AAPL_growth  GOOGL_growth  META_growth  MSFT_growth  NFLX_growth  \\\n",
              "date                                                                           \n",
              "2023-01-03     1.000000      1.000000     1.000000     1.000000     1.000000   \n",
              "2023-01-04     1.010314      0.988330     1.021084     0.956257     1.049025   \n",
              "2023-01-05     0.999600      0.967235     1.017637     0.927915     1.050008   \n",
              "2023-01-06     1.036380      0.980027     1.042328     0.938851     1.069842   \n",
              "2023-01-09     1.040617      0.987657     1.037919     0.947992     1.068554   \n",
              "\n",
              "symbol      AMZN_growth  NVDA_growth  BAC_growth  JPM_growth  SPY_growth  \n",
              "date                                                                      \n",
              "2023-01-03     1.000000     1.000000    1.000000    1.000000    1.000000  \n",
              "2023-01-04     0.992076     1.030318    1.018800    1.009325    1.007720  \n",
              "2023-01-05     0.968539     0.996507    1.016711    1.009101    0.996219  \n",
              "2023-01-06     1.003030     1.038002    1.026858    1.028411    1.019064  \n",
              "2023-01-09     1.017945     1.091722    1.011340    1.024161    1.018486  "
            ],
            "text/html": [
              "\n",
              "  <div id=\"df-5a2ce5a2-29ec-40fc-9249-25d390793e60\">\n",
              "    <div class=\"colab-df-container\">\n",
              "      <div>\n",
              "<style scoped>\n",
              "    .dataframe tbody tr th:only-of-type {\n",
              "        vertical-align: middle;\n",
              "    }\n",
              "\n",
              "    .dataframe tbody tr th {\n",
              "        vertical-align: top;\n",
              "    }\n",
              "\n",
              "    .dataframe thead th {\n",
              "        text-align: right;\n",
              "    }\n",
              "</style>\n",
              "<table border=\"1\" class=\"dataframe\">\n",
              "  <thead>\n",
              "    <tr style=\"text-align: right;\">\n",
              "      <th>symbol</th>\n",
              "      <th>AAPL_growth</th>\n",
              "      <th>GOOGL_growth</th>\n",
              "      <th>META_growth</th>\n",
              "      <th>MSFT_growth</th>\n",
              "      <th>NFLX_growth</th>\n",
              "      <th>AMZN_growth</th>\n",
              "      <th>NVDA_growth</th>\n",
              "      <th>BAC_growth</th>\n",
              "      <th>JPM_growth</th>\n",
              "      <th>SPY_growth</th>\n",
              "    </tr>\n",
              "    <tr>\n",
              "      <th>date</th>\n",
              "      <th></th>\n",
              "      <th></th>\n",
              "      <th></th>\n",
              "      <th></th>\n",
              "      <th></th>\n",
              "      <th></th>\n",
              "      <th></th>\n",
              "      <th></th>\n",
              "      <th></th>\n",
              "      <th></th>\n",
              "    </tr>\n",
              "  </thead>\n",
              "  <tbody>\n",
              "    <tr>\n",
              "      <th>2023-01-03</th>\n",
              "      <td>1.000000</td>\n",
              "      <td>1.000000</td>\n",
              "      <td>1.000000</td>\n",
              "      <td>1.000000</td>\n",
              "      <td>1.000000</td>\n",
              "      <td>1.000000</td>\n",
              "      <td>1.000000</td>\n",
              "      <td>1.000000</td>\n",
              "      <td>1.000000</td>\n",
              "      <td>1.000000</td>\n",
              "    </tr>\n",
              "    <tr>\n",
              "      <th>2023-01-04</th>\n",
              "      <td>1.010314</td>\n",
              "      <td>0.988330</td>\n",
              "      <td>1.021084</td>\n",
              "      <td>0.956257</td>\n",
              "      <td>1.049025</td>\n",
              "      <td>0.992076</td>\n",
              "      <td>1.030318</td>\n",
              "      <td>1.018800</td>\n",
              "      <td>1.009325</td>\n",
              "      <td>1.007720</td>\n",
              "    </tr>\n",
              "    <tr>\n",
              "      <th>2023-01-05</th>\n",
              "      <td>0.999600</td>\n",
              "      <td>0.967235</td>\n",
              "      <td>1.017637</td>\n",
              "      <td>0.927915</td>\n",
              "      <td>1.050008</td>\n",
              "      <td>0.968539</td>\n",
              "      <td>0.996507</td>\n",
              "      <td>1.016711</td>\n",
              "      <td>1.009101</td>\n",
              "      <td>0.996219</td>\n",
              "    </tr>\n",
              "    <tr>\n",
              "      <th>2023-01-06</th>\n",
              "      <td>1.036380</td>\n",
              "      <td>0.980027</td>\n",
              "      <td>1.042328</td>\n",
              "      <td>0.938851</td>\n",
              "      <td>1.069842</td>\n",
              "      <td>1.003030</td>\n",
              "      <td>1.038002</td>\n",
              "      <td>1.026858</td>\n",
              "      <td>1.028411</td>\n",
              "      <td>1.019064</td>\n",
              "    </tr>\n",
              "    <tr>\n",
              "      <th>2023-01-09</th>\n",
              "      <td>1.040617</td>\n",
              "      <td>0.987657</td>\n",
              "      <td>1.037919</td>\n",
              "      <td>0.947992</td>\n",
              "      <td>1.068554</td>\n",
              "      <td>1.017945</td>\n",
              "      <td>1.091722</td>\n",
              "      <td>1.011340</td>\n",
              "      <td>1.024161</td>\n",
              "      <td>1.018486</td>\n",
              "    </tr>\n",
              "  </tbody>\n",
              "</table>\n",
              "</div>\n",
              "      <button class=\"colab-df-convert\" onclick=\"convertToInteractive('df-5a2ce5a2-29ec-40fc-9249-25d390793e60')\"\n",
              "              title=\"Convert this dataframe to an interactive table.\"\n",
              "              style=\"display:none;\">\n",
              "        \n",
              "  <svg xmlns=\"http://www.w3.org/2000/svg\" height=\"24px\"viewBox=\"0 0 24 24\"\n",
              "       width=\"24px\">\n",
              "    <path d=\"M0 0h24v24H0V0z\" fill=\"none\"/>\n",
              "    <path d=\"M18.56 5.44l.94 2.06.94-2.06 2.06-.94-2.06-.94-.94-2.06-.94 2.06-2.06.94zm-11 1L8.5 8.5l.94-2.06 2.06-.94-2.06-.94L8.5 2.5l-.94 2.06-2.06.94zm10 10l.94 2.06.94-2.06 2.06-.94-2.06-.94-.94-2.06-.94 2.06-2.06.94z\"/><path d=\"M17.41 7.96l-1.37-1.37c-.4-.4-.92-.59-1.43-.59-.52 0-1.04.2-1.43.59L10.3 9.45l-7.72 7.72c-.78.78-.78 2.05 0 2.83L4 21.41c.39.39.9.59 1.41.59.51 0 1.02-.2 1.41-.59l7.78-7.78 2.81-2.81c.8-.78.8-2.07 0-2.86zM5.41 20L4 18.59l7.72-7.72 1.47 1.35L5.41 20z\"/>\n",
              "  </svg>\n",
              "      </button>\n",
              "      \n",
              "  <style>\n",
              "    .colab-df-container {\n",
              "      display:flex;\n",
              "      flex-wrap:wrap;\n",
              "      gap: 12px;\n",
              "    }\n",
              "\n",
              "    .colab-df-convert {\n",
              "      background-color: #E8F0FE;\n",
              "      border: none;\n",
              "      border-radius: 50%;\n",
              "      cursor: pointer;\n",
              "      display: none;\n",
              "      fill: #1967D2;\n",
              "      height: 32px;\n",
              "      padding: 0 0 0 0;\n",
              "      width: 32px;\n",
              "    }\n",
              "\n",
              "    .colab-df-convert:hover {\n",
              "      background-color: #E2EBFA;\n",
              "      box-shadow: 0px 1px 2px rgba(60, 64, 67, 0.3), 0px 1px 3px 1px rgba(60, 64, 67, 0.15);\n",
              "      fill: #174EA6;\n",
              "    }\n",
              "\n",
              "    [theme=dark] .colab-df-convert {\n",
              "      background-color: #3B4455;\n",
              "      fill: #D2E3FC;\n",
              "    }\n",
              "\n",
              "    [theme=dark] .colab-df-convert:hover {\n",
              "      background-color: #434B5C;\n",
              "      box-shadow: 0px 1px 3px 1px rgba(0, 0, 0, 0.15);\n",
              "      filter: drop-shadow(0px 1px 2px rgba(0, 0, 0, 0.3));\n",
              "      fill: #FFFFFF;\n",
              "    }\n",
              "  </style>\n",
              "\n",
              "      <script>\n",
              "        const buttonEl =\n",
              "          document.querySelector('#df-5a2ce5a2-29ec-40fc-9249-25d390793e60 button.colab-df-convert');\n",
              "        buttonEl.style.display =\n",
              "          google.colab.kernel.accessAllowed ? 'block' : 'none';\n",
              "\n",
              "        async function convertToInteractive(key) {\n",
              "          const element = document.querySelector('#df-5a2ce5a2-29ec-40fc-9249-25d390793e60');\n",
              "          const dataTable =\n",
              "            await google.colab.kernel.invokeFunction('convertToInteractive',\n",
              "                                                     [key], {});\n",
              "          if (!dataTable) return;\n",
              "\n",
              "          const docLinkHtml = 'Like what you see? Visit the ' +\n",
              "            '<a target=\"_blank\" href=https://colab.research.google.com/notebooks/data_table.ipynb>data table notebook</a>'\n",
              "            + ' to learn more about interactive tables.';\n",
              "          element.innerHTML = '';\n",
              "          dataTable['output_type'] = 'display_data';\n",
              "          await google.colab.output.renderOutput(dataTable, element);\n",
              "          const docLink = document.createElement('div');\n",
              "          docLink.innerHTML = docLinkHtml;\n",
              "          element.appendChild(docLink);\n",
              "        }\n",
              "      </script>\n",
              "    </div>\n",
              "  </div>\n",
              "  "
            ]
          },
          "metadata": {},
          "execution_count": 122
        }
      ]
    },
    {
      "cell_type": "code",
      "source": [
        "import plotly.express as px\n",
        "\n",
        "chart_df = returns_df.copy()\n",
        "chart_df[\"date\"] = chart_df.index\n",
        "px.line(chart_df, x=\"date\", y=growth_cols, title=f\"Stock Returns vs Market\", height=350)"
      ],
      "metadata": {
        "colab": {
          "base_uri": "https://localhost:8080/",
          "height": 367
        },
        "id": "mtSHd58joSIX",
        "outputId": "6de6b7eb-c960-4bdc-dc1a-cb1b3c4ab0e0"
      },
      "execution_count": 123,
      "outputs": [
        {
          "output_type": "display_data",
          "data": {
            "text/html": [
              "<html>\n",
              "<head><meta charset=\"utf-8\" /></head>\n",
              "<body>\n",
              "    <div>            <script src=\"https://cdnjs.cloudflare.com/ajax/libs/mathjax/2.7.5/MathJax.js?config=TeX-AMS-MML_SVG\"></script><script type=\"text/javascript\">if (window.MathJax && window.MathJax.Hub && window.MathJax.Hub.Config) {window.MathJax.Hub.Config({SVG: {font: \"STIX-Web\"}});}</script>                <script type=\"text/javascript\">window.PlotlyConfig = {MathJaxConfig: 'local'};</script>\n",
              "        <script src=\"https://cdn.plot.ly/plotly-2.18.2.min.js\"></script>                <div id=\"f29ddc3e-f96b-408a-87aa-d578d518d285\" class=\"plotly-graph-div\" style=\"height:350px; width:100%;\"></div>            <script type=\"text/javascript\">                                    window.PLOTLYENV=window.PLOTLYENV || {};                                    if (document.getElementById(\"f29ddc3e-f96b-408a-87aa-d578d518d285\")) {                    Plotly.newPlot(                        \"f29ddc3e-f96b-408a-87aa-d578d518d285\",                        [{\"hovertemplate\":\"variable=AAPL_growth<br>date=%{x}<br>value=%{y}<extra></extra>\",\"legendgroup\":\"AAPL_growth\",\"line\":{\"color\":\"#636efa\",\"dash\":\"solid\"},\"marker\":{\"symbol\":\"circle\"},\"mode\":\"lines\",\"name\":\"AAPL_growth\",\"showlegend\":true,\"x\":[\"2023-01-03\",\"2023-01-04\",\"2023-01-05\",\"2023-01-06\",\"2023-01-09\",\"2023-01-10\",\"2023-01-11\",\"2023-01-12\",\"2023-01-13\",\"2023-01-17\",\"2023-01-18\",\"2023-01-19\",\"2023-01-20\",\"2023-01-23\",\"2023-01-24\",\"2023-01-25\",\"2023-01-26\",\"2023-01-27\",\"2023-01-30\",\"2023-01-31\",\"2023-02-01\",\"2023-02-02\",\"2023-02-03\",\"2023-02-06\",\"2023-02-07\",\"2023-02-08\",\"2023-02-09\",\"2023-02-10\",\"2023-02-13\",\"2023-02-14\",\"2023-02-15\",\"2023-02-16\",\"2023-02-17\",\"2023-02-21\",\"2023-02-22\",\"2023-02-23\",\"2023-02-24\",\"2023-02-27\",\"2023-02-28\",\"2023-03-01\",\"2023-03-02\",\"2023-03-03\",\"2023-03-06\",\"2023-03-07\",\"2023-03-08\",\"2023-03-09\",\"2023-03-10\",\"2023-03-13\",\"2023-03-14\",\"2023-03-15\",\"2023-03-16\",\"2023-03-17\",\"2023-03-20\",\"2023-03-21\",\"2023-03-22\",\"2023-03-23\",\"2023-03-24\",\"2023-03-27\",\"2023-03-28\",\"2023-03-29\",\"2023-03-30\",\"2023-03-31\",\"2023-04-03\",\"2023-04-04\",\"2023-04-05\",\"2023-04-06\",\"2023-04-10\",\"2023-04-11\",\"2023-04-12\",\"2023-04-13\",\"2023-04-14\",\"2023-04-17\",\"2023-04-18\",\"2023-04-19\",\"2023-04-20\",\"2023-04-21\",\"2023-04-24\",\"2023-04-25\",\"2023-04-26\",\"2023-04-27\",\"2023-04-28\",\"2023-05-01\",\"2023-05-02\",\"2023-05-03\",\"2023-05-04\",\"2023-05-05\",\"2023-05-08\",\"2023-05-09\",\"2023-05-10\",\"2023-05-11\",\"2023-05-12\",\"2023-05-15\",\"2023-05-16\",\"2023-05-17\",\"2023-05-18\",\"2023-05-19\",\"2023-05-22\",\"2023-05-23\",\"2023-05-24\",\"2023-05-25\",\"2023-05-26\",\"2023-05-30\",\"2023-05-31\",\"2023-06-01\",\"2023-06-02\",\"2023-06-05\",\"2023-06-06\",\"2023-06-07\",\"2023-06-08\",\"2023-06-09\",\"2023-06-12\",\"2023-06-13\",\"2023-06-14\",\"2023-06-15\",\"2023-06-16\",\"2023-06-20\",\"2023-06-21\",\"2023-06-22\",\"2023-06-23\",\"2023-06-26\",\"2023-06-27\",\"2023-06-28\"],\"xaxis\":\"x\",\"y\":[1.0,1.0103142905841056,0.9996001975825383,1.0363796340220295,1.0406172337539203,1.0452546970819134,1.0673223222384238,1.0666827607277665,1.0774766306769037,1.0869113559425934,1.0810746688981372,1.0815544317990913,1.102342689219724,1.1282482952265853,1.1396018273815283,1.1342449032380262,1.151035503555886,1.1667865564097042,1.1433597865697462,1.1536738936179296,1.1627887769496499,1.2058848468704737,1.2353082247218725,1.2131607002605107,1.236507570795617,1.2146798882682246,1.2062845881092947,1.209247347324725,1.231989405817134,1.2267843270600343,1.2438408097507003,1.230868368403581,1.2215793706602165,1.1889877957176662,1.1924311743350215,1.1963549276397387,1.174814172937579,1.1845035237061723,1.1804196047199074,1.1636033093729223,1.1684080351047934,1.2094075130062731,1.2318292401355864,1.213972051394463,1.2241417768504181,1.2058841127267843,1.189147961399214,1.2049232409947792,1.2218995796660306,1.2251027709397049,1.2480048727563802,1.241198259541084,1.2604167953967231,1.2754712682466822,1.2638601740140782,1.272668552355518,1.283238875551265,1.2674635959557,1.262418682880148,1.2874029385569448,1.3001351925603832,1.3204747658295752,1.330644613642812,1.326320507312866,1.3113459337677584,1.3185529000082834,1.2974925199934855,1.2876431259006258,1.2820376941182974,1.3257598662488081,1.3229572727149255,1.3231173160391918,1.3330469765087476,1.3423359742521124,1.3344882229281148,1.3214357599188622,1.3239181444469306,1.311426077787173,1.3113459337677582,1.34858194640335,1.3587516718593053,1.358030987470981,1.3496228397974885,1.340894483118182,1.3276015880506855,1.389901878025207,1.3893412369611489,1.3754879455441573,1.3898217340057921,1.3913432468018554,1.3838055488293033,1.3797961454275016,1.3797961454275016,1.3847677664914055,1.4036921554422004,1.404574229084888,1.396876120716225,1.3757064756490038,1.3779517317654302,1.387173433003943,1.4067392188246182,1.4217344707503075,1.4213335059386711,1.4441068878951566,1.4510030666405467,1.4400173404739405,1.4370504211109374,1.4259042845482202,1.447956003258129,1.451083333017243,1.4737764485970324,1.4699274555913417,1.4750594870513565,1.491578209489614,1.482837739439434,1.4835594026860108,1.4751397534280528,1.4995168722738026,1.4969507953651544,1.4856443707636078,1.508016787908457,1.5175591875819099],\"yaxis\":\"y\",\"type\":\"scattergl\"},{\"hovertemplate\":\"variable=GOOGL_growth<br>date=%{x}<br>value=%{y}<extra></extra>\",\"legendgroup\":\"GOOGL_growth\",\"line\":{\"color\":\"#EF553B\",\"dash\":\"solid\"},\"marker\":{\"symbol\":\"circle\"},\"mode\":\"lines\",\"name\":\"GOOGL_growth\",\"showlegend\":true,\"x\":[\"2023-01-03\",\"2023-01-04\",\"2023-01-05\",\"2023-01-06\",\"2023-01-09\",\"2023-01-10\",\"2023-01-11\",\"2023-01-12\",\"2023-01-13\",\"2023-01-17\",\"2023-01-18\",\"2023-01-19\",\"2023-01-20\",\"2023-01-23\",\"2023-01-24\",\"2023-01-25\",\"2023-01-26\",\"2023-01-27\",\"2023-01-30\",\"2023-01-31\",\"2023-02-01\",\"2023-02-02\",\"2023-02-03\",\"2023-02-06\",\"2023-02-07\",\"2023-02-08\",\"2023-02-09\",\"2023-02-10\",\"2023-02-13\",\"2023-02-14\",\"2023-02-15\",\"2023-02-16\",\"2023-02-17\",\"2023-02-21\",\"2023-02-22\",\"2023-02-23\",\"2023-02-24\",\"2023-02-27\",\"2023-02-28\",\"2023-03-01\",\"2023-03-02\",\"2023-03-03\",\"2023-03-06\",\"2023-03-07\",\"2023-03-08\",\"2023-03-09\",\"2023-03-10\",\"2023-03-13\",\"2023-03-14\",\"2023-03-15\",\"2023-03-16\",\"2023-03-17\",\"2023-03-20\",\"2023-03-21\",\"2023-03-22\",\"2023-03-23\",\"2023-03-24\",\"2023-03-27\",\"2023-03-28\",\"2023-03-29\",\"2023-03-30\",\"2023-03-31\",\"2023-04-03\",\"2023-04-04\",\"2023-04-05\",\"2023-04-06\",\"2023-04-10\",\"2023-04-11\",\"2023-04-12\",\"2023-04-13\",\"2023-04-14\",\"2023-04-17\",\"2023-04-18\",\"2023-04-19\",\"2023-04-20\",\"2023-04-21\",\"2023-04-24\",\"2023-04-25\",\"2023-04-26\",\"2023-04-27\",\"2023-04-28\",\"2023-05-01\",\"2023-05-02\",\"2023-05-03\",\"2023-05-04\",\"2023-05-05\",\"2023-05-08\",\"2023-05-09\",\"2023-05-10\",\"2023-05-11\",\"2023-05-12\",\"2023-05-15\",\"2023-05-16\",\"2023-05-17\",\"2023-05-18\",\"2023-05-19\",\"2023-05-22\",\"2023-05-23\",\"2023-05-24\",\"2023-05-25\",\"2023-05-26\",\"2023-05-30\",\"2023-05-31\",\"2023-06-01\",\"2023-06-02\",\"2023-06-05\",\"2023-06-06\",\"2023-06-07\",\"2023-06-08\",\"2023-06-09\",\"2023-06-12\",\"2023-06-13\",\"2023-06-14\",\"2023-06-15\",\"2023-06-16\",\"2023-06-20\",\"2023-06-21\",\"2023-06-22\",\"2023-06-23\",\"2023-06-26\",\"2023-06-27\",\"2023-06-28\"],\"xaxis\":\"x\",\"y\":[1.0,0.9883303311997796,0.9672351244574907,0.9800268586867871,0.9876570234558503,0.9921453707802589,1.026929912730242,1.0225537976311725,1.0336624765209073,1.0243491708041779,1.0224416510139382,1.0440978476667127,1.0998652785255407,1.1197261876134146,1.0962746177876348,1.06844701847089,1.094254865772056,1.1150134614464327,1.0877468520401736,1.109066352016931,1.1269075090892262,1.2089317161505764,1.1757180829229206,1.1546229617887365,1.2078096507215004,1.1150134614464324,1.066090655387399,1.0611534647697392,1.0616023080629906,1.0623877624241542,1.0877468520401736,1.0717010681408836,1.0586848694609092,1.0299595835576618,1.0283886748353346,1.0198608234797688,1.000112146617234,1.0084156191302267,1.0105475177630396,1.0139137996583723,1.0323159466411531,1.050830325849273,1.0674370996590485,1.053186688932764,1.0575628040318334,1.035906607379059,1.0169433848776879,1.0223294187885992,1.054420986587179,1.0784335463234442,1.1256732114348114,1.140260318837113,1.1357719715127044,1.177288991645248,1.159896763474309,1.1849191564143113,1.1831238688494108,1.1496857711710768,1.1336399872717868,1.1376794913029442,1.1320690785494596,1.1639362675054663,1.171005356755939,1.1750448607870965,1.1722396544103542,1.2165618809196401,1.19434469435638,1.1821139500375692,1.1741471742005938,1.20545328763801,1.221611303762639,1.1890708926708078,1.1725762654782665,1.1689856047403606,1.1814407279017447,1.1827872577814986,1.1890708926708078,1.1652827117771156,1.1637118030547884,1.2072485752029107,1.2044433688261684,1.2028724601038412,1.181777338969657,1.1827872577814986,1.174708249719184,1.1845825453463992,1.2092683272184892,1.2045556010515073,1.253927250403792,1.3080116259230588,1.3185592292942032,1.3073384037872342,1.3410008803081412,1.3559245131702504,1.3782540175669544,1.3774685632057908,1.4031642638897226,1.3752243467395342,1.35659782091418,1.3855475712681053,1.3982270732720627,1.3876794699009183,1.3787028608602059,1.3882405454195086,1.3989002954078873,1.4139362461034404,1.4285232678976372,1.3745511246037097,1.3705116205725525,1.3715215393843943,1.3873428588330061,1.3894748430739239,1.3876794699009185,1.4036130215748692,1.386108561178591,1.3812836027862703,1.3526705491083622,1.3818446783048608,1.3727557514307047,1.3278724494028284,1.3277603027855942,1.3485188128518661],\"yaxis\":\"y\",\"type\":\"scattergl\"},{\"hovertemplate\":\"variable=META_growth<br>date=%{x}<br>value=%{y}<extra></extra>\",\"legendgroup\":\"META_growth\",\"line\":{\"color\":\"#00cc96\",\"dash\":\"solid\"},\"marker\":{\"symbol\":\"circle\"},\"mode\":\"lines\",\"name\":\"META_growth\",\"showlegend\":true,\"x\":[\"2023-01-03\",\"2023-01-04\",\"2023-01-05\",\"2023-01-06\",\"2023-01-09\",\"2023-01-10\",\"2023-01-11\",\"2023-01-12\",\"2023-01-13\",\"2023-01-17\",\"2023-01-18\",\"2023-01-19\",\"2023-01-20\",\"2023-01-23\",\"2023-01-24\",\"2023-01-25\",\"2023-01-26\",\"2023-01-27\",\"2023-01-30\",\"2023-01-31\",\"2023-02-01\",\"2023-02-02\",\"2023-02-03\",\"2023-02-06\",\"2023-02-07\",\"2023-02-08\",\"2023-02-09\",\"2023-02-10\",\"2023-02-13\",\"2023-02-14\",\"2023-02-15\",\"2023-02-16\",\"2023-02-17\",\"2023-02-21\",\"2023-02-22\",\"2023-02-23\",\"2023-02-24\",\"2023-02-27\",\"2023-02-28\",\"2023-03-01\",\"2023-03-02\",\"2023-03-03\",\"2023-03-06\",\"2023-03-07\",\"2023-03-08\",\"2023-03-09\",\"2023-03-10\",\"2023-03-13\",\"2023-03-14\",\"2023-03-15\",\"2023-03-16\",\"2023-03-17\",\"2023-03-20\",\"2023-03-21\",\"2023-03-22\",\"2023-03-23\",\"2023-03-24\",\"2023-03-27\",\"2023-03-28\",\"2023-03-29\",\"2023-03-30\",\"2023-03-31\",\"2023-04-03\",\"2023-04-04\",\"2023-04-05\",\"2023-04-06\",\"2023-04-10\",\"2023-04-11\",\"2023-04-12\",\"2023-04-13\",\"2023-04-14\",\"2023-04-17\",\"2023-04-18\",\"2023-04-19\",\"2023-04-20\",\"2023-04-21\",\"2023-04-24\",\"2023-04-25\",\"2023-04-26\",\"2023-04-27\",\"2023-04-28\",\"2023-05-01\",\"2023-05-02\",\"2023-05-03\",\"2023-05-04\",\"2023-05-05\",\"2023-05-08\",\"2023-05-09\",\"2023-05-10\",\"2023-05-11\",\"2023-05-12\",\"2023-05-15\",\"2023-05-16\",\"2023-05-17\",\"2023-05-18\",\"2023-05-19\",\"2023-05-22\",\"2023-05-23\",\"2023-05-24\",\"2023-05-25\",\"2023-05-26\",\"2023-05-30\",\"2023-05-31\",\"2023-06-01\",\"2023-06-02\",\"2023-06-05\",\"2023-06-06\",\"2023-06-07\",\"2023-06-08\",\"2023-06-09\",\"2023-06-12\",\"2023-06-13\",\"2023-06-14\",\"2023-06-15\",\"2023-06-16\",\"2023-06-20\",\"2023-06-21\",\"2023-06-22\",\"2023-06-23\",\"2023-06-26\",\"2023-06-27\",\"2023-06-28\"],\"xaxis\":\"x\",\"y\":[1.0,1.0210838939221787,1.0176367213028126,1.042328094429325,1.0379188988130281,1.066137628432578,1.065335912020615,1.095959668551304,1.0981240826790544,1.0851371086135528,1.0663781188912171,1.091470227898961,1.1172839306073716,1.1485490358026813,1.1475068289320793,1.134359487119235,1.1808562255438428,1.216450281319403,1.1789321795499816,1.1942440578153262,1.2275132093910432,1.5133077401413755,1.4953503445062528,1.4915824975545764,1.5361551899853227,1.4704986036323977,1.426326769407633,1.3961038710829254,1.4384319043498752,1.4388327625558568,1.4202341405808638,1.3823954256415072,1.3859227821345448,1.3795094178130902,1.3718133561623949,1.3791886823184052,1.3659612177942646,1.3591469952668285,1.402437112693084,1.3902517327147952,1.3991502466586851,1.4850890105218255,1.4822831254047046,1.4791566271176486,1.4828443513580285,1.45654966773234,1.4390732530144952,1.4502164261221817,1.5553952829496858,1.585297445779708,1.642857112275956,1.5681417665565487,1.5857784266969859,1.6206510110966292,1.6018117763382471,1.6376463225724462,1.6515151357612075,1.6261022912587784,1.6087862442882763,1.6462242233464013,1.6661856653619314,1.699054081056417,1.7081129627476497,1.7213404272717903,1.6953663568160369,1.7324034776681805,1.721580917730429,1.7143659593217615,1.7155684116149559,1.7664743456558603,1.775613350058389,1.7545294561362106,1.746753271774219,1.7291967343450778,1.7081129627476492,1.7066698976710657,1.7058681812591026,1.663860883486838,1.6786916585101546,1.912457925637684,1.9265673516098338,1.9494949241650774,1.9179093281245827,1.900192422948099,1.8720539383645955,1.8661215549604189,1.870049769659438,1.870851363746651,1.8685265818715582,1.8902517021336074,1.8743787202396887,1.9148629525488234,1.9145423393788883,1.9439635212916329,1.9789162284025723,1.9692159980467192,1.9907007501748795,1.978034389279313,1.9978355858722507,2.0257335799971155,2.100689538499912,2.1045373858381344,2.122174168303322,2.185425605420358,2.185425605420358,2.1756454970027086,2.1734808382254585,2.113195531648136,2.1210517163966736,2.124018091585887,2.1729196122721333,2.1750842710493834,2.1913581111492837,2.2593393570525513,2.252685624597208,2.279381044104128,2.2578164139141714,2.2837903620451745,2.3146546090345024,2.232403447086992,2.3011864094022227,2.287077228079573],\"yaxis\":\"y\",\"type\":\"scattergl\"},{\"hovertemplate\":\"variable=MSFT_growth<br>date=%{x}<br>value=%{y}<extra></extra>\",\"legendgroup\":\"MSFT_growth\",\"line\":{\"color\":\"#ab63fa\",\"dash\":\"solid\"},\"marker\":{\"symbol\":\"circle\"},\"mode\":\"lines\",\"name\":\"MSFT_growth\",\"showlegend\":true,\"x\":[\"2023-01-03\",\"2023-01-04\",\"2023-01-05\",\"2023-01-06\",\"2023-01-09\",\"2023-01-10\",\"2023-01-11\",\"2023-01-12\",\"2023-01-13\",\"2023-01-17\",\"2023-01-18\",\"2023-01-19\",\"2023-01-20\",\"2023-01-23\",\"2023-01-24\",\"2023-01-25\",\"2023-01-26\",\"2023-01-27\",\"2023-01-30\",\"2023-01-31\",\"2023-02-01\",\"2023-02-02\",\"2023-02-03\",\"2023-02-06\",\"2023-02-07\",\"2023-02-08\",\"2023-02-09\",\"2023-02-10\",\"2023-02-13\",\"2023-02-14\",\"2023-02-15\",\"2023-02-16\",\"2023-02-17\",\"2023-02-21\",\"2023-02-22\",\"2023-02-23\",\"2023-02-24\",\"2023-02-27\",\"2023-02-28\",\"2023-03-01\",\"2023-03-02\",\"2023-03-03\",\"2023-03-06\",\"2023-03-07\",\"2023-03-08\",\"2023-03-09\",\"2023-03-10\",\"2023-03-13\",\"2023-03-14\",\"2023-03-15\",\"2023-03-16\",\"2023-03-17\",\"2023-03-20\",\"2023-03-21\",\"2023-03-22\",\"2023-03-23\",\"2023-03-24\",\"2023-03-27\",\"2023-03-28\",\"2023-03-29\",\"2023-03-30\",\"2023-03-31\",\"2023-04-03\",\"2023-04-04\",\"2023-04-05\",\"2023-04-06\",\"2023-04-10\",\"2023-04-11\",\"2023-04-12\",\"2023-04-13\",\"2023-04-14\",\"2023-04-17\",\"2023-04-18\",\"2023-04-19\",\"2023-04-20\",\"2023-04-21\",\"2023-04-24\",\"2023-04-25\",\"2023-04-26\",\"2023-04-27\",\"2023-04-28\",\"2023-05-01\",\"2023-05-02\",\"2023-05-03\",\"2023-05-04\",\"2023-05-05\",\"2023-05-08\",\"2023-05-09\",\"2023-05-10\",\"2023-05-11\",\"2023-05-12\",\"2023-05-15\",\"2023-05-16\",\"2023-05-17\",\"2023-05-18\",\"2023-05-19\",\"2023-05-22\",\"2023-05-23\",\"2023-05-24\",\"2023-05-25\",\"2023-05-26\",\"2023-05-30\",\"2023-05-31\",\"2023-06-01\",\"2023-06-02\",\"2023-06-05\",\"2023-06-06\",\"2023-06-07\",\"2023-06-08\",\"2023-06-09\",\"2023-06-12\",\"2023-06-13\",\"2023-06-14\",\"2023-06-15\",\"2023-06-16\",\"2023-06-20\",\"2023-06-21\",\"2023-06-22\",\"2023-06-23\",\"2023-06-26\",\"2023-06-27\",\"2023-06-28\"],\"xaxis\":\"x\",\"y\":[1.0,0.9562567780183474,0.9279154149382213,0.9388512364308454,0.9479922988145938,0.9552132479432066,0.9840971084465018,0.9955337706245644,0.9985390706925719,1.003213967689729,0.9842640553416481,0.9680690547132775,1.002671342288871,1.0125218489909347,1.0102679059343513,1.004299154502601,1.035144784998763,1.035812636568192,1.0130645383806376,1.0343517072607635,1.0549711525491496,1.1044327376142558,1.0783453815795574,1.0717504353161091,1.1167877036988882,1.1133233476608624,1.100342186744532,1.0981718131187885,1.1324817356641317,1.1360297891106859,1.1269495161291563,1.0969470666361911,1.0798328662574284,1.0572787822462184,1.0524248444623159,1.0660661142978978,1.0428425150073037,1.0467759092750806,1.0436794251037451,1.0304984910150703,1.0507510882582773,1.0682419269754189,1.074853382360733,1.063471686600045,1.0615887508635298,1.0558142695635016,1.0402063025940311,1.0625092943796552,1.0912564107223806,1.110713882584566,1.155738353198457,1.1692539489435572,1.1391262092931769,1.145611990588009,1.1393773015187627,1.1618476241325995,1.17402431729662,1.1564915018975255,1.151679540795576,1.1737732250710342,1.1885860026706387,1.2063697823176303,1.2018926108497954,1.201683239350785,1.1897994871166144,1.2201784469702692,1.2109309071493715,1.1834809726611504,1.186242731187216,1.212813842885887,1.1973316139957428,1.2084620895531561,1.2066627232474803,1.2069976408592833,1.1972059399052608,1.1957414912113884,1.1790455219198908,1.1524745381989088,1.2359537447679523,1.2755383957382407,1.2857066070529528,1.2785930951941562,1.2779653646301918,1.2737391574102537,1.2779653646301918,1.2998917820662819,1.2915229370572454,1.2846186687197703,1.3068378991080214,1.297632080013699,1.292861967616014,1.2949122981695866,1.3044527789203346,1.3167818935118134,1.3357367969897609,1.3349819845807371,1.3468917162857508,1.3220658363303586,1.3161528831709606,1.3667693389005344,1.395998547197277,1.3889532474466544,1.3771274691055473,1.3946984218559286,1.4065243281747246,1.4087888933794852,1.399311377651667,1.3561176278772278,1.3640015654230917,1.3704177268551723,1.39163719553788,1.4018695236747218,1.4146598698569297,1.4597827553135707,1.435585757721343,1.4176372707887608,1.3988081693789842,1.424598617175477,1.4049307499927701,1.3780080835827413,1.4030437189702105,1.4084114871749727],\"yaxis\":\"y\",\"type\":\"scattergl\"},{\"hovertemplate\":\"variable=NFLX_growth<br>date=%{x}<br>value=%{y}<extra></extra>\",\"legendgroup\":\"NFLX_growth\",\"line\":{\"color\":\"#FFA15A\",\"dash\":\"solid\"},\"marker\":{\"symbol\":\"circle\"},\"mode\":\"lines\",\"name\":\"NFLX_growth\",\"showlegend\":true,\"x\":[\"2023-01-03\",\"2023-01-04\",\"2023-01-05\",\"2023-01-06\",\"2023-01-09\",\"2023-01-10\",\"2023-01-11\",\"2023-01-12\",\"2023-01-13\",\"2023-01-17\",\"2023-01-18\",\"2023-01-19\",\"2023-01-20\",\"2023-01-23\",\"2023-01-24\",\"2023-01-25\",\"2023-01-26\",\"2023-01-27\",\"2023-01-30\",\"2023-01-31\",\"2023-02-01\",\"2023-02-02\",\"2023-02-03\",\"2023-02-06\",\"2023-02-07\",\"2023-02-08\",\"2023-02-09\",\"2023-02-10\",\"2023-02-13\",\"2023-02-14\",\"2023-02-15\",\"2023-02-16\",\"2023-02-17\",\"2023-02-21\",\"2023-02-22\",\"2023-02-23\",\"2023-02-24\",\"2023-02-27\",\"2023-02-28\",\"2023-03-01\",\"2023-03-02\",\"2023-03-03\",\"2023-03-06\",\"2023-03-07\",\"2023-03-08\",\"2023-03-09\",\"2023-03-10\",\"2023-03-13\",\"2023-03-14\",\"2023-03-15\",\"2023-03-16\",\"2023-03-17\",\"2023-03-20\",\"2023-03-21\",\"2023-03-22\",\"2023-03-23\",\"2023-03-24\",\"2023-03-27\",\"2023-03-28\",\"2023-03-29\",\"2023-03-30\",\"2023-03-31\",\"2023-04-03\",\"2023-04-04\",\"2023-04-05\",\"2023-04-06\",\"2023-04-10\",\"2023-04-11\",\"2023-04-12\",\"2023-04-13\",\"2023-04-14\",\"2023-04-17\",\"2023-04-18\",\"2023-04-19\",\"2023-04-20\",\"2023-04-21\",\"2023-04-24\",\"2023-04-25\",\"2023-04-26\",\"2023-04-27\",\"2023-04-28\",\"2023-05-01\",\"2023-05-02\",\"2023-05-03\",\"2023-05-04\",\"2023-05-05\",\"2023-05-08\",\"2023-05-09\",\"2023-05-10\",\"2023-05-11\",\"2023-05-12\",\"2023-05-15\",\"2023-05-16\",\"2023-05-17\",\"2023-05-18\",\"2023-05-19\",\"2023-05-22\",\"2023-05-23\",\"2023-05-24\",\"2023-05-25\",\"2023-05-26\",\"2023-05-30\",\"2023-05-31\",\"2023-06-01\",\"2023-06-02\",\"2023-06-05\",\"2023-06-06\",\"2023-06-07\",\"2023-06-08\",\"2023-06-09\",\"2023-06-12\",\"2023-06-13\",\"2023-06-14\",\"2023-06-15\",\"2023-06-16\",\"2023-06-20\",\"2023-06-21\",\"2023-06-22\",\"2023-06-23\",\"2023-06-26\",\"2023-06-27\",\"2023-06-28\"],\"xaxis\":\"x\",\"y\":[1.0,1.0490252275186494,1.0500084739431936,1.0698422604962563,1.068553993503517,1.110493286960826,1.1095439776958365,1.1192744235287155,1.128394621291305,1.106017927511469,1.106390822398774,1.0706220908973714,1.1612137169860248,1.211798605306903,1.2335310103899444,1.2475333996487508,1.2370570605743123,1.2231563793272209,1.197185864510857,1.1997286682706805,1.2272926775818782,1.2439057449196176,1.2405491735991248,1.225563641382724,1.2305475408906559,1.2437022254292378,1.2290218172479819,1.177691035685544,1.2156975503785752,1.2204101595439674,1.2253602253592941,1.189048913172812,1.1797252993867928,1.144261691920535,1.1353788473409305,1.0973045617957393,1.0752669292106032,1.0952025272423307,1.0921511834239326,1.0628242007540258,1.0573995320396792,1.0685878271961222,1.0579080720982539,1.0458382385289815,1.0570944080045344,1.0095948006616091,0.9925750047439598,0.9951178085037832,0.9999660628404452,1.0299711678997514,1.0512289700837731,1.028987921475207,1.0345142982012683,1.0367519779259469,0.9964400126560772,1.0861840374914562,1.1133751519153492,1.1109001190076857,1.0968637925893245,1.1257161723602116,1.1474147437506481,1.1713171611731579,1.1808102538230518,1.17562293829169,1.1607051769274495,1.150466087569046,1.1493133622806266,1.1466688505090883,1.1223257673471134,1.1737243197617113,1.1480928661400474,1.128055560096605,1.1313781942575427,1.0955076512774753,1.1030682917047856,1.111985073443945,1.115511020161363,1.0935750955879417,1.0888285492629948,1.1047634942113347,1.1185963011393163,1.0988980562905737,1.0766230705224527,1.082556279295374,1.087574115962861,1.0942871551368967,1.1229360154174037,1.1260891707144667,1.1372096950187498,1.16887606542505,1.1523648095659753,1.1388031895135837,1.1315476731214182,1.1526020592820103,1.2588235062838589,1.2387183259213066,1.2307509569140864,1.2069502475032914,1.2369892897221526,1.21715539970214,1.2845566679172378,1.3323613992953078,1.339989810574778,1.3667739894848612,1.3577554997339867,1.3681640679562652,1.353754846650599,1.3553821748380384,1.387930083657168,1.4240378763532704,1.437430017541787,1.477301213605242,1.494693904410196,1.5096456029339915,1.4645193204870146,1.4738091005804286,1.4390574491961754,1.4323783471816947,1.4375994964056615,1.4102050694252886,1.4140700773374062,1.4573316784139592],\"yaxis\":\"y\",\"type\":\"scattergl\"},{\"hovertemplate\":\"variable=AMZN_growth<br>date=%{x}<br>value=%{y}<extra></extra>\",\"legendgroup\":\"AMZN_growth\",\"line\":{\"color\":\"#19d3f3\",\"dash\":\"solid\"},\"marker\":{\"symbol\":\"circle\"},\"mode\":\"lines\",\"name\":\"AMZN_growth\",\"showlegend\":true,\"x\":[\"2023-01-03\",\"2023-01-04\",\"2023-01-05\",\"2023-01-06\",\"2023-01-09\",\"2023-01-10\",\"2023-01-11\",\"2023-01-12\",\"2023-01-13\",\"2023-01-17\",\"2023-01-18\",\"2023-01-19\",\"2023-01-20\",\"2023-01-23\",\"2023-01-24\",\"2023-01-25\",\"2023-01-26\",\"2023-01-27\",\"2023-01-30\",\"2023-01-31\",\"2023-02-01\",\"2023-02-02\",\"2023-02-03\",\"2023-02-06\",\"2023-02-07\",\"2023-02-08\",\"2023-02-09\",\"2023-02-10\",\"2023-02-13\",\"2023-02-14\",\"2023-02-15\",\"2023-02-16\",\"2023-02-17\",\"2023-02-21\",\"2023-02-22\",\"2023-02-23\",\"2023-02-24\",\"2023-02-27\",\"2023-02-28\",\"2023-03-01\",\"2023-03-02\",\"2023-03-03\",\"2023-03-06\",\"2023-03-07\",\"2023-03-08\",\"2023-03-09\",\"2023-03-10\",\"2023-03-13\",\"2023-03-14\",\"2023-03-15\",\"2023-03-16\",\"2023-03-17\",\"2023-03-20\",\"2023-03-21\",\"2023-03-22\",\"2023-03-23\",\"2023-03-24\",\"2023-03-27\",\"2023-03-28\",\"2023-03-29\",\"2023-03-30\",\"2023-03-31\",\"2023-04-03\",\"2023-04-04\",\"2023-04-05\",\"2023-04-06\",\"2023-04-10\",\"2023-04-11\",\"2023-04-12\",\"2023-04-13\",\"2023-04-14\",\"2023-04-17\",\"2023-04-18\",\"2023-04-19\",\"2023-04-20\",\"2023-04-21\",\"2023-04-24\",\"2023-04-25\",\"2023-04-26\",\"2023-04-27\",\"2023-04-28\",\"2023-05-01\",\"2023-05-02\",\"2023-05-03\",\"2023-05-04\",\"2023-05-05\",\"2023-05-08\",\"2023-05-09\",\"2023-05-10\",\"2023-05-11\",\"2023-05-12\",\"2023-05-15\",\"2023-05-16\",\"2023-05-17\",\"2023-05-18\",\"2023-05-19\",\"2023-05-22\",\"2023-05-23\",\"2023-05-24\",\"2023-05-25\",\"2023-05-26\",\"2023-05-30\",\"2023-05-31\",\"2023-06-01\",\"2023-06-02\",\"2023-06-05\",\"2023-06-06\",\"2023-06-07\",\"2023-06-08\",\"2023-06-09\",\"2023-06-12\",\"2023-06-13\",\"2023-06-14\",\"2023-06-15\",\"2023-06-16\",\"2023-06-20\",\"2023-06-21\",\"2023-06-22\",\"2023-06-23\",\"2023-06-26\",\"2023-06-27\",\"2023-06-28\"],\"xaxis\":\"x\",\"y\":[1.0,0.99207643547432,0.9685388375921304,1.0030296217333377,1.0179445458052154,1.0471918325117644,1.1080167405736483,1.1101141573275035,1.1433232707468723,1.1192030225275162,1.112328121928784,1.0915870500850815,1.1331857416199116,1.1363318223007146,1.1223491032083193,1.1323700844878546,1.1561407780648947,1.191330671490734,1.171638352473939,1.2017012074125855,1.2252388941947352,1.315660732505444,1.2047308291459233,1.1906315622061028,1.1898159050740458,1.1658122047021149,1.1447214893161366,1.1373805751276231,1.159869509082865,1.1617338301418696,1.1787462598675624,1.1436728253891888,1.1326030912827458,1.1020741338543585,1.1161734007941793,1.1165229554364953,1.089489633331227,1.0925192550645646,1.0979958481940733,1.0739920589221825,1.0735259564324413,1.105802864872328,1.092402707217139,1.0900722836683931,1.0943835761235692,1.074924263901665,1.0572128137913002,1.0770216806555202,1.1055697691774773,1.1209507957390963,1.1656956568546895,1.1529946084841323,1.1385457869019957,1.1723374617585713,1.15008153459822,1.1501980824456455,1.1434397296943384,1.1423910657673906,1.133069193772487,1.168142628250861,1.1885341454522473,1.2035656173715503,1.1933116292971242,1.2112560862023798,1.1780470616829708,1.1892332547368794,1.1905150143586776,1.1642973493854663,1.1399440943712196,1.1931950814496992,1.1944768410714974,1.1971568192625592,1.1920298696753262,1.2153344607626253,1.209624771938266,1.2463295206807539,1.2375902990230168,1.1951759503561294,1.2232580252883054,1.2796550930475883,1.2287345295178544,1.1891167957894142,1.2075273551844108,1.2077604508792612,1.2118387365395467,1.2311815898139855,1.2331624587204155,1.2423677828678936,1.2839664744027237,1.3071545176425974,1.2847821315347807,1.2957352288938384,1.3213703324298434,1.3458401352915152,1.3767187362621784,1.3545793569492526,1.340130535367116,1.3398974396722656,1.3604055047210772,1.3400139875196906,1.399557224859736,1.417618318512377,1.405033817989245,1.4305522847778647,1.4477977212984483,1.4600326671792643,1.4752971458934578,1.412607827872609,1.447797721298448,1.438242842508654,1.4748310434037164,1.475879796230624,1.473083181292177,1.4811232936652823,1.4622465428805844,1.465625719256238,1.454556074049755,1.5165461938860119,1.5069914039961776,1.4836868129088785,1.5052434529846783,1.5036121387205643],\"yaxis\":\"y\",\"type\":\"scattergl\"},{\"hovertemplate\":\"variable=NVDA_growth<br>date=%{x}<br>value=%{y}<extra></extra>\",\"legendgroup\":\"NVDA_growth\",\"line\":{\"color\":\"#FF6692\",\"dash\":\"solid\"},\"marker\":{\"symbol\":\"circle\"},\"mode\":\"lines\",\"name\":\"NVDA_growth\",\"showlegend\":true,\"x\":[\"2023-01-03\",\"2023-01-04\",\"2023-01-05\",\"2023-01-06\",\"2023-01-09\",\"2023-01-10\",\"2023-01-11\",\"2023-01-12\",\"2023-01-13\",\"2023-01-17\",\"2023-01-18\",\"2023-01-19\",\"2023-01-20\",\"2023-01-23\",\"2023-01-24\",\"2023-01-25\",\"2023-01-26\",\"2023-01-27\",\"2023-01-30\",\"2023-01-31\",\"2023-02-01\",\"2023-02-02\",\"2023-02-03\",\"2023-02-06\",\"2023-02-07\",\"2023-02-08\",\"2023-02-09\",\"2023-02-10\",\"2023-02-13\",\"2023-02-14\",\"2023-02-15\",\"2023-02-16\",\"2023-02-17\",\"2023-02-21\",\"2023-02-22\",\"2023-02-23\",\"2023-02-24\",\"2023-02-27\",\"2023-02-28\",\"2023-03-01\",\"2023-03-02\",\"2023-03-03\",\"2023-03-06\",\"2023-03-07\",\"2023-03-08\",\"2023-03-09\",\"2023-03-10\",\"2023-03-13\",\"2023-03-14\",\"2023-03-15\",\"2023-03-16\",\"2023-03-17\",\"2023-03-20\",\"2023-03-21\",\"2023-03-22\",\"2023-03-23\",\"2023-03-24\",\"2023-03-27\",\"2023-03-28\",\"2023-03-29\",\"2023-03-30\",\"2023-03-31\",\"2023-04-03\",\"2023-04-04\",\"2023-04-05\",\"2023-04-06\",\"2023-04-10\",\"2023-04-11\",\"2023-04-12\",\"2023-04-13\",\"2023-04-14\",\"2023-04-17\",\"2023-04-18\",\"2023-04-19\",\"2023-04-20\",\"2023-04-21\",\"2023-04-24\",\"2023-04-25\",\"2023-04-26\",\"2023-04-27\",\"2023-04-28\",\"2023-05-01\",\"2023-05-02\",\"2023-05-03\",\"2023-05-04\",\"2023-05-05\",\"2023-05-08\",\"2023-05-09\",\"2023-05-10\",\"2023-05-11\",\"2023-05-12\",\"2023-05-15\",\"2023-05-16\",\"2023-05-17\",\"2023-05-18\",\"2023-05-19\",\"2023-05-22\",\"2023-05-23\",\"2023-05-24\",\"2023-05-25\",\"2023-05-26\",\"2023-05-30\",\"2023-05-31\",\"2023-06-01\",\"2023-06-02\",\"2023-06-05\",\"2023-06-06\",\"2023-06-07\",\"2023-06-08\",\"2023-06-09\",\"2023-06-12\",\"2023-06-13\",\"2023-06-14\",\"2023-06-15\",\"2023-06-16\",\"2023-06-20\",\"2023-06-21\",\"2023-06-22\",\"2023-06-23\",\"2023-06-26\",\"2023-06-27\",\"2023-06-28\"],\"xaxis\":\"x\",\"y\":[1.0,1.0303180090999875,0.9965072715241872,1.0380021610177894,1.0917220266653473,1.1113518046972177,1.117778561569069,1.1534056075149004,1.1805101315568098,1.236605112276326,1.2139016308284738,1.171149133044615,1.2461754100741305,1.340761414381239,1.3457912078093481,1.3498429562313938,1.3833042930130297,1.4226336865867422,1.338596025083502,1.3647922350071668,1.4630109626764898,1.5165212091719797,1.473978437162342,1.4732100113083464,1.5489347700597327,1.5511702101117473,1.56039121373754,1.4855048249722735,1.5220399717920439,1.6046805632293895,1.5902201470234194,1.5369893571899695,1.49409729100832,1.4428922154526638,1.449808048138623,1.653091285408951,1.6266854563332178,1.6417045726189627,1.6217955511693578,1.5856095918994466,1.6286414397231923,1.6688789341708437,1.6454070268689962,1.627101495972775,1.6894941141373088,1.6374420322011698,1.604533851147372,1.6046037952794965,1.6812496628074427,1.692777969816122,1.7845155633157532,1.7973714227468132,1.8095984247216688,1.8304891163305268,1.8492838296630087,1.8997988466468514,1.871012997880139,1.8536854053678289,1.8452315481301997,1.8853359781313705,1.913213619401991,1.9407417532562945,1.953877175971547,1.9181043775430722,1.8781396225618452,1.8890389654921673,1.9269079554413235,1.898261781694555,1.8511704020316218,1.8489345354909967,1.869545663815662,1.8865934797994741,1.9330564284948133,1.951501634410978,1.8937203177254853,1.8947682002415207,1.889388472908484,1.833423571215175,1.8833796748749378,1.9022443323395442,1.9387854499998618,2.019903157231211,1.9709951493317888,1.9424884373606586,1.925719971416734,2.00383327963131,2.0367415673072604,1.996217472513343,2.018156473126847,1.9967066549496038,1.9800778640256225,2.0229073430036792,2.0410731988799564,2.108496570071973,2.2132995355325793,2.1843740117459234,2.178225538692433,2.1441294802361983,2.133649375610012,2.6536117081359314,2.721104810215767,2.802501867487003,2.6434109535496324,2.7786769342378017,2.747724949818284,2.7368253936436564,2.70070330104317,2.6185991256556997,2.6909207185394814,2.7090884936145065,2.7588400959855273,2.8664489300147125,3.0044538205596094,2.9804164959823716,2.9831417582035624,3.061123068193184,3.007807940237005,3.006410337060347,2.9493915820104553,2.8391973740243284,2.926123003153671,2.8730872252373794],\"yaxis\":\"y\",\"type\":\"scattergl\"},{\"hovertemplate\":\"variable=BAC_growth<br>date=%{x}<br>value=%{y}<extra></extra>\",\"legendgroup\":\"BAC_growth\",\"line\":{\"color\":\"#B6E880\",\"dash\":\"solid\"},\"marker\":{\"symbol\":\"circle\"},\"mode\":\"lines\",\"name\":\"BAC_growth\",\"showlegend\":true,\"x\":[\"2023-01-03\",\"2023-01-04\",\"2023-01-05\",\"2023-01-06\",\"2023-01-09\",\"2023-01-10\",\"2023-01-11\",\"2023-01-12\",\"2023-01-13\",\"2023-01-17\",\"2023-01-18\",\"2023-01-19\",\"2023-01-20\",\"2023-01-23\",\"2023-01-24\",\"2023-01-25\",\"2023-01-26\",\"2023-01-27\",\"2023-01-30\",\"2023-01-31\",\"2023-02-01\",\"2023-02-02\",\"2023-02-03\",\"2023-02-06\",\"2023-02-07\",\"2023-02-08\",\"2023-02-09\",\"2023-02-10\",\"2023-02-13\",\"2023-02-14\",\"2023-02-15\",\"2023-02-16\",\"2023-02-17\",\"2023-02-21\",\"2023-02-22\",\"2023-02-23\",\"2023-02-24\",\"2023-02-27\",\"2023-02-28\",\"2023-03-01\",\"2023-03-02\",\"2023-03-03\",\"2023-03-06\",\"2023-03-07\",\"2023-03-08\",\"2023-03-09\",\"2023-03-10\",\"2023-03-13\",\"2023-03-14\",\"2023-03-15\",\"2023-03-16\",\"2023-03-17\",\"2023-03-20\",\"2023-03-21\",\"2023-03-22\",\"2023-03-23\",\"2023-03-24\",\"2023-03-27\",\"2023-03-28\",\"2023-03-29\",\"2023-03-30\",\"2023-03-31\",\"2023-04-03\",\"2023-04-04\",\"2023-04-05\",\"2023-04-06\",\"2023-04-10\",\"2023-04-11\",\"2023-04-12\",\"2023-04-13\",\"2023-04-14\",\"2023-04-17\",\"2023-04-18\",\"2023-04-19\",\"2023-04-20\",\"2023-04-21\",\"2023-04-24\",\"2023-04-25\",\"2023-04-26\",\"2023-04-27\",\"2023-04-28\",\"2023-05-01\",\"2023-05-02\",\"2023-05-03\",\"2023-05-04\",\"2023-05-05\",\"2023-05-08\",\"2023-05-09\",\"2023-05-10\",\"2023-05-11\",\"2023-05-12\",\"2023-05-15\",\"2023-05-16\",\"2023-05-17\",\"2023-05-18\",\"2023-05-19\",\"2023-05-22\",\"2023-05-23\",\"2023-05-24\",\"2023-05-25\",\"2023-05-26\",\"2023-05-30\",\"2023-05-31\",\"2023-06-01\",\"2023-06-02\",\"2023-06-05\",\"2023-06-06\",\"2023-06-07\",\"2023-06-08\",\"2023-06-09\",\"2023-06-12\",\"2023-06-13\",\"2023-06-14\",\"2023-06-15\",\"2023-06-16\",\"2023-06-20\",\"2023-06-21\",\"2023-06-22\",\"2023-06-23\",\"2023-06-26\",\"2023-06-27\",\"2023-06-28\"],\"xaxis\":\"x\",\"y\":[1.0,1.0188003017527716,1.0167114306647709,1.0268577059213209,1.0113398663824686,1.0182035639349083,1.0259624259592388,1.0286482658454856,1.0513278831202313,1.0301402836254316,1.0062668442443852,0.9916442846676151,1.0101461597663592,1.0241718660350743,1.0316323014053774,1.0405848700458176,1.0546105763145328,1.0578932695088343,1.053416869698423,1.0587884339807252,1.071918744797167,1.0781857045317427,1.0871381576819918,1.0853477132480185,1.0972843174483504,1.0892271442601837,1.065950558187192,1.0617727005209994,1.063861571609,1.0629662916469178,1.0611758472129444,1.052820131880559,1.0549088874783685,1.030140283625431,1.0232767015631827,1.0223813061109093,1.0208892883309633,1.0208892883309633,1.023575012727019,1.0188003017527714,1.0058851491625111,1.0260088530160953,1.0239063540855344,0.9911677721387764,0.9779522295612386,0.9172807857583037,0.909171180023338,0.8563088942229956,0.8638177777285017,0.8557081719935359,0.8701251590299929,0.8355844681399516,0.8334820269544864,0.8587117253957383,0.8301780835650063,0.810054379711422,0.8151604320441852,0.8557081719935358,0.8445951283465588,0.861114556568481,0.8500014551764085,0.8590121153830158,0.8587117253957381,0.8403901304854371,0.8301780835650062,0.8361851903694111,0.8391887437716135,0.8623159432823047,0.8554078397513538,0.8578106709240966,0.8866446449970106,0.9121747334255401,0.9178814502426673,0.9028637409767507,0.8980580786312651,0.8971570819047191,0.8938531385152391,0.8662206089012442,0.85420645303753,0.8677223278572497,0.8794361514787817,0.8722277157056488,0.845796515060382,0.8367859125988703,0.8106551019408811,0.8322805824955667,0.8316799180112027,0.8307788057944654,0.8205667588740345,0.8226692578045954,0.8136586553430838,0.8304784735522837,0.8217682033329539,0.8581110031662784,0.855107449764076,0.8442947961043766,0.8512028996353275,0.8584113931535561,0.8439944061170991,0.84609690504766,0.8503017874185904,0.8488000684625848,0.8346834714134054,0.8410412064382543,0.8691969643634222,0.864050259483361,0.8849400097750892,0.8925087749447258,0.8849400097750892,0.886151039919877,0.8819124921582154,0.8900867724002458,0.881609792367114,0.8891785575367507,0.883729037375397,0.8740410271974773,0.864958474346856,0.8464906688545121,0.8401329338296631,0.8504264590799766,0.8549677066327394,0.8498209440075826],\"yaxis\":\"y\",\"type\":\"scattergl\"},{\"hovertemplate\":\"variable=JPM_growth<br>date=%{x}<br>value=%{y}<extra></extra>\",\"legendgroup\":\"JPM_growth\",\"line\":{\"color\":\"#FF97FF\",\"dash\":\"solid\"},\"marker\":{\"symbol\":\"circle\"},\"mode\":\"lines\",\"name\":\"JPM_growth\",\"showlegend\":true,\"x\":[\"2023-01-03\",\"2023-01-04\",\"2023-01-05\",\"2023-01-06\",\"2023-01-09\",\"2023-01-10\",\"2023-01-11\",\"2023-01-12\",\"2023-01-13\",\"2023-01-17\",\"2023-01-18\",\"2023-01-19\",\"2023-01-20\",\"2023-01-23\",\"2023-01-24\",\"2023-01-25\",\"2023-01-26\",\"2023-01-27\",\"2023-01-30\",\"2023-01-31\",\"2023-02-01\",\"2023-02-02\",\"2023-02-03\",\"2023-02-06\",\"2023-02-07\",\"2023-02-08\",\"2023-02-09\",\"2023-02-10\",\"2023-02-13\",\"2023-02-14\",\"2023-02-15\",\"2023-02-16\",\"2023-02-17\",\"2023-02-21\",\"2023-02-22\",\"2023-02-23\",\"2023-02-24\",\"2023-02-27\",\"2023-02-28\",\"2023-03-01\",\"2023-03-02\",\"2023-03-03\",\"2023-03-06\",\"2023-03-07\",\"2023-03-08\",\"2023-03-09\",\"2023-03-10\",\"2023-03-13\",\"2023-03-14\",\"2023-03-15\",\"2023-03-16\",\"2023-03-17\",\"2023-03-20\",\"2023-03-21\",\"2023-03-22\",\"2023-03-23\",\"2023-03-24\",\"2023-03-27\",\"2023-03-28\",\"2023-03-29\",\"2023-03-30\",\"2023-03-31\",\"2023-04-03\",\"2023-04-04\",\"2023-04-05\",\"2023-04-06\",\"2023-04-10\",\"2023-04-11\",\"2023-04-12\",\"2023-04-13\",\"2023-04-14\",\"2023-04-17\",\"2023-04-18\",\"2023-04-19\",\"2023-04-20\",\"2023-04-21\",\"2023-04-24\",\"2023-04-25\",\"2023-04-26\",\"2023-04-27\",\"2023-04-28\",\"2023-05-01\",\"2023-05-02\",\"2023-05-03\",\"2023-05-04\",\"2023-05-05\",\"2023-05-08\",\"2023-05-09\",\"2023-05-10\",\"2023-05-11\",\"2023-05-12\",\"2023-05-15\",\"2023-05-16\",\"2023-05-17\",\"2023-05-18\",\"2023-05-19\",\"2023-05-22\",\"2023-05-23\",\"2023-05-24\",\"2023-05-25\",\"2023-05-26\",\"2023-05-30\",\"2023-05-31\",\"2023-06-01\",\"2023-06-02\",\"2023-06-05\",\"2023-06-06\",\"2023-06-07\",\"2023-06-08\",\"2023-06-09\",\"2023-06-12\",\"2023-06-13\",\"2023-06-14\",\"2023-06-15\",\"2023-06-16\",\"2023-06-20\",\"2023-06-21\",\"2023-06-22\",\"2023-06-23\",\"2023-06-26\",\"2023-06-27\",\"2023-06-28\"],\"xaxis\":\"x\",\"y\":[1.0,1.0093249765387942,1.0091013999904836,1.0284110758675487,1.024161401630045,1.0333317090592644,1.0410108182385722,1.0399671170492024,1.0662104176352596,1.0497337432618903,1.0181970672489595,1.0046280345500294,1.0070882938185672,1.0234159171597295,1.032213367699151,1.0372085264069704,1.0436202431939574,1.046155142633239,1.037283166577714,1.0434711921617505,1.0407126015195183,1.0358666084985462,1.0518957858113738,1.0580839260500503,1.070981885140128,1.0634518269930273,1.0469006271035544,1.0515230435762157,1.0629300337256624,1.0676269757144272,1.0721002265002415,1.0573384415797344,1.0604696598024843,1.041010818238572,1.0330333776855698,1.0413090349576264,1.0507029189351564,1.059873226364376,1.0687453170745411,1.0627808680388153,1.051746849433807,1.071056525310872,1.0647938595560917,1.0334807600914717,1.0273672600235388,0.9717492113193943,0.9964269027940765,0.9785337849961794,1.003658744222123,0.9562418272739314,0.9748060186806806,0.9379758525862362,0.9478917018130912,0.9733149350854093,0.9481899185321456,0.9456550190928641,0.9312659764075149,0.9579566593994736,0.9608643010739129,0.9628027097477657,0.9598950680733264,0.9715256347710836,0.97040729341097,0.9574346941501485,0.9588623737294117,0.9578104174059503,0.9609662863763345,0.9657001471592308,0.965549834925982,0.9692317393854171,1.0424180892918875,1.05068354230097,1.0624804728815984,1.0611280067462796,1.0580472365651998,1.0560184227075813,1.0574461022868444,1.0344532607493027,1.016119066550713,1.029794613410351,1.0387362994870928,1.0609776945130305,1.0438457688711509,1.0217545714238216,1.0077785147523262,1.027465289740875,1.0299449256435995,1.02498565383815,1.0255115746725607,1.0222806069128723,1.0076283171737173,1.0161190665507125,1.0092814077755337,1.0403141766449644,1.048203906398245,1.0457993692848246,1.0371583076745805,1.0263381199734691,1.0169456118516211,1.0194252477543457,1.0289680681094426,1.0328753835914306,1.0197258722208433,1.0337770276816434,1.0554925018731705,1.0451231362171653,1.047001637841535,1.0571455924749869,1.0574461022868442,1.0595500149337669,1.0594749161444625,1.0671392348751898,1.0631568206038975,1.0751791622070788,1.0764565295530932,1.0709713369132332,1.0693934597553612,1.0488050406765996,1.0433198480367396,1.0458745827287688,1.045949681518073,1.0413661329684256],\"yaxis\":\"y\",\"type\":\"scattergl\"},{\"hovertemplate\":\"variable=SPY_growth<br>date=%{x}<br>value=%{y}<extra></extra>\",\"legendgroup\":\"SPY_growth\",\"line\":{\"color\":\"#FECB52\",\"dash\":\"solid\"},\"marker\":{\"symbol\":\"circle\"},\"mode\":\"lines\",\"name\":\"SPY_growth\",\"showlegend\":true,\"x\":[\"2023-01-03\",\"2023-01-04\",\"2023-01-05\",\"2023-01-06\",\"2023-01-09\",\"2023-01-10\",\"2023-01-11\",\"2023-01-12\",\"2023-01-13\",\"2023-01-17\",\"2023-01-18\",\"2023-01-19\",\"2023-01-20\",\"2023-01-23\",\"2023-01-24\",\"2023-01-25\",\"2023-01-26\",\"2023-01-27\",\"2023-01-30\",\"2023-01-31\",\"2023-02-01\",\"2023-02-02\",\"2023-02-03\",\"2023-02-06\",\"2023-02-07\",\"2023-02-08\",\"2023-02-09\",\"2023-02-10\",\"2023-02-13\",\"2023-02-14\",\"2023-02-15\",\"2023-02-16\",\"2023-02-17\",\"2023-02-21\",\"2023-02-22\",\"2023-02-23\",\"2023-02-24\",\"2023-02-27\",\"2023-02-28\",\"2023-03-01\",\"2023-03-02\",\"2023-03-03\",\"2023-03-06\",\"2023-03-07\",\"2023-03-08\",\"2023-03-09\",\"2023-03-10\",\"2023-03-13\",\"2023-03-14\",\"2023-03-15\",\"2023-03-16\",\"2023-03-17\",\"2023-03-20\",\"2023-03-21\",\"2023-03-22\",\"2023-03-23\",\"2023-03-24\",\"2023-03-27\",\"2023-03-28\",\"2023-03-29\",\"2023-03-30\",\"2023-03-31\",\"2023-04-03\",\"2023-04-04\",\"2023-04-05\",\"2023-04-06\",\"2023-04-10\",\"2023-04-11\",\"2023-04-12\",\"2023-04-13\",\"2023-04-14\",\"2023-04-17\",\"2023-04-18\",\"2023-04-19\",\"2023-04-20\",\"2023-04-21\",\"2023-04-24\",\"2023-04-25\",\"2023-04-26\",\"2023-04-27\",\"2023-04-28\",\"2023-05-01\",\"2023-05-02\",\"2023-05-03\",\"2023-05-04\",\"2023-05-05\",\"2023-05-08\",\"2023-05-09\",\"2023-05-10\",\"2023-05-11\",\"2023-05-12\",\"2023-05-15\",\"2023-05-16\",\"2023-05-17\",\"2023-05-18\",\"2023-05-19\",\"2023-05-22\",\"2023-05-23\",\"2023-05-24\",\"2023-05-25\",\"2023-05-26\",\"2023-05-30\",\"2023-05-31\",\"2023-06-01\",\"2023-06-02\",\"2023-06-05\",\"2023-06-06\",\"2023-06-07\",\"2023-06-08\",\"2023-06-09\",\"2023-06-12\",\"2023-06-13\",\"2023-06-14\",\"2023-06-15\",\"2023-06-16\",\"2023-06-20\",\"2023-06-21\",\"2023-06-22\",\"2023-06-23\",\"2023-06-26\",\"2023-06-27\",\"2023-06-28\"],\"xaxis\":\"x\",\"y\":[1.0,1.007720225493853,0.99621865023423,1.0190640325677456,1.0184863297177449,1.0256288523615973,1.0386008852458486,1.0423821542704796,1.0464260742204847,1.0445091180968347,1.0280184671133268,1.020534651674652,1.0395462025020066,1.0520193358879832,1.0508900903170384,1.05128402633453,1.0628380833345443,1.0652800990855258,1.051914210924922,1.067380902782824,1.0787247905978559,1.094427731028658,1.0827950321591955,1.0761776498838134,1.0902526067276745,1.0783309353215031,1.0689826454995697,1.0714773044732206,1.0840554013399801,1.0835565825828446,1.0870752814232405,1.072107489063613,1.0694291439985921,1.0479754159379782,1.0465311184424069,1.0520980584985704,1.0408591341643214,1.0444041546160518,1.0405440014985556,1.036552644030081,1.0446141623187564,1.0613674642276383,1.0621028545222304,1.0458221305002882,1.0475289981800946,1.0282022339458354,1.0133658881606036,1.0119215099238932,1.0286487324448574,1.0222151977431233,1.0401501462222023,1.02798794696276,1.0378726809126326,1.0515004933283592,1.0335761219384973,1.0363702497969354,1.0431709951991313,1.045121539636632,1.0427756058411364,1.0579321709838947,1.0641266311728612,1.0791251051653328,1.0832371706367077,1.0772272846916406,1.0744068352218679,1.0785979462683861,1.0797049880260883,1.079994929456466,1.0755929225547134,1.0898797441474777,1.0872173858279914,1.0911186361852712,1.0918302885849787,1.091645795082218,1.0856886331009596,1.086532135780758,1.0876655798909343,1.0704001369369713,1.0658662797551277,1.0870856162890399,1.0963640650256832,1.0952570232679808,1.08294722920633,1.0755138769795702,1.0678960312500498,1.0876655798909343,1.087955440580173,1.0831844466728993,1.0882454627516898,1.0863475615368585,1.0849241759963046,1.0886671737210192,1.081391993385685,1.0945189685157992,1.1050627116427096,1.103454751858256,1.1039029459211986,1.0915140255432656,1.0836061576422285,1.092990135047628,1.1071450256191624,1.107566817329631,1.1014251618456121,1.1118897786562403,1.1279689727950795,1.1258075325023444,1.1282589142254573,1.1243576638681778,1.1311584900115126,1.1331880800241567,1.1434682033320243,1.1510070034864015,1.1523776650631468,1.166664486655911,1.1626905692734741,1.1566583180328864,1.1507319184256113,1.154885727065882,1.1461547839932296,1.1414718786686744,1.1539861900355735,1.1545682529070835],\"yaxis\":\"y\",\"type\":\"scattergl\"}],                        {\"template\":{\"data\":{\"histogram2dcontour\":[{\"type\":\"histogram2dcontour\",\"colorbar\":{\"outlinewidth\":0,\"ticks\":\"\"},\"colorscale\":[[0.0,\"#0d0887\"],[0.1111111111111111,\"#46039f\"],[0.2222222222222222,\"#7201a8\"],[0.3333333333333333,\"#9c179e\"],[0.4444444444444444,\"#bd3786\"],[0.5555555555555556,\"#d8576b\"],[0.6666666666666666,\"#ed7953\"],[0.7777777777777778,\"#fb9f3a\"],[0.8888888888888888,\"#fdca26\"],[1.0,\"#f0f921\"]]}],\"choropleth\":[{\"type\":\"choropleth\",\"colorbar\":{\"outlinewidth\":0,\"ticks\":\"\"}}],\"histogram2d\":[{\"type\":\"histogram2d\",\"colorbar\":{\"outlinewidth\":0,\"ticks\":\"\"},\"colorscale\":[[0.0,\"#0d0887\"],[0.1111111111111111,\"#46039f\"],[0.2222222222222222,\"#7201a8\"],[0.3333333333333333,\"#9c179e\"],[0.4444444444444444,\"#bd3786\"],[0.5555555555555556,\"#d8576b\"],[0.6666666666666666,\"#ed7953\"],[0.7777777777777778,\"#fb9f3a\"],[0.8888888888888888,\"#fdca26\"],[1.0,\"#f0f921\"]]}],\"heatmap\":[{\"type\":\"heatmap\",\"colorbar\":{\"outlinewidth\":0,\"ticks\":\"\"},\"colorscale\":[[0.0,\"#0d0887\"],[0.1111111111111111,\"#46039f\"],[0.2222222222222222,\"#7201a8\"],[0.3333333333333333,\"#9c179e\"],[0.4444444444444444,\"#bd3786\"],[0.5555555555555556,\"#d8576b\"],[0.6666666666666666,\"#ed7953\"],[0.7777777777777778,\"#fb9f3a\"],[0.8888888888888888,\"#fdca26\"],[1.0,\"#f0f921\"]]}],\"heatmapgl\":[{\"type\":\"heatmapgl\",\"colorbar\":{\"outlinewidth\":0,\"ticks\":\"\"},\"colorscale\":[[0.0,\"#0d0887\"],[0.1111111111111111,\"#46039f\"],[0.2222222222222222,\"#7201a8\"],[0.3333333333333333,\"#9c179e\"],[0.4444444444444444,\"#bd3786\"],[0.5555555555555556,\"#d8576b\"],[0.6666666666666666,\"#ed7953\"],[0.7777777777777778,\"#fb9f3a\"],[0.8888888888888888,\"#fdca26\"],[1.0,\"#f0f921\"]]}],\"contourcarpet\":[{\"type\":\"contourcarpet\",\"colorbar\":{\"outlinewidth\":0,\"ticks\":\"\"}}],\"contour\":[{\"type\":\"contour\",\"colorbar\":{\"outlinewidth\":0,\"ticks\":\"\"},\"colorscale\":[[0.0,\"#0d0887\"],[0.1111111111111111,\"#46039f\"],[0.2222222222222222,\"#7201a8\"],[0.3333333333333333,\"#9c179e\"],[0.4444444444444444,\"#bd3786\"],[0.5555555555555556,\"#d8576b\"],[0.6666666666666666,\"#ed7953\"],[0.7777777777777778,\"#fb9f3a\"],[0.8888888888888888,\"#fdca26\"],[1.0,\"#f0f921\"]]}],\"surface\":[{\"type\":\"surface\",\"colorbar\":{\"outlinewidth\":0,\"ticks\":\"\"},\"colorscale\":[[0.0,\"#0d0887\"],[0.1111111111111111,\"#46039f\"],[0.2222222222222222,\"#7201a8\"],[0.3333333333333333,\"#9c179e\"],[0.4444444444444444,\"#bd3786\"],[0.5555555555555556,\"#d8576b\"],[0.6666666666666666,\"#ed7953\"],[0.7777777777777778,\"#fb9f3a\"],[0.8888888888888888,\"#fdca26\"],[1.0,\"#f0f921\"]]}],\"mesh3d\":[{\"type\":\"mesh3d\",\"colorbar\":{\"outlinewidth\":0,\"ticks\":\"\"}}],\"scatter\":[{\"fillpattern\":{\"fillmode\":\"overlay\",\"size\":10,\"solidity\":0.2},\"type\":\"scatter\"}],\"parcoords\":[{\"type\":\"parcoords\",\"line\":{\"colorbar\":{\"outlinewidth\":0,\"ticks\":\"\"}}}],\"scatterpolargl\":[{\"type\":\"scatterpolargl\",\"marker\":{\"colorbar\":{\"outlinewidth\":0,\"ticks\":\"\"}}}],\"bar\":[{\"error_x\":{\"color\":\"#2a3f5f\"},\"error_y\":{\"color\":\"#2a3f5f\"},\"marker\":{\"line\":{\"color\":\"#E5ECF6\",\"width\":0.5},\"pattern\":{\"fillmode\":\"overlay\",\"size\":10,\"solidity\":0.2}},\"type\":\"bar\"}],\"scattergeo\":[{\"type\":\"scattergeo\",\"marker\":{\"colorbar\":{\"outlinewidth\":0,\"ticks\":\"\"}}}],\"scatterpolar\":[{\"type\":\"scatterpolar\",\"marker\":{\"colorbar\":{\"outlinewidth\":0,\"ticks\":\"\"}}}],\"histogram\":[{\"marker\":{\"pattern\":{\"fillmode\":\"overlay\",\"size\":10,\"solidity\":0.2}},\"type\":\"histogram\"}],\"scattergl\":[{\"type\":\"scattergl\",\"marker\":{\"colorbar\":{\"outlinewidth\":0,\"ticks\":\"\"}}}],\"scatter3d\":[{\"type\":\"scatter3d\",\"line\":{\"colorbar\":{\"outlinewidth\":0,\"ticks\":\"\"}},\"marker\":{\"colorbar\":{\"outlinewidth\":0,\"ticks\":\"\"}}}],\"scattermapbox\":[{\"type\":\"scattermapbox\",\"marker\":{\"colorbar\":{\"outlinewidth\":0,\"ticks\":\"\"}}}],\"scatterternary\":[{\"type\":\"scatterternary\",\"marker\":{\"colorbar\":{\"outlinewidth\":0,\"ticks\":\"\"}}}],\"scattercarpet\":[{\"type\":\"scattercarpet\",\"marker\":{\"colorbar\":{\"outlinewidth\":0,\"ticks\":\"\"}}}],\"carpet\":[{\"aaxis\":{\"endlinecolor\":\"#2a3f5f\",\"gridcolor\":\"white\",\"linecolor\":\"white\",\"minorgridcolor\":\"white\",\"startlinecolor\":\"#2a3f5f\"},\"baxis\":{\"endlinecolor\":\"#2a3f5f\",\"gridcolor\":\"white\",\"linecolor\":\"white\",\"minorgridcolor\":\"white\",\"startlinecolor\":\"#2a3f5f\"},\"type\":\"carpet\"}],\"table\":[{\"cells\":{\"fill\":{\"color\":\"#EBF0F8\"},\"line\":{\"color\":\"white\"}},\"header\":{\"fill\":{\"color\":\"#C8D4E3\"},\"line\":{\"color\":\"white\"}},\"type\":\"table\"}],\"barpolar\":[{\"marker\":{\"line\":{\"color\":\"#E5ECF6\",\"width\":0.5},\"pattern\":{\"fillmode\":\"overlay\",\"size\":10,\"solidity\":0.2}},\"type\":\"barpolar\"}],\"pie\":[{\"automargin\":true,\"type\":\"pie\"}]},\"layout\":{\"autotypenumbers\":\"strict\",\"colorway\":[\"#636efa\",\"#EF553B\",\"#00cc96\",\"#ab63fa\",\"#FFA15A\",\"#19d3f3\",\"#FF6692\",\"#B6E880\",\"#FF97FF\",\"#FECB52\"],\"font\":{\"color\":\"#2a3f5f\"},\"hovermode\":\"closest\",\"hoverlabel\":{\"align\":\"left\"},\"paper_bgcolor\":\"white\",\"plot_bgcolor\":\"#E5ECF6\",\"polar\":{\"bgcolor\":\"#E5ECF6\",\"angularaxis\":{\"gridcolor\":\"white\",\"linecolor\":\"white\",\"ticks\":\"\"},\"radialaxis\":{\"gridcolor\":\"white\",\"linecolor\":\"white\",\"ticks\":\"\"}},\"ternary\":{\"bgcolor\":\"#E5ECF6\",\"aaxis\":{\"gridcolor\":\"white\",\"linecolor\":\"white\",\"ticks\":\"\"},\"baxis\":{\"gridcolor\":\"white\",\"linecolor\":\"white\",\"ticks\":\"\"},\"caxis\":{\"gridcolor\":\"white\",\"linecolor\":\"white\",\"ticks\":\"\"}},\"coloraxis\":{\"colorbar\":{\"outlinewidth\":0,\"ticks\":\"\"}},\"colorscale\":{\"sequential\":[[0.0,\"#0d0887\"],[0.1111111111111111,\"#46039f\"],[0.2222222222222222,\"#7201a8\"],[0.3333333333333333,\"#9c179e\"],[0.4444444444444444,\"#bd3786\"],[0.5555555555555556,\"#d8576b\"],[0.6666666666666666,\"#ed7953\"],[0.7777777777777778,\"#fb9f3a\"],[0.8888888888888888,\"#fdca26\"],[1.0,\"#f0f921\"]],\"sequentialminus\":[[0.0,\"#0d0887\"],[0.1111111111111111,\"#46039f\"],[0.2222222222222222,\"#7201a8\"],[0.3333333333333333,\"#9c179e\"],[0.4444444444444444,\"#bd3786\"],[0.5555555555555556,\"#d8576b\"],[0.6666666666666666,\"#ed7953\"],[0.7777777777777778,\"#fb9f3a\"],[0.8888888888888888,\"#fdca26\"],[1.0,\"#f0f921\"]],\"diverging\":[[0,\"#8e0152\"],[0.1,\"#c51b7d\"],[0.2,\"#de77ae\"],[0.3,\"#f1b6da\"],[0.4,\"#fde0ef\"],[0.5,\"#f7f7f7\"],[0.6,\"#e6f5d0\"],[0.7,\"#b8e186\"],[0.8,\"#7fbc41\"],[0.9,\"#4d9221\"],[1,\"#276419\"]]},\"xaxis\":{\"gridcolor\":\"white\",\"linecolor\":\"white\",\"ticks\":\"\",\"title\":{\"standoff\":15},\"zerolinecolor\":\"white\",\"automargin\":true,\"zerolinewidth\":2},\"yaxis\":{\"gridcolor\":\"white\",\"linecolor\":\"white\",\"ticks\":\"\",\"title\":{\"standoff\":15},\"zerolinecolor\":\"white\",\"automargin\":true,\"zerolinewidth\":2},\"scene\":{\"xaxis\":{\"backgroundcolor\":\"#E5ECF6\",\"gridcolor\":\"white\",\"linecolor\":\"white\",\"showbackground\":true,\"ticks\":\"\",\"zerolinecolor\":\"white\",\"gridwidth\":2},\"yaxis\":{\"backgroundcolor\":\"#E5ECF6\",\"gridcolor\":\"white\",\"linecolor\":\"white\",\"showbackground\":true,\"ticks\":\"\",\"zerolinecolor\":\"white\",\"gridwidth\":2},\"zaxis\":{\"backgroundcolor\":\"#E5ECF6\",\"gridcolor\":\"white\",\"linecolor\":\"white\",\"showbackground\":true,\"ticks\":\"\",\"zerolinecolor\":\"white\",\"gridwidth\":2}},\"shapedefaults\":{\"line\":{\"color\":\"#2a3f5f\"}},\"annotationdefaults\":{\"arrowcolor\":\"#2a3f5f\",\"arrowhead\":0,\"arrowwidth\":1},\"geo\":{\"bgcolor\":\"white\",\"landcolor\":\"#E5ECF6\",\"subunitcolor\":\"white\",\"showland\":true,\"showlakes\":true,\"lakecolor\":\"white\"},\"title\":{\"x\":0.05},\"mapbox\":{\"style\":\"light\"}}},\"xaxis\":{\"anchor\":\"y\",\"domain\":[0.0,1.0],\"title\":{\"text\":\"date\"}},\"yaxis\":{\"anchor\":\"x\",\"domain\":[0.0,1.0],\"title\":{\"text\":\"value\"}},\"legend\":{\"title\":{\"text\":\"variable\"},\"tracegroupgap\":0},\"title\":{\"text\":\"Stock Returns vs Market\"},\"height\":350},                        {\"responsive\": true}                    ).then(function(){\n",
              "                            \n",
              "var gd = document.getElementById('f29ddc3e-f96b-408a-87aa-d578d518d285');\n",
              "var x = new MutationObserver(function (mutations, observer) {{\n",
              "        var display = window.getComputedStyle(gd).display;\n",
              "        if (!display || display === 'none') {{\n",
              "            console.log([gd, 'removed!']);\n",
              "            Plotly.purge(gd);\n",
              "            observer.disconnect();\n",
              "        }}\n",
              "}});\n",
              "\n",
              "// Listen for the removal of the full notebook cells\n",
              "var notebookContainer = gd.closest('#notebook-container');\n",
              "if (notebookContainer) {{\n",
              "    x.observe(notebookContainer, {childList: true});\n",
              "}}\n",
              "\n",
              "// Listen for the clearing of the current output cell\n",
              "var outputEl = gd.closest('.output');\n",
              "if (outputEl) {{\n",
              "    x.observe(outputEl, {childList: true});\n",
              "}}\n",
              "\n",
              "                        })                };                            </script>        </div>\n",
              "</body>\n",
              "</html>"
            ]
          },
          "metadata": {}
        }
      ]
    },
    {
      "cell_type": "markdown",
      "source": [
        "## Correlation"
      ],
      "metadata": {
        "id": "sDXJ6LdZSlY5"
      }
    },
    {
      "cell_type": "markdown",
      "source": [
        "We have previously covered correlation. While we have the stock and market data, let's take a brief detour to measure correlation between stocks."
      ],
      "metadata": {
        "id": "1Bxkz3VpSuDM"
      }
    },
    {
      "cell_type": "code",
      "source": [
        "cor_mat = returns_df.corr(method=\"spearman\")\n",
        "cor_mat"
      ],
      "metadata": {
        "colab": {
          "base_uri": "https://localhost:8080/",
          "height": 458
        },
        "id": "0LxOOqZ1dknJ",
        "outputId": "933a328d-c514-45f0-82cf-c748bdd1fe82"
      },
      "execution_count": 124,
      "outputs": [
        {
          "output_type": "execute_result",
          "data": {
            "text/plain": [
              "symbol        AAPL_growth  GOOGL_growth  META_growth  MSFT_growth  \\\n",
              "symbol                                                              \n",
              "AAPL_growth      1.000000      0.919100     0.985335     0.988801   \n",
              "GOOGL_growth     0.919100      1.000000     0.925213     0.932410   \n",
              "META_growth      0.985335      0.925213     1.000000     0.984750   \n",
              "MSFT_growth      0.988801      0.932410     0.984750     1.000000   \n",
              "NFLX_growth      0.555798      0.663906     0.531874     0.574032   \n",
              "AMZN_growth      0.904592      0.934556     0.890012     0.908937   \n",
              "NVDA_growth      0.976930      0.887461     0.978014     0.974194   \n",
              "BAC_growth      -0.636469     -0.560418    -0.648362    -0.638799   \n",
              "JPM_growth       0.155373      0.110280     0.120055     0.131290   \n",
              "SPY_growth       0.874916      0.878899     0.855509     0.874063   \n",
              "\n",
              "symbol        NFLX_growth  AMZN_growth  NVDA_growth  BAC_growth  JPM_growth  \\\n",
              "symbol                                                                        \n",
              "AAPL_growth      0.555798     0.904592     0.976930   -0.636469    0.155373   \n",
              "GOOGL_growth     0.663906     0.934556     0.887461   -0.560418    0.110280   \n",
              "META_growth      0.531874     0.890012     0.978014   -0.648362    0.120055   \n",
              "MSFT_growth      0.574032     0.908937     0.974194   -0.638799    0.131290   \n",
              "NFLX_growth      1.000000     0.736172     0.494615    0.041104    0.435214   \n",
              "AMZN_growth      0.736172     1.000000     0.857459   -0.445023    0.247772   \n",
              "NVDA_growth      0.494615     0.857459     1.000000   -0.679644    0.108621   \n",
              "BAC_growth       0.041104    -0.445023    -0.679644    1.000000    0.555462   \n",
              "JPM_growth       0.435214     0.247772     0.108621    0.555462    1.000000   \n",
              "SPY_growth       0.785201     0.921943     0.817469   -0.257554    0.458944   \n",
              "\n",
              "symbol        SPY_growth  \n",
              "symbol                    \n",
              "AAPL_growth     0.874916  \n",
              "GOOGL_growth    0.878899  \n",
              "META_growth     0.855509  \n",
              "MSFT_growth     0.874063  \n",
              "NFLX_growth     0.785201  \n",
              "AMZN_growth     0.921943  \n",
              "NVDA_growth     0.817469  \n",
              "BAC_growth     -0.257554  \n",
              "JPM_growth      0.458944  \n",
              "SPY_growth      1.000000  "
            ],
            "text/html": [
              "\n",
              "  <div id=\"df-edc63313-5ac7-47b5-a182-82f611b058ab\">\n",
              "    <div class=\"colab-df-container\">\n",
              "      <div>\n",
              "<style scoped>\n",
              "    .dataframe tbody tr th:only-of-type {\n",
              "        vertical-align: middle;\n",
              "    }\n",
              "\n",
              "    .dataframe tbody tr th {\n",
              "        vertical-align: top;\n",
              "    }\n",
              "\n",
              "    .dataframe thead th {\n",
              "        text-align: right;\n",
              "    }\n",
              "</style>\n",
              "<table border=\"1\" class=\"dataframe\">\n",
              "  <thead>\n",
              "    <tr style=\"text-align: right;\">\n",
              "      <th>symbol</th>\n",
              "      <th>AAPL_growth</th>\n",
              "      <th>GOOGL_growth</th>\n",
              "      <th>META_growth</th>\n",
              "      <th>MSFT_growth</th>\n",
              "      <th>NFLX_growth</th>\n",
              "      <th>AMZN_growth</th>\n",
              "      <th>NVDA_growth</th>\n",
              "      <th>BAC_growth</th>\n",
              "      <th>JPM_growth</th>\n",
              "      <th>SPY_growth</th>\n",
              "    </tr>\n",
              "    <tr>\n",
              "      <th>symbol</th>\n",
              "      <th></th>\n",
              "      <th></th>\n",
              "      <th></th>\n",
              "      <th></th>\n",
              "      <th></th>\n",
              "      <th></th>\n",
              "      <th></th>\n",
              "      <th></th>\n",
              "      <th></th>\n",
              "      <th></th>\n",
              "    </tr>\n",
              "  </thead>\n",
              "  <tbody>\n",
              "    <tr>\n",
              "      <th>AAPL_growth</th>\n",
              "      <td>1.000000</td>\n",
              "      <td>0.919100</td>\n",
              "      <td>0.985335</td>\n",
              "      <td>0.988801</td>\n",
              "      <td>0.555798</td>\n",
              "      <td>0.904592</td>\n",
              "      <td>0.976930</td>\n",
              "      <td>-0.636469</td>\n",
              "      <td>0.155373</td>\n",
              "      <td>0.874916</td>\n",
              "    </tr>\n",
              "    <tr>\n",
              "      <th>GOOGL_growth</th>\n",
              "      <td>0.919100</td>\n",
              "      <td>1.000000</td>\n",
              "      <td>0.925213</td>\n",
              "      <td>0.932410</td>\n",
              "      <td>0.663906</td>\n",
              "      <td>0.934556</td>\n",
              "      <td>0.887461</td>\n",
              "      <td>-0.560418</td>\n",
              "      <td>0.110280</td>\n",
              "      <td>0.878899</td>\n",
              "    </tr>\n",
              "    <tr>\n",
              "      <th>META_growth</th>\n",
              "      <td>0.985335</td>\n",
              "      <td>0.925213</td>\n",
              "      <td>1.000000</td>\n",
              "      <td>0.984750</td>\n",
              "      <td>0.531874</td>\n",
              "      <td>0.890012</td>\n",
              "      <td>0.978014</td>\n",
              "      <td>-0.648362</td>\n",
              "      <td>0.120055</td>\n",
              "      <td>0.855509</td>\n",
              "    </tr>\n",
              "    <tr>\n",
              "      <th>MSFT_growth</th>\n",
              "      <td>0.988801</td>\n",
              "      <td>0.932410</td>\n",
              "      <td>0.984750</td>\n",
              "      <td>1.000000</td>\n",
              "      <td>0.574032</td>\n",
              "      <td>0.908937</td>\n",
              "      <td>0.974194</td>\n",
              "      <td>-0.638799</td>\n",
              "      <td>0.131290</td>\n",
              "      <td>0.874063</td>\n",
              "    </tr>\n",
              "    <tr>\n",
              "      <th>NFLX_growth</th>\n",
              "      <td>0.555798</td>\n",
              "      <td>0.663906</td>\n",
              "      <td>0.531874</td>\n",
              "      <td>0.574032</td>\n",
              "      <td>1.000000</td>\n",
              "      <td>0.736172</td>\n",
              "      <td>0.494615</td>\n",
              "      <td>0.041104</td>\n",
              "      <td>0.435214</td>\n",
              "      <td>0.785201</td>\n",
              "    </tr>\n",
              "    <tr>\n",
              "      <th>AMZN_growth</th>\n",
              "      <td>0.904592</td>\n",
              "      <td>0.934556</td>\n",
              "      <td>0.890012</td>\n",
              "      <td>0.908937</td>\n",
              "      <td>0.736172</td>\n",
              "      <td>1.000000</td>\n",
              "      <td>0.857459</td>\n",
              "      <td>-0.445023</td>\n",
              "      <td>0.247772</td>\n",
              "      <td>0.921943</td>\n",
              "    </tr>\n",
              "    <tr>\n",
              "      <th>NVDA_growth</th>\n",
              "      <td>0.976930</td>\n",
              "      <td>0.887461</td>\n",
              "      <td>0.978014</td>\n",
              "      <td>0.974194</td>\n",
              "      <td>0.494615</td>\n",
              "      <td>0.857459</td>\n",
              "      <td>1.000000</td>\n",
              "      <td>-0.679644</td>\n",
              "      <td>0.108621</td>\n",
              "      <td>0.817469</td>\n",
              "    </tr>\n",
              "    <tr>\n",
              "      <th>BAC_growth</th>\n",
              "      <td>-0.636469</td>\n",
              "      <td>-0.560418</td>\n",
              "      <td>-0.648362</td>\n",
              "      <td>-0.638799</td>\n",
              "      <td>0.041104</td>\n",
              "      <td>-0.445023</td>\n",
              "      <td>-0.679644</td>\n",
              "      <td>1.000000</td>\n",
              "      <td>0.555462</td>\n",
              "      <td>-0.257554</td>\n",
              "    </tr>\n",
              "    <tr>\n",
              "      <th>JPM_growth</th>\n",
              "      <td>0.155373</td>\n",
              "      <td>0.110280</td>\n",
              "      <td>0.120055</td>\n",
              "      <td>0.131290</td>\n",
              "      <td>0.435214</td>\n",
              "      <td>0.247772</td>\n",
              "      <td>0.108621</td>\n",
              "      <td>0.555462</td>\n",
              "      <td>1.000000</td>\n",
              "      <td>0.458944</td>\n",
              "    </tr>\n",
              "    <tr>\n",
              "      <th>SPY_growth</th>\n",
              "      <td>0.874916</td>\n",
              "      <td>0.878899</td>\n",
              "      <td>0.855509</td>\n",
              "      <td>0.874063</td>\n",
              "      <td>0.785201</td>\n",
              "      <td>0.921943</td>\n",
              "      <td>0.817469</td>\n",
              "      <td>-0.257554</td>\n",
              "      <td>0.458944</td>\n",
              "      <td>1.000000</td>\n",
              "    </tr>\n",
              "  </tbody>\n",
              "</table>\n",
              "</div>\n",
              "      <button class=\"colab-df-convert\" onclick=\"convertToInteractive('df-edc63313-5ac7-47b5-a182-82f611b058ab')\"\n",
              "              title=\"Convert this dataframe to an interactive table.\"\n",
              "              style=\"display:none;\">\n",
              "        \n",
              "  <svg xmlns=\"http://www.w3.org/2000/svg\" height=\"24px\"viewBox=\"0 0 24 24\"\n",
              "       width=\"24px\">\n",
              "    <path d=\"M0 0h24v24H0V0z\" fill=\"none\"/>\n",
              "    <path d=\"M18.56 5.44l.94 2.06.94-2.06 2.06-.94-2.06-.94-.94-2.06-.94 2.06-2.06.94zm-11 1L8.5 8.5l.94-2.06 2.06-.94-2.06-.94L8.5 2.5l-.94 2.06-2.06.94zm10 10l.94 2.06.94-2.06 2.06-.94-2.06-.94-.94-2.06-.94 2.06-2.06.94z\"/><path d=\"M17.41 7.96l-1.37-1.37c-.4-.4-.92-.59-1.43-.59-.52 0-1.04.2-1.43.59L10.3 9.45l-7.72 7.72c-.78.78-.78 2.05 0 2.83L4 21.41c.39.39.9.59 1.41.59.51 0 1.02-.2 1.41-.59l7.78-7.78 2.81-2.81c.8-.78.8-2.07 0-2.86zM5.41 20L4 18.59l7.72-7.72 1.47 1.35L5.41 20z\"/>\n",
              "  </svg>\n",
              "      </button>\n",
              "      \n",
              "  <style>\n",
              "    .colab-df-container {\n",
              "      display:flex;\n",
              "      flex-wrap:wrap;\n",
              "      gap: 12px;\n",
              "    }\n",
              "\n",
              "    .colab-df-convert {\n",
              "      background-color: #E8F0FE;\n",
              "      border: none;\n",
              "      border-radius: 50%;\n",
              "      cursor: pointer;\n",
              "      display: none;\n",
              "      fill: #1967D2;\n",
              "      height: 32px;\n",
              "      padding: 0 0 0 0;\n",
              "      width: 32px;\n",
              "    }\n",
              "\n",
              "    .colab-df-convert:hover {\n",
              "      background-color: #E2EBFA;\n",
              "      box-shadow: 0px 1px 2px rgba(60, 64, 67, 0.3), 0px 1px 3px 1px rgba(60, 64, 67, 0.15);\n",
              "      fill: #174EA6;\n",
              "    }\n",
              "\n",
              "    [theme=dark] .colab-df-convert {\n",
              "      background-color: #3B4455;\n",
              "      fill: #D2E3FC;\n",
              "    }\n",
              "\n",
              "    [theme=dark] .colab-df-convert:hover {\n",
              "      background-color: #434B5C;\n",
              "      box-shadow: 0px 1px 3px 1px rgba(0, 0, 0, 0.15);\n",
              "      filter: drop-shadow(0px 1px 2px rgba(0, 0, 0, 0.3));\n",
              "      fill: #FFFFFF;\n",
              "    }\n",
              "  </style>\n",
              "\n",
              "      <script>\n",
              "        const buttonEl =\n",
              "          document.querySelector('#df-edc63313-5ac7-47b5-a182-82f611b058ab button.colab-df-convert');\n",
              "        buttonEl.style.display =\n",
              "          google.colab.kernel.accessAllowed ? 'block' : 'none';\n",
              "\n",
              "        async function convertToInteractive(key) {\n",
              "          const element = document.querySelector('#df-edc63313-5ac7-47b5-a182-82f611b058ab');\n",
              "          const dataTable =\n",
              "            await google.colab.kernel.invokeFunction('convertToInteractive',\n",
              "                                                     [key], {});\n",
              "          if (!dataTable) return;\n",
              "\n",
              "          const docLinkHtml = 'Like what you see? Visit the ' +\n",
              "            '<a target=\"_blank\" href=https://colab.research.google.com/notebooks/data_table.ipynb>data table notebook</a>'\n",
              "            + ' to learn more about interactive tables.';\n",
              "          element.innerHTML = '';\n",
              "          dataTable['output_type'] = 'display_data';\n",
              "          await google.colab.output.renderOutput(dataTable, element);\n",
              "          const docLink = document.createElement('div');\n",
              "          docLink.innerHTML = docLinkHtml;\n",
              "          element.appendChild(docLink);\n",
              "        }\n",
              "      </script>\n",
              "    </div>\n",
              "  </div>\n",
              "  "
            ]
          },
          "metadata": {},
          "execution_count": 124
        }
      ]
    },
    {
      "cell_type": "code",
      "source": [
        "# https://plotly.com/python/heatmaps/\n",
        "# https://plotly.com/python-api-reference/generated/plotly.express.imshow.html\n",
        "import plotly.express as px\n",
        "\n",
        "title = f\"Spearman Correlation between Stock Prices (from {earliest_date} to {latest_date})\"\n",
        "fig = px.imshow(cor_mat,\n",
        "          height=750, # title=title,\n",
        "          text_auto= \".2f\", #True,\n",
        "          color_continuous_scale=\"Greens\",\n",
        "          color_continuous_midpoint=0\n",
        ")\n",
        "fig.update_layout(title={'text': title, 'x':0.485, 'xanchor': 'center'}) # https://stackoverflow.com/questions/64571789/center-plotly-title-by-default\n",
        "fig.show()"
      ],
      "metadata": {
        "colab": {
          "base_uri": "https://localhost:8080/",
          "height": 767
        },
        "id": "z41ZxGpMe2S8",
        "outputId": "c381756a-0526-485b-86aa-606ffa4112e7"
      },
      "execution_count": 125,
      "outputs": [
        {
          "output_type": "display_data",
          "data": {
            "text/html": [
              "<html>\n",
              "<head><meta charset=\"utf-8\" /></head>\n",
              "<body>\n",
              "    <div>            <script src=\"https://cdnjs.cloudflare.com/ajax/libs/mathjax/2.7.5/MathJax.js?config=TeX-AMS-MML_SVG\"></script><script type=\"text/javascript\">if (window.MathJax && window.MathJax.Hub && window.MathJax.Hub.Config) {window.MathJax.Hub.Config({SVG: {font: \"STIX-Web\"}});}</script>                <script type=\"text/javascript\">window.PlotlyConfig = {MathJaxConfig: 'local'};</script>\n",
              "        <script src=\"https://cdn.plot.ly/plotly-2.18.2.min.js\"></script>                <div id=\"91fe396e-d4df-4f46-b685-592ac29f98b9\" class=\"plotly-graph-div\" style=\"height:750px; width:100%;\"></div>            <script type=\"text/javascript\">                                    window.PLOTLYENV=window.PLOTLYENV || {};                                    if (document.getElementById(\"91fe396e-d4df-4f46-b685-592ac29f98b9\")) {                    Plotly.newPlot(                        \"91fe396e-d4df-4f46-b685-592ac29f98b9\",                        [{\"coloraxis\":\"coloraxis\",\"name\":\"0\",\"texttemplate\":\"%{z:.2f}\",\"x\":[\"AAPL_growth\",\"GOOGL_growth\",\"META_growth\",\"MSFT_growth\",\"NFLX_growth\",\"AMZN_growth\",\"NVDA_growth\",\"BAC_growth\",\"JPM_growth\",\"SPY_growth\"],\"y\":[\"AAPL_growth\",\"GOOGL_growth\",\"META_growth\",\"MSFT_growth\",\"NFLX_growth\",\"AMZN_growth\",\"NVDA_growth\",\"BAC_growth\",\"JPM_growth\",\"SPY_growth\"],\"z\":[[1.0,0.9190995938837897,0.9853347432423502,0.9888011367391448,0.555798434012995,0.9045917246200229,0.9769298510854469,-0.6364692295118553,0.15537281843121722,0.8749157359064172],[0.9190995938837897,1.0,0.9252128914626268,0.9324100601797658,0.663906324617112,0.9345564314377436,0.8874609864972323,-0.5604184806951045,0.11028040162781966,0.8788988794538748],[0.9853347432423502,0.9252128914626268,1.0,0.9847498512986583,0.5318740799126949,0.8900124082815527,0.978013716851317,-0.6483620520167002,0.12005465591408905,0.8555085585883286],[0.9888011367391448,0.9324100601797658,0.9847498512986583,1.0,0.5740324928424779,0.9089371010898979,0.9741937509203851,-0.6387988877129989,0.13128984982859465,0.8740631815478157],[0.555798434012995,0.663906324617112,0.5318740799126949,0.5740324928424779,1.0,0.7361716470436619,0.4946153769897,0.041104355297296655,0.43521434401446035,0.7852012669344091],[0.9045917246200229,0.9345564314377436,0.8900124082815527,0.9089371010898979,0.7361716470436619,1.0,0.8574586694247921,-0.44502346176966256,0.24777196559392772,0.9219434902803373],[0.9769298510854469,0.8874609864972323,0.978013716851317,0.9741937509203851,0.4946153769897,0.8574586694247921,1.0,-0.6796444385735342,0.1086210144041557,0.8174694047506288],[-0.6364692295118553,-0.5604184806951045,-0.6483620520167002,-0.6387988877129989,0.041104355297296655,-0.44502346176966256,-0.6796444385735342,1.0,0.5554622959517472,-0.25755445369550334],[0.15537281843121722,0.11028040162781966,0.12005465591408905,0.13128984982859465,0.43521434401446035,0.24777196559392772,0.1086210144041557,0.5554622959517472,1.0,0.45894445353236],[0.8749157359064172,0.8788988794538748,0.8555085585883286,0.8740631815478157,0.7852012669344091,0.9219434902803373,0.8174694047506288,-0.25755445369550334,0.45894445353236,1.0]],\"type\":\"heatmap\",\"xaxis\":\"x\",\"yaxis\":\"y\",\"hovertemplate\":\"symbol: %{x}<br>symbol: %{y}<br>color: %{z}<extra></extra>\"}],                        {\"template\":{\"data\":{\"histogram2dcontour\":[{\"type\":\"histogram2dcontour\",\"colorbar\":{\"outlinewidth\":0,\"ticks\":\"\"},\"colorscale\":[[0.0,\"#0d0887\"],[0.1111111111111111,\"#46039f\"],[0.2222222222222222,\"#7201a8\"],[0.3333333333333333,\"#9c179e\"],[0.4444444444444444,\"#bd3786\"],[0.5555555555555556,\"#d8576b\"],[0.6666666666666666,\"#ed7953\"],[0.7777777777777778,\"#fb9f3a\"],[0.8888888888888888,\"#fdca26\"],[1.0,\"#f0f921\"]]}],\"choropleth\":[{\"type\":\"choropleth\",\"colorbar\":{\"outlinewidth\":0,\"ticks\":\"\"}}],\"histogram2d\":[{\"type\":\"histogram2d\",\"colorbar\":{\"outlinewidth\":0,\"ticks\":\"\"},\"colorscale\":[[0.0,\"#0d0887\"],[0.1111111111111111,\"#46039f\"],[0.2222222222222222,\"#7201a8\"],[0.3333333333333333,\"#9c179e\"],[0.4444444444444444,\"#bd3786\"],[0.5555555555555556,\"#d8576b\"],[0.6666666666666666,\"#ed7953\"],[0.7777777777777778,\"#fb9f3a\"],[0.8888888888888888,\"#fdca26\"],[1.0,\"#f0f921\"]]}],\"heatmap\":[{\"type\":\"heatmap\",\"colorbar\":{\"outlinewidth\":0,\"ticks\":\"\"},\"colorscale\":[[0.0,\"#0d0887\"],[0.1111111111111111,\"#46039f\"],[0.2222222222222222,\"#7201a8\"],[0.3333333333333333,\"#9c179e\"],[0.4444444444444444,\"#bd3786\"],[0.5555555555555556,\"#d8576b\"],[0.6666666666666666,\"#ed7953\"],[0.7777777777777778,\"#fb9f3a\"],[0.8888888888888888,\"#fdca26\"],[1.0,\"#f0f921\"]]}],\"heatmapgl\":[{\"type\":\"heatmapgl\",\"colorbar\":{\"outlinewidth\":0,\"ticks\":\"\"},\"colorscale\":[[0.0,\"#0d0887\"],[0.1111111111111111,\"#46039f\"],[0.2222222222222222,\"#7201a8\"],[0.3333333333333333,\"#9c179e\"],[0.4444444444444444,\"#bd3786\"],[0.5555555555555556,\"#d8576b\"],[0.6666666666666666,\"#ed7953\"],[0.7777777777777778,\"#fb9f3a\"],[0.8888888888888888,\"#fdca26\"],[1.0,\"#f0f921\"]]}],\"contourcarpet\":[{\"type\":\"contourcarpet\",\"colorbar\":{\"outlinewidth\":0,\"ticks\":\"\"}}],\"contour\":[{\"type\":\"contour\",\"colorbar\":{\"outlinewidth\":0,\"ticks\":\"\"},\"colorscale\":[[0.0,\"#0d0887\"],[0.1111111111111111,\"#46039f\"],[0.2222222222222222,\"#7201a8\"],[0.3333333333333333,\"#9c179e\"],[0.4444444444444444,\"#bd3786\"],[0.5555555555555556,\"#d8576b\"],[0.6666666666666666,\"#ed7953\"],[0.7777777777777778,\"#fb9f3a\"],[0.8888888888888888,\"#fdca26\"],[1.0,\"#f0f921\"]]}],\"surface\":[{\"type\":\"surface\",\"colorbar\":{\"outlinewidth\":0,\"ticks\":\"\"},\"colorscale\":[[0.0,\"#0d0887\"],[0.1111111111111111,\"#46039f\"],[0.2222222222222222,\"#7201a8\"],[0.3333333333333333,\"#9c179e\"],[0.4444444444444444,\"#bd3786\"],[0.5555555555555556,\"#d8576b\"],[0.6666666666666666,\"#ed7953\"],[0.7777777777777778,\"#fb9f3a\"],[0.8888888888888888,\"#fdca26\"],[1.0,\"#f0f921\"]]}],\"mesh3d\":[{\"type\":\"mesh3d\",\"colorbar\":{\"outlinewidth\":0,\"ticks\":\"\"}}],\"scatter\":[{\"fillpattern\":{\"fillmode\":\"overlay\",\"size\":10,\"solidity\":0.2},\"type\":\"scatter\"}],\"parcoords\":[{\"type\":\"parcoords\",\"line\":{\"colorbar\":{\"outlinewidth\":0,\"ticks\":\"\"}}}],\"scatterpolargl\":[{\"type\":\"scatterpolargl\",\"marker\":{\"colorbar\":{\"outlinewidth\":0,\"ticks\":\"\"}}}],\"bar\":[{\"error_x\":{\"color\":\"#2a3f5f\"},\"error_y\":{\"color\":\"#2a3f5f\"},\"marker\":{\"line\":{\"color\":\"#E5ECF6\",\"width\":0.5},\"pattern\":{\"fillmode\":\"overlay\",\"size\":10,\"solidity\":0.2}},\"type\":\"bar\"}],\"scattergeo\":[{\"type\":\"scattergeo\",\"marker\":{\"colorbar\":{\"outlinewidth\":0,\"ticks\":\"\"}}}],\"scatterpolar\":[{\"type\":\"scatterpolar\",\"marker\":{\"colorbar\":{\"outlinewidth\":0,\"ticks\":\"\"}}}],\"histogram\":[{\"marker\":{\"pattern\":{\"fillmode\":\"overlay\",\"size\":10,\"solidity\":0.2}},\"type\":\"histogram\"}],\"scattergl\":[{\"type\":\"scattergl\",\"marker\":{\"colorbar\":{\"outlinewidth\":0,\"ticks\":\"\"}}}],\"scatter3d\":[{\"type\":\"scatter3d\",\"line\":{\"colorbar\":{\"outlinewidth\":0,\"ticks\":\"\"}},\"marker\":{\"colorbar\":{\"outlinewidth\":0,\"ticks\":\"\"}}}],\"scattermapbox\":[{\"type\":\"scattermapbox\",\"marker\":{\"colorbar\":{\"outlinewidth\":0,\"ticks\":\"\"}}}],\"scatterternary\":[{\"type\":\"scatterternary\",\"marker\":{\"colorbar\":{\"outlinewidth\":0,\"ticks\":\"\"}}}],\"scattercarpet\":[{\"type\":\"scattercarpet\",\"marker\":{\"colorbar\":{\"outlinewidth\":0,\"ticks\":\"\"}}}],\"carpet\":[{\"aaxis\":{\"endlinecolor\":\"#2a3f5f\",\"gridcolor\":\"white\",\"linecolor\":\"white\",\"minorgridcolor\":\"white\",\"startlinecolor\":\"#2a3f5f\"},\"baxis\":{\"endlinecolor\":\"#2a3f5f\",\"gridcolor\":\"white\",\"linecolor\":\"white\",\"minorgridcolor\":\"white\",\"startlinecolor\":\"#2a3f5f\"},\"type\":\"carpet\"}],\"table\":[{\"cells\":{\"fill\":{\"color\":\"#EBF0F8\"},\"line\":{\"color\":\"white\"}},\"header\":{\"fill\":{\"color\":\"#C8D4E3\"},\"line\":{\"color\":\"white\"}},\"type\":\"table\"}],\"barpolar\":[{\"marker\":{\"line\":{\"color\":\"#E5ECF6\",\"width\":0.5},\"pattern\":{\"fillmode\":\"overlay\",\"size\":10,\"solidity\":0.2}},\"type\":\"barpolar\"}],\"pie\":[{\"automargin\":true,\"type\":\"pie\"}]},\"layout\":{\"autotypenumbers\":\"strict\",\"colorway\":[\"#636efa\",\"#EF553B\",\"#00cc96\",\"#ab63fa\",\"#FFA15A\",\"#19d3f3\",\"#FF6692\",\"#B6E880\",\"#FF97FF\",\"#FECB52\"],\"font\":{\"color\":\"#2a3f5f\"},\"hovermode\":\"closest\",\"hoverlabel\":{\"align\":\"left\"},\"paper_bgcolor\":\"white\",\"plot_bgcolor\":\"#E5ECF6\",\"polar\":{\"bgcolor\":\"#E5ECF6\",\"angularaxis\":{\"gridcolor\":\"white\",\"linecolor\":\"white\",\"ticks\":\"\"},\"radialaxis\":{\"gridcolor\":\"white\",\"linecolor\":\"white\",\"ticks\":\"\"}},\"ternary\":{\"bgcolor\":\"#E5ECF6\",\"aaxis\":{\"gridcolor\":\"white\",\"linecolor\":\"white\",\"ticks\":\"\"},\"baxis\":{\"gridcolor\":\"white\",\"linecolor\":\"white\",\"ticks\":\"\"},\"caxis\":{\"gridcolor\":\"white\",\"linecolor\":\"white\",\"ticks\":\"\"}},\"coloraxis\":{\"colorbar\":{\"outlinewidth\":0,\"ticks\":\"\"}},\"colorscale\":{\"sequential\":[[0.0,\"#0d0887\"],[0.1111111111111111,\"#46039f\"],[0.2222222222222222,\"#7201a8\"],[0.3333333333333333,\"#9c179e\"],[0.4444444444444444,\"#bd3786\"],[0.5555555555555556,\"#d8576b\"],[0.6666666666666666,\"#ed7953\"],[0.7777777777777778,\"#fb9f3a\"],[0.8888888888888888,\"#fdca26\"],[1.0,\"#f0f921\"]],\"sequentialminus\":[[0.0,\"#0d0887\"],[0.1111111111111111,\"#46039f\"],[0.2222222222222222,\"#7201a8\"],[0.3333333333333333,\"#9c179e\"],[0.4444444444444444,\"#bd3786\"],[0.5555555555555556,\"#d8576b\"],[0.6666666666666666,\"#ed7953\"],[0.7777777777777778,\"#fb9f3a\"],[0.8888888888888888,\"#fdca26\"],[1.0,\"#f0f921\"]],\"diverging\":[[0,\"#8e0152\"],[0.1,\"#c51b7d\"],[0.2,\"#de77ae\"],[0.3,\"#f1b6da\"],[0.4,\"#fde0ef\"],[0.5,\"#f7f7f7\"],[0.6,\"#e6f5d0\"],[0.7,\"#b8e186\"],[0.8,\"#7fbc41\"],[0.9,\"#4d9221\"],[1,\"#276419\"]]},\"xaxis\":{\"gridcolor\":\"white\",\"linecolor\":\"white\",\"ticks\":\"\",\"title\":{\"standoff\":15},\"zerolinecolor\":\"white\",\"automargin\":true,\"zerolinewidth\":2},\"yaxis\":{\"gridcolor\":\"white\",\"linecolor\":\"white\",\"ticks\":\"\",\"title\":{\"standoff\":15},\"zerolinecolor\":\"white\",\"automargin\":true,\"zerolinewidth\":2},\"scene\":{\"xaxis\":{\"backgroundcolor\":\"#E5ECF6\",\"gridcolor\":\"white\",\"linecolor\":\"white\",\"showbackground\":true,\"ticks\":\"\",\"zerolinecolor\":\"white\",\"gridwidth\":2},\"yaxis\":{\"backgroundcolor\":\"#E5ECF6\",\"gridcolor\":\"white\",\"linecolor\":\"white\",\"showbackground\":true,\"ticks\":\"\",\"zerolinecolor\":\"white\",\"gridwidth\":2},\"zaxis\":{\"backgroundcolor\":\"#E5ECF6\",\"gridcolor\":\"white\",\"linecolor\":\"white\",\"showbackground\":true,\"ticks\":\"\",\"zerolinecolor\":\"white\",\"gridwidth\":2}},\"shapedefaults\":{\"line\":{\"color\":\"#2a3f5f\"}},\"annotationdefaults\":{\"arrowcolor\":\"#2a3f5f\",\"arrowhead\":0,\"arrowwidth\":1},\"geo\":{\"bgcolor\":\"white\",\"landcolor\":\"#E5ECF6\",\"subunitcolor\":\"white\",\"showland\":true,\"showlakes\":true,\"lakecolor\":\"white\"},\"title\":{\"x\":0.05},\"mapbox\":{\"style\":\"light\"}}},\"xaxis\":{\"anchor\":\"y\",\"domain\":[0.0,1.0],\"scaleanchor\":\"y\",\"constrain\":\"domain\",\"title\":{\"text\":\"symbol\"}},\"yaxis\":{\"anchor\":\"x\",\"domain\":[0.0,1.0],\"autorange\":\"reversed\",\"constrain\":\"domain\",\"title\":{\"text\":\"symbol\"}},\"coloraxis\":{\"colorscale\":[[0.0,\"rgb(247,252,245)\"],[0.125,\"rgb(229,245,224)\"],[0.25,\"rgb(199,233,192)\"],[0.375,\"rgb(161,217,155)\"],[0.5,\"rgb(116,196,118)\"],[0.625,\"rgb(65,171,93)\"],[0.75,\"rgb(35,139,69)\"],[0.875,\"rgb(0,109,44)\"],[1.0,\"rgb(0,68,27)\"]],\"cmid\":0},\"margin\":{\"t\":60},\"height\":750,\"title\":{\"text\":\"Spearman Correlation between Stock Prices (from 2023-01-03 to 2023-06-28)\",\"x\":0.485,\"xanchor\":\"center\"}},                        {\"responsive\": true}                    ).then(function(){\n",
              "                            \n",
              "var gd = document.getElementById('91fe396e-d4df-4f46-b685-592ac29f98b9');\n",
              "var x = new MutationObserver(function (mutations, observer) {{\n",
              "        var display = window.getComputedStyle(gd).display;\n",
              "        if (!display || display === 'none') {{\n",
              "            console.log([gd, 'removed!']);\n",
              "            Plotly.purge(gd);\n",
              "            observer.disconnect();\n",
              "        }}\n",
              "}});\n",
              "\n",
              "// Listen for the removal of the full notebook cells\n",
              "var notebookContainer = gd.closest('#notebook-container');\n",
              "if (notebookContainer) {{\n",
              "    x.observe(notebookContainer, {childList: true});\n",
              "}}\n",
              "\n",
              "// Listen for the clearing of the current output cell\n",
              "var outputEl = gd.closest('.output');\n",
              "if (outputEl) {{\n",
              "    x.observe(outputEl, {childList: true});\n",
              "}}\n",
              "\n",
              "                        })                };                            </script>        </div>\n",
              "</body>\n",
              "</html>"
            ]
          },
          "metadata": {}
        }
      ]
    },
    {
      "cell_type": "markdown",
      "source": [
        "What can we learn from the corrleation matrix?\n",
        "\n",
        "Which pair or pairs of companies are most and least correlated with eachother?\n",
        "\n",
        "Which companies are most and least correlated with the market?\n",
        "\n",
        "If you own AAPL, which company should you consider buying if you want to hedge your risk?"
      ],
      "metadata": {
        "id": "BeksSEb_U2Uj"
      }
    },
    {
      "cell_type": "markdown",
      "source": [
        "## Calculating Beta"
      ],
      "metadata": {
        "id": "A7xfN5FRjArM"
      }
    },
    {
      "cell_type": "markdown",
      "source": [
        "OK, correlation is fun to look at, but it is not a component of our beta calculation, so let's return our focus to calculating beta.\n",
        "\n",
        "We saw from the \"Understanding Beta\" section that we need to calculcate the variance of the market, as well as the covariance of each stock with respect to the market.\n",
        "\n",
        "Luckily pandas makes this easy."
      ],
      "metadata": {
        "id": "j0abt7nfjDmu"
      }
    },
    {
      "cell_type": "markdown",
      "source": [
        "### Variance"
      ],
      "metadata": {
        "id": "kleFbFrUkQqh"
      }
    },
    {
      "cell_type": "markdown",
      "source": [
        "https://www.investopedia.com/terms/v/variance.asp\n",
        "\n",
        "<img src=\"https://www.investopedia.com/thmb/_hIorwcVnDj-oKWhpTu_qnuUldM=/750x0/filters:no_upscale():max_bytes(150000):strip_icc():format(webp)/Variance-TAERM-ADD-Source-464952914f77460a8139dbf20e14f0c0.jpg\" height=300>\n",
        "\n",
        "> FYI: standard deviation is the square root of the variance!"
      ],
      "metadata": {
        "id": "vk9Xc_Jyke46"
      }
    },
    {
      "cell_type": "markdown",
      "source": [
        "https://pandas.pydata.org/docs/reference/api/pandas.DataFrame.var.html\n",
        "\n"
      ],
      "metadata": {
        "id": "mLCnC5MvkR3u"
      }
    },
    {
      "cell_type": "code",
      "source": [
        "returns_df.var()"
      ],
      "metadata": {
        "colab": {
          "base_uri": "https://localhost:8080/"
        },
        "id": "i9DLbUODenk7",
        "outputId": "59d21339-bea5-47bc-8137-4feaa7732b36"
      },
      "execution_count": 126,
      "outputs": [
        {
          "output_type": "execute_result",
          "data": {
            "text/plain": [
              "symbol\n",
              "AAPL_growth     0.016376\n",
              "GOOGL_growth    0.017813\n",
              "META_growth     0.133469\n",
              "MSFT_growth     0.020710\n",
              "NFLX_growth     0.016227\n",
              "AMZN_growth     0.018530\n",
              "NVDA_growth     0.282052\n",
              "BAC_growth      0.008243\n",
              "JPM_growth      0.001358\n",
              "SPY_growth      0.001471\n",
              "dtype: float64"
            ]
          },
          "metadata": {},
          "execution_count": 126
        }
      ]
    },
    {
      "cell_type": "code",
      "source": [
        "returns_df.std() ** 2 # squaring the standard deviation, for comparison"
      ],
      "metadata": {
        "colab": {
          "base_uri": "https://localhost:8080/"
        },
        "id": "_0jNOB-i-wrD",
        "outputId": "f16ea0b5-47b0-4552-d5a5-cc9301589f8d"
      },
      "execution_count": 127,
      "outputs": [
        {
          "output_type": "execute_result",
          "data": {
            "text/plain": [
              "symbol\n",
              "AAPL_growth     0.016376\n",
              "GOOGL_growth    0.017813\n",
              "META_growth     0.133469\n",
              "MSFT_growth     0.020710\n",
              "NFLX_growth     0.016227\n",
              "AMZN_growth     0.018530\n",
              "NVDA_growth     0.282052\n",
              "BAC_growth      0.008243\n",
              "JPM_growth      0.001358\n",
              "SPY_growth      0.001471\n",
              "dtype: float64"
            ]
          },
          "metadata": {},
          "execution_count": 127
        }
      ]
    },
    {
      "cell_type": "markdown",
      "source": [
        "### Covariance\n",
        "\n",
        "https://pandas.pydata.org/docs/reference/api/pandas.DataFrame.cov.html\n",
        "\n",
        "> Computes the pairwise covariance among the series of a DataFrame. The returned data frame is the covariance matrix of the columns of the DataFrame.\n",
        "\n",
        "> This method is generally used for the analysis of time series data to understand the relationship between different measures across time."
      ],
      "metadata": {
        "id": "g9pNN3vCdHi9"
      }
    },
    {
      "cell_type": "code",
      "source": [
        "cov_mat = returns_df.cov()\n",
        "cov_mat"
      ],
      "metadata": {
        "colab": {
          "base_uri": "https://localhost:8080/",
          "height": 458
        },
        "id": "b470XJF9cj6F",
        "outputId": "1ac01b5a-0d36-4697-d078-66e42b276d7c"
      },
      "execution_count": 128,
      "outputs": [
        {
          "output_type": "execute_result",
          "data": {
            "text/plain": [
              "symbol        AAPL_growth  GOOGL_growth  META_growth  MSFT_growth  \\\n",
              "symbol                                                              \n",
              "AAPL_growth      0.016376      0.015481     0.046072     0.017962   \n",
              "GOOGL_growth     0.015481      0.017813     0.044506     0.018112   \n",
              "META_growth      0.046072      0.044506     0.133469     0.051639   \n",
              "MSFT_growth      0.017962      0.018112     0.051639     0.020710   \n",
              "NFLX_growth      0.010605      0.012545     0.029635     0.012416   \n",
              "AMZN_growth      0.015566      0.017136     0.044273     0.017975   \n",
              "NVDA_growth      0.064312      0.063651     0.186153     0.072677   \n",
              "BAC_growth      -0.008371     -0.007713    -0.024576    -0.009486   \n",
              "JPM_growth       0.000645      0.000750     0.001575     0.000743   \n",
              "SPY_growth       0.004318      0.004404     0.011994     0.004829   \n",
              "\n",
              "symbol        NFLX_growth  AMZN_growth  NVDA_growth  BAC_growth  JPM_growth  \\\n",
              "symbol                                                                        \n",
              "AAPL_growth      0.010605     0.015566     0.064312   -0.008371    0.000645   \n",
              "GOOGL_growth     0.012545     0.017136     0.063651   -0.007713    0.000750   \n",
              "META_growth      0.029635     0.044273     0.186153   -0.024576    0.001575   \n",
              "MSFT_growth      0.012416     0.017975     0.072677   -0.009486    0.000743   \n",
              "NFLX_growth      0.016227     0.014904     0.050749   -0.001329    0.002154   \n",
              "AMZN_growth      0.014904     0.018530     0.066642   -0.006172    0.001581   \n",
              "NVDA_growth      0.050749     0.066642     0.282052   -0.031563    0.003370   \n",
              "BAC_growth      -0.001329    -0.006172    -0.031563    0.008243    0.001546   \n",
              "JPM_growth       0.002154     0.001581     0.003370    0.001546    0.001358   \n",
              "SPY_growth       0.004276     0.004868     0.017812   -0.001288    0.000639   \n",
              "\n",
              "symbol        SPY_growth  \n",
              "symbol                    \n",
              "AAPL_growth     0.004318  \n",
              "GOOGL_growth    0.004404  \n",
              "META_growth     0.011994  \n",
              "MSFT_growth     0.004829  \n",
              "NFLX_growth     0.004276  \n",
              "AMZN_growth     0.004868  \n",
              "NVDA_growth     0.017812  \n",
              "BAC_growth     -0.001288  \n",
              "JPM_growth      0.000639  \n",
              "SPY_growth      0.001471  "
            ],
            "text/html": [
              "\n",
              "  <div id=\"df-38c47d5c-577b-40da-903c-73743d4f6d5d\">\n",
              "    <div class=\"colab-df-container\">\n",
              "      <div>\n",
              "<style scoped>\n",
              "    .dataframe tbody tr th:only-of-type {\n",
              "        vertical-align: middle;\n",
              "    }\n",
              "\n",
              "    .dataframe tbody tr th {\n",
              "        vertical-align: top;\n",
              "    }\n",
              "\n",
              "    .dataframe thead th {\n",
              "        text-align: right;\n",
              "    }\n",
              "</style>\n",
              "<table border=\"1\" class=\"dataframe\">\n",
              "  <thead>\n",
              "    <tr style=\"text-align: right;\">\n",
              "      <th>symbol</th>\n",
              "      <th>AAPL_growth</th>\n",
              "      <th>GOOGL_growth</th>\n",
              "      <th>META_growth</th>\n",
              "      <th>MSFT_growth</th>\n",
              "      <th>NFLX_growth</th>\n",
              "      <th>AMZN_growth</th>\n",
              "      <th>NVDA_growth</th>\n",
              "      <th>BAC_growth</th>\n",
              "      <th>JPM_growth</th>\n",
              "      <th>SPY_growth</th>\n",
              "    </tr>\n",
              "    <tr>\n",
              "      <th>symbol</th>\n",
              "      <th></th>\n",
              "      <th></th>\n",
              "      <th></th>\n",
              "      <th></th>\n",
              "      <th></th>\n",
              "      <th></th>\n",
              "      <th></th>\n",
              "      <th></th>\n",
              "      <th></th>\n",
              "      <th></th>\n",
              "    </tr>\n",
              "  </thead>\n",
              "  <tbody>\n",
              "    <tr>\n",
              "      <th>AAPL_growth</th>\n",
              "      <td>0.016376</td>\n",
              "      <td>0.015481</td>\n",
              "      <td>0.046072</td>\n",
              "      <td>0.017962</td>\n",
              "      <td>0.010605</td>\n",
              "      <td>0.015566</td>\n",
              "      <td>0.064312</td>\n",
              "      <td>-0.008371</td>\n",
              "      <td>0.000645</td>\n",
              "      <td>0.004318</td>\n",
              "    </tr>\n",
              "    <tr>\n",
              "      <th>GOOGL_growth</th>\n",
              "      <td>0.015481</td>\n",
              "      <td>0.017813</td>\n",
              "      <td>0.044506</td>\n",
              "      <td>0.018112</td>\n",
              "      <td>0.012545</td>\n",
              "      <td>0.017136</td>\n",
              "      <td>0.063651</td>\n",
              "      <td>-0.007713</td>\n",
              "      <td>0.000750</td>\n",
              "      <td>0.004404</td>\n",
              "    </tr>\n",
              "    <tr>\n",
              "      <th>META_growth</th>\n",
              "      <td>0.046072</td>\n",
              "      <td>0.044506</td>\n",
              "      <td>0.133469</td>\n",
              "      <td>0.051639</td>\n",
              "      <td>0.029635</td>\n",
              "      <td>0.044273</td>\n",
              "      <td>0.186153</td>\n",
              "      <td>-0.024576</td>\n",
              "      <td>0.001575</td>\n",
              "      <td>0.011994</td>\n",
              "    </tr>\n",
              "    <tr>\n",
              "      <th>MSFT_growth</th>\n",
              "      <td>0.017962</td>\n",
              "      <td>0.018112</td>\n",
              "      <td>0.051639</td>\n",
              "      <td>0.020710</td>\n",
              "      <td>0.012416</td>\n",
              "      <td>0.017975</td>\n",
              "      <td>0.072677</td>\n",
              "      <td>-0.009486</td>\n",
              "      <td>0.000743</td>\n",
              "      <td>0.004829</td>\n",
              "    </tr>\n",
              "    <tr>\n",
              "      <th>NFLX_growth</th>\n",
              "      <td>0.010605</td>\n",
              "      <td>0.012545</td>\n",
              "      <td>0.029635</td>\n",
              "      <td>0.012416</td>\n",
              "      <td>0.016227</td>\n",
              "      <td>0.014904</td>\n",
              "      <td>0.050749</td>\n",
              "      <td>-0.001329</td>\n",
              "      <td>0.002154</td>\n",
              "      <td>0.004276</td>\n",
              "    </tr>\n",
              "    <tr>\n",
              "      <th>AMZN_growth</th>\n",
              "      <td>0.015566</td>\n",
              "      <td>0.017136</td>\n",
              "      <td>0.044273</td>\n",
              "      <td>0.017975</td>\n",
              "      <td>0.014904</td>\n",
              "      <td>0.018530</td>\n",
              "      <td>0.066642</td>\n",
              "      <td>-0.006172</td>\n",
              "      <td>0.001581</td>\n",
              "      <td>0.004868</td>\n",
              "    </tr>\n",
              "    <tr>\n",
              "      <th>NVDA_growth</th>\n",
              "      <td>0.064312</td>\n",
              "      <td>0.063651</td>\n",
              "      <td>0.186153</td>\n",
              "      <td>0.072677</td>\n",
              "      <td>0.050749</td>\n",
              "      <td>0.066642</td>\n",
              "      <td>0.282052</td>\n",
              "      <td>-0.031563</td>\n",
              "      <td>0.003370</td>\n",
              "      <td>0.017812</td>\n",
              "    </tr>\n",
              "    <tr>\n",
              "      <th>BAC_growth</th>\n",
              "      <td>-0.008371</td>\n",
              "      <td>-0.007713</td>\n",
              "      <td>-0.024576</td>\n",
              "      <td>-0.009486</td>\n",
              "      <td>-0.001329</td>\n",
              "      <td>-0.006172</td>\n",
              "      <td>-0.031563</td>\n",
              "      <td>0.008243</td>\n",
              "      <td>0.001546</td>\n",
              "      <td>-0.001288</td>\n",
              "    </tr>\n",
              "    <tr>\n",
              "      <th>JPM_growth</th>\n",
              "      <td>0.000645</td>\n",
              "      <td>0.000750</td>\n",
              "      <td>0.001575</td>\n",
              "      <td>0.000743</td>\n",
              "      <td>0.002154</td>\n",
              "      <td>0.001581</td>\n",
              "      <td>0.003370</td>\n",
              "      <td>0.001546</td>\n",
              "      <td>0.001358</td>\n",
              "      <td>0.000639</td>\n",
              "    </tr>\n",
              "    <tr>\n",
              "      <th>SPY_growth</th>\n",
              "      <td>0.004318</td>\n",
              "      <td>0.004404</td>\n",
              "      <td>0.011994</td>\n",
              "      <td>0.004829</td>\n",
              "      <td>0.004276</td>\n",
              "      <td>0.004868</td>\n",
              "      <td>0.017812</td>\n",
              "      <td>-0.001288</td>\n",
              "      <td>0.000639</td>\n",
              "      <td>0.001471</td>\n",
              "    </tr>\n",
              "  </tbody>\n",
              "</table>\n",
              "</div>\n",
              "      <button class=\"colab-df-convert\" onclick=\"convertToInteractive('df-38c47d5c-577b-40da-903c-73743d4f6d5d')\"\n",
              "              title=\"Convert this dataframe to an interactive table.\"\n",
              "              style=\"display:none;\">\n",
              "        \n",
              "  <svg xmlns=\"http://www.w3.org/2000/svg\" height=\"24px\"viewBox=\"0 0 24 24\"\n",
              "       width=\"24px\">\n",
              "    <path d=\"M0 0h24v24H0V0z\" fill=\"none\"/>\n",
              "    <path d=\"M18.56 5.44l.94 2.06.94-2.06 2.06-.94-2.06-.94-.94-2.06-.94 2.06-2.06.94zm-11 1L8.5 8.5l.94-2.06 2.06-.94-2.06-.94L8.5 2.5l-.94 2.06-2.06.94zm10 10l.94 2.06.94-2.06 2.06-.94-2.06-.94-.94-2.06-.94 2.06-2.06.94z\"/><path d=\"M17.41 7.96l-1.37-1.37c-.4-.4-.92-.59-1.43-.59-.52 0-1.04.2-1.43.59L10.3 9.45l-7.72 7.72c-.78.78-.78 2.05 0 2.83L4 21.41c.39.39.9.59 1.41.59.51 0 1.02-.2 1.41-.59l7.78-7.78 2.81-2.81c.8-.78.8-2.07 0-2.86zM5.41 20L4 18.59l7.72-7.72 1.47 1.35L5.41 20z\"/>\n",
              "  </svg>\n",
              "      </button>\n",
              "      \n",
              "  <style>\n",
              "    .colab-df-container {\n",
              "      display:flex;\n",
              "      flex-wrap:wrap;\n",
              "      gap: 12px;\n",
              "    }\n",
              "\n",
              "    .colab-df-convert {\n",
              "      background-color: #E8F0FE;\n",
              "      border: none;\n",
              "      border-radius: 50%;\n",
              "      cursor: pointer;\n",
              "      display: none;\n",
              "      fill: #1967D2;\n",
              "      height: 32px;\n",
              "      padding: 0 0 0 0;\n",
              "      width: 32px;\n",
              "    }\n",
              "\n",
              "    .colab-df-convert:hover {\n",
              "      background-color: #E2EBFA;\n",
              "      box-shadow: 0px 1px 2px rgba(60, 64, 67, 0.3), 0px 1px 3px 1px rgba(60, 64, 67, 0.15);\n",
              "      fill: #174EA6;\n",
              "    }\n",
              "\n",
              "    [theme=dark] .colab-df-convert {\n",
              "      background-color: #3B4455;\n",
              "      fill: #D2E3FC;\n",
              "    }\n",
              "\n",
              "    [theme=dark] .colab-df-convert:hover {\n",
              "      background-color: #434B5C;\n",
              "      box-shadow: 0px 1px 3px 1px rgba(0, 0, 0, 0.15);\n",
              "      filter: drop-shadow(0px 1px 2px rgba(0, 0, 0, 0.3));\n",
              "      fill: #FFFFFF;\n",
              "    }\n",
              "  </style>\n",
              "\n",
              "      <script>\n",
              "        const buttonEl =\n",
              "          document.querySelector('#df-38c47d5c-577b-40da-903c-73743d4f6d5d button.colab-df-convert');\n",
              "        buttonEl.style.display =\n",
              "          google.colab.kernel.accessAllowed ? 'block' : 'none';\n",
              "\n",
              "        async function convertToInteractive(key) {\n",
              "          const element = document.querySelector('#df-38c47d5c-577b-40da-903c-73743d4f6d5d');\n",
              "          const dataTable =\n",
              "            await google.colab.kernel.invokeFunction('convertToInteractive',\n",
              "                                                     [key], {});\n",
              "          if (!dataTable) return;\n",
              "\n",
              "          const docLinkHtml = 'Like what you see? Visit the ' +\n",
              "            '<a target=\"_blank\" href=https://colab.research.google.com/notebooks/data_table.ipynb>data table notebook</a>'\n",
              "            + ' to learn more about interactive tables.';\n",
              "          element.innerHTML = '';\n",
              "          dataTable['output_type'] = 'display_data';\n",
              "          await google.colab.output.renderOutput(dataTable, element);\n",
              "          const docLink = document.createElement('div');\n",
              "          docLink.innerHTML = docLinkHtml;\n",
              "          element.appendChild(docLink);\n",
              "        }\n",
              "      </script>\n",
              "    </div>\n",
              "  </div>\n",
              "  "
            ]
          },
          "metadata": {},
          "execution_count": 128
        }
      ]
    },
    {
      "cell_type": "markdown",
      "source": [
        "If we want to calculate the covariance of \"this with respect to that\", we can access the specific value from this matrix. For example, the covariance of NFLX with respect to the market:"
      ],
      "metadata": {
        "id": "vr-dqJ5S_AUT"
      }
    },
    {
      "cell_type": "code",
      "source": [
        "# if we have well defined index and columns, we can use the loc method and specify the name of the row, then the name of the column\n",
        "# ... df.loc[row_name, col_name]\n",
        "\n",
        "cov_mat.loc[\"NFLX_growth\", \"SPY_growth\"]"
      ],
      "metadata": {
        "colab": {
          "base_uri": "https://localhost:8080/"
        },
        "id": "3Ob9Yo4wckRA",
        "outputId": "0ff93276-73e5-425e-b8b3-290dc1d53693"
      },
      "execution_count": 129,
      "outputs": [
        {
          "output_type": "execute_result",
          "data": {
            "text/plain": [
              "0.004276437943388122"
            ]
          },
          "metadata": {},
          "execution_count": 129
        }
      ]
    },
    {
      "cell_type": "markdown",
      "source": [
        "### Beta"
      ],
      "metadata": {
        "id": "XuNvINFFibec"
      }
    },
    {
      "cell_type": "markdown",
      "source": [
        "UPDATE: using the **returns** to calculate beta:"
      ],
      "metadata": {
        "id": "mfxcknsJAnMU"
      }
    },
    {
      "cell_type": "code",
      "source": [
        "# calculating beta to market for a given company:\n",
        "symbol = \"NFLX\"\n",
        "\n",
        "# get covariance between this stock and the market\n",
        "cov_mat = returns_df.cov()\n",
        "cov = cov_mat.loc[symbol + \"_growth\", \"SPY_growth\"] # using loc method to access a given [row, col] combo\n",
        "print(f\"COVARIANCE OF {symbol} WITH RESPECT TO THE MARKET:\", cov)"
      ],
      "metadata": {
        "colab": {
          "base_uri": "https://localhost:8080/"
        },
        "id": "itSsqXduidAR",
        "outputId": "e8b8ad00-41bb-4049-cb19-e0060137695a"
      },
      "execution_count": 130,
      "outputs": [
        {
          "output_type": "stream",
          "name": "stdout",
          "text": [
            "COVARIANCE OF NFLX WITH RESPECT TO THE MARKET: 0.004276437943388122\n"
          ]
        }
      ]
    },
    {
      "cell_type": "code",
      "source": [
        "var = returns_df[\"SPY_growth\"].var()\n",
        "print(f\"VARIANCE OF THE MARKET:\", var)"
      ],
      "metadata": {
        "colab": {
          "base_uri": "https://localhost:8080/"
        },
        "id": "R_nHtTF1RBmO",
        "outputId": "d66af804-d374-434c-fbda-5e1c1c0dd743"
      },
      "execution_count": 131,
      "outputs": [
        {
          "output_type": "stream",
          "name": "stdout",
          "text": [
            "VARIANCE OF THE MARKET: 0.0014707944617810104\n"
          ]
        }
      ]
    },
    {
      "cell_type": "code",
      "source": [
        "beta = cov / var\n",
        "print(f\"BETA OF {symbol} WITH RESPECT TO THE MARKET:\", beta)"
      ],
      "metadata": {
        "colab": {
          "base_uri": "https://localhost:8080/"
        },
        "id": "ErxhU967RKkE",
        "outputId": "64584c75-1663-4450-c6be-5c47503c8962"
      },
      "execution_count": 132,
      "outputs": [
        {
          "output_type": "stream",
          "name": "stdout",
          "text": [
            "BETA OF NFLX WITH RESPECT TO THE MARKET: 2.9075700612917115\n"
          ]
        }
      ]
    },
    {
      "cell_type": "markdown",
      "source": [
        "https://www.investopedia.com/investing/beta-gauging-price-fluctuations/\n",
        "\n",
        "How can we interpret this beta value? What does it tell us about the company's stock, and the risk involved?"
      ],
      "metadata": {
        "id": "LdiOoeAnRbYl"
      }
    }
  ]
}