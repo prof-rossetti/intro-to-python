{
  "nbformat": 4,
  "nbformat_minor": 0,
  "metadata": {
    "colab": {
      "provenance": [],
      "toc_visible": true,
      "authorship_tag": "ABX9TyOwa5xh0eiPitdsnBgV/JnR",
      "include_colab_link": true
    },
    "kernelspec": {
      "name": "python3",
      "display_name": "Python 3"
    },
    "language_info": {
      "name": "python"
    }
  },
  "cells": [
    {
      "cell_type": "markdown",
      "metadata": {
        "id": "view-in-github",
        "colab_type": "text"
      },
      "source": [
        "<a href=\"https://colab.research.google.com/github/prof-rossetti/intro-to-python/blob/main/notebooks/applied-ds/Processing_Big_Data_in_Google_BigQuery_with_Pandas.ipynb\" target=\"_parent\"><img src=\"https://colab.research.google.com/assets/colab-badge.svg\" alt=\"Open In Colab\"/></a>"
      ]
    },
    {
      "cell_type": "markdown",
      "source": [
        "## Project Setup"
      ],
      "metadata": {
        "id": "I4rhCzAnGZt0"
      }
    },
    {
      "cell_type": "markdown",
      "source": [
        "Complete these prerequisite setup steps before moving on:\n",
        "\n",
        "  1. Login to the [Google Cloud console](https://console.cloud.google.com) with your Google account.\n",
        "\n",
        "  2. [Create a new project](https://console.cloud.google.com/projectcreate), and note it's name / identifier (i.e. the `PROJECT_ID`).\n",
        "\n",
        "  3. From the \"APIs and Services\" menu, search for and enable the \"BigQuery API\".\n",
        "\n"
      ],
      "metadata": {
        "id": "oxx8yfUpEsSg"
      }
    },
    {
      "cell_type": "markdown",
      "source": [
        "## Authorization"
      ],
      "metadata": {
        "id": "RRYRAh3RMo7h"
      }
    },
    {
      "cell_type": "code",
      "source": [
        "from google.colab import auth\n",
        "auth.authenticate_user()"
      ],
      "metadata": {
        "id": "2z9iyS77CtCD"
      },
      "execution_count": 4,
      "outputs": []
    },
    {
      "cell_type": "code",
      "source": [
        "# use your own project_id:\n",
        "PROJECT_ID = input(\"Google Cloud Project Name / ID: \") or \"intro-to-python-2021\""
      ],
      "metadata": {
        "colab": {
          "base_uri": "https://localhost:8080/"
        },
        "id": "RAepP9n_Ent3",
        "outputId": "e5ed4e00-d790-4a25-9928-fa9781af98d0"
      },
      "execution_count": 1,
      "outputs": [
        {
          "output_type": "stream",
          "name": "stdout",
          "text": [
            "Google Cloud Project Name / ID: \n",
            "GOOGLE CLOUD PROJECT: intro-to-python-2021\n"
          ]
        }
      ]
    },
    {
      "cell_type": "markdown",
      "source": [
        "## Fetching Data"
      ],
      "metadata": {
        "id": "LUpN_g4MMtiE"
      }
    },
    {
      "cell_type": "markdown",
      "source": [
        "We can use the pandas `read_gbq` function to execute an SQL query against a specified Google BigQuery database, and return the result as a pandas `DataFrame` object.\n",
        "\n",
        "Be aware, everytime we execute a query, it might use up some of your credits, based on the amount of data processes and/or returned.\n",
        "\n",
        "However after we have the data in memory, we can work with the dataframe as much as we want."
      ],
      "metadata": {
        "id": "omQZkVdvMvfl"
      }
    },
    {
      "cell_type": "markdown",
      "source": [
        "### Google Trends"
      ],
      "metadata": {
        "id": "TUlTnculFL5l"
      }
    },
    {
      "cell_type": "markdown",
      "source": [
        "For this example, we will use a public dataset in the BigQuery environment called `google_trends`, which holds information about top weekly search trends across a variety of US media markets (i.e. designated market areas, or DMAs)."
      ],
      "metadata": {
        "id": "SFiyS5jpNfEm"
      }
    },
    {
      "cell_type": "markdown",
      "source": [
        "Counting number of rows in the top terms table:"
      ],
      "metadata": {
        "id": "CoJ2WL5eIdza"
      }
    },
    {
      "cell_type": "code",
      "source": [
        "sql = f\"\"\"\n",
        "    SELECT count(*) as row_count\n",
        "    FROM `bigquery-public-data.google_trends.top_terms`\n",
        "\"\"\"\n",
        "results_df = read_gbq(sql, project_id=PROJECT_ID)\n",
        "results_df #> 43,623,983"
      ],
      "metadata": {
        "colab": {
          "base_uri": "https://localhost:8080/",
          "height": 80
        },
        "id": "x31u6XO4HKfn",
        "outputId": "aa65caa4-37d6-4517-e294-765ab56cc97d"
      },
      "execution_count": 8,
      "outputs": [
        {
          "output_type": "execute_result",
          "data": {
            "text/plain": [
              "   row_count\n",
              "0   43623983"
            ],
            "text/html": [
              "\n",
              "  <div id=\"df-8ba79b1e-5b98-4c1c-9d37-4dd1cd985b00\">\n",
              "    <div class=\"colab-df-container\">\n",
              "      <div>\n",
              "<style scoped>\n",
              "    .dataframe tbody tr th:only-of-type {\n",
              "        vertical-align: middle;\n",
              "    }\n",
              "\n",
              "    .dataframe tbody tr th {\n",
              "        vertical-align: top;\n",
              "    }\n",
              "\n",
              "    .dataframe thead th {\n",
              "        text-align: right;\n",
              "    }\n",
              "</style>\n",
              "<table border=\"1\" class=\"dataframe\">\n",
              "  <thead>\n",
              "    <tr style=\"text-align: right;\">\n",
              "      <th></th>\n",
              "      <th>row_count</th>\n",
              "    </tr>\n",
              "  </thead>\n",
              "  <tbody>\n",
              "    <tr>\n",
              "      <th>0</th>\n",
              "      <td>43623983</td>\n",
              "    </tr>\n",
              "  </tbody>\n",
              "</table>\n",
              "</div>\n",
              "      <button class=\"colab-df-convert\" onclick=\"convertToInteractive('df-8ba79b1e-5b98-4c1c-9d37-4dd1cd985b00')\"\n",
              "              title=\"Convert this dataframe to an interactive table.\"\n",
              "              style=\"display:none;\">\n",
              "        \n",
              "  <svg xmlns=\"http://www.w3.org/2000/svg\" height=\"24px\"viewBox=\"0 0 24 24\"\n",
              "       width=\"24px\">\n",
              "    <path d=\"M0 0h24v24H0V0z\" fill=\"none\"/>\n",
              "    <path d=\"M18.56 5.44l.94 2.06.94-2.06 2.06-.94-2.06-.94-.94-2.06-.94 2.06-2.06.94zm-11 1L8.5 8.5l.94-2.06 2.06-.94-2.06-.94L8.5 2.5l-.94 2.06-2.06.94zm10 10l.94 2.06.94-2.06 2.06-.94-2.06-.94-.94-2.06-.94 2.06-2.06.94z\"/><path d=\"M17.41 7.96l-1.37-1.37c-.4-.4-.92-.59-1.43-.59-.52 0-1.04.2-1.43.59L10.3 9.45l-7.72 7.72c-.78.78-.78 2.05 0 2.83L4 21.41c.39.39.9.59 1.41.59.51 0 1.02-.2 1.41-.59l7.78-7.78 2.81-2.81c.8-.78.8-2.07 0-2.86zM5.41 20L4 18.59l7.72-7.72 1.47 1.35L5.41 20z\"/>\n",
              "  </svg>\n",
              "      </button>\n",
              "      \n",
              "  <style>\n",
              "    .colab-df-container {\n",
              "      display:flex;\n",
              "      flex-wrap:wrap;\n",
              "      gap: 12px;\n",
              "    }\n",
              "\n",
              "    .colab-df-convert {\n",
              "      background-color: #E8F0FE;\n",
              "      border: none;\n",
              "      border-radius: 50%;\n",
              "      cursor: pointer;\n",
              "      display: none;\n",
              "      fill: #1967D2;\n",
              "      height: 32px;\n",
              "      padding: 0 0 0 0;\n",
              "      width: 32px;\n",
              "    }\n",
              "\n",
              "    .colab-df-convert:hover {\n",
              "      background-color: #E2EBFA;\n",
              "      box-shadow: 0px 1px 2px rgba(60, 64, 67, 0.3), 0px 1px 3px 1px rgba(60, 64, 67, 0.15);\n",
              "      fill: #174EA6;\n",
              "    }\n",
              "\n",
              "    [theme=dark] .colab-df-convert {\n",
              "      background-color: #3B4455;\n",
              "      fill: #D2E3FC;\n",
              "    }\n",
              "\n",
              "    [theme=dark] .colab-df-convert:hover {\n",
              "      background-color: #434B5C;\n",
              "      box-shadow: 0px 1px 3px 1px rgba(0, 0, 0, 0.15);\n",
              "      filter: drop-shadow(0px 1px 2px rgba(0, 0, 0, 0.3));\n",
              "      fill: #FFFFFF;\n",
              "    }\n",
              "  </style>\n",
              "\n",
              "      <script>\n",
              "        const buttonEl =\n",
              "          document.querySelector('#df-8ba79b1e-5b98-4c1c-9d37-4dd1cd985b00 button.colab-df-convert');\n",
              "        buttonEl.style.display =\n",
              "          google.colab.kernel.accessAllowed ? 'block' : 'none';\n",
              "\n",
              "        async function convertToInteractive(key) {\n",
              "          const element = document.querySelector('#df-8ba79b1e-5b98-4c1c-9d37-4dd1cd985b00');\n",
              "          const dataTable =\n",
              "            await google.colab.kernel.invokeFunction('convertToInteractive',\n",
              "                                                     [key], {});\n",
              "          if (!dataTable) return;\n",
              "\n",
              "          const docLinkHtml = 'Like what you see? Visit the ' +\n",
              "            '<a target=\"_blank\" href=https://colab.research.google.com/notebooks/data_table.ipynb>data table notebook</a>'\n",
              "            + ' to learn more about interactive tables.';\n",
              "          element.innerHTML = '';\n",
              "          dataTable['output_type'] = 'display_data';\n",
              "          await google.colab.output.renderOutput(dataTable, element);\n",
              "          const docLink = document.createElement('div');\n",
              "          docLink.innerHTML = docLinkHtml;\n",
              "          element.appendChild(docLink);\n",
              "        }\n",
              "      </script>\n",
              "    </div>\n",
              "  </div>\n",
              "  "
            ]
          },
          "metadata": {},
          "execution_count": 8
        }
      ]
    },
    {
      "cell_type": "markdown",
      "source": [
        "Reading data from the top terms table:"
      ],
      "metadata": {
        "id": "8ViDa7_LIirN"
      }
    },
    {
      "cell_type": "code",
      "execution_count": 7,
      "metadata": {
        "colab": {
          "base_uri": "https://localhost:8080/",
          "height": 206
        },
        "id": "OAyKsX5QCjrR",
        "outputId": "3c8d3658-af79-472a-91cc-a5b382ef3554"
      },
      "outputs": [
        {
          "output_type": "execute_result",
          "data": {
            "text/plain": [
              "         week  score  rank refresh_date            dma_name  dma_id    term\n",
              "0  2018-07-01     45     1   2023-05-17  Portland-Auburn ME     500  Lakers\n",
              "1  2019-06-30     31     1   2023-05-17  Portland-Auburn ME     500  Lakers\n",
              "2  2020-08-16     30     1   2023-05-17  Portland-Auburn ME     500  Lakers\n",
              "3  2020-09-13     31     1   2023-05-17  Portland-Auburn ME     500  Lakers\n",
              "4  2020-09-20     49     1   2023-05-17  Portland-Auburn ME     500  Lakers"
            ],
            "text/html": [
              "\n",
              "  <div id=\"df-fdc59363-c103-4982-8388-c2db916c62cb\">\n",
              "    <div class=\"colab-df-container\">\n",
              "      <div>\n",
              "<style scoped>\n",
              "    .dataframe tbody tr th:only-of-type {\n",
              "        vertical-align: middle;\n",
              "    }\n",
              "\n",
              "    .dataframe tbody tr th {\n",
              "        vertical-align: top;\n",
              "    }\n",
              "\n",
              "    .dataframe thead th {\n",
              "        text-align: right;\n",
              "    }\n",
              "</style>\n",
              "<table border=\"1\" class=\"dataframe\">\n",
              "  <thead>\n",
              "    <tr style=\"text-align: right;\">\n",
              "      <th></th>\n",
              "      <th>week</th>\n",
              "      <th>score</th>\n",
              "      <th>rank</th>\n",
              "      <th>refresh_date</th>\n",
              "      <th>dma_name</th>\n",
              "      <th>dma_id</th>\n",
              "      <th>term</th>\n",
              "    </tr>\n",
              "  </thead>\n",
              "  <tbody>\n",
              "    <tr>\n",
              "      <th>0</th>\n",
              "      <td>2018-07-01</td>\n",
              "      <td>45</td>\n",
              "      <td>1</td>\n",
              "      <td>2023-05-17</td>\n",
              "      <td>Portland-Auburn ME</td>\n",
              "      <td>500</td>\n",
              "      <td>Lakers</td>\n",
              "    </tr>\n",
              "    <tr>\n",
              "      <th>1</th>\n",
              "      <td>2019-06-30</td>\n",
              "      <td>31</td>\n",
              "      <td>1</td>\n",
              "      <td>2023-05-17</td>\n",
              "      <td>Portland-Auburn ME</td>\n",
              "      <td>500</td>\n",
              "      <td>Lakers</td>\n",
              "    </tr>\n",
              "    <tr>\n",
              "      <th>2</th>\n",
              "      <td>2020-08-16</td>\n",
              "      <td>30</td>\n",
              "      <td>1</td>\n",
              "      <td>2023-05-17</td>\n",
              "      <td>Portland-Auburn ME</td>\n",
              "      <td>500</td>\n",
              "      <td>Lakers</td>\n",
              "    </tr>\n",
              "    <tr>\n",
              "      <th>3</th>\n",
              "      <td>2020-09-13</td>\n",
              "      <td>31</td>\n",
              "      <td>1</td>\n",
              "      <td>2023-05-17</td>\n",
              "      <td>Portland-Auburn ME</td>\n",
              "      <td>500</td>\n",
              "      <td>Lakers</td>\n",
              "    </tr>\n",
              "    <tr>\n",
              "      <th>4</th>\n",
              "      <td>2020-09-20</td>\n",
              "      <td>49</td>\n",
              "      <td>1</td>\n",
              "      <td>2023-05-17</td>\n",
              "      <td>Portland-Auburn ME</td>\n",
              "      <td>500</td>\n",
              "      <td>Lakers</td>\n",
              "    </tr>\n",
              "  </tbody>\n",
              "</table>\n",
              "</div>\n",
              "      <button class=\"colab-df-convert\" onclick=\"convertToInteractive('df-fdc59363-c103-4982-8388-c2db916c62cb')\"\n",
              "              title=\"Convert this dataframe to an interactive table.\"\n",
              "              style=\"display:none;\">\n",
              "        \n",
              "  <svg xmlns=\"http://www.w3.org/2000/svg\" height=\"24px\"viewBox=\"0 0 24 24\"\n",
              "       width=\"24px\">\n",
              "    <path d=\"M0 0h24v24H0V0z\" fill=\"none\"/>\n",
              "    <path d=\"M18.56 5.44l.94 2.06.94-2.06 2.06-.94-2.06-.94-.94-2.06-.94 2.06-2.06.94zm-11 1L8.5 8.5l.94-2.06 2.06-.94-2.06-.94L8.5 2.5l-.94 2.06-2.06.94zm10 10l.94 2.06.94-2.06 2.06-.94-2.06-.94-.94-2.06-.94 2.06-2.06.94z\"/><path d=\"M17.41 7.96l-1.37-1.37c-.4-.4-.92-.59-1.43-.59-.52 0-1.04.2-1.43.59L10.3 9.45l-7.72 7.72c-.78.78-.78 2.05 0 2.83L4 21.41c.39.39.9.59 1.41.59.51 0 1.02-.2 1.41-.59l7.78-7.78 2.81-2.81c.8-.78.8-2.07 0-2.86zM5.41 20L4 18.59l7.72-7.72 1.47 1.35L5.41 20z\"/>\n",
              "  </svg>\n",
              "      </button>\n",
              "      \n",
              "  <style>\n",
              "    .colab-df-container {\n",
              "      display:flex;\n",
              "      flex-wrap:wrap;\n",
              "      gap: 12px;\n",
              "    }\n",
              "\n",
              "    .colab-df-convert {\n",
              "      background-color: #E8F0FE;\n",
              "      border: none;\n",
              "      border-radius: 50%;\n",
              "      cursor: pointer;\n",
              "      display: none;\n",
              "      fill: #1967D2;\n",
              "      height: 32px;\n",
              "      padding: 0 0 0 0;\n",
              "      width: 32px;\n",
              "    }\n",
              "\n",
              "    .colab-df-convert:hover {\n",
              "      background-color: #E2EBFA;\n",
              "      box-shadow: 0px 1px 2px rgba(60, 64, 67, 0.3), 0px 1px 3px 1px rgba(60, 64, 67, 0.15);\n",
              "      fill: #174EA6;\n",
              "    }\n",
              "\n",
              "    [theme=dark] .colab-df-convert {\n",
              "      background-color: #3B4455;\n",
              "      fill: #D2E3FC;\n",
              "    }\n",
              "\n",
              "    [theme=dark] .colab-df-convert:hover {\n",
              "      background-color: #434B5C;\n",
              "      box-shadow: 0px 1px 3px 1px rgba(0, 0, 0, 0.15);\n",
              "      filter: drop-shadow(0px 1px 2px rgba(0, 0, 0, 0.3));\n",
              "      fill: #FFFFFF;\n",
              "    }\n",
              "  </style>\n",
              "\n",
              "      <script>\n",
              "        const buttonEl =\n",
              "          document.querySelector('#df-fdc59363-c103-4982-8388-c2db916c62cb button.colab-df-convert');\n",
              "        buttonEl.style.display =\n",
              "          google.colab.kernel.accessAllowed ? 'block' : 'none';\n",
              "\n",
              "        async function convertToInteractive(key) {\n",
              "          const element = document.querySelector('#df-fdc59363-c103-4982-8388-c2db916c62cb');\n",
              "          const dataTable =\n",
              "            await google.colab.kernel.invokeFunction('convertToInteractive',\n",
              "                                                     [key], {});\n",
              "          if (!dataTable) return;\n",
              "\n",
              "          const docLinkHtml = 'Like what you see? Visit the ' +\n",
              "            '<a target=\"_blank\" href=https://colab.research.google.com/notebooks/data_table.ipynb>data table notebook</a>'\n",
              "            + ' to learn more about interactive tables.';\n",
              "          element.innerHTML = '';\n",
              "          dataTable['output_type'] = 'display_data';\n",
              "          await google.colab.output.renderOutput(dataTable, element);\n",
              "          const docLink = document.createElement('div');\n",
              "          docLink.innerHTML = docLinkHtml;\n",
              "          element.appendChild(docLink);\n",
              "        }\n",
              "      </script>\n",
              "    </div>\n",
              "  </div>\n",
              "  "
            ]
          },
          "metadata": {},
          "execution_count": 7
        }
      ],
      "source": [
        "from pandas import read_gbq\n",
        "\n",
        "TERMS_LIMIT = 100\n",
        "\n",
        "sql = f\"\"\"\n",
        "    SELECT *\n",
        "    FROM `bigquery-public-data.google_trends.top_terms`\n",
        "    -- ORDER BY week, dma_name, score\n",
        "    LIMIT {int(TERMS_LIMIT)}\n",
        "\"\"\"\n",
        "\n",
        "trends_df = read_gbq(sql, project_id=PROJECT_ID)\n",
        "trends_df.head()"
      ]
    },
    {
      "cell_type": "markdown",
      "source": [
        "#### Markets"
      ],
      "metadata": {
        "id": "lSmAs-gZQsbh"
      }
    },
    {
      "cell_type": "markdown",
      "source": [
        "Unique markets:"
      ],
      "metadata": {
        "id": "M3u0XVx8JTF4"
      }
    },
    {
      "cell_type": "code",
      "source": [
        "from pandas import read_gbq\n",
        "\n",
        "sql = f\"\"\"\n",
        "    SELECT DISTINCT dma_name, dma_id\n",
        "    FROM `bigquery-public-data.google_trends.top_terms`\n",
        "    ORDER BY dma_id\n",
        "\"\"\"\n",
        "\n",
        "markets_df = read_gbq(sql, project_id=PROJECT_ID)\n",
        "print(len(markets_df))\n",
        "markets_df.head()"
      ],
      "metadata": {
        "colab": {
          "base_uri": "https://localhost:8080/",
          "height": 262
        },
        "id": "mkGqgPxjJSm9",
        "outputId": "f76333b9-a8d1-4432-90bb-5da89ed0c868"
      },
      "execution_count": 17,
      "outputs": [
        {
          "output_type": "stream",
          "name": "stdout",
          "text": [
            "210\n",
            "['Abilene-Sweetwater TX', 'Albany GA', 'Albany-Schenectady-Troy NY', 'Albuquerque-Santa Fe NM', 'Alexandria LA', 'Alpena MI', 'Amarillo TX', 'Anchorage AK', 'Atlanta GA', 'Augusta GA', 'Austin TX', 'Bakersfield CA', 'Baltimore MD', 'Bangor ME', 'Baton Rouge LA', 'Beaumont-Port Arthur TX', 'Bend OR', 'Billings MT', 'Biloxi-Gulfport MS', 'Binghamton NY', 'Birmingham (Ann and Tusc) AL', 'Bluefield-Beckley-Oak Hill WV', 'Boise ID', 'Boston MA-Manchester NH', 'Bowling Green KY', 'Buffalo NY', 'Burlington VT-Plattsburgh NY', 'Butte-Bozeman MT', 'Casper-Riverton WY', 'Cedar Rapids-Waterloo-Iowa City & Dubuque IA', 'Champaign & Springfield-Decatur IL', 'Charleston SC', 'Charleston-Huntington WV', 'Charlotte NC', 'Charlottesville VA', 'Chattanooga TN', 'Cheyenne WY-Scottsbluff NE', 'Chicago IL', 'Chico-Redding CA', 'Cincinnati OH', 'Clarksburg-Weston WV', 'Cleveland-Akron (Canton) OH', 'Colorado Springs-Pueblo CO', 'Columbia SC', 'Columbia-Jefferson City MO', 'Columbus GA', 'Columbus OH', 'Columbus-Tupelo-West Point MS', 'Corpus Christi TX', 'Dallas-Ft. Worth TX', 'Davenport IA-Rock Island-Moline IL', 'Dayton OH', 'Denver CO', 'Des Moines-Ames IA', 'Detroit MI', 'Dothan AL', 'Duluth MN-Superior WI', 'El Paso TX', 'Elmira (Corning) NY', 'Erie PA', 'Eugene OR', 'Eureka CA', 'Evansville IN', 'Fairbanks AK', 'Fargo-Valley City ND', 'Flint-Saginaw-Bay City MI', 'Florence-Myrtle Beach SC', 'Fresno-Visalia CA', 'Ft. Myers-Naples FL', 'Ft. Smith-Fayetteville-Springdale-Rogers AR', 'Ft. Wayne IN', 'Gainesville FL', 'Glendive MT', 'Grand Junction-Montrose CO', 'Grand Rapids-Kalamazoo-Battle Creek MI', 'Great Falls MT', 'Green Bay-Appleton WI', 'Greensboro-High Point-Winston Salem NC', 'Greenville-New Bern-Washington NC', 'Greenville-Spartanburg-Asheville-Anderson', 'Greenwood-Greenville MS', 'Harlingen-Weslaco-Brownsville-McAllen TX', 'Harrisburg-Lancaster-Lebanon-York PA', 'Harrisonburg VA', 'Hartford & New Haven CT', 'Hattiesburg-Laurel MS', 'Helena MT', 'Honolulu HI', 'Houston TX', 'Huntsville-Decatur (Florence) AL', 'Idaho Falls-Pocatello ID', 'Indianapolis IN', 'Jackson MS', 'Jackson TN', 'Jacksonville FL', 'Johnstown-Altoona-State College PA', 'Jonesboro AR', 'Joplin MO-Pittsburg KS', 'Juneau AK', 'Kansas City MO', 'Knoxville TN', 'La Crosse-Eau Claire WI', 'Lafayette IN', 'Lafayette LA', 'Lake Charles LA', 'Lansing MI', 'Laredo TX', 'Las Vegas NV', 'Lexington KY', 'Lima OH', 'Lincoln & Hastings-Kearney NE', 'Little Rock-Pine Bluff AR', 'Los Angeles CA', 'Louisville KY', 'Lubbock TX', 'Macon GA', 'Madison WI', 'Mankato MN', 'Marquette MI', 'Medford-Klamath Falls OR', 'Memphis TN', 'Meridian MS', 'Miami-Ft. Lauderdale FL', 'Milwaukee WI', 'Minneapolis-St. Paul MN', 'Minot-Bismarck-Dickinson(Williston) ND', 'Missoula MT', 'Mobile AL-Pensacola (Ft. Walton Beach) FL', 'Monroe LA-El Dorado AR', 'Monterey-Salinas CA', 'Montgomery-Selma AL', 'Nashville TN', 'New Orleans LA', 'New York NY', 'Norfolk-Portsmouth-Newport News VA', 'North Platte NE', 'Odessa-Midland TX', 'Oklahoma City OK', 'Omaha NE', 'Orlando-Daytona Beach-Melbourne FL', 'Ottumwa IA-Kirksville MO', 'Paducah KY-Cape Girardeau MO-Harrisburg-Mount Vernon IL', 'Palm Springs CA', 'Panama City FL', 'Parkersburg WV', 'Peoria-Bloomington IL', 'Philadelphia PA', 'Phoenix AZ', 'Pittsburgh PA', 'Portland OR', 'Portland-Auburn ME', 'Presque Isle ME', 'Providence-New Bedford MA', 'Quincy IL-Hannibal MO-Keokuk IA', 'Raleigh-Durham (Fayetteville) NC', 'Rapid City SD', 'Reno NV', 'Richmond-Petersburg VA', 'Roanoke-Lynchburg VA', 'Rochester NY', 'Rochester-Mason City-Austin IA', 'Rockford IL', 'Sacramento-Stockton-Modesto CA', 'Salisbury MD', 'Salt Lake City UT', 'San Angelo TX', 'San Antonio TX', 'San Diego CA', 'San Francisco-Oakland-San Jose CA', 'Santa Barbara-Santa Maria-San Luis Obispo CA', 'Savannah GA', 'Seattle-Tacoma WA', 'Sherman-Ada OK', 'Shreveport LA', 'Sioux City IA', 'Sioux Falls(Mitchell) SD', 'South Bend-Elkhart IN', 'Spokane WA', 'Springfield MO', 'Springfield-Holyoke MA', 'St. Joseph MO', 'St. Louis MO', 'Syracuse NY', 'Tallahassee FL-Thomasville GA', 'Tampa-St. Petersburg (Sarasota) FL', 'Terre Haute IN', 'Toledo OH', 'Topeka KS', 'Traverse City-Cadillac MI', 'Tri-Cities TN-VA', 'Tucson (Sierra Vista) AZ', 'Tulsa OK', 'Twin Falls ID', 'Tyler-Longview(Lufkin & Nacogdoches) TX', 'Utica NY', 'Victoria TX', 'Waco-Temple-Bryan TX', 'Washington DC (Hagerstown MD)', 'Watertown NY', 'Wausau-Rhinelander WI', 'West Palm Beach-Ft. Pierce FL', 'Wheeling WV-Steubenville OH', 'Wichita Falls TX & Lawton OK', 'Wichita-Hutchinson KS', 'Wilkes Barre-Scranton PA', 'Wilmington NC', 'Yakima-Pasco-Richland-Kennewick WA', 'Youngstown OH', 'Yuma AZ-El Centro CA', 'Zanesville OH']\n"
          ]
        },
        {
          "output_type": "execute_result",
          "data": {
            "text/plain": [
              "             dma_name  dma_id\n",
              "0  Portland-Auburn ME     500\n",
              "1         New York NY     501\n",
              "2       Binghamton NY     502\n",
              "3            Macon GA     503\n",
              "4     Philadelphia PA     504"
            ],
            "text/html": [
              "\n",
              "  <div id=\"df-47a61457-90b9-4379-8b50-30e7123f5be2\">\n",
              "    <div class=\"colab-df-container\">\n",
              "      <div>\n",
              "<style scoped>\n",
              "    .dataframe tbody tr th:only-of-type {\n",
              "        vertical-align: middle;\n",
              "    }\n",
              "\n",
              "    .dataframe tbody tr th {\n",
              "        vertical-align: top;\n",
              "    }\n",
              "\n",
              "    .dataframe thead th {\n",
              "        text-align: right;\n",
              "    }\n",
              "</style>\n",
              "<table border=\"1\" class=\"dataframe\">\n",
              "  <thead>\n",
              "    <tr style=\"text-align: right;\">\n",
              "      <th></th>\n",
              "      <th>dma_name</th>\n",
              "      <th>dma_id</th>\n",
              "    </tr>\n",
              "  </thead>\n",
              "  <tbody>\n",
              "    <tr>\n",
              "      <th>0</th>\n",
              "      <td>Portland-Auburn ME</td>\n",
              "      <td>500</td>\n",
              "    </tr>\n",
              "    <tr>\n",
              "      <th>1</th>\n",
              "      <td>New York NY</td>\n",
              "      <td>501</td>\n",
              "    </tr>\n",
              "    <tr>\n",
              "      <th>2</th>\n",
              "      <td>Binghamton NY</td>\n",
              "      <td>502</td>\n",
              "    </tr>\n",
              "    <tr>\n",
              "      <th>3</th>\n",
              "      <td>Macon GA</td>\n",
              "      <td>503</td>\n",
              "    </tr>\n",
              "    <tr>\n",
              "      <th>4</th>\n",
              "      <td>Philadelphia PA</td>\n",
              "      <td>504</td>\n",
              "    </tr>\n",
              "  </tbody>\n",
              "</table>\n",
              "</div>\n",
              "      <button class=\"colab-df-convert\" onclick=\"convertToInteractive('df-47a61457-90b9-4379-8b50-30e7123f5be2')\"\n",
              "              title=\"Convert this dataframe to an interactive table.\"\n",
              "              style=\"display:none;\">\n",
              "        \n",
              "  <svg xmlns=\"http://www.w3.org/2000/svg\" height=\"24px\"viewBox=\"0 0 24 24\"\n",
              "       width=\"24px\">\n",
              "    <path d=\"M0 0h24v24H0V0z\" fill=\"none\"/>\n",
              "    <path d=\"M18.56 5.44l.94 2.06.94-2.06 2.06-.94-2.06-.94-.94-2.06-.94 2.06-2.06.94zm-11 1L8.5 8.5l.94-2.06 2.06-.94-2.06-.94L8.5 2.5l-.94 2.06-2.06.94zm10 10l.94 2.06.94-2.06 2.06-.94-2.06-.94-.94-2.06-.94 2.06-2.06.94z\"/><path d=\"M17.41 7.96l-1.37-1.37c-.4-.4-.92-.59-1.43-.59-.52 0-1.04.2-1.43.59L10.3 9.45l-7.72 7.72c-.78.78-.78 2.05 0 2.83L4 21.41c.39.39.9.59 1.41.59.51 0 1.02-.2 1.41-.59l7.78-7.78 2.81-2.81c.8-.78.8-2.07 0-2.86zM5.41 20L4 18.59l7.72-7.72 1.47 1.35L5.41 20z\"/>\n",
              "  </svg>\n",
              "      </button>\n",
              "      \n",
              "  <style>\n",
              "    .colab-df-container {\n",
              "      display:flex;\n",
              "      flex-wrap:wrap;\n",
              "      gap: 12px;\n",
              "    }\n",
              "\n",
              "    .colab-df-convert {\n",
              "      background-color: #E8F0FE;\n",
              "      border: none;\n",
              "      border-radius: 50%;\n",
              "      cursor: pointer;\n",
              "      display: none;\n",
              "      fill: #1967D2;\n",
              "      height: 32px;\n",
              "      padding: 0 0 0 0;\n",
              "      width: 32px;\n",
              "    }\n",
              "\n",
              "    .colab-df-convert:hover {\n",
              "      background-color: #E2EBFA;\n",
              "      box-shadow: 0px 1px 2px rgba(60, 64, 67, 0.3), 0px 1px 3px 1px rgba(60, 64, 67, 0.15);\n",
              "      fill: #174EA6;\n",
              "    }\n",
              "\n",
              "    [theme=dark] .colab-df-convert {\n",
              "      background-color: #3B4455;\n",
              "      fill: #D2E3FC;\n",
              "    }\n",
              "\n",
              "    [theme=dark] .colab-df-convert:hover {\n",
              "      background-color: #434B5C;\n",
              "      box-shadow: 0px 1px 3px 1px rgba(0, 0, 0, 0.15);\n",
              "      filter: drop-shadow(0px 1px 2px rgba(0, 0, 0, 0.3));\n",
              "      fill: #FFFFFF;\n",
              "    }\n",
              "  </style>\n",
              "\n",
              "      <script>\n",
              "        const buttonEl =\n",
              "          document.querySelector('#df-47a61457-90b9-4379-8b50-30e7123f5be2 button.colab-df-convert');\n",
              "        buttonEl.style.display =\n",
              "          google.colab.kernel.accessAllowed ? 'block' : 'none';\n",
              "\n",
              "        async function convertToInteractive(key) {\n",
              "          const element = document.querySelector('#df-47a61457-90b9-4379-8b50-30e7123f5be2');\n",
              "          const dataTable =\n",
              "            await google.colab.kernel.invokeFunction('convertToInteractive',\n",
              "                                                     [key], {});\n",
              "          if (!dataTable) return;\n",
              "\n",
              "          const docLinkHtml = 'Like what you see? Visit the ' +\n",
              "            '<a target=\"_blank\" href=https://colab.research.google.com/notebooks/data_table.ipynb>data table notebook</a>'\n",
              "            + ' to learn more about interactive tables.';\n",
              "          element.innerHTML = '';\n",
              "          dataTable['output_type'] = 'display_data';\n",
              "          await google.colab.output.renderOutput(dataTable, element);\n",
              "          const docLink = document.createElement('div');\n",
              "          docLink.innerHTML = docLinkHtml;\n",
              "          element.appendChild(docLink);\n",
              "        }\n",
              "      </script>\n",
              "    </div>\n",
              "  </div>\n",
              "  "
            ]
          },
          "metadata": {},
          "execution_count": 17
        }
      ]
    },
    {
      "cell_type": "code",
      "source": [
        "markets_df[ markets_df[\"dma_name\"].str.contains(\"Washington DC\") ]"
      ],
      "metadata": {
        "colab": {
          "base_uri": "https://localhost:8080/",
          "height": 80
        },
        "id": "4fjUCeshKZio",
        "outputId": "00cbd477-ceb7-412b-8e17-69d52f59d1d6"
      },
      "execution_count": 19,
      "outputs": [
        {
          "output_type": "execute_result",
          "data": {
            "text/plain": [
              "                         dma_name  dma_id\n",
              "11  Washington DC (Hagerstown MD)     511"
            ],
            "text/html": [
              "\n",
              "  <div id=\"df-bf6d2f90-fde2-40b1-b11d-21da3a56cc69\">\n",
              "    <div class=\"colab-df-container\">\n",
              "      <div>\n",
              "<style scoped>\n",
              "    .dataframe tbody tr th:only-of-type {\n",
              "        vertical-align: middle;\n",
              "    }\n",
              "\n",
              "    .dataframe tbody tr th {\n",
              "        vertical-align: top;\n",
              "    }\n",
              "\n",
              "    .dataframe thead th {\n",
              "        text-align: right;\n",
              "    }\n",
              "</style>\n",
              "<table border=\"1\" class=\"dataframe\">\n",
              "  <thead>\n",
              "    <tr style=\"text-align: right;\">\n",
              "      <th></th>\n",
              "      <th>dma_name</th>\n",
              "      <th>dma_id</th>\n",
              "    </tr>\n",
              "  </thead>\n",
              "  <tbody>\n",
              "    <tr>\n",
              "      <th>11</th>\n",
              "      <td>Washington DC (Hagerstown MD)</td>\n",
              "      <td>511</td>\n",
              "    </tr>\n",
              "  </tbody>\n",
              "</table>\n",
              "</div>\n",
              "      <button class=\"colab-df-convert\" onclick=\"convertToInteractive('df-bf6d2f90-fde2-40b1-b11d-21da3a56cc69')\"\n",
              "              title=\"Convert this dataframe to an interactive table.\"\n",
              "              style=\"display:none;\">\n",
              "        \n",
              "  <svg xmlns=\"http://www.w3.org/2000/svg\" height=\"24px\"viewBox=\"0 0 24 24\"\n",
              "       width=\"24px\">\n",
              "    <path d=\"M0 0h24v24H0V0z\" fill=\"none\"/>\n",
              "    <path d=\"M18.56 5.44l.94 2.06.94-2.06 2.06-.94-2.06-.94-.94-2.06-.94 2.06-2.06.94zm-11 1L8.5 8.5l.94-2.06 2.06-.94-2.06-.94L8.5 2.5l-.94 2.06-2.06.94zm10 10l.94 2.06.94-2.06 2.06-.94-2.06-.94-.94-2.06-.94 2.06-2.06.94z\"/><path d=\"M17.41 7.96l-1.37-1.37c-.4-.4-.92-.59-1.43-.59-.52 0-1.04.2-1.43.59L10.3 9.45l-7.72 7.72c-.78.78-.78 2.05 0 2.83L4 21.41c.39.39.9.59 1.41.59.51 0 1.02-.2 1.41-.59l7.78-7.78 2.81-2.81c.8-.78.8-2.07 0-2.86zM5.41 20L4 18.59l7.72-7.72 1.47 1.35L5.41 20z\"/>\n",
              "  </svg>\n",
              "      </button>\n",
              "      \n",
              "  <style>\n",
              "    .colab-df-container {\n",
              "      display:flex;\n",
              "      flex-wrap:wrap;\n",
              "      gap: 12px;\n",
              "    }\n",
              "\n",
              "    .colab-df-convert {\n",
              "      background-color: #E8F0FE;\n",
              "      border: none;\n",
              "      border-radius: 50%;\n",
              "      cursor: pointer;\n",
              "      display: none;\n",
              "      fill: #1967D2;\n",
              "      height: 32px;\n",
              "      padding: 0 0 0 0;\n",
              "      width: 32px;\n",
              "    }\n",
              "\n",
              "    .colab-df-convert:hover {\n",
              "      background-color: #E2EBFA;\n",
              "      box-shadow: 0px 1px 2px rgba(60, 64, 67, 0.3), 0px 1px 3px 1px rgba(60, 64, 67, 0.15);\n",
              "      fill: #174EA6;\n",
              "    }\n",
              "\n",
              "    [theme=dark] .colab-df-convert {\n",
              "      background-color: #3B4455;\n",
              "      fill: #D2E3FC;\n",
              "    }\n",
              "\n",
              "    [theme=dark] .colab-df-convert:hover {\n",
              "      background-color: #434B5C;\n",
              "      box-shadow: 0px 1px 3px 1px rgba(0, 0, 0, 0.15);\n",
              "      filter: drop-shadow(0px 1px 2px rgba(0, 0, 0, 0.3));\n",
              "      fill: #FFFFFF;\n",
              "    }\n",
              "  </style>\n",
              "\n",
              "      <script>\n",
              "        const buttonEl =\n",
              "          document.querySelector('#df-bf6d2f90-fde2-40b1-b11d-21da3a56cc69 button.colab-df-convert');\n",
              "        buttonEl.style.display =\n",
              "          google.colab.kernel.accessAllowed ? 'block' : 'none';\n",
              "\n",
              "        async function convertToInteractive(key) {\n",
              "          const element = document.querySelector('#df-bf6d2f90-fde2-40b1-b11d-21da3a56cc69');\n",
              "          const dataTable =\n",
              "            await google.colab.kernel.invokeFunction('convertToInteractive',\n",
              "                                                     [key], {});\n",
              "          if (!dataTable) return;\n",
              "\n",
              "          const docLinkHtml = 'Like what you see? Visit the ' +\n",
              "            '<a target=\"_blank\" href=https://colab.research.google.com/notebooks/data_table.ipynb>data table notebook</a>'\n",
              "            + ' to learn more about interactive tables.';\n",
              "          element.innerHTML = '';\n",
              "          dataTable['output_type'] = 'display_data';\n",
              "          await google.colab.output.renderOutput(dataTable, element);\n",
              "          const docLink = document.createElement('div');\n",
              "          docLink.innerHTML = docLinkHtml;\n",
              "          element.appendChild(docLink);\n",
              "        }\n",
              "      </script>\n",
              "    </div>\n",
              "  </div>\n",
              "  "
            ]
          },
          "metadata": {},
          "execution_count": 19
        }
      ]
    },
    {
      "cell_type": "markdown",
      "source": [
        "#### Weeks"
      ],
      "metadata": {
        "id": "C8xmSaGuQunV"
      }
    },
    {
      "cell_type": "markdown",
      "source": [
        "Latest week:"
      ],
      "metadata": {
        "id": "hKDFWO0JLXKr"
      }
    },
    {
      "cell_type": "code",
      "source": [
        "from pandas import read_gbq\n",
        "\n",
        "sql = f\"\"\"\n",
        "    SELECT DISTINCT week\n",
        "    FROM `bigquery-public-data.google_trends.top_terms`\n",
        "    ORDER BY week DESC\n",
        "\"\"\"\n",
        "\n",
        "weeks_df = read_gbq(sql, project_id=PROJECT_ID)\n",
        "weeks_df"
      ],
      "metadata": {
        "colab": {
          "base_uri": "https://localhost:8080/",
          "height": 423
        },
        "id": "Aj5pjaWmLYRP",
        "outputId": "43f01470-d1e3-4212-8f7f-d9c47155c542"
      },
      "execution_count": 33,
      "outputs": [
        {
          "output_type": "execute_result",
          "data": {
            "text/plain": [
              "           week\n",
              "0    2023-06-11\n",
              "1    2023-06-04\n",
              "2    2023-05-28\n",
              "3    2023-05-21\n",
              "4    2023-05-14\n",
              "..          ...\n",
              "260  2018-06-17\n",
              "261  2018-06-10\n",
              "262  2018-06-03\n",
              "263  2018-05-27\n",
              "264  2018-05-20\n",
              "\n",
              "[265 rows x 1 columns]"
            ],
            "text/html": [
              "\n",
              "  <div id=\"df-143b7e0b-1362-4c4c-ade6-d4a0c2797657\">\n",
              "    <div class=\"colab-df-container\">\n",
              "      <div>\n",
              "<style scoped>\n",
              "    .dataframe tbody tr th:only-of-type {\n",
              "        vertical-align: middle;\n",
              "    }\n",
              "\n",
              "    .dataframe tbody tr th {\n",
              "        vertical-align: top;\n",
              "    }\n",
              "\n",
              "    .dataframe thead th {\n",
              "        text-align: right;\n",
              "    }\n",
              "</style>\n",
              "<table border=\"1\" class=\"dataframe\">\n",
              "  <thead>\n",
              "    <tr style=\"text-align: right;\">\n",
              "      <th></th>\n",
              "      <th>week</th>\n",
              "    </tr>\n",
              "  </thead>\n",
              "  <tbody>\n",
              "    <tr>\n",
              "      <th>0</th>\n",
              "      <td>2023-06-11</td>\n",
              "    </tr>\n",
              "    <tr>\n",
              "      <th>1</th>\n",
              "      <td>2023-06-04</td>\n",
              "    </tr>\n",
              "    <tr>\n",
              "      <th>2</th>\n",
              "      <td>2023-05-28</td>\n",
              "    </tr>\n",
              "    <tr>\n",
              "      <th>3</th>\n",
              "      <td>2023-05-21</td>\n",
              "    </tr>\n",
              "    <tr>\n",
              "      <th>4</th>\n",
              "      <td>2023-05-14</td>\n",
              "    </tr>\n",
              "    <tr>\n",
              "      <th>...</th>\n",
              "      <td>...</td>\n",
              "    </tr>\n",
              "    <tr>\n",
              "      <th>260</th>\n",
              "      <td>2018-06-17</td>\n",
              "    </tr>\n",
              "    <tr>\n",
              "      <th>261</th>\n",
              "      <td>2018-06-10</td>\n",
              "    </tr>\n",
              "    <tr>\n",
              "      <th>262</th>\n",
              "      <td>2018-06-03</td>\n",
              "    </tr>\n",
              "    <tr>\n",
              "      <th>263</th>\n",
              "      <td>2018-05-27</td>\n",
              "    </tr>\n",
              "    <tr>\n",
              "      <th>264</th>\n",
              "      <td>2018-05-20</td>\n",
              "    </tr>\n",
              "  </tbody>\n",
              "</table>\n",
              "<p>265 rows × 1 columns</p>\n",
              "</div>\n",
              "      <button class=\"colab-df-convert\" onclick=\"convertToInteractive('df-143b7e0b-1362-4c4c-ade6-d4a0c2797657')\"\n",
              "              title=\"Convert this dataframe to an interactive table.\"\n",
              "              style=\"display:none;\">\n",
              "        \n",
              "  <svg xmlns=\"http://www.w3.org/2000/svg\" height=\"24px\"viewBox=\"0 0 24 24\"\n",
              "       width=\"24px\">\n",
              "    <path d=\"M0 0h24v24H0V0z\" fill=\"none\"/>\n",
              "    <path d=\"M18.56 5.44l.94 2.06.94-2.06 2.06-.94-2.06-.94-.94-2.06-.94 2.06-2.06.94zm-11 1L8.5 8.5l.94-2.06 2.06-.94-2.06-.94L8.5 2.5l-.94 2.06-2.06.94zm10 10l.94 2.06.94-2.06 2.06-.94-2.06-.94-.94-2.06-.94 2.06-2.06.94z\"/><path d=\"M17.41 7.96l-1.37-1.37c-.4-.4-.92-.59-1.43-.59-.52 0-1.04.2-1.43.59L10.3 9.45l-7.72 7.72c-.78.78-.78 2.05 0 2.83L4 21.41c.39.39.9.59 1.41.59.51 0 1.02-.2 1.41-.59l7.78-7.78 2.81-2.81c.8-.78.8-2.07 0-2.86zM5.41 20L4 18.59l7.72-7.72 1.47 1.35L5.41 20z\"/>\n",
              "  </svg>\n",
              "      </button>\n",
              "      \n",
              "  <style>\n",
              "    .colab-df-container {\n",
              "      display:flex;\n",
              "      flex-wrap:wrap;\n",
              "      gap: 12px;\n",
              "    }\n",
              "\n",
              "    .colab-df-convert {\n",
              "      background-color: #E8F0FE;\n",
              "      border: none;\n",
              "      border-radius: 50%;\n",
              "      cursor: pointer;\n",
              "      display: none;\n",
              "      fill: #1967D2;\n",
              "      height: 32px;\n",
              "      padding: 0 0 0 0;\n",
              "      width: 32px;\n",
              "    }\n",
              "\n",
              "    .colab-df-convert:hover {\n",
              "      background-color: #E2EBFA;\n",
              "      box-shadow: 0px 1px 2px rgba(60, 64, 67, 0.3), 0px 1px 3px 1px rgba(60, 64, 67, 0.15);\n",
              "      fill: #174EA6;\n",
              "    }\n",
              "\n",
              "    [theme=dark] .colab-df-convert {\n",
              "      background-color: #3B4455;\n",
              "      fill: #D2E3FC;\n",
              "    }\n",
              "\n",
              "    [theme=dark] .colab-df-convert:hover {\n",
              "      background-color: #434B5C;\n",
              "      box-shadow: 0px 1px 3px 1px rgba(0, 0, 0, 0.15);\n",
              "      filter: drop-shadow(0px 1px 2px rgba(0, 0, 0, 0.3));\n",
              "      fill: #FFFFFF;\n",
              "    }\n",
              "  </style>\n",
              "\n",
              "      <script>\n",
              "        const buttonEl =\n",
              "          document.querySelector('#df-143b7e0b-1362-4c4c-ade6-d4a0c2797657 button.colab-df-convert');\n",
              "        buttonEl.style.display =\n",
              "          google.colab.kernel.accessAllowed ? 'block' : 'none';\n",
              "\n",
              "        async function convertToInteractive(key) {\n",
              "          const element = document.querySelector('#df-143b7e0b-1362-4c4c-ade6-d4a0c2797657');\n",
              "          const dataTable =\n",
              "            await google.colab.kernel.invokeFunction('convertToInteractive',\n",
              "                                                     [key], {});\n",
              "          if (!dataTable) return;\n",
              "\n",
              "          const docLinkHtml = 'Like what you see? Visit the ' +\n",
              "            '<a target=\"_blank\" href=https://colab.research.google.com/notebooks/data_table.ipynb>data table notebook</a>'\n",
              "            + ' to learn more about interactive tables.';\n",
              "          element.innerHTML = '';\n",
              "          dataTable['output_type'] = 'display_data';\n",
              "          await google.colab.output.renderOutput(dataTable, element);\n",
              "          const docLink = document.createElement('div');\n",
              "          docLink.innerHTML = docLinkHtml;\n",
              "          element.appendChild(docLink);\n",
              "        }\n",
              "      </script>\n",
              "    </div>\n",
              "  </div>\n",
              "  "
            ]
          },
          "metadata": {},
          "execution_count": 33
        }
      ]
    },
    {
      "cell_type": "code",
      "source": [
        "latest_week = weeks_df[\"week\"].max()\n",
        "earliest_week = weeks_df[\"week\"].min()\n",
        "\n",
        "print(earliest_week, \"...\", latest_week)"
      ],
      "metadata": {
        "colab": {
          "base_uri": "https://localhost:8080/"
        },
        "id": "guSf1OZlOJaq",
        "outputId": "aa3b2b83-e628-4e30-af77-26edcb44ac26"
      },
      "execution_count": 49,
      "outputs": [
        {
          "output_type": "stream",
          "name": "stdout",
          "text": [
            "2018-05-20 ... 2023-06-11\n"
          ]
        }
      ]
    },
    {
      "cell_type": "markdown",
      "source": [
        "#### Refresh Dates"
      ],
      "metadata": {
        "id": "xe5FqFJQQ19d"
      }
    },
    {
      "cell_type": "code",
      "source": [
        "from pandas import read_gbq\n",
        "\n",
        "sql = f\"\"\"\n",
        "    SELECT DISTINCT refresh_date\n",
        "    FROM `bigquery-public-data.google_trends.top_terms`\n",
        "    ORDER BY refresh_date DESC\n",
        "\"\"\"\n",
        "\n",
        "refresh_df = read_gbq(sql, project_id=PROJECT_ID)\n",
        "refresh_df.head()"
      ],
      "metadata": {
        "colab": {
          "base_uri": "https://localhost:8080/",
          "height": 206
        },
        "id": "sfgoQTdxQ3SD",
        "outputId": "c479ce64-159f-4b5f-ea0a-6d15d198312a"
      },
      "execution_count": 46,
      "outputs": [
        {
          "output_type": "execute_result",
          "data": {
            "text/plain": [
              "  refresh_date\n",
              "0   2023-06-15\n",
              "1   2023-06-14\n",
              "2   2023-06-13\n",
              "3   2023-06-12\n",
              "4   2023-06-11"
            ],
            "text/html": [
              "\n",
              "  <div id=\"df-f674f48f-0e07-43ec-b192-47a23b3b084a\">\n",
              "    <div class=\"colab-df-container\">\n",
              "      <div>\n",
              "<style scoped>\n",
              "    .dataframe tbody tr th:only-of-type {\n",
              "        vertical-align: middle;\n",
              "    }\n",
              "\n",
              "    .dataframe tbody tr th {\n",
              "        vertical-align: top;\n",
              "    }\n",
              "\n",
              "    .dataframe thead th {\n",
              "        text-align: right;\n",
              "    }\n",
              "</style>\n",
              "<table border=\"1\" class=\"dataframe\">\n",
              "  <thead>\n",
              "    <tr style=\"text-align: right;\">\n",
              "      <th></th>\n",
              "      <th>refresh_date</th>\n",
              "    </tr>\n",
              "  </thead>\n",
              "  <tbody>\n",
              "    <tr>\n",
              "      <th>0</th>\n",
              "      <td>2023-06-15</td>\n",
              "    </tr>\n",
              "    <tr>\n",
              "      <th>1</th>\n",
              "      <td>2023-06-14</td>\n",
              "    </tr>\n",
              "    <tr>\n",
              "      <th>2</th>\n",
              "      <td>2023-06-13</td>\n",
              "    </tr>\n",
              "    <tr>\n",
              "      <th>3</th>\n",
              "      <td>2023-06-12</td>\n",
              "    </tr>\n",
              "    <tr>\n",
              "      <th>4</th>\n",
              "      <td>2023-06-11</td>\n",
              "    </tr>\n",
              "  </tbody>\n",
              "</table>\n",
              "</div>\n",
              "      <button class=\"colab-df-convert\" onclick=\"convertToInteractive('df-f674f48f-0e07-43ec-b192-47a23b3b084a')\"\n",
              "              title=\"Convert this dataframe to an interactive table.\"\n",
              "              style=\"display:none;\">\n",
              "        \n",
              "  <svg xmlns=\"http://www.w3.org/2000/svg\" height=\"24px\"viewBox=\"0 0 24 24\"\n",
              "       width=\"24px\">\n",
              "    <path d=\"M0 0h24v24H0V0z\" fill=\"none\"/>\n",
              "    <path d=\"M18.56 5.44l.94 2.06.94-2.06 2.06-.94-2.06-.94-.94-2.06-.94 2.06-2.06.94zm-11 1L8.5 8.5l.94-2.06 2.06-.94-2.06-.94L8.5 2.5l-.94 2.06-2.06.94zm10 10l.94 2.06.94-2.06 2.06-.94-2.06-.94-.94-2.06-.94 2.06-2.06.94z\"/><path d=\"M17.41 7.96l-1.37-1.37c-.4-.4-.92-.59-1.43-.59-.52 0-1.04.2-1.43.59L10.3 9.45l-7.72 7.72c-.78.78-.78 2.05 0 2.83L4 21.41c.39.39.9.59 1.41.59.51 0 1.02-.2 1.41-.59l7.78-7.78 2.81-2.81c.8-.78.8-2.07 0-2.86zM5.41 20L4 18.59l7.72-7.72 1.47 1.35L5.41 20z\"/>\n",
              "  </svg>\n",
              "      </button>\n",
              "      \n",
              "  <style>\n",
              "    .colab-df-container {\n",
              "      display:flex;\n",
              "      flex-wrap:wrap;\n",
              "      gap: 12px;\n",
              "    }\n",
              "\n",
              "    .colab-df-convert {\n",
              "      background-color: #E8F0FE;\n",
              "      border: none;\n",
              "      border-radius: 50%;\n",
              "      cursor: pointer;\n",
              "      display: none;\n",
              "      fill: #1967D2;\n",
              "      height: 32px;\n",
              "      padding: 0 0 0 0;\n",
              "      width: 32px;\n",
              "    }\n",
              "\n",
              "    .colab-df-convert:hover {\n",
              "      background-color: #E2EBFA;\n",
              "      box-shadow: 0px 1px 2px rgba(60, 64, 67, 0.3), 0px 1px 3px 1px rgba(60, 64, 67, 0.15);\n",
              "      fill: #174EA6;\n",
              "    }\n",
              "\n",
              "    [theme=dark] .colab-df-convert {\n",
              "      background-color: #3B4455;\n",
              "      fill: #D2E3FC;\n",
              "    }\n",
              "\n",
              "    [theme=dark] .colab-df-convert:hover {\n",
              "      background-color: #434B5C;\n",
              "      box-shadow: 0px 1px 3px 1px rgba(0, 0, 0, 0.15);\n",
              "      filter: drop-shadow(0px 1px 2px rgba(0, 0, 0, 0.3));\n",
              "      fill: #FFFFFF;\n",
              "    }\n",
              "  </style>\n",
              "\n",
              "      <script>\n",
              "        const buttonEl =\n",
              "          document.querySelector('#df-f674f48f-0e07-43ec-b192-47a23b3b084a button.colab-df-convert');\n",
              "        buttonEl.style.display =\n",
              "          google.colab.kernel.accessAllowed ? 'block' : 'none';\n",
              "\n",
              "        async function convertToInteractive(key) {\n",
              "          const element = document.querySelector('#df-f674f48f-0e07-43ec-b192-47a23b3b084a');\n",
              "          const dataTable =\n",
              "            await google.colab.kernel.invokeFunction('convertToInteractive',\n",
              "                                                     [key], {});\n",
              "          if (!dataTable) return;\n",
              "\n",
              "          const docLinkHtml = 'Like what you see? Visit the ' +\n",
              "            '<a target=\"_blank\" href=https://colab.research.google.com/notebooks/data_table.ipynb>data table notebook</a>'\n",
              "            + ' to learn more about interactive tables.';\n",
              "          element.innerHTML = '';\n",
              "          dataTable['output_type'] = 'display_data';\n",
              "          await google.colab.output.renderOutput(dataTable, element);\n",
              "          const docLink = document.createElement('div');\n",
              "          docLink.innerHTML = docLinkHtml;\n",
              "          element.appendChild(docLink);\n",
              "        }\n",
              "      </script>\n",
              "    </div>\n",
              "  </div>\n",
              "  "
            ]
          },
          "metadata": {},
          "execution_count": 46
        }
      ]
    },
    {
      "cell_type": "code",
      "source": [
        "latest_refresh_date = refresh_df[\"refresh_date\"].max()\n",
        "print(latest_refresh_date)"
      ],
      "metadata": {
        "colab": {
          "base_uri": "https://localhost:8080/"
        },
        "id": "xjeMQScrQ6iJ",
        "outputId": "80376430-7791-4161-8129-5066ca73105a"
      },
      "execution_count": 47,
      "outputs": [
        {
          "output_type": "stream",
          "name": "stdout",
          "text": [
            "2023-06-15\n"
          ]
        }
      ]
    },
    {
      "cell_type": "markdown",
      "source": [
        "#### Top Terms"
      ],
      "metadata": {
        "id": "zhKY6-cSQzKV"
      }
    },
    {
      "cell_type": "markdown",
      "source": [
        "Top terms in a given market during a given week:"
      ],
      "metadata": {
        "id": "VmxHTClMLRB8"
      }
    },
    {
      "cell_type": "code",
      "source": [
        "from pandas import read_gbq\n",
        "\n",
        "dma_id = 511 # update as desired\n",
        "\n",
        "sql = f\"\"\"\n",
        "    SELECT week, refresh_date, rank, score, dma_name, dma_id, term\n",
        "    FROM `bigquery-public-data.google_trends.top_terms`\n",
        "    WHERE dma_id = {int(dma_id)}\n",
        "        AND week = '{latest_week}'\n",
        "        AND refresh_date = '{latest_refresh_date}'\n",
        "    ORDER BY week DESC, dma_id, rank\n",
        "\"\"\"\n",
        "\n",
        "trends_df = read_gbq(sql, project_id=PROJECT_ID)\n",
        "trends_df.index = trends_df[\"rank\"]\n",
        "trends_df.head()"
      ],
      "metadata": {
        "colab": {
          "base_uri": "https://localhost:8080/",
          "height": 237
        },
        "id": "OCpeWDSFF54y",
        "outputId": "04843304-1515-449e-abec-e5b03271c872"
      },
      "execution_count": 54,
      "outputs": [
        {
          "output_type": "execute_result",
          "data": {
            "text/plain": [
              "            week refresh_date  rank  score                       dma_name  \\\n",
              "rank                                                                        \n",
              "1     2023-06-11   2023-06-15     1   <NA>  Washington DC (Hagerstown MD)   \n",
              "2     2023-06-11   2023-06-15     2     10  Washington DC (Hagerstown MD)   \n",
              "3     2023-06-11   2023-06-15     3   <NA>  Washington DC (Hagerstown MD)   \n",
              "4     2023-06-11   2023-06-15     4   <NA>  Washington DC (Hagerstown MD)   \n",
              "5     2023-06-11   2023-06-15     5   <NA>  Washington DC (Hagerstown MD)   \n",
              "\n",
              "      dma_id                         term  \n",
              "rank                                       \n",
              "1        511     Eminem's daughter Alaina  \n",
              "2        511               Nations League  \n",
              "3        511  White House press secretary  \n",
              "4        511                 Bradley Beal  \n",
              "5        511                Rachel Maddow  "
            ],
            "text/html": [
              "\n",
              "  <div id=\"df-6c243184-8b53-4cac-bca6-2864bb533070\">\n",
              "    <div class=\"colab-df-container\">\n",
              "      <div>\n",
              "<style scoped>\n",
              "    .dataframe tbody tr th:only-of-type {\n",
              "        vertical-align: middle;\n",
              "    }\n",
              "\n",
              "    .dataframe tbody tr th {\n",
              "        vertical-align: top;\n",
              "    }\n",
              "\n",
              "    .dataframe thead th {\n",
              "        text-align: right;\n",
              "    }\n",
              "</style>\n",
              "<table border=\"1\" class=\"dataframe\">\n",
              "  <thead>\n",
              "    <tr style=\"text-align: right;\">\n",
              "      <th></th>\n",
              "      <th>week</th>\n",
              "      <th>refresh_date</th>\n",
              "      <th>rank</th>\n",
              "      <th>score</th>\n",
              "      <th>dma_name</th>\n",
              "      <th>dma_id</th>\n",
              "      <th>term</th>\n",
              "    </tr>\n",
              "    <tr>\n",
              "      <th>rank</th>\n",
              "      <th></th>\n",
              "      <th></th>\n",
              "      <th></th>\n",
              "      <th></th>\n",
              "      <th></th>\n",
              "      <th></th>\n",
              "      <th></th>\n",
              "    </tr>\n",
              "  </thead>\n",
              "  <tbody>\n",
              "    <tr>\n",
              "      <th>1</th>\n",
              "      <td>2023-06-11</td>\n",
              "      <td>2023-06-15</td>\n",
              "      <td>1</td>\n",
              "      <td>&lt;NA&gt;</td>\n",
              "      <td>Washington DC (Hagerstown MD)</td>\n",
              "      <td>511</td>\n",
              "      <td>Eminem's daughter Alaina</td>\n",
              "    </tr>\n",
              "    <tr>\n",
              "      <th>2</th>\n",
              "      <td>2023-06-11</td>\n",
              "      <td>2023-06-15</td>\n",
              "      <td>2</td>\n",
              "      <td>10</td>\n",
              "      <td>Washington DC (Hagerstown MD)</td>\n",
              "      <td>511</td>\n",
              "      <td>Nations League</td>\n",
              "    </tr>\n",
              "    <tr>\n",
              "      <th>3</th>\n",
              "      <td>2023-06-11</td>\n",
              "      <td>2023-06-15</td>\n",
              "      <td>3</td>\n",
              "      <td>&lt;NA&gt;</td>\n",
              "      <td>Washington DC (Hagerstown MD)</td>\n",
              "      <td>511</td>\n",
              "      <td>White House press secretary</td>\n",
              "    </tr>\n",
              "    <tr>\n",
              "      <th>4</th>\n",
              "      <td>2023-06-11</td>\n",
              "      <td>2023-06-15</td>\n",
              "      <td>4</td>\n",
              "      <td>&lt;NA&gt;</td>\n",
              "      <td>Washington DC (Hagerstown MD)</td>\n",
              "      <td>511</td>\n",
              "      <td>Bradley Beal</td>\n",
              "    </tr>\n",
              "    <tr>\n",
              "      <th>5</th>\n",
              "      <td>2023-06-11</td>\n",
              "      <td>2023-06-15</td>\n",
              "      <td>5</td>\n",
              "      <td>&lt;NA&gt;</td>\n",
              "      <td>Washington DC (Hagerstown MD)</td>\n",
              "      <td>511</td>\n",
              "      <td>Rachel Maddow</td>\n",
              "    </tr>\n",
              "  </tbody>\n",
              "</table>\n",
              "</div>\n",
              "      <button class=\"colab-df-convert\" onclick=\"convertToInteractive('df-6c243184-8b53-4cac-bca6-2864bb533070')\"\n",
              "              title=\"Convert this dataframe to an interactive table.\"\n",
              "              style=\"display:none;\">\n",
              "        \n",
              "  <svg xmlns=\"http://www.w3.org/2000/svg\" height=\"24px\"viewBox=\"0 0 24 24\"\n",
              "       width=\"24px\">\n",
              "    <path d=\"M0 0h24v24H0V0z\" fill=\"none\"/>\n",
              "    <path d=\"M18.56 5.44l.94 2.06.94-2.06 2.06-.94-2.06-.94-.94-2.06-.94 2.06-2.06.94zm-11 1L8.5 8.5l.94-2.06 2.06-.94-2.06-.94L8.5 2.5l-.94 2.06-2.06.94zm10 10l.94 2.06.94-2.06 2.06-.94-2.06-.94-.94-2.06-.94 2.06-2.06.94z\"/><path d=\"M17.41 7.96l-1.37-1.37c-.4-.4-.92-.59-1.43-.59-.52 0-1.04.2-1.43.59L10.3 9.45l-7.72 7.72c-.78.78-.78 2.05 0 2.83L4 21.41c.39.39.9.59 1.41.59.51 0 1.02-.2 1.41-.59l7.78-7.78 2.81-2.81c.8-.78.8-2.07 0-2.86zM5.41 20L4 18.59l7.72-7.72 1.47 1.35L5.41 20z\"/>\n",
              "  </svg>\n",
              "      </button>\n",
              "      \n",
              "  <style>\n",
              "    .colab-df-container {\n",
              "      display:flex;\n",
              "      flex-wrap:wrap;\n",
              "      gap: 12px;\n",
              "    }\n",
              "\n",
              "    .colab-df-convert {\n",
              "      background-color: #E8F0FE;\n",
              "      border: none;\n",
              "      border-radius: 50%;\n",
              "      cursor: pointer;\n",
              "      display: none;\n",
              "      fill: #1967D2;\n",
              "      height: 32px;\n",
              "      padding: 0 0 0 0;\n",
              "      width: 32px;\n",
              "    }\n",
              "\n",
              "    .colab-df-convert:hover {\n",
              "      background-color: #E2EBFA;\n",
              "      box-shadow: 0px 1px 2px rgba(60, 64, 67, 0.3), 0px 1px 3px 1px rgba(60, 64, 67, 0.15);\n",
              "      fill: #174EA6;\n",
              "    }\n",
              "\n",
              "    [theme=dark] .colab-df-convert {\n",
              "      background-color: #3B4455;\n",
              "      fill: #D2E3FC;\n",
              "    }\n",
              "\n",
              "    [theme=dark] .colab-df-convert:hover {\n",
              "      background-color: #434B5C;\n",
              "      box-shadow: 0px 1px 3px 1px rgba(0, 0, 0, 0.15);\n",
              "      filter: drop-shadow(0px 1px 2px rgba(0, 0, 0, 0.3));\n",
              "      fill: #FFFFFF;\n",
              "    }\n",
              "  </style>\n",
              "\n",
              "      <script>\n",
              "        const buttonEl =\n",
              "          document.querySelector('#df-6c243184-8b53-4cac-bca6-2864bb533070 button.colab-df-convert');\n",
              "        buttonEl.style.display =\n",
              "          google.colab.kernel.accessAllowed ? 'block' : 'none';\n",
              "\n",
              "        async function convertToInteractive(key) {\n",
              "          const element = document.querySelector('#df-6c243184-8b53-4cac-bca6-2864bb533070');\n",
              "          const dataTable =\n",
              "            await google.colab.kernel.invokeFunction('convertToInteractive',\n",
              "                                                     [key], {});\n",
              "          if (!dataTable) return;\n",
              "\n",
              "          const docLinkHtml = 'Like what you see? Visit the ' +\n",
              "            '<a target=\"_blank\" href=https://colab.research.google.com/notebooks/data_table.ipynb>data table notebook</a>'\n",
              "            + ' to learn more about interactive tables.';\n",
              "          element.innerHTML = '';\n",
              "          dataTable['output_type'] = 'display_data';\n",
              "          await google.colab.output.renderOutput(dataTable, element);\n",
              "          const docLink = document.createElement('div');\n",
              "          docLink.innerHTML = docLinkHtml;\n",
              "          element.appendChild(docLink);\n",
              "        }\n",
              "      </script>\n",
              "    </div>\n",
              "  </div>\n",
              "  "
            ]
          },
          "metadata": {},
          "execution_count": 54
        }
      ]
    },
    {
      "cell_type": "code",
      "source": [
        "len(trends_df)"
      ],
      "metadata": {
        "colab": {
          "base_uri": "https://localhost:8080/"
        },
        "id": "pU76OJyDF52y",
        "outputId": "e76ac27b-0979-44db-e22f-1b5c5eb4fab1"
      },
      "execution_count": 55,
      "outputs": [
        {
          "output_type": "execute_result",
          "data": {
            "text/plain": [
              "25"
            ]
          },
          "metadata": {},
          "execution_count": 55
        }
      ]
    },
    {
      "cell_type": "code",
      "source": [
        "trends_df[\"term\"]"
      ],
      "metadata": {
        "colab": {
          "base_uri": "https://localhost:8080/"
        },
        "id": "EELkOzKAF50d",
        "outputId": "2542b7fc-7333-4e50-f156-8183efc5178d"
      },
      "execution_count": 57,
      "outputs": [
        {
          "output_type": "execute_result",
          "data": {
            "text/plain": [
              "rank\n",
              "1        Eminem's daughter Alaina\n",
              "2                  Nations League\n",
              "3     White House press secretary\n",
              "4                    Bradley Beal\n",
              "5                   Rachel Maddow\n",
              "6                 Secret Invasion\n",
              "7                       DJ Khaled\n",
              "8                     Adam Schiff\n",
              "9                     Hepatitis A\n",
              "10                   Trevor Bauer\n",
              "11                Yankees vs Mets\n",
              "12                 Olivia Rodrigo\n",
              "13                    John Romita\n",
              "14                          Trump\n",
              "15           Vegas Golden Knights\n",
              "16                Cormac McCarthy\n",
              "17                       Flag Day\n",
              "18    Dwyane Wade Gabrielle Union\n",
              "19                      Ja Morant\n",
              "20                Denver shooting\n",
              "21                      Joe Biden\n",
              "22                    Ezra Miller\n",
              "23                   Stefon Diggs\n",
              "24                    Tyler Perry\n",
              "25                    Phil Kessel\n",
              "Name: term, dtype: object"
            ]
          },
          "metadata": {},
          "execution_count": 57
        }
      ]
    }
  ]
}