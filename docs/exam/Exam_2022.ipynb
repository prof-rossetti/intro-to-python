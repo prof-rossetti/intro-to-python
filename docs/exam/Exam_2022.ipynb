{
  "nbformat": 4,
  "nbformat_minor": 0,
  "metadata": {
    "colab": {
      "provenance": [],
      "collapsed_sections": [],
      "toc_visible": true
    },
    "kernelspec": {
      "name": "python3",
      "display_name": "Python 3"
    }
  },
  "cells": [
    {
      "cell_type": "markdown",
      "metadata": {
        "id": "Oqu9eSWa0FPi"
      },
      "source": [
        "# Instructions\n"
      ]
    },
    {
      "cell_type": "markdown",
      "metadata": {
        "id": "Ay0cqN_Loiww"
      },
      "source": [
        "1. **Make a copy of this notebook** so you can edit and save your own version of it.  You'll do the work in your copy of the notebook. \n",
        "\n",
        "2. **Edit the notebook title to include your Net ID and/or name**.\n",
        "\n",
        "3. **Read the Exam Policies** and **sign the Academic Integrity Pledge** (below).\n",
        "\n",
        "3. Be aware of some **example image display code** provided to you in the initial Setup cells (below).\n",
        "\n",
        "3. **Complete the challenges** (below). For each challenge:\n",
        "    + **Run the \"Setup\" cell** to define the provided variable\n",
        "    + **Write Python code** in cell(s) below to answer each of the provided questions. \n",
        "\n",
        "4. When you're done coding and your notebook reflects your final work product, **download your notebook in .ipynb format**, then [upload the .ipynb file to Canvas](https://georgetown.instructure.com/courses/149829/assignments/751236). NOTE: to download the notebook, choose \"File\" > \"Download\" > \"Download .ipynb\" option from the menu.\n",
        "\n",
        "Good luck! Have fun! \n",
        "\n"
      ]
    },
    {
      "cell_type": "markdown",
      "metadata": {
        "id": "cqiByG2H13UU"
      },
      "source": [
        "# Academic Integrity\n"
      ]
    },
    {
      "cell_type": "markdown",
      "metadata": {
        "id": "4YZH8qTu0InP"
      },
      "source": [
        "## Pledge / Acknowlegement\n",
        "\n",
        "> \"In pursuit of the high ideals and rigorous standards of academic life, I commit myself to respect and to uphold the Georgetown University honor system: To be honest in every academic endeavor, and to conduct myself honorably, as a responsible member of the Georgetown community.\"\n",
        "\n",
        "\n",
        "## Exam Policies\n",
        "\n",
        "  + For this exam, you may reference one page of printed notes you have prepared in advance. Sharing or passing of notes may lead to failure or dismissal. \n",
        "\n",
        "  + Otherwise, the format is: \"closed book\", which means NO communication or collaboration, and NO Internet searches. Accessing Internet resources may lead to failure or dismissal.\n",
        "  \n",
        "  + This notebook should be visible on your screen at all times, except at the very end of the exam period when you are uploading to Canvas. \n",
        "\n",
        "  + Your eyes should be focused on your own screen, or your page of printed notes. Wandering eyes may result in failure or dismissal.\n",
        "\n",
        "**Please write your name below to acknowlege these policies:**\n",
        "\n",
        "\n",
        "[YOUR NAME HERE]"
      ]
    },
    {
      "cell_type": "markdown",
      "metadata": {
        "id": "PHyLLhnq110E"
      },
      "source": [
        "# Evaluation\n"
      ]
    },
    {
      "cell_type": "markdown",
      "metadata": {
        "id": "Qxr0EGV30KMk"
      },
      "source": [
        "\n",
        "Rubric:\n",
        "\n",
        "challenge | question | weight\n",
        "--- | --- | ---\n",
        "Challenge 1 (Album) | Question A: album name | 10%\n",
        "Challenge 1 (Album) | Question B: release date | 10%\n",
        "Challenge 1 (Album) | Question C: artist name | 10%\n",
        "Challenge 1 (Album) | Question D: number of markets | 10%\n",
        "Challenge 1 (Album) | Question E: album art | 10%\n",
        "Challenge 2 (Tracks) | Question A: tracks count | 10%\n",
        "Challenge 2 (Tracks) | Question B: tracks loop | 10%\n",
        "Challenge 2 (Tracks) | Question C: Taylor's tracks | 10%\n",
        "Challenge 2 (Tracks) | Question D: Taylor's top tracks (displaying top five only) | 10%\n",
        "Challenge 2 (Tracks) | Question D: Taylor's top tracks (all other aspects of the question) | 10%\n",
        "\n",
        "\n",
        "\n",
        "\n",
        "\n",
        "> NOTE: This rubric is tentative, and may be subject to slight adjustments during the grading process.\n"
      ]
    },
    {
      "cell_type": "markdown",
      "metadata": {
        "id": "SI8YhmsBtEj-"
      },
      "source": [
        "# Setup / Example Code\n"
      ]
    },
    {
      "cell_type": "markdown",
      "metadata": {
        "id": "CJnqTNgzi1sY"
      },
      "source": [
        "\n",
        "The code cell below provides an example of how to display images in a Colab notebook. Run the cell to see the images!\n",
        "\n",
        "If you are asked to display images later, you can feel free to adapt this code to suit your purpose.\n"
      ]
    },
    {
      "cell_type": "code",
      "metadata": {
        "id": "ocKq2RirC--Z",
        "colab": {
          "base_uri": "https://localhost:8080/",
          "height": 361
        },
        "outputId": "ebb4d499-414d-44cd-9212-0ff8161a9f2e"
      },
      "source": [
        "#\n",
        "# SETUP CELL \n",
        "# ... leave this cell as-is\n",
        "# ... run this cell to display some example images, and feel free to reference / adapt the code later\n",
        "#\n",
        "\n",
        "from IPython.display import Image, display \n",
        "\n",
        "print(\"-----------\")\n",
        "print(\"EXAMPLE IMAGES:\")\n",
        "\n",
        "print(\"-----------\")\n",
        "image_url = \"https://upload.wikimedia.org/wikipedia/commons/thumb/9/9f/Georgetown_Hoyas_logo.svg/64px-Georgetown_Hoyas_logo.svg.png\"\n",
        "display(Image(url=image_url))\n",
        "\n",
        "print(\"-----------\")\n",
        "display(Image(url=\"https://www.python.org/static/community_logos/python-powered-w-200x80.png\"))\n",
        "\n",
        "print(\"-----------\")\n",
        "display(Image(url=\"https://www.scdn.co/i/_global/open-graph-default.png\", height=100))"
      ],
      "execution_count": null,
      "outputs": [
        {
          "output_type": "stream",
          "name": "stdout",
          "text": [
            "-----------\n",
            "EXAMPLE IMAGES:\n",
            "-----------\n"
          ]
        },
        {
          "output_type": "display_data",
          "data": {
            "text/plain": [
              "<IPython.core.display.Image object>"
            ],
            "text/html": [
              "<img src=\"https://upload.wikimedia.org/wikipedia/commons/thumb/9/9f/Georgetown_Hoyas_logo.svg/64px-Georgetown_Hoyas_logo.svg.png\"/>"
            ]
          },
          "metadata": {}
        },
        {
          "output_type": "stream",
          "name": "stdout",
          "text": [
            "-----------\n"
          ]
        },
        {
          "output_type": "display_data",
          "data": {
            "text/plain": [
              "<IPython.core.display.Image object>"
            ],
            "text/html": [
              "<img src=\"https://www.python.org/static/community_logos/python-powered-w-200x80.png\"/>"
            ]
          },
          "metadata": {}
        },
        {
          "output_type": "stream",
          "name": "stdout",
          "text": [
            "-----------\n"
          ]
        },
        {
          "output_type": "display_data",
          "data": {
            "text/plain": [
              "<IPython.core.display.Image object>"
            ],
            "text/html": [
              "<img src=\"https://www.scdn.co/i/_global/open-graph-default.png\" height=\"100\"/>"
            ]
          },
          "metadata": {}
        }
      ]
    },
    {
      "cell_type": "markdown",
      "source": [
        "The code cell below provides an example of list slicing. \n",
        "Run the cell to see the results.\n",
        "\n",
        "If you find it helpful later in the exam, feel free to adapt these examples to suit your purpose, otherwise feel free to ignore."
      ],
      "metadata": {
        "id": "PoMybwnDkx27"
      }
    },
    {
      "cell_type": "code",
      "source": [
        "#\n",
        "# SETUP CELL \n",
        "# ... leave this cell as-is\n",
        "# ... run this cell to see examples of list slicing, and feel free to reference / adapt the code later\n",
        "#\n",
        "\n",
        "print(\"HELLO WORLD\"[0:5]) #> \"HELLO\"\n",
        "\n",
        "print([\"a\", \"b\", \"c\", \"d\", \"e\", \"f\", \"g\"][0:3]) #> ['a', 'b', 'c']\n",
        "\n",
        "print([100, 600, 700, 200, 400, 300, 800][0:2]) #> [100, 600]\n"
      ],
      "metadata": {
        "colab": {
          "base_uri": "https://localhost:8080/"
        },
        "id": "vKhDHm3nk18g",
        "outputId": "63179fdd-ebd6-491c-e007-3cae7e3a46db"
      },
      "execution_count": null,
      "outputs": [
        {
          "output_type": "stream",
          "name": "stdout",
          "text": [
            "HELLO\n",
            "['a', 'b', 'c']\n",
            "[100, 600]\n"
          ]
        }
      ]
    },
    {
      "cell_type": "markdown",
      "metadata": {
        "id": "ZVzPjgdN4mb8"
      },
      "source": [
        "# Challenges"
      ]
    },
    {
      "cell_type": "markdown",
      "metadata": {
        "id": "jkFPIYgmG6ag"
      },
      "source": [
        "## Challenge 1 (Album)\n"
      ]
    },
    {
      "cell_type": "markdown",
      "metadata": {
        "id": "S-JKOpkHSpfB"
      },
      "source": [
        "\n",
        "Given the Python variable called `album` provided below, write Python code which references that variable to perform each of the following tasks...\n",
        "\n",
        "A) Print the album's name (i.e. `\"Lover\"`).\n",
        "\n",
        "B) Print the date this album was released (i.e. `\"2019-08-23\"`).\n",
        "\n",
        "C) Print the name of this album's artist (i.e.` \"Taylor Swift\"`). \n",
        "\n",
        "> NOTE: in this specific dataset there is just one artist, but in case there were multiple artists, it's safe to assume the first artist listed is the one we care about.\n",
        "\n",
        "D) Print the number of markets this album is available in (i.e `178`). \n",
        "\n",
        "> NOTE: Assume the list of markets could change at any time, so we'll want a dynamic count.\n",
        "\n",
        "E) Display this album's \"medium-sized\" album art image. \n",
        "\n",
        "> NOTE: let's assume there are always three images, and they're listed in order from largest to smallest (with the medium size in the middle / second).\n",
        ">\n",
        "> HINT: use the `IPython.display` module to display images, as demonstrated in the setup cell.\n",
        "\n",
        "\n",
        "\n"
      ]
    },
    {
      "cell_type": "code",
      "metadata": {
        "id": "kKN3iQxMA_BG"
      },
      "source": [
        "#\n",
        "# SETUP CELL \n",
        "# ... leave this cell as-is\n",
        "# ... run this cell to store the value of this variable in memory (so you can reference it later)\n",
        "#\n",
        "\n",
        "album = {\n",
        "    'album_type': 'album',\n",
        "    'artists': [\n",
        "        {\n",
        "            'external_urls': {'spotify': 'https://open.spotify.com/artist/06HL4z0CvFAxyc27GXpf02'},\n",
        "            'href': 'https://api.spotify.com/v1/artists/06HL4z0CvFAxyc27GXpf02',\n",
        "            'id': '06HL4z0CvFAxyc27GXpf02',\n",
        "            'name': 'Taylor Swift',\n",
        "            'type': 'artist',\n",
        "            'uri': 'spotify:artist:06HL4z0CvFAxyc27GXpf02'\n",
        "        }\n",
        "    ],\n",
        "    'available_markets': [\n",
        "        'AD', 'AE', 'AG', 'AL', 'AM', 'AO', 'AR', 'AT', 'AU', 'AZ', 'BA', 'BB', \n",
        "        'BD', 'BE', 'BF', 'BG', 'BH', 'BI', 'BJ', 'BN', 'BO', 'BR', 'BS', 'BT', \n",
        "        'BW', 'BY', 'BZ', 'CA', 'CH', 'CI', 'CL', 'CM', 'CO', 'CR', 'CV', 'CW', \n",
        "        'CY', 'CZ', 'DE', 'DJ', 'DK', 'DM', 'DO', 'DZ', 'EC', 'EE', 'EG', 'ES', \n",
        "        'FI', 'FJ', 'FM', 'FR', 'GA', 'GB', 'GD', 'GE', 'GH', 'GM', 'GN', 'GQ', \n",
        "        'GR', 'GT', 'GW', 'GY', 'HK', 'HN', 'HR', 'HT', 'HU', 'ID', 'IE', 'IL', \n",
        "        'IN', 'IS', 'IT', 'JM', 'JO', 'JP', 'KE', 'KG', 'KH', 'KI', 'KM', 'KN', \n",
        "        'KR', 'KW', 'KZ', 'LA', 'LB', 'LC', 'LI', 'LK', 'LR', 'LS', 'LT', 'LU', \n",
        "        'LV', 'MA', 'MC', 'MD', 'ME', 'MG', 'MH', 'MK', 'ML', 'MN', 'MO', 'MR', \n",
        "        'MT', 'MU', 'MV', 'MW', 'MX', 'MY', 'MZ', 'NA', 'NE', 'NG', 'NI', 'NL', \n",
        "        'NO', 'NP', 'NR', 'NZ', 'OM', 'PA', 'PE', 'PG', 'PH', 'PK', 'PL', 'PS', \n",
        "        'PT', 'PW', 'PY', 'QA', 'RO', 'RS', 'RU', 'RW', 'SA', 'SB', 'SC', 'SE', \n",
        "        'SG', 'SI', 'SK', 'SL', 'SM', 'SN', 'SR', 'ST', 'SV', 'SZ', 'TD', 'TG', \n",
        "        'TH', 'TL', 'TN', 'TO', 'TR', 'TT', 'TV', 'TW', 'TZ', 'UA', 'UG', 'US', \n",
        "        'UY', 'UZ', 'VC', 'VN', 'VU', 'WS', 'XK', 'ZA', 'ZM', 'ZW'\n",
        "    ],\n",
        "    'external_urls': {'spotify': 'https://open.spotify.com/album/1NAmidJlEaVgA3MpcPFYGq'},\n",
        "    'id': '1NAmidJlEaVgA3MpcPFYGq',\n",
        "    'images': [\n",
        "        {'height': 640, 'width': 640, 'url': 'https://i.scdn.co/image/ab67616d0000b273e787cffec20aa2a396a61647'},\n",
        "        {'height': 300, 'width': 300, 'url': 'https://i.scdn.co/image/ab67616d00001e02e787cffec20aa2a396a61647'},\n",
        "        {'height': 64, 'width': 64, 'url': 'https://i.scdn.co/image/ab67616d00004851e787cffec20aa2a396a61647'}\n",
        "    ],\n",
        "    'name': 'Lover',\n",
        "    'release_date': '2019-08-23',\n",
        "    'release_date_precision': 'day',\n",
        "    'total_tracks': 18,\n",
        "    'type': 'album',\n",
        "    'uri': 'spotify:album:1NAmidJlEaVgA3MpcPFYGq'\n",
        "}"
      ],
      "execution_count": null,
      "outputs": []
    },
    {
      "cell_type": "code",
      "source": [
        "\n",
        "print(\"------------------\")\n",
        "print(\"PROCESSING ALBUM DATA...\")\n",
        "print(\"------------------\")\n",
        "\n",
        "# todo: write Python code to answer the questions...\n",
        "\n"
      ],
      "metadata": {
        "colab": {
          "base_uri": "https://localhost:8080/"
        },
        "id": "7Y6nQyjHx0O1",
        "outputId": "22ffffed-a8fd-4ef9-c2db-e4942226e821"
      },
      "execution_count": null,
      "outputs": [
        {
          "output_type": "stream",
          "name": "stdout",
          "text": [
            "------------------\n",
            "PROCESSING ALBUM DATA...\n",
            "------------------\n"
          ]
        }
      ]
    },
    {
      "cell_type": "code",
      "source": [],
      "metadata": {
        "id": "ET6AJEpHx0JA"
      },
      "execution_count": null,
      "outputs": []
    },
    {
      "cell_type": "code",
      "source": [],
      "metadata": {
        "id": "b23UmLZlx0G8"
      },
      "execution_count": null,
      "outputs": []
    },
    {
      "cell_type": "code",
      "source": [],
      "metadata": {
        "id": "I4dVRsM9x0Dj"
      },
      "execution_count": null,
      "outputs": []
    },
    {
      "cell_type": "code",
      "source": [],
      "metadata": {
        "id": "AmOzTQZlx0Aj"
      },
      "execution_count": null,
      "outputs": []
    },
    {
      "cell_type": "code",
      "metadata": {
        "id": "LKTxrf859h8b"
      },
      "source": [],
      "execution_count": null,
      "outputs": []
    },
    {
      "cell_type": "code",
      "metadata": {
        "id": "dPCuXVZ99l4y"
      },
      "source": [],
      "execution_count": null,
      "outputs": []
    },
    {
      "cell_type": "markdown",
      "metadata": {
        "id": "VMVZ5F3rA0yy"
      },
      "source": [
        "## Challenge 2 (Tracks)\n"
      ]
    },
    {
      "cell_type": "markdown",
      "metadata": {
        "id": "WVQUj5N7A5Kj"
      },
      "source": [
        "\n",
        "Given the Python variable called `tracks` provided below, write Python code which references that variable to perform each of the following tasks...\n",
        "\n",
        "A) Print the number of tracks (i.e. `20`).\n",
        "\n",
        "> NOTE: assume the number of tracks could change over time, so we want a dynamic count.\n",
        "\n",
        "B) Loop through all the tracks, and print the name and artist name of each track, each on a new line (i.e. `\"Wildest Dreams (Taylor's Version) by Taylor Swift\"`, then `\"Love Story by Taylor Swift\"`, then `\"Renegade (feat. Taylor Swift) by Big Red Machine\"`, etc.)\n",
        "\n",
        "C) Print the number of tracks authored specifically by the artist named \"Taylor Swift\" only (i.e. `13`).\n",
        "\n",
        "D) Print the name and popularity score for the five most popular tracks by the artist named \"Taylor Swift\".\n",
        "\n",
        "> NOTE: assume the most popular tracks are the ones with the greatest \"popularity\" scores.\n",
        "\n",
        "> HINT: try sorting the tracks by popularity score, in descending order. You may want to leverage the `itemgetter` function from the `operator` module for easy sorting.\n",
        "\n",
        "> HINT: for getting just the top five, you can use a list-slicing approach (see example code in setup cell), or a counter-based approach. \n",
        "\n",
        "\n"
      ]
    },
    {
      "cell_type": "code",
      "metadata": {
        "id": "7mLcsfnESwG1"
      },
      "source": [
        "#\n",
        "# SETUP CELL \n",
        "# ... leave this cell as-is\n",
        "# ... run this cell to store the value of this variable in memory (so you can reference it later)\n",
        "#\n",
        "\n",
        "tracks = [\n",
        "    {\n",
        "        'album_name': \"Wildest Dreams (Taylor's Version)\",\n",
        "        'artist_name': 'Taylor Swift',\n",
        "        'disc_number': 1,\n",
        "        'duration_ms': 220433,\n",
        "        'explicit': False,\n",
        "        'external_ids': {'isrc': 'USUG12103658'},\n",
        "        'external_urls': {'spotify': 'https://open.spotify.com/track/1Ov37jtRQ2YNAe8HzfczkL'},\n",
        "        'id': '1Ov37jtRQ2YNAe8HzfczkL',\n",
        "        'name': \"Wildest Dreams (Taylor's Version)\",\n",
        "        'popularity': 87,\n",
        "        'preview_url': None,\n",
        "        'track_number': 1,\n",
        "        'type': 'track',\n",
        "        'uri': 'spotify:track:1Ov37jtRQ2YNAe8HzfczkL'\n",
        "    },\n",
        "    {\n",
        "        'album_name': 'Fearless (Big Machine Radio Release Special)',\n",
        "        'artist_name': 'Taylor Swift',\n",
        "        'disc_number': 1,\n",
        "        'duration_ms': 236266,\n",
        "        'explicit': False,\n",
        "        'external_ids': {'isrc': 'USCJY0803275'},\n",
        "        'external_urls': {'spotify': 'https://open.spotify.com/track/1D4PL9B8gOg78jiHg3FvBb'},\n",
        "        'id': '1D4PL9B8gOg78jiHg3FvBb',\n",
        "        'name': 'Love Story',\n",
        "        'popularity': 74,\n",
        "        'preview_url': None,\n",
        "        'track_number': 6,\n",
        "        'type': 'track',\n",
        "        'uri': 'spotify:track:1D4PL9B8gOg78jiHg3FvBb'\n",
        "    },\n",
        "    {\n",
        "        'album_name': 'Renegade (feat. Taylor Swift)',\n",
        "        'artist_name': 'Big Red Machine',\n",
        "        'disc_number': 1,\n",
        "        'duration_ms': 254466,\n",
        "        'explicit': False,\n",
        "        'external_ids': {'isrc': 'US38Y2141505'},\n",
        "        'external_urls': {'spotify': 'https://open.spotify.com/track/1aU1wpYBSpP0M6IiihY5Ue'},\n",
        "        'id': '1aU1wpYBSpP0M6IiihY5Ue',\n",
        "        'name': 'Renegade (feat. Taylor Swift)',\n",
        "        'popularity': 72,\n",
        "        'preview_url': 'https://p.scdn.co/mp3-preview/e3b1851865f3ee5f213dfd8d950e344e6b14ec8c?cid=d7df2abc82674544a78cb3f39fd7d585',\n",
        "        'track_number': 1,\n",
        "        'type': 'track',\n",
        "        'uri': 'spotify:track:1aU1wpYBSpP0M6IiihY5Ue'\n",
        "    },\n",
        "    {\n",
        "        'album_name': 'Back to School 2021',\n",
        "        'artist_name': 'Taylor Swift',\n",
        "        'disc_number': 1,\n",
        "        'duration_ms': 235766,\n",
        "        'explicit': False,\n",
        "        'external_ids': {'isrc': 'USUG12100342'},\n",
        "        'external_urls': {'spotify': 'https://open.spotify.com/track/2HbOu4weHYlchWzQ2DTOSU'},\n",
        "        'id': '2HbOu4weHYlchWzQ2DTOSU',\n",
        "        'name': 'Love Story (Taylor’s Version)',\n",
        "        'popularity': 0,\n",
        "        'preview_url': None,\n",
        "        'track_number': 24,\n",
        "        'type': 'track',\n",
        "        'uri': 'spotify:track:2HbOu4weHYlchWzQ2DTOSU'\n",
        "    },\n",
        "    {\n",
        "        'album_name': 'Red (Big Machine Radio Release Special)',\n",
        "        'artist_name': 'Taylor Swift',\n",
        "        'disc_number': 1,\n",
        "        'duration_ms': 219720,\n",
        "        'explicit': False,\n",
        "        'external_ids': {'isrc': 'USCJY1231039'},\n",
        "        'external_urls': {'spotify': 'https://open.spotify.com/track/6FB3v4YcR57y4tXFcdxI1E'},\n",
        "        'id': '6FB3v4YcR57y4tXFcdxI1E',\n",
        "        'name': 'I Knew You Were Trouble.',\n",
        "        'popularity': 78,\n",
        "        'preview_url': None,\n",
        "        'track_number': 8,\n",
        "        'type': 'track',\n",
        "        'uri': 'spotify:track:6FB3v4YcR57y4tXFcdxI1E'\n",
        "    },\n",
        "    {\n",
        "        'album_name': 'Anthem Lights Covers Part II',\n",
        "        'artist_name': 'Anthem Lights',\n",
        "        'disc_number': 1,\n",
        "        'duration_ms': 279331,\n",
        "        'explicit': False,\n",
        "        'external_ids': {'isrc': 'TCABR1323521'},\n",
        "        'external_urls': {'spotify': 'https://open.spotify.com/track/1SSj8VnmFs7jDDGUddEOoY'},\n",
        "        'id': '1SSj8VnmFs7jDDGUddEOoY',\n",
        "        'name': 'Taylor Swift Mash-Up',\n",
        "        'popularity': 47,\n",
        "        'preview_url': 'https://p.scdn.co/mp3-preview/be6c87401b204fe3108907311af75d25b7ea4666?cid=d7df2abc82674544a78cb3f39fd7d585',\n",
        "        'track_number': 7,\n",
        "        'type': 'track',\n",
        "        'uri': 'spotify:track:1SSj8VnmFs7jDDGUddEOoY'\n",
        "    },\n",
        "    {\n",
        "        'album_name': '1989',\n",
        "        'artist_name': 'Taylor Swift',\n",
        "        'disc_number': 1,\n",
        "        'duration_ms': 220440,\n",
        "        'explicit': False,\n",
        "        'external_ids': {'isrc': 'USCJY1431379'},\n",
        "        'external_urls': {'spotify': 'https://open.spotify.com/track/59HjlYCeBsxdI0fcm3zglw'},\n",
        "        'id': '59HjlYCeBsxdI0fcm3zglw',\n",
        "        'name': 'Wildest Dreams',\n",
        "        'popularity': 74,\n",
        "        'preview_url': None,\n",
        "        'track_number': 9,\n",
        "        'type': 'track',\n",
        "        'uri': 'spotify:track:59HjlYCeBsxdI0fcm3zglw'\n",
        "    },\n",
        "    {\n",
        "        'album_name': 'Hope: Songs Of Love & Strength',\n",
        "        'artist_name': 'Taylor Swift',\n",
        "        'disc_number': 1,\n",
        "        'duration_ms': 219200,\n",
        "        'explicit': False,\n",
        "        'external_ids': {'isrc': 'USCJY1431349'},\n",
        "        'external_urls': {'spotify': 'https://open.spotify.com/track/2JH2oziHRcxEFUHgfZNm2S'},\n",
        "        'id': '2JH2oziHRcxEFUHgfZNm2S',\n",
        "        'name': 'Shake It Off',\n",
        "        'popularity': 14,\n",
        "        'preview_url': None,\n",
        "        'track_number': 7,\n",
        "        'type': 'track',\n",
        "        'uri': 'spotify:track:2JH2oziHRcxEFUHgfZNm2S'\n",
        "    },\n",
        "    {\n",
        "        'album_name': 'Taylor Swift 1989 Medley',\n",
        "        'artist_name': 'Gardiner Sisters',\n",
        "        'disc_number': 1,\n",
        "        'duration_ms': 179880,\n",
        "        'explicit': False,\n",
        "        'external_ids': {'isrc': 'USE830967394'},\n",
        "        'external_urls': {'spotify': 'https://open.spotify.com/track/6IOkSh1Kn5nv4QiotxLnYn'},\n",
        "        'id': '6IOkSh1Kn5nv4QiotxLnYn',\n",
        "        'name': 'Taylor Swift 1989 Medley',\n",
        "        'popularity': 50,\n",
        "        'preview_url': 'https://p.scdn.co/mp3-preview/c7b603f4bcf4d25ded5864a1e5529d5412ee911a?cid=d7df2abc82674544a78cb3f39fd7d585',\n",
        "        'track_number': 1,\n",
        "        'type': 'track',\n",
        "        'uri': 'spotify:track:6IOkSh1Kn5nv4QiotxLnYn'\n",
        "    },\n",
        "    {\n",
        "        'album_name': '1989',\n",
        "        'artist_name': 'Taylor Swift',\n",
        "        'disc_number': 1,\n",
        "        'duration_ms': 231826,\n",
        "        'explicit': False,\n",
        "        'external_ids': {'isrc': 'USCJY1431309'},\n",
        "        'external_urls': {'spotify': 'https://open.spotify.com/track/1p80LdxRV74UKvL8gnD7ky'},\n",
        "        'id': '1p80LdxRV74UKvL8gnD7ky',\n",
        "        'name': 'Blank Space',\n",
        "        'popularity': 73,\n",
        "        'preview_url': None,\n",
        "        'track_number': 2,\n",
        "        'type': 'track',\n",
        "        'uri': 'spotify:track:1p80LdxRV74UKvL8gnD7ky'\n",
        "    },\n",
        "    {\n",
        "        'album_name': 'Red (Big Machine Radio Release Special)',\n",
        "        'artist_name': 'Taylor Swift',\n",
        "        'disc_number': 1,\n",
        "        'duration_ms': 193146,\n",
        "        'explicit': False,\n",
        "        'external_ids': {'isrc': 'USCJY1231018'},\n",
        "        'external_urls': {'spotify': 'https://open.spotify.com/track/0VwNdo84DaVYLIkbVO86ND'},\n",
        "        'id': '0VwNdo84DaVYLIkbVO86ND',\n",
        "        'name': 'We Are Never Ever Getting Back Together',\n",
        "        'popularity': 77,\n",
        "        'preview_url': None,\n",
        "        'track_number': 16,\n",
        "        'type': 'track',\n",
        "        'uri': 'spotify:track:0VwNdo84DaVYLIkbVO86ND'\n",
        "    },\n",
        "    {\n",
        "        'album_name': 'Unsigned',\n",
        "        'artist_name': 'Cal Scruby',\n",
        "        'disc_number': 1,\n",
        "        'duration_ms': 146590,\n",
        "        'explicit': True,\n",
        "        'external_ids': {'isrc': 'QZES91931435'},\n",
        "        'external_urls': {'spotify': 'https://open.spotify.com/track/551TAZe8RjPgXKRMdu1ll4'},\n",
        "        'id': '551TAZe8RjPgXKRMdu1ll4',\n",
        "        'name': 'Taylor Swift',\n",
        "        'popularity': 32,\n",
        "        'preview_url': 'https://p.scdn.co/mp3-preview/6d47706ee2bae2e92898752302ad830bb252e058?cid=d7df2abc82674544a78cb3f39fd7d585',\n",
        "        'track_number': 12,\n",
        "        'type': 'track',\n",
        "        'uri': 'spotify:track:551TAZe8RjPgXKRMdu1ll4'\n",
        "    },\n",
        "    {\n",
        "        'album_name': 'folklore',\n",
        "        'artist_name': 'Taylor Swift',\n",
        "        'disc_number': 1,\n",
        "        'duration_ms': 261922,\n",
        "        'explicit': False,\n",
        "        'external_ids': {'isrc': 'USUG12002842'},\n",
        "        'external_urls': {'spotify': 'https://open.spotify.com/track/3hUxzQpSfdDqwM3ZTFQY0K'},\n",
        "        'id': '3hUxzQpSfdDqwM3ZTFQY0K',\n",
        "        'name': 'august',\n",
        "        'popularity': 80,\n",
        "        'preview_url': None,\n",
        "        'track_number': 8,\n",
        "        'type': 'track',\n",
        "        'uri': 'spotify:track:3hUxzQpSfdDqwM3ZTFQY0K'\n",
        "    },\n",
        "    {\n",
        "        'album_name': 'Lover',\n",
        "        'artist_name': 'Taylor Swift',\n",
        "        'disc_number': 1,\n",
        "        'duration_ms': 171360,\n",
        "        'explicit': False,\n",
        "        'external_ids': {'isrc': 'USUG11901470'},\n",
        "        'external_urls': {'spotify': 'https://open.spotify.com/track/6RRNNciQGZEXnqk8SQ9yv5'},\n",
        "        'id': '6RRNNciQGZEXnqk8SQ9yv5',\n",
        "        'name': 'You Need To Calm Down',\n",
        "        'popularity': 78,\n",
        "        'preview_url': None,\n",
        "        'track_number': 14,\n",
        "        'type': 'track',\n",
        "        'uri': 'spotify:track:6RRNNciQGZEXnqk8SQ9yv5'\n",
        "    },\n",
        "    {\n",
        "        'album_name': \"How Long Do You Think It's Gonna Last?\",\n",
        "        'artist_name': 'Big Red Machine',\n",
        "        'disc_number': 1,\n",
        "        'duration_ms': 330066,\n",
        "        'explicit': True,\n",
        "        'external_ids': {'isrc': 'US38Y2141504'},\n",
        "        'external_urls': {'spotify': 'https://open.spotify.com/track/7wo2UNeQBowm28hfAJsEMz'},\n",
        "        'id': '7wo2UNeQBowm28hfAJsEMz',\n",
        "        'name': 'Birch (feat. Taylor Swift)',\n",
        "        'popularity': 62,\n",
        "        'preview_url': 'https://p.scdn.co/mp3-preview/d0d26217d6ddc51b8d96def65bfd0614c07a5b22?cid=d7df2abc82674544a78cb3f39fd7d585',\n",
        "        'track_number': 4,\n",
        "        'type': 'track',\n",
        "        'uri': 'spotify:track:7wo2UNeQBowm28hfAJsEMz'\n",
        "    },\n",
        "    {\n",
        "        'album_name': 'Autumn Chill',\n",
        "        'artist_name': 'Taylor Swift',\n",
        "        'disc_number': 1,\n",
        "        'duration_ms': 239560,\n",
        "        'explicit': False,\n",
        "        'external_ids': {'isrc': 'USUG12002836'},\n",
        "        'external_urls': {'spotify': 'https://open.spotify.com/track/6nO1lENRKpAUnWD0ZvqxBP'},\n",
        "        'id': '6nO1lENRKpAUnWD0ZvqxBP',\n",
        "        'name': 'cardigan',\n",
        "        'popularity': 0,\n",
        "        'preview_url': None,\n",
        "        'track_number': 17,\n",
        "        'type': 'track',\n",
        "        'uri': 'spotify:track:6nO1lENRKpAUnWD0ZvqxBP'\n",
        "    },\n",
        "    {\n",
        "        'album_name': 'Love Drunk',\n",
        "        'artist_name': 'Boys Like Girls',\n",
        "        'disc_number': 1,\n",
        "        'duration_ms': 242840,\n",
        "        'explicit': False,\n",
        "        'external_ids': {'isrc': 'USSM10904174'},\n",
        "        'external_urls': {'spotify': 'https://open.spotify.com/track/1MaqkdFNIKPdpQGDzme5ss'},\n",
        "        'id': '1MaqkdFNIKPdpQGDzme5ss',\n",
        "        'name': 'Two Is Better Than One (feat. Taylor Swift)',\n",
        "        'popularity': 65,\n",
        "        'preview_url': 'https://p.scdn.co/mp3-preview/59cef672f643870e7a4b68a291939670fc9be6d1?cid=d7df2abc82674544a78cb3f39fd7d585',\n",
        "        'track_number': 4,\n",
        "        'type': 'track',\n",
        "        'uri': 'spotify:track:1MaqkdFNIKPdpQGDzme5ss'\n",
        "    },\n",
        "    {\n",
        "        'album_name': 'Autumn Chill',\n",
        "        'artist_name': 'Taylor Swift',\n",
        "        'disc_number': 1,\n",
        "        'duration_ms': 221306,\n",
        "        'explicit': False,\n",
        "        'external_ids': {'isrc': 'USUG11901473'},\n",
        "        'external_urls': {'spotify': 'https://open.spotify.com/track/16XqoiOcPBgPFOQrdrqPeG'},\n",
        "        'id': '16XqoiOcPBgPFOQrdrqPeG',\n",
        "        'name': 'Lover',\n",
        "        'popularity': 0,\n",
        "        'preview_url': None,\n",
        "        'track_number': 5,\n",
        "        'type': 'track',\n",
        "        'uri': 'spotify:track:16XqoiOcPBgPFOQrdrqPeG'\n",
        "    },\n",
        "    {\n",
        "        'album_name': 'Women In Music Pt. III',\n",
        "        'artist_name': 'HAIM',\n",
        "        'disc_number': 1,\n",
        "        'duration_ms': 193373,\n",
        "        'explicit': False,\n",
        "        'external_ids': {'isrc': 'GBUM72006758'},\n",
        "        'external_urls': {'spotify': 'https://open.spotify.com/track/645Exr2lJIO45Guht3qyIa'},\n",
        "        'id': '645Exr2lJIO45Guht3qyIa',\n",
        "        'name': 'Gasoline (feat. Taylor Swift)',\n",
        "        'popularity': 55,\n",
        "        'preview_url': 'https://p.scdn.co/mp3-preview/2bf9140a9e0db7ad1c764d072bbb1ebb27c31489?cid=d7df2abc82674544a78cb3f39fd7d585',\n",
        "        'track_number': 14,\n",
        "        'type': 'track',\n",
        "        'uri': 'spotify:track:645Exr2lJIO45Guht3qyIa'\n",
        "    },\n",
        "    {\n",
        "        'album_name': \"I'm Ok Now\",\n",
        "        'artist_name': 'Taylor Swift',\n",
        "        'disc_number': 1,\n",
        "        'duration_ms': 239560,\n",
        "        'explicit': False,\n",
        "        'external_ids': {'isrc': 'USUG12002836'},\n",
        "        'external_urls': {'spotify': 'https://open.spotify.com/track/79TvZUrMcuSLnzFQXTfUEZ'},\n",
        "        'id': '79TvZUrMcuSLnzFQXTfUEZ',\n",
        "        'name': 'cardigan',\n",
        "        'popularity': 0,\n",
        "        'preview_url': None,\n",
        "        'track_number': 4,\n",
        "        'type': 'track',\n",
        "        'uri': 'spotify:track:79TvZUrMcuSLnzFQXTfUEZ'\n",
        "    }\n",
        "]\n",
        "\n"
      ],
      "execution_count": null,
      "outputs": []
    },
    {
      "cell_type": "code",
      "metadata": {
        "id": "MCaUtr-QjxDB",
        "colab": {
          "base_uri": "https://localhost:8080/"
        },
        "outputId": "f74ff323-6977-4291-fded-5ba145291446"
      },
      "source": [
        "\n",
        "print(\"------------------\")\n",
        "print(\"PROCESSING TRACKS DATA...\")\n",
        "print(\"------------------\")\n",
        "\n",
        "# todo: write Python code to answer the questions...\n",
        "\n"
      ],
      "execution_count": null,
      "outputs": [
        {
          "output_type": "stream",
          "name": "stdout",
          "text": [
            "------------------\n",
            "PROCESSING TRACKS DATA...\n",
            "------------------\n"
          ]
        }
      ]
    },
    {
      "cell_type": "code",
      "metadata": {
        "id": "fRohvpLGluL3"
      },
      "source": [],
      "execution_count": null,
      "outputs": []
    },
    {
      "cell_type": "code",
      "metadata": {
        "id": "eEm4ZV3UCfLd"
      },
      "source": [],
      "execution_count": null,
      "outputs": []
    },
    {
      "cell_type": "code",
      "metadata": {
        "id": "mggJoCHUCfEA"
      },
      "source": [],
      "execution_count": null,
      "outputs": []
    },
    {
      "cell_type": "code",
      "source": [],
      "metadata": {
        "id": "zNhf77n0oAQT"
      },
      "execution_count": null,
      "outputs": []
    }
  ]
}