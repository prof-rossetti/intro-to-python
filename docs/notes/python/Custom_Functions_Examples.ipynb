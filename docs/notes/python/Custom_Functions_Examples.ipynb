{
  "nbformat": 4,
  "nbformat_minor": 0,
  "metadata": {
    "colab": {
      "provenance": [],
      "toc_visible": true,
      "authorship_tag": "ABX9TyM4p/rIBMBdGcBTVGjv6eWO",
      "include_colab_link": true
    },
    "kernelspec": {
      "name": "python3",
      "display_name": "Python 3"
    }
  },
  "cells": [
    {
      "cell_type": "markdown",
      "metadata": {
        "id": "view-in-github",
        "colab_type": "text"
      },
      "source": [
        "<a href=\"https://colab.research.google.com/github/prof-rossetti/intro-to-python/blob/main/notes/python/Custom_Functions_Examples.ipynb\" target=\"_parent\"><img src=\"https://colab.research.google.com/assets/colab-badge.svg\" alt=\"Open In Colab\"/></a>"
      ]
    },
    {
      "cell_type": "markdown",
      "metadata": {
        "id": "S2WNuBjne_qG"
      },
      "source": [
        "\n",
        "## Instructions\n",
        "\n",
        "\n"
      ]
    },
    {
      "cell_type": "markdown",
      "metadata": {
        "id": "9VcdzHLiOrCt"
      },
      "source": [
        "\n",
        "\n",
        "\n",
        "\n",
        "\n",
        "\n",
        "1. **Make a copy of this notebook** so you can edit and save your own version of it. Do the work in your copy of the notebook. \n",
        "2. **Update the title of your notebook** to include your name and/or net id.\n",
        "\n",
        "3. **Write Python code** in the \"Solution\" section to meet the requirements set forth in the \"Requirements\" section. \n",
        "\n",
        "\n"
      ]
    },
    {
      "cell_type": "markdown",
      "metadata": {
        "id": "m4OgF-WX0Fxo"
      },
      "source": [
        "## References\n",
        "\n",
        "\n"
      ]
    },
    {
      "cell_type": "markdown",
      "metadata": {
        "id": "aedRcX8SYIqi"
      },
      "source": [
        "\n",
        "These official Python docs should help provide more context:\n",
        "\n",
        "  + https://docs.python.org/3/tutorial/controlflow.html#defining-functions\n",
        "  + https://docs.python.org/3/tutorial/controlflow.html#default-argument-values\n",
        "  + https://docs.python.org/3/tutorial/controlflow.html#keyword-arguments\n",
        "  + https://www.w3schools.com/python/python_functions.asp\n",
        "\n",
        "Optionally see also:\n",
        "\n",
        "  + https://github.com/prof-rossetti/intro-to-python/blob/main/notes/python/functions.md\n",
        "  + https://github.com/prof-rossetti/intro-to-python/blob/main/notes/python/docstrings.md"
      ]
    },
    {
      "cell_type": "markdown",
      "source": [
        "## Function Examples"
      ],
      "metadata": {
        "id": "1pRapJwfNN7h"
      }
    },
    {
      "cell_type": "markdown",
      "metadata": {
        "id": "YHt4V6UxY0NF"
      },
      "source": [
        "The following functions do the same thing but are defined in different ways\n",
        "\n",
        "  1. the first one is as simple as possible\n",
        "  1. the second uses a default parameter value\n",
        "  1. the third implements a docstring\n",
        "  1. the fourth implements type hints\n",
        "\n"
      ]
    },
    {
      "cell_type": "markdown",
      "source": [
        "## Example 1 (Basic)"
      ],
      "metadata": {
        "id": "vEaWQJ-kGpV7"
      }
    },
    {
      "cell_type": "code",
      "metadata": {
        "id": "OOEGfT5LYLn6",
        "colab": {
          "base_uri": "https://localhost:8080/",
          "height": 292
        },
        "outputId": "faa7a5f8-d635-419e-a258-9da5888d87c6"
      },
      "source": [
        "\n",
        "# FUNCTION DEFINITION\n",
        "\n",
        "def enlarge(n):\n",
        "    return n * 100\n",
        "\n",
        "\n",
        "# FUNCTION INVOCATIONS\n",
        "\n",
        "#print(enlarge()) #> TypeError: enlarge() missing 1 required positional argument: 'n'\n",
        "print(enlarge(9))\n",
        "print(enlarge(3))\n",
        "\n",
        "x = 10\n",
        "print(enlarge(x))\n",
        "\n",
        "\n",
        "# TESTING WHETHER THE FUNCTION WORKS AS DESIRED :-D\n",
        "assert enlarge(9) == 900"
      ],
      "execution_count": null,
      "outputs": [
        {
          "output_type": "error",
          "ename": "TypeError",
          "evalue": "ignored",
          "traceback": [
            "\u001b[0;31m---------------------------------------------------------------------------\u001b[0m",
            "\u001b[0;31mTypeError\u001b[0m                                 Traceback (most recent call last)",
            "\u001b[0;32m<ipython-input-2-523af521e11a>\u001b[0m in \u001b[0;36m<module>\u001b[0;34m\u001b[0m\n\u001b[1;32m      7\u001b[0m \u001b[0;31m# FUNCTION INVOCATIONS\u001b[0m\u001b[0;34m\u001b[0m\u001b[0;34m\u001b[0m\u001b[0;34m\u001b[0m\u001b[0m\n\u001b[1;32m      8\u001b[0m \u001b[0;34m\u001b[0m\u001b[0m\n\u001b[0;32m----> 9\u001b[0;31m \u001b[0mprint\u001b[0m\u001b[0;34m(\u001b[0m\u001b[0menlarge\u001b[0m\u001b[0;34m(\u001b[0m\u001b[0;34m)\u001b[0m\u001b[0;34m)\u001b[0m \u001b[0;31m#> TypeError: enlarge() missing 1 required positional argument: 'n'\u001b[0m\u001b[0;34m\u001b[0m\u001b[0;34m\u001b[0m\u001b[0m\n\u001b[0m\u001b[1;32m     10\u001b[0m \u001b[0mprint\u001b[0m\u001b[0;34m(\u001b[0m\u001b[0menlarge\u001b[0m\u001b[0;34m(\u001b[0m\u001b[0;36m9\u001b[0m\u001b[0;34m)\u001b[0m\u001b[0;34m)\u001b[0m\u001b[0;34m\u001b[0m\u001b[0;34m\u001b[0m\u001b[0m\n\u001b[1;32m     11\u001b[0m \u001b[0mprint\u001b[0m\u001b[0;34m(\u001b[0m\u001b[0menlarge\u001b[0m\u001b[0;34m(\u001b[0m\u001b[0;36m3\u001b[0m\u001b[0;34m)\u001b[0m\u001b[0;34m)\u001b[0m\u001b[0;34m\u001b[0m\u001b[0;34m\u001b[0m\u001b[0m\n",
            "\u001b[0;31mTypeError\u001b[0m: enlarge() missing 1 required positional argument: 'n'"
          ]
        }
      ]
    },
    {
      "cell_type": "code",
      "source": [
        "# enlarge(5, 5, 6)"
      ],
      "metadata": {
        "id": "ns2VnOa70GfQ"
      },
      "execution_count": null,
      "outputs": []
    },
    {
      "cell_type": "markdown",
      "source": [
        "## Example 2 (with Default Value)"
      ],
      "metadata": {
        "id": "XJk6UtazGs1q"
      }
    },
    {
      "cell_type": "code",
      "metadata": {
        "colab": {
          "base_uri": "https://localhost:8080/"
        },
        "id": "nScl_u0QZDIl",
        "outputId": "ea0756a5-dda2-40d8-bd6e-c7d017976e1c"
      },
      "source": [
        "# FUNCTION DEFINITION (ALTERNATE)\n",
        "\n",
        "def enlarge(n=3):\n",
        "    return n * 100\n",
        "\n",
        "\n",
        "# FUNCTION INVOCATIONS\n",
        "\n",
        "print(enlarge()) #> NOW THIS WORKS\n",
        "print(enlarge(9))\n",
        "print(enlarge(3))\n",
        "\n",
        "x = 10\n",
        "print(enlarge(x))\n",
        "\n",
        "\n",
        "# TESTING WHETHER THE FUNCTION WORKS AS DESIRED :-D\n",
        "assert enlarge(9) == 900"
      ],
      "execution_count": null,
      "outputs": [
        {
          "output_type": "stream",
          "name": "stdout",
          "text": [
            "300\n",
            "900\n",
            "300\n",
            "1000\n"
          ]
        }
      ]
    },
    {
      "cell_type": "code",
      "source": [
        "enlarge()"
      ],
      "metadata": {
        "id": "4KwdvZNF0jN1"
      },
      "execution_count": null,
      "outputs": []
    },
    {
      "cell_type": "markdown",
      "source": [
        "## Example 3 (with Docstring)"
      ],
      "metadata": {
        "id": "WBld3LgEIG2-"
      }
    },
    {
      "cell_type": "markdown",
      "source": [
        "Make your own docs!"
      ],
      "metadata": {
        "id": "HMAjZ8C7IJkV"
      }
    },
    {
      "cell_type": "code",
      "source": [
        "\n",
        "# FUNCTION DEFINITION \n",
        "\n",
        "def enlarge(n):\n",
        "    \"\"\"\n",
        "        Enlarges a given number, returns the number multiplied by 100.\n",
        "\n",
        "        Params: \n",
        "            n (numeric i.e. float or int) : a number like 9 or 9.0\n",
        "\n",
        "        Example: \n",
        "            enlarge(9)\n",
        "\n",
        "        Returns: (float) like 900.0\n",
        "    \"\"\"\n",
        "    return n * 100.0\n",
        "\n",
        "# ..."
      ],
      "metadata": {
        "id": "W3EimtGOGzla"
      },
      "execution_count": null,
      "outputs": []
    },
    {
      "cell_type": "code",
      "source": [
        "enlarge()"
      ],
      "metadata": {
        "id": "va0M-DST0_nr"
      },
      "execution_count": null,
      "outputs": []
    },
    {
      "cell_type": "code",
      "source": [
        "\n",
        "# FUNCTION INVOCATIONS\n",
        "\n",
        "#print(enlarge())\n",
        "print(enlarge(9))\n",
        "print(enlarge(3))\n",
        "\n",
        "x = 10\n",
        "print(enlarge(x))\n",
        "\n",
        "# TESTING WHETHER THE FUNCTION WORKS AS DESIRED :-D\n",
        "assert enlarge(9) == 900"
      ],
      "metadata": {
        "colab": {
          "base_uri": "https://localhost:8080/"
        },
        "id": "Y7xbTdI3Hgh9",
        "outputId": "8f72cc77-83b8-4aa3-caec-c7b73240c06c"
      },
      "execution_count": null,
      "outputs": [
        {
          "output_type": "stream",
          "name": "stdout",
          "text": [
            "900.0\n",
            "300.0\n",
            "1000.0\n"
          ]
        }
      ]
    },
    {
      "cell_type": "markdown",
      "source": [
        "## Example 4 (with Type Hints)"
      ],
      "metadata": {
        "id": "eufQv2Z8IMQi"
      }
    },
    {
      "cell_type": "markdown",
      "source": [
        "\n",
        "https://docs.python.org/3/library/typing.html\n",
        "\n",
        "if you are coming from a static typed language, and/or if you like this kind of thing... we can specify:\n",
        "  +  which datatypes are expected (using `:` after each parameter name), and \n",
        "  + which datatype will be returned (using `->`)\n",
        "\n",
        "> NOTE: these are ultimately just type \"hints\" "
      ],
      "metadata": {
        "id": "fLIWTYBMKvdL"
      }
    },
    {
      "cell_type": "code",
      "source": [
        "\n",
        "# FUNCTION DEFINITION \n",
        "\n",
        "def enlarge(n:float) -> float:\n",
        "    \"\"\"\n",
        "        Enlarges a given number, returns the number multiplied by 100.\n",
        "\n",
        "        Params: \n",
        "            n (numeric i.e. float or int) : a number like 9 or 9.0\n",
        "\n",
        "        Example: \n",
        "            enlarge(9)\n",
        "\n",
        "        Returns: (float) like 900.0\n",
        "    \"\"\"\n",
        "    return n * 100.0\n",
        "\n",
        "\n",
        "\n",
        "# ..."
      ],
      "metadata": {
        "id": "qZSqPyedFvx2"
      },
      "execution_count": null,
      "outputs": []
    },
    {
      "cell_type": "code",
      "source": [
        "\n",
        "# FUNCTION INVOCATIONS\n",
        "\n",
        "# print(enlarge()) \n",
        "print(enlarge(9))\n",
        "print(enlarge(3))\n",
        "\n",
        "x = 10\n",
        "print(enlarge(x))\n",
        "\n",
        "# TESTING WHETHER THE FUNCTION WORKS AS DESIRED :-D\n",
        "assert enlarge(9) == 900"
      ],
      "metadata": {
        "id": "E9NbOY7tFvvD",
        "colab": {
          "base_uri": "https://localhost:8080/"
        },
        "outputId": "4ee85772-7bec-4791-b060-fd05de8923ad"
      },
      "execution_count": null,
      "outputs": [
        {
          "output_type": "stream",
          "name": "stdout",
          "text": [
            "900.0\n",
            "300.0\n",
            "1000.0\n"
          ]
        }
      ]
    }
  ]
}