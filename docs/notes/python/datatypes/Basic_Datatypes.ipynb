{
  "nbformat": 4,
  "nbformat_minor": 0,
  "metadata": {
    "colab": {
      "name": "Basic Datatypes",
      "provenance": [],
      "authorship_tag": "ABX9TyNZaaEFkpXnDlWT22Wqijmm",
      "include_colab_link": true
    },
    "kernelspec": {
      "name": "python3",
      "display_name": "Python 3"
    }
  },
  "cells": [
    {
      "cell_type": "markdown",
      "metadata": {
        "id": "view-in-github",
        "colab_type": "text"
      },
      "source": [
        "<a href=\"https://colab.research.google.com/github/prof-rossetti/intro-to-python/blob/master/notes/python/datatypes/Basic_Datatypes.ipynb\" target=\"_parent\"><img src=\"https://colab.research.google.com/assets/colab-badge.svg\" alt=\"Open In Colab\"/></a>"
      ]
    },
    {
      "cell_type": "markdown",
      "metadata": {
        "id": "GOmawrysHpsc"
      },
      "source": [
        "# Datatypes\n"
      ]
    },
    {
      "cell_type": "markdown",
      "metadata": {
        "id": "aBil6V8LGh_b"
      },
      "source": [
        "\n",
        "\n",
        "Common Python datatypes include:\n",
        "\n",
        "  + None\n",
        "  + Booleans\n",
        "  + Strings\n",
        "  + Numbers\n",
        "  + Dates and Times\n",
        "  + Tuples, Lists, and Sets\n",
        "  + Dictionaries\n",
        "\n",
        "## Datatype Detection\n",
        "\n",
        "Use the `type()` function to detect the datatype of any object:\n",
        "\n",
        "```python\n",
        "type(\"Hello\") #> <type 'str'>\n",
        "type(\"100\") #> <type 'str'>\n",
        "type(100) #> <type 'int'>\n",
        "type(0.45) #> <type 'float'>\n",
        "type(True) #> <type 'bool'>\n",
        "type(False) #> <type 'bool'>\n",
        "type(None) #> <type 'NoneType'>\n",
        "type({\"a\":1, \"b\":2, \"c\":3}) #> <type 'dict'>\n",
        "type([1,2,3]) #> <type 'list'>\n",
        "```\n",
        "\n",
        "Alternatively call `.__class__.__name__` on any object to detect its class name:\n",
        "\n",
        "```py\n",
        "\"Hello\".__class__.__name__ #> 'str'\n",
        "\n",
        "{\"a\": 1, \"b\": 2, \"c\": 3}.__class__.__name__ #> 'dict'\n",
        "\n",
        "[1, 2, 3].__class__.__name__ #> 'list'\n",
        "```\n",
        "\n",
        "Use the `isinstance` function when comparing datatypes:\n",
        "\n",
        "```python\n",
        "isinstance(\"Hello\", str) #> True\n",
        "isinstance([1,2,3], list) #> True\n",
        "isinstance([1,2,3], str) #> False\n",
        "```\n",
        "\n",
        "## Datatype Conversion\n",
        "\n",
        "Here are a few examples of how to convert between datatypes:\n",
        "\n",
        "```python\n",
        "# converting to numbers:\n",
        "\n",
        "int(\"500\") #> 500\n",
        "\n",
        "float(\"0.45\") #> 0.45\n",
        "\n",
        "# converting to strings:\n",
        "\n",
        "str(100) #> \"100\"\n",
        "\n",
        "str(0.45) #> \"0.45\"\n",
        "\n",
        "# converting to lists:\n",
        "\n",
        "list(\"Hello World\") #> ['H', 'e', 'l', 'l', 'o', ' ', 'W', 'o', 'r', 'l', 'd']\n",
        "\n",
        "list({\"color\": \"blue\", \"size\": \"small\"}) #> ['color', 'size']\n",
        "```\n"
      ]
    },
    {
      "cell_type": "code",
      "metadata": {
        "colab": {
          "base_uri": "https://localhost:8080/"
        },
        "id": "fItj4iwbyq4S",
        "outputId": "8ffd69f6-d960-4c13-a479-14243e7b08ac"
      },
      "source": [
        "#\n",
        "# EXPLORATION CELL (DATATYPE DETECTION)\n",
        "#\n",
        "\n",
        "print(type(\"Hello\"))\n",
        "\n"
      ],
      "execution_count": 16,
      "outputs": [
        {
          "output_type": "stream",
          "text": [
            "<class 'str'>\n"
          ],
          "name": "stdout"
        }
      ]
    },
    {
      "cell_type": "markdown",
      "metadata": {
        "id": "V_dbM7CzIMTw"
      },
      "source": [
        "# Null Values\n"
      ]
    },
    {
      "cell_type": "markdown",
      "metadata": {
        "id": "m3aLDCoRGiMC"
      },
      "source": [
        "\n",
        "Reference: https://docs.python.org/3/library/constants.html#None.\n",
        "\n",
        "In Python, `None` represents \"the absence of a value\" and is \"the sole value of the type `NoneType`\".\n",
        "\n",
        "`None` corresponds to a \"falsey\" value, and will fail a truth test:\n",
        "\n",
        "```python\n",
        "if None:\n",
        "    print(\"YEP\")\n",
        "else:\n",
        "    print(\"NOPE\")\n",
        "\n",
        "#> \"NOPE\"\n",
        "```"
      ]
    },
    {
      "cell_type": "code",
      "metadata": {
        "id": "Bfk7pX5_yvt6"
      },
      "source": [
        "#\n",
        "# EXPLORATION CELL (NULLS)\n",
        "#\n",
        "\n",
        "\n",
        "\n"
      ],
      "execution_count": 17,
      "outputs": []
    },
    {
      "cell_type": "markdown",
      "metadata": {
        "id": "Xq2agnVrJo5R"
      },
      "source": [
        "# Booleans\n"
      ]
    },
    {
      "cell_type": "markdown",
      "metadata": {
        "id": "mVKZvQ1uI202"
      },
      "source": [
        "\n",
        "## Boolean Values\n",
        "\n",
        "Reference: https://docs.python.org/3/library/stdtypes.html#boolean-values.\n",
        "\n",
        "In Python, `True` and `False` are reserved words which indicate boolean values.\n",
        "\n",
        "```python\n",
        "True #> True\n",
        "False #> False\n",
        "```\n",
        "\n",
        "## Boolean Operations\n",
        "\n",
        "Reference:\n",
        "\n",
        "  + https://docs.python.org/3/library/stdtypes.html#truth-value-testing\n",
        "  + https://docs.python.org/3/library/stdtypes.html#boolean-operations-and-or-not\n",
        "  + https://docs.python.org/3/library/stdtypes.html#comparisons\n",
        "\n",
        "It is common to evaluate the combination of multiple boolean conditions. The keywords `and` and `or` are reserved for this purpose. The `and` operator will return `True` only if all values are `True`, whereas the `or` operator will return `True` if any of the values are `True`:\n",
        "\n",
        "```python\n",
        "True and True #> True\n",
        "True and False #> False\n",
        "False and True #> False\n",
        "False and False #> False\n",
        "\n",
        "True or True #> True\n",
        "True or False #> True\n",
        "False or True #> True\n",
        "False or False #> False\n",
        "```\n",
        "\n",
        "The most relevant boolean operator is the equality operator, `==`. Its functionality is represented by the phrase, \"Is this equal to that?\":\n",
        "\n",
        "```python\n",
        "True == True #> True\n",
        "True == False #> False\n",
        "False == False #> True\n",
        "```\n",
        "\n",
        "The inverse is the inequality operator, `!=`. Its functionality is represented by the phrase, \"Is this not equal to that?\":\n",
        "\n",
        "```python\n",
        "True != True #> False\n",
        "True != False #> True\n",
        "False != False #> False\n",
        "```"
      ]
    },
    {
      "cell_type": "code",
      "metadata": {
        "id": "DaXh41bwI1XQ"
      },
      "source": [
        "#\n",
        "# EXPLORATION CELL (BOOLEANS)\n",
        "#\n",
        "\n",
        "\n",
        "\n",
        "\n"
      ],
      "execution_count": 18,
      "outputs": []
    },
    {
      "cell_type": "markdown",
      "metadata": {
        "id": "KdLqDK3MIOoy"
      },
      "source": [
        "# Numbers\n"
      ]
    },
    {
      "cell_type": "markdown",
      "metadata": {
        "id": "Ao4VUq9OGiZ9"
      },
      "source": [
        "There are two main numeric datatypes: integers and floats. Integers are whole numbers. Floats are like decimals.\n",
        "\n",
        "Reference: https://docs.python.org/3/library/stdtypes.html#numeric-types-int-float-complex.\n",
        "\n",
        "```python\n",
        "100 #> 100\n",
        "-100 #> -100\n",
        "0.45 #> 0.45\n",
        "```\n",
        "\n",
        "## Numeric Operations\n",
        "\n",
        "Numeric functions include the usual arithmetic operators:\n",
        "\n",
        "```python\n",
        "100 + 5 #> 105\n",
        "100 - 5 #> 95\n",
        "100 * 5 #> 500\n",
        "100 / 5 #> 20\n",
        "100 + 5 * 2 #> 110\n",
        "(100 + 5) * 2 #> 210\n",
        "```\n",
        "\n",
        "Boolean equality operators also apply:\n",
        "\n",
        "```python\n",
        "100 == 100 #> True\n",
        "100 == 100.0 #> True\n",
        "100 == 99 #> False\n",
        "100 == (99 + 1) #> True\n",
        "True == 1 #> True\n",
        "False == 0 #> True\n",
        "```\n",
        "\n",
        "Also reference the built-in `round()` function: https://docs.python.org/3/library/functions.html#round.\n",
        "\n",
        "```python\n",
        "round(4.5) #> 5.0\n",
        "round(4.49) #> 4.0\n",
        "\n",
        "round(4.49, 0) #> 4.0\n",
        "round(4.49, 1) #> 4.5\n",
        "round(4.49, 2) #> 4.49\n",
        "```\n",
        "\n",
        "## Formatting as Currency\n",
        "\n",
        "Use [string formatting](https://docs.python.org/3.4/library/string.html#string-formatting) (or a format string) to control how numbers will display when printed:\n",
        "\n",
        "```python\n",
        "# using the format function:\n",
        "print(\"the price is ${0:.2f}\".format(6.5) #> 'the price is $6.50'\n",
        "print(\"the price is ${0:,.2f}\".format(1234567890.12345678)) #> 'the price is $1,234,567,890.12'\n",
        "\n",
        "# using a format string:\n",
        "price = 6.5\n",
        "print(f\"the price is ${price:,.2f}\") #> 'the price is $6.50'\n",
        "\n",
        "price = 1234567890.12345678\n",
        "print(f\"the price is ${price:,.2f}\") #> 'the price is $1,234,567,890.12'\n",
        "```\n",
        "\n",
        "Feel free to use (copy-paste) this function definition into your projects:\n",
        "\n",
        "```python\n",
        "def to_usd(my_price):\n",
        "    \"\"\"\n",
        "    Converts a numeric value to usd-formatted string, for printing and display purposes.\n",
        "    \n",
        "    Param: my_price (int or float) like 4000.444444\n",
        "        \n",
        "    Returns: $4,000.44\n",
        "    \"\"\"\n",
        "    return f\"${my_price:,.2f}\" #> $12,000.71\n",
        "```\n",
        "\n",
        "## Advanced Operations\n",
        "\n",
        "Also reference the numeric functionality of these built-in Python modules:\n",
        "\n",
        "  + [`math`](https://github.com/prof-rossetti/intro-to-python/blob/master/notes/python/modules/math.md)\n",
        "  + [`random`](https://github.com/prof-rossetti/intro-to-python/blob/master/notes/python/modules/random.md)\n",
        "  + [`statistics`](https://github.com/prof-rossetti/intro-to-python/blob/master/notes/python/modules/statistics.md)"
      ]
    },
    {
      "cell_type": "code",
      "metadata": {
        "id": "O7-bGMVEzS0u"
      },
      "source": [
        "#\n",
        "# EXPLORATION CELL (NUMBERS)\n",
        "#\n",
        "\n",
        "\n",
        "\n",
        "\n",
        "\n",
        "\n"
      ],
      "execution_count": 19,
      "outputs": []
    },
    {
      "cell_type": "markdown",
      "metadata": {
        "id": "UWWJrOCvGirC"
      },
      "source": [
        "# Strings\n"
      ]
    },
    {
      "cell_type": "markdown",
      "metadata": {
        "id": "rQIDWrw-JGe6"
      },
      "source": [
        "\n",
        "Reference: https://docs.python.org/3/library/string.html.\n",
        "\n",
        "Strings represent textual information, including words and alpha-numeric characters.\n",
        "\n",
        "```python\n",
        "\"Hello World\"\n",
        "\"username123\"\n",
        "```\n",
        "\n",
        "Don't be confused if you see multi-line strings:\n",
        "\n",
        "```python\n",
        "str = \"\"\"\n",
        "Some\n",
        "Multi-line\n",
        "String\n",
        "\"\"\"\n",
        "\n",
        "str #> '\\nSome\\nMulti-line\\nString\\n'\n",
        "\n",
        "print(str)\n",
        "#>\n",
        "#> Some\n",
        "#> Multi-line\n",
        "#> String\n",
        "#>\n",
        "```\n"
      ]
    },
    {
      "cell_type": "markdown",
      "metadata": {
        "id": "pflzdrt22CfY"
      },
      "source": [
        "## String Operations\n",
        "\n",
        "Reference: https://docs.python.org/3.3/library/stdtypes.html#string-methods.\n",
        "\n",
        "Example string functions:\n",
        "\n",
        "```python\n",
        "# string concatenation\n",
        "\"Hello\" + \" \" + \"World\" #> \"Hello World\"\n",
        "\n",
        "# string formatting\n",
        "\"{0} {1}\".format(\"Hello\", \"World\") #> \"Hello World\"\n",
        "\"My Message is: {0}\".format(\"Hello World\") #> \"My message is: Hello World\"\n",
        "\n",
        "# string interpolation (note the preceding `f`)\n",
        "greeting = \"Hello\"\n",
        "audience = \"World\"\n",
        "f\"My message is: {greeting} {audience}\" #> \"My message is: Hello World\"\n",
        "\n",
        "# string manipulation\n",
        "\"hello world\".upper() #> \"HELLO WORLD\"\n",
        "\"Hello World\".lower() #> \"hello world\"\n",
        "\"hello world\".title() #> \"Hello World\"\n",
        "\"   Hello World   \".strip() #> \"Hello World\"\n",
        "\"Hello World\".replace(\"Hello\", \"Goodbye\") #> \"Goodbye World\"\n",
        "```\n",
        "\n",
        "Strings also support equality, inclusion, and matching operators:\n",
        "\n",
        "```python\n",
        "\"Hello World\" == \"Hello World\" #> True\n",
        "\"Hello World\" == \"hello world\" #> False\n",
        "\n",
        "\"Hello\" in \"Hello World\" #> True\n",
        "\"hello\" in \"Hello World\" #> False\n",
        "\n",
        "\"Hello World\".count(\"l\") #> 3\n",
        "```\n",
        "\n",
        "Strings are iterable objects comprised of multiple characters. Once you have learned about lists, you can perform additional list-related operations:\n",
        "\n",
        "```python\n",
        "\"Hello World\"[0] #> \"H\"\n",
        "\"Hello World\"[6] #> \"W\"\n",
        "\"Hello World\"[-1] #> \"d\"\n",
        "\"Hello World\"[-3] #> \"r\"\n",
        "\n",
        "for character in \"Hello World\":\n",
        "    print(character)\n",
        "#>\n",
        "#> H\n",
        "#> e\n",
        "#> l\n",
        "#> l\n",
        "#> o\n",
        "#>\n",
        "#> W\n",
        "#> o\n",
        "#> r\n",
        "#> l\n",
        "#> d\n",
        "\n",
        "\"Hello World\".split() #> [\"Hello\", \"World\"]\n",
        "\"My Title - My Subtitle\".split(\" - \") #> ['My Title', 'My Subtitle']\n",
        "\"a, b, c, d\".split(\", \") #> ['a', 'b', 'c', 'd']\n",
        "\n",
        "str = \"\"\"\n",
        "Some\n",
        "Multi-line\n",
        "String\n",
        "\"\"\"\n",
        "str.strip().split(\"\\n\") #> ['Some', 'Multi-line', 'String']\n",
        "```"
      ]
    },
    {
      "cell_type": "code",
      "metadata": {
        "id": "tEp5E0AEzWuH"
      },
      "source": [
        "#\n",
        "# EXPLORATION CELL (STRINGS)\n",
        "#\n",
        "\n",
        "\n",
        "\n"
      ],
      "execution_count": 20,
      "outputs": []
    },
    {
      "cell_type": "markdown",
      "metadata": {
        "id": "dPBSR_uOKFjL"
      },
      "source": [
        "# Dates and Times\n"
      ]
    },
    {
      "cell_type": "markdown",
      "metadata": {
        "id": "qYb35jzlJOgb"
      },
      "source": [
        "\n",
        "Use [the `datetime` module](https://github.com/prof-rossetti/intro-to-python/blob/master/notes/python/modules/datetime.md) to format strings as dates and date-time objects. Date-time objects have hours, minutes, and sections, whereas dates don't."
      ]
    },
    {
      "cell_type": "code",
      "metadata": {
        "colab": {
          "base_uri": "https://localhost:8080/"
        },
        "id": "FlU5f_LJzXrC",
        "outputId": "cee3674f-cb74-4375-d8b6-20cd8bc000b1"
      },
      "source": [
        "\n",
        "#\n",
        "# EXPLORATION CELL (DATES AND TIMES)\n",
        "#\n",
        "\n",
        "from datetime import datetime\n",
        "\n",
        "now = datetime.now()\n",
        "print(now)\n",
        "print(now.strftime(\"%Y-%m-%d\"))\n",
        "print(now.strftime(\"%H:%M:%S\"))\n",
        "print(now.strftime(\"%Y-%m-%d %H:%M:%S\"))\n"
      ],
      "execution_count": 21,
      "outputs": [
        {
          "output_type": "stream",
          "text": [
            "2021-01-29 17:11:51.081690\n",
            "2021-01-29\n",
            "17:11:51\n",
            "2021-01-29 17:11:51\n"
          ],
          "name": "stdout"
        }
      ]
    }
  ]
}