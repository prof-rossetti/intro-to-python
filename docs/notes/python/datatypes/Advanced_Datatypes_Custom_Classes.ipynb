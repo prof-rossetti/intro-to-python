{
  "nbformat": 4,
  "nbformat_minor": 0,
  "metadata": {
    "colab": {
      "provenance": []
    },
    "kernelspec": {
      "name": "python3",
      "display_name": "Python 3"
    }
  },
  "cells": [
    {
      "cell_type": "markdown",
      "metadata": {
        "id": "WM6-dUWFN9qL"
      },
      "source": [
        "# Object-Oriented Programming & Classes\n"
      ]
    },
    {
      "cell_type": "markdown",
      "metadata": {
        "id": "3NoYE9PeGjP8"
      },
      "source": [
        "A **Class** is a representation of one or more objects which share the same or similar properties. Each class is like its own custom data type with properties defined by the developer.\n",
        "\n",
        "\n",
        "Characteristics of an \"object\":\n",
        "\n",
        "  + Identity\n",
        "  + Attributes / Properties\n",
        "  + Behaviors / Methods\n",
        "\n",
        "\n",
        "![different color polos on the shelf](https://github.com/s2t2/lambda-ds-3-1/blob/master/img/polos.png?raw=true)\n"
      ]
    },
    {
      "cell_type": "markdown",
      "metadata": {
        "id": "_VKhhN4vlzqT"
      },
      "source": [
        "# Classes in Python\n",
        "\n",
        "Reference:\n",
        "\n",
        "  + https://docs.python.org/3/tutorial/classes.html\n",
        "  + https://docs.python.org/3/tutorial/classes.html#class-objects\n",
        "  + https://www.w3schools.com/python/python_classes.asp\n",
        "  + https://www.tutorialspoint.com/python/python_classes_objects.htm\n",
        "  + https://realpython.com/python3-object-oriented-programming/\n",
        "  + https://realpython.com/instance-class-and-static-methods-demystified/\n",
        "\n",
        "## Definition\n",
        "\n",
        "In Python, we define a class using the `class` keyword, followed by the name of the class in titlecase. The class definition requires a specific function called `__init__` to initialize, or create a new member of the object class. A class definition may contain many other methods and properties as well.\n",
        "\n",
        "## Initialization / Instantiation\n",
        "\n",
        "After defining an object class, we can create any number of new members (called \"instances\") of that object class. Although multiple instances can have different values, the attributes and behaviors  are shared across all instances.\n",
        "\n",
        "\n",
        "\n",
        "\n",
        "\n"
      ]
    },
    {
      "cell_type": "markdown",
      "metadata": {
        "id": "jtJ5eUCbn5V9"
      },
      "source": [
        "## Example 1 (Polos)"
      ]
    },
    {
      "cell_type": "code",
      "metadata": {
        "id": "QaZR4JavlNwt"
      },
      "source": [
        "# DEFINITION\n",
        "\n",
        "class Polo():\n",
        "    def __init__(self, color, size, price=99.00, style=None):\n",
        "        self.color = color\n",
        "        self.size = size\n",
        "        self.price = price\n",
        "        self.style = style\n",
        "    \n",
        "    def fold(self):\n",
        "        print(\"FOLDING THE \" + self.color.upper() + \" POLO!\")\n",
        "    \n",
        "    def transfer_to(self, store_name):\n",
        "        print(f\"TRANSFERING THE {self.color.upper()} POLO TO STORE: '{store_name.upper()}'\")\n"
      ],
      "execution_count": null,
      "outputs": []
    },
    {
      "cell_type": "code",
      "metadata": {
        "colab": {
          "base_uri": "https://localhost:8080/"
        },
        "id": "tW-g6DYHk22f",
        "outputId": "2d47af65-6f28-4d6a-acaf-ee15c29945f3"
      },
      "source": [
        "# INITIALIZATION\n",
        "\n",
        "\n",
        "polo_1 = Polo(color=\"Blue\", size=\"Large\", price=4.99) \n",
        "print(\"-----------\")\n",
        "print(type(polo_1))\n",
        "print(polo_1.color)\n",
        "print(polo_1.price)\n",
        "polo_1.fold()\n",
        "\n",
        "polo_2 = Polo(color=\"Yellow\", size=\"Small\")\n",
        "print(\"-----------\")\n",
        "print(type(polo_2))\n",
        "print(polo_2.color)\n",
        "print(polo_2.price)\n",
        "polo_2.fold()\n",
        "\n",
        "polo_3 = Polo(color=\"Red\", size=\"Large\", price=65.00, style=\"Slim\")\n",
        "print(\"-----------\")\n",
        "print(type(polo_3))\n",
        "print(polo_2.color)\n",
        "print(polo_2.price)\n",
        "polo_3.fold()\n",
        "polo_3.transfer_to(\"Boston, MA\")"
      ],
      "execution_count": null,
      "outputs": [
        {
          "output_type": "stream",
          "name": "stdout",
          "text": [
            "-----------\n",
            "<class '__main__.Polo'>\n",
            "Blue\n",
            "4.99\n",
            "FOLDING THE BLUE POLO!\n",
            "-----------\n",
            "<class '__main__.Polo'>\n",
            "Yellow\n",
            "99.0\n",
            "FOLDING THE YELLOW POLO!\n",
            "-----------\n",
            "<class '__main__.Polo'>\n",
            "Yellow\n",
            "99.0\n",
            "FOLDING THE RED POLO!\n",
            "TRANSFERING THE RED POLO TO STORE: 'BOSTON, MA'\n"
          ]
        }
      ]
    },
    {
      "cell_type": "markdown",
      "metadata": {
        "id": "0mqXImmsjccQ"
      },
      "source": [
        "## Example 2 (Teams)\n"
      ]
    },
    {
      "cell_type": "code",
      "metadata": {
        "id": "7IH5HMwMN3mw"
      },
      "source": [
        "#\n",
        "# CLASS DEFINITION\n",
        "#\n",
        "\n",
        "class Team():\n",
        "    # each class has this specific \"init\" function \n",
        "    #... which allows us to pass attribute values when initializing a new member of that class\n",
        "    def __init__(self, city, name):\n",
        "        self.city = city\n",
        "        self.name = name\n",
        " \n",
        "    # each class has this specific \"representation\" function \n",
        "    #... which allows us to specify what should be displayed when we print this object\n",
        "    def __repr__(self):\n",
        "        return f\"<Team '{self.name}'>\"\n",
        " \n",
        "    # FYI: @property is a decorator that allows us to reference this method\n",
        "    # ... without trailing parentheses (like team.full_name instead of team.full_name())\n",
        "    # ... basically just a stylistic choice on our part\n",
        "    # ... use properties for nouns / calculated attributes\n",
        "    # ... otherwise just use a normal method\n",
        "    @property\n",
        "    def full_name(self):\n",
        "        return self.city + \" \" + self.name\n",
        " \n",
        "    # this is a normal instance method. \n",
        "    # NOTE: all instance methods within a class take \"self\" as their first required parameter\n",
        "    # ... which references the instance itself\n",
        "    def advertise(self):\n",
        "        print(\"COME TO\", self.city.upper(), \"TO SEE OUR GAMES!\")\n",
        "\n"
      ],
      "execution_count": null,
      "outputs": []
    },
    {
      "cell_type": "code",
      "metadata": {
        "id": "fT_tP5xTJzqh",
        "colab": {
          "base_uri": "https://localhost:8080/"
        },
        "outputId": "2c750e5c-8176-48bd-e446-9b14005f9398"
      },
      "source": [
        "#\n",
        "# INITIALIZATION / INSTANTIATION\n",
        "#\n",
        "\n",
        "yanks = Team(\"New York\", \"Yankees\")\n",
        "print(\"-----------\")\n",
        "print(type(yanks))\n",
        "print(yanks)\n",
        "print(yanks.full_name)\n",
        "yanks.advertise()\n",
        "\n",
        "nats = Team(city=\"Washington\", name=\"Nationals\")\n",
        "print(\"-----------\")\n",
        "print(type(nats))\n",
        "print(nats)\n",
        "print(nats.full_name)\n",
        "nats.advertise()\n",
        "\n",
        "mets = Team(name=\"Mets\", city=\"New York\")\n",
        "print(\"-----------\")\n",
        "print(type(mets))\n",
        "print(mets)\n",
        "print(mets.full_name)\n",
        "mets.advertise()"
      ],
      "execution_count": null,
      "outputs": [
        {
          "output_type": "stream",
          "name": "stdout",
          "text": [
            "-----------\n",
            "<class '__main__.Team'>\n",
            "<Team 'Yankees'>\n",
            "New York Yankees\n",
            "COME TO NEW YORK TO SEE OUR GAMES!\n",
            "-----------\n",
            "<class '__main__.Team'>\n",
            "<Team 'Nationals'>\n",
            "Washington Nationals\n",
            "COME TO WASHINGTON TO SEE OUR GAMES!\n",
            "-----------\n",
            "<class '__main__.Team'>\n",
            "<Team 'Mets'>\n",
            "New York Mets\n",
            "COME TO NEW YORK TO SEE OUR GAMES!\n"
          ]
        }
      ]
    },
    {
      "cell_type": "markdown",
      "metadata": {
        "id": "tVGJmX2PxucU"
      },
      "source": [
        "# Example 3 (Geocoder Challenge!)\n",
        "\n",
        "For this example, we'll use a real class called `Nominatum` provided by the `pgeocode` package.\n",
        "\n",
        "It will be up to you to read the package documentation to learn how to initialize a new instance of this class, and to use it to do the things we need to do.\n",
        "\n",
        "Specifically, your goal is to print the **latitude**, **longitude**, and **city name** corresponding with **any given US zip code**.  \n",
        "\n",
        "References:\n",
        "\n",
        "  + [Package Index](https://pypi.org/project/pgeocode/)\n",
        "  + [GitHub Repo](https://github.com/symerio/pgeocode)\n",
        "  + [Docs](https://pgeocode.readthedocs.io/en/latest/)\n",
        "  + [List of Supported Country Codes](https://github.com/symerio/pgeocode#supported-countries)\n",
        "  + [`pgeocode.Nominatim`](https://pgeocode.readthedocs.io/en/latest/generated/pgeocode.Nominatim.html)\n",
        "  + [`pgeocode.Nominatim.query_postal_code()`](https://pgeocode.readthedocs.io/en/latest/generated/pgeocode.Nominatim.html#pgeocode.Nominatim.query_postal_code) HINT: the result will be a `pandas.Series` object\n",
        "\n"
      ]
    },
    {
      "cell_type": "code",
      "metadata": {
        "id": "b3Ui6mETz4gM",
        "colab": {
          "base_uri": "https://localhost:8080/"
        },
        "outputId": "54bd3d56-c54f-4c09-f4fb-a24873c8d434"
      },
      "source": [
        "#\n",
        "# SETUP CELL\n",
        "# ... ok to run this once and comment-out, or just leave as-is\n",
        "# ... FYI: we can issue command-line commands in colab by prefixing them with !\n",
        "#\n",
        "!pip install pgeocode"
      ],
      "execution_count": null,
      "outputs": [
        {
          "output_type": "stream",
          "name": "stdout",
          "text": [
            "Looking in indexes: https://pypi.org/simple, https://us-python.pkg.dev/colab-wheels/public/simple/\n",
            "Requirement already satisfied: pgeocode in /usr/local/lib/python3.7/dist-packages (0.3.0)\n",
            "Requirement already satisfied: requests in /usr/local/lib/python3.7/dist-packages (from pgeocode) (2.23.0)\n",
            "Requirement already satisfied: numpy in /usr/local/lib/python3.7/dist-packages (from pgeocode) (1.21.6)\n",
            "Requirement already satisfied: pandas in /usr/local/lib/python3.7/dist-packages (from pgeocode) (1.3.5)\n",
            "Requirement already satisfied: pytz>=2017.3 in /usr/local/lib/python3.7/dist-packages (from pandas->pgeocode) (2022.2.1)\n",
            "Requirement already satisfied: python-dateutil>=2.7.3 in /usr/local/lib/python3.7/dist-packages (from pandas->pgeocode) (2.8.2)\n",
            "Requirement already satisfied: six>=1.5 in /usr/local/lib/python3.7/dist-packages (from python-dateutil>=2.7.3->pandas->pgeocode) (1.15.0)\n",
            "Requirement already satisfied: idna<3,>=2.5 in /usr/local/lib/python3.7/dist-packages (from requests->pgeocode) (2.10)\n",
            "Requirement already satisfied: chardet<4,>=3.0.2 in /usr/local/lib/python3.7/dist-packages (from requests->pgeocode) (3.0.4)\n",
            "Requirement already satisfied: urllib3!=1.25.0,!=1.25.1,<1.26,>=1.21.1 in /usr/local/lib/python3.7/dist-packages (from requests->pgeocode) (1.24.3)\n",
            "Requirement already satisfied: certifi>=2017.4.17 in /usr/local/lib/python3.7/dist-packages (from requests->pgeocode) (2022.6.15)\n"
          ]
        }
      ]
    },
    {
      "cell_type": "code",
      "metadata": {
        "id": "uQ-GjGaUz49B"
      },
      "source": [
        "#\n",
        "# IMPLEMENTATION CELL\n",
        "#\n",
        "\n",
        "\n",
        "\n",
        "country_code = \"US\" # or try other countries (see the official list)\n",
        "\n",
        "# todo: initialize a new Nominatum instance \n",
        "\n",
        "\n",
        "\n",
        "\n",
        "my_zip = \"10012\" # or use your own zip code!!\n",
        "\n",
        "# todo: get info about this zip code\n",
        "\n",
        "\n",
        "\n",
        "\n",
        "\n"
      ],
      "execution_count": null,
      "outputs": []
    }
  ]
}