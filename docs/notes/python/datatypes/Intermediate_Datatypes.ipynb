{
  "nbformat": 4,
  "nbformat_minor": 0,
  "metadata": {
    "colab": {
      "name": "Intermediate (Container) Datatypes",
      "provenance": [],
      "collapsed_sections": [],
      "authorship_tag": "ABX9TyOa4vio0XMVtuzq2fZ8jW7v",
      "include_colab_link": true
    },
    "kernelspec": {
      "name": "python3",
      "display_name": "Python 3"
    }
  },
  "cells": [
    {
      "cell_type": "markdown",
      "metadata": {
        "id": "view-in-github",
        "colab_type": "text"
      },
      "source": [
        "<a href=\"https://colab.research.google.com/github/prof-rossetti/intro-to-python/blob/master/notes/python/datatypes/Intermediate_Datatypes.ipynb\" target=\"_parent\"><img src=\"https://colab.research.google.com/assets/colab-badge.svg\" alt=\"Open In Colab\"/></a>"
      ]
    },
    {
      "cell_type": "markdown",
      "metadata": {
        "id": "Yptx_M00cc_q"
      },
      "source": [
        "# Instructions\n",
        "\n",
        "Make a copy of this notebook so you can edit and save your own version of it. Then read through the notebook and take opportunities to explore in the designated \"exploration\" code cells. "
      ]
    },
    {
      "cell_type": "markdown",
      "metadata": {
        "id": "GOmawrysHpsc"
      },
      "source": [
        "# Intermediate Datatypes\n",
        "\n",
        "Here are some datatypes that are essentially containers for other datatypes. We can use them to represent collections of related data:\n",
        "\n",
        "  + Tuple\n",
        "  + Set\n",
        "  + List\n",
        "  + Dictionary\n",
        "\n",
        "We'll focus mainly on Lists and Dictionaries. \n",
        "\n",
        "\n"
      ]
    },
    {
      "cell_type": "markdown",
      "metadata": {
        "id": "ib0xdWp9uPgy"
      },
      "source": [
        "# Tuples"
      ]
    },
    {
      "cell_type": "markdown",
      "metadata": {
        "id": "B7tGshVYvGvs"
      },
      "source": [
        "Reference: \n",
        "  + https://docs.python.org/3.3/library/stdtypes.html?highlight=tuple#tuple\n",
        "  + https://www.w3schools.com/python/python_tuples.asp\n",
        "\n",
        "A \"tuple\" contains an ordered list of items, but unlike the \"list\" datatype, tuples are \"immutable\", meaning their values can't change and their items can't be re-assigned. Tuples may be faster to use than lists, but beginners can feel free to use lists instead for most purposes.\n",
        "\n",
        "\n",
        "```python\n",
        "coords = (5,4)\n",
        "\n",
        "print(coords)\n",
        "print(coords[0]) #> 5\n",
        "print(coords[1]) #> 4\n",
        "```"
      ]
    },
    {
      "cell_type": "code",
      "metadata": {
        "id": "2UkSkGZuubhg"
      },
      "source": [
        "#\n",
        "# EXPLORATION CELL (TUPLES)\n",
        "#\n",
        "\n",
        "\n",
        "\n",
        "\n",
        "\n"
      ],
      "execution_count": null,
      "outputs": []
    },
    {
      "cell_type": "markdown",
      "metadata": {
        "id": "_MVHXafhuRpZ"
      },
      "source": [
        "# Sets"
      ]
    },
    {
      "cell_type": "markdown",
      "metadata": {
        "id": "0cZ-bCheviAT"
      },
      "source": [
        "Reference: \n",
        "\n",
        "  + https://docs.python.org/3/library/stdtypes.html#set-types-set-frozenset\n",
        "  + https://www.w3schools.com/python/python_sets.asp\n",
        "\n",
        "\n",
        "A \"set\" is like a \"list\" in that it contains a number of items, but the main difference is that values in a list can be repeated, whereas values in a set must be unique. \n",
        "\n",
        "This makes sets faster than lists in some cases, but beginners can feel free to mainly use lists instead. The primary use case for sets will be to remove duplicate values from a list (by converting the list to a set and back again to a list).\n",
        "\n",
        "\n",
        "```python\n",
        "letters = {\"a\", \"b\", \"c\", \"d\", \"e\"}\n",
        "print(sorted(letters)) #> ['a', 'b', 'c', 'd', 'e']\n",
        "\n",
        "letters.add(\"f\")\n",
        "print(sorted(letters)) #> ['a', 'b', 'c', 'd', 'e', 'f']\n",
        "\n",
        "letters.add(\"c\") #> ['a', 'b', 'c', 'd', 'e', 'f']\n",
        "print(sorted(letters))\n",
        "```\n",
        "\n",
        "```python\n",
        "print(letters[0]) \n",
        "#> TypeError: 'set' object does not support indexing\n",
        "```\n",
        "\n",
        "```python\n",
        "# example of removing duplicates from a list:\n",
        "my_list = [1,1,2,2,3,3,3,3,3,3,3,3]\n",
        "print(list(set(my_list))) #> [1, 2, 3]\n",
        "```\n",
        "\n",
        "\n",
        "\n",
        "\n"
      ]
    },
    {
      "cell_type": "code",
      "metadata": {
        "id": "z_vISxyhuj49"
      },
      "source": [
        "#\n",
        "# EXPLORATION CELL (SETS)\n",
        "#\n",
        "\n",
        "\n",
        "\n"
      ],
      "execution_count": null,
      "outputs": []
    },
    {
      "cell_type": "markdown",
      "metadata": {
        "id": "-6OJt3clNiNh"
      },
      "source": [
        "# Dictionaries\n"
      ]
    },
    {
      "cell_type": "markdown",
      "metadata": {
        "id": "tVczGWN8AAlq"
      },
      "source": [
        "\n",
        "Reference:\n",
        "\n",
        "  + https://docs.python.org/3/library/stdtypes.html#dict\n",
        "  + https://docs.python.org/3/library/stdtypes.html#dictionary-view-objects\n",
        "  + https://docs.python.org/3/tutorial/datastructures.html#dictionaries\n",
        "  + https://docs.python.org/3/tutorial/datastructures.html#looping-techniques\n",
        "  + https://www.w3schools.com/python/python_dictionaries.asp\n",
        "\n",
        "Many programming languages provide an \"associative array\" datatype which represents an object with named attributes. Associative arrays are said to have \"key/value\" pairs, where the \"key\" represents the name of the attribute and the \"value\" represents the attribute's value.\n",
        "\n",
        "Python's implementation of the associative array concept is known as a \"dictionary\". A Python dictionary comprises curly braces (`{}`) containing one or more key/value pairs, with each key separated from its value by a colon (`:`) and each key/value pair separated by a comma (`,`).\n",
        "\n",
        "Example dictionaries:\n",
        "\n",
        "```python\n",
        "{}\n",
        "\n",
        "{\"a\": 1, \"b\": 2, \"c\": 3}\n",
        "\n",
        "{\"a\": 1, \"b\": 2, \"c\": 3, \"fruits\": [\"apple\", \"banana\", \"pear\"]} # dictionaries can contain lists, or even other nested dictionaries\n",
        "\n",
        "{\"first_name\": \"Ophelia\", \"last_name\": \"Clark\", \"message\": \"Hello Again\"}\n",
        "```\n",
        "\n",
        "A list of dictionaries is conceptually similar to the structure of a CSV file, spreadsheet, or database record, where each dictionary's \"keys\" represent the column names and its \"values\" represent the cell values:\n",
        "\n",
        "city | name | league\n",
        "--- | --- | ---\n",
        "New York | Yankees | major\n",
        "New York | Mets | major\n",
        "Boston | Red Sox | major\n",
        "New Haven | Ravens | minor\n",
        "\n",
        "\n",
        "```python\n",
        "[\n",
        "    {\"city\": \"New York\", \"name\": \"Yankees\", \"league\":\"major\"},\n",
        "    {\"city\": \"New York\", \"name\": \"Mets\", \"league\":\"major\"},\n",
        "    {\"city\": \"Boston\", \"name\": \"Red Sox\", \"league\":\"major\"},\n",
        "    {\"city\": \"New Haven\", \"name\": \"Ravens\", \"league\":\"minor\"}\n",
        "]\n",
        "```\n"
      ]
    },
    {
      "cell_type": "markdown",
      "metadata": {
        "id": "f1B_SyBLNka1"
      },
      "source": [
        "\n",
        "## Dictionary Operations\n",
        "\n",
        "Accessing dictionary values by their key, or attribute name:\n",
        "\n",
        "```python\n",
        "person = {\n",
        "    \"first_name\": \"Ophelia\",\n",
        "    \"last_name\": \"Clarke\",\n",
        "    \"message\": \"Hi, thanks for the ice cream!\",\n",
        "    \"fav_flavors\": [\"Vanilla Bean\", \"Mocha\", \"Strawberry\"]\n",
        "}\n",
        "\n",
        "person[\"first_name\"] #> \"Ophelia\"\n",
        "person[\"last_name\"] #> \"Clark\"\n",
        "person[\"message\"] #> \"Hi, thanks for the ice cream!\"\n",
        "person[\"fav_flavors\"] #> [\"Vanilla Bean\", \"Mocha\", \"Strawberry\"]\n",
        "person[\"fav_flavors\"][1] #> \"Mocha\" (a list is still a list, even if it exists inside a dictionary!)\n",
        "```\n",
        "\n",
        "Adding, updating, or removing attributes from a dictionary:\n",
        "\n",
        "```python\n",
        "person = {\n",
        "    \"first_name\": \"Ophelia\",\n",
        "    \"last_name\": \"Clarke\",\n",
        "    \"message\": \"Hi, thanks for the ice cream!\",\n",
        "    \"fav_flavors\": [\"Vanilla Bean\", \"Mocha\", \"Strawberry\"]\n",
        "}\n",
        "\n",
        "# adding an attribute:\n",
        "person[\"message\"] = \"New Message\" # this is mutating\n",
        "\n",
        "# updating an attribute:\n",
        "person[\"fav_color\"] = \"blue\" # this is mutating\n",
        "\n",
        "# removing an attribute:\n",
        "del person[\"fav_flavors\"] # this is mutating\n",
        "\n",
        "person #> {'first_name': 'Ophelia', 'last_name': 'Clark', 'message': 'New Message', 'fav_color': 'blue' }\n",
        "```\n",
        "\n",
        "Accessing a dictionary's keys and/or values seperately, and iterating through them:\n",
        "\n",
        "```python\n",
        "person = {\n",
        "    \"first_name\": \"Ophelia\",\n",
        "    \"last_name\": \"Clarke\",\n",
        "    \"message\": \"Hi, thanks for the ice cream!\",\n",
        "    \"fav_flavors\": [\"Vanilla Bean\", \"Mocha\", \"Strawberry\"]\n",
        "}\n",
        "\n",
        "# KEYS:\n",
        "person.keys()\n",
        "#> dict_keys(['first_name', 'last_name', 'message', 'fav_flavors'])\n",
        "list(person.keys())\n",
        "#> ['first_name', 'last_name', 'message', 'fav_flavors']\n",
        "\n",
        "# VALUES:\n",
        "person.values()\n",
        "#> dict_values(['Ophelia', 'Clark', 'Hi, thanks for the ice cream!', [\"Vanilla Bean\", \"Mocha\", \"Strawberry\"]])\n",
        "list(person.values())\n",
        "#> ['Ophelia', 'Clark', 'Hi, thanks for the ice cream!', [\"Vanilla Bean\", \"Mocha\", \"Strawberry\"]]\n",
        "\n",
        "# PAIRS:\n",
        "person.items()\n",
        "#> dict_items([('first_name', 'Ophelia'), ('last_name', 'Clark'), ('message', 'Hi, thanks for the ice cream!'), ('fav_flavors', [\"Vanilla Bean\", \"Mocha\", \"Strawberry\"])])\n",
        "\n",
        "for k, v in person.items():\n",
        "    print(\"KEY:\", k, \"... VALUE:\", v)\n",
        "\n",
        "#> KEY: first ... VALUE: Ophelia\n",
        "#> KEY: last ... VALUE: Clark\n",
        "#> KEY: message ... VALUE: Hi, thanks for the ice cream!\n",
        "#> KEY: fav_flavors ... VALUE: [\"Vanilla Bean\", \"Mocha\", \"Strawberry\"]\n",
        "```"
      ]
    },
    {
      "cell_type": "code",
      "metadata": {
        "id": "LLfeYUjJ6zOs"
      },
      "source": [
        "#\n",
        "# EXPLORATION CELL (DICTIONARIES)\n",
        "#\n",
        "\n",
        "\n",
        "\n"
      ],
      "execution_count": null,
      "outputs": []
    },
    {
      "cell_type": "markdown",
      "metadata": {
        "id": "QaaVPZRhKHCh"
      },
      "source": [
        "# Lists\n"
      ]
    },
    {
      "cell_type": "markdown",
      "metadata": {
        "id": "7bRGGo5s7lSz"
      },
      "source": [
        "\n",
        "Reference:\n",
        "  + https://docs.python.org/3/library/stdtypes.html#lists\n",
        "  + https://docs.python.org/3/tutorial/datastructures.html?highlight=lists#more-on-lists\n",
        "  + https://www.w3schools.com/python/python_lists.asp\n",
        "\n",
        "A \"list\" represents a numbered, ordered collection of items. A list may contain zero or more items. A list can contain items of any datatype, but as a best practice, all items in a list should share a datatype and structure:\n",
        "\n",
        "```python\n",
        "# DO:\n",
        "\n",
        "[]\n",
        "\n",
        "[1, 2, 3, 4]\n",
        "\n",
        "[100, 75, 33]\n",
        "\n",
        "[\"fun\", \"times\", \"right?\"]\n",
        "\n",
        "[{\"a\": 1, \"b\": 2}, {\"a\": 5, \"b\": 6}] # lists can contain dictionaries\n",
        "\n",
        "[[1, 2, 3], [4, 5, 6], [7, 8, 9]] # lists can be \"nested\" inside other lists\n",
        "\n",
        "# DON'T:\n",
        "\n",
        "[100, \"fun\"] # mixed datatypes\n",
        "\n",
        "[{\"a\": 1, \"b\": 2}, {\"x\": 5, \"z\": 6}] # non-standard dictionary keys\n",
        "\n",
        "```\n"
      ]
    },
    {
      "cell_type": "markdown",
      "metadata": {
        "id": "kozpSz7v7k4z"
      },
      "source": [
        "\n",
        "## List Operations\n",
        "\n",
        "Accessing a list item by specifying its numeric index:\n",
        "\n",
        "```python\n",
        "arr = [\"a\", \"b\", \"c\", \"d\"]\n",
        "arr[0] #> \"a\"\n",
        "arr[1] #> \"b\"\n",
        "arr[2] #> \"c\"\n",
        "arr[3] #> \"d\"\n",
        "arr[4] #> IndexError: list index out of range\n",
        "```\n",
        "\n",
        "> NOTE: List item indices are zero-based, meaning the index of the first list item is 0.\n",
        "\n",
        "Getting the index for a given item (be careful if your list has duplicates though):\n",
        "\n",
        "```python\n",
        "arr.index(\"a\") #> 0\n",
        "arr.index(\"b\") #> 1\n",
        "arr.index(\"c\") #> 2\n",
        "arr.index(\"z\") #> -1 (applies to any item not found in the list)\n",
        "```\n",
        "\n",
        "Adding an element to the end of a list:\n",
        "\n",
        "```python\n",
        "arr = [\"a\", \"b\", \"c\", \"d\"]\n",
        "arr.append(\"e\") # this is a mutating operation\n",
        "arr #> [\"a\", \"b\", \"c\", \"d\", \"e\"]\n",
        "```\n",
        "\n",
        "Removing an element from a list, by specifying the index of the item you would like to remove:\n",
        "\n",
        "```python\n",
        "arr = [\"a\", \"b\", \"c\", \"d\"]\n",
        "del arr[1] # this is a mutating operation\n",
        "arr #> ['a', 'c', 'd']\n",
        "```\n",
        "\n",
        "Concatenating two lists:\n",
        "\n",
        "```python\n",
        "arr = [\"a\", \"b\", \"c\", \"d\"]\n",
        "arr2 = [\"x\", \"y\", \"z\"]\n",
        "arr3 = arr + arr2\n",
        "arr3 #> [\"a\", \"b\", \"c\", \"d\", \"x\", \"y\", \"z\"]\n",
        "```\n",
        "\n",
        "Performing aggregations, like counting the number of items in a list:\n",
        "\n",
        "```python\n",
        "arr = [6,3,9,7]\n",
        "\n",
        "len(arr) #> 4 (COUNT)\n",
        "min(arr) #> 3 (MINIMUM)\n",
        "max(arr) #> 9 (MAXIMUM)\n",
        "```\n",
        "\n",
        "Equality operators apply:\n",
        "\n",
        "```python\n",
        "[1,2,3] == [1,2,3] #> True\n",
        "[1,2,3] == [3,2,1] #> False\n",
        "```\n",
        "\n",
        "Inclusion operators apply:\n",
        "\n",
        "```python\n",
        "arr = [1,2,3,4,5]\n",
        "\n",
        "3 in arr #> True\n",
        "3 not in arr #> False\n",
        "```"
      ]
    },
    {
      "cell_type": "code",
      "metadata": {
        "id": "fHiJ_CSvGQ5h"
      },
      "source": [
        "#\n",
        "# EXPLORATION CELL (LISTS)\n",
        "#\n",
        "\n",
        "\n"
      ],
      "execution_count": null,
      "outputs": []
    },
    {
      "cell_type": "markdown",
      "metadata": {
        "id": "Tb6WaGjuGFVW"
      },
      "source": [
        "### Sorting Lists\n"
      ]
    },
    {
      "cell_type": "markdown",
      "metadata": {
        "id": "GD-ddf3_761_"
      },
      "source": [
        "\n",
        "\n",
        "Sort a list:\n",
        "\n",
        "```python\n",
        "arr = [6,3,8]\n",
        "arr.sort() # this is mutating\n",
        "arr #> [3, 6, 8]\n",
        "\n",
        "arr.reverse() # this is mutating\n",
        "arr #> [8, 6, 3]\n",
        "```\n",
        "\n",
        "If you have a list of dictionaries, you should be able to sort it based on dictionary values:\n",
        "\n",
        "```python\n",
        "teams = [\n",
        "    {\"city\": \"New York\", \"name\": \"Yankees\"},\n",
        "    {\"city\": \"New York\", \"name\": \"Mets\"},\n",
        "    {\"city\": \"Boston\", \"name\": \"Red Sox\"},\n",
        "    {\"city\": \"New Haven\", \"name\": \"Ravens\"}\n",
        "]\n",
        "\n",
        "def team_name(team):\n",
        "    return team[\"name\"]\n",
        "\n",
        "def sort_by_hometown(team):\n",
        "    return team[\"city\"]\n",
        "\n",
        "def sort_special(team):\n",
        "    return team[\"city\"] + \"-\" + team[\"name\"]\n",
        "\n",
        "teams2 = sorted(teams, key=team_name)\n",
        "teams2 #> [{'city': 'New York', 'name': 'Mets'}, {'city': 'New Haven', 'name': 'Ravens'}, {'city': 'Boston', 'name': 'Red Sox'}, {'city': 'New York', 'name': 'Yankees'}]\n",
        "\n",
        "teams3 = sorted(teams, key=sort_by_hometown)\n",
        "teams3 #> [{'city': 'Boston', 'name': 'Red Sox'}, {'city': 'New Haven', 'name': 'Ravens'}, {'city': 'New York', 'name': 'Yankees'}, {'city': 'New York', 'name': 'Mets'}]\n",
        "\n",
        "teams4 = sorted(teams, key=sort_special)\n",
        "teams4 #> [{'city': 'Boston', 'name': 'Red Sox'}, {'city': 'New Haven', 'name': 'Ravens'}, {'city': 'New York', 'name': 'Mets'}, {'city': 'New York', 'name': 'Yankees'}]\n",
        "```\n",
        "\n",
        "Alternatively for simple attribute-based sorting, you could use the [`operator` module's](https://docs.python.org/3/library/operator.html) `itemgetter()` function, for example:\n",
        "\n",
        "```python\n",
        "import operator\n",
        "\n",
        "teams = [\n",
        "    {\"city\": \"New York\", \"name\": \"Yankees\"},\n",
        "    {\"city\": \"New York\", \"name\": \"Mets\"},\n",
        "    {\"city\": \"Boston\", \"name\": \"Red Sox\"},\n",
        "    {\"city\": \"New Haven\", \"name\": \"Ravens\"}\n",
        "]\n",
        "\n",
        "teams = sorted(teams, key=operator.itemgetter('city'))\n",
        "teams #> [{'city': 'Boston', 'name': 'Red Sox'}, {'city': 'New Haven', 'name': 'Ravens'}, {'city': 'New York', 'name': 'Yankees'}, {'city': 'New York', 'name': 'Mets'}]\n",
        "```\n"
      ]
    },
    {
      "cell_type": "code",
      "metadata": {
        "id": "7eD5GojaGPZx"
      },
      "source": [
        "#\n",
        "# EXPLORATION CELL (SORTING LISTS)\n",
        "#\n",
        "\n",
        "\n"
      ],
      "execution_count": null,
      "outputs": []
    },
    {
      "cell_type": "markdown",
      "metadata": {
        "id": "CNNkb4ghGJB6"
      },
      "source": [
        "### Iterating Lists \n"
      ]
    },
    {
      "cell_type": "markdown",
      "metadata": {
        "id": "qFpL6wiN8A7D"
      },
      "source": [
        "\n",
        "\n",
        "Reference:\n",
        "\n",
        "  + https://docs.python.org/3/tutorial/datastructures.html?#list-comprehensions\n",
        "  + https://docs.python.org/3/tutorial/datastructures.html?highlight=lists#list-comprehensions\n",
        "  + https://docs.python.org/3/tutorial/controlflow.html#for-statements\n",
        "  + https://www.w3schools.com/python/python_for_loops.asp\n",
        "\n",
        "\n",
        "A list can be iterated, or \"looped\" using a `for ... in ...` statement:\n",
        "\n",
        "```python\n",
        "for letter in [\"a\", \"b\", \"c\", \"d\"]:\n",
        "    print(letter)\n",
        "\n",
        "#> a\n",
        "#> b\n",
        "#> c\n",
        "#> d\n",
        "```\n",
        "\n",
        "> TIP: If it helps, you can vocalize this like \"for each item in the list of items, do something with that item\"\n",
        "\n",
        "\n"
      ]
    },
    {
      "cell_type": "code",
      "metadata": {
        "id": "0JmqH_6TGLeB"
      },
      "source": [
        "#\n",
        "# EXPLORATION CELL (ITERATING LISTS)\n",
        "#\n",
        "\n",
        "\n"
      ],
      "execution_count": null,
      "outputs": []
    },
    {
      "cell_type": "markdown",
      "metadata": {
        "id": "Nrc1wprb8J6I"
      },
      "source": [
        "### Mapping Lists\n"
      ]
    },
    {
      "cell_type": "markdown",
      "metadata": {
        "id": "iKQll7Iz8HWr"
      },
      "source": [
        "\n",
        "The simplest way to map, or transform, each value in a list is to initialize an empty list, then loop through the original list and append a transformed version of each item into the new list:\n",
        "\n",
        "```python\n",
        "numbers = [1, 2, 3, 4]\n",
        "\n",
        "bigger_numbers = []\n",
        "for n in numbers:\n",
        "    bigger_numbers.append(n * 100)\n",
        " \n",
        "print(bigger_numbers) #> [100, 200, 300, 400]\n",
        "```\n",
        "\n",
        "\n",
        "Lists can be transformed \"in-place\" using Python's built-in `map()` function. The `map()` function takes two parameters. The first parameter is the name of a pre-defined function to perform on each item in the list. The function should accept a single parameter representing a single list item. The second parameter is the actual list to be operated on:\n",
        "\n",
        "```python\n",
        "arr = [1, 2, 3, 4]\n",
        "\n",
        "def enlarge(num):\n",
        "    return num * 100\n",
        "\n",
        "arr2 = map(enlarge, arr)\n",
        "arr2 #> <map object at 0x10c62e710>\n",
        "list(arr2) #> [100, 200, 300, 400]\n",
        "```\n",
        "\n",
        "\n",
        "#### List Comprehensions\n",
        "\n",
        "Another way of mapping is to use a List Comprehension:\n",
        "\n",
        "```python\n",
        "arr = [1, 2, 3, 4]\n",
        "\n",
        "[i * 100 for i in arr] #> [100, 200, 300, 400]\n",
        "```\n",
        "\n",
        "```python\n",
        "teams = [\n",
        "    {\"city\": \"New York\", \"name\": \"Yankees\"},\n",
        "    {\"city\": \"New York\", \"name\": \"Mets\"},\n",
        "    {\"city\": \"Boston\", \"name\": \"Red Sox\"},\n",
        "    {\"city\": \"New Haven\", \"name\": \"Ravens\"}\n",
        "]\n",
        "\n",
        "[team[\"name\"] for team in teams] #> ['Yankees', 'Mets', 'Red Sox', 'Ravens']\n",
        "```\n",
        "\n",
        "\n",
        "\n",
        "\n",
        "\n",
        "\n",
        "\n",
        "\n",
        "\n",
        "\n"
      ]
    },
    {
      "cell_type": "code",
      "metadata": {
        "id": "N7eg9XkRIa6L"
      },
      "source": [
        "#\n",
        "# EXPLORATION CELL (MAPPING LISTS)\n",
        "#\n",
        "\n",
        "\n"
      ],
      "execution_count": null,
      "outputs": []
    },
    {
      "cell_type": "markdown",
      "metadata": {
        "id": "4NOg2zYV8N-b"
      },
      "source": [
        "### Filtering Lists\n"
      ]
    },
    {
      "cell_type": "markdown",
      "metadata": {
        "id": "H0iSvxcl8Klv"
      },
      "source": [
        "\n",
        "\n",
        "\n",
        "\n",
        "\n",
        "\n",
        "\n",
        "\n",
        "\n",
        "\n",
        "\n",
        "\n",
        "\n",
        "\n",
        "Reference: https://docs.python.org/3/library/functions.html#filter.\n",
        "\n",
        "Use the `filter()` function to select a subset of items from a list - only those items matching a given condition. The filter function accepts the same parameters as the `map()` fuction:\n",
        "\n",
        "```python\n",
        "arr = [1,2,4,8,16]\n",
        "\n",
        "def all_of_them(i):\n",
        "    return True # same as ... return i == i\n",
        "\n",
        "def equals_two(i):\n",
        "    return i == 2\n",
        "\n",
        "def greater_than_two(i):\n",
        "    return i > 2\n",
        "\n",
        "def really_big(i):\n",
        "    return i > 102\n",
        "\n",
        "filter(all_of_them, arr) #> <filter at 0x103fa71d0>\n",
        "list(filter(all_of_them, arr)) #> [1, 2, 4, 8, 16]\n",
        "list(filter(equals_two, arr)) #> [2]\n",
        "list(filter(greater_than_two, arr)) #> [4, 8, 16]\n",
        "list(filter(really_big, arr)) #> []\n",
        "```\n",
        "\n",
        "> Note: depending on how many items matched the filter condition, the resulting filtered list may be empty, or it may contain one item, or it may contain multiple items\n",
        "\n",
        "When using the filter function, observe this alternative filtering syntax involving the keyword `lambda`:\n",
        "\n",
        "```python\n",
        "arr = [1,2,4,8,16]\n",
        "list(filter(lambda i: i > 2, arr)) #> [4, 8, 16]\n",
        "```\n",
        "\n",
        "If your list is full of dictionaries, you can `filter()` based on their attribute values:\n",
        "\n",
        "```python\n",
        "teams = [\n",
        "    {\"city\": \"New York\", \"name\": \"Yankees\"},\n",
        "    {\"city\": \"New York\", \"name\": \"Mets\"},\n",
        "    {\"city\": \"Boston\", \"name\": \"Red Sox\"},\n",
        "    {\"city\": \"New Haven\", \"name\": \"Ravens\"}\n",
        "]\n",
        "\n",
        "def yanks(obj):\n",
        "    return obj[\"name\"] == \"Yankees\"\n",
        "\n",
        "def from_new_york(obj):\n",
        "    return obj[\"city\"] == \"New York\"\n",
        "\n",
        "def from_new_haven(obj):\n",
        "    return obj[\"city\"] == \"New Haven\"\n",
        "\n",
        "def from_new_something(obj):\n",
        "    return \"New\" in obj[\"city\"]\n",
        "\n",
        "list(filter(yanks, teams)) #> [{...}]\n",
        "list(filter(from_new_york, teams)) #> [{...}, {...}]\n",
        "list(filter(from_new_haven, teams)) #> [{...}]\n",
        "list(filter(from_new_something, teams)) #> [{...}, {...}, {...}]\n",
        "```\n",
        "\n",
        "If you need to implement complex filtering conditions, consider using a list comprehension, or \"lambda\" syntax, or consider writing out your function the long way:\n",
        "\n",
        "```python\n",
        "teams = [\n",
        "    {\"city\": \"New York\", \"name\": \"Yankees\"},\n",
        "    {\"city\": \"New York\", \"name\": \"Mets\"},\n",
        "    {\"city\": \"Boston\", \"name\": \"Red Sox\"},\n",
        "    {\"city\": \"New Haven\", \"name\": \"Ravens\"}\n",
        "]\n",
        "\n",
        "# using a list comprehension\n",
        "def teams_from(city):\n",
        "  return [team for team in teams if team[\"city\"] == city]\n",
        "\n",
        "# using \"lambda\" syntax\n",
        "def teams_from2(city):\n",
        "  return list(filter(lambda team: team[\"city\"] == city, teams))\n",
        "\n",
        "# the long way\n",
        "def teams_from3(city):\n",
        "  matches = []\n",
        "  for team in teams:\n",
        "      if team[\"city\"].upper() == city.upper():\n",
        "          matches.append(team)\n",
        "  return matches\n",
        "\n",
        "print(teams_from(\"New York\")) #> [{'city': 'New York', 'name': 'Yankees'}, {'city': 'New York', 'name': 'Mets'}]\n",
        "print(teams_from2(\"New York\")) #> [{'city': 'New York', 'name': 'Yankees'}, {'city': 'New York', 'name': 'Mets'}]\n",
        "print(teams_from3(\"New York\")) #> [{'city': 'New York', 'name': 'Yankees'}, {'city': 'New York', 'name': 'Mets'}]\n",
        "```\n"
      ]
    },
    {
      "cell_type": "code",
      "metadata": {
        "id": "aYMyq4cCIemi"
      },
      "source": [
        "#\n",
        "# EXPLORATION CELL (FILTERING LISTS)\n",
        "#\n",
        "\n",
        "\n"
      ],
      "execution_count": null,
      "outputs": []
    },
    {
      "cell_type": "markdown",
      "metadata": {
        "id": "u3Wk6vSN8Lsd"
      },
      "source": [
        "\n",
        "\n",
        "### Grouping Lists\n",
        "\n",
        "Reference the [`itertools` module](https://github.com/prof-rossetti/intro-to-python/blob/master/notes/python/modules/itertools.md) for grouping operations. If you use this approach, it may require sorting the list before grouping.\n",
        "\n",
        "```python\n",
        "import itertools\n",
        "from operator import itemgetter\n",
        "\n",
        "teams = [\n",
        "    {\"city\": \"New York\", \"name\": \"Yankees\"},\n",
        "    {\"city\": \"New York\", \"name\": \"Mets\"},\n",
        "    {\"city\": \"Boston\", \"name\": \"Red Sox\"},\n",
        "    {\"city\": \"New Haven\", \"name\": \"Ravens\"}\n",
        "]\n",
        "\n",
        "sorted_teams = sorted(teams, key=itemgetter(\"city\")) # sort by some attribute\n",
        "\n",
        "teams_by_city = itertools.groupby(sorted_teams, key=itemgetter(\"city\")) # group by the sorted attribute\n",
        "#> <itertools.groupby object at 0x10339dc50>\n",
        "\n",
        "for city, teams in teams_by_city:\n",
        "    print(\"----------------------------\")\n",
        "    print(city.upper() + \":\")\n",
        "    for team in teams:\n",
        "        print(\"  + \" + team[\"name\"])\n",
        "\n",
        "#> ----------------------------\n",
        "#> BOSTON:\n",
        "#>   + Red Sox\n",
        "#> ----------------------------\n",
        "#> NEW HAVEN:\n",
        "#>   + Ravens\n",
        "#> ----------------------------\n",
        "#> NEW YORK:\n",
        "#>   + Yankees\n",
        "#>   + Mets\n",
        "```"
      ]
    },
    {
      "cell_type": "code",
      "metadata": {
        "id": "u82SSq8769jt"
      },
      "source": [
        "#\n",
        "# EXPLORATION CELL (GROUPING LISTS)\n",
        "#\n",
        "\n",
        "\n",
        "\n"
      ],
      "execution_count": null,
      "outputs": []
    }
  ]
}