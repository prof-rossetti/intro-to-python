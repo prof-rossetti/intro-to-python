{
  "nbformat": 4,
  "nbformat_minor": 0,
  "metadata": {
    "colab": {
      "provenance": [],
      "authorship_tag": "ABX9TyNmYQRdyfNxx/Jax9bxdAX2",
      "include_colab_link": true
    },
    "kernelspec": {
      "name": "python3",
      "display_name": "Python 3"
    }
  },
  "cells": [
    {
      "cell_type": "markdown",
      "metadata": {
        "id": "view-in-github",
        "colab_type": "text"
      },
      "source": [
        "<a href=\"https://colab.research.google.com/github/prof-rossetti/intro-to-python/blob/main/notes/python/Python_Language_Overview.ipynb\" target=\"_parent\"><img src=\"https://colab.research.google.com/assets/colab-badge.svg\" alt=\"Open In Colab\"/></a>"
      ]
    },
    {
      "cell_type": "markdown",
      "metadata": {
        "id": "ijw2OXs8Ut4M"
      },
      "source": [
        "\n",
        "Python Resources:\n",
        "  + [Python 3 Documentation](https://docs.python.org/3/reference/index.html)\n",
        "  + [Python 3 Tutorial](https://docs.python.org/3/tutorial/index.html)\n",
        "  + [Built-in Types](https://docs.python.org/3/library/stdtypes.html)\n",
        "  + [Built-in Functions](https://docs.python.org/3/library/functions.html)\n",
        "  + [Built-in Constants](https://docs.python.org/3/library/constants.html)\n",
        "  + [PEP 8 Style Guide](https://www.python.org/dev/peps/pep-0008/)\n",
        "  + [W3Schools Python Tutorial](https://www.w3schools.com/python/)"
      ]
    },
    {
      "cell_type": "markdown",
      "metadata": {
        "id": "2H6k43GCD3Jd"
      },
      "source": [
        "# Syntax and Style\n",
        "\n",
        "Reference: https://www.python.org/dev/peps/pep-0008/ for official style guidance.\n"
      ]
    },
    {
      "cell_type": "markdown",
      "metadata": {
        "id": "TqbHPkqmAA21"
      },
      "source": [
        "\n",
        "\n",
        "## Indentation\n",
        "\n",
        "Python enforces a line indentation style which distinguishes it from other languages. The indentation-level of a given line of Python code is very important. Always start at the left-margin, and if you need to indent a new line of code, do so using four spaces:\n",
        "\n",
        "\n",
        "    some line of code:\n",
        "        an indented line of code\n",
        "        another line of code at the first indentation level:\n",
        "            a line of code at a nested indentation level\n",
        "            this is starting to look like a snake maybe?\n",
        "            hence the name \"Python\"\n",
        "\n",
        "\n",
        "Unlike other languages, when you start a statement in Python, you don't need to also specify an explicit \"end\" of that statement. In other words, it is not necessary to close the statement at the same indentation-level from which it began.\n",
        "\n",
        "## Naming\n",
        "\n",
        "Always observe lower-case variable and function names. If your variable or function name is comprised of two words, use snake case, not camel-case. As usual, only use title case for class names. Use snake case for Python (`.py`) files as well.\n",
        "\n",
        "DO:\n",
        "\n",
        "  + `name`\n",
        "  + `first_name`\n",
        "  + `last_name`\n",
        "  + `first_and_last_name`\n",
        "  + `Human` - use title case for classes only\n",
        "  + `SuperHuman` - use title case for classes only\n",
        "  + `API_KEY` - use caps sparingly, for \"constants\", only if it is helpful for you\n",
        "\n",
        "DON'T:\n",
        "\n",
        "  + `firstName`\n",
        "  + `lastName`\n",
        "  + `firstAndLastName`\n",
        "\n",
        "> PROFESSOR'S SIDE-NOTE: When in doubt, use lowercase snake case like `my_var = ...` or `def my_func(): ...` . You'll see me sometimes use all caps variable names like `CSV_FILEPATH = ...` which I think is the cause of some confusion. In other languages, a variable name in all caps like this is a \"constant\", or a variable whose value can't be changed. Although this behavior does not apply to Python, I have carried over this convention into my Python out of habit, perhaps providing you with a poor example. I also generally do this when I'm converting environment variables into Python variables, for consistency there. But this isn't a rule and I encourage each of you to adopt a pattern that makes sense to you!\n",
        "\n",
        "## Style Checking\n",
        "\n",
        "Resources:\n",
        "\n",
        "  + https://pypi.org/project/autopep8/\n",
        "  + http://pep8online.com/\n",
        "  + https://codeclimate.com/"
      ]
    },
    {
      "cell_type": "markdown",
      "metadata": {
        "id": "fM-Uwjr3EBU2"
      },
      "source": [
        "# Comments\n"
      ]
    },
    {
      "cell_type": "markdown",
      "metadata": {
        "id": "MvNfLbufABjy"
      },
      "source": [
        "\n",
        "Use comments to convey some message or otherwise prevent code from being executed by the interpreter. Comment by using the `#` sign followed by the commented message:\n",
        "\n",
        "```python\n",
        "# This is a single-line comment. It won't be executed.\n",
        "```\n",
        "\n",
        "Unlike other languages, Python doesn't offer multi-line comments, so the best you can do is put a comment on every line:\n",
        "\n",
        "```python\n",
        "#\n",
        "# This is a multi-line comment.\n",
        "# It won't be executed.\n",
        "#\n",
        "```\n"
      ]
    },
    {
      "cell_type": "code",
      "metadata": {
        "id": "hH4gle2d0EaK"
      },
      "source": [
        "# EXPLORATION CELL\n",
        "\n",
        "\n",
        "\n"
      ],
      "execution_count": null,
      "outputs": []
    },
    {
      "cell_type": "markdown",
      "metadata": {
        "id": "vvzPdy0PEHri"
      },
      "source": [
        "# Printing and Logging\n"
      ]
    },
    {
      "cell_type": "markdown",
      "metadata": {
        "id": "Mo6V06O1AZ1e"
      },
      "source": [
        "\n",
        "Reference: https://docs.python.org/3/library/functions.html#print\n",
        "\n",
        "In Python, we use the `print()` statement to output information onto the command-line. This is helpful for providing user feedback, as well as for debugging purposes.\n",
        "\n",
        "```python\n",
        "print(\"HELLO WORLD\") #> HELLO WORLD\n",
        "```\n",
        "\n",
        "It is possible to print multiple objects, including different kinds of objects, by separating each with a comma:\n",
        "\n",
        "```python\n",
        "print(\"HELLO\", \"WORLD\") #> HELLO WORLD\n",
        "print(\"HELLO\", \"WORLD\", 5) #> HELLO WORLD 5\n",
        "```\n",
        "\n",
        "See also: pretty printing with [the `pprint` module](/notes/python/modules/pprint.md)."
      ]
    },
    {
      "cell_type": "code",
      "metadata": {
        "id": "6RcZ7dBm0M-z"
      },
      "source": [
        "# EXPLORATION CELL\n",
        "\n",
        "\n",
        "\n"
      ],
      "execution_count": null,
      "outputs": []
    },
    {
      "cell_type": "markdown",
      "metadata": {
        "id": "rb0CZGOyEwJq"
      },
      "source": [
        "# Debugging\n"
      ]
    },
    {
      "cell_type": "markdown",
      "metadata": {
        "id": "qRMcu-lEAd7E"
      },
      "source": [
        "Learning to identify and troubleshoot errors is an essential skill for any programmer. The functions below are helpful for  debugging purposes.\n",
        "\n",
        "Use the `help()` function to view documentation for a given type of object or datatype:\n",
        "\n",
        "```python\n",
        "help(str)\n",
        "```\n",
        "\n",
        "Use the `dir()` function to see what methods you can call on a given object.\n",
        "\n",
        "```python\n",
        "dir(\"Hello\")\n",
        "```\n",
        "\n",
        "Use the `type()` function to see what datatype the given object is.\n",
        "\n",
        "```python\n",
        "type(\"Hello\")\n",
        "```\n",
        "\n",
        "## Interactive Console\n",
        "\n",
        "Reference: https://docs.python.org/3/library/functions.html?highlight=breakpoint#breakpoint.\n",
        "\n",
        "As of a recent version of Python, you should be able to use the built-in `breakpoint()` function to drop an interactive breakpoint on any line of code. Once you run the script, it will stop at the breakpoint to facilitate further investigation:\n",
        "\n",
        "```python\n",
        "v = 1\n",
        "\n",
        "breakpoint()\n",
        "\n",
        "v = 2\n",
        "\n",
        "#> (Pdb) v\n",
        "#> 1\n",
        "#> (Pdb)\n",
        "```\n",
        "\n",
        "```python\n",
        "for i in [1, 2, 3, 4, 5]:\n",
        "    print(i)\n",
        "    if i == 4:\n",
        "        breakpoint()\n",
        "\n",
        "#> 1\n",
        "#> 2\n",
        "#> 3\n",
        "#> 4\n",
        "#> > /Users/mjr/Desktop/my_script.py(3)<module>()\n",
        "#> -> for i in [1, 2, 3, 4, 5]:\n",
        "#> (Pdb) i\n",
        "#> 4\n",
        "#> (Pdb)\n",
        "```\n",
        "\n",
        "> NOTE: the `breakpoint()` function is most helpful for local development, and may not be available in Colab with version before 3.7. But you can try the following shim to import it: `from pdb import set_trace as breakpoint`.\n"
      ]
    },
    {
      "cell_type": "code",
      "metadata": {
        "id": "u38jvQZR0Q5w"
      },
      "source": [
        "# EXPLORATION CELL\n",
        "\n",
        "\n",
        "\n",
        "\n"
      ],
      "execution_count": null,
      "outputs": []
    },
    {
      "cell_type": "markdown",
      "metadata": {
        "id": "fQgpJnOnEy_f"
      },
      "source": [
        "# Variables\n"
      ]
    },
    {
      "cell_type": "markdown",
      "metadata": {
        "id": "ahVNfsRbAh97"
      },
      "source": [
        "\n",
        "Use a variable to store some value in the program's temporary memory. Declare a variable using a name and assign its value by using a single equal sign (`=`) followed by the value. Any object can be stored in a variable:\n",
        "\n",
        "```python\n",
        "my_bool = True\n",
        "my_int = 10\n",
        "my_float = 0.45\n",
        "my_str = \"My Message\"\n",
        "my_list = [1,2,3,4]\n",
        "my_dict = {\"a\":1, \"b\":2, \"c\":3}\n",
        "```\n",
        "\n",
        "If you try to reference a variable that has not yet been defined, you will see an error like `NameError: name 'my_var' is not defined`.\n",
        "\n",
        "Don't be surprised if a variable's value changes. It is common to overwrite a variable's value by re-assigning it or manipulating it in some way:\n",
        "\n",
        "```python\n",
        "\n",
        "print(a) #> NameError\n",
        "\n",
        "a = 1\n",
        "print(a) #> 1\n",
        "\n",
        "a = 2\n",
        "print(a) #> 2\n",
        "\n",
        "a = a + 1\n",
        "print(a) #> 3\n",
        "```"
      ]
    },
    {
      "cell_type": "code",
      "metadata": {
        "id": "PYbqg_YzFrul",
        "colab": {
          "base_uri": "https://localhost:8080/"
        },
        "outputId": "1b6a8b58-1bb1-4095-d071-371b90aa576a"
      },
      "source": [
        "# EXPLORATION CELL\n",
        "\n",
        "\n",
        "# print(a) #> NameError\n",
        "\n",
        "a = 1\n",
        "print(a)\n",
        "\n",
        "\n",
        "\n",
        "\n",
        "\n"
      ],
      "execution_count": null,
      "outputs": [
        {
          "output_type": "stream",
          "name": "stdout",
          "text": [
            "1\n"
          ]
        }
      ]
    },
    {
      "cell_type": "markdown",
      "metadata": {
        "id": "FHMCc0_pF1Wn"
      },
      "source": [
        "# Control Flow / Conditionals\n"
      ]
    },
    {
      "cell_type": "markdown",
      "metadata": {
        "id": "yBHyKo6UApoG"
      },
      "source": [
        "\n",
        "\n",
        "  + https://docs.python.org/3/tutorial/controlflow.html#if-statements\n",
        "  + https://docs.python.org/3/tutorial/controlflow.html#for-statements\n",
        "  + https://docs.python.org/3/tutorial/controlflow.html#break-and-continue-statements-and-else-clauses-on-loops\n",
        "  + https://docs.python.org/3/tutorial/controlflow.html#pass-statements\n",
        "\n",
        "## If Statements\n",
        "\n",
        "Reference:\n",
        "\n",
        "  + https://docs.python.org/3/tutorial/controlflow.html#if-statements\n",
        "\n",
        "Use \"If\" statements to handle conditional logic (i.e. checking whether or not something is true and responding accordingly).\n",
        "\n",
        "In Python, an \"If\" statement is defined using the `if` keyword, followed by a condition to be evaluated, followed by a colon (`:`), followed by one or more indented lines which contain statement(s) to be executed if the condition is met.\n",
        "\n",
        "```python\n",
        "if True:\n",
        "    print(\"YES THIS IS TRUE\")\n",
        "\n",
        "#> YES THIS IS TRUE\n",
        "\n",
        "if 1 == 1:\n",
        "    print(\"YES THIS IS TRUE\")\n",
        "\n",
        "#> YES THIS IS TRUE\n",
        "\n",
        "if False:\n",
        "    print(\"YES THIS IS TRUE\")\n",
        "\n",
        "if 1 == 2:\n",
        "    print(\"YES THIS IS TRUE\")\n",
        "```\n",
        "\n",
        "An \"If\" statement may include an `else` keyword, followed by a colon (`:`), followed by one or more indented lines which contain statement(s) to be executed if the original condition is not met.\n",
        "\n",
        "```python\n",
        "if 1 == 2:\n",
        "    print(\"YES THIS IS TRUE\")\n",
        "else:\n",
        "    print(\"NO THIS IS FALSE\")\n",
        "\n",
        "#> NO THIS IS FALSE\n",
        "```\n",
        "\n",
        "An \"If\" statement, regardless of whether or not it contains an `else` keyword, can contain any number of `elif` keywords, each followed by a colon (`:`), followed by one or more indented lines which contain statement(s) to be executed if the condition is met. If there is an `else` keyword, it should come last.\n",
        "\n",
        "```python\n",
        "# run this script a few times in a row...\n",
        "import random\n",
        "\n",
        "fruit = random.choice([\"Apple\", \"Banana\", \"Orange\"])\n",
        "\n",
        "if fruit == \"Apple\":\n",
        "    print(\"WE GOT AN APPLE HERE\")\n",
        "elif fruit == \"Banana\":\n",
        "    print(\"WE GOT A BANANA HERE\")\n",
        "elif fruit == \"Orange\":\n",
        "    print(\"WE GOT AN ORANGE HERE\")\n",
        "else:\n",
        "    print(\"NOT SURE WHAT WE GOT HERE\")\n",
        "```\n",
        "\n",
        "As in other languages, statement order matters:\n",
        "\n",
        "```python\n",
        "if True:\n",
        "    print(\"First\")\n",
        "elif True:\n",
        "    print(\"Second\")\n",
        "\n",
        "#> \"First\"\n",
        "```\n",
        "\n",
        "## Case Statements\n",
        "\n",
        "Python doesn't have \"Case\" statements. Try to use an \"If\" statement or a dictionary to accomplish what you are trying to do."
      ]
    },
    {
      "cell_type": "code",
      "metadata": {
        "id": "UbFEM-YD0gaC"
      },
      "source": [
        "# EXPLORATION CELL\n",
        "\n",
        "\n",
        "\n",
        "\n",
        "\n",
        "\n",
        "\n",
        "\n",
        "\n"
      ],
      "execution_count": null,
      "outputs": []
    },
    {
      "cell_type": "markdown",
      "metadata": {
        "id": "G7NGrrcpFBRN"
      },
      "source": [
        "# Functions\n",
        "\n",
        "Reference:\n",
        "\n",
        "  + https://docs.python.org/3/tutorial/controlflow.html#defining-functions\n",
        "  + https://docs.python.org/3/tutorial/controlflow.html#more-on-defining-functions\n",
        "  + https://docs.python.org/3/tutorial/controlflow.html#default-argument-values\n",
        "  + https://docs.python.org/3/tutorial/controlflow.html#keyword-arguments\n"
      ]
    },
    {
      "cell_type": "markdown",
      "metadata": {
        "id": "x7v84mVnAloU"
      },
      "source": [
        "\n",
        "Use a function to define your own custom, re-usable operation. Like in other languages, Python functions must first be defined before they can be invoked (or called).\n",
        "\n",
        "Define a function:\n",
        "\n",
        "```python\n",
        "def do_stuff(): # NOTE: the trailing parentheses are required\n",
        "    print(\"DOING STUFF HERE!\")\n",
        "```\n",
        "\n",
        "Invoke the function:\n",
        "\n",
        "```python\n",
        "do_stuff() # NOTE: the trailing parentheses are important. If they are omitted, the function will be accessed but not be invoked\n",
        "```\n",
        "\n",
        "If you try to invoke a function before or without defining it, you will see an error like `NameError: name 'do_stuff' is not defined`.\n",
        "\n",
        "## Parameters (Input Values)\n",
        "\n",
        "Some functions accept parameters which can be passed to the function during its invocation. A function's parameters must be configured during the function's definition.\n",
        "\n",
        "### Single Parameter\n",
        "\n",
        "Define a function with a parameter:\n",
        "\n",
        "```python\n",
        "def do_stuff_with_param(message):\n",
        "    print(\"---------\")\n",
        "    print(message)\n",
        "    print(\"---------\")\n",
        "```\n",
        "\n",
        "In this case, `message` is the name of the function's parameter. Invoke it like so:\n",
        "\n",
        "```python\n",
        "do_stuff_with_param(\"HELLO!\")\n",
        "#> ---------\n",
        "#> HELLO!\n",
        "#> ---------\n",
        "\n",
        "do_stuff_with_param(\"HELLO AGAIN!\")\n",
        "#> ---------\n",
        "#> HELLO AGAIN!\n",
        "#> ---------\n",
        "```\n",
        "\n",
        "```python\n",
        "m = \"HELLO!\"\n",
        "do_stuff_with_param(m)\n",
        "#> ---------\n",
        "#> HELLO!\n",
        "#> ---------\n",
        "\n",
        "s = \"HELLO AGAIN!\"\n",
        "do_stuff_with_param(s)\n",
        "#> ---------\n",
        "#> HELLO AGAIN!\n",
        "#> ---------\n",
        "```\n",
        "\n",
        "### Multiple Parameters\n",
        "\n",
        "Defining a function with multiple parameters:\n",
        "\n",
        "```python\n",
        "def do_stuff_with_params(message, first_name, last_name):\n",
        "    print(\"'\" + message + \"', says \" + first_name + \" \" + last_name)\n",
        "```\n",
        "\n",
        "The order of the parameters during function definition corresponds with the order they should be passed during function invocation. In this case, `message`, `first_name` and `last_name` are the names of the function's parameters, in that order. So we can invoke the function like so:\n",
        "\n",
        "```python\n",
        "do_stuff_with_params(\"HELLO THERE\", \"Ophelia\", \"Clark\")\n",
        "#> 'HELLO THERE', says Ophelia Clark\n",
        "```\n",
        "\n",
        "It is possible to pass the parameters in a different order, by explicitly specifying the parameter name during function invocation:\n",
        "\n",
        "```python\n",
        "do_stuff_with_params(first_name= \"Ophelia\", message=\"HELLO THERE\", last_name=\"Clark\")\n",
        "#> 'HELLO THERE', says Ophelia Clark\n",
        "```\n",
        "\n",
        "\n",
        "## Return Values\n",
        "\n",
        "In order to have a function return some value when invoked, use the `return` keyword.\n",
        "\n",
        "A geometry-inspired example:\n",
        "\n",
        "```python\n",
        "def calculate_area(length, height):\n",
        "  length * height\n",
        "\n",
        "area = calculate_area(4, 2)\n",
        "print(area) #> None\n",
        "```\n",
        "\n",
        "```python\n",
        "def calculate_area(length, height):\n",
        "  return length * height\n",
        "\n",
        "area = calculate_area(4, 2)\n",
        "print(area) #> 8\n",
        "```\n",
        "\n",
        "An algebra-inspired example:\n",
        "\n",
        "```python\n",
        "# function definition (once only)\n",
        "\n",
        "def f(x):\n",
        "    return (2 * x) + 1\n",
        "\n",
        "# function invocation (potentially many times, as needed)\n",
        "\n",
        "y = f(5)\n",
        "print(y) #> 11\n",
        "\n",
        "z = f(10)\n",
        "print(z) #> 21\n",
        "```"
      ]
    },
    {
      "cell_type": "code",
      "metadata": {
        "id": "IElVoBCu0s47"
      },
      "source": [
        "# EXPLORATION CELL\n",
        "\n",
        "\n",
        "\n",
        "\n",
        "\n",
        "\n",
        "\n",
        "\n",
        "\n"
      ],
      "execution_count": null,
      "outputs": []
    }
  ]
}