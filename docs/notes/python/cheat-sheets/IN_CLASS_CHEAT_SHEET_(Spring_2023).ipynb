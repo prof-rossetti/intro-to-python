{
  "nbformat": 4,
  "nbformat_minor": 0,
  "metadata": {
    "colab": {
      "provenance": [],
      "collapsed_sections": [
        "rpnQEg_YeMeQ",
        "ds6ET5i4eQO7",
        "4-bfhqcNeSLL",
        "ytBi6NpGl4u7",
        "pEtmrNUCvIyv",
        "ain7Gqu-iTYU"
      ],
      "toc_visible": true,
      "authorship_tag": "ABX9TyM8FuzfOqbeeNXkks1LzoJC",
      "include_colab_link": true
    },
    "kernelspec": {
      "name": "python3",
      "display_name": "Python 3"
    },
    "language_info": {
      "name": "python"
    }
  },
  "cells": [
    {
      "cell_type": "markdown",
      "metadata": {
        "id": "view-in-github",
        "colab_type": "text"
      },
      "source": [
        "<a href=\"https://colab.research.google.com/github/prof-rossetti/intro-to-python/blob/main/notes/python/cheat-sheets/IN_CLASS_CHEAT_SHEET_(Spring_2023).ipynb\" target=\"_parent\"><img src=\"https://colab.research.google.com/assets/colab-badge.svg\" alt=\"Open In Colab\"/></a>"
      ]
    },
    {
      "cell_type": "markdown",
      "source": [
        "# Built In Functions\n",
        "\n",
        "https://docs.python.org/3/library/functions.html"
      ],
      "metadata": {
        "id": "rpnQEg_YeMeQ"
      }
    },
    {
      "cell_type": "markdown",
      "source": [
        "## Print Function"
      ],
      "metadata": {
        "id": "1vgU4Tf6eOh3"
      }
    },
    {
      "cell_type": "code",
      "source": [
        "print(\"HELLO WORLD\")"
      ],
      "metadata": {
        "colab": {
          "base_uri": "https://localhost:8080/"
        },
        "id": "VAcLU07seUHl",
        "outputId": "24faf399-f057-44a9-da29-ed13a3dca3a9"
      },
      "execution_count": null,
      "outputs": [
        {
          "output_type": "stream",
          "name": "stdout",
          "text": [
            "HELLO WORLD\n"
          ]
        }
      ]
    },
    {
      "cell_type": "code",
      "source": [
        "print(\"HELLO\", \"WORLD\", 10)"
      ],
      "metadata": {
        "colab": {
          "base_uri": "https://localhost:8080/"
        },
        "id": "4X6qG1YNeTxZ",
        "outputId": "5bf7fdbe-e659-4b7b-d95e-007159e253b8"
      },
      "execution_count": null,
      "outputs": [
        {
          "output_type": "stream",
          "name": "stdout",
          "text": [
            "HELLO WORLD 10\n"
          ]
        }
      ]
    },
    {
      "cell_type": "markdown",
      "source": [
        "## Input Function"
      ],
      "metadata": {
        "id": "cvThiz1bjZaU"
      }
    },
    {
      "cell_type": "code",
      "source": [
        "user_name = input(\"Please enter your name: \") \n",
        "\n",
        "print(user_name)"
      ],
      "metadata": {
        "colab": {
          "base_uri": "https://localhost:8080/"
        },
        "id": "F3QYFp9fjbDD",
        "outputId": "526f75fb-77bb-4769-d6ef-42647a2f534e"
      },
      "execution_count": null,
      "outputs": [
        {
          "output_type": "stream",
          "name": "stdout",
          "text": [
            "Please enter your name: John Carroll\n",
            "John Carroll\n"
          ]
        }
      ]
    },
    {
      "cell_type": "code",
      "source": [
        "x = input(\"Please input a number:\")\n",
        "\n",
        "print(type(x))\n",
        "print(x)\n",
        "\n",
        "x = float(x)\n",
        "print(type(x))\n",
        "print(x)"
      ],
      "metadata": {
        "colab": {
          "base_uri": "https://localhost:8080/"
        },
        "id": "ces3qthFkFCb",
        "outputId": "d2a442b4-7721-414f-9d81-169c534ee83b"
      },
      "execution_count": null,
      "outputs": [
        {
          "output_type": "stream",
          "name": "stdout",
          "text": [
            "Please input a number:9.8\n",
            "<class 'str'>\n",
            "9.8\n",
            "<class 'float'>\n",
            "9.8\n"
          ]
        }
      ]
    },
    {
      "cell_type": "markdown",
      "source": [
        "# Basic Datatypes"
      ],
      "metadata": {
        "id": "ds6ET5i4eQO7"
      }
    },
    {
      "cell_type": "code",
      "source": [
        "print(type(\"Hello\")) \n",
        "print(type(\"100\")) "
      ],
      "metadata": {
        "colab": {
          "base_uri": "https://localhost:8080/"
        },
        "id": "xNPqUtULeUqV",
        "outputId": "23983155-2999-4a31-a4e1-955ced39872f"
      },
      "execution_count": null,
      "outputs": [
        {
          "output_type": "stream",
          "name": "stdout",
          "text": [
            "<class 'str'>\n",
            "<class 'str'>\n"
          ]
        }
      ]
    },
    {
      "cell_type": "code",
      "source": [
        "print(type(100)) \n",
        "print(type(0.45)) "
      ],
      "metadata": {
        "colab": {
          "base_uri": "https://localhost:8080/"
        },
        "id": "wWpcgzNUf5bB",
        "outputId": "33b0aa74-a08b-4106-f00c-8831cec86634"
      },
      "execution_count": null,
      "outputs": [
        {
          "output_type": "stream",
          "name": "stdout",
          "text": [
            "<class 'int'>\n",
            "<class 'float'>\n"
          ]
        }
      ]
    },
    {
      "cell_type": "code",
      "source": [
        "print(type(True)) \n",
        "print(type(False)) "
      ],
      "metadata": {
        "colab": {
          "base_uri": "https://localhost:8080/"
        },
        "id": "IdDGpVF9f6YP",
        "outputId": "0917c772-740a-4879-b313-8f166976bc05"
      },
      "execution_count": null,
      "outputs": [
        {
          "output_type": "stream",
          "name": "stdout",
          "text": [
            "<class 'bool'>\n",
            "<class 'bool'>\n"
          ]
        }
      ]
    },
    {
      "cell_type": "code",
      "source": [
        "print(type(None)) "
      ],
      "metadata": {
        "colab": {
          "base_uri": "https://localhost:8080/"
        },
        "id": "-i_yPrk1gPQc",
        "outputId": "989810dd-a721-4804-825e-1423cf025680"
      },
      "execution_count": null,
      "outputs": [
        {
          "output_type": "stream",
          "name": "stdout",
          "text": [
            "<class 'NoneType'>\n"
          ]
        }
      ]
    },
    {
      "cell_type": "code",
      "source": [
        "print(type({\"a\":1, \"b\":2, \"c\":3})) "
      ],
      "metadata": {
        "colab": {
          "base_uri": "https://localhost:8080/"
        },
        "id": "6Z8VhXbUgq0J",
        "outputId": "9497aaa7-f6e3-4d67-9390-e1510d3ebbc7"
      },
      "execution_count": null,
      "outputs": [
        {
          "output_type": "stream",
          "name": "stdout",
          "text": [
            "<class 'dict'>\n"
          ]
        }
      ]
    },
    {
      "cell_type": "code",
      "source": [
        "print(type([1,2,3]))"
      ],
      "metadata": {
        "colab": {
          "base_uri": "https://localhost:8080/"
        },
        "id": "C0auybWTg5Hw",
        "outputId": "de09a2f2-890e-4f5e-f917-f161e8a277b8"
      },
      "execution_count": null,
      "outputs": [
        {
          "output_type": "stream",
          "name": "stdout",
          "text": [
            "<class 'list'>\n"
          ]
        }
      ]
    },
    {
      "cell_type": "markdown",
      "source": [
        "## Numbers"
      ],
      "metadata": {
        "id": "eZX7YN3mhNE-"
      }
    },
    {
      "cell_type": "code",
      "source": [
        "print(2 + 2)"
      ],
      "metadata": {
        "colab": {
          "base_uri": "https://localhost:8080/"
        },
        "id": "EppTCFpThPup",
        "outputId": "f44cb83c-bee4-480a-8c41-f45350ac5867"
      },
      "execution_count": null,
      "outputs": [
        {
          "output_type": "stream",
          "name": "stdout",
          "text": [
            "4\n"
          ]
        }
      ]
    },
    {
      "cell_type": "code",
      "source": [
        "5 * 5\n",
        "# print(5 * 5)\n",
        "\n",
        "print(2 + 2)"
      ],
      "metadata": {
        "colab": {
          "base_uri": "https://localhost:8080/"
        },
        "id": "SgDQWTqmhY4e",
        "outputId": "b71fd53c-4acd-47da-b568-2e96182dc0c9"
      },
      "execution_count": null,
      "outputs": [
        {
          "output_type": "stream",
          "name": "stdout",
          "text": [
            "4\n"
          ]
        }
      ]
    },
    {
      "cell_type": "code",
      "source": [
        "print(2+2)\n",
        "\n",
        "5 * 5"
      ],
      "metadata": {
        "colab": {
          "base_uri": "https://localhost:8080/"
        },
        "id": "EibqXWDFhrjM",
        "outputId": "e743f178-64fa-4578-de0b-f1d3b2d6ed97"
      },
      "execution_count": null,
      "outputs": [
        {
          "output_type": "stream",
          "name": "stdout",
          "text": [
            "4\n"
          ]
        },
        {
          "output_type": "execute_result",
          "data": {
            "text/plain": [
              "25"
            ]
          },
          "metadata": {},
          "execution_count": 16
        }
      ]
    },
    {
      "cell_type": "code",
      "source": [
        "print(2+2)"
      ],
      "metadata": {
        "colab": {
          "base_uri": "https://localhost:8080/"
        },
        "id": "GbqMf5F3iHDv",
        "outputId": "55de4c41-9154-4ddb-dfb7-817c79dc71db"
      },
      "execution_count": null,
      "outputs": [
        {
          "output_type": "stream",
          "name": "stdout",
          "text": [
            "4\n"
          ]
        }
      ]
    },
    {
      "cell_type": "code",
      "source": [
        "x = 5\n",
        "print(x)"
      ],
      "metadata": {
        "colab": {
          "base_uri": "https://localhost:8080/"
        },
        "id": "b5QmsHpuiQNu",
        "outputId": "abbb3e96-60fe-4f33-81f0-7ee58bbfd2a9"
      },
      "execution_count": null,
      "outputs": [
        {
          "output_type": "stream",
          "name": "stdout",
          "text": [
            "5\n"
          ]
        }
      ]
    },
    {
      "cell_type": "code",
      "source": [
        "y=10\n",
        "print(y)"
      ],
      "metadata": {
        "colab": {
          "base_uri": "https://localhost:8080/"
        },
        "id": "U0kyZ5k3iS55",
        "outputId": "22074f57-df6e-4028-a68f-f8d91380295e"
      },
      "execution_count": null,
      "outputs": [
        {
          "output_type": "stream",
          "name": "stdout",
          "text": [
            "10\n"
          ]
        }
      ]
    },
    {
      "cell_type": "markdown",
      "source": [
        "## Strings"
      ],
      "metadata": {
        "id": "lQpbh3TJhL3i"
      }
    },
    {
      "cell_type": "code",
      "source": [
        "print(\"THERE IS CONSTRUCTION OUTSIDE\")"
      ],
      "metadata": {
        "colab": {
          "base_uri": "https://localhost:8080/"
        },
        "id": "vxuepNBzhPVq",
        "outputId": "f2c6bcb6-6765-4b2c-83c4-2751c22877da"
      },
      "execution_count": null,
      "outputs": [
        {
          "output_type": "stream",
          "name": "stdout",
          "text": [
            "THERE IS CONSTRUCTION OUTSIDE\n"
          ]
        }
      ]
    },
    {
      "cell_type": "code",
      "source": [
        "message = \"THERE IS CONSTRUCTION OUTSIDE\"\n",
        "print(message)"
      ],
      "metadata": {
        "colab": {
          "base_uri": "https://localhost:8080/"
        },
        "id": "qA9iEHWgig9h",
        "outputId": "7a6ba9db-99c1-4270-89f9-125e35a7c128"
      },
      "execution_count": null,
      "outputs": [
        {
          "output_type": "stream",
          "name": "stdout",
          "text": [
            "THERE IS CONSTRUCTION OUTSIDE\n"
          ]
        }
      ]
    },
    {
      "cell_type": "markdown",
      "source": [
        "Concatenation"
      ],
      "metadata": {
        "id": "EJiMWAnZi6ED"
      }
    },
    {
      "cell_type": "code",
      "source": [
        "\"HELLO\" + \"WORLD\""
      ],
      "metadata": {
        "colab": {
          "base_uri": "https://localhost:8080/",
          "height": 35
        },
        "id": "nYNh3PuVilWV",
        "outputId": "677812c6-d300-4ad9-8725-801ca25c7dcf"
      },
      "execution_count": null,
      "outputs": [
        {
          "output_type": "execute_result",
          "data": {
            "text/plain": [
              "'HELLOWORLD'"
            ],
            "application/vnd.google.colaboratory.intrinsic+json": {
              "type": "string"
            }
          },
          "metadata": {},
          "execution_count": 22
        }
      ]
    },
    {
      "cell_type": "code",
      "source": [
        "\"HELLO \" + \"WORLD\""
      ],
      "metadata": {
        "colab": {
          "base_uri": "https://localhost:8080/",
          "height": 35
        },
        "id": "0rdw3_fEi_Pv",
        "outputId": "7c4a87dc-8a44-4afa-fb24-35a79d38ecd4"
      },
      "execution_count": null,
      "outputs": [
        {
          "output_type": "execute_result",
          "data": {
            "text/plain": [
              "'HELLO WORLD'"
            ],
            "application/vnd.google.colaboratory.intrinsic+json": {
              "type": "string"
            }
          },
          "metadata": {},
          "execution_count": 23
        }
      ]
    },
    {
      "cell_type": "code",
      "source": [
        "\"HELLO\" + \" WORLD\""
      ],
      "metadata": {
        "colab": {
          "base_uri": "https://localhost:8080/",
          "height": 35
        },
        "id": "05kwow1tjF0d",
        "outputId": "ab4da8bd-f037-466e-9277-18811f3e7ed0"
      },
      "execution_count": null,
      "outputs": [
        {
          "output_type": "execute_result",
          "data": {
            "text/plain": [
              "'HELLO WORLD'"
            ],
            "application/vnd.google.colaboratory.intrinsic+json": {
              "type": "string"
            }
          },
          "metadata": {},
          "execution_count": 24
        }
      ]
    },
    {
      "cell_type": "code",
      "source": [
        "\"HELLO\" + \" \" + \"WORLD\""
      ],
      "metadata": {
        "colab": {
          "base_uri": "https://localhost:8080/",
          "height": 35
        },
        "id": "vA6PGIb1jHb5",
        "outputId": "9c629616-e588-40a4-87f9-2bd28d378894"
      },
      "execution_count": null,
      "outputs": [
        {
          "output_type": "execute_result",
          "data": {
            "text/plain": [
              "'HELLO WORLD'"
            ],
            "application/vnd.google.colaboratory.intrinsic+json": {
              "type": "string"
            }
          },
          "metadata": {},
          "execution_count": 25
        }
      ]
    },
    {
      "cell_type": "code",
      "source": [
        "print(2 + 2)\n",
        "\n",
        "print(\"2\" + \"2\")\n",
        "\n",
        "# print(2 + \"2\") #> TypeError: unsupported operand type(s) for +: 'int' and 'str'"
      ],
      "metadata": {
        "colab": {
          "base_uri": "https://localhost:8080/"
        },
        "id": "NUDc7DuyjSax",
        "outputId": "67065c06-c200-4dd4-cc4a-cb8b97689408"
      },
      "execution_count": null,
      "outputs": [
        {
          "output_type": "stream",
          "name": "stdout",
          "text": [
            "4\n",
            "22\n"
          ]
        }
      ]
    },
    {
      "cell_type": "markdown",
      "source": [
        "## Booleans"
      ],
      "metadata": {
        "id": "iOmDak3chOVb"
      }
    },
    {
      "cell_type": "code",
      "source": [
        "print(True)\n",
        "\n",
        "print(False)"
      ],
      "metadata": {
        "colab": {
          "base_uri": "https://localhost:8080/"
        },
        "id": "_F9koW6PhQMa",
        "outputId": "816c3693-e01a-4d59-ae19-a7e7954e2d75"
      },
      "execution_count": null,
      "outputs": [
        {
          "output_type": "stream",
          "name": "stdout",
          "text": [
            "True\n",
            "False\n"
          ]
        }
      ]
    },
    {
      "cell_type": "code",
      "source": [
        "True == False"
      ],
      "metadata": {
        "colab": {
          "base_uri": "https://localhost:8080/"
        },
        "id": "5H_nbLDfkhRc",
        "outputId": "00d4caaa-b413-41b5-f9e3-901d3805c213"
      },
      "execution_count": null,
      "outputs": [
        {
          "output_type": "execute_result",
          "data": {
            "text/plain": [
              "False"
            ]
          },
          "metadata": {},
          "execution_count": 31
        }
      ]
    },
    {
      "cell_type": "code",
      "source": [
        "2+2 == 4"
      ],
      "metadata": {
        "colab": {
          "base_uri": "https://localhost:8080/"
        },
        "id": "pTp8u8sGkkxD",
        "outputId": "1da33df4-57ea-4ddb-bfe9-2d861535da79"
      },
      "execution_count": null,
      "outputs": [
        {
          "output_type": "execute_result",
          "data": {
            "text/plain": [
              "True"
            ]
          },
          "metadata": {},
          "execution_count": 32
        }
      ]
    },
    {
      "cell_type": "code",
      "source": [
        "x = 5 # variable assignment using single =\n",
        "print(x)\n",
        "\n",
        "print(x == 4) # comparing\n",
        "print(x != 4)\n",
        "print(x > 4)"
      ],
      "metadata": {
        "colab": {
          "base_uri": "https://localhost:8080/"
        },
        "id": "l614JVvIkq4f",
        "outputId": "4bafd65e-8a23-4b81-f222-b8ceae662235"
      },
      "execution_count": null,
      "outputs": [
        {
          "output_type": "stream",
          "name": "stdout",
          "text": [
            "5\n",
            "False\n",
            "True\n",
            "True\n"
          ]
        }
      ]
    },
    {
      "cell_type": "code",
      "source": [],
      "metadata": {
        "id": "XgYrqur1kwn2"
      },
      "execution_count": null,
      "outputs": []
    },
    {
      "cell_type": "markdown",
      "source": [
        "# Conditional Logic"
      ],
      "metadata": {
        "id": "4-bfhqcNeSLL"
      }
    },
    {
      "cell_type": "code",
      "execution_count": null,
      "metadata": {
        "colab": {
          "base_uri": "https://localhost:8080/"
        },
        "id": "aFccr05KeB5j",
        "outputId": "91b65630-257d-4844-f02e-c4e67f5fa3d9"
      },
      "outputs": [
        {
          "output_type": "stream",
          "name": "stdout",
          "text": [
            "YEP\n",
            "BOTTOM\n"
          ]
        }
      ],
      "source": [
        "x = 10\n",
        "\n",
        "# if logical condition:\n",
        "#     something to do if the condition is met\n",
        "\n",
        "if x > 5:\n",
        "    print(\"YEP\")\n",
        "\n",
        "\n",
        "if x < 8:\n",
        "    print(\"LESS THAN\")\n",
        "\n",
        "\n",
        "print(\"BOTTOM\")"
      ]
    },
    {
      "cell_type": "code",
      "source": [
        "x = 10\n",
        "\n",
        "if x > 5:\n",
        "    print(\"YEP\")\n",
        "else:\n",
        "    print(\"NOPE\")\n",
        "\n",
        "\n",
        "print(\"BOTTOM\")"
      ],
      "metadata": {
        "colab": {
          "base_uri": "https://localhost:8080/"
        },
        "id": "nx0QG-ANmMTb",
        "outputId": "44f0eaa9-85d2-4dd0-eb40-e104e15c9cfc"
      },
      "execution_count": null,
      "outputs": [
        {
          "output_type": "stream",
          "name": "stdout",
          "text": [
            "YEP\n",
            "BOTTOM\n"
          ]
        }
      ]
    },
    {
      "cell_type": "code",
      "source": [
        "x = 10\n",
        "\n",
        "if x > 100:\n",
        "    print(\"YEP\")\n",
        "elif x > 2:\n",
        "    print(\"GREATER THAN TWO\")\n",
        "elif x == 10:\n",
        "    print(\"EQUAL TO TEN\")\n",
        "else:\n",
        "    print(\"NOPE\")\n",
        "\n",
        "\n",
        "print(\"BOTTOM\")"
      ],
      "metadata": {
        "colab": {
          "base_uri": "https://localhost:8080/"
        },
        "id": "md5Utgs5mcNo",
        "outputId": "5e1c8271-d4b9-4c35-8ea4-899b2a90153c"
      },
      "execution_count": null,
      "outputs": [
        {
          "output_type": "stream",
          "name": "stdout",
          "text": [
            "GREATER THAN TWO\n",
            "BOTTOM\n"
          ]
        }
      ]
    },
    {
      "cell_type": "markdown",
      "source": [
        "Using compound expressions:"
      ],
      "metadata": {
        "id": "XtjFchJrnn1X"
      }
    },
    {
      "cell_type": "code",
      "source": [
        "x = 5\n",
        "y = 10\n",
        "\n",
        "if x == 5 and y == 100:\n",
        "    print(\"YEP\")\n",
        "\n",
        "print(\"BOTTOM\")"
      ],
      "metadata": {
        "colab": {
          "base_uri": "https://localhost:8080/"
        },
        "id": "ekllDKernpOw",
        "outputId": "7ea1f244-755f-4667-c35c-8af93dda4880"
      },
      "execution_count": null,
      "outputs": [
        {
          "output_type": "stream",
          "name": "stdout",
          "text": [
            "BOTTOM\n"
          ]
        }
      ]
    },
    {
      "cell_type": "code",
      "source": [
        "if x == 5 or y == 100:\n",
        "    print(\"YEP\")\n",
        "\n",
        "print(\"BOTTOM\")"
      ],
      "metadata": {
        "colab": {
          "base_uri": "https://localhost:8080/"
        },
        "id": "cl6QX6MbnvCo",
        "outputId": "ca3174c9-ab7c-4878-dde1-e5f7bf644ee1"
      },
      "execution_count": null,
      "outputs": [
        {
          "output_type": "stream",
          "name": "stdout",
          "text": [
            "YEP\n",
            "BOTTOM\n"
          ]
        }
      ]
    },
    {
      "cell_type": "markdown",
      "source": [
        "# Python Modules"
      ],
      "metadata": {
        "id": "ytBi6NpGl4u7"
      }
    },
    {
      "cell_type": "markdown",
      "source": [
        "## The getpass Module"
      ],
      "metadata": {
        "id": "4KLXTUNxl7id"
      }
    },
    {
      "cell_type": "markdown",
      "source": [
        "For secure / masked user inputs"
      ],
      "metadata": {
        "id": "r23_NwCHl9FH"
      }
    },
    {
      "cell_type": "code",
      "source": [
        "# import module name\n",
        "import getpass\n",
        "\n",
        "my_password = getpass.getpass(\"Please input your secret password: \")\n",
        "\n",
        "print(len(my_password)) # how many characters"
      ],
      "metadata": {
        "colab": {
          "base_uri": "https://localhost:8080/"
        },
        "id": "YycP0Sklm85N",
        "outputId": "e666abe8-1e7c-4e45-e2fd-26f39440db45"
      },
      "execution_count": null,
      "outputs": [
        {
          "output_type": "stream",
          "name": "stdout",
          "text": [
            "Please input your secret password: ··········\n",
            "9\n"
          ]
        }
      ]
    },
    {
      "cell_type": "code",
      "source": [
        "# import module name as alias name\n",
        "import getpass as gp\n",
        "\n",
        "my_password = gp.getpass(\"Please input your secret password: \")\n",
        "\n",
        "print(len(my_password)) # how many characters"
      ],
      "metadata": {
        "colab": {
          "base_uri": "https://localhost:8080/"
        },
        "id": "0o0wAKmUnLNO",
        "outputId": "8cf35001-0c6f-477b-c1e7-fe9268f9b18b"
      },
      "execution_count": null,
      "outputs": [
        {
          "output_type": "stream",
          "name": "stdout",
          "text": [
            "Please input your secret password: ··········\n",
            "10\n"
          ]
        }
      ]
    },
    {
      "cell_type": "code",
      "source": [
        "# from module name import function name\n",
        "from getpass import getpass\n",
        "\n",
        "my_password = getpass(\"Please input your secret password: \")\n",
        "\n",
        "print(len(my_password)) # how many characters"
      ],
      "metadata": {
        "colab": {
          "base_uri": "https://localhost:8080/"
        },
        "id": "I7X-t3iZl_Sg",
        "outputId": "b25fe511-a0ed-4fe9-a6f6-f632e144d5b2"
      },
      "execution_count": null,
      "outputs": [
        {
          "output_type": "stream",
          "name": "stdout",
          "text": [
            "Please input your secret password: ··········\n",
            "27\n"
          ]
        }
      ]
    },
    {
      "cell_type": "markdown",
      "source": [
        "## The random Module\n",
        "\n",
        "https://docs.python.org/3/library/random.html"
      ],
      "metadata": {
        "id": "nFy7Z_KXnlRn"
      }
    },
    {
      "cell_type": "code",
      "source": [
        "import random\n",
        "\n",
        "# generate a random number\n",
        "x = random.random()\n",
        "print(x)"
      ],
      "metadata": {
        "colab": {
          "base_uri": "https://localhost:8080/"
        },
        "id": "zUmIzJ3qoVag",
        "outputId": "9f7431b5-b4bf-4f90-9485-f32f6b7fe4b4"
      },
      "execution_count": null,
      "outputs": [
        {
          "output_type": "stream",
          "name": "stdout",
          "text": [
            "0.25236309836064164\n"
          ]
        }
      ]
    },
    {
      "cell_type": "code",
      "source": [
        "flavors = [\"vanilla bean\", \"chocolate\", \"strawberry\"]\n",
        "\n",
        "# how can we print one of these at random?\n",
        "\n",
        "random.choice(flavors)\n"
      ],
      "metadata": {
        "colab": {
          "base_uri": "https://localhost:8080/"
        },
        "id": "QBezh0ffpXbZ",
        "outputId": "a78b1318-10eb-4f40-d513-ed2cea4c2fb2"
      },
      "execution_count": null,
      "outputs": [
        {
          "output_type": "execute_result",
          "data": {
            "text/plain": [
              "'vanilla bean'"
            ],
            "application/vnd.google.colaboratory.intrinsic+json": {
              "type": "string"
            }
          },
          "metadata": {},
          "execution_count": 15
        }
      ]
    },
    {
      "cell_type": "markdown",
      "source": [
        "\n",
        "# Colab Form Inputs"
      ],
      "metadata": {
        "id": "pEtmrNUCvIyv"
      }
    },
    {
      "cell_type": "markdown",
      "source": [
        "Just a Colab thing. Not a Python thing."
      ],
      "metadata": {
        "id": "9Ezdp3CUvMaA"
      }
    },
    {
      "cell_type": "code",
      "source": [
        "\n",
        "\n",
        "pick_me = \"thursday\"  #@param ['monday', 'tuesday', 'wednesday', 'thursday', 'friday']\n",
        "\n",
        "print(pick_me)"
      ],
      "metadata": {
        "colab": {
          "base_uri": "https://localhost:8080/"
        },
        "id": "dlBscQvyvkN_",
        "outputId": "ed231728-633a-431e-dcaa-8a30185c6f08"
      },
      "execution_count": null,
      "outputs": [
        {
          "output_type": "stream",
          "name": "stdout",
          "text": [
            "tuesday\n"
          ]
        }
      ]
    },
    {
      "cell_type": "code",
      "source": [
        "day = input(\"Please choose a day of week: \")\n",
        "\n",
        "print(day)"
      ],
      "metadata": {
        "colab": {
          "base_uri": "https://localhost:8080/"
        },
        "id": "X4eH7ThDwmdm",
        "outputId": "9ab9681e-903d-408c-eb2a-a333710dbae1"
      },
      "execution_count": null,
      "outputs": [
        {
          "output_type": "stream",
          "name": "stdout",
          "text": [
            "Please choose a day of week: OOPS\n",
            "OOPS\n"
          ]
        }
      ]
    },
    {
      "cell_type": "markdown",
      "source": [
        "# Container Datatypes"
      ],
      "metadata": {
        "id": "ain7Gqu-iTYU"
      }
    },
    {
      "cell_type": "markdown",
      "source": [
        "## List"
      ],
      "metadata": {
        "id": "wLY9q4MoiVWI"
      }
    },
    {
      "cell_type": "code",
      "source": [
        "flavors = [\"vanilla bean\", \"chocolate\", \"strawberry\"]\n",
        "print(type(flavors))\n",
        "print(flavors)"
      ],
      "metadata": {
        "colab": {
          "base_uri": "https://localhost:8080/"
        },
        "id": "Qq451QqgiZ7W",
        "outputId": "c8c59d68-6812-4702-9537-9e161b0e7ad8"
      },
      "execution_count": null,
      "outputs": [
        {
          "output_type": "stream",
          "name": "stdout",
          "text": [
            "<class 'list'>\n",
            "['vanilla bean', 'chocolate', 'strawberry']\n"
          ]
        }
      ]
    },
    {
      "cell_type": "markdown",
      "source": [
        "Counting items in a list:"
      ],
      "metadata": {
        "id": "TkQas4VAjJWU"
      }
    },
    {
      "cell_type": "code",
      "source": [
        "len(flavors)"
      ],
      "metadata": {
        "colab": {
          "base_uri": "https://localhost:8080/"
        },
        "id": "bqOckJAHim1H",
        "outputId": "b952f315-7b4e-4276-d7e2-0a248a7385fb"
      },
      "execution_count": null,
      "outputs": [
        {
          "output_type": "execute_result",
          "data": {
            "text/plain": [
              "3"
            ]
          },
          "metadata": {},
          "execution_count": 8
        }
      ]
    },
    {
      "cell_type": "markdown",
      "source": [
        "Access any item in a list by its numeric position\n",
        "\n",
        "List index starts at 0."
      ],
      "metadata": {
        "id": "4MHhFt1xjQQw"
      }
    },
    {
      "cell_type": "code",
      "source": [
        "print(flavors)\n",
        "\n",
        "vb = flavors[0]\n",
        "print(vb)\n",
        "\n",
        "c = flavors[1]\n",
        "print(c)\n",
        "\n",
        "s = flavors[2]\n",
        "print(s)"
      ],
      "metadata": {
        "colab": {
          "base_uri": "https://localhost:8080/"
        },
        "id": "0uiihkx-jUNe",
        "outputId": "5e5164bc-7b2d-402a-db1d-b3d403abb518"
      },
      "execution_count": null,
      "outputs": [
        {
          "output_type": "stream",
          "name": "stdout",
          "text": [
            "['vanilla bean', 'chocolate', 'strawberry']\n",
            "vanilla bean\n",
            "chocolate\n",
            "strawberry\n"
          ]
        }
      ]
    },
    {
      "cell_type": "code",
      "source": [
        "#print(flavors[5]) #> IndexError: list index out of range"
      ],
      "metadata": {
        "id": "RSJ7FPgWkA04"
      },
      "execution_count": null,
      "outputs": []
    },
    {
      "cell_type": "code",
      "source": [
        "flavors[-1]"
      ],
      "metadata": {
        "colab": {
          "base_uri": "https://localhost:8080/",
          "height": 35
        },
        "id": "ZmgWztKvkVuP",
        "outputId": "7df38b8b-e494-4e1a-c2f2-ff11902cdf2c"
      },
      "execution_count": null,
      "outputs": [
        {
          "output_type": "execute_result",
          "data": {
            "text/plain": [
              "'strawberry'"
            ],
            "application/vnd.google.colaboratory.intrinsic+json": {
              "type": "string"
            }
          },
          "metadata": {},
          "execution_count": 16
        }
      ]
    },
    {
      "cell_type": "markdown",
      "source": [
        "Add an item to the end of a list:"
      ],
      "metadata": {
        "id": "ZXQLVEPGkdk_"
      }
    },
    {
      "cell_type": "code",
      "source": [
        "print(flavors)\n",
        "\n",
        "flavors.append(\"mint choc chip\") # MUTATING\n",
        "\n",
        "print(flavors)\n",
        "\n",
        "print(flavors[-1])"
      ],
      "metadata": {
        "colab": {
          "base_uri": "https://localhost:8080/"
        },
        "id": "kEzHynsJkdH7",
        "outputId": "658f66aa-d62e-4a4d-c0ce-507012c61854"
      },
      "execution_count": null,
      "outputs": [
        {
          "output_type": "stream",
          "name": "stdout",
          "text": [
            "['vanilla bean', 'chocolate', 'strawberry', 'mint choc chip']\n",
            "['vanilla bean', 'chocolate', 'strawberry', 'mint choc chip', 'mint choc chip']\n",
            "mint choc chip\n"
          ]
        }
      ]
    },
    {
      "cell_type": "markdown",
      "source": [
        "Conditionally add an item to the list:"
      ],
      "metadata": {
        "id": "gE8UyaAilPkw"
      }
    },
    {
      "cell_type": "code",
      "source": [
        "x = \"carmel\"\n",
        "\n",
        "if x not in flavors:\n",
        "    flavors.append(x)\n",
        "\n",
        "print(flavors)"
      ],
      "metadata": {
        "colab": {
          "base_uri": "https://localhost:8080/"
        },
        "id": "8c8s99FtlRMq",
        "outputId": "08714cfb-cda4-40ed-9b93-1add73ea58e6"
      },
      "execution_count": null,
      "outputs": [
        {
          "output_type": "stream",
          "name": "stdout",
          "text": [
            "['vanilla bean', 'chocolate', 'strawberry', 'mint choc chip', 'mint choc chip', 'carmel']\n"
          ]
        }
      ]
    },
    {
      "cell_type": "markdown",
      "source": [
        "Add multiple items to a list:"
      ],
      "metadata": {
        "id": "7qnodlwPk85R"
      }
    },
    {
      "cell_type": "code",
      "source": [
        "flavors + [\"pistachio\", \"coffee\"]\n"
      ],
      "metadata": {
        "colab": {
          "base_uri": "https://localhost:8080/"
        },
        "id": "ZzO08PvVlAVC",
        "outputId": "34ff1e9f-4b8c-450c-a984-6d931bdb523a"
      },
      "execution_count": null,
      "outputs": [
        {
          "output_type": "stream",
          "name": "stdout",
          "text": [
            "['vanilla bean', 'chocolate', 'strawberry', 'mint choc chip', 'mint choc chip', 'carmel']\n"
          ]
        }
      ]
    },
    {
      "cell_type": "code",
      "source": [
        "x = 2\n",
        "x = x + 10\n",
        "print(x)"
      ],
      "metadata": {
        "colab": {
          "base_uri": "https://localhost:8080/"
        },
        "id": "g3wcz44_l2aM",
        "outputId": "8c701793-6481-4b62-88ae-2ef2acf918cd"
      },
      "execution_count": null,
      "outputs": [
        {
          "output_type": "stream",
          "name": "stdout",
          "text": [
            "12\n"
          ]
        }
      ]
    },
    {
      "cell_type": "code",
      "source": [
        "x += 10\n",
        "print(x)"
      ],
      "metadata": {
        "colab": {
          "base_uri": "https://localhost:8080/"
        },
        "id": "OcFmJWLdmA1U",
        "outputId": "b88cbbd7-d7e7-436c-fe13-7e9a8a1343cf"
      },
      "execution_count": null,
      "outputs": [
        {
          "output_type": "stream",
          "name": "stdout",
          "text": [
            "22\n"
          ]
        }
      ]
    },
    {
      "cell_type": "code",
      "source": [
        "flavors = flavors + [\"pistachio\", \"coffee\"]\n",
        "print(flavors)"
      ],
      "metadata": {
        "id": "dYghnLAplwj-"
      },
      "execution_count": null,
      "outputs": []
    },
    {
      "cell_type": "code",
      "source": [
        "flavors += [\"pistachio\", \"coffee\"]\n",
        "print(flavors)"
      ],
      "metadata": {
        "colab": {
          "base_uri": "https://localhost:8080/"
        },
        "id": "aTaSn4KYmHKb",
        "outputId": "98fe22c8-08ee-4ad2-e6a7-defc6d35edd8"
      },
      "execution_count": null,
      "outputs": [
        {
          "output_type": "stream",
          "name": "stdout",
          "text": [
            "['vanilla bean', 'chocolate', 'strawberry', 'mint choc chip', 'mint choc chip', 'carmel', 'pistachio', 'coffee', 'pistachio', 'coffee']\n"
          ]
        }
      ]
    },
    {
      "cell_type": "markdown",
      "source": [
        "Removing items from a list:\n"
      ],
      "metadata": {
        "id": "wyTOdVCFn_Hz"
      }
    },
    {
      "cell_type": "code",
      "source": [
        "letters = [\"a\", \"b\", \"c\"]\n",
        "print(letters)\n",
        "\n",
        "del letters[0] # MUTATING\n",
        "\n",
        "print(letters)"
      ],
      "metadata": {
        "colab": {
          "base_uri": "https://localhost:8080/"
        },
        "id": "KxifcLYvoBY3",
        "outputId": "6bc8ca96-e58f-4280-c00e-030f88d94084"
      },
      "execution_count": null,
      "outputs": [
        {
          "output_type": "stream",
          "name": "stdout",
          "text": [
            "['a', 'b', 'c']\n",
            "['b', 'c']\n"
          ]
        }
      ]
    },
    {
      "cell_type": "markdown",
      "source": [
        "Loop through a list and access each item one at a time:"
      ],
      "metadata": {
        "id": "U4XBlPJOmQud"
      }
    },
    {
      "cell_type": "code",
      "source": [
        "print(flavors)\n",
        "\n",
        "# for ________ in _________:\n",
        "#     ___________________\n",
        "\n",
        "# for SOME ITEM in EXISTING LIST OF ITEMS:\n",
        "#     DO SOMETHING WITH THAT ITEM"
      ],
      "metadata": {
        "colab": {
          "base_uri": "https://localhost:8080/"
        },
        "id": "UtdWjgGbmTmq",
        "outputId": "6a22985d-45ae-40d8-a59d-d2f8ca64760e"
      },
      "execution_count": null,
      "outputs": [
        {
          "output_type": "stream",
          "name": "stdout",
          "text": [
            "['vanilla bean', 'chocolate', 'strawberry', 'mint choc chip', 'mint choc chip', 'carmel', 'pistachio', 'coffee', 'pistachio', 'coffee']\n"
          ]
        }
      ]
    },
    {
      "cell_type": "code",
      "source": [
        "for f in flavors:\n",
        "    print(\"------\")\n",
        "    print(f)\n",
        "    # nothing else happening\n"
      ],
      "metadata": {
        "colab": {
          "base_uri": "https://localhost:8080/"
        },
        "id": "ExTeIS1fmsOu",
        "outputId": "fd115de9-75cf-402b-f753-0266f975d1a3"
      },
      "execution_count": null,
      "outputs": [
        {
          "output_type": "stream",
          "name": "stdout",
          "text": [
            "------\n",
            "vanilla bean\n",
            "------\n",
            "chocolate\n",
            "------\n",
            "strawberry\n",
            "------\n",
            "mint choc chip\n",
            "------\n",
            "mint choc chip\n",
            "------\n",
            "carmel\n",
            "------\n",
            "pistachio\n",
            "------\n",
            "coffee\n",
            "------\n",
            "pistachio\n",
            "------\n",
            "coffee\n"
          ]
        }
      ]
    },
    {
      "cell_type": "code",
      "source": [
        "for item in flavors:\n",
        "    print(\"------\")\n",
        "    print(item)\n",
        "    # nothing else happening\n"
      ],
      "metadata": {
        "colab": {
          "base_uri": "https://localhost:8080/"
        },
        "id": "JHDICDEOnlHY",
        "outputId": "888289b1-9966-4481-dc6b-25f24450d673"
      },
      "execution_count": null,
      "outputs": [
        {
          "output_type": "stream",
          "name": "stdout",
          "text": [
            "------\n",
            "vanilla bean\n",
            "------\n",
            "chocolate\n",
            "------\n",
            "strawberry\n",
            "------\n",
            "mint choc chip\n",
            "------\n",
            "mint choc chip\n",
            "------\n",
            "carmel\n",
            "------\n",
            "pistachio\n",
            "------\n",
            "coffee\n",
            "------\n",
            "pistachio\n",
            "------\n",
            "coffee\n"
          ]
        }
      ]
    },
    {
      "cell_type": "code",
      "source": [
        "for flavor in flavors:\n",
        "    print(\"------\")\n",
        "    print(flavor)\n",
        "    # nothing else happening\n"
      ],
      "metadata": {
        "colab": {
          "base_uri": "https://localhost:8080/"
        },
        "id": "KZ9qmTw_nwRX",
        "outputId": "f9f66b5b-0c61-4aee-b2de-c7c117bdf256"
      },
      "execution_count": null,
      "outputs": [
        {
          "output_type": "stream",
          "name": "stdout",
          "text": [
            "------\n",
            "vanilla bean\n",
            "------\n",
            "chocolate\n",
            "------\n",
            "strawberry\n",
            "------\n",
            "mint choc chip\n",
            "------\n",
            "mint choc chip\n",
            "------\n",
            "carmel\n",
            "------\n",
            "pistachio\n",
            "------\n",
            "coffee\n",
            "------\n",
            "pistachio\n",
            "------\n",
            "coffee\n"
          ]
        }
      ]
    },
    {
      "cell_type": "markdown",
      "source": [
        "## Dictionary"
      ],
      "metadata": {
        "id": "q3Buq6ByiXx7"
      }
    },
    {
      "cell_type": "code",
      "source": [
        "person = {\n",
        "    \"first_name\": \"Ophelia\",\n",
        "    \"last_name\": \"Clarke\",\n",
        "    \"message\": \"Hi, thanks for the ice cream!\",\n",
        "    \"fav_flavors\": [\"Vanilla Bean\", \"Mocha\", \"Strawberry\"]\n",
        "}\n",
        "\n",
        "print(type(person))\n",
        "print(person)"
      ],
      "metadata": {
        "colab": {
          "base_uri": "https://localhost:8080/"
        },
        "id": "dI3Sm_2FiZlN",
        "outputId": "f512b7c4-bacf-4e6f-d0e0-3071f5e4dcec"
      },
      "execution_count": null,
      "outputs": [
        {
          "output_type": "stream",
          "name": "stdout",
          "text": [
            "<class 'dict'>\n",
            "{'first_name': 'Ophelia', 'last_name': 'Clarke', 'message': 'Hi, thanks for the ice cream!', 'fav_flavors': ['Vanilla Bean', 'Mocha', 'Strawberry']}\n"
          ]
        }
      ]
    },
    {
      "cell_type": "markdown",
      "source": [
        "What keys are in this dictionary?"
      ],
      "metadata": {
        "id": "uTBcASqoo36L"
      }
    },
    {
      "cell_type": "code",
      "source": [
        "person.keys()"
      ],
      "metadata": {
        "colab": {
          "base_uri": "https://localhost:8080/"
        },
        "id": "llLEfRTio6Ay",
        "outputId": "abf7e151-bbd8-4c77-d9ea-6a30b4eb8717"
      },
      "execution_count": null,
      "outputs": [
        {
          "output_type": "execute_result",
          "data": {
            "text/plain": [
              "dict_keys(['first_name', 'last_name', 'message', 'fav_flavors'])"
            ]
          },
          "metadata": {},
          "execution_count": 35
        }
      ]
    },
    {
      "cell_type": "markdown",
      "source": [
        "What are the values in this dictionary?"
      ],
      "metadata": {
        "id": "aH5ymfKIpGhG"
      }
    },
    {
      "cell_type": "code",
      "source": [
        "person.values()"
      ],
      "metadata": {
        "colab": {
          "base_uri": "https://localhost:8080/"
        },
        "id": "rALUlH_ZpJc2",
        "outputId": "fb1e7ac9-5faa-4691-de8a-44af9ab4e9c7"
      },
      "execution_count": null,
      "outputs": [
        {
          "output_type": "execute_result",
          "data": {
            "text/plain": [
              "dict_values(['Ophelia', 'Clarke', 'Hi, thanks for the ice cream!', ['Vanilla Bean', 'Mocha', 'Strawberry']])"
            ]
          },
          "metadata": {},
          "execution_count": 36
        }
      ]
    },
    {
      "cell_type": "markdown",
      "source": [
        "What are the pairs in this dictionary:"
      ],
      "metadata": {
        "id": "4YcWBMjSpcUU"
      }
    },
    {
      "cell_type": "code",
      "source": [
        "person.items()"
      ],
      "metadata": {
        "colab": {
          "base_uri": "https://localhost:8080/"
        },
        "id": "7PgdsMHophEX",
        "outputId": "4a72d4a6-899e-49af-ec34-fd694882c903"
      },
      "execution_count": null,
      "outputs": [
        {
          "output_type": "execute_result",
          "data": {
            "text/plain": [
              "dict_items([('first_name', 'Ophelia'), ('last_name', 'Clarke'), ('message', 'Hi, thanks for the ice cream!'), ('fav_flavors', ['Vanilla Bean', 'Mocha', 'Strawberry'])])"
            ]
          },
          "metadata": {},
          "execution_count": 37
        }
      ]
    },
    {
      "cell_type": "markdown",
      "source": [
        "Accessing items in a dictionary, by the key name / attribute name:"
      ],
      "metadata": {
        "id": "ePuyUoOqpwRt"
      }
    },
    {
      "cell_type": "code",
      "source": [
        "person[\"first_name\"]"
      ],
      "metadata": {
        "colab": {
          "base_uri": "https://localhost:8080/",
          "height": 35
        },
        "id": "6vSjEyZdp4Qo",
        "outputId": "9d4a3f39-2157-407d-e99e-4c243de353d1"
      },
      "execution_count": null,
      "outputs": [
        {
          "output_type": "execute_result",
          "data": {
            "text/plain": [
              "'Ophelia'"
            ],
            "application/vnd.google.colaboratory.intrinsic+json": {
              "type": "string"
            }
          },
          "metadata": {},
          "execution_count": 39
        }
      ]
    },
    {
      "cell_type": "code",
      "source": [
        "person[\"last_name\"]"
      ],
      "metadata": {
        "colab": {
          "base_uri": "https://localhost:8080/",
          "height": 35
        },
        "id": "M2e0r-IpqDmq",
        "outputId": "5c72f2b5-5f09-45b4-b834-42ba4ec1cd38"
      },
      "execution_count": null,
      "outputs": [
        {
          "output_type": "execute_result",
          "data": {
            "text/plain": [
              "'Clarke'"
            ],
            "application/vnd.google.colaboratory.intrinsic+json": {
              "type": "string"
            }
          },
          "metadata": {},
          "execution_count": 40
        }
      ]
    },
    {
      "cell_type": "code",
      "source": [
        "print(person[\"message\"])"
      ],
      "metadata": {
        "colab": {
          "base_uri": "https://localhost:8080/"
        },
        "id": "Lyz1Z2kcqGUh",
        "outputId": "cdd5c54c-ccb9-4944-ee71-4bd0e0ff63db"
      },
      "execution_count": null,
      "outputs": [
        {
          "output_type": "stream",
          "name": "stdout",
          "text": [
            "Hi, thanks for the ice cream!\n"
          ]
        }
      ]
    },
    {
      "cell_type": "code",
      "source": [
        "# person[\"OOPS\"] #> KeyError: 'OOPS'"
      ],
      "metadata": {
        "id": "aPQBFcouqIun"
      },
      "execution_count": null,
      "outputs": []
    },
    {
      "cell_type": "markdown",
      "source": [
        "How can we access some value that's nested deeply inside this structure? For example this person's second favorite flavor?"
      ],
      "metadata": {
        "id": "3k2ncr1oqqnq"
      }
    },
    {
      "cell_type": "code",
      "source": [
        "person"
      ],
      "metadata": {
        "colab": {
          "base_uri": "https://localhost:8080/"
        },
        "id": "xsQlfl2_qxRg",
        "outputId": "cce892d6-7378-4623-c6ca-81c7bb5d2bdb"
      },
      "execution_count": null,
      "outputs": [
        {
          "output_type": "execute_result",
          "data": {
            "text/plain": [
              "{'first_name': 'Ophelia',\n",
              " 'last_name': 'Clarke',\n",
              " 'message': 'Hi, thanks for the ice cream!',\n",
              " 'fav_flavors': ['Vanilla Bean', 'Mocha', 'Strawberry']}"
            ]
          },
          "metadata": {},
          "execution_count": 44
        }
      ]
    },
    {
      "cell_type": "code",
      "source": [
        "print(person[\"fav_flavors\"])\n",
        "\n",
        "print(type(person[\"fav_flavors\"]))"
      ],
      "metadata": {
        "colab": {
          "base_uri": "https://localhost:8080/"
        },
        "id": "JLLpFVOuq9km",
        "outputId": "30ef90f1-1787-4073-a3ef-30bebcee311a"
      },
      "execution_count": null,
      "outputs": [
        {
          "output_type": "stream",
          "name": "stdout",
          "text": [
            "['Vanilla Bean', 'Mocha', 'Strawberry']\n",
            "<class 'list'>\n"
          ]
        }
      ]
    },
    {
      "cell_type": "code",
      "source": [
        "# chain together multiple accessors\n",
        "person[\"fav_flavors\"][1]"
      ],
      "metadata": {
        "colab": {
          "base_uri": "https://localhost:8080/",
          "height": 35
        },
        "id": "6y3sdXrNrRf-",
        "outputId": "7f3d23ec-e95d-49ec-a7a6-787081e897cd"
      },
      "execution_count": null,
      "outputs": [
        {
          "output_type": "execute_result",
          "data": {
            "text/plain": [
              "'Mocha'"
            ],
            "application/vnd.google.colaboratory.intrinsic+json": {
              "type": "string"
            }
          },
          "metadata": {},
          "execution_count": 48
        }
      ]
    },
    {
      "cell_type": "code",
      "source": [
        "# alternatively take it in multiple steps\n",
        "\n",
        "favs = person[\"fav_flavors\"]\n",
        "print(favs)\n",
        "print(type(favs))\n",
        "\n",
        "print(favs[1])"
      ],
      "metadata": {
        "colab": {
          "base_uri": "https://localhost:8080/"
        },
        "id": "lbHw1PdcrmId",
        "outputId": "23268a0b-6eaf-4e89-d86c-80d680197fa0"
      },
      "execution_count": null,
      "outputs": [
        {
          "output_type": "stream",
          "name": "stdout",
          "text": [
            "['Vanilla Bean', 'Mocha', 'Strawberry']\n",
            "<class 'list'>\n",
            "Mocha\n"
          ]
        }
      ]
    },
    {
      "cell_type": "markdown",
      "source": [
        "# List Operations\n",
        "\n",
        "\n",
        "\n",
        "\n",
        "\n"
      ],
      "metadata": {
        "id": "8LKiMgIB5dtZ"
      }
    },
    {
      "cell_type": "markdown",
      "source": [
        "### Sorting\n"
      ],
      "metadata": {
        "id": "awiLFMcr5guz"
      }
    },
    {
      "cell_type": "markdown",
      "source": [
        "Sorting simple lists, like list of strings or numbers:"
      ],
      "metadata": {
        "id": "lqwoJ9e57M_f"
      }
    },
    {
      "cell_type": "code",
      "source": [
        "letters = [\"a\", \"z\", \"g\", \"p\", \"j\"]\n",
        "print(letters)\n",
        "\n",
        "print(sorted(letters)) # NOT MUTATING\n",
        "\n",
        "print(letters)\n",
        "\n",
        "sorted_letters = sorted(letters)\n",
        "print(sorted_letters)"
      ],
      "metadata": {
        "colab": {
          "base_uri": "https://localhost:8080/"
        },
        "id": "v2Cl8o5L5iBl",
        "outputId": "bb594b4f-aa6c-4c76-f20a-15c125abad32"
      },
      "execution_count": null,
      "outputs": [
        {
          "output_type": "stream",
          "name": "stdout",
          "text": [
            "['a', 'z', 'g', 'p', 'j']\n",
            "['a', 'g', 'j', 'p', 'z']\n",
            "['a', 'z', 'g', 'p', 'j']\n",
            "['a', 'g', 'j', 'p', 'z']\n"
          ]
        }
      ]
    },
    {
      "cell_type": "code",
      "source": [
        "nums = [5, 100, 87, 45]\n",
        "\n",
        "sorted(nums)"
      ],
      "metadata": {
        "colab": {
          "base_uri": "https://localhost:8080/"
        },
        "id": "iynQpwRM5iW8",
        "outputId": "6143b196-6d0d-47b1-9c1d-5270d40216eb"
      },
      "execution_count": null,
      "outputs": [
        {
          "output_type": "execute_result",
          "data": {
            "text/plain": [
              "[5, 45, 87, 100]"
            ]
          },
          "metadata": {},
          "execution_count": 2
        }
      ]
    },
    {
      "cell_type": "code",
      "source": [
        "nums = [5, 100, 87, 45]\n",
        "\n",
        "sorted(nums, reverse=False)"
      ],
      "metadata": {
        "colab": {
          "base_uri": "https://localhost:8080/"
        },
        "id": "-UN4lKVi5jVg",
        "outputId": "aae313ce-a1d2-40d6-a8bd-a4ee34edd309"
      },
      "execution_count": null,
      "outputs": [
        {
          "output_type": "execute_result",
          "data": {
            "text/plain": [
              "[5, 45, 87, 100]"
            ]
          },
          "metadata": {},
          "execution_count": 6
        }
      ]
    },
    {
      "cell_type": "code",
      "source": [
        "nums = [5, 100, 87, 45]\n",
        "\n",
        "sorted(nums, reverse=True)"
      ],
      "metadata": {
        "colab": {
          "base_uri": "https://localhost:8080/"
        },
        "id": "CV2mJ1v-7Es9",
        "outputId": "28ac6625-bddd-49af-e9d2-878250f92693"
      },
      "execution_count": null,
      "outputs": [
        {
          "output_type": "execute_result",
          "data": {
            "text/plain": [
              "[100, 87, 45, 5]"
            ]
          },
          "metadata": {},
          "execution_count": 3
        }
      ]
    },
    {
      "cell_type": "markdown",
      "source": [
        "Sorting more complex lists (like a list of dict):"
      ],
      "metadata": {
        "id": "Sx-NaQd-7ZkK"
      }
    },
    {
      "cell_type": "code",
      "source": [
        "teams = [\n",
        "    {\"city\": \"New York\", \"name\": \"Yankees\"},\n",
        "    {\"city\": \"New York\", \"name\": \"Mets\"},\n",
        "    {\"city\": \"Boston\", \"name\": \"Red Sox\"},\n",
        "    {\"city\": \"New Haven\", \"name\": \"Ravens\"}\n",
        "]\n",
        "\n",
        "print(teams)"
      ],
      "metadata": {
        "colab": {
          "base_uri": "https://localhost:8080/"
        },
        "id": "tHNGbaUc7ceu",
        "outputId": "57994cb7-1732-401d-a975-6a45e5163498"
      },
      "execution_count": null,
      "outputs": [
        {
          "output_type": "stream",
          "name": "stdout",
          "text": [
            "[{'city': 'New York', 'name': 'Yankees'}, {'city': 'New York', 'name': 'Mets'}, {'city': 'Boston', 'name': 'Red Sox'}, {'city': 'New Haven', 'name': 'Ravens'}]\n"
          ]
        }
      ]
    },
    {
      "cell_type": "code",
      "source": [
        "# sorted(teams) #> TypeError: '<' not supported between instances of 'dict' and 'dict'"
      ],
      "metadata": {
        "id": "L-FBCjLo7c9E"
      },
      "execution_count": null,
      "outputs": []
    },
    {
      "cell_type": "code",
      "source": [
        "from operator import itemgetter\n",
        "\n",
        "sorted(teams, key=itemgetter(\"city\"))\n"
      ],
      "metadata": {
        "colab": {
          "base_uri": "https://localhost:8080/"
        },
        "id": "1n3HkuRW7ct0",
        "outputId": "f6d774bd-cdec-400c-d5f1-c7bb629cedbc"
      },
      "execution_count": null,
      "outputs": [
        {
          "output_type": "execute_result",
          "data": {
            "text/plain": [
              "[{'city': 'Boston', 'name': 'Red Sox'},\n",
              " {'city': 'New Haven', 'name': 'Ravens'},\n",
              " {'city': 'New York', 'name': 'Yankees'},\n",
              " {'city': 'New York', 'name': 'Mets'}]"
            ]
          },
          "metadata": {},
          "execution_count": 5
        }
      ]
    },
    {
      "cell_type": "code",
      "source": [
        "from operator import itemgetter\n",
        "\n",
        "sorted(teams, key=itemgetter(\"city\"), reverse=True)\n"
      ],
      "metadata": {
        "colab": {
          "base_uri": "https://localhost:8080/"
        },
        "id": "4Cv9C0MD8sbE",
        "outputId": "4e6fab15-883c-47f4-afb6-f08545f1056c"
      },
      "execution_count": null,
      "outputs": [
        {
          "output_type": "execute_result",
          "data": {
            "text/plain": [
              "[{'city': 'New York', 'name': 'Yankees'},\n",
              " {'city': 'New York', 'name': 'Mets'},\n",
              " {'city': 'New Haven', 'name': 'Ravens'},\n",
              " {'city': 'Boston', 'name': 'Red Sox'}]"
            ]
          },
          "metadata": {},
          "execution_count": 11
        }
      ]
    },
    {
      "cell_type": "code",
      "source": [
        "from operator import itemgetter\n",
        "\n",
        "sorted(teams, key=itemgetter(\"name\"))\n"
      ],
      "metadata": {
        "colab": {
          "base_uri": "https://localhost:8080/"
        },
        "id": "nkmHF3Dd8z-F",
        "outputId": "1cf5d224-1413-4bb0-b468-3ed7caeb2898"
      },
      "execution_count": null,
      "outputs": [
        {
          "output_type": "execute_result",
          "data": {
            "text/plain": [
              "[{'city': 'New York', 'name': 'Mets'},\n",
              " {'city': 'New Haven', 'name': 'Ravens'},\n",
              " {'city': 'Boston', 'name': 'Red Sox'},\n",
              " {'city': 'New York', 'name': 'Yankees'}]"
            ]
          },
          "metadata": {},
          "execution_count": 12
        }
      ]
    },
    {
      "cell_type": "code",
      "source": [
        "from operator import itemgetter\n",
        "\n",
        "# sort by city then name ASC\n",
        "\n",
        "def custom_sort(item):\n",
        "    return item[\"city\"] + \"-\" + item[\"name\"]\n",
        "\n",
        "sorted(teams, key=custom_sort)\n",
        "\n",
        "\n"
      ],
      "metadata": {
        "colab": {
          "base_uri": "https://localhost:8080/"
        },
        "id": "HjfXDbcP9E8j",
        "outputId": "41e1f905-ee48-486e-f261-c33e4172b6c1"
      },
      "execution_count": null,
      "outputs": [
        {
          "output_type": "execute_result",
          "data": {
            "text/plain": [
              "[{'city': 'Boston', 'name': 'Red Sox'},\n",
              " {'city': 'New Haven', 'name': 'Ravens'},\n",
              " {'city': 'New York', 'name': 'Mets'},\n",
              " {'city': 'New York', 'name': 'Yankees'}]"
            ]
          },
          "metadata": {},
          "execution_count": 13
        }
      ]
    },
    {
      "cell_type": "markdown",
      "source": [
        "### Mapping / Tranformation"
      ],
      "metadata": {
        "id": "p9MUVXSh5j2H"
      }
    },
    {
      "cell_type": "code",
      "source": [
        "# COLLECTING VALUES IN A LIST FOR LATER\n",
        "\n",
        "#g = [1,2,3,4]\n",
        "\n",
        "g = []\n",
        "print(g)\n",
        "\n",
        "g.append(500) # MUTATING\n",
        "print(g)\n",
        "\n",
        "g.append(700) # MUTATING\n",
        "print(g)"
      ],
      "metadata": {
        "colab": {
          "base_uri": "https://localhost:8080/"
        },
        "id": "aihUucc-AtCG",
        "outputId": "a7fd45f5-cd0d-47dd-ca99-78455b73d08c"
      },
      "execution_count": null,
      "outputs": [
        {
          "output_type": "stream",
          "name": "stdout",
          "text": [
            "[]\n",
            "[500]\n",
            "[500, 700]\n"
          ]
        }
      ]
    },
    {
      "cell_type": "markdown",
      "source": [
        "Transform each and every item in the list, to a new \"mapped\" version of itself."
      ],
      "metadata": {
        "id": "6bryDD51ImWl"
      }
    },
    {
      "cell_type": "code",
      "source": [
        "nums = [5, 100, 87, 45]\n",
        "print(nums)\n",
        "\n",
        "# transform each number, multipling it by 100\n",
        "# save the transformed value for later\n",
        "# sum of all transformed numbers\n",
        "\n",
        "print(\"---------\")\n",
        "new_nums = []\n",
        "print(new_nums)\n",
        "\n",
        "for n in nums:\n",
        "    #print(n)\n",
        "    #print(n * 100)\n",
        "    new_nums.append(n * 100)\n",
        "\n",
        "print(new_nums)\n",
        "print(sum(new_nums))"
      ],
      "metadata": {
        "colab": {
          "base_uri": "https://localhost:8080/"
        },
        "id": "lFeES-Nd5mQF",
        "outputId": "1ac86b46-8432-4f70-cb66-5c454b3cc452"
      },
      "execution_count": null,
      "outputs": [
        {
          "output_type": "stream",
          "name": "stdout",
          "text": [
            "[5, 100, 87, 45]\n",
            "---------\n",
            "[]\n",
            "[500, 10000, 8700, 4500]\n",
            "23700\n"
          ]
        }
      ]
    },
    {
      "cell_type": "markdown",
      "source": [
        "### Filtering"
      ],
      "metadata": {
        "id": "jzDH4iTH5m_2"
      }
    },
    {
      "cell_type": "markdown",
      "source": [
        "Select a subset of the items, only ones that match some logical condition."
      ],
      "metadata": {
        "id": "fg1KGmAGIik0"
      }
    },
    {
      "cell_type": "code",
      "source": [
        "nums = [5, 100, 87, 45]\n",
        "\n",
        "matching_nums = []\n",
        "\n",
        "for n in nums:\n",
        "    #print(n)\n",
        "    if n > 10:\n",
        "        #print(n)\n",
        "        matching_nums.append(n)\n",
        "\n",
        "# take the sum of just the matching items\n",
        "print(\"BOTTOM\")\n",
        "print(matching_nums)\n",
        "sum(matching_nums)"
      ],
      "metadata": {
        "colab": {
          "base_uri": "https://localhost:8080/"
        },
        "id": "VvUe54FO5oUk",
        "outputId": "cf8e205b-2e4f-4db4-ca75-e5b20354c448"
      },
      "execution_count": null,
      "outputs": [
        {
          "output_type": "stream",
          "name": "stdout",
          "text": [
            "BOTTOM\n",
            "[100, 87, 45]\n"
          ]
        },
        {
          "output_type": "execute_result",
          "data": {
            "text/plain": [
              "232"
            ]
          },
          "metadata": {},
          "execution_count": 15
        }
      ]
    },
    {
      "cell_type": "markdown",
      "source": [
        "## List Comprehensions"
      ],
      "metadata": {
        "id": "1PwLeSsu31E5"
      }
    },
    {
      "cell_type": "code",
      "source": [
        "nums = [5, 100, 87, 45]\n",
        "\n",
        "# list comprehension for mapping:\n",
        "print([n*100 for n in nums])\n",
        "\n",
        "# list comprehension for filtering:\n",
        "print([n for n in nums if n > 10])\n",
        "\n",
        "# list comprehension for mapping and filtering:\n",
        "print([n*100 for n in nums if n > 10])\n"
      ],
      "metadata": {
        "id": "VhBponZj5oqf",
        "colab": {
          "base_uri": "https://localhost:8080/"
        },
        "outputId": "cc26ca71-cb41-4688-bed5-05d0441229ca"
      },
      "execution_count": null,
      "outputs": [
        {
          "output_type": "stream",
          "name": "stdout",
          "text": [
            "[500, 10000, 8700, 4500]\n",
            "[100, 87, 45]\n",
            "[10000, 8700, 4500]\n"
          ]
        }
      ]
    }
  ]
}