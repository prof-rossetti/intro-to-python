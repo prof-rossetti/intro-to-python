{
  "nbformat": 4,
  "nbformat_minor": 0,
  "metadata": {
    "colab": {
      "name": "Learning Python - Inclass",
      "provenance": [],
      "authorship_tag": "ABX9TyOQPJF0qFQcfS74245uIlgN",
      "include_colab_link": true
    },
    "kernelspec": {
      "name": "python3",
      "display_name": "Python 3"
    },
    "language_info": {
      "name": "python"
    }
  },
  "cells": [
    {
      "cell_type": "markdown",
      "metadata": {
        "id": "view-in-github",
        "colab_type": "text"
      },
      "source": [
        "<a href=\"https://colab.research.google.com/github/prof-rossetti/intro-to-python/blob/main/notes/python/Learning_Python_Inclass.ipynb\" target=\"_parent\"><img src=\"https://colab.research.google.com/assets/colab-badge.svg\" alt=\"Open In Colab\"/></a>"
      ]
    },
    {
      "cell_type": "markdown",
      "metadata": {
        "id": "dOywkkmAmWfD"
      },
      "source": [
        "# The print function (Built-in)"
      ]
    },
    {
      "cell_type": "code",
      "metadata": {
        "colab": {
          "base_uri": "https://localhost:8080/"
        },
        "id": "vNLb3fclIrkT",
        "outputId": "7a345c97-e748-404d-d387-a1d02d14ec07"
      },
      "source": [
        "\n",
        "\n",
        "# some comment\n",
        "\n",
        "# attribution comments\n",
        "# code from www.example.com/laishjf\n",
        "print(\"HELLO\") # this won't be executed"
      ],
      "execution_count": 49,
      "outputs": [
        {
          "output_type": "stream",
          "text": [
            "HELLO\n"
          ],
          "name": "stdout"
        }
      ]
    },
    {
      "cell_type": "markdown",
      "metadata": {
        "id": "JLeasl3VmbCO"
      },
      "source": [
        "# Variables\n",
        "\n",
        "Use snake case! Try to use english words to make your program easier to understand."
      ]
    },
    {
      "cell_type": "code",
      "metadata": {
        "colab": {
          "base_uri": "https://localhost:8080/"
        },
        "id": "dAcF8hFwcnal",
        "outputId": "0690b2fb-27b9-499b-ffc5-1158a77b943c"
      },
      "source": [
        "#B3 = 100\n",
        "#print(B3)\n",
        "\n",
        "b3 = 10\n",
        "print(b3)\n",
        "\n",
        "x = 5\n",
        "print(x)\n",
        "\n",
        "monthly_sales = 100\n",
        "print(monthly_sales)"
      ],
      "execution_count": 50,
      "outputs": [
        {
          "output_type": "stream",
          "text": [
            "10\n",
            "5\n",
            "100\n"
          ],
          "name": "stdout"
        }
      ]
    },
    {
      "cell_type": "code",
      "metadata": {
        "colab": {
          "base_uri": "https://localhost:8080/"
        },
        "id": "UXXxrOhGdkNy",
        "outputId": "47636b62-5d0d-4507-bc57-e4e87047dc64"
      },
      "source": [
        "b3 = 10\n",
        "c3 = 100\n",
        "d3 = 200\n",
        "print(b3 + c3 + d3)\n",
        "print(b3 * c3 * d3)"
      ],
      "execution_count": 51,
      "outputs": [
        {
          "output_type": "stream",
          "text": [
            "310\n",
            "200000\n"
          ],
          "name": "stdout"
        }
      ]
    },
    {
      "cell_type": "code",
      "metadata": {
        "colab": {
          "base_uri": "https://localhost:8080/"
        },
        "id": "7FvrzSDse35-",
        "outputId": "23a24d0c-758b-439f-a640-c21dc5268e5f"
      },
      "source": [
        "print(1, 2, 3, 4, 5, \"HELLO WORLD\" )"
      ],
      "execution_count": 52,
      "outputs": [
        {
          "output_type": "stream",
          "text": [
            "1 2 3 4 5 HELLO WORLD\n"
          ],
          "name": "stdout"
        }
      ]
    },
    {
      "cell_type": "code",
      "metadata": {
        "colab": {
          "base_uri": "https://localhost:8080/"
        },
        "id": "eLS9mtlufBLC",
        "outputId": "27f9d56c-6272-4877-9009-39a7fa82f907"
      },
      "source": [
        "my_numbers = [10, 20, 30, 40]\n",
        "print(type(my_numbers))\n",
        "print(sum(my_numbers))"
      ],
      "execution_count": 53,
      "outputs": [
        {
          "output_type": "stream",
          "text": [
            "<class 'list'>\n",
            "100\n"
          ],
          "name": "stdout"
        }
      ]
    },
    {
      "cell_type": "code",
      "metadata": {
        "colab": {
          "base_uri": "https://localhost:8080/"
        },
        "id": "Fe8AkanWfqOw",
        "outputId": "7fc76212-651e-432d-8469-808ecf251324"
      },
      "source": [
        "print(type(5))\n",
        "print(type(4.5))\n",
        "print(type(\"HELLOW\"))"
      ],
      "execution_count": 54,
      "outputs": [
        {
          "output_type": "stream",
          "text": [
            "<class 'int'>\n",
            "<class 'float'>\n",
            "<class 'str'>\n"
          ],
          "name": "stdout"
        }
      ]
    },
    {
      "cell_type": "markdown",
      "metadata": {
        "id": "yMtJ4SLdmkub"
      },
      "source": [
        "# Custom Functions\n",
        "\n",
        "Parameters, Docstrings"
      ]
    },
    {
      "cell_type": "code",
      "metadata": {
        "id": "FfSjqU1_gIgL"
      },
      "source": [
        "# this is the function definition (only appear once)\n",
        "# we can't see the deinitions of the built-in functions\n",
        "# but we can define our own custom functions\n",
        "def my_example_func():\n",
        "    print(\"HELLO FROM INSIDE THE FUNCTION\")"
      ],
      "execution_count": 55,
      "outputs": []
    },
    {
      "cell_type": "code",
      "metadata": {
        "colab": {
          "base_uri": "https://localhost:8080/"
        },
        "id": "TfggWSTugl8x",
        "outputId": "89a31497-d45e-4365-ca8a-e6cdf601c874"
      },
      "source": [
        "# this is not what we generally want to do (referencing the func as a variable)\n",
        "my_example_func\n",
        "\n",
        "# invoke the function!\n",
        "# this is what we generally want to do\n",
        "# we can invoke the function as many times as we want\n",
        "my_example_func()\n",
        "my_example_func()\n",
        "my_example_func()\n",
        "my_example_func()"
      ],
      "execution_count": 56,
      "outputs": [
        {
          "output_type": "stream",
          "text": [
            "HELLO FROM INSIDE THE FUNCTION\n",
            "HELLO FROM INSIDE THE FUNCTION\n",
            "HELLO FROM INSIDE THE FUNCTION\n",
            "HELLO FROM INSIDE THE FUNCTION\n"
          ],
          "name": "stdout"
        }
      ]
    },
    {
      "cell_type": "code",
      "metadata": {
        "id": "WoEnQzxIhCB2"
      },
      "source": [
        "# when we define a function\n",
        "# we choose what parameters it requires\n",
        "# what those are named\n",
        "# and what their order is\n",
        "def calculate_area_of_rectangle(length, width):\n",
        "    return length * width"
      ],
      "execution_count": 57,
      "outputs": []
    },
    {
      "cell_type": "code",
      "metadata": {
        "colab": {
          "base_uri": "https://localhost:8080/"
        },
        "id": "MIdAC5Y5hexw",
        "outputId": "f36b3e5a-ff52-46fc-c32d-c389a831e7fa"
      },
      "source": [
        "print(calculate_area_of_rectangle(10, 10))\n",
        "print(calculate_area_of_rectangle(2, 9))\n",
        "\n",
        "print(10 * 10 * 1/2)\n",
        "print(2 * 9 * 1/2)\n",
        "print(3 * 6 * 1/2)\n",
        "\n",
        "# benefits of using a function?\n",
        "# we get to maintain the logic in a single place"
      ],
      "execution_count": 58,
      "outputs": [
        {
          "output_type": "stream",
          "text": [
            "100\n",
            "18\n",
            "50.0\n",
            "9.0\n",
            "9.0\n"
          ],
          "name": "stdout"
        }
      ]
    },
    {
      "cell_type": "code",
      "metadata": {
        "id": "RNWXO_RyiR9X"
      },
      "source": [
        "# calculate_area_of_rectangle() #> TypeError: calculate_area_of_rectangle() missing 2 required positional arguments: 'length' and 'width'"
      ],
      "execution_count": 59,
      "outputs": []
    },
    {
      "cell_type": "code",
      "metadata": {
        "id": "MBB5SHdpidta"
      },
      "source": [
        "def my_other_function(a, b):\n",
        "    \"\"\"\n",
        "    This is some english documentation describing the function\n",
        "    And also exampels of how to use it\n",
        "\n",
        "    Params: \n",
        "      a (int)\n",
        "      b (int)\n",
        "\n",
        "    \"\"\"\n",
        "    return a * b * 1/2"
      ],
      "execution_count": 60,
      "outputs": []
    },
    {
      "cell_type": "code",
      "metadata": {
        "id": "v12ZyhG3iuHZ",
        "colab": {
          "base_uri": "https://localhost:8080/"
        },
        "outputId": "d423c359-87be-4042-e89d-e102edd30075"
      },
      "source": [
        "my_other_function(2,9)"
      ],
      "execution_count": 61,
      "outputs": [
        {
          "output_type": "execute_result",
          "data": {
            "text/plain": [
              "9.0"
            ]
          },
          "metadata": {
            "tags": []
          },
          "execution_count": 61
        }
      ]
    },
    {
      "cell_type": "code",
      "metadata": {
        "id": "a_PW7EZHi9U8"
      },
      "source": [
        "def my_other_function_2(a, b):\n",
        "    \"\"\"This is a single doc line\"\"\"\n",
        "    return a * b * 1/2"
      ],
      "execution_count": 62,
      "outputs": []
    },
    {
      "cell_type": "code",
      "metadata": {
        "id": "m2ehgy80jBcC",
        "colab": {
          "base_uri": "https://localhost:8080/"
        },
        "outputId": "e79df7bd-40f5-4782-db82-cc19f995dd65"
      },
      "source": [
        "my_other_function_2(2,9)"
      ],
      "execution_count": 63,
      "outputs": [
        {
          "output_type": "execute_result",
          "data": {
            "text/plain": [
              "9.0"
            ]
          },
          "metadata": {
            "tags": []
          },
          "execution_count": 63
        }
      ]
    },
    {
      "cell_type": "markdown",
      "metadata": {
        "id": "LzP8Qmprjjow"
      },
      "source": [
        "# Booleans and If Statements"
      ]
    },
    {
      "cell_type": "code",
      "metadata": {
        "colab": {
          "base_uri": "https://localhost:8080/"
        },
        "id": "VEBmNRwcjllK",
        "outputId": "0c22aa20-b8e2-47af-ce25-4ccb554b27cc"
      },
      "source": [
        "print(True)\n",
        "print(False)\n",
        "\n",
        "print(type(True))\n",
        "print(type(False))"
      ],
      "execution_count": 64,
      "outputs": [
        {
          "output_type": "stream",
          "text": [
            "True\n",
            "False\n",
            "<class 'bool'>\n",
            "<class 'bool'>\n"
          ],
          "name": "stdout"
        }
      ]
    },
    {
      "cell_type": "code",
      "metadata": {
        "colab": {
          "base_uri": "https://localhost:8080/"
        },
        "id": "4Mxwjh7Sj8UR",
        "outputId": "c40f4625-8509-4094-a1de-5ffbb30285d1"
      },
      "source": [
        "if True:\n",
        "    print(\"Yes\")\n",
        "else:\n",
        "    print(\"No\")\n",
        "\n",
        "\n",
        "if False:\n",
        "    print(\"Yes\")\n",
        "else:\n",
        "    print(\"No\")\n",
        "\n",
        "\n"
      ],
      "execution_count": 65,
      "outputs": [
        {
          "output_type": "stream",
          "text": [
            "Yes\n",
            "No\n"
          ],
          "name": "stdout"
        }
      ]
    },
    {
      "cell_type": "code",
      "metadata": {
        "colab": {
          "base_uri": "https://localhost:8080/"
        },
        "id": "J4ZpSj7vkTR7",
        "outputId": "59b567d3-a011-4186-ea28-06a12da569dc"
      },
      "source": [
        "if 2 == 2:\n",
        "    print(\"Yes\")\n",
        "else:\n",
        "    print(\"No\")\n",
        "\n",
        "\n",
        "if 2 != 2:\n",
        "    print(\"Yes\")\n",
        "else:\n",
        "    print(\"No\")"
      ],
      "execution_count": 66,
      "outputs": [
        {
          "output_type": "stream",
          "text": [
            "Yes\n",
            "No\n"
          ],
          "name": "stdout"
        }
      ]
    },
    {
      "cell_type": "code",
      "metadata": {
        "colab": {
          "base_uri": "https://localhost:8080/"
        },
        "id": "qAymrBNikdHl",
        "outputId": "0d0e7c8a-8dfb-4d99-f6ee-54a9504a2a68"
      },
      "source": [
        "# variable assignment\n",
        "x = 5\n",
        "print(x)\n",
        "\n",
        "# is what's on the left equal to whats on the right?\n",
        "print(6 == 7)\n",
        "print(6 == 6)"
      ],
      "execution_count": 67,
      "outputs": [
        {
          "output_type": "stream",
          "text": [
            "5\n",
            "False\n",
            "True\n"
          ],
          "name": "stdout"
        }
      ]
    },
    {
      "cell_type": "code",
      "metadata": {
        "colab": {
          "base_uri": "https://localhost:8080/"
        },
        "id": "pgbC1rzwkrJ7",
        "outputId": "2e2d0606-44cd-4a71-a6cc-8826e74ac150"
      },
      "source": [
        "if 6 == 7:\n",
        "    print(\"Yep\")\n",
        "else:\n",
        "    print(\"Nope\")"
      ],
      "execution_count": 68,
      "outputs": [
        {
          "output_type": "stream",
          "text": [
            "Nope\n"
          ],
          "name": "stdout"
        }
      ]
    },
    {
      "cell_type": "code",
      "metadata": {
        "id": "Lneop_JukxBQ"
      },
      "source": [
        "if False:\n",
        "    print(\"Yep\")"
      ],
      "execution_count": 69,
      "outputs": []
    },
    {
      "cell_type": "code",
      "metadata": {
        "colab": {
          "base_uri": "https://localhost:8080/"
        },
        "id": "hxzuJzXSk8Od",
        "outputId": "81e29dd8-a1d8-49ff-cb31-ca2f38ae7df8"
      },
      "source": [
        "if 2 == 3:\n",
        "    print(\"Three\")\n",
        "elif 2 == 4:\n",
        "    print(\"Four\")\n",
        "elif 2 == 2:\n",
        "    print(\"Two\")\n",
        "elif 3 == 3:\n",
        "    print(\"WONT GET REACHED\")\n",
        "else:\n",
        "    print(\"YEAH\")\n",
        "\n",
        "print(\"WAHTEVER IS AFTERWARDS\")"
      ],
      "execution_count": 70,
      "outputs": [
        {
          "output_type": "stream",
          "text": [
            "Two\n",
            "WAHTEVER IS AFTERWARDS\n"
          ],
          "name": "stdout"
        }
      ]
    },
    {
      "cell_type": "markdown",
      "metadata": {
        "id": "WTsqo14-ZA8v"
      },
      "source": [
        "# Detecting Datatypes (and why it matters)\n",
        "\n",
        "we can do different things with different data types\n",
        "\n"
      ]
    },
    {
      "cell_type": "code",
      "metadata": {
        "colab": {
          "base_uri": "https://localhost:8080/"
        },
        "id": "3X-aozi0ZGci",
        "outputId": "3d0d73ab-e7d8-46fd-abff-c90e6b43e5ca"
      },
      "source": [
        "print(500 == \"500\")"
      ],
      "execution_count": 71,
      "outputs": [
        {
          "output_type": "stream",
          "text": [
            "False\n"
          ],
          "name": "stdout"
        }
      ]
    },
    {
      "cell_type": "code",
      "metadata": {
        "colab": {
          "base_uri": "https://localhost:8080/"
        },
        "id": "hueiJMdqZGtj",
        "outputId": "eeb6c28f-084e-4507-ccfc-765edd4ced4f"
      },
      "source": [
        "print(type(500))\n",
        "print(type(500.0))\n",
        "print(type(\"500\"))"
      ],
      "execution_count": 72,
      "outputs": [
        {
          "output_type": "stream",
          "text": [
            "<class 'int'>\n",
            "<class 'float'>\n",
            "<class 'str'>\n"
          ],
          "name": "stdout"
        }
      ]
    },
    {
      "cell_type": "code",
      "metadata": {
        "colab": {
          "base_uri": "https://localhost:8080/"
        },
        "id": "W8gRWWkyZZxy",
        "outputId": "7bbbbac8-05b3-43f0-9d36-72465f8e94bf"
      },
      "source": [
        "print(500 + 500) #> 1000\n",
        "print(500 + 500.0) #> 1000.0\n",
        "print(\"500\" + \"500\") #> \"500500\"\n",
        "#print(\"500\" + 500) #> TypeError: can only concatenate str (not \"int\") to str\n",
        "\n",
        "print(type(str(500)))\n",
        "print(type(int(\"500\")))\n",
        "print(\"500\" + str(500))"
      ],
      "execution_count": 73,
      "outputs": [
        {
          "output_type": "stream",
          "text": [
            "1000\n",
            "1000.0\n",
            "500500\n",
            "<class 'str'>\n",
            "<class 'int'>\n",
            "500500\n"
          ],
          "name": "stdout"
        }
      ]
    },
    {
      "cell_type": "markdown",
      "metadata": {
        "id": "yZWI3gMooN5I"
      },
      "source": [
        "# Strings\n",
        "\n",
        "what can we do with strings?\n",
        "\n",
        "concatenate (join) them together using the + "
      ]
    },
    {
      "cell_type": "code",
      "metadata": {
        "colab": {
          "base_uri": "https://localhost:8080/"
        },
        "id": "WWSRNXMQoPRT",
        "outputId": "83db23d3-fc34-42fc-ebde-36dfb88e8867"
      },
      "source": [
        "print(\"HELLO\" + \"WORLD\")\n",
        "print(\"HELLO\" + \" WORLD\")\n",
        "print(\"HELLO \" + \"WORLD\")\n",
        "print(\"HELLO\" + \" \" + \"WORLD\")"
      ],
      "execution_count": 74,
      "outputs": [
        {
          "output_type": "stream",
          "text": [
            "HELLOWORLD\n",
            "HELLO WORLD\n",
            "HELLO WORLD\n",
            "HELLO WORLD\n"
          ],
          "name": "stdout"
        }
      ]
    },
    {
      "cell_type": "code",
      "metadata": {
        "colab": {
          "base_uri": "https://localhost:8080/"
        },
        "id": "l6pI3ubma88q",
        "outputId": "c649b721-7d55-40c5-9c96-beda81d1974b"
      },
      "source": [
        "m = \"WORLD\"\n",
        "print(\"HELLO\" + \" \" + m)\n",
        "\n",
        "new_message = \"HELLO\" + str(500) + \"WORLD\"\n",
        "print(new_message)\n",
        "\n",
        "# alternatively to concat\n",
        "# we can take advantage of the comma-separated nature of the print function\n",
        "print(\"HELLO\", m, \"print many things\", 100)\n",
        "\n",
        "# we can use string interpolation (inject a variable into a string)\n",
        "original_var = 500\n",
        "new_message = f\"HELLO {original_var} WORLD\" \n",
        "print(new_message)\n"
      ],
      "execution_count": 75,
      "outputs": [
        {
          "output_type": "stream",
          "text": [
            "HELLO WORLD\n",
            "HELLO500WORLD\n",
            "HELLO WORLD print many things 100\n",
            "HELLO 500 WORLD\n"
          ],
          "name": "stdout"
        }
      ]
    },
    {
      "cell_type": "code",
      "metadata": {
        "colab": {
          "base_uri": "https://localhost:8080/"
        },
        "id": "0uTDTa0tcDC5",
        "outputId": "28be0421-e06a-435a-8c50-385ca7d3ae14"
      },
      "source": [
        "print(\"HELLO\".upper())\n",
        "print(\"HELLO\".lower())\n",
        "print(\"HELLO\".title())"
      ],
      "execution_count": 76,
      "outputs": [
        {
          "output_type": "stream",
          "text": [
            "HELLO\n",
            "hello\n",
            "Hello\n"
          ],
          "name": "stdout"
        }
      ]
    },
    {
      "cell_type": "markdown",
      "metadata": {
        "id": "KH345zDwoQxD"
      },
      "source": [
        "# Lists"
      ]
    },
    {
      "cell_type": "markdown",
      "metadata": {
        "id": "JXlM1kXmdIso"
      },
      "source": [
        "count their items"
      ]
    },
    {
      "cell_type": "code",
      "metadata": {
        "colab": {
          "base_uri": "https://localhost:8080/"
        },
        "id": "7ZtLWNuDoTDw",
        "outputId": "c7689f61-9132-444a-e4af-44820cc035ea"
      },
      "source": [
        "new_list = []\n",
        "print(new_list)\n",
        "print(type(new_list))\n",
        "print(len(new_list))\n",
        "\n",
        "arr = [6,3,9,7]\n",
        "print(arr)\n",
        "print(type(arr))\n",
        "print(len(arr))"
      ],
      "execution_count": 77,
      "outputs": [
        {
          "output_type": "stream",
          "text": [
            "[]\n",
            "<class 'list'>\n",
            "0\n",
            "[6, 3, 9, 7]\n",
            "<class 'list'>\n",
            "4\n"
          ],
          "name": "stdout"
        }
      ]
    },
    {
      "cell_type": "markdown",
      "metadata": {
        "id": "h4CWDTadq1SQ"
      },
      "source": [
        "loop through the items and process one at a time"
      ]
    },
    {
      "cell_type": "code",
      "metadata": {
        "colab": {
          "base_uri": "https://localhost:8080/"
        },
        "id": "Z3Ge_8ExdS9T",
        "outputId": "eaf3d892-cdc0-4190-b184-ea1bbbe1fe13"
      },
      "source": [
        "for letter in [\"a\", \"b\", \"c\", \"d\"]:\n",
        "    print(letter)\n",
        "\n",
        "print(\"-------------\")\n",
        "\n",
        "\n",
        "for letter in [\"a\", \"b\", \"c\", \"d\"]:\n",
        "    print(\"HELLO\")\n",
        "\n",
        "\n"
      ],
      "execution_count": 78,
      "outputs": [
        {
          "output_type": "stream",
          "text": [
            "a\n",
            "b\n",
            "c\n",
            "d\n",
            "-------------\n",
            "HELLO\n",
            "HELLO\n",
            "HELLO\n",
            "HELLO\n"
          ],
          "name": "stdout"
        }
      ]
    },
    {
      "cell_type": "code",
      "metadata": {
        "colab": {
          "base_uri": "https://localhost:8080/"
        },
        "id": "f69av1m7d1TJ",
        "outputId": "0c962e92-ed22-465d-e016-b0dfd366656a"
      },
      "source": [
        "# for _____ in ______:\n",
        "#     print(___)\n",
        "\n",
        "letters = [\"a\", \"b\", \"m\", \"z\"]\n",
        "\n",
        "for x in letters:\n",
        "    print(x)\n",
        "\n",
        "print(\"-------\")\n",
        "\n",
        "for item in letters:\n",
        "    print(\"---\")\n",
        "    print(item)"
      ],
      "execution_count": 79,
      "outputs": [
        {
          "output_type": "stream",
          "text": [
            "a\n",
            "b\n",
            "m\n",
            "z\n",
            "-------\n",
            "---\n",
            "a\n",
            "---\n",
            "b\n",
            "---\n",
            "m\n",
            "---\n",
            "z\n"
          ],
          "name": "stdout"
        }
      ]
    },
    {
      "cell_type": "markdown",
      "metadata": {
        "id": "0zh3hGGoe3vk"
      },
      "source": [
        "access individual items inside the list by their numeric index / position"
      ]
    },
    {
      "cell_type": "code",
      "metadata": {
        "colab": {
          "base_uri": "https://localhost:8080/"
        },
        "id": "m5bBaUStejXq",
        "outputId": "a858a557-dc80-470f-821a-de521319c8c7"
      },
      "source": [
        "letters = [\"a\", \"b\", \"m\", \"z\"]\n",
        "print(letters[0]) # first item is position 0\n",
        "print(letters[1]) \n",
        "print(letters[2]) \n",
        "print(letters[-1]) # last item is position -1"
      ],
      "execution_count": 80,
      "outputs": [
        {
          "output_type": "stream",
          "text": [
            "a\n",
            "b\n",
            "m\n",
            "z\n"
          ],
          "name": "stdout"
        }
      ]
    },
    {
      "cell_type": "markdown",
      "metadata": {
        "id": "6whsEy0noVLG"
      },
      "source": [
        "# Dictionaries"
      ]
    },
    {
      "cell_type": "markdown",
      "metadata": {
        "id": "BdgD_0eEfJDa"
      },
      "source": [
        "asking what are the items' names? / keys?"
      ]
    },
    {
      "cell_type": "code",
      "metadata": {
        "colab": {
          "base_uri": "https://localhost:8080/"
        },
        "id": "Zyba5yR4oWZ3",
        "outputId": "ba58357e-32ff-4cc3-d788-a1eb1a1a71c7"
      },
      "source": [
        "person = {\n",
        "    \"first_name\": \"Ophelia\", \n",
        "    \"last_name\": \"Clark\", \n",
        "    \"message\": \"Hello Again\"\n",
        "}\n",
        "print(type(person))\n",
        "print(person.keys())"
      ],
      "execution_count": 81,
      "outputs": [
        {
          "output_type": "stream",
          "text": [
            "<class 'dict'>\n",
            "dict_keys(['first_name', 'last_name', 'message'])\n"
          ],
          "name": "stdout"
        }
      ]
    },
    {
      "cell_type": "markdown",
      "metadata": {
        "id": "zcQMkRrZfpW5"
      },
      "source": [
        "access items by their name / key"
      ]
    },
    {
      "cell_type": "code",
      "metadata": {
        "colab": {
          "base_uri": "https://localhost:8080/"
        },
        "id": "0-knvI_0foN2",
        "outputId": "c0ad3943-3aca-4b04-bbbe-2a350b88baea"
      },
      "source": [
        "print(person[\"first_name\"])"
      ],
      "execution_count": 82,
      "outputs": [
        {
          "output_type": "stream",
          "text": [
            "Ophelia\n"
          ],
          "name": "stdout"
        }
      ]
    },
    {
      "cell_type": "markdown",
      "metadata": {
        "id": "Z5_w6tCavROJ"
      },
      "source": [
        "FYI - accessing just the keys, or just the values, or the key value pairs:\n"
      ]
    },
    {
      "cell_type": "code",
      "metadata": {
        "colab": {
          "base_uri": "https://localhost:8080/"
        },
        "id": "_Xk-gDuCveHi",
        "outputId": "fe8888af-a0d6-41d5-d83d-6c5009c97791"
      },
      "source": [
        "print(person.keys())\n",
        "print(person.values())\n",
        "print(person.items()) # converts to list of key-value pairs\n",
        "\n",
        "print(\"-------------------\")\n",
        "for k, v in person.items():\n",
        "    print(\"K:\",k, \"| V:\", v)"
      ],
      "execution_count": 83,
      "outputs": [
        {
          "output_type": "stream",
          "text": [
            "dict_keys(['first_name', 'last_name', 'message'])\n",
            "dict_values(['Ophelia', 'Clark', 'Hello Again'])\n",
            "dict_items([('first_name', 'Ophelia'), ('last_name', 'Clark'), ('message', 'Hello Again')])\n",
            "-------------------\n",
            "K: first_name | V: Ophelia\n",
            "K: last_name | V: Clark\n",
            "K: message | V: Hello Again\n"
          ],
          "name": "stdout"
        }
      ]
    },
    {
      "cell_type": "markdown",
      "metadata": {
        "id": "R4luPKSe--tD"
      },
      "source": [
        "For Nested Dictionaries, we access one level at a time, and can chain together accessors:"
      ]
    },
    {
      "cell_type": "code",
      "metadata": {
        "colab": {
          "base_uri": "https://localhost:8080/"
        },
        "id": "Fnp8nXp8-bF3",
        "outputId": "a399f327-3dc7-4486-f2d9-e5b0b6d09bed"
      },
      "source": [
        "WINNERS = {\n",
        "    \"rock\": {\n",
        "        \"rock\": None,\n",
        "        \"paper\": \"paper\",\n",
        "        \"scissors\": \"rock\",\n",
        "    },\n",
        "    \"paper\": {\n",
        "        \"rock\": \"paper\",\n",
        "        \"paper\": None,\n",
        "        \"scissors\": \"scissors\",\n",
        "    },\n",
        "    \"scissors\": {\n",
        "        \"rock\": \"rock\",\n",
        "        \"paper\": \"scissors\",\n",
        "        \"scissors\": None,\n",
        "    }\n",
        "}\n",
        "\n",
        "#winner = WINNERS[\"rock\"][\"paper\"]\n",
        "#print(\"WINNER:\", winner)\n",
        "print(WINNERS[\"rock\"])\n",
        "print(WINNERS[\"rock\"][\"paper\"])\n",
        "\n",
        "rock_scenarios = WINNERS[\"rock\"]\n",
        "print(rock_scenarios)\n",
        "print(rock_scenarios[\"paper\"])\n",
        "\n",
        "\n",
        "user_choice = \"rock\"\n",
        "computer_choice = \"paper\"\n",
        "print(\"WINNER:\", WINNERS[user_choice][computer_choice])"
      ],
      "execution_count": 84,
      "outputs": [
        {
          "output_type": "stream",
          "text": [
            "{'rock': None, 'paper': 'paper', 'scissors': 'rock'}\n",
            "paper\n",
            "{'rock': None, 'paper': 'paper', 'scissors': 'rock'}\n",
            "paper\n",
            "WINNER: paper\n"
          ],
          "name": "stdout"
        }
      ]
    },
    {
      "cell_type": "markdown",
      "metadata": {
        "id": "Sc3lMnrV89rv"
      },
      "source": [
        "# Sorting Lists"
      ]
    },
    {
      "cell_type": "code",
      "metadata": {
        "id": "xCSUVXk88_vy"
      },
      "source": [
        "letters = [\"e\", \"m\", \"a\", \"c\", \"b\", \"z\", \"y\", \"d\"]\n",
        "\n",
        "numbers = [8, 4, 7, 1, 9, 2, 5]\n",
        "\n",
        "teams = [\n",
        "    {\"city\": \"New York\", \"name\": \"Yankees\"},\n",
        "    {\"city\": \"New York\", \"name\": \"Mets\"},\n",
        "    {\"city\": \"Boston\", \"name\": \"Red Sox\"},\n",
        "    {\"city\": \"New Haven\", \"name\": \"Ravens\"}\n",
        "] # todo: sort by name"
      ],
      "execution_count": 85,
      "outputs": []
    },
    {
      "cell_type": "code",
      "metadata": {
        "colab": {
          "base_uri": "https://localhost:8080/"
        },
        "id": "Ttnl06Ll9Zak",
        "outputId": "d02370e2-7bdc-4711-9073-3284b2e6b329"
      },
      "source": [
        "\n",
        "sorted_letters = sorted(letters)\n",
        "print(\"SORTED LETTERS\", sorted_letters)\n",
        "\n",
        "sorted_numbers = sorted(numbers)\n",
        "print(\"SORTED NUMBERS:\", sorted_numbers)\n",
        "print(\"REVERSE NUMBERS:\", sorted(numbers, reverse=True))\n",
        "\n",
        "# if we're sorting a list of dictionaries\n",
        "# we can use the itemgetter method as a way of specifying\n",
        "# ... which key to sort by\n",
        "from operator import itemgetter\n",
        "\n",
        "#sorted_teams = sorted(teams, key=itemgetter(\"city\"))\n",
        "sorted_teams = sorted(teams, key=itemgetter(\"name\"))\n",
        "print(\"SORTED TEAMS:\", sorted_teams)\n"
      ],
      "execution_count": 86,
      "outputs": [
        {
          "output_type": "stream",
          "text": [
            "SORTED LETTERS ['a', 'b', 'c', 'd', 'e', 'm', 'y', 'z']\n",
            "SORTED NUMBERS: [1, 2, 4, 5, 7, 8, 9]\n",
            "REVERSE NUMBERS: [9, 8, 7, 5, 4, 2, 1]\n",
            "SORTED TEAMS: [{'city': 'New York', 'name': 'Mets'}, {'city': 'New Haven', 'name': 'Ravens'}, {'city': 'Boston', 'name': 'Red Sox'}, {'city': 'New York', 'name': 'Yankees'}]\n"
          ],
          "name": "stdout"
        }
      ]
    },
    {
      "cell_type": "markdown",
      "metadata": {
        "id": "Xm8yZAQU9APq"
      },
      "source": [
        "# Mapping and Filtering Lists"
      ]
    },
    {
      "cell_type": "code",
      "metadata": {
        "id": "D3nF5cn6oI1U"
      },
      "source": [
        "numbers = [8, 4, 7, 1, 9, 2, 5]\n"
      ],
      "execution_count": 87,
      "outputs": []
    },
    {
      "cell_type": "markdown",
      "metadata": {
        "id": "ZJreNIbooLwD"
      },
      "source": [
        "mapping / transforming each item (for example multiplying each number by 100):"
      ]
    },
    {
      "cell_type": "code",
      "metadata": {
        "id": "TUjUQIQG9C0c",
        "colab": {
          "base_uri": "https://localhost:8080/"
        },
        "outputId": "56dc790a-60b1-448f-fc40-6f95d01a7e69"
      },
      "source": [
        "# the long way:\n",
        "larger_numbers = []\n",
        "for n in numbers:\n",
        "    larger_numbers.append(n * 100) \n",
        "print(larger_numbers)\n",
        "\n",
        "# one-liner \"list comprehension\":\n",
        "print([n * 100 for n in numbers])"
      ],
      "execution_count": 88,
      "outputs": [
        {
          "output_type": "stream",
          "text": [
            "[800, 400, 700, 100, 900, 200, 500]\n",
            "[800, 400, 700, 100, 900, 200, 500]\n"
          ],
          "name": "stdout"
        }
      ]
    },
    {
      "cell_type": "markdown",
      "metadata": {
        "id": "uSiS5QvvoW5J"
      },
      "source": [
        "filtering / selecting only the items that match some logical condition (for example, only numbers greater than 5):"
      ]
    },
    {
      "cell_type": "code",
      "metadata": {
        "id": "FsExNIxh9FEf",
        "colab": {
          "base_uri": "https://localhost:8080/"
        },
        "outputId": "f060c8ce-9c7d-4818-f18d-f6e92d992d35"
      },
      "source": [
        "# the long way:\n",
        "matching_numbers = []\n",
        "for n in numbers:\n",
        "    if n > 5:\n",
        "        matching_numbers.append(n)\n",
        "print(matching_numbers)\n",
        "\n",
        "# one-liner \"list comprehension\":\n",
        "print([n for n in numbers if n > 5])"
      ],
      "execution_count": 89,
      "outputs": [
        {
          "output_type": "stream",
          "text": [
            "[8, 7, 9]\n",
            "[8, 7, 9]\n"
          ],
          "name": "stdout"
        }
      ]
    },
    {
      "cell_type": "markdown",
      "metadata": {
        "id": "PMiAurZoojbU"
      },
      "source": [
        "mapping and filtering via list comprehension:"
      ]
    },
    {
      "cell_type": "code",
      "metadata": {
        "id": "Y2xazlVCvM4B",
        "colab": {
          "base_uri": "https://localhost:8080/"
        },
        "outputId": "6ee6e2d8-43be-4eba-a127-4a976d52c3cc"
      },
      "source": [
        "# one-liner \"list comprehension\" for filtering and mapping:\n",
        "print([n*100 for n in numbers if n > 5])"
      ],
      "execution_count": 90,
      "outputs": [
        {
          "output_type": "stream",
          "text": [
            "[800, 700, 900]\n"
          ],
          "name": "stdout"
        }
      ]
    }
  ]
}