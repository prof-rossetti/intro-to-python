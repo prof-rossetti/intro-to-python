{
  "nbformat": 4,
  "nbformat_minor": 0,
  "metadata": {
    "colab": {
      "provenance": [],
      "collapsed_sections": [
        "A7ymEymLDMmu",
        "E04uuL46DXkM",
        "Y9WSbBbqLxVj",
        "55x-IeEE6Fnq",
        "psyNH1SL6G3R",
        "Rf-INjjdwBGO",
        "xmpq6VjVwJYR",
        "U6rPoNT0wLPX"
      ],
      "toc_visible": true
    },
    "kernelspec": {
      "name": "python3",
      "display_name": "Python 3"
    },
    "language_info": {
      "name": "python"
    }
  },
  "cells": [
    {
      "cell_type": "markdown",
      "source": [
        "# Outputs\n",
        "\n",
        "print function docs: https://docs.python.org/3/library/functions.html#print\n",
        "\n",
        "\n"
      ],
      "metadata": {
        "id": "tOGSn_hx_KbH"
      }
    },
    {
      "cell_type": "code",
      "execution_count": null,
      "metadata": {
        "colab": {
          "base_uri": "https://localhost:8080/"
        },
        "id": "oyrES9NA-iu8",
        "outputId": "4632894f-0bcc-44c1-dbcf-2d2477317865"
      },
      "outputs": [
        {
          "output_type": "stream",
          "name": "stdout",
          "text": [
            "HELLO WORLD\n",
            "4\n"
          ]
        }
      ],
      "source": [
        "print(\"HELLO WORLD\")\n",
        "print(4)"
      ]
    },
    {
      "cell_type": "markdown",
      "source": [
        "printing three different ways:"
      ],
      "metadata": {
        "id": "wTYJSS53FrG3"
      }
    },
    {
      "cell_type": "code",
      "source": [
        "# A) using print function, printing multiple things sep by commas\n",
        "message_part_two = \"WORLD\"\n",
        "print(\"HELLO\", message_part_two)\n",
        "\n",
        "# B) string concatenation:\n",
        "print(\"HELLO \" + message_part_two)\n",
        "print(\"HELLO\" + \" \" + message_part_two)\n",
        "\n",
        "# C) use format string and inject variable / \"interpolation\"\n",
        "print(f\"HELLO {message_part_two}\")"
      ],
      "metadata": {
        "colab": {
          "base_uri": "https://localhost:8080/"
        },
        "id": "l93EsmB1FtNz",
        "outputId": "0f15a5cd-8c40-4278-d4fa-73ffdd090872"
      },
      "execution_count": null,
      "outputs": [
        {
          "output_type": "stream",
          "name": "stdout",
          "text": [
            "HELLO WORLD\n",
            "HELLO WORLD\n",
            "HELLO WORLD\n",
            "HELLO WORLD\n"
          ]
        }
      ]
    },
    {
      "cell_type": "markdown",
      "source": [
        "# Variables"
      ],
      "metadata": {
        "id": "vOXyjsoc_ry6"
      }
    },
    {
      "cell_type": "code",
      "source": [
        "# variable assignment\n",
        "x = 5\n",
        "\n",
        "print(x)\n",
        "print(x + 10)"
      ],
      "metadata": {
        "colab": {
          "base_uri": "https://localhost:8080/"
        },
        "id": "tTFcS45v_uCn",
        "outputId": "9b974f56-db51-4a5c-92d5-5b2214210d09"
      },
      "execution_count": null,
      "outputs": [
        {
          "output_type": "stream",
          "name": "stdout",
          "text": [
            "5\n",
            "15\n"
          ]
        }
      ]
    },
    {
      "cell_type": "code",
      "source": [
        "# it's possible to overwrite a variable's value\n",
        "# so it may change over time / at different times\n",
        "\n",
        "y = 10\n",
        "print(y)\n",
        "\n",
        "print(y)\n",
        "\n",
        "y = 100\n",
        "print(y)\n",
        "\n",
        "print(y)"
      ],
      "metadata": {
        "colab": {
          "base_uri": "https://localhost:8080/"
        },
        "id": "NTswwoY-D9x0",
        "outputId": "1229f366-0eef-4574-d523-737521822718"
      },
      "execution_count": null,
      "outputs": [
        {
          "output_type": "stream",
          "name": "stdout",
          "text": [
            "10\n",
            "10\n",
            "100\n",
            "100\n"
          ]
        }
      ]
    },
    {
      "cell_type": "code",
      "source": [
        "z = 7\n",
        "print(z)\n",
        "\n",
        "z = z + 10\n",
        "print(z)\n",
        "\n",
        "z += 10 # this means the same as z = z + 10\n",
        "print(z)"
      ],
      "metadata": {
        "colab": {
          "base_uri": "https://localhost:8080/"
        },
        "id": "poUwgvlpEVX2",
        "outputId": "b8570bbe-e179-443d-8998-1367718d2005"
      },
      "execution_count": null,
      "outputs": [
        {
          "output_type": "stream",
          "name": "stdout",
          "text": [
            "7\n",
            "17\n",
            "27\n"
          ]
        }
      ]
    },
    {
      "cell_type": "markdown",
      "source": [
        "contextual variable names can help us read and understand the program"
      ],
      "metadata": {
        "id": "8G5Voz0nFR73"
      }
    },
    {
      "cell_type": "code",
      "source": [
        "speed_mph = 70\n",
        "print(speed_mph)"
      ],
      "metadata": {
        "id": "RuN4XxPjFRKO"
      },
      "execution_count": null,
      "outputs": []
    },
    {
      "cell_type": "code",
      "source": [],
      "metadata": {
        "id": "rfX4kH1OFyb3"
      },
      "execution_count": null,
      "outputs": []
    },
    {
      "cell_type": "markdown",
      "source": [
        "# Inputs\n",
        "\n",
        "the input function asks the user to provide some input:\n",
        "\n",
        "https://docs.python.org/3/library/functions.html#input"
      ],
      "metadata": {
        "id": "xE1Vkfgq_pEn"
      }
    },
    {
      "cell_type": "code",
      "source": [
        "fav_flavor = input(\"Please input your favorite ice cream flavor: \")\n",
        "print(fav_flavor)"
      ],
      "metadata": {
        "colab": {
          "base_uri": "https://localhost:8080/"
        },
        "id": "WiJneBUS_KoU",
        "outputId": "b3495dac-9bd6-4611-cd6f-f814442ea88f"
      },
      "execution_count": null,
      "outputs": [
        {
          "output_type": "stream",
          "name": "stdout",
          "text": [
            "Please input your favorite ice cream flavor: mango\n",
            "mango\n"
          ]
        }
      ]
    },
    {
      "cell_type": "code",
      "source": [
        "lucky_number = input(\"Please input your lucky number: \")\n",
        "print(lucky_number)\n",
        "print(type(lucky_number))\n",
        "\n",
        "print(\"--------\")\n",
        "lucky_number = int(lucky_number)\n",
        "print(lucky_number)\n",
        "print(type(lucky_number))"
      ],
      "metadata": {
        "colab": {
          "base_uri": "https://localhost:8080/"
        },
        "id": "uNIS9P8lK_yM",
        "outputId": "3bdeada9-5b01-49b2-c31a-39fdc06922b8"
      },
      "execution_count": null,
      "outputs": [
        {
          "output_type": "stream",
          "name": "stdout",
          "text": [
            "Please input your lucky number: 999\n",
            "999\n",
            "<class 'str'>\n",
            "--------\n",
            "999\n",
            "<class 'int'>\n"
          ]
        }
      ]
    },
    {
      "cell_type": "markdown",
      "source": [
        "# Basic Datatypes"
      ],
      "metadata": {
        "id": "Z_CiHeS3_vNX"
      }
    },
    {
      "cell_type": "code",
      "source": [
        "print(type(1))\n",
        "print(type(4.5))\n",
        "print(type(\"HELLO WORLD\"))"
      ],
      "metadata": {
        "colab": {
          "base_uri": "https://localhost:8080/"
        },
        "id": "_DtEwLwO_yJ5",
        "outputId": "8b8b4b00-fcbc-49c3-9028-a79fa983a9c3"
      },
      "execution_count": null,
      "outputs": [
        {
          "output_type": "stream",
          "name": "stdout",
          "text": [
            "<class 'int'>\n",
            "<class 'float'>\n",
            "<class 'str'>\n"
          ]
        }
      ]
    },
    {
      "cell_type": "markdown",
      "source": [
        "why datatypes matter?\n",
        "\n",
        "by knowing what datatype something is, we learn how to work with it, and what operations we're able to perform on it"
      ],
      "metadata": {
        "id": "S4iPd61rJrVS"
      }
    },
    {
      "cell_type": "code",
      "source": [
        "print(2 + 2)"
      ],
      "metadata": {
        "colab": {
          "base_uri": "https://localhost:8080/"
        },
        "id": "0yiWW_UQJzWh",
        "outputId": "6c0dfa18-0bbe-4365-8f3e-7bf49fbddbdd"
      },
      "execution_count": null,
      "outputs": [
        {
          "output_type": "stream",
          "name": "stdout",
          "text": [
            "4\n"
          ]
        }
      ]
    },
    {
      "cell_type": "code",
      "source": [
        "print(\"2\" + \"2\")"
      ],
      "metadata": {
        "colab": {
          "base_uri": "https://localhost:8080/"
        },
        "id": "ZKKEaViEJ7h2",
        "outputId": "2fdcaedc-0b9b-4e8b-c7d0-aefcd1043cec"
      },
      "execution_count": null,
      "outputs": [
        {
          "output_type": "stream",
          "name": "stdout",
          "text": [
            "22\n"
          ]
        }
      ]
    },
    {
      "cell_type": "code",
      "source": [
        "#print(2 + \"2\")\n",
        "#> TypeError: unsupported operand type(s) for +: 'int' and 'str'"
      ],
      "metadata": {
        "colab": {
          "base_uri": "https://localhost:8080/",
          "height": 169
        },
        "id": "o3Ayxv9LKS66",
        "outputId": "19493b0a-8af3-4fee-c5a2-164d3479d0b6"
      },
      "execution_count": null,
      "outputs": [
        {
          "output_type": "error",
          "ename": "TypeError",
          "evalue": "ignored",
          "traceback": [
            "\u001b[0;31m---------------------------------------------------------------------------\u001b[0m",
            "\u001b[0;31mTypeError\u001b[0m                                 Traceback (most recent call last)",
            "\u001b[0;32m<ipython-input-22-96788054896b>\u001b[0m in \u001b[0;36m<module>\u001b[0;34m()\u001b[0m\n\u001b[0;32m----> 1\u001b[0;31m \u001b[0mprint\u001b[0m\u001b[0;34m(\u001b[0m\u001b[0;36m2\u001b[0m \u001b[0;34m+\u001b[0m \u001b[0;34m\"2\"\u001b[0m\u001b[0;34m)\u001b[0m\u001b[0;34m\u001b[0m\u001b[0;34m\u001b[0m\u001b[0m\n\u001b[0m",
            "\u001b[0;31mTypeError\u001b[0m: unsupported operand type(s) for +: 'int' and 'str'"
          ]
        }
      ]
    },
    {
      "cell_type": "markdown",
      "source": [
        "convert between datatypes:"
      ],
      "metadata": {
        "id": "xeKfTyl-KsYO"
      }
    },
    {
      "cell_type": "code",
      "source": [
        "x = 5\n",
        "y = \"10\"\n",
        "\n",
        "print(str(x) + y)\n",
        "\n",
        "print(x + int(y))"
      ],
      "metadata": {
        "colab": {
          "base_uri": "https://localhost:8080/"
        },
        "id": "3kyxiVHyKqwz",
        "outputId": "eabbcb9f-3340-4222-f5a3-3fe6622ed9f9"
      },
      "execution_count": null,
      "outputs": [
        {
          "output_type": "stream",
          "name": "stdout",
          "text": [
            "510\n",
            "15\n"
          ]
        }
      ]
    },
    {
      "cell_type": "markdown",
      "source": [
        "## Numbers"
      ],
      "metadata": {
        "id": "A7ymEymLDMmu"
      }
    },
    {
      "cell_type": "code",
      "source": [
        "print(2 + 2)\n",
        "print(4.5 * 10)"
      ],
      "metadata": {
        "colab": {
          "base_uri": "https://localhost:8080/"
        },
        "id": "K1bxKOpZDN6Z",
        "outputId": "447e5c70-bb10-4eac-8eee-3e4fd5d357f9"
      },
      "execution_count": null,
      "outputs": [
        {
          "output_type": "stream",
          "name": "stdout",
          "text": [
            "4\n",
            "45.0\n"
          ]
        }
      ]
    },
    {
      "cell_type": "markdown",
      "source": [
        "## Strings"
      ],
      "metadata": {
        "id": "E04uuL46DXkM"
      }
    },
    {
      "cell_type": "code",
      "source": [
        "message = \"hello world\"\n",
        "\n",
        "print(type(message))\n",
        "\n",
        "# what are the methods and properties (CAPABILITIES) of this object?\n",
        "print(dir(message))"
      ],
      "metadata": {
        "colab": {
          "base_uri": "https://localhost:8080/"
        },
        "id": "zXPY6CWZDYrg",
        "outputId": "09b71232-09f5-46c9-fa31-463de104b7e2"
      },
      "execution_count": null,
      "outputs": [
        {
          "output_type": "stream",
          "name": "stdout",
          "text": [
            "<class 'str'>\n",
            "['__add__', '__class__', '__contains__', '__delattr__', '__dir__', '__doc__', '__eq__', '__format__', '__ge__', '__getattribute__', '__getitem__', '__getnewargs__', '__gt__', '__hash__', '__init__', '__init_subclass__', '__iter__', '__le__', '__len__', '__lt__', '__mod__', '__mul__', '__ne__', '__new__', '__reduce__', '__reduce_ex__', '__repr__', '__rmod__', '__rmul__', '__setattr__', '__sizeof__', '__str__', '__subclasshook__', 'capitalize', 'casefold', 'center', 'count', 'encode', 'endswith', 'expandtabs', 'find', 'format', 'format_map', 'index', 'isalnum', 'isalpha', 'isascii', 'isdecimal', 'isdigit', 'isidentifier', 'islower', 'isnumeric', 'isprintable', 'isspace', 'istitle', 'isupper', 'join', 'ljust', 'lower', 'lstrip', 'maketrans', 'partition', 'replace', 'rfind', 'rindex', 'rjust', 'rpartition', 'rsplit', 'rstrip', 'split', 'splitlines', 'startswith', 'strip', 'swapcase', 'title', 'translate', 'upper', 'zfill']\n"
          ]
        }
      ]
    },
    {
      "cell_type": "code",
      "source": [
        "print(message.lower())\n",
        "print(message.upper())\n",
        "print(message.title())\n",
        "print(message.replace(\"hello\", \"GOODBYE\"))"
      ],
      "metadata": {
        "colab": {
          "base_uri": "https://localhost:8080/"
        },
        "id": "fOZp_OpTOSgW",
        "outputId": "fd546eac-fe2e-4e0c-bbfd-c9bf863eb3c5"
      },
      "execution_count": null,
      "outputs": [
        {
          "output_type": "stream",
          "name": "stdout",
          "text": [
            "hello world\n",
            "HELLO WORLD\n",
            "Hello World\n",
            "GOODBYE world\n"
          ]
        }
      ]
    },
    {
      "cell_type": "code",
      "source": [
        "x = \"hello\"\n",
        "x = x.title()\n",
        "print(x)"
      ],
      "metadata": {
        "colab": {
          "base_uri": "https://localhost:8080/"
        },
        "id": "QqMqOGiZcq5K",
        "outputId": "c458ebc0-1425-4db5-a5b4-932d5aebf2ed"
      },
      "execution_count": null,
      "outputs": [
        {
          "output_type": "stream",
          "name": "stdout",
          "text": [
            "Hello\n"
          ]
        }
      ]
    },
    {
      "cell_type": "markdown",
      "source": [
        "## Booleans"
      ],
      "metadata": {
        "id": "Y9WSbBbqLxVj"
      }
    },
    {
      "cell_type": "code",
      "source": [
        "print(True)\n",
        "print(type(True))"
      ],
      "metadata": {
        "colab": {
          "base_uri": "https://localhost:8080/"
        },
        "id": "-aBa6LTHLyj9",
        "outputId": "7455ae68-9a7e-4879-da64-72d5868aae4b"
      },
      "execution_count": null,
      "outputs": [
        {
          "output_type": "stream",
          "name": "stdout",
          "text": [
            "True\n",
            "<class 'bool'>\n"
          ]
        }
      ]
    },
    {
      "cell_type": "code",
      "source": [
        "print(False)\n",
        "print(type(False))"
      ],
      "metadata": {
        "colab": {
          "base_uri": "https://localhost:8080/"
        },
        "id": "MCyLMnjEMFNN",
        "outputId": "6403aefd-d88e-439b-8510-5523af6a8ccd"
      },
      "execution_count": null,
      "outputs": [
        {
          "output_type": "stream",
          "name": "stdout",
          "text": [
            "False\n",
            "<class 'bool'>\n"
          ]
        }
      ]
    },
    {
      "cell_type": "markdown",
      "source": [
        "# Logical Operators"
      ],
      "metadata": {
        "id": "CP4a6hYpMYii"
      }
    },
    {
      "cell_type": "code",
      "source": [
        "# is what's on the left equal to what's on the right?\n",
        "print(4 == 5)\n",
        "print(4 == 4)"
      ],
      "metadata": {
        "colab": {
          "base_uri": "https://localhost:8080/"
        },
        "id": "nyluq_skMa9b",
        "outputId": "04b7bc4e-4a9b-4593-a816-f4dcf9c741a0"
      },
      "execution_count": null,
      "outputs": [
        {
          "output_type": "stream",
          "name": "stdout",
          "text": [
            "False\n",
            "True\n"
          ]
        }
      ]
    },
    {
      "cell_type": "code",
      "source": [
        "# is what's on the left NOT equal to what's on the right?\n",
        "print(4 != 5)\n",
        "print(4 != 4)"
      ],
      "metadata": {
        "colab": {
          "base_uri": "https://localhost:8080/"
        },
        "id": "rp6DnQMbMw8P",
        "outputId": "b8d14ab9-5f9b-47ab-963e-d3f6a6440266"
      },
      "execution_count": null,
      "outputs": [
        {
          "output_type": "stream",
          "name": "stdout",
          "text": [
            "True\n",
            "False\n"
          ]
        }
      ]
    },
    {
      "cell_type": "code",
      "source": [
        "# are both sides True?\n",
        "# the resulting value is only True if both sides are True\n",
        "# otherwise the resulting value will be False\n",
        "print(True and True)\n",
        "print(True and False)\n",
        "print(False and True)\n",
        "print(False and False)"
      ],
      "metadata": {
        "colab": {
          "base_uri": "https://localhost:8080/"
        },
        "id": "mmj3VXE4M-xt",
        "outputId": "acc52ac3-601e-4faf-e107-bf22d36d4bb4"
      },
      "execution_count": null,
      "outputs": [
        {
          "output_type": "stream",
          "name": "stdout",
          "text": [
            "True\n",
            "False\n",
            "False\n",
            "False\n"
          ]
        }
      ]
    },
    {
      "cell_type": "code",
      "source": [
        "# is either side true?\n",
        "# resulting expression will be True if either side is True\n",
        "# otherwise if both are false resulting value will be false\n",
        "print(True or True)\n",
        "print(True or False)\n",
        "print(False or True)\n",
        "print(False or False)"
      ],
      "metadata": {
        "colab": {
          "base_uri": "https://localhost:8080/"
        },
        "id": "phPlbRRQNjfz",
        "outputId": "0c0157c7-d4f1-43ba-b07c-ae88271231e0"
      },
      "execution_count": null,
      "outputs": [
        {
          "output_type": "stream",
          "name": "stdout",
          "text": [
            "True\n",
            "True\n",
            "True\n",
            "False\n"
          ]
        }
      ]
    },
    {
      "cell_type": "markdown",
      "source": [
        "once we learn about lists, we can use the inclusion operator"
      ],
      "metadata": {
        "id": "WUx7OXXwUkz5"
      }
    },
    {
      "cell_type": "code",
      "source": [
        "print(5 in [1,2,7,5])\n",
        "print(5 not in [1,2,7,5])"
      ],
      "metadata": {
        "colab": {
          "base_uri": "https://localhost:8080/"
        },
        "id": "pLOOGFp2575Z",
        "outputId": "00b66517-d7c0-44d7-ee3c-9a1f671f25ce"
      },
      "execution_count": null,
      "outputs": [
        {
          "output_type": "stream",
          "name": "stdout",
          "text": [
            "True\n",
            "False\n"
          ]
        }
      ]
    },
    {
      "cell_type": "code",
      "source": [
        "print(\"hello\" in \"hello world\")\n",
        "print(\"hello\" not in \"hello world\")\n",
        "print(\"HELLO\" in \"hello world\")"
      ],
      "metadata": {
        "colab": {
          "base_uri": "https://localhost:8080/"
        },
        "id": "aHwsYfDb58Ls",
        "outputId": "9c648fcc-6176-4c0f-8510-75e77df90130"
      },
      "execution_count": null,
      "outputs": [
        {
          "output_type": "stream",
          "name": "stdout",
          "text": [
            "True\n",
            "False\n",
            "False\n"
          ]
        }
      ]
    },
    {
      "cell_type": "markdown",
      "source": [
        "# Conditionals / IF Statements"
      ],
      "metadata": {
        "id": "EjJAtR0ELtcV"
      }
    },
    {
      "cell_type": "code",
      "source": [
        "#speed_mph = 110\n",
        "speed_mph = 50\n",
        "\n",
        "speed_limit_mph = 65\n",
        "\n",
        "if speed_mph > speed_limit_mph:\n",
        "    # only if the expression evaluates to true will the program even look here inside here\n",
        "    print(\"STOP SPEEDING\")\n",
        "else:\n",
        "    # only if false does the program look at this indented part\n",
        "    print(\"SPEED OK\")"
      ],
      "metadata": {
        "colab": {
          "base_uri": "https://localhost:8080/"
        },
        "id": "wUJeA_DfLv-W",
        "outputId": "0fe27660-8903-4470-d7c2-167c35719b2c"
      },
      "execution_count": null,
      "outputs": [
        {
          "output_type": "stream",
          "name": "stdout",
          "text": [
            "SPEED OK\n"
          ]
        }
      ]
    },
    {
      "cell_type": "code",
      "source": [
        "if 2 == 4:\n",
        "    # never reached\n",
        "    print(\"YEP\")\n",
        "\n",
        "\n",
        "print(\"BELOW\")"
      ],
      "metadata": {
        "colab": {
          "base_uri": "https://localhost:8080/"
        },
        "id": "8UvYBGTUPfjF",
        "outputId": "cb051b1d-d15e-4dec-c7ae-abd29ffb2f4d"
      },
      "execution_count": null,
      "outputs": [
        {
          "output_type": "stream",
          "name": "stdout",
          "text": [
            "BELOW\n"
          ]
        }
      ]
    },
    {
      "cell_type": "code",
      "source": [
        "if 2 == 4:\n",
        "    # never reached\n",
        "    print(\"YEP\")\n",
        "elif 2 == 5:\n",
        "    # never reached\n",
        "    print(\"ALSO\")\n",
        "elif 2 == 6:\n",
        "    # never reached\n",
        "    print(\"ALSO\")\n",
        "else:\n",
        "    print(\"NOPE\")"
      ],
      "metadata": {
        "colab": {
          "base_uri": "https://localhost:8080/"
        },
        "id": "39A7iSmTP33Y",
        "outputId": "4ec6681d-3621-4db0-9d49-6009782cb5b5"
      },
      "execution_count": null,
      "outputs": [
        {
          "output_type": "stream",
          "name": "stdout",
          "text": [
            "NOPE\n"
          ]
        }
      ]
    },
    {
      "cell_type": "markdown",
      "source": [
        "# Functions"
      ],
      "metadata": {
        "id": "IS87GAYKiRDl"
      }
    },
    {
      "cell_type": "code",
      "source": [
        "\n",
        "\n",
        "# write a function that accepts two parameters: a person's first name and their last name\n",
        "# the function should return that person's full name (which is a combo of their first and last name)\n",
        "\n",
        "first_name = \"Yan\"\n",
        "last_name = \"Solo\"\n",
        "\n",
        "print(first_name + \" \" + last_name)\n",
        "\n",
        "first_name = \"Juke\"\n",
        "last_name = \"Skywalker\"\n",
        "\n",
        "print(first_name + \" \" + last_name)\n"
      ],
      "metadata": {
        "colab": {
          "base_uri": "https://localhost:8080/"
        },
        "id": "ZJkNzo9liW_a",
        "outputId": "e3572df6-e32d-4c96-a603-a9f0a4d069bd"
      },
      "execution_count": null,
      "outputs": [
        {
          "output_type": "stream",
          "name": "stdout",
          "text": [
            "Yan Solo\n",
            "Juke Skywalker\n"
          ]
        }
      ]
    },
    {
      "cell_type": "code",
      "source": [
        "# defining (just once):\n",
        "\n",
        "def full_name(first_name, last_name):\n",
        "    #print(first_name + \" \" + last_name)\n",
        "    return first_name + \" \" + last_name\n",
        "\n",
        "\n",
        "# invoking:\n",
        "\n",
        "print(full_name(\"Yan\", \"Solo\"))\n",
        "\n",
        "print(full_name(\"Juke\", \"Skywalker\"))\n",
        "\n",
        "result = full_name(\"Leiah\", \"Skywalker\")\n",
        "print(result)\n",
        "\n",
        "# WRONG:\n",
        "print(full_name(\"Swift\", \"Taylor\"))\n",
        "\n",
        "print(full_name(last_name=\"Swift\", first_name=\"Taylor\"))\n"
      ],
      "metadata": {
        "colab": {
          "base_uri": "https://localhost:8080/"
        },
        "id": "NnWP0oAwjAka",
        "outputId": "aaf833fd-c885-4e6a-dfa3-b503856c1cc0"
      },
      "execution_count": null,
      "outputs": [
        {
          "output_type": "stream",
          "name": "stdout",
          "text": [
            "Yan Solo\n",
            "Juke Skywalker\n",
            "Leiah Skywalker\n",
            "Swift Taylor\n",
            "Taylor Swift\n"
          ]
        }
      ]
    },
    {
      "cell_type": "markdown",
      "source": [
        "# Container Datatypes"
      ],
      "metadata": {
        "id": "MiT2uzM36CTU"
      }
    },
    {
      "cell_type": "code",
      "source": [
        "print(type(1))\n",
        "print(type(1.0))\n",
        "print(type(\"1\"))\n",
        "print(type(True))\n",
        "print(type(False))"
      ],
      "metadata": {
        "colab": {
          "base_uri": "https://localhost:8080/"
        },
        "id": "Xa2H1B7XKV7n",
        "outputId": "651a08fe-e7f6-49e4-89a7-16e0c27899ed"
      },
      "execution_count": null,
      "outputs": [
        {
          "output_type": "stream",
          "name": "stdout",
          "text": [
            "<class 'int'>\n",
            "<class 'float'>\n",
            "<class 'str'>\n",
            "<class 'bool'>\n",
            "<class 'bool'>\n"
          ]
        }
      ]
    },
    {
      "cell_type": "markdown",
      "source": [
        "## Lists"
      ],
      "metadata": {
        "id": "55x-IeEE6Fnq"
      }
    },
    {
      "cell_type": "markdown",
      "source": [
        "square brackets on the extremities []\n",
        "\n",
        "comma separated items inside [1,2,3,4]"
      ],
      "metadata": {
        "id": "Dr7_2F9gKfMz"
      }
    },
    {
      "cell_type": "code",
      "source": [
        "print(type([1,2,3,4]))\n",
        "print(type([\"a\", \"b\", \"z\", \"hello\"]))\n",
        "print(type([True, True, True, False]))"
      ],
      "metadata": {
        "colab": {
          "base_uri": "https://localhost:8080/"
        },
        "id": "MUkVPend6E-z",
        "outputId": "5e3452f4-a62a-42ee-eadd-c3b61dc5d91a"
      },
      "execution_count": null,
      "outputs": [
        {
          "output_type": "stream",
          "name": "stdout",
          "text": [
            "<class 'list'>\n",
            "<class 'list'>\n",
            "<class 'list'>\n"
          ]
        }
      ]
    },
    {
      "cell_type": "code",
      "source": [
        "sales = [100, 200, 500]\n",
        "print(type(sales))"
      ],
      "metadata": {
        "colab": {
          "base_uri": "https://localhost:8080/"
        },
        "id": "iS6GsJpWK2kg",
        "outputId": "ccc06fe6-31a9-472d-82df-881f3bf10d7b"
      },
      "execution_count": null,
      "outputs": [
        {
          "output_type": "stream",
          "name": "stdout",
          "text": [
            "<class 'list'>\n"
          ]
        }
      ]
    },
    {
      "cell_type": "markdown",
      "source": [
        "access individual items inside the list by referencing their numeric position (called the index, which starts at 0)"
      ],
      "metadata": {
        "id": "JrP_2R2aLCP5"
      }
    },
    {
      "cell_type": "code",
      "source": [
        "sales = [100, 200, 500]\n",
        "print(type(sales))\n",
        "\n",
        "print(sales[0]) # 0 is index of first item\n",
        "print(sales[1])\n",
        "print(sales[2])\n",
        "# print(sales[3]) #> IndexError: list index out of range\n",
        "print(sales[-1]) # -1 index of last item\n"
      ],
      "metadata": {
        "colab": {
          "base_uri": "https://localhost:8080/"
        },
        "id": "Rx7to7afLHs5",
        "outputId": "90da07b2-54af-4daf-f9a3-853d496d7e68"
      },
      "execution_count": null,
      "outputs": [
        {
          "output_type": "stream",
          "name": "stdout",
          "text": [
            "<class 'list'>\n",
            "100\n",
            "200\n",
            "500\n",
            "500\n"
          ]
        }
      ]
    },
    {
      "cell_type": "markdown",
      "source": [
        "how many items in the list?"
      ],
      "metadata": {
        "id": "ZpJwa48GL7Zr"
      }
    },
    {
      "cell_type": "code",
      "source": [
        "print(len(sales))"
      ],
      "metadata": {
        "colab": {
          "base_uri": "https://localhost:8080/"
        },
        "id": "IgNxqwSBL9rz",
        "outputId": "f2288773-73e0-44ab-8d20-93d7ebb76799"
      },
      "execution_count": null,
      "outputs": [
        {
          "output_type": "stream",
          "name": "stdout",
          "text": [
            "3\n"
          ]
        }
      ]
    },
    {
      "cell_type": "markdown",
      "source": [
        "use the `.append()` function to add a new item to the end of the list\n",
        "\n",
        "we'll pass in the item we want to add\n",
        "\n",
        "we'll invoke this method on the list itself:"
      ],
      "metadata": {
        "id": "8yI6zT1R3FZO"
      }
    },
    {
      "cell_type": "code",
      "source": [
        "print(sales)\n",
        "print(type(sales))\n",
        "print(len(sales))\n",
        "\n",
        "# this is a \"mutating operations\" in other words\n",
        "# it changes the variable in place\n",
        "sales.append(9)\n",
        "\n",
        "print(sales)\n",
        "print(len(sales))"
      ],
      "metadata": {
        "colab": {
          "base_uri": "https://localhost:8080/"
        },
        "id": "H73VoA1T3Blm",
        "outputId": "bcd9012f-99a3-4d0d-dfba-fa85c4374a32"
      },
      "execution_count": null,
      "outputs": [
        {
          "output_type": "stream",
          "name": "stdout",
          "text": [
            "[100, 200, 500]\n",
            "<class 'list'>\n",
            "3\n",
            "[100, 200, 500, 9]\n",
            "4\n"
          ]
        }
      ]
    },
    {
      "cell_type": "code",
      "source": [
        "new_list = []\n",
        "print(len(new_list))\n",
        "print(new_list)\n",
        "\n",
        "new_list.append(100)\n",
        "new_list.append(100)\n",
        "\n",
        "print(len(new_list))\n",
        "print(new_list)"
      ],
      "metadata": {
        "colab": {
          "base_uri": "https://localhost:8080/"
        },
        "id": "O5BzGDwy34h0",
        "outputId": "5ab547c6-fd59-4edf-d1e3-723e73231e25"
      },
      "execution_count": null,
      "outputs": [
        {
          "output_type": "stream",
          "name": "stdout",
          "text": [
            "0\n",
            "[]\n",
            "2\n",
            "[100, 100]\n"
          ]
        }
      ]
    },
    {
      "cell_type": "markdown",
      "source": [
        "## Dictionaries"
      ],
      "metadata": {
        "id": "psyNH1SL6G3R"
      }
    },
    {
      "cell_type": "markdown",
      "source": [
        "squiggly braces on the extremities {}\n",
        "\n",
        "\"key value pairs\"\n",
        "\n",
        "instead of referencing items inside by their numeric position (like a list), we reference the items by a textual attribute name known as the \"key\""
      ],
      "metadata": {
        "id": "Vp55w9edMSIO"
      }
    },
    {
      "cell_type": "code",
      "source": [
        "#person = {k: v, k: v, k: v}\n",
        "#person = {\"first_name\": \"Scott\", \"last_name\": \"Jones\", \"age\": 100}\n",
        "person = {\n",
        "    \"first_name\": \"Scott\", \n",
        "    \"last_name\": \"Jones\", \n",
        "    \"age\": 100\n",
        "}\n",
        "\n",
        "print(type(person))"
      ],
      "metadata": {
        "colab": {
          "base_uri": "https://localhost:8080/"
        },
        "id": "IiucwOfZ6ISL",
        "outputId": "08a75583-506e-49cd-8165-f7930332fc50"
      },
      "execution_count": null,
      "outputs": [
        {
          "output_type": "stream",
          "name": "stdout",
          "text": [
            "<class 'dict'>\n"
          ]
        }
      ]
    },
    {
      "cell_type": "markdown",
      "source": [
        "we access items by their textual key name / attribute name"
      ],
      "metadata": {
        "id": "yrtkjXYQNAtn"
      }
    },
    {
      "cell_type": "code",
      "source": [
        "print(person[\"first_name\"])\n",
        "print(person[\"last_name\"])\n",
        "print(person[\"age\"])"
      ],
      "metadata": {
        "colab": {
          "base_uri": "https://localhost:8080/"
        },
        "id": "PQe62BGeM9kj",
        "outputId": "da0b504e-14f5-436b-9807-a015209ee31c"
      },
      "execution_count": null,
      "outputs": [
        {
          "output_type": "stream",
          "name": "stdout",
          "text": [
            "Scott\n",
            "Jones\n",
            "100\n"
          ]
        }
      ]
    },
    {
      "cell_type": "code",
      "source": [
        "print(person.keys())\n",
        "print(list(person.keys()))"
      ],
      "metadata": {
        "colab": {
          "base_uri": "https://localhost:8080/"
        },
        "id": "9Ef0FSCXNfMP",
        "outputId": "843ba039-6887-4651-8c3e-b4dab6e93a95"
      },
      "execution_count": null,
      "outputs": [
        {
          "output_type": "stream",
          "name": "stdout",
          "text": [
            "dict_keys(['first_name', 'last_name', 'age'])\n",
            "['first_name', 'last_name', 'age']\n"
          ]
        }
      ]
    },
    {
      "cell_type": "code",
      "source": [
        "print(person.values())\n",
        "print(list(person.values()))"
      ],
      "metadata": {
        "colab": {
          "base_uri": "https://localhost:8080/"
        },
        "id": "o2B1ssXLNpdm",
        "outputId": "39e9a987-4763-4d27-8d37-b2489621ba53"
      },
      "execution_count": null,
      "outputs": [
        {
          "output_type": "stream",
          "name": "stdout",
          "text": [
            "dict_values(['Scott', 'Jones', 100])\n",
            "['Scott', 'Jones', 100]\n"
          ]
        }
      ]
    },
    {
      "cell_type": "code",
      "source": [
        "print(person.items())\n",
        "print(list(person.items()))"
      ],
      "metadata": {
        "colab": {
          "base_uri": "https://localhost:8080/"
        },
        "id": "rghp0i8hNskg",
        "outputId": "2c279e81-6af2-4712-9658-6504b49a7405"
      },
      "execution_count": null,
      "outputs": [
        {
          "output_type": "stream",
          "name": "stdout",
          "text": [
            "dict_items([('first_name', 'Scott'), ('last_name', 'Jones'), ('age', 100)])\n",
            "[('first_name', 'Scott'), ('last_name', 'Jones'), ('age', 100)]\n"
          ]
        }
      ]
    },
    {
      "cell_type": "markdown",
      "source": [
        "# Built-in Modules"
      ],
      "metadata": {
        "id": "DpKW62y96TAk"
      }
    },
    {
      "cell_type": "markdown",
      "source": [
        "practice using the random module?\n",
        "\n",
        "https://www.geeksforgeeks.org/python-select-random-value-from-a-list/"
      ],
      "metadata": {
        "id": "TqiQ95pKIlLZ"
      }
    },
    {
      "cell_type": "code",
      "source": [
        "import random\n",
        " \n",
        "# initializing list\n",
        "test_list = [1, 4, 5, 2, 7]\n",
        " \n",
        "# printing original list\n",
        "print(\"Original list is : \" + str(test_list))\n",
        " \n",
        "# using random.choice() to\n",
        "# get a random number\n",
        "random_num = random.choice(test_list)\n",
        " \n",
        "# printing random number\n",
        "print(\"Random selected number is : \" + str(random_num))"
      ],
      "metadata": {
        "colab": {
          "base_uri": "https://localhost:8080/"
        },
        "id": "JFxXwLk-6Znk",
        "outputId": "b83cc37a-0db2-4761-de0c-da5b60f5e512"
      },
      "execution_count": null,
      "outputs": [
        {
          "output_type": "stream",
          "name": "stdout",
          "text": [
            "Original list is : [1, 4, 5, 2, 7]\n",
            "Random selected number is : 1\n"
          ]
        }
      ]
    },
    {
      "cell_type": "code",
      "source": [
        "import random\n",
        " \n",
        "flavors = [\"vanilla\", \"choc\", \"straw\"]\n",
        "random_flavor = random.choice(flavors)\n",
        "print(random_flavor)"
      ],
      "metadata": {
        "colab": {
          "base_uri": "https://localhost:8080/"
        },
        "id": "-MqpE-Cr6aSj",
        "outputId": "43e09e76-7d39-4338-f409-611742dd5abc"
      },
      "execution_count": null,
      "outputs": [
        {
          "output_type": "stream",
          "name": "stdout",
          "text": [
            "vanilla\n"
          ]
        }
      ]
    },
    {
      "cell_type": "markdown",
      "source": [
        "# List Operations"
      ],
      "metadata": {
        "id": "OS4lm9BW4weK"
      }
    },
    {
      "cell_type": "markdown",
      "source": [
        "## Looping / Iterating through Lists"
      ],
      "metadata": {
        "id": "Rf-INjjdwBGO"
      }
    },
    {
      "cell_type": "code",
      "source": [
        "sales = [100, 200, 500]\n",
        "print(type(sales))"
      ],
      "metadata": {
        "colab": {
          "base_uri": "https://localhost:8080/"
        },
        "id": "CBet79V2wEsP",
        "outputId": "6272555c-7a2c-4dc3-90c6-e58814a4ca8d"
      },
      "execution_count": null,
      "outputs": [
        {
          "output_type": "stream",
          "name": "stdout",
          "text": [
            "<class 'list'>\n"
          ]
        }
      ]
    },
    {
      "cell_type": "code",
      "source": [
        "#for _________ in _________:\n",
        "#    print(____________)\n",
        "\n",
        "# for some_item in existing_list_of_items:\n",
        "#     print(some_item)\n",
        "\n",
        "# for _________ in sales:\n",
        "#     print(____________)\n",
        "\n",
        "sales = [100, 200, 500]\n",
        "\n",
        "for x in sales:\n",
        "    print(\"-------\")\n",
        "    print(x)\n",
        "    # last line within the loop\n",
        "\n",
        "print(\"BOTTOM\")"
      ],
      "metadata": {
        "colab": {
          "base_uri": "https://localhost:8080/"
        },
        "id": "rGa0-W7K40Bh",
        "outputId": "1f0b673c-e2f4-446e-ffb5-41af89939a48"
      },
      "execution_count": null,
      "outputs": [
        {
          "output_type": "stream",
          "name": "stdout",
          "text": [
            "-------\n",
            "100\n",
            "-------\n",
            "200\n",
            "-------\n",
            "500\n",
            "BOTTOM\n"
          ]
        }
      ]
    },
    {
      "cell_type": "code",
      "source": [
        "sales = [100, 200, 500]\n",
        "\n",
        "for n in sales:\n",
        "    print(\"-------\")\n",
        "    print(n)\n",
        "    # last line within the loop\n",
        "\n",
        "print(\"BOTTOM\")"
      ],
      "metadata": {
        "colab": {
          "base_uri": "https://localhost:8080/"
        },
        "id": "EMROwiYW6YV7",
        "outputId": "b7276111-e585-4e4e-e7fd-2c1e937b908c"
      },
      "execution_count": null,
      "outputs": [
        {
          "output_type": "stream",
          "name": "stdout",
          "text": [
            "-------\n",
            "100\n",
            "-------\n",
            "200\n",
            "-------\n",
            "500\n",
            "BOTTOM\n"
          ]
        }
      ]
    },
    {
      "cell_type": "code",
      "source": [
        "new_sales = [100, 200, 500]\n",
        "\n",
        "for item in new_sales:\n",
        "    print(\"-------\")\n",
        "    print(item)\n",
        "    # last line within the loop\n",
        "\n",
        "print(\"BOTTOM\")"
      ],
      "metadata": {
        "colab": {
          "base_uri": "https://localhost:8080/"
        },
        "id": "XaKCfi5u6lBx",
        "outputId": "195fe98e-2683-4e22-a74b-fe4aa00bc3ac"
      },
      "execution_count": null,
      "outputs": [
        {
          "output_type": "stream",
          "name": "stdout",
          "text": [
            "-------\n",
            "100\n",
            "-------\n",
            "200\n",
            "-------\n",
            "500\n",
            "BOTTOM\n"
          ]
        }
      ]
    },
    {
      "cell_type": "code",
      "source": [
        "words = [\"hello\", \"goodbye\", \"awesome\"]\n",
        "\n",
        "for item in words:\n",
        "    print(\"-------\")\n",
        "    print(item)\n",
        "    # last line within the loop\n",
        "\n",
        "print(\"BOTTOM\")"
      ],
      "metadata": {
        "colab": {
          "base_uri": "https://localhost:8080/"
        },
        "id": "UvEZ_Y5z68n8",
        "outputId": "a0d70be0-5e45-4fd6-fcfe-0a242044a711"
      },
      "execution_count": null,
      "outputs": [
        {
          "output_type": "stream",
          "name": "stdout",
          "text": [
            "-------\n",
            "hello\n",
            "-------\n",
            "goodbye\n",
            "-------\n",
            "awesome\n",
            "BOTTOM\n"
          ]
        }
      ]
    },
    {
      "cell_type": "markdown",
      "source": [
        "## Sorting Lists"
      ],
      "metadata": {
        "id": "xmpq6VjVwJYR"
      }
    },
    {
      "cell_type": "code",
      "source": [
        "nums = [9, 6, 99, 3, 2, 1, 5, 2]\n",
        "print(nums)\n",
        "print(sorted(nums))\n",
        "print(sorted(nums, reverse=True))"
      ],
      "metadata": {
        "colab": {
          "base_uri": "https://localhost:8080/"
        },
        "id": "6bmNBi_QwKnp",
        "outputId": "99bae907-8b53-45f5-f686-05a76b0a3426"
      },
      "execution_count": null,
      "outputs": [
        {
          "output_type": "stream",
          "name": "stdout",
          "text": [
            "[9, 6, 99, 3, 2, 1, 5, 2]\n",
            "[1, 2, 2, 3, 5, 6, 9, 99]\n",
            "[99, 9, 6, 5, 3, 2, 2, 1]\n"
          ]
        }
      ]
    },
    {
      "cell_type": "code",
      "source": [
        "words = [\"hello\", \"yolo\", \"goodbye\", \"welcome\"]\n",
        "print(words)\n",
        "print(sorted(words))\n",
        "print(sorted(words, reverse=True))"
      ],
      "metadata": {
        "colab": {
          "base_uri": "https://localhost:8080/"
        },
        "id": "56ytzukQKNec",
        "outputId": "6c8c9ffb-0d16-463c-aaaa-4c56c3d9cddd"
      },
      "execution_count": null,
      "outputs": [
        {
          "output_type": "stream",
          "name": "stdout",
          "text": [
            "['hello', 'yolo', 'goodbye', 'welcome']\n",
            "['goodbye', 'hello', 'welcome', 'yolo']\n",
            "['yolo', 'welcome', 'hello', 'goodbye']\n"
          ]
        }
      ]
    },
    {
      "cell_type": "code",
      "source": [
        "from operator import itemgetter\n",
        "from pprint import pprint\n",
        "teams = [\n",
        "    {\"city\": \"New York\", \"name\": \"Yankees\"},\n",
        "    {\"city\": \"New York\", \"name\": \"Mets\"},\n",
        "    {\"city\": \"Boston\", \"name\": \"Red Sox\"},\n",
        "    {\"city\": \"New Haven\", \"name\": \"Ravens\"}\n",
        "]\n",
        "#pprint(teams)\n",
        "#print(sorted(teams)) #> TypeError: '<' not supported between instances of 'dict' and 'dict'\n",
        "#print(sorted(teams, reverse=True))\n",
        "\n",
        "print(\"SORTING BY CITY:\")\n",
        "print(\"-------\")\n",
        "pprint(sorted(teams, key=itemgetter(\"city\")))\n",
        "print(\"-------\")\n",
        "pprint(sorted(teams, key=itemgetter(\"city\"), reverse=True))\n",
        "\n",
        "print(\"SORTING BY NAME:\")\n",
        "print(\"-------\")\n",
        "pprint(sorted(teams, key=itemgetter(\"name\")))\n",
        "print(\"-------\")\n",
        "pprint(sorted(teams, key=itemgetter(\"name\"), reverse=True))\n"
      ],
      "metadata": {
        "colab": {
          "base_uri": "https://localhost:8080/"
        },
        "id": "RMkAbo7CKh_O",
        "outputId": "4e72a898-24a4-40d9-8625-bcd8cfedbb06"
      },
      "execution_count": null,
      "outputs": [
        {
          "output_type": "stream",
          "name": "stdout",
          "text": [
            "SORTING BY CITY:\n",
            "-------\n",
            "[{'city': 'Boston', 'name': 'Red Sox'},\n",
            " {'city': 'New Haven', 'name': 'Ravens'},\n",
            " {'city': 'New York', 'name': 'Yankees'},\n",
            " {'city': 'New York', 'name': 'Mets'}]\n",
            "-------\n",
            "[{'city': 'New York', 'name': 'Yankees'},\n",
            " {'city': 'New York', 'name': 'Mets'},\n",
            " {'city': 'New Haven', 'name': 'Ravens'},\n",
            " {'city': 'Boston', 'name': 'Red Sox'}]\n",
            "SORTING BY NAME:\n",
            "-------\n",
            "[{'city': 'New York', 'name': 'Mets'},\n",
            " {'city': 'New Haven', 'name': 'Ravens'},\n",
            " {'city': 'Boston', 'name': 'Red Sox'},\n",
            " {'city': 'New York', 'name': 'Yankees'}]\n",
            "-------\n",
            "[{'city': 'New York', 'name': 'Yankees'},\n",
            " {'city': 'Boston', 'name': 'Red Sox'},\n",
            " {'city': 'New Haven', 'name': 'Ravens'},\n",
            " {'city': 'New York', 'name': 'Mets'}]\n"
          ]
        }
      ]
    },
    {
      "cell_type": "markdown",
      "source": [
        "## Mapping / Transforming Lists\n"
      ],
      "metadata": {
        "id": "U6rPoNT0wLPX"
      }
    },
    {
      "cell_type": "code",
      "source": [
        "nums = [1, 2, 3, 4]\n",
        "bigger_nums = []\n",
        "\n",
        "for n in nums:\n",
        "    #print(n)\n",
        "    #print(n*100)\n",
        "    bigger_nums.append(n * 100)\n",
        "\n",
        "print(nums) #> [1, 2, 3, 4]\n",
        "print(bigger_nums) #> [100, 200, 300, 400]"
      ],
      "metadata": {
        "colab": {
          "base_uri": "https://localhost:8080/"
        },
        "id": "PhmIH6LFwM_G",
        "outputId": "b2074199-92c8-4f98-c91a-870fb47036a4"
      },
      "execution_count": null,
      "outputs": [
        {
          "output_type": "stream",
          "name": "stdout",
          "text": [
            "[1, 2, 3, 4]\n",
            "[100, 200, 300, 400]\n"
          ]
        }
      ]
    },
    {
      "cell_type": "markdown",
      "source": [
        "## Filtering Lists"
      ],
      "metadata": {
        "id": "eFDajHiPwNhF"
      }
    },
    {
      "cell_type": "code",
      "source": [
        "nums = [1, 2, 3, 4]\n",
        "matching_nums = []\n",
        "\n",
        "for n in nums:\n",
        "    print(n)\n",
        "    #matching_nums.append(n)\n",
        "    if n > 2:\n",
        "        matching_nums.append(n)\n",
        "\n",
        "print(\"-------\")\n",
        "print(nums) #> [1, 2, 3, 4]\n",
        "print(matching_nums) #> [3,4]"
      ],
      "metadata": {
        "colab": {
          "base_uri": "https://localhost:8080/"
        },
        "id": "9rmp92BpwPIJ",
        "outputId": "097d7d76-7a83-4683-c312-d0799469a050"
      },
      "execution_count": null,
      "outputs": [
        {
          "output_type": "stream",
          "name": "stdout",
          "text": [
            "1\n",
            "2\n",
            "3\n",
            "4\n",
            "-------\n",
            "[1, 2, 3, 4]\n",
            "[3, 4]\n"
          ]
        }
      ]
    },
    {
      "cell_type": "markdown",
      "source": [
        "## List Comprehensions\n",
        "\n",
        "see [separate exercise](https://colab.research.google.com/drive/1SBWW2Waedzn-FZRbaIxwP5HQz6smxBPe?usp=sharing)"
      ],
      "metadata": {
        "id": "QHSUc8oCAAOP"
      }
    }
  ]
}