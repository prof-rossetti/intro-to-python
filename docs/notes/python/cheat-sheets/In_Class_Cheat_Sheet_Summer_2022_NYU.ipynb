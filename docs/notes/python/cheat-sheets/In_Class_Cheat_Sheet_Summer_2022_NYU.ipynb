{
  "nbformat": 4,
  "nbformat_minor": 0,
  "metadata": {
    "colab": {
      "provenance": [],
      "collapsed_sections": [
        "3k9yZDWijvZv",
        "t7wqXtqhjxr8",
        "qBonFhruj2f8",
        "9HJVMd5Vj4Hr"
      ]
    },
    "kernelspec": {
      "name": "python3",
      "display_name": "Python 3"
    },
    "language_info": {
      "name": "python"
    }
  },
  "cells": [
    {
      "cell_type": "markdown",
      "source": [
        "# Class 2"
      ],
      "metadata": {
        "id": "__kAG_gWZ1-V"
      }
    },
    {
      "cell_type": "markdown",
      "source": [
        "## Outputs / Printing"
      ],
      "metadata": {
        "id": "8Pvm5bGBbfEz"
      }
    },
    {
      "cell_type": "code",
      "execution_count": null,
      "metadata": {
        "colab": {
          "base_uri": "https://localhost:8080/"
        },
        "id": "LzQdlhAhNJ97",
        "outputId": "50a7a70a-0098-44c2-de9d-9ff6c3ae61ae"
      },
      "outputs": [
        {
          "output_type": "stream",
          "name": "stdout",
          "text": [
            "4\n",
            "6\n"
          ]
        },
        {
          "output_type": "execute_result",
          "data": {
            "text/plain": [
              "100"
            ]
          },
          "metadata": {},
          "execution_count": 5
        }
      ],
      "source": [
        "\n",
        "\n",
        "print(2+2)\n",
        "\n",
        "print(3+3)\n",
        "\n",
        "100"
      ]
    },
    {
      "cell_type": "markdown",
      "source": [
        "## Variables\n",
        "\n",
        "storing values for later reference.\n",
        "\n",
        "can update a variable's value later. it can \"vary\" over time."
      ],
      "metadata": {
        "id": "FFFo7nJtbjSB"
      }
    },
    {
      "cell_type": "code",
      "source": [
        "# variables\n",
        "\n",
        "\n",
        "x = 100\n",
        "\n",
        "y = 50\n",
        "\n",
        "print(x + y)"
      ],
      "metadata": {
        "colab": {
          "base_uri": "https://localhost:8080/"
        },
        "id": "qUvm5k0QO9KG",
        "outputId": "6b4c8b20-057f-4f43-e79c-119fb20d1513"
      },
      "execution_count": null,
      "outputs": [
        {
          "output_type": "stream",
          "name": "stdout",
          "text": [
            "150\n"
          ]
        }
      ]
    },
    {
      "cell_type": "markdown",
      "source": [
        "use contextual variable names (using snake case) so our programs are easier to read and understand:"
      ],
      "metadata": {
        "id": "so3E07o0bpft"
      }
    },
    {
      "cell_type": "code",
      "source": [
        "\n",
        "\n",
        "speed_mph = 60\n",
        "\n",
        "miles = 100\n",
        "\n",
        "print(speed_mph * miles)\n",
        "\n",
        "# conditional\n",
        "\n",
        "if speed_mph > 60:\n",
        "    # only reached if true \n",
        "    print(\"STOP SPEEDING\")\n",
        "else:\n",
        "    # only reached if false\n",
        "    print(\"SPEED LIMIT OK\")"
      ],
      "metadata": {
        "colab": {
          "base_uri": "https://localhost:8080/"
        },
        "id": "RxKihs73PRJ1",
        "outputId": "5624aed8-0b75-4510-fa58-3fdfc8ab0430"
      },
      "execution_count": null,
      "outputs": [
        {
          "output_type": "stream",
          "name": "stdout",
          "text": [
            "6000\n",
            "SPEED LIMIT OK\n"
          ]
        }
      ]
    },
    {
      "cell_type": "markdown",
      "source": [],
      "metadata": {
        "id": "o7vaEq_QZKup"
      }
    },
    {
      "cell_type": "markdown",
      "source": [
        "## Basic Datatypes"
      ],
      "metadata": {
        "id": "qz-U0xuKbzvq"
      }
    },
    {
      "cell_type": "code",
      "source": [
        "# text inside quotes is a \"string\" datatype / textual message\n",
        "print(\"MY MESSAGE\")"
      ],
      "metadata": {
        "id": "MkCRDWXBRQel"
      },
      "execution_count": null,
      "outputs": []
    },
    {
      "cell_type": "code",
      "source": [
        "STOP SPEEDING"
      ],
      "metadata": {
        "colab": {
          "base_uri": "https://localhost:8080/",
          "height": 131
        },
        "id": "h1c5HoxIRaww",
        "outputId": "8a254b7f-d225-4499-f6a0-c0d01fd45745"
      },
      "execution_count": null,
      "outputs": [
        {
          "output_type": "error",
          "ename": "SyntaxError",
          "evalue": "ignored",
          "traceback": [
            "\u001b[0;36m  File \u001b[0;32m\"<ipython-input-9-8fbba5d5bf70>\"\u001b[0;36m, line \u001b[0;32m1\u001b[0m\n\u001b[0;31m    STOP SPEEDING\u001b[0m\n\u001b[0m                ^\u001b[0m\n\u001b[0;31mSyntaxError\u001b[0m\u001b[0;31m:\u001b[0m invalid syntax\n"
          ]
        }
      ]
    },
    {
      "cell_type": "code",
      "source": [
        "\"STOP SPEEDING\"\n",
        "print(\"STOP SPEEDING\")"
      ],
      "metadata": {
        "colab": {
          "base_uri": "https://localhost:8080/"
        },
        "id": "efmXTImTRg2X",
        "outputId": "41356f0a-a624-4403-f8a0-b5513d5a42e6"
      },
      "execution_count": null,
      "outputs": [
        {
          "output_type": "stream",
          "name": "stdout",
          "text": [
            "STOP SPEEDING\n"
          ]
        }
      ]
    },
    {
      "cell_type": "code",
      "source": [
        "# why do we care about datatypes\n",
        "\n",
        "# the kind of data we're working with...\n",
        "# determines what we can do with that data\n",
        "\n",
        "# numeric datatypes\n",
        "print(2 + 2)\n",
        "\n",
        "print(type(2))\n",
        "print(type(2.5))\n",
        "\n",
        "print(2 + 2.5)"
      ],
      "metadata": {
        "colab": {
          "base_uri": "https://localhost:8080/"
        },
        "id": "AOreYa_cRk7L",
        "outputId": "5c0bca5a-9ef5-4d87-a47b-cd08d9826a41"
      },
      "execution_count": null,
      "outputs": [
        {
          "output_type": "stream",
          "name": "stdout",
          "text": [
            "4\n",
            "<class 'int'>\n",
            "<class 'float'>\n",
            "4.5\n"
          ]
        }
      ]
    },
    {
      "cell_type": "code",
      "source": [
        "print(type(\"HELLO WORLD\"))\n",
        "\n",
        "print(type(\"2\"))\n",
        "print(\"2\")"
      ],
      "metadata": {
        "colab": {
          "base_uri": "https://localhost:8080/"
        },
        "id": "s994SsY4SQ8v",
        "outputId": "b449107d-485a-4aa3-8631-571a60bead76"
      },
      "execution_count": null,
      "outputs": [
        {
          "output_type": "stream",
          "name": "stdout",
          "text": [
            "<class 'str'>\n",
            "<class 'str'>\n",
            "2\n"
          ]
        }
      ]
    },
    {
      "cell_type": "code",
      "source": [
        "# string concatenation (joining together textual messages)\n",
        "print(\"2\" + \"2\")\n",
        "\n",
        "\n",
        "print(\"HELLO\" + \"WORLD\")"
      ],
      "metadata": {
        "colab": {
          "base_uri": "https://localhost:8080/"
        },
        "id": "mVBkoX7lSpYc",
        "outputId": "1facd001-261b-41a4-c49f-f03a9d15957f"
      },
      "execution_count": null,
      "outputs": [
        {
          "output_type": "stream",
          "name": "stdout",
          "text": [
            "22\n",
            "HELLOWORLD\n"
          ]
        }
      ]
    },
    {
      "cell_type": "code",
      "source": [
        "print(2 + \"2\")"
      ],
      "metadata": {
        "colab": {
          "base_uri": "https://localhost:8080/",
          "height": 166
        },
        "id": "J2dCAK4ITIKK",
        "outputId": "08813548-adf9-4d9f-bb05-03d173685ef4"
      },
      "execution_count": null,
      "outputs": [
        {
          "output_type": "error",
          "ename": "TypeError",
          "evalue": "ignored",
          "traceback": [
            "\u001b[0;31m---------------------------------------------------------------------------\u001b[0m",
            "\u001b[0;31mTypeError\u001b[0m                                 Traceback (most recent call last)",
            "\u001b[0;32m<ipython-input-19-96788054896b>\u001b[0m in \u001b[0;36m<module>\u001b[0;34m()\u001b[0m\n\u001b[0;32m----> 1\u001b[0;31m \u001b[0mprint\u001b[0m\u001b[0;34m(\u001b[0m\u001b[0;36m2\u001b[0m \u001b[0;34m+\u001b[0m \u001b[0;34m\"2\"\u001b[0m\u001b[0;34m)\u001b[0m\u001b[0;34m\u001b[0m\u001b[0;34m\u001b[0m\u001b[0m\n\u001b[0m",
            "\u001b[0;31mTypeError\u001b[0m: unsupported operand type(s) for +: 'int' and 'str'"
          ]
        }
      ]
    },
    {
      "cell_type": "markdown",
      "source": [
        "## User Inputs"
      ],
      "metadata": {
        "id": "1Hcsza8NTpxq"
      }
    },
    {
      "cell_type": "markdown",
      "source": [
        "asking the user to input some value (most helpful in local dev / terminal)\n",
        "\n"
      ],
      "metadata": {
        "id": "4la4HjFzcHON"
      }
    },
    {
      "cell_type": "code",
      "source": [
        "x = input(\"Please choose a fav ice cream flavor: \")\n",
        "print(x)"
      ],
      "metadata": {
        "colab": {
          "base_uri": "https://localhost:8080/"
        },
        "id": "jYVjOSCQTrVj",
        "outputId": "7ff8bc79-9bbf-40bc-ef52-93b99a5eae5f"
      },
      "execution_count": null,
      "outputs": [
        {
          "output_type": "stream",
          "name": "stdout",
          "text": [
            "Please choose a fav ice cream flavor: straw\n",
            "straw\n"
          ]
        }
      ]
    },
    {
      "cell_type": "markdown",
      "source": [
        "FYI: resulting value will always be a string!!"
      ],
      "metadata": {
        "id": "O6cXyQmFcNjh"
      }
    },
    {
      "cell_type": "code",
      "source": [
        "product_id = input(\"Select a product id (e.g. 9): \")\n",
        "print(product_id)\n",
        "print(type(product_id))"
      ],
      "metadata": {
        "colab": {
          "base_uri": "https://localhost:8080/"
        },
        "id": "iMOgWD9IcNKN",
        "outputId": "45194691-39a6-43c2-ae82-4c5c3159f82c"
      },
      "execution_count": null,
      "outputs": [
        {
          "output_type": "stream",
          "name": "stdout",
          "text": [
            "Select a product id (e.g. 9): 99\n",
            "99\n",
            "<class 'str'>\n"
          ]
        }
      ]
    },
    {
      "cell_type": "code",
      "source": [
        "# datatype conversion\n",
        "# int()\n",
        "# str()\n",
        "# bool()\n",
        "# list()\n",
        "# dict()\n",
        "\n",
        "new_id = int(product_id)\n",
        "print(new_id)\n",
        "print(type(new_id))"
      ],
      "metadata": {
        "colab": {
          "base_uri": "https://localhost:8080/"
        },
        "id": "Cdm3v7BscbXV",
        "outputId": "c44b14c4-6ca7-4ab0-fb59-5b81d4d087b4"
      },
      "execution_count": null,
      "outputs": [
        {
          "output_type": "stream",
          "name": "stdout",
          "text": [
            "99\n",
            "<class 'int'>\n"
          ]
        }
      ]
    },
    {
      "cell_type": "markdown",
      "source": [
        "# Class 3\n",
        "\n",
        "we weren't the most organized when introducing concepts last class, so let's be more organized, starting below...\n",
        "\n",
        "\n",
        "if you want you can remove the class 2 stuff."
      ],
      "metadata": {
        "id": "laTh-1Q2Z6JK"
      }
    },
    {
      "cell_type": "markdown",
      "source": [
        "## Outputs"
      ],
      "metadata": {
        "id": "Jmikos83Z8tM"
      }
    },
    {
      "cell_type": "code",
      "source": [
        "print(2)\n",
        "print(4.5)\n",
        "print(\"hello world\")"
      ],
      "metadata": {
        "colab": {
          "base_uri": "https://localhost:8080/"
        },
        "id": "j6FPOz_qaFUo",
        "outputId": "64596f94-4a2b-4b34-e5b4-744234276428"
      },
      "execution_count": null,
      "outputs": [
        {
          "output_type": "stream",
          "name": "stdout",
          "text": [
            "2\n",
            "4.5\n",
            "hello world\n"
          ]
        }
      ]
    },
    {
      "cell_type": "markdown",
      "source": [
        "print any number of objects separated by commas.\n",
        "the comma will introduce a space"
      ],
      "metadata": {
        "id": "-mPJsiulgKiV"
      }
    },
    {
      "cell_type": "code",
      "source": [
        "print(2, 4.5, \"hello world\")\n",
        "print(\"CONTEXT:\", 4)\n",
        "\n",
        "# alternatively to not use spaces, we can use string concatenation or a format string"
      ],
      "metadata": {
        "colab": {
          "base_uri": "https://localhost:8080/"
        },
        "id": "T735QedhgJnU",
        "outputId": "2c5ba722-b348-4f20-bf45-a583fee4b581"
      },
      "execution_count": null,
      "outputs": [
        {
          "output_type": "stream",
          "name": "stdout",
          "text": [
            "2 4.5 hello world\n",
            "CONTEXT: 4\n"
          ]
        }
      ]
    },
    {
      "cell_type": "markdown",
      "source": [
        "## Variables"
      ],
      "metadata": {
        "id": "5Y5iMVH9aF2y"
      }
    },
    {
      "cell_type": "markdown",
      "source": [
        "variable assignment uses the single equals sign"
      ],
      "metadata": {
        "id": "fDJCPcewjeH5"
      }
    },
    {
      "cell_type": "code",
      "source": [
        "x = 5\n",
        "print(x)\n",
        "\n",
        "y = 2 + 2\n",
        "print(y)\n",
        "\n",
        "print(\"--------\")\n",
        "\n",
        "z = 10\n",
        "print(z)\n",
        "\n",
        "z = z + 100\n",
        "print(z)\n",
        "\n",
        "z += 100\n",
        "print(z)"
      ],
      "metadata": {
        "colab": {
          "base_uri": "https://localhost:8080/"
        },
        "id": "RN2PyMc9aG9k",
        "outputId": "6af9a762-066e-4556-ddbf-991f14087dd9"
      },
      "execution_count": null,
      "outputs": [
        {
          "output_type": "stream",
          "name": "stdout",
          "text": [
            "5\n",
            "4\n",
            "--------\n",
            "10\n",
            "110\n",
            "210\n"
          ]
        }
      ]
    },
    {
      "cell_type": "markdown",
      "source": [
        "## Inputs"
      ],
      "metadata": {
        "id": "SJ55CJnfaJbJ"
      }
    },
    {
      "cell_type": "code",
      "source": [
        "fav_flav = input(\"what's your favorite flavor? \")\n",
        "print(fav_flav)"
      ],
      "metadata": {
        "colab": {
          "base_uri": "https://localhost:8080/"
        },
        "id": "G42agvcDaKfV",
        "outputId": "adbe7c43-fd92-4066-9406-7f9d74d2f94d"
      },
      "execution_count": null,
      "outputs": [
        {
          "output_type": "stream",
          "name": "stdout",
          "text": [
            "what's your favorite flavor? vanilla\n",
            "vanilla\n"
          ]
        }
      ]
    },
    {
      "cell_type": "markdown",
      "source": [
        "## Basic Datatypes"
      ],
      "metadata": {
        "id": "33ir_JBmaK2R"
      }
    },
    {
      "cell_type": "markdown",
      "source": [
        "### Numbers\n"
      ],
      "metadata": {
        "id": "BJxggoz3aX2T"
      }
    },
    {
      "cell_type": "code",
      "source": [
        "print(2)\n",
        "print(2+2)\n",
        "print(2*2)\n",
        "print(2/2)\n"
      ],
      "metadata": {
        "colab": {
          "base_uri": "https://localhost:8080/"
        },
        "id": "N_Xeh7_oaZr-",
        "outputId": "56fbd55a-40e0-443d-9b81-843a7c397856"
      },
      "execution_count": null,
      "outputs": [
        {
          "output_type": "stream",
          "name": "stdout",
          "text": [
            "2\n",
            "4\n",
            "4\n",
            "1.0\n"
          ]
        }
      ]
    },
    {
      "cell_type": "code",
      "source": [
        "print(2)\n",
        "print(4.5)"
      ],
      "metadata": {
        "colab": {
          "base_uri": "https://localhost:8080/"
        },
        "id": "gV7D8Bf0kfdN",
        "outputId": "9aa17caf-241d-4f8b-be2f-52b90a6d8aa1"
      },
      "execution_count": null,
      "outputs": [
        {
          "output_type": "stream",
          "name": "stdout",
          "text": [
            "2\n",
            "4.5\n"
          ]
        }
      ]
    },
    {
      "cell_type": "code",
      "source": [
        "print(type(2))\n",
        "print(type(2.0))\n",
        "print(type(4.5555))"
      ],
      "metadata": {
        "colab": {
          "base_uri": "https://localhost:8080/"
        },
        "id": "U7beal03km3j",
        "outputId": "d9f93e09-428c-4ac1-8b42-91e77b57032f"
      },
      "execution_count": null,
      "outputs": [
        {
          "output_type": "stream",
          "name": "stdout",
          "text": [
            "<class 'int'>\n",
            "<class 'float'>\n",
            "<class 'float'>\n"
          ]
        }
      ]
    },
    {
      "cell_type": "markdown",
      "source": [
        "### Strings"
      ],
      "metadata": {
        "id": "F_st_Jj1aZ7L"
      }
    },
    {
      "cell_type": "code",
      "source": [
        "print(\"HELLO\")\n",
        "\n",
        "message = \"HELLO\"\n",
        "print(message)\n",
        "\n",
        "print(type(message))"
      ],
      "metadata": {
        "colab": {
          "base_uri": "https://localhost:8080/"
        },
        "id": "aWDPTi52lXC3",
        "outputId": "d832bb65-cd97-4b58-d324-11a63db40b57"
      },
      "execution_count": null,
      "outputs": [
        {
          "output_type": "stream",
          "name": "stdout",
          "text": [
            "HELLO\n",
            "HELLO\n",
            "<class 'str'>\n"
          ]
        }
      ]
    },
    {
      "cell_type": "markdown",
      "source": [
        "joining two strings together (using concatenation or a format string)"
      ],
      "metadata": {
        "id": "Ao2Ze2oigy55"
      }
    },
    {
      "cell_type": "code",
      "source": [
        "print(\"HELLO\" + \"WORLD\")\n",
        "\n",
        "message = \"HELLO\" + \"WORLD\"\n",
        "print(message)\n",
        "\n",
        "print(\"HELLO \" + \"WORLD\")\n",
        "print(\"HELLO\" + \" WORLD\")\n",
        "print(\"HELLO\" + \" \" + \"WORLD\")"
      ],
      "metadata": {
        "colab": {
          "base_uri": "https://localhost:8080/"
        },
        "id": "0a_PXphJg2ja",
        "outputId": "ca61de3e-deb4-4e4e-fcb4-23af43286690"
      },
      "execution_count": null,
      "outputs": [
        {
          "output_type": "stream",
          "name": "stdout",
          "text": [
            "HELLOWORLD\n",
            "HELLOWORLD\n",
            "HELLO WORLD\n",
            "HELLO WORLD\n",
            "HELLO WORLD\n"
          ]
        }
      ]
    },
    {
      "cell_type": "code",
      "source": [
        "player_name = \"MJR\"\n",
        "print(\"Welcome\", player_name, \", to my game\")\n",
        "print(\"Welcome \" + player_name + \", to my game\")"
      ],
      "metadata": {
        "colab": {
          "base_uri": "https://localhost:8080/"
        },
        "id": "hCIGReKChWuE",
        "outputId": "165b9d28-a1bc-4b69-b1a6-858cff55c30e"
      },
      "execution_count": null,
      "outputs": [
        {
          "output_type": "stream",
          "name": "stdout",
          "text": [
            "Welcome MJR , to my game\n",
            "Welcome MJR, to my game\n"
          ]
        }
      ]
    },
    {
      "cell_type": "markdown",
      "source": [
        "format string / string interpolation:"
      ],
      "metadata": {
        "id": "Py325Ah7gw9K"
      }
    },
    {
      "cell_type": "code",
      "source": [
        "player_name = \"MJR\"\n",
        "\n",
        "print(\"Welcome {player_name}, to my game\") # this won't work. remember we also need the preceding f\n",
        "print(f\"Welcome {player_name}, to my game\")\n"
      ],
      "metadata": {
        "colab": {
          "base_uri": "https://localhost:8080/"
        },
        "id": "Vzv-vwHdabGC",
        "outputId": "d7aade45-5ad5-4708-c074-e51c58c8a796"
      },
      "execution_count": null,
      "outputs": [
        {
          "output_type": "stream",
          "name": "stdout",
          "text": [
            "Welcome {player_name}, to my game\n",
            "Welcome MJR, to my game\n"
          ]
        }
      ]
    },
    {
      "cell_type": "markdown",
      "source": [
        "object-oriented programming means the objects have their own capabilities (called methods), for example string case manipulation:"
      ],
      "metadata": {
        "id": "ML7qLt5xabye"
      }
    },
    {
      "cell_type": "code",
      "source": [
        "# when we pass something into a function, that's \"functional\" programming\n",
        "my_message = \"HELLO WORLD\"\n",
        "print(my_message)\n",
        "\n",
        "print(\"... is\", len(my_message), \"CHARACTERS LONG\")\n",
        "\n",
        "# we can also utilize the capabilities of any object / inherent within that object"
      ],
      "metadata": {
        "colab": {
          "base_uri": "https://localhost:8080/"
        },
        "id": "7zBsyGSAai0X",
        "outputId": "9890aa6d-e57f-4087-b76c-b44e64e6abed"
      },
      "execution_count": null,
      "outputs": [
        {
          "output_type": "stream",
          "name": "stdout",
          "text": [
            "HELLO WORLD\n",
            "... is 11 CHARACTERS LONG\n"
          ]
        }
      ]
    },
    {
      "cell_type": "code",
      "source": [
        "# the dir function tells us what capabilities an object has ON ITS OWN\n",
        "print(dir(my_message))"
      ],
      "metadata": {
        "colab": {
          "base_uri": "https://localhost:8080/"
        },
        "id": "zDgaFyFQmJqe",
        "outputId": "131bb8b3-d79c-40aa-c685-4b6b985a9927"
      },
      "execution_count": null,
      "outputs": [
        {
          "output_type": "stream",
          "name": "stdout",
          "text": [
            "['__add__', '__class__', '__contains__', '__delattr__', '__dir__', '__doc__', '__eq__', '__format__', '__ge__', '__getattribute__', '__getitem__', '__getnewargs__', '__gt__', '__hash__', '__init__', '__init_subclass__', '__iter__', '__le__', '__len__', '__lt__', '__mod__', '__mul__', '__ne__', '__new__', '__reduce__', '__reduce_ex__', '__repr__', '__rmod__', '__rmul__', '__setattr__', '__sizeof__', '__str__', '__subclasshook__', 'capitalize', 'casefold', 'center', 'count', 'encode', 'endswith', 'expandtabs', 'find', 'format', 'format_map', 'index', 'isalnum', 'isalpha', 'isascii', 'isdecimal', 'isdigit', 'isidentifier', 'islower', 'isnumeric', 'isprintable', 'isspace', 'istitle', 'isupper', 'join', 'ljust', 'lower', 'lstrip', 'maketrans', 'partition', 'replace', 'rfind', 'rindex', 'rjust', 'rpartition', 'rsplit', 'rstrip', 'split', 'splitlines', 'startswith', 'strip', 'swapcase', 'title', 'translate', 'upper', 'zfill']\n"
          ]
        }
      ]
    },
    {
      "cell_type": "code",
      "source": [
        "# some of the capabilities are \"properties\" or nouns \n",
        "# ... that don't require trailing parens\n",
        "\n",
        "# polo.size\n",
        "\n",
        "# some of the capabilities are \"methods\" or verbs\n",
        "# ... these do require trailing parens\n",
        "# ... methods are like functions\n",
        "# ... if we want to invoke a function, we need trailing parens\n",
        "\n",
        "# polo.fold()\n",
        "\n",
        "print(my_message.isdecimal())\n",
        "\n",
        "print(my_message.lower())\n",
        "print(my_message.upper())\n",
        "print(my_message.title())\n",
        "\n",
        "print(my_message.replace(\"HELLO\", \"GOODBYE\"))"
      ],
      "metadata": {
        "colab": {
          "base_uri": "https://localhost:8080/"
        },
        "id": "2wnbDRcCmbkV",
        "outputId": "b6b27d00-40ec-4b88-e78b-5607c626e1a3"
      },
      "execution_count": null,
      "outputs": [
        {
          "output_type": "stream",
          "name": "stdout",
          "text": [
            "False\n",
            "hello world\n",
            "HELLO WORLD\n",
            "Hello World\n",
            "GOODBYE WORLD\n"
          ]
        }
      ]
    },
    {
      "cell_type": "markdown",
      "source": [
        "## Booleans"
      ],
      "metadata": {
        "id": "0IkWozDvakhb"
      }
    },
    {
      "cell_type": "code",
      "source": [
        "# true or false\n",
        "\n",
        "print(True)\n",
        "print(False)"
      ],
      "metadata": {
        "colab": {
          "base_uri": "https://localhost:8080/"
        },
        "id": "dQUlPyeTanqX",
        "outputId": "7da39109-cc25-4fde-c225-9d4154d10ff3"
      },
      "execution_count": null,
      "outputs": [
        {
          "output_type": "stream",
          "name": "stdout",
          "text": [
            "True\n",
            "False\n"
          ]
        }
      ]
    },
    {
      "cell_type": "code",
      "source": [
        "print(type(True))\n",
        "print(type(False))"
      ],
      "metadata": {
        "colab": {
          "base_uri": "https://localhost:8080/"
        },
        "id": "wLX3vz4YpVCq",
        "outputId": "28bd6e1b-b625-4e23-a452-95677d63dc1c"
      },
      "execution_count": null,
      "outputs": [
        {
          "output_type": "stream",
          "name": "stdout",
          "text": [
            "<class 'bool'>\n",
            "<class 'bool'>\n"
          ]
        }
      ]
    },
    {
      "cell_type": "markdown",
      "source": [
        "## Logical Operators"
      ],
      "metadata": {
        "id": "HAZJs3PHaqNt"
      }
    },
    {
      "cell_type": "markdown",
      "source": [
        "double equals sign says \"is what's on the right equal to what's on the left?\n",
        "\n",
        "result in either True or False"
      ],
      "metadata": {
        "id": "kJuwN9LVqv0i"
      }
    },
    {
      "cell_type": "code",
      "source": [
        "print(True == True) # it is True they are the same\n",
        "print(True == False) # they are not the same\n",
        "print(False == False) # it is True they are the same"
      ],
      "metadata": {
        "colab": {
          "base_uri": "https://localhost:8080/"
        },
        "id": "3omlW7rpk3aq",
        "outputId": "2a3f029a-2c1f-4a8a-de5f-81003ab6f597"
      },
      "execution_count": null,
      "outputs": [
        {
          "output_type": "stream",
          "name": "stdout",
          "text": [
            "True\n",
            "False\n",
            "True\n"
          ]
        }
      ]
    },
    {
      "cell_type": "code",
      "source": [
        "print(2 == 2)\n",
        "print(2 == 4)\n",
        "print(2 == \"2\")"
      ],
      "metadata": {
        "colab": {
          "base_uri": "https://localhost:8080/"
        },
        "id": "m9C0jz15argL",
        "outputId": "6cedcc77-073d-4a3f-89b5-0a4f009c6c20"
      },
      "execution_count": null,
      "outputs": [
        {
          "output_type": "stream",
          "name": "stdout",
          "text": [
            "True\n",
            "False\n",
            "False\n"
          ]
        }
      ]
    },
    {
      "cell_type": "code",
      "source": [
        "# is what's on the left NOT EQUAL to what's on the right?\n",
        "print(2 != 2)\n",
        "print(2 != 4)\n",
        "print(2 != \"2\")"
      ],
      "metadata": {
        "colab": {
          "base_uri": "https://localhost:8080/"
        },
        "id": "n5ovHrQWasJh",
        "outputId": "88d8dc4b-edc1-4493-bed1-0e6bc3b65f10"
      },
      "execution_count": null,
      "outputs": [
        {
          "output_type": "stream",
          "name": "stdout",
          "text": [
            "False\n",
            "True\n",
            "True\n"
          ]
        }
      ]
    },
    {
      "cell_type": "code",
      "source": [
        "# arithmetic operators ( greater / less than)\n",
        "# is left greater than right?\n",
        "print(2 > 4)\n",
        "print(2 >= 4)"
      ],
      "metadata": {
        "colab": {
          "base_uri": "https://localhost:8080/"
        },
        "id": "nSbC2sfWar__",
        "outputId": "f989b93e-cd08-4f2b-8075-26085946e3ec"
      },
      "execution_count": null,
      "outputs": [
        {
          "output_type": "stream",
          "name": "stdout",
          "text": [
            "False\n",
            "False\n"
          ]
        }
      ]
    },
    {
      "cell_type": "code",
      "source": [
        "# and operator\n",
        "# ONLY IF BOTH SIDES ARE TRUE will the resulting expression be True\n",
        "# OTHERWISE FALSE IN THE REST OF CASES\n",
        "print(True and True)\n",
        "print(True and False)\n",
        "print(False and True)\n",
        "print(False and False)"
      ],
      "metadata": {
        "colab": {
          "base_uri": "https://localhost:8080/"
        },
        "id": "NF735YqJar4n",
        "outputId": "1e57d52f-d53e-4f7f-b675-9f16f81ba3fc"
      },
      "execution_count": null,
      "outputs": [
        {
          "output_type": "stream",
          "name": "stdout",
          "text": [
            "True\n",
            "False\n",
            "False\n",
            "False\n"
          ]
        }
      ]
    },
    {
      "cell_type": "code",
      "source": [
        "# or operator\n",
        "# IF EITHER OR BOTH sides are true, the resulting expression is True\n",
        "print(True or True)\n",
        "print(True or False)\n",
        "print(False or True)\n",
        "print(False or False)"
      ],
      "metadata": {
        "colab": {
          "base_uri": "https://localhost:8080/"
        },
        "id": "EPgElgGDart8",
        "outputId": "eb50f59c-d010-4c41-930c-97320d097f6f"
      },
      "execution_count": null,
      "outputs": [
        {
          "output_type": "stream",
          "name": "stdout",
          "text": [
            "True\n",
            "True\n",
            "True\n",
            "False\n"
          ]
        }
      ]
    },
    {
      "cell_type": "markdown",
      "source": [
        "inclusion operators:"
      ],
      "metadata": {
        "id": "iA2hjN2JEQKq"
      }
    },
    {
      "cell_type": "code",
      "source": [
        "print(\"hello\" in \"hello world\")\n",
        "print(\"HELLO\" in \"hello world\")"
      ],
      "metadata": {
        "colab": {
          "base_uri": "https://localhost:8080/"
        },
        "id": "Tx3IGkLMEcT7",
        "outputId": "63188f01-9474-44ea-daa6-e87c5f21efd9"
      },
      "execution_count": null,
      "outputs": [
        {
          "output_type": "stream",
          "name": "stdout",
          "text": [
            "True\n",
            "False\n"
          ]
        }
      ]
    },
    {
      "cell_type": "code",
      "source": [
        "# FYI: my_nums is a list, which we'll learn more about soon\n",
        "my_nums = [1,3,5]\n",
        "print(5 in my_nums)\n",
        "print(5 not in my_nums)"
      ],
      "metadata": {
        "colab": {
          "base_uri": "https://localhost:8080/"
        },
        "id": "sqs1TA5bES_k",
        "outputId": "681c5024-9f3a-4639-8523-dfd7c323a39d"
      },
      "execution_count": null,
      "outputs": [
        {
          "output_type": "stream",
          "name": "stdout",
          "text": [
            "True\n",
            "False\n"
          ]
        }
      ]
    },
    {
      "cell_type": "markdown",
      "source": [
        "## Conditionals / IF Statements"
      ],
      "metadata": {
        "id": "5STf7R0zatgU"
      }
    },
    {
      "cell_type": "code",
      "source": [
        "if True:\n",
        "    print(\"YUP\")\n",
        "else:\n",
        "    print(\"NOPE\")\n",
        "\n",
        "print(\"BOTTOM\")"
      ],
      "metadata": {
        "colab": {
          "base_uri": "https://localhost:8080/"
        },
        "id": "HotvIiieavb9",
        "outputId": "f9ae4b02-0ec4-4913-cd85-978f90d82e4f"
      },
      "execution_count": null,
      "outputs": [
        {
          "output_type": "stream",
          "name": "stdout",
          "text": [
            "YUP\n",
            "BOTTOM\n"
          ]
        }
      ]
    },
    {
      "cell_type": "code",
      "source": [
        "if True:\n",
        "    print(\"YEP\")\n",
        "\n",
        "print(\"BOTTOM\")"
      ],
      "metadata": {
        "colab": {
          "base_uri": "https://localhost:8080/"
        },
        "id": "O5iv0zRPqLAu",
        "outputId": "1fb867c6-22b2-4196-e450-e631e58de908"
      },
      "execution_count": null,
      "outputs": [
        {
          "output_type": "stream",
          "name": "stdout",
          "text": [
            "YEP\n",
            "BOTTOM\n"
          ]
        }
      ]
    },
    {
      "cell_type": "code",
      "source": [
        "if False:\n",
        "    print(\"YEP\")\n",
        "\n",
        "print(\"BOTTOM\")"
      ],
      "metadata": {
        "colab": {
          "base_uri": "https://localhost:8080/"
        },
        "id": "Few--eyCmYUy",
        "outputId": "eeb6e70c-540e-45bb-cb9b-ec684e0cc61f"
      },
      "execution_count": null,
      "outputs": [
        {
          "output_type": "stream",
          "name": "stdout",
          "text": [
            "BOTTOM\n"
          ]
        }
      ]
    },
    {
      "cell_type": "code",
      "source": [
        "print(2==2) #> True\n",
        "\n",
        "if 2 == 2:\n",
        "    print(\"YEP\")\n",
        "else:\n",
        "    print(\"NOPE\")\n",
        "\n",
        "print(\"BOTTOM\")"
      ],
      "metadata": {
        "colab": {
          "base_uri": "https://localhost:8080/"
        },
        "id": "AQcQCgTQrZIG",
        "outputId": "737268c5-1c8c-4e92-de28-adbf78216bb3"
      },
      "execution_count": null,
      "outputs": [
        {
          "output_type": "stream",
          "name": "stdout",
          "text": [
            "True\n",
            "YEP\n",
            "BOTTOM\n"
          ]
        }
      ]
    },
    {
      "cell_type": "code",
      "source": [
        "print(2 > 5)\n",
        "\n",
        "if 2 > 5:\n",
        "    print(\"YEP\")\n",
        "else:\n",
        "    print(\"NOPE\")\n",
        "\n",
        "print(\"BOTTOM\")"
      ],
      "metadata": {
        "colab": {
          "base_uri": "https://localhost:8080/"
        },
        "id": "EmEibQSMrkzg",
        "outputId": "f6aecc56-465d-428c-a9bd-69bec9948a65"
      },
      "execution_count": null,
      "outputs": [
        {
          "output_type": "stream",
          "name": "stdout",
          "text": [
            "False\n",
            "NOPE\n",
            "BOTTOM\n"
          ]
        }
      ]
    },
    {
      "cell_type": "markdown",
      "source": [
        "## Datatype Detection"
      ],
      "metadata": {
        "id": "pu8ECH1QRAE_"
      }
    },
    {
      "cell_type": "code",
      "source": [
        "print(type(1))\n",
        "print(type(1.0))\n",
        "print(type(\"hello\"))\n",
        "print(type(True))\n",
        "print(type(False))\n"
      ],
      "metadata": {
        "colab": {
          "base_uri": "https://localhost:8080/"
        },
        "id": "UU0H4oiB3zgS",
        "outputId": "f797fc2f-82bf-4a12-e652-7b24a938be18"
      },
      "execution_count": null,
      "outputs": [
        {
          "output_type": "stream",
          "name": "stdout",
          "text": [
            "<class 'int'>\n",
            "<class 'float'>\n",
            "<class 'str'>\n",
            "<class 'bool'>\n",
            "<class 'bool'>\n"
          ]
        }
      ]
    },
    {
      "cell_type": "markdown",
      "source": [
        "## Intermediate / Container Datatypes"
      ],
      "metadata": {
        "id": "HxRAgMr5av8U"
      }
    },
    {
      "cell_type": "markdown",
      "source": [
        "### Lists"
      ],
      "metadata": {
        "id": "CL_Ou4h7ayLA"
      }
    },
    {
      "cell_type": "markdown",
      "source": [
        "lists have square brackets on the extremities\n",
        "\n",
        "lists have comma separated items\n",
        "\n",
        "\n",
        "the order matters\n",
        "\n",
        "we can access individual items by their numeric position, called the index. the index of the first item in a list is zero!"
      ],
      "metadata": {
        "id": "vqhx_VXb4pCz"
      }
    },
    {
      "cell_type": "code",
      "source": [
        "print(\"-------\")\n",
        "# container datatypes\n",
        "# LIST\n",
        "print(type([1,2,3,4]))\n",
        "print(type([\"a\", \"z\", \"hello\"]))\n",
        "print(type([True, True, False, True]))"
      ],
      "metadata": {
        "colab": {
          "base_uri": "https://localhost:8080/"
        },
        "id": "k6_myQzt4n_8",
        "outputId": "6fd3634e-8c51-449b-f43c-c164bf68ada2"
      },
      "execution_count": null,
      "outputs": [
        {
          "output_type": "stream",
          "name": "stdout",
          "text": [
            "-------\n",
            "<class 'list'>\n",
            "<class 'list'>\n",
            "<class 'list'>\n"
          ]
        }
      ]
    },
    {
      "cell_type": "code",
      "source": [
        "sales = [100, 200, 250]\n",
        "print(type(sales))"
      ],
      "metadata": {
        "colab": {
          "base_uri": "https://localhost:8080/"
        },
        "id": "Y1A2oQ1f4ZtL",
        "outputId": "3b696c72-ca90-487d-c11f-abce7cf2e904"
      },
      "execution_count": null,
      "outputs": [
        {
          "output_type": "stream",
          "name": "stdout",
          "text": [
            "<class 'list'>\n"
          ]
        }
      ]
    },
    {
      "cell_type": "code",
      "source": [
        "print(sales[0]) # first item index is 0\n",
        "print(sales[1])\n",
        "print(sales[2])\n",
        "#print(sales[3]) #> IndexError: list index out of range\n",
        "\n",
        "print(\"-----------\")\n",
        "# reverse index\n",
        "#print(sales[-4]) # #> IndexError: list index out of range\n",
        "print(sales[-3]) #\n",
        "print(sales[-2]) #\n",
        "print(sales[-1]) # last item index is -1"
      ],
      "metadata": {
        "colab": {
          "base_uri": "https://localhost:8080/"
        },
        "id": "V26XxPgva0An",
        "outputId": "14d21085-99c4-4d2b-ad1f-a792f66d0e74"
      },
      "execution_count": null,
      "outputs": [
        {
          "output_type": "stream",
          "name": "stdout",
          "text": [
            "100\n",
            "200\n",
            "250\n",
            "-----------\n",
            "100\n",
            "200\n",
            "250\n"
          ]
        }
      ]
    },
    {
      "cell_type": "code",
      "source": [
        "# LEN FUNCTION COUNTS THE NUMBER OF ITEMS IN A LIST\n",
        "print(len(sales))"
      ],
      "metadata": {
        "colab": {
          "base_uri": "https://localhost:8080/"
        },
        "id": "w248ufHs5OcT",
        "outputId": "bd731a13-b5a5-4139-db83-81fe38e112dc"
      },
      "execution_count": null,
      "outputs": [
        {
          "output_type": "stream",
          "name": "stdout",
          "text": [
            "3\n"
          ]
        }
      ]
    },
    {
      "cell_type": "markdown",
      "source": [
        "### Dictionaries"
      ],
      "metadata": {
        "id": "Id0Gmq9Wa0QQ"
      }
    },
    {
      "cell_type": "markdown",
      "source": [
        "have squiggly braces on the extremities\n",
        "\n",
        "are said to have \"key value pairs\"\n",
        "\n",
        "dictionaries are like lists, but we give a textual name to each value contained (instead of a index / numeric position)"
      ],
      "metadata": {
        "id": "IPTFwpkp5sVa"
      }
    },
    {
      "cell_type": "code",
      "source": [
        "#person = {_____, _______, _______}\n",
        "#person = {\"first_name\": \"Alex\", \"last_name\": \"Lang\", \"height\": \"tall\"}\n",
        "person = {\n",
        "    \"first_name\": \"Alex\", \n",
        "    \"last_name\": \"Lang\", \n",
        "    \"height\": \"tall\"\n",
        "}\n",
        "print(person)\n",
        "print(type(person))"
      ],
      "metadata": {
        "colab": {
          "base_uri": "https://localhost:8080/"
        },
        "id": "TLQ-sLOZa1x4",
        "outputId": "7071fa93-0057-4b0f-f3e0-2d8fe3b92261"
      },
      "execution_count": null,
      "outputs": [
        {
          "output_type": "stream",
          "name": "stdout",
          "text": [
            "{'first_name': 'Alex', 'last_name': 'Lang', 'height': 'tall'}\n",
            "<class 'dict'>\n"
          ]
        }
      ]
    },
    {
      "cell_type": "code",
      "source": [
        "print(person[\"first_name\"])\n",
        "print(person[\"last_name\"])"
      ],
      "metadata": {
        "colab": {
          "base_uri": "https://localhost:8080/"
        },
        "id": "Ee8DWeBQ6fE-",
        "outputId": "fa8eb990-d3c8-4843-ee83-18ae53595bdf"
      },
      "execution_count": null,
      "outputs": [
        {
          "output_type": "stream",
          "name": "stdout",
          "text": [
            "Alex\n",
            "Lang\n"
          ]
        }
      ]
    },
    {
      "cell_type": "markdown",
      "source": [
        "what keys / attribute names exist in this dict?"
      ],
      "metadata": {
        "id": "AqoUMNLE7EnB"
      }
    },
    {
      "cell_type": "code",
      "source": [
        "print(person.keys())\n",
        "print(list(person.keys()))"
      ],
      "metadata": {
        "colab": {
          "base_uri": "https://localhost:8080/"
        },
        "id": "iNBVfONd69A1",
        "outputId": "5aa2855d-7d8f-4570-aaf1-f342aef80166"
      },
      "execution_count": null,
      "outputs": [
        {
          "output_type": "stream",
          "name": "stdout",
          "text": [
            "dict_keys(['first_name', 'last_name', 'height'])\n",
            "['first_name', 'last_name', 'height']\n"
          ]
        }
      ]
    },
    {
      "cell_type": "code",
      "source": [
        "print(person.values())\n",
        "print(list(person.values()))"
      ],
      "metadata": {
        "colab": {
          "base_uri": "https://localhost:8080/"
        },
        "id": "M0bUHtV07SN0",
        "outputId": "416f8e92-6b7a-4c57-a367-bfdf9c2580e4"
      },
      "execution_count": null,
      "outputs": [
        {
          "output_type": "stream",
          "name": "stdout",
          "text": [
            "dict_values(['Alex', 'Lang', 'tall'])\n",
            "['Alex', 'Lang', 'tall']\n"
          ]
        }
      ]
    },
    {
      "cell_type": "code",
      "source": [
        "print(person.items())\n",
        "print(list(person.items()))"
      ],
      "metadata": {
        "colab": {
          "base_uri": "https://localhost:8080/"
        },
        "id": "Vn9x7g1r7V0h",
        "outputId": "8018b648-81df-407a-cf3f-faab3497908b"
      },
      "execution_count": null,
      "outputs": [
        {
          "output_type": "stream",
          "name": "stdout",
          "text": [
            "dict_items([('first_name', 'Alex'), ('last_name', 'Lang'), ('height', 'tall')])\n",
            "[('first_name', 'Alex'), ('last_name', 'Lang'), ('height', 'tall')]\n"
          ]
        }
      ]
    },
    {
      "cell_type": "markdown",
      "source": [
        "# Class 4"
      ],
      "metadata": {
        "id": "EDXg3BW6jtgI"
      }
    },
    {
      "cell_type": "markdown",
      "source": [
        "## Importing Modules or Packages"
      ],
      "metadata": {
        "id": "O4RwK6mtXMRR"
      }
    },
    {
      "cell_type": "markdown",
      "source": [
        "Modules like `random` and `statistics` are built-in to the [Python standard library](https://docs.python.org/3/library/) and the already installed, but require importation to use."
      ],
      "metadata": {
        "id": "VlQuiGRToJde"
      }
    },
    {
      "cell_type": "code",
      "source": [
        "# OPTION A) import all functions provided by this module:\n",
        "import random\n",
        "\n",
        "my_nums = [1,2,3,4,5,6,7,8,9]\n",
        "\n",
        "# ... in which case we need to prefix the function with the module name\n",
        "# ... to let Python know where that function definition is coming from\n",
        "print(random.choice(my_nums))"
      ],
      "metadata": {
        "colab": {
          "base_uri": "https://localhost:8080/"
        },
        "id": "fjBzzCG_XOox",
        "outputId": "e1d30e93-5500-429f-9d5a-f2451623e0da"
      },
      "execution_count": null,
      "outputs": [
        {
          "output_type": "stream",
          "name": "stdout",
          "text": [
            "1\n"
          ]
        }
      ]
    },
    {
      "cell_type": "code",
      "source": [
        "# OPTION B) only import the function we care about from this module:\n",
        "from random import choice\n",
        "\n",
        "my_nums = [1,2,3,4,5,6,7,8,9]\n",
        "\n",
        "# ... in which case we can invoke the function directly:\n",
        "print(choice(my_nums))"
      ],
      "metadata": {
        "colab": {
          "base_uri": "https://localhost:8080/"
        },
        "id": "jGfpvE2aX9i6",
        "outputId": "001c73fe-f119-42f6-cbc9-29db29faf576"
      },
      "execution_count": null,
      "outputs": [
        {
          "output_type": "stream",
          "name": "stdout",
          "text": [
            "1\n"
          ]
        }
      ]
    },
    {
      "cell_type": "markdown",
      "source": [
        "Third-party packages like `numpy` generally require installation via `pip` command line tool, but in Colab most popular packages are already installed. Like modules, packages also require importation to use."
      ],
      "metadata": {
        "id": "OTSlcNNQoTtP"
      }
    },
    {
      "cell_type": "code",
      "source": [
        "# OPTION A: use the entire pacakge name\n",
        "import numpy\n",
        "\n",
        "my_nums = [1,2,3,4,5,6,7,8,9]\n",
        "\n",
        "# ... in which case reference the entire package by name:\n",
        "print(\"MEAN:\", numpy.mean(my_nums))"
      ],
      "metadata": {
        "colab": {
          "base_uri": "https://localhost:8080/"
        },
        "id": "RFyuXvhwoiKt",
        "outputId": "fe87b391-1c27-4de7-d2fe-d7c5c9bbc480"
      },
      "execution_count": null,
      "outputs": [
        {
          "output_type": "stream",
          "name": "stdout",
          "text": [
            "5.0\n"
          ]
        }
      ]
    },
    {
      "cell_type": "code",
      "source": [
        "# OPTION B: use an alias\n",
        "import numpy as np\n",
        "\n",
        "my_nums = [1,2,3,4,5,6,7,8,9]\n",
        "\n",
        "# ... in which case use the alias in place of the package name:\n",
        "print(\"MEAN:\", np.mean(my_nums))"
      ],
      "metadata": {
        "id": "AVQY90VUoz_O"
      },
      "execution_count": null,
      "outputs": []
    },
    {
      "cell_type": "markdown",
      "source": [
        "## Looping through Lists"
      ],
      "metadata": {
        "id": "3k9yZDWijvZv"
      }
    },
    {
      "cell_type": "code",
      "source": [
        "nums = [6, 3, 100, 5, 3]\n",
        "print(type(nums))"
      ],
      "metadata": {
        "colab": {
          "base_uri": "https://localhost:8080/"
        },
        "id": "7leNbfmY4HE7",
        "outputId": "a0f4d20e-730c-4e4d-d5ae-4e73bbf6df4e"
      },
      "execution_count": null,
      "outputs": [
        {
          "output_type": "stream",
          "name": "stdout",
          "text": [
            "<class 'list'>\n"
          ]
        }
      ]
    },
    {
      "cell_type": "code",
      "source": [
        "words = [\"apple\", \"cat\", \"banana\", \"zebra\", \"new\"]\n",
        "#words = [\"apple\", \"cat\"]\n",
        "print(type(words))"
      ],
      "metadata": {
        "colab": {
          "base_uri": "https://localhost:8080/"
        },
        "id": "n_FhrK9y24Fg",
        "outputId": "c6ee06ba-0af5-4c0b-92ee-a2294ef68b7a"
      },
      "execution_count": null,
      "outputs": [
        {
          "output_type": "stream",
          "name": "stdout",
          "text": [
            "<class 'list'>\n"
          ]
        }
      ]
    },
    {
      "cell_type": "code",
      "source": [
        "#print(words[0])\n",
        "#print(words[1])\n",
        "#print(words[2])\n",
        "#print(words[3])\n",
        "#print(words[4])\n",
        "#print(nums[-1]) # -1 index of the last item"
      ],
      "metadata": {
        "id": "HOTmkk-v3NRA"
      },
      "execution_count": null,
      "outputs": []
    },
    {
      "cell_type": "code",
      "source": [
        "# for _____ in _________:\n",
        "#     print(_________)\n",
        "\n",
        "# for each_item in existing_list_of_items:\n",
        "#     print(each_item)\n",
        "\n",
        "words = [\"apple\", \"cat\", \"banana\", \"zebra\", \"new\", \"apple\"]\n",
        "\n",
        "for item in words:\n",
        "    print(\"-----\")\n",
        "    print(item)\n",
        "    # last line inside the loop\n",
        "\n",
        "\n",
        "print(\"BOTTOM\")"
      ],
      "metadata": {
        "colab": {
          "base_uri": "https://localhost:8080/"
        },
        "id": "C6EAQoNn4bfi",
        "outputId": "b90e440e-9ed2-483c-a9b8-f4e5496afec2"
      },
      "execution_count": null,
      "outputs": [
        {
          "output_type": "stream",
          "name": "stdout",
          "text": [
            "-----\n",
            "apple\n",
            "-----\n",
            "cat\n",
            "-----\n",
            "banana\n",
            "-----\n",
            "zebra\n",
            "-----\n",
            "new\n",
            "-----\n",
            "apple\n",
            "BOTTOM\n"
          ]
        }
      ]
    },
    {
      "cell_type": "code",
      "source": [
        "nums = [1,2,3,4,5]\n",
        "print(type(nums))\n",
        "\n",
        "for n in nums:\n",
        "    print(n)\n",
        "    if n >= 3:\n",
        "        break\n",
        "\n",
        "print(\"BOTTOM\")"
      ],
      "metadata": {
        "colab": {
          "base_uri": "https://localhost:8080/"
        },
        "id": "G0cx0QIW6FeN",
        "outputId": "5d8e3384-1d7f-47dc-9b16-ff8a4c46e283"
      },
      "execution_count": null,
      "outputs": [
        {
          "output_type": "stream",
          "name": "stdout",
          "text": [
            "<class 'list'>\n",
            "1\n",
            "2\n",
            "3\n",
            "BOTTOM\n"
          ]
        }
      ]
    },
    {
      "cell_type": "code",
      "source": [
        "nums = [1,2,3,4,5]\n",
        "print(type(nums))\n",
        "\n",
        "for n in nums:\n",
        "    print(n)\n",
        "\n",
        "print(\"------\")\n",
        "\n",
        "for x in nums:\n",
        "    print(x)\n",
        "\n",
        "print(\"------\")\n",
        "\n",
        "for item in nums:\n",
        "    print(item)"
      ],
      "metadata": {
        "colab": {
          "base_uri": "https://localhost:8080/"
        },
        "id": "mkfrDKqN6t89",
        "outputId": "b3fa1b7c-bd9e-47ce-a36a-0e40f3ad53ab"
      },
      "execution_count": null,
      "outputs": [
        {
          "output_type": "stream",
          "name": "stdout",
          "text": [
            "<class 'list'>\n",
            "1\n",
            "2\n",
            "3\n",
            "4\n",
            "5\n",
            "------\n",
            "1\n",
            "2\n",
            "3\n",
            "4\n",
            "5\n",
            "------\n",
            "1\n",
            "2\n",
            "3\n",
            "4\n",
            "5\n"
          ]
        }
      ]
    },
    {
      "cell_type": "code",
      "source": [
        "x = 100\n",
        "\n",
        "nums = [1,2,3]\n",
        "\n",
        "for n in nums:\n",
        "    print(n)\n",
        "\n",
        "\n",
        "print(\"BOTTOM\")\n",
        "print(x)\n",
        "# be careful after the loop finishes\n",
        "# we will have access to whatever the last value of our item variable\n",
        "print(n)"
      ],
      "metadata": {
        "colab": {
          "base_uri": "https://localhost:8080/"
        },
        "id": "Afr0G4PO6_4L",
        "outputId": "39d6215b-c70b-439d-eef0-aca7bbd75cfc"
      },
      "execution_count": null,
      "outputs": [
        {
          "output_type": "stream",
          "name": "stdout",
          "text": [
            "1\n",
            "2\n",
            "3\n",
            "BOTTOM\n",
            "100\n",
            "3\n"
          ]
        }
      ]
    },
    {
      "cell_type": "markdown",
      "source": [
        "## Sorting Lists"
      ],
      "metadata": {
        "id": "t7wqXtqhjxr8"
      }
    },
    {
      "cell_type": "code",
      "source": [
        "nums = [6, 3, 100, 5, 3]\n",
        "\n",
        "print(sorted(nums))\n",
        "\n",
        "print(sorted(nums, reverse=True))"
      ],
      "metadata": {
        "colab": {
          "base_uri": "https://localhost:8080/"
        },
        "id": "6pPjipDBLiNT",
        "outputId": "b9b4ebfc-0f05-482b-ac82-72011e9d614e"
      },
      "execution_count": null,
      "outputs": [
        {
          "output_type": "stream",
          "name": "stdout",
          "text": [
            "[3, 3, 5, 6, 100]\n",
            "[100, 6, 5, 3, 3]\n"
          ]
        }
      ]
    },
    {
      "cell_type": "code",
      "source": [
        "words = [\"apple\", \"cat\", \"banana\", \"zebra\", \"new\", \"apple\"]\n",
        "print(sorted(words))\n",
        "\n",
        "print(sorted(words, reverse=True))"
      ],
      "metadata": {
        "colab": {
          "base_uri": "https://localhost:8080/"
        },
        "id": "la4KttSDL6Vi",
        "outputId": "b630ac34-924f-49e7-efa2-6083e50e4819"
      },
      "execution_count": null,
      "outputs": [
        {
          "output_type": "stream",
          "name": "stdout",
          "text": [
            "['apple', 'apple', 'banana', 'cat', 'new', 'zebra']\n",
            "['zebra', 'new', 'cat', 'banana', 'apple', 'apple']\n"
          ]
        }
      ]
    },
    {
      "cell_type": "code",
      "source": [
        "from operator import itemgetter # helps us sort dictionaries on the basis of one of their keys\n",
        "from pprint import pprint\n",
        "\n",
        "teams = [\n",
        "    {\"city\": \"New York\", \"name\": \"Yankees\"},\n",
        "    {\"city\": \"New York\", \"name\": \"Mets\"},\n",
        "    {\"city\": \"Boston\", \"name\": \"Red Sox\"},\n",
        "    {\"city\": \"New Haven\", \"name\": \"Ravens\"}\n",
        "]\n",
        "\n",
        "#print(sorted(teams)) #> TypeError: '<' not supported between instances of 'dict' and 'dict'\n",
        "\n",
        "#pprint(sorted(teams, key=itemgetter(\"name\")))\n",
        "#pprint(sorted(teams, key=itemgetter(\"name\"), reverse=True))\n",
        "\n",
        "pprint(sorted(teams, key=itemgetter(\"city\")))"
      ],
      "metadata": {
        "colab": {
          "base_uri": "https://localhost:8080/"
        },
        "id": "NwX05plXkO_j",
        "outputId": "e3402467-e1b6-43ba-9d22-5a02f9055c70"
      },
      "execution_count": null,
      "outputs": [
        {
          "output_type": "stream",
          "name": "stdout",
          "text": [
            "[{'city': 'Boston', 'name': 'Red Sox'},\n",
            " {'city': 'New Haven', 'name': 'Ravens'},\n",
            " {'city': 'New York', 'name': 'Yankees'},\n",
            " {'city': 'New York', 'name': 'Mets'}]\n"
          ]
        }
      ]
    },
    {
      "cell_type": "markdown",
      "source": [
        "## Mapping Lists"
      ],
      "metadata": {
        "id": "qBonFhruj2f8"
      }
    },
    {
      "cell_type": "code",
      "source": [
        "my_list = [1,2,34]\n",
        "my_list.append(9) # mutating (changes in place the underlying variable)\n",
        "print(my_list)"
      ],
      "metadata": {
        "colab": {
          "base_uri": "https://localhost:8080/"
        },
        "id": "gWRefDjdTpIC",
        "outputId": "2b4da6a2-ad0c-4318-ef74-aca871f2f78a"
      },
      "execution_count": null,
      "outputs": [
        {
          "output_type": "stream",
          "name": "stdout",
          "text": [
            "[1, 2, 34, 9]\n"
          ]
        }
      ]
    },
    {
      "cell_type": "code",
      "source": [
        "nums = [6, 3, 100, 5, 3]\n",
        "\n",
        "bigger_nums = []\n",
        "\n",
        "for n in nums:\n",
        "    #print(n)\n",
        "    #print(n * 100)\n",
        "    bigger_nums.append(n * 100)\n",
        "\n",
        "print(bigger_nums)\n"
      ],
      "metadata": {
        "colab": {
          "base_uri": "https://localhost:8080/"
        },
        "id": "bTVvfmShkOPw",
        "outputId": "d2e33a2f-baa2-4179-dfbc-2864d02eda6b"
      },
      "execution_count": null,
      "outputs": [
        {
          "output_type": "stream",
          "name": "stdout",
          "text": [
            "[600, 300, 10000, 500, 300]\n"
          ]
        }
      ]
    },
    {
      "cell_type": "code",
      "source": [],
      "metadata": {
        "id": "MfY9yEWuj3yj"
      },
      "execution_count": null,
      "outputs": []
    },
    {
      "cell_type": "markdown",
      "source": [
        "## Filtering Lists"
      ],
      "metadata": {
        "id": "9HJVMd5Vj4Hr"
      }
    },
    {
      "cell_type": "code",
      "source": [
        "nums = [6, 3, 100, 5, 3]\n",
        "\n",
        "matching_nums = [] # collect only numbers greater than 5\n",
        "\n",
        "for n in nums:\n",
        "    #matching_nums.append(n)\n",
        "    if n > 5:\n",
        "        matching_nums.append(n)\n",
        "\n",
        "print(nums)\n",
        "print(matching_nums)"
      ],
      "metadata": {
        "colab": {
          "base_uri": "https://localhost:8080/"
        },
        "id": "4TpBCbZykNV4",
        "outputId": "f5629002-98a8-4d37-f2b3-1ea9a75ed2c1"
      },
      "execution_count": null,
      "outputs": [
        {
          "output_type": "stream",
          "name": "stdout",
          "text": [
            "[6, 3, 100, 5, 3]\n",
            "[6, 100]\n"
          ]
        }
      ]
    },
    {
      "cell_type": "code",
      "source": [],
      "metadata": {
        "id": "X5OKyCvqj5uL"
      },
      "execution_count": null,
      "outputs": []
    },
    {
      "cell_type": "markdown",
      "source": [
        "## List Comprehensions\n",
        "\n",
        "[separate exercise](https://colab.research.google.com/drive/1SBWW2Waedzn-FZRbaIxwP5HQz6smxBPe?usp=sharing)\n",
        "\n"
      ],
      "metadata": {
        "id": "n93EtHeaj7GR"
      }
    }
  ]
}