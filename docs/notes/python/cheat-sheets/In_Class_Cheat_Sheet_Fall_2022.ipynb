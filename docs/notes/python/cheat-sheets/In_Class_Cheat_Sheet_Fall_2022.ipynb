{
  "nbformat": 4,
  "nbformat_minor": 0,
  "metadata": {
    "colab": {
      "provenance": [],
      "collapsed_sections": [
        "DfMQ4QctmhOx",
        "hjUrNjNqmcHb"
      ],
      "toc_visible": true
    },
    "kernelspec": {
      "name": "python3",
      "display_name": "Python 3"
    },
    "language_info": {
      "name": "python"
    }
  },
  "cells": [
    {
      "cell_type": "markdown",
      "source": [
        "# Comments"
      ],
      "metadata": {
        "id": "AqN282cEq93c"
      }
    },
    {
      "cell_type": "code",
      "source": [
        "# this won't be executed\n",
        "\n",
        "10 # this is a comment as well"
      ],
      "metadata": {
        "colab": {
          "base_uri": "https://localhost:8080/"
        },
        "id": "vGf9ZbEhrA1c",
        "outputId": "28d1094a-8aa9-4bb2-8acb-38836c720b21"
      },
      "execution_count": null,
      "outputs": [
        {
          "output_type": "execute_result",
          "data": {
            "text/plain": [
              "10"
            ]
          },
          "metadata": {},
          "execution_count": 12
        }
      ]
    },
    {
      "cell_type": "markdown",
      "source": [
        "# Variables\n"
      ],
      "metadata": {
        "id": "DfMQ4QctmhOx"
      }
    },
    {
      "cell_type": "markdown",
      "source": [
        "variable assignment in Python uses a single equals sign\n",
        "\n"
      ],
      "metadata": {
        "id": "9-A56Pbxp7DE"
      }
    },
    {
      "cell_type": "code",
      "source": [
        "a1 = 10\n",
        "\n",
        "a2 = 20\n",
        "\n",
        "# a1 * 100"
      ],
      "metadata": {
        "id": "zYEvcCDAmi0y"
      },
      "execution_count": null,
      "outputs": []
    },
    {
      "cell_type": "code",
      "source": [
        "x = 3\n",
        "print(x)\n",
        "\n",
        "x = 5\n",
        "print(x)\n",
        "\n",
        "x = x + 10\n",
        "print(x)\n",
        "\n",
        "# same as... x = x + 10\n",
        "x += 10\n",
        "print(x)\n"
      ],
      "metadata": {
        "colab": {
          "base_uri": "https://localhost:8080/"
        },
        "id": "ZyxYTzGBp_X8",
        "outputId": "f7002a45-8493-4268-e824-8908c23bdbc2"
      },
      "execution_count": null,
      "outputs": [
        {
          "output_type": "stream",
          "name": "stdout",
          "text": [
            "3\n",
            "5\n",
            "15\n",
            "25\n"
          ]
        }
      ]
    },
    {
      "cell_type": "markdown",
      "source": [
        "# Outputs"
      ],
      "metadata": {
        "id": "hjUrNjNqmcHb"
      }
    },
    {
      "cell_type": "code",
      "source": [
        "# can reference any variable in the notebook's memory\n",
        "print(a1)"
      ],
      "metadata": {
        "colab": {
          "base_uri": "https://localhost:8080/"
        },
        "id": "W1CIReBtyDeS",
        "outputId": "d3319b7f-bc0a-444b-838b-51bcdcd966a7"
      },
      "execution_count": null,
      "outputs": [
        {
          "output_type": "stream",
          "name": "stdout",
          "text": [
            "10\n"
          ]
        }
      ]
    },
    {
      "cell_type": "code",
      "execution_count": null,
      "metadata": {
        "colab": {
          "base_uri": "https://localhost:8080/"
        },
        "id": "hTwUQ6RwmCCr",
        "outputId": "8f2a037c-a407-4035-ae94-7a145a3f41df"
      },
      "outputs": [
        {
          "output_type": "stream",
          "name": "stdout",
          "text": [
            "100\n",
            "10\n",
            "5\n"
          ]
        }
      ],
      "source": [
        "#print(a1 * 100)\n",
        "#print(a1 * 10)\n",
        "#print(a1 + 5)\n",
        "\n",
        "print(100)\n",
        "print(10)\n",
        "print(5)"
      ]
    },
    {
      "cell_type": "code",
      "source": [
        "print(10)\n",
        "print(\"HELLO WORLD\")\n",
        "print(10, \"HELLO WORLD\", 100, 20, True)"
      ],
      "metadata": {
        "colab": {
          "base_uri": "https://localhost:8080/"
        },
        "id": "DfMqErVSpZr_",
        "outputId": "9e037195-8d26-4975-bc35-0d9d99ee6bb1"
      },
      "execution_count": null,
      "outputs": [
        {
          "output_type": "stream",
          "name": "stdout",
          "text": [
            "10\n",
            "HELLO WORLD\n",
            "10 HELLO WORLD 100 20 True\n"
          ]
        }
      ]
    },
    {
      "cell_type": "markdown",
      "source": [
        "# Inputs"
      ],
      "metadata": {
        "id": "VpTzBX6Wme2g"
      }
    },
    {
      "cell_type": "code",
      "source": [
        "fav_flavor = input(\"What's your fav ice cream flavor? \")\n",
        "\n",
        "print(\"YOU CHOSE: \", fav_flavor)"
      ],
      "metadata": {
        "colab": {
          "base_uri": "https://localhost:8080/"
        },
        "id": "jCD-V1uhmknM",
        "outputId": "bf67eaee-0453-4ac8-d3ed-d580a5312176"
      },
      "execution_count": null,
      "outputs": [
        {
          "output_type": "stream",
          "name": "stdout",
          "text": [
            "What's your fav ice cream flavor? Vanilla Bean\n",
            "YOU CHOSE:  Vanilla Bean\n"
          ]
        }
      ]
    },
    {
      "cell_type": "markdown",
      "source": [
        "# Datatypes"
      ],
      "metadata": {
        "id": "76esLOX0mlMu"
      }
    },
    {
      "cell_type": "code",
      "source": [
        "\"Hello World\""
      ],
      "metadata": {
        "colab": {
          "base_uri": "https://localhost:8080/",
          "height": 36
        },
        "id": "NQJKoP1l0mE8",
        "outputId": "1dcac323-5aad-46ae-f568-6234563a2892"
      },
      "execution_count": null,
      "outputs": [
        {
          "output_type": "execute_result",
          "data": {
            "text/plain": [
              "'Hello World'"
            ],
            "application/vnd.google.colaboratory.intrinsic+json": {
              "type": "string"
            }
          },
          "metadata": {},
          "execution_count": 3
        }
      ]
    },
    {
      "cell_type": "code",
      "source": [
        "print(type(\"Hello\")) #> <class 'str'>\n",
        "print(type(\"100\")) #> <class 'str'>\n",
        "\n",
        "print(type(100)) #> <class 'int'>\n",
        "print(type(0.45)) #> <class 'float'>\n",
        "\n",
        "print(type(True)) #> <class 'bool'>\n",
        "print(type(False)) #> <class 'bool'>\n",
        "\n",
        "print(type(None)) #> <class 'NoneType'>\n",
        "\n",
        "print(type([1,2,3])) #> <class 'list'>\n",
        "\n",
        "print(type({\"a\":1, \"b\":2, \"c\":3})) #> <class 'dict'>\n"
      ],
      "metadata": {
        "colab": {
          "base_uri": "https://localhost:8080/"
        },
        "id": "EOmK_FszmnKa",
        "outputId": "6502ad29-b597-4f63-e6f2-11932f1971f5"
      },
      "execution_count": null,
      "outputs": [
        {
          "output_type": "stream",
          "name": "stdout",
          "text": [
            "<class 'str'>\n",
            "<class 'str'>\n",
            "<class 'int'>\n",
            "<class 'float'>\n",
            "<class 'bool'>\n",
            "<class 'bool'>\n",
            "<class 'NoneType'>\n",
            "<class 'dict'>\n",
            "<class 'list'>\n"
          ]
        }
      ]
    },
    {
      "cell_type": "code",
      "source": [
        "print(type(2))\n",
        "print(2 + 2)"
      ],
      "metadata": {
        "colab": {
          "base_uri": "https://localhost:8080/"
        },
        "id": "BDPA_xoQ3zZk",
        "outputId": "bf778426-9a55-489f-fa55-6ea774f4b185"
      },
      "execution_count": null,
      "outputs": [
        {
          "output_type": "stream",
          "name": "stdout",
          "text": [
            "<class 'int'>\n",
            "4\n"
          ]
        }
      ]
    },
    {
      "cell_type": "code",
      "source": [
        "print(type(\"2\"))\n",
        "print(\"2\" + \"2\")\n",
        "print(type(\"2\" + \"2\"))"
      ],
      "metadata": {
        "colab": {
          "base_uri": "https://localhost:8080/"
        },
        "id": "S28cRoOb3746",
        "outputId": "a41114b5-14b9-4ff5-dec9-c101126a4858"
      },
      "execution_count": null,
      "outputs": [
        {
          "output_type": "stream",
          "name": "stdout",
          "text": [
            "<class 'str'>\n",
            "22\n",
            "<class 'str'>\n"
          ]
        }
      ]
    },
    {
      "cell_type": "code",
      "source": [
        "#print(2 + \"2\")\n",
        "#> TypeError: unsupported operand type(s) for +: 'int' and 'str'"
      ],
      "metadata": {
        "id": "2GvgyAzY4KVx"
      },
      "execution_count": null,
      "outputs": []
    },
    {
      "cell_type": "markdown",
      "source": [
        "## Strings"
      ],
      "metadata": {
        "id": "enYxjXbcmrno"
      }
    },
    {
      "cell_type": "code",
      "source": [
        "print(\"HELLO WORLD\")\n",
        "print('HELLO WORLD')\n",
        "\n",
        "print(\"Don't do that\")\n",
        "#print('Don't do that')"
      ],
      "metadata": {
        "colab": {
          "base_uri": "https://localhost:8080/"
        },
        "id": "os6RvzJZmw_g",
        "outputId": "8472a055-2a9d-488e-87e9-87d1f58c0b16"
      },
      "execution_count": null,
      "outputs": [
        {
          "output_type": "stream",
          "name": "stdout",
          "text": [
            "HELLO WORLD\n",
            "HELLO WORLD\n",
            "Don't do that\n"
          ]
        }
      ]
    },
    {
      "cell_type": "markdown",
      "source": [
        "string concatenation"
      ],
      "metadata": {
        "id": "grsNPb063W9J"
      }
    },
    {
      "cell_type": "code",
      "source": [
        "message = \"HELLO\" + \"WORLD\"\n",
        "print(message)\n",
        "\n",
        "message = \"HELLO \" + \"WORLD\"\n",
        "print(message)\n",
        "\n",
        "message = \"HELLO\" + \" WORLD\"\n",
        "print(message)\n",
        "\n",
        "message = \"HELLO\" + \" \" + \"WORLD\"\n",
        "print(message)"
      ],
      "metadata": {
        "colab": {
          "base_uri": "https://localhost:8080/"
        },
        "id": "hQqtj1vM3R5m",
        "outputId": "0f9601bd-1bd9-4f30-f6c5-eaf3bcf0c351"
      },
      "execution_count": null,
      "outputs": [
        {
          "output_type": "stream",
          "name": "stdout",
          "text": [
            "HELLOWORLD\n",
            "HELLO WORLD\n",
            "HELLO WORLD\n",
            "HELLO WORLD\n"
          ]
        }
      ]
    },
    {
      "cell_type": "markdown",
      "source": [
        "manipulate the case of a string:"
      ],
      "metadata": {
        "id": "Itaaw2hj5JBk"
      }
    },
    {
      "cell_type": "code",
      "source": [
        "print(\"hElLo\".lower())\n",
        "print(\"hElLo\".upper())\n",
        "print(\"hElLo\".title())"
      ],
      "metadata": {
        "colab": {
          "base_uri": "https://localhost:8080/"
        },
        "id": "R6DhmObF4hy2",
        "outputId": "ad133d0f-976d-4b6c-8fa5-2fdd40c9207b"
      },
      "execution_count": null,
      "outputs": [
        {
          "output_type": "stream",
          "name": "stdout",
          "text": [
            "hello\n",
            "HELLO\n",
            "Hello\n"
          ]
        }
      ]
    },
    {
      "cell_type": "markdown",
      "source": [
        "## Numbers"
      ],
      "metadata": {
        "id": "IeNyeaj4muFM"
      }
    },
    {
      "cell_type": "code",
      "source": [
        "print(1 + 5)\n",
        "print(1+5)\n",
        "print(1-5)\n",
        "print(1*5)\n",
        "print(1/5)"
      ],
      "metadata": {
        "colab": {
          "base_uri": "https://localhost:8080/"
        },
        "id": "NqkHmc66mxZS",
        "outputId": "14a99b53-7012-4391-a299-492b57c06819"
      },
      "execution_count": null,
      "outputs": [
        {
          "output_type": "stream",
          "name": "stdout",
          "text": [
            "6\n",
            "6\n",
            "-4\n",
            "5\n",
            "0.2\n"
          ]
        }
      ]
    },
    {
      "cell_type": "code",
      "source": [
        "print(5.0 * 100)\n",
        "print(type(5.0 * 100))"
      ],
      "metadata": {
        "colab": {
          "base_uri": "https://localhost:8080/"
        },
        "id": "vpHX6IIm2eDD",
        "outputId": "f86b3e3f-d580-4f52-985b-2479a890af50"
      },
      "execution_count": null,
      "outputs": [
        {
          "output_type": "stream",
          "name": "stdout",
          "text": [
            "500.0\n",
            "<class 'float'>\n"
          ]
        }
      ]
    },
    {
      "cell_type": "markdown",
      "source": [
        "## Booleans"
      ],
      "metadata": {
        "id": "v11igaWwmv6d"
      }
    },
    {
      "cell_type": "code",
      "source": [
        "print(True)\n",
        "\n",
        "print(False)"
      ],
      "metadata": {
        "colab": {
          "base_uri": "https://localhost:8080/"
        },
        "id": "gAIWYVqqmyGm",
        "outputId": "0c20a9cc-ff97-47b6-fad6-d9bff28c3a5f"
      },
      "execution_count": null,
      "outputs": [
        {
          "output_type": "stream",
          "name": "stdout",
          "text": [
            "True\n",
            "False\n"
          ]
        }
      ]
    },
    {
      "cell_type": "markdown",
      "source": [
        "## Lists"
      ],
      "metadata": {
        "id": "H-5Xpes75v46"
      }
    },
    {
      "cell_type": "markdown",
      "source": [
        "Notes:\n",
        "\n",
        "  + lists have square brackets on the extremities\n",
        "\n",
        "  + lists have comma separated items\n",
        "\n",
        "  + the order of items matters\n",
        "\n",
        "  + we can access individual items by their numeric position (starting at 0)"
      ],
      "metadata": {
        "id": "KR1nJEaBh_8P"
      }
    },
    {
      "cell_type": "code",
      "source": [
        "#sales = []\n",
        "\n",
        "# chron order of months Jan, Feb, \n",
        "sales = [100, 200, 300, 500, 400, 990]\n",
        "print(sales)\n",
        "print(type(sales))"
      ],
      "metadata": {
        "id": "oNKPKJ7O5wz5",
        "colab": {
          "base_uri": "https://localhost:8080/"
        },
        "outputId": "2a60036a-3a9e-4771-af8f-d871af5f1dd2"
      },
      "execution_count": null,
      "outputs": [
        {
          "output_type": "stream",
          "name": "stdout",
          "text": [
            "[100, 200, 300, 500, 400, 990]\n",
            "<class 'list'>\n"
          ]
        }
      ]
    },
    {
      "cell_type": "code",
      "source": [
        "\n",
        "words = [\"hello\", \"yolo\", \"goodbye\", \"idk\"]\n",
        "print(words)\n",
        "print(type(words))"
      ],
      "metadata": {
        "colab": {
          "base_uri": "https://localhost:8080/"
        },
        "id": "SSUrkSZk1qhr",
        "outputId": "36a18877-206d-47b2-ff44-698acecbec58"
      },
      "execution_count": null,
      "outputs": [
        {
          "output_type": "stream",
          "name": "stdout",
          "text": [
            "['hello', 'yolo', 'goodbye', 'idk']\n",
            "<class 'list'>\n"
          ]
        }
      ]
    },
    {
      "cell_type": "markdown",
      "source": [
        "accessing items in a list:"
      ],
      "metadata": {
        "id": "VfQN2dDf1_t9"
      }
    },
    {
      "cell_type": "code",
      "source": [
        "# first item in a list\n",
        "# index 0\n",
        "\n",
        "print(words[0])\n",
        "print(words[1])\n",
        "print(words[2])\n",
        "print(words[3])\n",
        "print(words[4]) #> IndexError: list index out of range"
      ],
      "metadata": {
        "colab": {
          "base_uri": "https://localhost:8080/",
          "height": 276
        },
        "id": "LDRScn8k1_dR",
        "outputId": "0f4511a6-2dbf-4ee0-b74d-9c5d2b527e5b"
      },
      "execution_count": null,
      "outputs": [
        {
          "output_type": "stream",
          "name": "stdout",
          "text": [
            "hello\n",
            "yolo\n",
            "goodbye\n",
            "idk\n"
          ]
        },
        {
          "output_type": "error",
          "ename": "IndexError",
          "evalue": "ignored",
          "traceback": [
            "\u001b[0;31m---------------------------------------------------------------------------\u001b[0m",
            "\u001b[0;31mIndexError\u001b[0m                                Traceback (most recent call last)",
            "\u001b[0;32m<ipython-input-5-40c5b7056ba1>\u001b[0m in \u001b[0;36m<module>\u001b[0;34m\u001b[0m\n\u001b[1;32m      6\u001b[0m \u001b[0mprint\u001b[0m\u001b[0;34m(\u001b[0m\u001b[0mwords\u001b[0m\u001b[0;34m[\u001b[0m\u001b[0;36m2\u001b[0m\u001b[0;34m]\u001b[0m\u001b[0;34m)\u001b[0m\u001b[0;34m\u001b[0m\u001b[0;34m\u001b[0m\u001b[0m\n\u001b[1;32m      7\u001b[0m \u001b[0mprint\u001b[0m\u001b[0;34m(\u001b[0m\u001b[0mwords\u001b[0m\u001b[0;34m[\u001b[0m\u001b[0;36m3\u001b[0m\u001b[0;34m]\u001b[0m\u001b[0;34m)\u001b[0m\u001b[0;34m\u001b[0m\u001b[0;34m\u001b[0m\u001b[0m\n\u001b[0;32m----> 8\u001b[0;31m \u001b[0mprint\u001b[0m\u001b[0;34m(\u001b[0m\u001b[0mwords\u001b[0m\u001b[0;34m[\u001b[0m\u001b[0;36m4\u001b[0m\u001b[0;34m]\u001b[0m\u001b[0;34m)\u001b[0m\u001b[0;34m\u001b[0m\u001b[0;34m\u001b[0m\u001b[0m\n\u001b[0m",
            "\u001b[0;31mIndexError\u001b[0m: list index out of range"
          ]
        }
      ]
    },
    {
      "cell_type": "markdown",
      "source": [
        "counting the number of items in any list:\n",
        "\n",
        "we pass it in to the `len()` function"
      ],
      "metadata": {
        "id": "_LOnW8fz4lcV"
      }
    },
    {
      "cell_type": "code",
      "source": [
        "print(len(sales))\n",
        "\n",
        "print(len(words))"
      ],
      "metadata": {
        "colab": {
          "base_uri": "https://localhost:8080/"
        },
        "id": "XcAp8EYn4pCl",
        "outputId": "6808c9b4-c2f8-41e8-c56f-e7d0985c652c"
      },
      "execution_count": null,
      "outputs": [
        {
          "output_type": "stream",
          "name": "stdout",
          "text": [
            "6\n",
            "4\n"
          ]
        }
      ]
    },
    {
      "cell_type": "markdown",
      "source": [
        "looping through each item in the list:"
      ],
      "metadata": {
        "id": "Jc_mdnPGBDNS"
      }
    },
    {
      "cell_type": "code",
      "source": [
        "sales\n",
        "\n",
        "# for some item in existing list:\n",
        "#   do something with that item\n",
        "\n",
        "\n",
        "# for ____ in sales:\n",
        "#     print(____)\n",
        "print(sales)\n",
        "\n",
        "\n",
        "for x in sales:\n",
        "    print(\"----\")\n",
        "    print(x)\n",
        "    "
      ],
      "metadata": {
        "colab": {
          "base_uri": "https://localhost:8080/"
        },
        "id": "lJUKM6BuBFe4",
        "outputId": "df1fed04-9e03-445c-c139-7c4cf484e4f7"
      },
      "execution_count": null,
      "outputs": [
        {
          "output_type": "stream",
          "name": "stdout",
          "text": [
            "[100, 200, 300, 500, 400, 990]\n",
            "----\n",
            "100\n",
            "----\n",
            "200\n",
            "----\n",
            "300\n",
            "----\n",
            "500\n",
            "----\n",
            "400\n",
            "----\n",
            "990\n"
          ]
        }
      ]
    },
    {
      "cell_type": "code",
      "source": [
        "words = [\"hello\", \"yolo\", \"goodbye\", \"idk\"]\n",
        "\n",
        "print(words)\n",
        "print(type(words))\n",
        "\n",
        "print(\"---------\")\n",
        "print(words[0])\n",
        "print(words[1])\n",
        "print(words[2])\n",
        "print(words[3])\n",
        "\n",
        "print(\"---------\")\n",
        "\n",
        "#for ____ in words:\n",
        "#    print(____)\n",
        "\n",
        "#for item in words:\n",
        "#    print(item)\n",
        "\n"
      ],
      "metadata": {
        "colab": {
          "base_uri": "https://localhost:8080/"
        },
        "id": "Wj0FNbfPlAR-",
        "outputId": "d198ecb1-6cd3-4f93-c054-d1ef2c5d4e36"
      },
      "execution_count": null,
      "outputs": [
        {
          "output_type": "stream",
          "name": "stdout",
          "text": [
            "['hello', 'yolo', 'goodbye', 'idk']\n",
            "<class 'list'>\n",
            "---------\n",
            "hello\n",
            "yolo\n",
            "goodbye\n",
            "idk\n",
            "---------\n",
            "hello\n",
            "yolo\n",
            "goodbye\n",
            "idk\n",
            "BOTTOM\n"
          ]
        }
      ]
    },
    {
      "cell_type": "code",
      "source": [
        "print(words)\n",
        "print(\"--------\")\n",
        "for x in words:\n",
        "    print(x)\n",
        "    # nothing else in the scope of the loop\n",
        "    \n",
        "print(\"-------\")\n",
        "print(\"BOTTOM\")"
      ],
      "metadata": {
        "colab": {
          "base_uri": "https://localhost:8080/"
        },
        "id": "jqv8HbW6mVj3",
        "outputId": "953a2688-76a8-46d8-cff8-4461565b26b2"
      },
      "execution_count": null,
      "outputs": [
        {
          "output_type": "stream",
          "name": "stdout",
          "text": [
            "['hello', 'yolo', 'goodbye', 'idk']\n",
            "--------\n",
            "hello\n",
            "yolo\n",
            "goodbye\n",
            "idk\n",
            "-------\n",
            "BOTTOM\n"
          ]
        }
      ]
    },
    {
      "cell_type": "markdown",
      "source": [
        "there was a question about how to break out of the loop and stop processing"
      ],
      "metadata": {
        "id": "rJpkmHbZnQHf"
      }
    },
    {
      "cell_type": "code",
      "source": [
        "print(words)\n",
        "print(\"--------\")\n",
        "\n",
        "counter = 0\n",
        "for x in words:\n",
        "    print(x)\n",
        "    \n",
        "    #counter = counter + 1\n",
        "    counter += 1 # increment the counter\n",
        "\n",
        "    if counter >= 2:\n",
        "        break # stop the loop and do whatever comes after\n",
        "    \n",
        "print(\"-------\")\n",
        "print(\"BOTTOM\")"
      ],
      "metadata": {
        "colab": {
          "base_uri": "https://localhost:8080/"
        },
        "id": "TigrjOAZnSya",
        "outputId": "7a2d68cc-1675-4fd4-a54b-1a4675218e8e"
      },
      "execution_count": null,
      "outputs": [
        {
          "output_type": "stream",
          "name": "stdout",
          "text": [
            "['hello', 'yolo', 'goodbye', 'idk']\n",
            "--------\n",
            "hello\n",
            "yolo\n",
            "-------\n",
            "BOTTOM\n"
          ]
        }
      ]
    },
    {
      "cell_type": "markdown",
      "source": [
        "### Sorting lists\n",
        "\n",
        "https://docs.python.org/3/library/functions.html#sorted"
      ],
      "metadata": {
        "id": "UgE_NLfwkpyN"
      }
    },
    {
      "cell_type": "code",
      "source": [
        "words = [\"hello\", \"yolo\", \"goodbye\", \"idk\"]\n",
        "\n",
        "print(sorted(words))\n",
        "\n",
        "print(words)\n",
        "\n",
        "sorted_words = sorted(words)\n",
        "print(sorted_words)"
      ],
      "metadata": {
        "colab": {
          "base_uri": "https://localhost:8080/"
        },
        "id": "KsFACIZHkrQf",
        "outputId": "6f72a048-6011-43e9-d39b-cd1aa626bc71"
      },
      "execution_count": null,
      "outputs": [
        {
          "output_type": "stream",
          "name": "stdout",
          "text": [
            "['goodbye', 'hello', 'idk', 'yolo']\n",
            "['hello', 'yolo', 'goodbye', 'idk']\n",
            "['goodbye', 'hello', 'idk', 'yolo']\n"
          ]
        }
      ]
    },
    {
      "cell_type": "code",
      "source": [
        "numbers = [5, 8, 3, 99, 10, 2, 1]\n",
        "\n",
        "print(sorted(numbers))\n",
        "\n",
        "sorted_nums = sorted(numbers)\n",
        "print(sorted_nums)"
      ],
      "metadata": {
        "colab": {
          "base_uri": "https://localhost:8080/"
        },
        "id": "eC1NVoTEoN-z",
        "outputId": "5464680e-700a-415f-ae03-f16532571dcd"
      },
      "execution_count": null,
      "outputs": [
        {
          "output_type": "stream",
          "name": "stdout",
          "text": [
            "[1, 2, 3, 5, 8, 10, 99]\n",
            "[1, 2, 3, 5, 8, 10, 99]\n"
          ]
        }
      ]
    },
    {
      "cell_type": "code",
      "source": [
        "print(sorted(numbers, reverse=True))"
      ],
      "metadata": {
        "colab": {
          "base_uri": "https://localhost:8080/"
        },
        "id": "DJJoOc0tqRDP",
        "outputId": "c6d9648e-bdbf-4e6c-9a7e-41e4365ef8fe"
      },
      "execution_count": null,
      "outputs": [
        {
          "output_type": "stream",
          "name": "stdout",
          "text": [
            "[99, 10, 8, 5, 3, 2, 1]\n"
          ]
        }
      ]
    },
    {
      "cell_type": "code",
      "source": [
        "# when we have a more complex list, like a list of dict\n",
        "# we need to tell python how to sort\n",
        "# on the basis of which attribute name / key should we sort\n",
        "\n",
        "# this function looks at a specified key name of the dictiony\n",
        "from operator import itemgetter\n",
        "\n",
        "teams = [\n",
        "    {\"city\": \"New York\", \"name\": \"Yankees\"},\n",
        "    {\"city\": \"New York\", \"name\": \"Mets\"},\n",
        "    {\"city\": \"Boston\", \"name\": \"Red Sox\"},\n",
        "    {\"city\": \"New Haven\", \"name\": \"Ravens\"}\n",
        "]\n",
        "\n",
        "#print(sorted(teams)) #> TypeError: '<' not supported between instances of 'dict' and 'dict'\n",
        "\n",
        "# print(sorted(teams, key=\"city\")) #> TypeError: 'str' object is not callable\n",
        "\n",
        "print(sorted(teams, key=itemgetter(\"city\"))) \n",
        "\n",
        "print(sorted(teams, key=itemgetter(\"name\"))) "
      ],
      "metadata": {
        "colab": {
          "base_uri": "https://localhost:8080/"
        },
        "id": "IK30d8nRoV_M",
        "outputId": "64931287-a19b-4076-b249-ae23016c2722"
      },
      "execution_count": null,
      "outputs": [
        {
          "output_type": "stream",
          "name": "stdout",
          "text": [
            "[{'city': 'Boston', 'name': 'Red Sox'}, {'city': 'New Haven', 'name': 'Ravens'}, {'city': 'New York', 'name': 'Yankees'}, {'city': 'New York', 'name': 'Mets'}]\n",
            "[{'city': 'New York', 'name': 'Mets'}, {'city': 'New Haven', 'name': 'Ravens'}, {'city': 'Boston', 'name': 'Red Sox'}, {'city': 'New York', 'name': 'Yankees'}]\n"
          ]
        }
      ]
    },
    {
      "cell_type": "markdown",
      "source": [
        "### Mapping Lists"
      ],
      "metadata": {
        "id": "1wjo_sA0krnk"
      }
    },
    {
      "cell_type": "code",
      "source": [
        "grades = [76.7, 85.1, 50.3, 89.8, 97.4, 75.5, 87.2, 88.0, 93.9, 92.5]\n",
        "\n",
        "# display this list of grades as .76 instead of 76.7\n",
        "# PRINT EACH SMALLER NUMBER ONE AT A TIME\n",
        "#print(grades[0] / 100)\n",
        "\n",
        "#for x in grades:\n",
        "#    print(x / 100)\n",
        "\n",
        "for g in grades:\n",
        "    print(g / 100)\n"
      ],
      "metadata": {
        "colab": {
          "base_uri": "https://localhost:8080/"
        },
        "id": "I3DpcvcEkvK_",
        "outputId": "c990d894-c0b4-44a5-b633-6a3d6f089c08"
      },
      "execution_count": null,
      "outputs": [
        {
          "output_type": "stream",
          "name": "stdout",
          "text": [
            "0.767\n",
            "0.851\n",
            "0.503\n",
            "0.898\n",
            "0.9740000000000001\n",
            "0.755\n",
            "0.872\n",
            "0.88\n",
            "0.9390000000000001\n",
            "0.925\n"
          ]
        }
      ]
    },
    {
      "cell_type": "code",
      "source": [
        "new_words = []\n",
        "print(len(new_words))\n",
        "print(new_words)\n",
        "\n",
        "new_words.append(\"HELLO\")\n",
        "\n",
        "print(len(new_words))\n",
        "print(new_words)\n",
        "\n",
        "new_words.append(\"YOLO\")\n",
        "\n",
        "print(len(new_words))\n",
        "print(new_words)"
      ],
      "metadata": {
        "colab": {
          "base_uri": "https://localhost:8080/"
        },
        "id": "_tnvcxs7szpI",
        "outputId": "31201910-bd1d-4a1b-9ff7-8466a608033e"
      },
      "execution_count": null,
      "outputs": [
        {
          "output_type": "stream",
          "name": "stdout",
          "text": [
            "0\n",
            "[]\n",
            "1\n",
            "['HELLO']\n",
            "2\n",
            "['HELLO', 'YOLO']\n"
          ]
        }
      ]
    },
    {
      "cell_type": "code",
      "source": [
        "# COLLECTING THEM INTO A SEPARATE LIST\n",
        "\n",
        "new_grades = []\n",
        "#print(len(new_grades))\n",
        "\n",
        "for g in grades:\n",
        "    #print(g / 100)\n",
        "    new_grades.append(g / 100)\n",
        "\n",
        "# NOW THE NEW LIST WILL BE POPULATED\n",
        "print(new_grades)"
      ],
      "metadata": {
        "colab": {
          "base_uri": "https://localhost:8080/"
        },
        "id": "um05Nf7CsXl-",
        "outputId": "4e2dd8cd-5bdf-42d3-c0a3-bec10c9aff8b"
      },
      "execution_count": null,
      "outputs": [
        {
          "output_type": "stream",
          "name": "stdout",
          "text": [
            "[0.767, 0.851, 0.503, 0.898, 0.9740000000000001, 0.755, 0.872, 0.88, 0.9390000000000001, 0.925]\n"
          ]
        }
      ]
    },
    {
      "cell_type": "markdown",
      "source": [
        "question about rounding:"
      ],
      "metadata": {
        "id": "Y707PStXxlor"
      }
    },
    {
      "cell_type": "code",
      "source": [
        "# COLLECTING THEM INTO A SEPARATE LIST\n",
        "\n",
        "new_grades = []\n",
        "\n",
        "for g in grades:\n",
        "    #print(g / 100)\n",
        "    new_grades.append(round(g / 100, 2))\n",
        "\n",
        "# NOW THE NEW LIST WILL BE POPULATED\n",
        "print(new_grades)"
      ],
      "metadata": {
        "id": "myUYAUhhxnA2",
        "outputId": "bda49453-391f-4671-a662-0b0f7146d332",
        "colab": {
          "base_uri": "https://localhost:8080/"
        }
      },
      "execution_count": null,
      "outputs": [
        {
          "output_type": "stream",
          "name": "stdout",
          "text": [
            "[0.77, 0.85, 0.5, 0.9, 0.97, 0.76, 0.87, 0.88, 0.94, 0.93]\n"
          ]
        }
      ]
    },
    {
      "cell_type": "markdown",
      "source": [
        "### Filtering Lists"
      ],
      "metadata": {
        "id": "8BBQlZkAkvnY"
      }
    },
    {
      "cell_type": "code",
      "source": [
        "numbers = [5, 8, 3, 99, 10, 2, 1]\n",
        "print(numbers)\n",
        "print(\"---------\")\n",
        "# 7 items\n",
        "\n",
        "# filter ONLY KEEP THE ONES GREATER THAN 6\n",
        "\n",
        "# for n in numbers:\n",
        "#     print(n)\n",
        "\n",
        "#for n in numbers:\n",
        "#    #print(n)\n",
        "#    if n > 6:\n",
        "#        print(n)\n",
        "\n",
        "new_nums = []\n",
        "\n",
        "for n in numbers:\n",
        "    #print(n)\n",
        "    if n > 6:\n",
        "        #print(n)\n",
        "        new_nums.append(n)\n",
        "\n",
        "print(new_nums)"
      ],
      "metadata": {
        "colab": {
          "base_uri": "https://localhost:8080/"
        },
        "id": "2b5PxpJLkxUD",
        "outputId": "a6509a1d-cdff-4527-c8db-07e106b99d9d"
      },
      "execution_count": null,
      "outputs": [
        {
          "output_type": "stream",
          "name": "stdout",
          "text": [
            "[5, 8, 3, 99, 10, 2, 1]\n",
            "---------\n",
            "[8, 99, 10]\n"
          ]
        }
      ]
    },
    {
      "cell_type": "markdown",
      "source": [
        "## Dictionaries"
      ],
      "metadata": {
        "id": "MkxK_kEo5xV3"
      }
    },
    {
      "cell_type": "markdown",
      "source": [
        "Notes:\n",
        "\n",
        "  + have squiggly braces on the extremities\n",
        "  + items separated by commas\n",
        "\n",
        "  + each item is a \"key value pair\" in which the \"key\" is the attribute name (i.e. \"color\"), and the \"value\" is the attribute value (i.e. \"blue\"), and they are separated by a colon\n",
        "\n",
        "  + dictionaries are like lists, but we give a textual name to each value contained (instead of a index / numeric position)"
      ],
      "metadata": {
        "id": "GyV2qhxiiIqS"
      }
    },
    {
      "cell_type": "code",
      "source": [
        "#[100, 200, 300, 500, 400, 990]\n",
        "\n",
        "monthly_sales = {\"jan\": 100, \"feb\": 200, \"mar\": 300, \"apr\": 400, \"may\": 990}\n",
        "print(monthly_sales)"
      ],
      "metadata": {
        "id": "9BjwJhIj5yor",
        "colab": {
          "base_uri": "https://localhost:8080/"
        },
        "outputId": "4a834c30-1d5e-48fa-c958-a4eb704a30f7"
      },
      "execution_count": null,
      "outputs": [
        {
          "output_type": "stream",
          "name": "stdout",
          "text": [
            "{'jan': 100, 'feb': 200, 'mar': 300, 'apr': 400, 'may': 990}\n"
          ]
        }
      ]
    },
    {
      "cell_type": "code",
      "source": [
        "# what are the keys?\n",
        "print(monthly_sales.keys())\n",
        "\n",
        "# what are the values?\n",
        "print(monthly_sales.values())"
      ],
      "metadata": {
        "colab": {
          "base_uri": "https://localhost:8080/"
        },
        "id": "n0ekY1Xu3Sqg",
        "outputId": "46c632e1-70d4-4c7c-a93a-a9748fd7cf55"
      },
      "execution_count": null,
      "outputs": [
        {
          "output_type": "stream",
          "name": "stdout",
          "text": [
            "dict_keys(['jan', 'feb', 'mar', 'apr', 'may'])\n",
            "dict_values([100, 200, 300, 400, 990])\n"
          ]
        }
      ]
    },
    {
      "cell_type": "code",
      "source": [
        "print(monthly_sales[\"jan\"])\n",
        "print(monthly_sales[\"feb\"])\n",
        "print(monthly_sales[\"may\"])"
      ],
      "metadata": {
        "colab": {
          "base_uri": "https://localhost:8080/"
        },
        "id": "iu48qiLz3rDZ",
        "outputId": "f0c992b8-4086-4561-e633-91b9b8686e60"
      },
      "execution_count": null,
      "outputs": [
        {
          "output_type": "stream",
          "name": "stdout",
          "text": [
            "100\n",
            "200\n",
            "990\n"
          ]
        }
      ]
    },
    {
      "cell_type": "code",
      "source": [
        "# monthly_sales[0] #> KeyError: 0\n",
        "# print(monthly_sales[\"dec\"]) #> KeyError: 'dec'"
      ],
      "metadata": {
        "colab": {
          "base_uri": "https://localhost:8080/"
        },
        "id": "rqVcOiTX4Cn3",
        "outputId": "7424570a-b3c4-4cf5-d261-5105bd5a0b11"
      },
      "execution_count": null,
      "outputs": [
        {
          "output_type": "error",
          "ename": "KeyError",
          "evalue": "ignored",
          "traceback": [
            "\u001b[0;31m---------------------------------------------------------------------------\u001b[0m",
            "\u001b[0;31mKeyError\u001b[0m                                  Traceback (most recent call last)",
            "\u001b[0;32m<ipython-input-13-45daedacf57a>\u001b[0m in \u001b[0;36m<module>\u001b[0;34m\u001b[0m\n\u001b[1;32m      1\u001b[0m \u001b[0;31m#monthly_sales[0] #> KeyError: 0\u001b[0m\u001b[0;34m\u001b[0m\u001b[0;34m\u001b[0m\u001b[0;34m\u001b[0m\u001b[0m\n\u001b[0;32m----> 2\u001b[0;31m \u001b[0mprint\u001b[0m\u001b[0;34m(\u001b[0m\u001b[0mmonthly_sales\u001b[0m\u001b[0;34m[\u001b[0m\u001b[0;34m\"dec\"\u001b[0m\u001b[0;34m]\u001b[0m\u001b[0;34m)\u001b[0m\u001b[0;34m\u001b[0m\u001b[0;34m\u001b[0m\u001b[0m\n\u001b[0m",
            "\u001b[0;31mKeyError\u001b[0m: 'dec'"
          ]
        }
      ]
    },
    {
      "cell_type": "markdown",
      "source": [
        "# Logical Operators\n",
        "\n",
        "see: https://www.w3schools.com/python/python_operators.asp"
      ],
      "metadata": {
        "id": "uXk-YfKSsffI"
      }
    },
    {
      "cell_type": "markdown",
      "source": [
        "Comparisons:"
      ],
      "metadata": {
        "id": "iSqr85Ne6aq1"
      }
    },
    {
      "cell_type": "code",
      "source": [
        "print(2 < 4)\n",
        "print(2 > 4)\n",
        "\n",
        "print(\"------------\")\n",
        "\n",
        "# is what's on the left equal to what's on the right?\n",
        "print(2 == 4)\n",
        "print(2 == 2)\n",
        "\n",
        "# is what's on the left NOT equal to what's on the right?\n",
        "print(2 != 4)"
      ],
      "metadata": {
        "colab": {
          "base_uri": "https://localhost:8080/"
        },
        "id": "uF1pekzasiMY",
        "outputId": "39e99c2b-9509-4452-9290-2fcc41291af4"
      },
      "execution_count": null,
      "outputs": [
        {
          "output_type": "stream",
          "name": "stdout",
          "text": [
            "True\n",
            "False\n",
            "------------\n",
            "False\n",
            "True\n",
            "True\n"
          ]
        }
      ]
    },
    {
      "cell_type": "markdown",
      "source": [
        "logical operators"
      ],
      "metadata": {
        "id": "4Ris2207-PLF"
      }
    },
    {
      "cell_type": "code",
      "source": [
        "# with and, BOTH sides need to be true for the resulting expression to be true\n",
        "print(True and False)\n",
        "\n",
        "# with or, EITHER side needs to be true for the resulting expression to be true\n",
        "print(True or False)\n"
      ],
      "metadata": {
        "colab": {
          "base_uri": "https://localhost:8080/"
        },
        "id": "clIJ-hDZ6-7v",
        "outputId": "04021fdd-cf08-4ac3-db39-775367609215"
      },
      "execution_count": null,
      "outputs": [
        {
          "output_type": "stream",
          "name": "stdout",
          "text": [
            "False\n",
            "True\n"
          ]
        }
      ]
    },
    {
      "cell_type": "markdown",
      "source": [
        "# Conditional Logic\n",
        "\n",
        "see: https://docs.python.org/3/tutorial/controlflow.html#if-statements"
      ],
      "metadata": {
        "id": "Gk-P-2MDsWWd"
      }
    },
    {
      "cell_type": "code",
      "source": [
        "\n",
        "#if logical expression:\n",
        "#    thing to do if true\n",
        "# else:\n",
        "#    thing to do if false\n",
        "\n",
        "print(2 < 100)\n",
        "\n",
        "\n",
        "if 2 < 100:\n",
        "    print(\"YEP\")\n",
        "else:\n",
        "    print(\"NOPE\")\n",
        "\n",
        "print(\"BOTTOM\")"
      ],
      "metadata": {
        "colab": {
          "base_uri": "https://localhost:8080/"
        },
        "id": "4t5WIv-FslWl",
        "outputId": "0d04ee70-392e-4a4c-f26c-7df2fb9187ad"
      },
      "execution_count": null,
      "outputs": [
        {
          "output_type": "stream",
          "name": "stdout",
          "text": [
            "True\n",
            "YEP\n",
            "BOTTOM\n"
          ]
        }
      ]
    },
    {
      "cell_type": "markdown",
      "source": [
        "if statements without else clause"
      ],
      "metadata": {
        "id": "QYaVWpiI8qaR"
      }
    },
    {
      "cell_type": "code",
      "source": [
        "if 2 < 100:\n",
        "    print(\"YEP\")\n",
        "\n",
        "print(\"BOTTOM\")"
      ],
      "metadata": {
        "colab": {
          "base_uri": "https://localhost:8080/"
        },
        "id": "4jTLaIDy8d-4",
        "outputId": "25263fc9-1dfd-466a-e55a-f72ebe2ed8cc"
      },
      "execution_count": null,
      "outputs": [
        {
          "output_type": "stream",
          "name": "stdout",
          "text": [
            "YEP\n",
            "BOTTOM\n"
          ]
        }
      ]
    },
    {
      "cell_type": "code",
      "source": [
        "if 2 > 100:\n",
        "    print(\"YEP\")\n",
        "\n",
        "print(\"BOTTOM\")"
      ],
      "metadata": {
        "colab": {
          "base_uri": "https://localhost:8080/"
        },
        "id": "iu2vq1898izq",
        "outputId": "bdc04641-f33f-48da-f583-1407459b1b8d"
      },
      "execution_count": null,
      "outputs": [
        {
          "output_type": "stream",
          "name": "stdout",
          "text": [
            "BOTTOM\n"
          ]
        }
      ]
    },
    {
      "cell_type": "markdown",
      "source": [
        "if statements with many conditions / elif clauses"
      ],
      "metadata": {
        "id": "VW99lAg38tFE"
      }
    },
    {
      "cell_type": "code",
      "source": [
        "if 2 > 100:\n",
        "    print(\"YEP\")\n",
        "elif 2 > 200:\n",
        "    print(\"YOOOO\")\n",
        "elif 2 > 4000:\n",
        "    print(\"NOOOOO\")\n",
        "else:\n",
        "    print(\"OOPS\")\n",
        "\n",
        "print(\"BOTTOM\")"
      ],
      "metadata": {
        "colab": {
          "base_uri": "https://localhost:8080/"
        },
        "id": "qInbQWwQ8ssa",
        "outputId": "232a5cca-d82b-48de-fcd5-5139e84c2dd0"
      },
      "execution_count": null,
      "outputs": [
        {
          "output_type": "stream",
          "name": "stdout",
          "text": [
            "OOPS\n",
            "BOTTOM\n"
          ]
        }
      ]
    },
    {
      "cell_type": "code",
      "source": [
        "if 2 > 100:\n",
        "    print(\"YEP\")\n",
        "elif 2 < 200:\n",
        "    print(\"YOOOO\")\n",
        "elif 2 < 4000:\n",
        "    print(\"NOOOOO\")\n",
        "else:\n",
        "    print(\"OOPS\")\n",
        "\n",
        "print(\"BOTTOM\")"
      ],
      "metadata": {
        "colab": {
          "base_uri": "https://localhost:8080/"
        },
        "id": "hgncMXD08_aW",
        "outputId": "2941a1f0-fdf5-4913-f371-314f1194b137"
      },
      "execution_count": null,
      "outputs": [
        {
          "output_type": "stream",
          "name": "stdout",
          "text": [
            "YOOOO\n",
            "BOTTOM\n"
          ]
        }
      ]
    },
    {
      "cell_type": "markdown",
      "source": [
        "more if statements:"
      ],
      "metadata": {
        "id": "56Ud4n509cJB"
      }
    },
    {
      "cell_type": "code",
      "source": [
        "print(2 == \"2\")\n",
        "\n",
        "if 2 == \"2\":\n",
        "    print(\"FIRST\")\n",
        "elif 2 == 2:\n",
        "    print(\"SECOND\")\n",
        "\n",
        "\n",
        "print(\"BOTTOM\")"
      ],
      "metadata": {
        "colab": {
          "base_uri": "https://localhost:8080/"
        },
        "id": "w7dRibL99dLv",
        "outputId": "f10673d2-6c38-417e-b543-3b45b7634823"
      },
      "execution_count": null,
      "outputs": [
        {
          "output_type": "stream",
          "name": "stdout",
          "text": [
            "False\n",
            "SECOND\n",
            "BOTTOM\n"
          ]
        }
      ]
    },
    {
      "cell_type": "markdown",
      "source": [
        "nested if statements"
      ],
      "metadata": {
        "id": "qbmO_GcT9u4P"
      }
    },
    {
      "cell_type": "code",
      "source": [
        "if 2 == 2:\n",
        "    \n",
        "    if 5 == 10:\n",
        "        print(\"YEP\")\n",
        "    else:\n",
        "        print(\"NOPE\")\n",
        "\n",
        "else:\n",
        "    print(\"FALSE\")"
      ],
      "metadata": {
        "colab": {
          "base_uri": "https://localhost:8080/"
        },
        "id": "dAXU5fiG9wBy",
        "outputId": "b6681801-335f-4e8c-ea91-77263fdb7033"
      },
      "execution_count": null,
      "outputs": [
        {
          "output_type": "stream",
          "name": "stdout",
          "text": [
            "NOPE\n"
          ]
        }
      ]
    },
    {
      "cell_type": "markdown",
      "source": [
        "compound conditions"
      ],
      "metadata": {
        "id": "EOMmeO2Z-EBu"
      }
    },
    {
      "cell_type": "code",
      "source": [
        "x = 5\n",
        "y = 10\n",
        "\n",
        "\n",
        "if x > 10 and y > 10:\n",
        "    print(\"GREATER\")\n",
        "elif x < 10 and y == 10:\n",
        "    print(\"YEP\")\n",
        "\n",
        "print(\"BOTTOM\")"
      ],
      "metadata": {
        "colab": {
          "base_uri": "https://localhost:8080/"
        },
        "id": "dHCVvWZp-DxA",
        "outputId": "bdd29296-b6d5-40e0-9cd6-4046ebbb72f7"
      },
      "execution_count": null,
      "outputs": [
        {
          "output_type": "stream",
          "name": "stdout",
          "text": [
            "YEP\n",
            "BOTTOM\n"
          ]
        }
      ]
    },
    {
      "cell_type": "code",
      "source": [
        "x = 5\n",
        "y = 10\n",
        "\n",
        "\n",
        "if (x > 10) and (y > 10):\n",
        "    print(\"GREATER\")\n",
        "elif (x < 10) and (y == 10):\n",
        "    print(\"YEP\")\n",
        "\n",
        "print(\"BOTTOM\")"
      ],
      "metadata": {
        "colab": {
          "base_uri": "https://localhost:8080/"
        },
        "id": "2piVG8r8-0GW",
        "outputId": "393010ab-9304-4fb4-8621-a2f793f07cd6"
      },
      "execution_count": null,
      "outputs": [
        {
          "output_type": "stream",
          "name": "stdout",
          "text": [
            "YEP\n",
            "BOTTOM\n"
          ]
        }
      ]
    },
    {
      "cell_type": "markdown",
      "source": [
        "# Importing Modules"
      ],
      "metadata": {
        "id": "inZOC9k7o9fe"
      }
    },
    {
      "cell_type": "code",
      "source": [
        "# print(pi) #> NameError: name 'pi' is not defined\n",
        "\n",
        "#print(math.pi) #> NameError: name 'math' is not defined\n",
        "\n",
        "# in order to use a module or the functions that it provides\n",
        "# we first need to import that module ONCE\n",
        "\n",
        "import math\n",
        "\n",
        "print(math.pi) "
      ],
      "metadata": {
        "colab": {
          "base_uri": "https://localhost:8080/"
        },
        "id": "0A2AzWwVpAk1",
        "outputId": "21e27a65-3602-4282-fa22-5db3861d8bcb"
      },
      "execution_count": null,
      "outputs": [
        {
          "output_type": "stream",
          "name": "stdout",
          "text": [
            "3.141592653589793\n"
          ]
        }
      ]
    },
    {
      "cell_type": "code",
      "source": [
        "from math import pi\n",
        "\n",
        "print(pi)"
      ],
      "metadata": {
        "colab": {
          "base_uri": "https://localhost:8080/"
        },
        "id": "HECmpHGk6W7X",
        "outputId": "2133724b-74b6-4f7b-f696-795b6e01fd7b"
      },
      "execution_count": null,
      "outputs": [
        {
          "output_type": "stream",
          "name": "stdout",
          "text": [
            "3.141592653589793\n"
          ]
        }
      ]
    }
  ]
}