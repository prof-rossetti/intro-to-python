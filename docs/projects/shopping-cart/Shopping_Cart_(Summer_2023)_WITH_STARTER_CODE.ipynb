{
  "nbformat": 4,
  "nbformat_minor": 0,
  "metadata": {
    "colab": {
      "provenance": [],
      "collapsed_sections": [
        "51K5AbeHSORR",
        "Eo4jTk_9ZtH3",
        "HCMLilbO4rtr",
        "tnj6eer-RnND",
        "sToAMIV9EnJZ",
        "ISAWSzE392Wn",
        "A-yI-FT4-Nwb",
        "HAD7Vc6j_Nq1"
      ],
      "include_colab_link": true
    },
    "kernelspec": {
      "name": "python3",
      "display_name": "Python 3"
    },
    "language_info": {
      "name": "python"
    }
  },
  "cells": [
    {
      "cell_type": "markdown",
      "metadata": {
        "id": "view-in-github",
        "colab_type": "text"
      },
      "source": [
        "<a href=\"https://colab.research.google.com/github/prof-rossetti/intro-to-python/blob/main/projects/shopping-cart/Shopping_Cart_(Summer_2023)_WITH_STARTER_CODE.ipynb\" target=\"_parent\"><img src=\"https://colab.research.google.com/assets/colab-badge.svg\" alt=\"Open In Colab\"/></a>"
      ]
    },
    {
      "cell_type": "markdown",
      "source": [
        "Develop a Python application to facilitate a real life grocery store's customer checkout process."
      ],
      "metadata": {
        "id": "4Srdlse6bI5q"
      }
    },
    {
      "cell_type": "markdown",
      "source": [
        "## Instructions\n"
      ],
      "metadata": {
        "id": "51K5AbeHSORR"
      }
    },
    {
      "cell_type": "markdown",
      "source": [
        "\n",
        "\n",
        "\n",
        "\n",
        "\n",
        "\n",
        "1. **Make a copy of this notebook** so you can edit and save your own version of it. Do the work in your copy of the notebook.\n",
        "2. **Update the title of your notebook** to include your name and/or net id.\n",
        "\n",
        "3. **Write Python code in your notebook** in the \"Solution\" section (and in the \"Setup\" section as well if tackling bonus challenges) to meet the requirements set forth in the \"Requirements\" section.\n",
        "\n",
        "\n"
      ],
      "metadata": {
        "id": "i_II8VyWSpyL"
      }
    },
    {
      "cell_type": "markdown",
      "source": [
        "## Collaboration"
      ],
      "metadata": {
        "id": "Eo4jTk_9ZtH3"
      }
    },
    {
      "cell_type": "markdown",
      "source": [
        "Feel free to discuss this exercise with classmates, and even to help each other out in reasonable ways.\n",
        "\n",
        "If you obtain code or \"inspiration\" for code from an outside source, let's endeavor to **A) provide a citation or attribution comment** like the following:\n",
        "\n",
        "  + \"Student XYZ (xyz@school.edu) helped with this section\"\n",
        "  + \"Inspired by code from Robot XYZ\"\n",
        "  + \"Adapted from code found at URL: _________\"\n",
        "\n",
        "Citations like this will go a long way to foster a culture of transparency and help avoid academic integrity concerns.\n",
        "\n",
        "For any code obtained this way, also **provide code comments discussing B) your own interpretation of the code, and C) your lessons learned**.\n",
        "\n",
        "If you have any questions, please ask. Thank you!"
      ],
      "metadata": {
        "id": "o2N_neLYzVgo"
      }
    },
    {
      "cell_type": "markdown",
      "source": [
        "## Business Prompt"
      ],
      "metadata": {
        "id": "HCMLilbO4rtr"
      }
    },
    {
      "cell_type": "markdown",
      "source": [
        "\n",
        "Your local corner grocery store has hired you as a technology consultant to help modernize their checkout system.\n",
        "\n",
        "**Current State (As Is) Process**\n",
        "\n",
        "Currently, when managing inventory, store employees affix a price tag sticker on each grocery item in stock. And when a customer visits the checkout counter with their selected items, a checkout clerk uses a calculator to add product prices, calculate tax, and calculate the total amount due. But this process takes more time than necessary, and is prone to manual error.\n",
        "\n",
        "**Future State (To Be) Process**\n",
        "\n",
        "Instead, the store owner describes a desired checkout process which involves the checkout clerk scanning each product's barcode to automatically lookup prices, perform tax and total calculations, and print a customer receipt. To facilitate this process, the store owner has authorized the purchase of a few inexpensive [barcode scanners](https://www.amazon.com/UNIDEEPLY-Barcode-Scanner-Handheld-Scanning/dp/B07GYLKX4J/ref=sr_1_1_sspa), as well as checkout computers capable of running Python applications.\n",
        "\n",
        "The store owner says it would be \"acceptable but not preferable\" to manage the inventory of products via the application's source code, that it would be \"better\" to manage the inventory of products via a local CSV file stored on the checkout computer (i.e. updloaded or downloaded into the notebook's filesystem), and that it would be \"ideal\" to be able to manage the inventory of products via a centralized Google Sheet [spreadsheet document](https://docs.google.com/spreadsheets/d/1ItN7Cc2Yn4K90cMIsxi2P045Gzw0y2JHB_EkV4mXXpI/edit?usp=sharing).\n",
        "\n",
        "The store owner also says it would be \"nice to have\" a feature which prompts the checkout clerk or the customer to input the customer's email address in order to send them a receipt via email. And that it would be \"ideal\" to also save the customer's email addresses somewhere (if the customer consents to opt-in to the customer loyalty program)."
      ],
      "metadata": {
        "id": "dqaJ_O5H4wRC"
      }
    },
    {
      "cell_type": "markdown",
      "source": [
        "## Requirements\n",
        "\n"
      ],
      "metadata": {
        "id": "tnj6eer-RnND"
      }
    },
    {
      "cell_type": "markdown",
      "source": [
        "### Basic Requirements"
      ],
      "metadata": {
        "id": "9GpF6Z2OrmkR"
      }
    },
    {
      "cell_type": "markdown",
      "source": [
        "\n",
        "Write a Python program that asks the user to input one or more product identifiers, then looks up the prices for each, then prints an itemized customer receipt including the total amount owed.\n",
        "\n",
        "The program should use one of the provided datastores (see \"Setup\" section) to represent the store owner's inventory of products and prices.\n",
        "\n",
        "The program should prompt the checkout clerk to input (or scan) the identifier of each shopping cart item, one at a time. It should also let the user know how to stop the process, by inputting the word \"DONE\" instead.\n",
        "\n",
        "When the clerk inputs a product identifier, the program should validate it, displaying a helpful message like \"Hey, are you sure that product identifier is correct? Please try again!\" if there are no products matching the given identifier.\n",
        "\n",
        "At any time the clerk should be able to indicate there are no more shopping cart items by inputting the word \"DONE\" or otherwise indicating they are done with the process. Before asking for identifiers, the program should provide clear instructions to the user about how to use the \"DONE\" keyword.\n",
        "\n",
        "After the clerk indicates there are no more items, the program should print a custom receipt on the screen. The receipt should include the following components:\n",
        "\n",
        "  + A grocery store name of your choice\n",
        "  + A grocery store phone number and/or website URL and/or address of choice\n",
        "  + The date and time of the beginning of the checkout process, formatted in a human-friendly way (e.g. `2020-02-07 03:54 PM`)\n",
        "  + The name and price of each shopping cart item, price being formatted as US dollars and cents (e.g. `$3.50`, etc.)\n",
        "  + The total cost of all shopping cart items (i.e. the \"subtotal\"), formatted as US dollars and cents (e.g. `$19.47`), calculated as the sum of their prices\n",
        "  + The amount of tax owed (e.g. `$1.70`), calculated by multiplying the total cost by a New York City sales tax rate of 8.75% (for the purposes of this project, groceries are not exempt from sales tax)\n",
        "  + The total amount owed, formatted as US dollars and cents (e.g. `$21.17`), calculated by adding together the amount of tax owed plus the total cost of all shopping cart items\n",
        "  + A friendly message thanking the customer and/or encouraging the customer to shop again\n",
        "\n",
        "The program should be able to process multiple shopping cart items of the same kind, but need not display any groupings or aggregations of those items (although it may optionally do so).\n",
        "\n"
      ],
      "metadata": {
        "id": "aLxBOtV_Cimv"
      }
    },
    {
      "cell_type": "markdown",
      "source": [
        "### Further Exploration\n",
        "\n",
        "\n"
      ],
      "metadata": {
        "id": "sToAMIV9EnJZ"
      }
    },
    {
      "cell_type": "markdown",
      "source": [
        "\n",
        "This section provides **OPTIONAL** project challenges for students seeking a greater level of difficulty.\n",
        "\n",
        "> GUIDANCE: only attempt these challenges if you have completely and accurately addressed the basic requirements in their entirety.\n",
        "\n",
        "\n",
        "**Alternative Inventory Options**\n",
        "\n",
        "Instead of using the hard-coded data provided in Inventory Option A, use the CSV file referenced in Inventory Option B, or ideally use the Google Sheet referenced in Inventory Option C.\n",
        "\n",
        "See the corresponding \"Setup\" cell(s) for more links and hints about implementing each inventory option.\n",
        "\n",
        "> NOTE: choose ONE inventory option only (hard coded, or CSV file, or Google Sheet). Which ever solution you choose, you should end up with either a `products` variable that is a list of dictionaries, or a `products_df` variable that is a pandas DataFrame, and your solution may differ depending on which you choose.\n",
        "\n",
        "**Writing Receipts to File**\n",
        "\n",
        "In addition to displaying a receipt at the end of the checkout process, the program should write the receipt information into a new \".txt\" file saved to the notebook's filesystem. After downloading the file, the clerk's printer-connected computer should be able to actually print a paper receipt from the information contained in this file.\n",
        "\n",
        "Each text file should be named according to the date and time the checkout process started (e.g. \"receipt-2019-07-04-15-43-13-579531.txt\", where the numbers represent the year, month, day, 24-hour-style hour, minute, second, and milliseconds/microseconds, respectively).\n",
        "\n",
        "> HINT: consult the notes on [file management](https://github.com/prof-rossetti/intro-to-python/blob/main/notes/python/file-management.md) for examples of how to write to file in Python\n",
        "\n",
        "**Sending Receipts via Email**\n",
        "\n",
        "\n",
        "In addition to displaying a receipt at the end of the checkout process, the program should prompt the checkout clerk or the customer to indicate whether the customer would like to receive the receipt by email. And if so, it should prompt the checkout clerk or the customer to input the customer's email address, and then it should send the receipt information to the customer by email. The clerk's network-connected computer should be able to send these emails.\n",
        "\n",
        "At the very least, the email should display the checkout timestamp and the total price. But ideally it should contain all the receipt information described in the basic requirements.\n",
        "\n",
        "> HINT: leverage the email-sending capabilities of [the `sendgrid` package](https://github.com/prof-rossetti/intro-to-python/blob/main/notes/python/packages/sendgrid.md).\n",
        "\n",
        "> NOTE: your notebook must contain text cell instructions for how someone can signup for the service and obtain their own credentials (i.e. API Key). Prefer not to use a template for this assignment, otherwise you must include instructions for how someone could re-create that template (including sample HTML and sample data).\n",
        "\n",
        "\n",
        "> NOTE: we should take all precautions to hide our secret credentials and prevent their exposure - for example by asking for a secure input via the `getpass` method (see corresponding \"Setup\" cell), and by never printing the secret values.\n",
        "\n",
        "\n",
        "**Displaying Product Images**\n",
        "\n",
        "Optionally display the product images in the printed and/or emailed receipt.\n",
        "\n",
        "Use the same height for each image so they look  somewhat uniform.\n",
        "\n",
        "> HINT: see corresponding \"Setup\" cell for some image display examples."
      ],
      "metadata": {
        "id": "WUNpEywROMRY"
      }
    },
    {
      "cell_type": "markdown",
      "source": [
        "### Example Output\n"
      ],
      "metadata": {
        "id": "w109Lk3SCmNw"
      }
    },
    {
      "cell_type": "markdown",
      "source": [
        "\n",
        "\n",
        "``` sh\n",
        "Please input a product identifier: 1\n",
        "Please input a product identifier: 2\n",
        "Please input a product identifier: 3\n",
        "Please input a product identifier: 2\n",
        "Please input a product identifier: 1\n",
        "Please input a product identifier: DONE\n",
        "\n",
        "#> ---------------------------------\n",
        "#> GREEN FOODS GROCERY\n",
        "#> WWW.GREEN-FOODS-GROCERY.COM\n",
        "#> ---------------------------------\n",
        "#> CHECKOUT AT: 2020-02-07 03:54 PM\n",
        "#> ---------------------------------\n",
        "#> SELECTED PRODUCTS:\n",
        "#>  ... Chocolate Sandwich Cookies ($3.50)\n",
        "#>  ... All-Seasons Salt ($4.99)\n",
        "#>  ... Robust Golden Unsweetened Oolong Tea ($2.49)\n",
        "#>  ... All-Seasons Salt ($4.99)\n",
        "#>  ... Chocolate Sandwich Cookies ($3.50)\n",
        "#> ---------------------------------\n",
        "#> SUBTOTAL: $19.47\n",
        "#> TAX: $1.70\n",
        "#> TOTAL: $21.17\n",
        "#> ---------------------------------\n",
        "#> THANKS, SEE YOU AGAIN SOON!\n",
        "#> ---------------------------------\n",
        "\n",
        "```"
      ],
      "metadata": {
        "id": "o9XEJ2RTClB8"
      }
    },
    {
      "cell_type": "markdown",
      "source": [
        "## Evaluation\n"
      ],
      "metadata": {
        "id": "GWj6HNQQSzZA"
      }
    },
    {
      "cell_type": "markdown",
      "source": [
        "Project submissions will be evaluated according to the requirements set forth above, as summarized by the rubric below:\n",
        "\n",
        "\n",
        "\n",
        "Category | Requirement | Weight\n",
        "--- | --- | ---\n",
        "Instructions | Provides setup instructions, as necessary <br> (only if project requires additional setup, such as obtaining Sendgrid API keys, must include those instructions in a text cell. <br> Otherwise full credit. | 10%\n",
        "Security | Protects secret credentials as necessary <br> (only if using secret credentials to send emails, must ask for them via secure inputs using `getpass` approach). <br> Otherwise full points / no deduction if not using secret credentials. | 10%\n",
        "Info Inputs | Captures / scans product identifiers. | 10%\n",
        "Info Inputs | Handles invalid inputs <br> (like \"OOPS\" and/or out of range identifiers), fails gracefully on invalid product lookups. <br> Does not try to process invalid inputs. Avoids a red / crashed cell. | 15%\n",
        "Info Inputs | Instructs the user about, and handles, the \"DONE\" signal. | 10%\n",
        "Info Outputs (Receipt) | Displays store info. | 10%\n",
        "Info Outputs (Receipt) | Displays checkout date and time, in a human-friendly format. | 10%\n",
        "Info Outputs (Receipt) | Displays names and prices of all scanned products, with prices formatted as USD. | 10%\n",
        "Info Outputs (Receipt) | Displays tax and totals, formatted as USD. | 15%\n",
        "\n",
        "This rubric is tentative, and may be subject to slight adjustments during the grading process.\n",
        "\n",
        "If experiencing execution error(s) while evaluating the application's required functionality, evaluators are advised to reduce the project's grade by between 4% and 25%, depending on the circumstances and severity of the error(s).\n",
        "\n",
        "Additionally, the professor reserves the right to apply bonus / extra credit for successfully completed further exploration challenges (for a maximum possible bonus total of around 12%):\n",
        "  + Inventory Bonus: +3% for CSV file inventory OR +6% for Google Sheets inventory\n",
        "  + Receipt Bonus: +3% for writing receipt to TXT file AND/OR +6% for sending receipt via email\n",
        "  + Image Bonus: +2% for displaying the product images in a reasonable,  semi-uniform way\n",
        "\n",
        "\n",
        "\n",
        "\n",
        "\n"
      ],
      "metadata": {
        "id": "ME5s2Ek6S1Dd"
      }
    },
    {
      "cell_type": "markdown",
      "source": [
        "# Solution"
      ],
      "metadata": {
        "id": "PaHSX83Qrx8j"
      }
    },
    {
      "cell_type": "markdown",
      "source": [
        "This is the only section that will be evaluated. Make sure the final working version of the code is completely contained within this section."
      ],
      "metadata": {
        "id": "LLtxUAzrzfh_"
      }
    },
    {
      "cell_type": "code",
      "source": [],
      "metadata": {
        "id": "WARR5j5LrziR"
      },
      "execution_count": null,
      "outputs": []
    },
    {
      "cell_type": "code",
      "source": [],
      "metadata": {
        "id": "TAWlkMTir0AR"
      },
      "execution_count": null,
      "outputs": []
    },
    {
      "cell_type": "code",
      "source": [],
      "metadata": {
        "id": "UXBsJhtArz9h"
      },
      "execution_count": null,
      "outputs": []
    },
    {
      "cell_type": "code",
      "source": [],
      "metadata": {
        "id": "01FeHZF9rz68"
      },
      "execution_count": null,
      "outputs": []
    },
    {
      "cell_type": "code",
      "source": [],
      "metadata": {
        "id": "XJiPchgDrz4c"
      },
      "execution_count": null,
      "outputs": []
    },
    {
      "cell_type": "code",
      "source": [],
      "metadata": {
        "id": "Mq1p9Jhhrz1w"
      },
      "execution_count": null,
      "outputs": []
    },
    {
      "cell_type": "code",
      "source": [],
      "metadata": {
        "id": "ixVtLtNSzfOY"
      },
      "execution_count": null,
      "outputs": []
    },
    {
      "cell_type": "code",
      "source": [],
      "metadata": {
        "id": "UOcGIJSNzfLz"
      },
      "execution_count": null,
      "outputs": []
    },
    {
      "cell_type": "code",
      "source": [],
      "metadata": {
        "id": "NfFrgG7kzfJP"
      },
      "execution_count": null,
      "outputs": []
    },
    {
      "cell_type": "code",
      "source": [],
      "metadata": {
        "id": "Iy1r9q3VzsLb"
      },
      "execution_count": null,
      "outputs": []
    },
    {
      "cell_type": "code",
      "source": [],
      "metadata": {
        "id": "Yg83NEJ1zsIw"
      },
      "execution_count": null,
      "outputs": []
    },
    {
      "cell_type": "code",
      "source": [],
      "metadata": {
        "id": "1H9B_Q_5zsGA"
      },
      "execution_count": null,
      "outputs": []
    },
    {
      "cell_type": "markdown",
      "source": [
        "# Scratch Work and Starter Code"
      ],
      "metadata": {
        "id": "ekIj0aU66R9M"
      }
    },
    {
      "cell_type": "markdown",
      "source": [
        "This section contains some example code you may find helpful. If you would like to use any of this code in your solution, make sure to move those cells up into the solution section (or copy the code into the solution section).\n",
        "\n",
        "You can then comment-out or remove any of the unusued code below, as desired.\n",
        "\n",
        "Remember, code below will not be evaluated. Make sure the solution section above has all the code you need to make the app work."
      ],
      "metadata": {
        "id": "9GRq-wa3rRzc"
      }
    },
    {
      "cell_type": "markdown",
      "source": [
        "### Image Display Examples"
      ],
      "metadata": {
        "id": "NznIzPBWfxMt"
      }
    },
    {
      "cell_type": "markdown",
      "source": [
        "Use this code if you would like to display product images (only applicable for certain inventory options that contain image URLs)."
      ],
      "metadata": {
        "id": "RveFByS50zPG"
      }
    },
    {
      "cell_type": "code",
      "source": [
        "#\n",
        "# IMAGE DISPLAY\n",
        "# ... run this cell to display some example images\n",
        "# ... (and feel free to adapt the approach if you'd like to display the product images later)\n",
        "#\n",
        "\n",
        "from IPython.display import Image, display\n",
        "\n",
        "print(\"-----------\")\n",
        "print(\"EXAMPLE IMAGES:\")\n",
        "\n",
        "print(\"-----------\")\n",
        "#image_url = \"https://upload.wikimedia.org/wikipedia/commons/thumb/9/9f/Georgetown_Hoyas_logo.svg/64px-Georgetown_Hoyas_logo.svg.png\"\n",
        "image_url = \"https://smartdesignworldwide.com/wp-content/uploads/2018/05/nyu-logo.jpg\"\n",
        "display(Image(url=image_url, height=100))\n",
        "\n",
        "print(\"-----------\")\n",
        "display(Image(url=\"https://www.python.org/static/community_logos/python-powered-w-200x80.png\"))\n",
        "\n",
        "print(\"-----------\")\n",
        "display(Image(url=\"https://www.shareicon.net/data/128x128/2016/05/04/759867_food_512x512.png\", height=100))"
      ],
      "metadata": {
        "id": "fUgRCt3Gfygc",
        "colab": {
          "base_uri": "https://localhost:8080/",
          "height": 398
        },
        "outputId": "5dda04bd-a294-4a87-a0fe-033716b4269d"
      },
      "execution_count": 2,
      "outputs": [
        {
          "output_type": "stream",
          "name": "stdout",
          "text": [
            "-----------\n",
            "EXAMPLE IMAGES:\n",
            "-----------\n"
          ]
        },
        {
          "output_type": "display_data",
          "data": {
            "text/html": [
              "<img src=\"https://smartdesignworldwide.com/wp-content/uploads/2018/05/nyu-logo.jpg\" height=\"100\"/>"
            ],
            "text/plain": [
              "<IPython.core.display.Image object>"
            ]
          },
          "metadata": {}
        },
        {
          "output_type": "stream",
          "name": "stdout",
          "text": [
            "-----------\n"
          ]
        },
        {
          "output_type": "display_data",
          "data": {
            "text/html": [
              "<img src=\"https://www.python.org/static/community_logos/python-powered-w-200x80.png\"/>"
            ],
            "text/plain": [
              "<IPython.core.display.Image object>"
            ]
          },
          "metadata": {}
        },
        {
          "output_type": "stream",
          "name": "stdout",
          "text": [
            "-----------\n"
          ]
        },
        {
          "output_type": "display_data",
          "data": {
            "text/html": [
              "<img src=\"https://www.shareicon.net/data/128x128/2016/05/04/759867_food_512x512.png\" height=\"100\"/>"
            ],
            "text/plain": [
              "<IPython.core.display.Image object>"
            ]
          },
          "metadata": {}
        }
      ]
    },
    {
      "cell_type": "markdown",
      "source": [
        "### Price Formatting Function"
      ],
      "metadata": {
        "id": "D2_cqRlx9yas"
      }
    },
    {
      "cell_type": "markdown",
      "source": [
        "Use this function to format prices as USD."
      ],
      "metadata": {
        "id": "l8PasQKB0w8h"
      }
    },
    {
      "cell_type": "code",
      "source": [
        "#\n",
        "# DOLLAR FORMATTING FUNCTION\n",
        "# ... use this function later if you find it helpful :-)\n",
        "#\n",
        "\n",
        "def to_usd(my_price):\n",
        "    \"\"\"\n",
        "    Converts a numeric value to usd-formatted string, for printing and display purposes.\n",
        "\n",
        "    Param: my_price (int or float) like 4000.444444\n",
        "\n",
        "    Example: to_usd(4000.444444)\n",
        "\n",
        "    Returns: $4,000.44\n",
        "    \"\"\"\n",
        "    return f\"${my_price:,.2f}\" #> $12,000.71\n",
        "\n",
        "\n",
        "\n",
        "assert to_usd(4.5) == \"$4.50\"\n",
        "assert to_usd(1234567890.98765) == \"$1,234,567,890.99\""
      ],
      "metadata": {
        "id": "SGztgSOT6ttE"
      },
      "execution_count": 4,
      "outputs": []
    },
    {
      "cell_type": "markdown",
      "source": [
        "### Inventory Option A) Hard Coded"
      ],
      "metadata": {
        "id": "ISAWSzE392Wn"
      }
    },
    {
      "cell_type": "markdown",
      "source": [
        "This is the easiest inventory option. If you use this inventory option, there is no need to use other inventory options."
      ],
      "metadata": {
        "id": "9FGDKaYns-Ra"
      }
    },
    {
      "cell_type": "code",
      "source": [
        "#\n",
        "# PRODUCTS INVENTORY (OPTION A - HARD CODED)\n",
        "# ... use this variable as a default products inventory\n",
        "# ... or comment it out / remove if you end up choosing a different option\n",
        "#\n",
        "\n",
        "products = [\n",
        "    {\"id\":1, \"name\": \"Chocolate Sandwich Cookies\", \"department\": \"snacks\", \"aisle\": \"cookies cakes\", \"price\": 3.50},\n",
        "    {\"id\":2, \"name\": \"All-Seasons Salt\", \"department\": \"pantry\", \"aisle\": \"spices seasonings\", \"price\": 4.99},\n",
        "    {\"id\":3, \"name\": \"Robust Golden Unsweetened Oolong Tea\", \"department\": \"beverages\", \"aisle\": \"tea\", \"price\": 2.49},\n",
        "    {\"id\":4, \"name\": \"Smart Ones Classic Favorites Mini Rigatoni With Vodka Cream Sauce\", \"department\": \"frozen\", \"aisle\": \"frozen meals\", \"price\": 6.99},\n",
        "    {\"id\":5, \"name\": \"Green Chile Anytime Sauce\", \"department\": \"pantry\", \"aisle\": \"marinades meat preparation\", \"price\": 7.99},\n",
        "    {\"id\":6, \"name\": \"Dry Nose Oil\", \"department\": \"personal care\", \"aisle\": \"cold flu allergy\", \"price\": 21.99},\n",
        "    {\"id\":7, \"name\": \"Pure Coconut Water With Orange\", \"department\": \"beverages\", \"aisle\": \"juice nectars\", \"price\": 3.50},\n",
        "    {\"id\":8, \"name\": \"Cut Russet Potatoes Steam N' Mash\", \"department\": \"frozen\", \"aisle\": \"frozen produce\", \"price\": 4.25},\n",
        "    {\"id\":9, \"name\": \"Light Strawberry Blueberry Yogurt\", \"department\": \"dairy eggs\", \"aisle\": \"yogurt\", \"price\": 6.50},\n",
        "    {\"id\":10, \"name\": \"Sparkling Orange Juice & Prickly Pear Beverage\", \"department\": \"beverages\", \"aisle\": \"water seltzer sparkling water\", \"price\": 2.99},\n",
        "    {\"id\":11, \"name\": \"Peach Mango Juice\", \"department\": \"beverages\", \"aisle\": \"refrigerated\", \"price\": 1.99},\n",
        "    {\"id\":12, \"name\": \"Chocolate Fudge Layer Cake\", \"department\": \"frozen\", \"aisle\": \"frozen dessert\", \"price\": 18.50},\n",
        "    {\"id\":13, \"name\": \"Saline Nasal Mist\", \"department\": \"personal care\", \"aisle\": \"cold flu allergy\", \"price\": 16.00},\n",
        "    {\"id\":14, \"name\": \"Fresh Scent Dishwasher Cleaner\", \"department\": \"household\", \"aisle\": \"dish detergents\", \"price\": 4.99},\n",
        "    {\"id\":15, \"name\": \"Overnight Diapers Size 6\", \"department\": \"babies\", \"aisle\": \"diapers wipes\", \"price\": 25.50},\n",
        "    {\"id\":16, \"name\": \"Mint Chocolate Flavored Syrup\", \"department\": \"snacks\", \"aisle\": \"ice cream toppings\", \"price\": 4.50},\n",
        "    {\"id\":17, \"name\": \"Rendered Duck Fat\", \"department\": \"meat seafood\", \"aisle\": \"poultry counter\", \"price\": 9.99},\n",
        "    {\"id\":18, \"name\": \"Pizza for One Suprema Frozen Pizza\", \"department\": \"frozen\", \"aisle\": \"frozen pizza\", \"price\": 12.50},\n",
        "    {\"id\":19, \"name\": \"Gluten Free Quinoa Three Cheese & Mushroom Blend\", \"department\": \"dry goods pasta\", \"aisle\": \"grains rice dried goods\", \"price\": 3.99},\n",
        "    {\"id\":20, \"name\": \"Pomegranate Cranberry & Aloe Vera Enrich Drink\", \"department\": \"beverages\", \"aisle\": \"juice nectars\", \"price\": 4.25}\n",
        "] # based on data from Instacart: https://www.instacart.com/datasets/grocery-shopping-2017\n",
        "\n",
        "print(type(products))\n",
        "print(len(products))\n",
        "print(products)"
      ],
      "metadata": {
        "id": "o3bMy2Al6Tdm",
        "colab": {
          "base_uri": "https://localhost:8080/"
        },
        "outputId": "2deef866-2290-4f6b-95d3-e5c55b332738"
      },
      "execution_count": 31,
      "outputs": [
        {
          "output_type": "stream",
          "name": "stdout",
          "text": [
            "<class 'list'>\n",
            "20\n",
            "[{'id': 1, 'name': 'Chocolate Sandwich Cookies', 'department': 'snacks', 'aisle': 'cookies cakes', 'price': 3.5}, {'id': 2, 'name': 'All-Seasons Salt', 'department': 'pantry', 'aisle': 'spices seasonings', 'price': 4.99}, {'id': 3, 'name': 'Robust Golden Unsweetened Oolong Tea', 'department': 'beverages', 'aisle': 'tea', 'price': 2.49}, {'id': 4, 'name': 'Smart Ones Classic Favorites Mini Rigatoni With Vodka Cream Sauce', 'department': 'frozen', 'aisle': 'frozen meals', 'price': 6.99}, {'id': 5, 'name': 'Green Chile Anytime Sauce', 'department': 'pantry', 'aisle': 'marinades meat preparation', 'price': 7.99}, {'id': 6, 'name': 'Dry Nose Oil', 'department': 'personal care', 'aisle': 'cold flu allergy', 'price': 21.99}, {'id': 7, 'name': 'Pure Coconut Water With Orange', 'department': 'beverages', 'aisle': 'juice nectars', 'price': 3.5}, {'id': 8, 'name': \"Cut Russet Potatoes Steam N' Mash\", 'department': 'frozen', 'aisle': 'frozen produce', 'price': 4.25}, {'id': 9, 'name': 'Light Strawberry Blueberry Yogurt', 'department': 'dairy eggs', 'aisle': 'yogurt', 'price': 6.5}, {'id': 10, 'name': 'Sparkling Orange Juice & Prickly Pear Beverage', 'department': 'beverages', 'aisle': 'water seltzer sparkling water', 'price': 2.99}, {'id': 11, 'name': 'Peach Mango Juice', 'department': 'beverages', 'aisle': 'refrigerated', 'price': 1.99}, {'id': 12, 'name': 'Chocolate Fudge Layer Cake', 'department': 'frozen', 'aisle': 'frozen dessert', 'price': 18.5}, {'id': 13, 'name': 'Saline Nasal Mist', 'department': 'personal care', 'aisle': 'cold flu allergy', 'price': 16.0}, {'id': 14, 'name': 'Fresh Scent Dishwasher Cleaner', 'department': 'household', 'aisle': 'dish detergents', 'price': 4.99}, {'id': 15, 'name': 'Overnight Diapers Size 6', 'department': 'babies', 'aisle': 'diapers wipes', 'price': 25.5}, {'id': 16, 'name': 'Mint Chocolate Flavored Syrup', 'department': 'snacks', 'aisle': 'ice cream toppings', 'price': 4.5}, {'id': 17, 'name': 'Rendered Duck Fat', 'department': 'meat seafood', 'aisle': 'poultry counter', 'price': 9.99}, {'id': 18, 'name': 'Pizza for One Suprema Frozen Pizza', 'department': 'frozen', 'aisle': 'frozen pizza', 'price': 12.5}, {'id': 19, 'name': 'Gluten Free Quinoa Three Cheese & Mushroom Blend', 'department': 'dry goods pasta', 'aisle': 'grains rice dried goods', 'price': 3.99}, {'id': 20, 'name': 'Pomegranate Cranberry & Aloe Vera Enrich Drink', 'department': 'beverages', 'aisle': 'juice nectars', 'price': 4.25}]\n"
          ]
        }
      ]
    },
    {
      "cell_type": "code",
      "source": [],
      "metadata": {
        "id": "BrwDBjS5yqAs"
      },
      "execution_count": null,
      "outputs": []
    },
    {
      "cell_type": "markdown",
      "source": [
        "### Inventory Option B) CSV File\n",
        "\n"
      ],
      "metadata": {
        "id": "MVhv3dwV97KX"
      }
    },
    {
      "cell_type": "markdown",
      "source": [
        "This is one possible inventory option. If you use this inventory option, there is no need to use other inventory options.\n",
        "\n",
        "Choose one of these two possible hosted CSV files:\n",
        "  + [\"products.csv\"](https://raw.githubusercontent.com/prof-rossetti/intro-to-python/master/data/products.csv) -- the basic list of products, matches the hard-coded list provided in Inventory Option A\n",
        "  + [\"products-default.csv\"](https://raw.githubusercontent.com/prof-rossetti/intro-to-python/master/data/products-default.csv) -- contains additional custom products, as well as an additional column of product image URLs\n",
        "\n",
        "> HINT: see also the pandas [`read_csv` function docs](https://pandas.pydata.org/pandas-docs/stable/reference/api/pandas.read_csv.html)"
      ],
      "metadata": {
        "id": "BwnI5tRJtIaK"
      }
    },
    {
      "cell_type": "code",
      "source": [
        "#\n",
        "# PRODUCTS INVENTORY (OPTION B - HOSTED CSV FILE)\n",
        "# ... use this code to obtain an inventory of products\n",
        "# ... or comment it out / remove if you end up choosing a different inventory option\n",
        "#\n",
        "\n",
        "from pandas import read_csv\n",
        "\n",
        "products_csv_file = \"https://raw.githubusercontent.com/prof-rossetti/intro-to-python/master/data/products.csv\"\n",
        "\n",
        "products_df = read_csv(products_csv_file)\n",
        "#products_df.index = products_df[\"id\"]\n",
        "products_df"
      ],
      "metadata": {
        "id": "GWG9zxbc7gmq",
        "colab": {
          "base_uri": "https://localhost:8080/",
          "height": 677
        },
        "outputId": "7b746b26-9fe8-408e-f7c7-3b69b0ea335c"
      },
      "execution_count": 12,
      "outputs": [
        {
          "output_type": "execute_result",
          "data": {
            "text/plain": [
              "    id                                               name  \\\n",
              "0    1                         Chocolate Sandwich Cookies   \n",
              "1    2                                   All-Seasons Salt   \n",
              "2    3               Robust Golden Unsweetened Oolong Tea   \n",
              "3    4  Smart Ones Classic Favorites Mini Rigatoni Wit...   \n",
              "4    5                          Green Chile Anytime Sauce   \n",
              "5    6                                       Dry Nose Oil   \n",
              "6    7                     Pure Coconut Water With Orange   \n",
              "7    8                  Cut Russet Potatoes Steam N' Mash   \n",
              "8    9                  Light Strawberry Blueberry Yogurt   \n",
              "9   10     Sparkling Orange Juice & Prickly Pear Beverage   \n",
              "10  11                                  Peach Mango Juice   \n",
              "11  12                         Chocolate Fudge Layer Cake   \n",
              "12  13                                  Saline Nasal Mist   \n",
              "13  14                     Fresh Scent Dishwasher Cleaner   \n",
              "14  15                           Overnight Diapers Size 6   \n",
              "15  16                      Mint Chocolate Flavored Syrup   \n",
              "16  17                                  Rendered Duck Fat   \n",
              "17  18                Pizza for One Suprema  Frozen Pizza   \n",
              "18  19   Gluten Free Quinoa Three Cheese & Mushroom Blend   \n",
              "19  20     Pomegranate Cranberry & Aloe Vera Enrich Drink   \n",
              "\n",
              "                            aisle       department  price  \n",
              "0                   cookies cakes           snacks   3.50  \n",
              "1               spices seasonings           pantry   4.99  \n",
              "2                             tea        beverages   2.49  \n",
              "3                    frozen meals           frozen   6.99  \n",
              "4      marinades meat preparation           pantry   7.99  \n",
              "5                cold flu allergy    personal care  21.99  \n",
              "6                   juice nectars        beverages   3.50  \n",
              "7                  frozen produce           frozen   4.25  \n",
              "8                          yogurt       dairy eggs   6.50  \n",
              "9   water seltzer sparkling water        beverages   2.99  \n",
              "10                   refrigerated        beverages   1.99  \n",
              "11                 frozen dessert           frozen  18.50  \n",
              "12               cold flu allergy    personal care  16.00  \n",
              "13                dish detergents        household   4.99  \n",
              "14                  diapers wipes           babies  25.50  \n",
              "15             ice cream toppings           snacks   4.50  \n",
              "16                poultry counter     meat seafood   9.99  \n",
              "17                   frozen pizza           frozen  12.50  \n",
              "18        grains rice dried goods  dry goods pasta   3.99  \n",
              "19                  juice nectars        beverages   4.25  "
            ],
            "text/html": [
              "\n",
              "\n",
              "  <div id=\"df-45785759-f93b-4b65-aa1d-aa9d50e4f25a\">\n",
              "    <div class=\"colab-df-container\">\n",
              "      <div>\n",
              "<style scoped>\n",
              "    .dataframe tbody tr th:only-of-type {\n",
              "        vertical-align: middle;\n",
              "    }\n",
              "\n",
              "    .dataframe tbody tr th {\n",
              "        vertical-align: top;\n",
              "    }\n",
              "\n",
              "    .dataframe thead th {\n",
              "        text-align: right;\n",
              "    }\n",
              "</style>\n",
              "<table border=\"1\" class=\"dataframe\">\n",
              "  <thead>\n",
              "    <tr style=\"text-align: right;\">\n",
              "      <th></th>\n",
              "      <th>id</th>\n",
              "      <th>name</th>\n",
              "      <th>aisle</th>\n",
              "      <th>department</th>\n",
              "      <th>price</th>\n",
              "    </tr>\n",
              "  </thead>\n",
              "  <tbody>\n",
              "    <tr>\n",
              "      <th>0</th>\n",
              "      <td>1</td>\n",
              "      <td>Chocolate Sandwich Cookies</td>\n",
              "      <td>cookies cakes</td>\n",
              "      <td>snacks</td>\n",
              "      <td>3.50</td>\n",
              "    </tr>\n",
              "    <tr>\n",
              "      <th>1</th>\n",
              "      <td>2</td>\n",
              "      <td>All-Seasons Salt</td>\n",
              "      <td>spices seasonings</td>\n",
              "      <td>pantry</td>\n",
              "      <td>4.99</td>\n",
              "    </tr>\n",
              "    <tr>\n",
              "      <th>2</th>\n",
              "      <td>3</td>\n",
              "      <td>Robust Golden Unsweetened Oolong Tea</td>\n",
              "      <td>tea</td>\n",
              "      <td>beverages</td>\n",
              "      <td>2.49</td>\n",
              "    </tr>\n",
              "    <tr>\n",
              "      <th>3</th>\n",
              "      <td>4</td>\n",
              "      <td>Smart Ones Classic Favorites Mini Rigatoni Wit...</td>\n",
              "      <td>frozen meals</td>\n",
              "      <td>frozen</td>\n",
              "      <td>6.99</td>\n",
              "    </tr>\n",
              "    <tr>\n",
              "      <th>4</th>\n",
              "      <td>5</td>\n",
              "      <td>Green Chile Anytime Sauce</td>\n",
              "      <td>marinades meat preparation</td>\n",
              "      <td>pantry</td>\n",
              "      <td>7.99</td>\n",
              "    </tr>\n",
              "    <tr>\n",
              "      <th>5</th>\n",
              "      <td>6</td>\n",
              "      <td>Dry Nose Oil</td>\n",
              "      <td>cold flu allergy</td>\n",
              "      <td>personal care</td>\n",
              "      <td>21.99</td>\n",
              "    </tr>\n",
              "    <tr>\n",
              "      <th>6</th>\n",
              "      <td>7</td>\n",
              "      <td>Pure Coconut Water With Orange</td>\n",
              "      <td>juice nectars</td>\n",
              "      <td>beverages</td>\n",
              "      <td>3.50</td>\n",
              "    </tr>\n",
              "    <tr>\n",
              "      <th>7</th>\n",
              "      <td>8</td>\n",
              "      <td>Cut Russet Potatoes Steam N' Mash</td>\n",
              "      <td>frozen produce</td>\n",
              "      <td>frozen</td>\n",
              "      <td>4.25</td>\n",
              "    </tr>\n",
              "    <tr>\n",
              "      <th>8</th>\n",
              "      <td>9</td>\n",
              "      <td>Light Strawberry Blueberry Yogurt</td>\n",
              "      <td>yogurt</td>\n",
              "      <td>dairy eggs</td>\n",
              "      <td>6.50</td>\n",
              "    </tr>\n",
              "    <tr>\n",
              "      <th>9</th>\n",
              "      <td>10</td>\n",
              "      <td>Sparkling Orange Juice &amp; Prickly Pear Beverage</td>\n",
              "      <td>water seltzer sparkling water</td>\n",
              "      <td>beverages</td>\n",
              "      <td>2.99</td>\n",
              "    </tr>\n",
              "    <tr>\n",
              "      <th>10</th>\n",
              "      <td>11</td>\n",
              "      <td>Peach Mango Juice</td>\n",
              "      <td>refrigerated</td>\n",
              "      <td>beverages</td>\n",
              "      <td>1.99</td>\n",
              "    </tr>\n",
              "    <tr>\n",
              "      <th>11</th>\n",
              "      <td>12</td>\n",
              "      <td>Chocolate Fudge Layer Cake</td>\n",
              "      <td>frozen dessert</td>\n",
              "      <td>frozen</td>\n",
              "      <td>18.50</td>\n",
              "    </tr>\n",
              "    <tr>\n",
              "      <th>12</th>\n",
              "      <td>13</td>\n",
              "      <td>Saline Nasal Mist</td>\n",
              "      <td>cold flu allergy</td>\n",
              "      <td>personal care</td>\n",
              "      <td>16.00</td>\n",
              "    </tr>\n",
              "    <tr>\n",
              "      <th>13</th>\n",
              "      <td>14</td>\n",
              "      <td>Fresh Scent Dishwasher Cleaner</td>\n",
              "      <td>dish detergents</td>\n",
              "      <td>household</td>\n",
              "      <td>4.99</td>\n",
              "    </tr>\n",
              "    <tr>\n",
              "      <th>14</th>\n",
              "      <td>15</td>\n",
              "      <td>Overnight Diapers Size 6</td>\n",
              "      <td>diapers wipes</td>\n",
              "      <td>babies</td>\n",
              "      <td>25.50</td>\n",
              "    </tr>\n",
              "    <tr>\n",
              "      <th>15</th>\n",
              "      <td>16</td>\n",
              "      <td>Mint Chocolate Flavored Syrup</td>\n",
              "      <td>ice cream toppings</td>\n",
              "      <td>snacks</td>\n",
              "      <td>4.50</td>\n",
              "    </tr>\n",
              "    <tr>\n",
              "      <th>16</th>\n",
              "      <td>17</td>\n",
              "      <td>Rendered Duck Fat</td>\n",
              "      <td>poultry counter</td>\n",
              "      <td>meat seafood</td>\n",
              "      <td>9.99</td>\n",
              "    </tr>\n",
              "    <tr>\n",
              "      <th>17</th>\n",
              "      <td>18</td>\n",
              "      <td>Pizza for One Suprema  Frozen Pizza</td>\n",
              "      <td>frozen pizza</td>\n",
              "      <td>frozen</td>\n",
              "      <td>12.50</td>\n",
              "    </tr>\n",
              "    <tr>\n",
              "      <th>18</th>\n",
              "      <td>19</td>\n",
              "      <td>Gluten Free Quinoa Three Cheese &amp; Mushroom Blend</td>\n",
              "      <td>grains rice dried goods</td>\n",
              "      <td>dry goods pasta</td>\n",
              "      <td>3.99</td>\n",
              "    </tr>\n",
              "    <tr>\n",
              "      <th>19</th>\n",
              "      <td>20</td>\n",
              "      <td>Pomegranate Cranberry &amp; Aloe Vera Enrich Drink</td>\n",
              "      <td>juice nectars</td>\n",
              "      <td>beverages</td>\n",
              "      <td>4.25</td>\n",
              "    </tr>\n",
              "  </tbody>\n",
              "</table>\n",
              "</div>\n",
              "      <button class=\"colab-df-convert\" onclick=\"convertToInteractive('df-45785759-f93b-4b65-aa1d-aa9d50e4f25a')\"\n",
              "              title=\"Convert this dataframe to an interactive table.\"\n",
              "              style=\"display:none;\">\n",
              "\n",
              "  <svg xmlns=\"http://www.w3.org/2000/svg\" height=\"24px\"viewBox=\"0 0 24 24\"\n",
              "       width=\"24px\">\n",
              "    <path d=\"M0 0h24v24H0V0z\" fill=\"none\"/>\n",
              "    <path d=\"M18.56 5.44l.94 2.06.94-2.06 2.06-.94-2.06-.94-.94-2.06-.94 2.06-2.06.94zm-11 1L8.5 8.5l.94-2.06 2.06-.94-2.06-.94L8.5 2.5l-.94 2.06-2.06.94zm10 10l.94 2.06.94-2.06 2.06-.94-2.06-.94-.94-2.06-.94 2.06-2.06.94z\"/><path d=\"M17.41 7.96l-1.37-1.37c-.4-.4-.92-.59-1.43-.59-.52 0-1.04.2-1.43.59L10.3 9.45l-7.72 7.72c-.78.78-.78 2.05 0 2.83L4 21.41c.39.39.9.59 1.41.59.51 0 1.02-.2 1.41-.59l7.78-7.78 2.81-2.81c.8-.78.8-2.07 0-2.86zM5.41 20L4 18.59l7.72-7.72 1.47 1.35L5.41 20z\"/>\n",
              "  </svg>\n",
              "      </button>\n",
              "\n",
              "\n",
              "\n",
              "    <div id=\"df-75f0dc7d-35c7-4fd3-9559-b76dec902f26\">\n",
              "      <button class=\"colab-df-quickchart\" onclick=\"quickchart('df-75f0dc7d-35c7-4fd3-9559-b76dec902f26')\"\n",
              "              title=\"Suggest charts.\"\n",
              "              style=\"display:none;\">\n",
              "\n",
              "<svg xmlns=\"http://www.w3.org/2000/svg\" height=\"24px\"viewBox=\"0 0 24 24\"\n",
              "     width=\"24px\">\n",
              "    <g>\n",
              "        <path d=\"M19 3H5c-1.1 0-2 .9-2 2v14c0 1.1.9 2 2 2h14c1.1 0 2-.9 2-2V5c0-1.1-.9-2-2-2zM9 17H7v-7h2v7zm4 0h-2V7h2v10zm4 0h-2v-4h2v4z\"/>\n",
              "    </g>\n",
              "</svg>\n",
              "      </button>\n",
              "    </div>\n",
              "\n",
              "<style>\n",
              "  .colab-df-quickchart {\n",
              "    background-color: #E8F0FE;\n",
              "    border: none;\n",
              "    border-radius: 50%;\n",
              "    cursor: pointer;\n",
              "    display: none;\n",
              "    fill: #1967D2;\n",
              "    height: 32px;\n",
              "    padding: 0 0 0 0;\n",
              "    width: 32px;\n",
              "  }\n",
              "\n",
              "  .colab-df-quickchart:hover {\n",
              "    background-color: #E2EBFA;\n",
              "    box-shadow: 0px 1px 2px rgba(60, 64, 67, 0.3), 0px 1px 3px 1px rgba(60, 64, 67, 0.15);\n",
              "    fill: #174EA6;\n",
              "  }\n",
              "\n",
              "  [theme=dark] .colab-df-quickchart {\n",
              "    background-color: #3B4455;\n",
              "    fill: #D2E3FC;\n",
              "  }\n",
              "\n",
              "  [theme=dark] .colab-df-quickchart:hover {\n",
              "    background-color: #434B5C;\n",
              "    box-shadow: 0px 1px 3px 1px rgba(0, 0, 0, 0.15);\n",
              "    filter: drop-shadow(0px 1px 2px rgba(0, 0, 0, 0.3));\n",
              "    fill: #FFFFFF;\n",
              "  }\n",
              "</style>\n",
              "\n",
              "    <script>\n",
              "      async function quickchart(key) {\n",
              "        const containerElement = document.querySelector('#' + key);\n",
              "        const charts = await google.colab.kernel.invokeFunction(\n",
              "            'suggestCharts', [key], {});\n",
              "      }\n",
              "    </script>\n",
              "\n",
              "      <script>\n",
              "\n",
              "function displayQuickchartButton(domScope) {\n",
              "  let quickchartButtonEl =\n",
              "    domScope.querySelector('#df-75f0dc7d-35c7-4fd3-9559-b76dec902f26 button.colab-df-quickchart');\n",
              "  quickchartButtonEl.style.display =\n",
              "    google.colab.kernel.accessAllowed ? 'block' : 'none';\n",
              "}\n",
              "\n",
              "        displayQuickchartButton(document);\n",
              "      </script>\n",
              "      <style>\n",
              "    .colab-df-container {\n",
              "      display:flex;\n",
              "      flex-wrap:wrap;\n",
              "      gap: 12px;\n",
              "    }\n",
              "\n",
              "    .colab-df-convert {\n",
              "      background-color: #E8F0FE;\n",
              "      border: none;\n",
              "      border-radius: 50%;\n",
              "      cursor: pointer;\n",
              "      display: none;\n",
              "      fill: #1967D2;\n",
              "      height: 32px;\n",
              "      padding: 0 0 0 0;\n",
              "      width: 32px;\n",
              "    }\n",
              "\n",
              "    .colab-df-convert:hover {\n",
              "      background-color: #E2EBFA;\n",
              "      box-shadow: 0px 1px 2px rgba(60, 64, 67, 0.3), 0px 1px 3px 1px rgba(60, 64, 67, 0.15);\n",
              "      fill: #174EA6;\n",
              "    }\n",
              "\n",
              "    [theme=dark] .colab-df-convert {\n",
              "      background-color: #3B4455;\n",
              "      fill: #D2E3FC;\n",
              "    }\n",
              "\n",
              "    [theme=dark] .colab-df-convert:hover {\n",
              "      background-color: #434B5C;\n",
              "      box-shadow: 0px 1px 3px 1px rgba(0, 0, 0, 0.15);\n",
              "      filter: drop-shadow(0px 1px 2px rgba(0, 0, 0, 0.3));\n",
              "      fill: #FFFFFF;\n",
              "    }\n",
              "  </style>\n",
              "\n",
              "      <script>\n",
              "        const buttonEl =\n",
              "          document.querySelector('#df-45785759-f93b-4b65-aa1d-aa9d50e4f25a button.colab-df-convert');\n",
              "        buttonEl.style.display =\n",
              "          google.colab.kernel.accessAllowed ? 'block' : 'none';\n",
              "\n",
              "        async function convertToInteractive(key) {\n",
              "          const element = document.querySelector('#df-45785759-f93b-4b65-aa1d-aa9d50e4f25a');\n",
              "          const dataTable =\n",
              "            await google.colab.kernel.invokeFunction('convertToInteractive',\n",
              "                                                     [key], {});\n",
              "          if (!dataTable) return;\n",
              "\n",
              "          const docLinkHtml = 'Like what you see? Visit the ' +\n",
              "            '<a target=\"_blank\" href=https://colab.research.google.com/notebooks/data_table.ipynb>data table notebook</a>'\n",
              "            + ' to learn more about interactive tables.';\n",
              "          element.innerHTML = '';\n",
              "          dataTable['output_type'] = 'display_data';\n",
              "          await google.colab.output.renderOutput(dataTable, element);\n",
              "          const docLink = document.createElement('div');\n",
              "          docLink.innerHTML = docLinkHtml;\n",
              "          element.appendChild(docLink);\n",
              "        }\n",
              "      </script>\n",
              "    </div>\n",
              "  </div>\n"
            ]
          },
          "metadata": {},
          "execution_count": 12
        }
      ]
    },
    {
      "cell_type": "code",
      "source": [
        "# convert dataframe to list of dictionaries, if you prefer:\n",
        "\n",
        "products = products_df.to_dict(\"records\")\n",
        "print(type(products))\n",
        "print(len(products))\n",
        "print(products)"
      ],
      "metadata": {
        "id": "iM2I4oOHg4sb",
        "colab": {
          "base_uri": "https://localhost:8080/"
        },
        "outputId": "6f85cfde-ff53-4429-a2f6-756f2245cc63"
      },
      "execution_count": 29,
      "outputs": [
        {
          "output_type": "stream",
          "name": "stdout",
          "text": [
            "<class 'list'>\n",
            "20\n",
            "[{'id': 1, 'name': 'Chocolate Sandwich Cookies', 'aisle': 'cookies cakes', 'department': 'snacks', 'price': 3.5}, {'id': 2, 'name': 'All-Seasons Salt', 'aisle': 'spices seasonings', 'department': 'pantry', 'price': 4.99}, {'id': 3, 'name': 'Robust Golden Unsweetened Oolong Tea', 'aisle': 'tea', 'department': 'beverages', 'price': 2.49}, {'id': 4, 'name': 'Smart Ones Classic Favorites Mini Rigatoni With Vodka Cream Sauce', 'aisle': 'frozen meals', 'department': 'frozen', 'price': 6.99}, {'id': 5, 'name': 'Green Chile Anytime Sauce', 'aisle': 'marinades meat preparation', 'department': 'pantry', 'price': 7.99}, {'id': 6, 'name': 'Dry Nose Oil', 'aisle': 'cold flu allergy', 'department': 'personal care', 'price': 21.99}, {'id': 7, 'name': 'Pure Coconut Water With Orange', 'aisle': 'juice nectars', 'department': 'beverages', 'price': 3.5}, {'id': 8, 'name': \"Cut Russet Potatoes Steam N' Mash\", 'aisle': 'frozen produce', 'department': 'frozen', 'price': 4.25}, {'id': 9, 'name': 'Light Strawberry Blueberry Yogurt', 'aisle': 'yogurt', 'department': 'dairy eggs', 'price': 6.5}, {'id': 10, 'name': 'Sparkling Orange Juice & Prickly Pear Beverage', 'aisle': 'water seltzer sparkling water', 'department': 'beverages', 'price': 2.99}, {'id': 11, 'name': 'Peach Mango Juice', 'aisle': 'refrigerated', 'department': 'beverages', 'price': 1.99}, {'id': 12, 'name': 'Chocolate Fudge Layer Cake', 'aisle': 'frozen dessert', 'department': 'frozen', 'price': 18.5}, {'id': 13, 'name': 'Saline Nasal Mist', 'aisle': 'cold flu allergy', 'department': 'personal care', 'price': 16.0}, {'id': 14, 'name': 'Fresh Scent Dishwasher Cleaner', 'aisle': 'dish detergents', 'department': 'household', 'price': 4.99}, {'id': 15, 'name': 'Overnight Diapers Size 6', 'aisle': 'diapers wipes', 'department': 'babies', 'price': 25.5}, {'id': 16, 'name': 'Mint Chocolate Flavored Syrup', 'aisle': 'ice cream toppings', 'department': 'snacks', 'price': 4.5}, {'id': 17, 'name': 'Rendered Duck Fat', 'aisle': 'poultry counter', 'department': 'meat seafood', 'price': 9.99}, {'id': 18, 'name': 'Pizza for One Suprema  Frozen Pizza', 'aisle': 'frozen pizza', 'department': 'frozen', 'price': 12.5}, {'id': 19, 'name': 'Gluten Free Quinoa Three Cheese & Mushroom Blend', 'aisle': 'grains rice dried goods', 'department': 'dry goods pasta', 'price': 3.99}, {'id': 20, 'name': 'Pomegranate Cranberry & Aloe Vera Enrich Drink', 'aisle': 'juice nectars', 'department': 'beverages', 'price': 4.25}]\n"
          ]
        }
      ]
    },
    {
      "cell_type": "code",
      "source": [],
      "metadata": {
        "id": "zGrbsni84veh"
      },
      "execution_count": null,
      "outputs": []
    },
    {
      "cell_type": "code",
      "source": [],
      "metadata": {
        "id": "mY2cD1lXwkkD"
      },
      "execution_count": null,
      "outputs": []
    },
    {
      "cell_type": "markdown",
      "source": [
        "### Inventory Option C) Google Sheets"
      ],
      "metadata": {
        "id": "A-yI-FT4-Nwb"
      }
    },
    {
      "cell_type": "markdown",
      "source": [
        "This is perhaps the most real world applicable inventory option. If you use this inventory option, there is no need to use other inventory options.\n",
        "\n",
        "Here is a link to the [Google Sheet document](https://docs.google.com/spreadsheets/d/1ItN7Cc2Yn4K90cMIsxi2P045Gzw0y2JHB_EkV4mXXpI/edit#gid=1430039847). Choose one of these two sheets:\n",
        "\n",
        "  + [\"products-default\" sheet](https://docs.google.com/spreadsheets/d/1ItN7Cc2Yn4K90cMIsxi2P045Gzw0y2JHB_EkV4mXXpI/edit#gid=837633200) -- contains the basic products, with a column of image URLs (same as similarly named CSV Inventory option)\n",
        "  + [\"products-custom\" sheet](https://docs.google.com/spreadsheets/d/1ItN7Cc2Yn4K90cMIsxi2P045Gzw0y2JHB_EkV4mXXpI/edit#gid=139638459) -- contains even more products, including ones with barcode identifiers\n",
        "\n",
        "\n",
        "> HINT: see the [`gspread` package notes](https://github.com/prof-rossetti/intro-to-python/blob/main/notes/python/packages/gspread.md) for starter code (use the colab credentials option, not the local credentials file option)"
      ],
      "metadata": {
        "id": "RVBm-Un7tQ1e"
      }
    },
    {
      "cell_type": "code",
      "source": [
        "#\n",
        "# PRODUCTS INVENTORY (OPTION C - GOOGLE SHEET)\n",
        "# ... use this code to obtain an inventory of products\n",
        "# ... or comment it out / remove if you end up choosing a different inventory option\n",
        "#\n"
      ],
      "metadata": {
        "id": "Bp9jvdee8-zB"
      },
      "execution_count": null,
      "outputs": []
    },
    {
      "cell_type": "code",
      "source": [
        "%%capture\n",
        "\n",
        "# !pip install gspread==5.5.0\n",
        "\n",
        "# installing the newest version of the gspread package:\n",
        "!pip uninstall gspread -y\n",
        "!pip install gspread --upgrade"
      ],
      "metadata": {
        "id": "dnvXKwCAdrXN"
      },
      "execution_count": 14,
      "outputs": []
    },
    {
      "cell_type": "code",
      "execution_count": 15,
      "metadata": {
        "id": "Us45iDdv5f2q"
      },
      "outputs": [],
      "source": [
        "from google.colab import auth\n",
        "\n",
        "# asks you to login\n",
        "auth.authenticate_user()"
      ]
    },
    {
      "cell_type": "code",
      "source": [
        "from google.auth import default\n",
        "\n",
        "# uses your login credentials\n",
        "creds, _ = default()\n",
        "print(creds)"
      ],
      "metadata": {
        "colab": {
          "base_uri": "https://localhost:8080/"
        },
        "id": "ZBwQ6UwA59l8",
        "outputId": "4100a64d-8720-4ea1-c48e-07c8f386779f"
      },
      "execution_count": 16,
      "outputs": [
        {
          "output_type": "stream",
          "name": "stdout",
          "text": [
            "<google.auth.compute_engine.credentials.Credentials object at 0x7b5103eca890>\n"
          ]
        }
      ]
    },
    {
      "cell_type": "code",
      "source": [
        "import gspread\n",
        "\n",
        "# authorizes the gspread package to use your login credentials (in case we were using a private document)\n",
        "client = gspread.authorize(creds)"
      ],
      "metadata": {
        "id": "ouQZ0rGb6dF3"
      },
      "execution_count": 18,
      "outputs": []
    },
    {
      "cell_type": "code",
      "source": [
        "# see: https://docs.google.com/spreadsheets/d/1ItN7Cc2Yn4K90cMIsxi2P045Gzw0y2JHB_EkV4mXXpI/edit?usp=sharing\n",
        "DOCUMENT_ID = \"1ItN7Cc2Yn4K90cMIsxi2P045Gzw0y2JHB_EkV4mXXpI\" # identifier of the public access database (see document URL)\n",
        "#SHEET_NAME = \"products-default\"\n",
        "SHEET_NAME = \"products-custom\"\n",
        "\n",
        "doc = client.open_by_key(DOCUMENT_ID)\n",
        "sheet = doc.worksheet(SHEET_NAME)\n",
        "\n",
        "print(\"DOC:\", doc)\n",
        "print(\"SHEET:\", sheet)"
      ],
      "metadata": {
        "colab": {
          "base_uri": "https://localhost:8080/"
        },
        "id": "SebrDNqx5pJV",
        "outputId": "8de3e5fc-f155-43cd-fb52-c5be8063b797"
      },
      "execution_count": 19,
      "outputs": [
        {
          "output_type": "stream",
          "name": "stdout",
          "text": [
            "DOC: <Spreadsheet 'Shopping Cart Project - Datastore (PUBLIC)' id:1ItN7Cc2Yn4K90cMIsxi2P045Gzw0y2JHB_EkV4mXXpI>\n",
            "SHEET: <Worksheet 'products-custom' id:139638459>\n"
          ]
        }
      ]
    },
    {
      "cell_type": "code",
      "source": [
        "# get all rows from the sheet (will need to re-run to re-fetch if the inventory gets updated)\n",
        "\n",
        "products = sheet.get_all_records(numericise_ignore=[1])\n",
        "print(type(products))\n",
        "print(len(products))\n",
        "print(products)"
      ],
      "metadata": {
        "id": "19b3HLvc_xVN",
        "colab": {
          "base_uri": "https://localhost:8080/"
        },
        "outputId": "0f94d51e-c1a9-4a74-ce60-292b74cad2c6"
      },
      "execution_count": 30,
      "outputs": [
        {
          "output_type": "stream",
          "name": "stdout",
          "text": [
            "<class 'list'>\n",
            "33\n",
            "[{'id': '1', 'name': 'Chocolate Sandwich Cookies', 'aisle': 'cookies cakes', 'department': 'snacks', 'price': 3.5, 'img_url': 'https://tmbidigitalassetsazure.blob.core.windows.net/toh/GoogleImagesPostCard/Quick-Chocolate-Sandwich-Cookies_exps12928_CK133085D05_07_5bC_RMS.jpg'}, {'id': '2', 'name': 'All-Seasons Salt', 'aisle': 'spices seasonings', 'department': 'pantry', 'price': 4.99, 'img_url': 'https://i5.walmartimages.com/asr/46a4e05c-4b00-4b8d-851f-5b6c489c05ce_2.0e41c87b7366e49ef0a19f4f8f89b5bf.png'}, {'id': '3', 'name': 'Robust Golden Unsweetened Oolong Tea', 'aisle': 'tea', 'department': 'beverages', 'price': 2.49, 'img_url': 'https://cdn11.bigcommerce.com/s-tfv7q8thbe/images/stencil/800x800/products/430/1252/apifh3coi__16441.1560953606.jpg?c=2'}, {'id': '4', 'name': 'Smart Ones Classic Favorites Mini Rigatoni With Vodka Cream Sauce', 'aisle': 'frozen meals', 'department': 'frozen', 'price': 6.99, 'img_url': 'https://i.pinimg.com/736x/96/84/3f/96843f17057b78561a3ad4edb18c59aa--homemade-vodka-sauce-weight-watchers-smart-ones.jpg'}, {'id': '5', 'name': 'Green Chile Anytime Sauce', 'aisle': 'marinades meat preparation', 'department': 'pantry', 'price': 7.99, 'img_url': 'https://cdn11.bigcommerce.com/s-qqb56hyrha/images/stencil/1280x1280/products/2799/8558/1084__90291.1565126801.jpg?c=2'}, {'id': '6', 'name': 'Dry Nose Oil', 'aisle': 'cold flu allergy', 'department': 'personal care', 'price': 21.99, 'img_url': 'https://fess.com.au/wp-content/uploads/2017/11/CPC-FESS-DryNoseOil-600x600px-600x600.jpg'}, {'id': '7', 'name': 'Pure Coconut Water With Orange', 'aisle': 'juice nectars', 'department': 'beverages', 'price': 3.5, 'img_url': 'https://i5.walmartimages.com/asr/0a98b9f4-349c-4d3a-b532-e19c130af4ce_1.29d7d4633c110aa83d7c877912a70969.jpeg'}, {'id': '8', 'name': \"Cut Russet Potatoes Steam N' Mash\", 'aisle': 'frozen produce', 'department': 'frozen', 'price': 4.25, 'img_url': 'https://i5.walmartimages.com/asr/332e0593-be1c-4bbc-b5a0-d628e9e068cb.84c7a077aa428b8dd7e96c4db7e63f73.jpeg'}, {'id': '9', 'name': 'Light Strawberry Blueberry Yogurt', 'aisle': 'yogurt', 'department': 'dairy eggs', 'price': 6.5, 'img_url': 'https://res.cloudinary.com/general-mills/image/upload/products/00070470403953_C3N1_s105_9b1aa1a3-2987-4344-b18b-b350d64cead2.jpg'}, {'id': '10', 'name': 'Sparkling Orange Juice & Prickly Pear Beverage', 'aisle': 'water seltzer sparkling water', 'department': 'beverages', 'price': 2.99, 'img_url': 'https://www.foodiesgeneralstore.com/assets/images/san%20pellegrino%20prickly%20pear%20%20orange%20sparkling%20drink.jpeg'}, {'id': '11', 'name': 'Peach Mango Juice', 'aisle': 'refrigerated', 'department': 'beverages', 'price': 1.99, 'img_url': 'https://i5.walmartimages.com/asr/0f6eb4f5-51f9-4d79-8d19-c38f70e94410_1.468c1962ae62faf1254aef723c13f110.jpeg'}, {'id': '12', 'name': 'Chocolate Fudge Layer Cake', 'aisle': 'frozen dessert', 'department': 'frozen', 'price': 18.5, 'img_url': 'https://images.heb.com/is/image/HEBGrocery/000148555'}, {'id': '13', 'name': 'Saline Nasal Mist', 'aisle': 'cold flu allergy', 'department': 'personal care', 'price': 16, 'img_url': 'https://m.media-amazon.com/images/W/WEBP_402378-T1/images/I/71A-NvoVMIL._AC_SX679_.jpg'}, {'id': '14', 'name': 'Fresh Scent Dishwasher Cleaner', 'aisle': 'dish detergents', 'department': 'household', 'price': 4.99, 'img_url': 'https://i5.walmartimages.com/asr/d69352cc-8b5a-4919-b040-fc728f308499.38d9ea88b5da4f73d9c1937f4ca0272c.jpeg'}, {'id': '15', 'name': 'Overnight Diapers Size 6', 'aisle': 'diapers wipes', 'department': 'babies', 'price': 25.5, 'img_url': 'https://i5.walmartimages.com/asr/d769c4ea-f71c-46b6-9f1c-18be40985374.9419d580efb58b5642bd563b720ad0c8.jpeg'}, {'id': '16', 'name': 'Mint Chocolate Flavored Syrup', 'aisle': 'ice cream toppings', 'department': 'snacks', 'price': 4.5, 'img_url': 'https://m.media-amazon.com/images/I/81BCniKRzkL._SL1500_.jpg'}, {'id': '17', 'name': 'Rendered Duck Fat', 'aisle': 'poultry counter', 'department': 'meat seafood', 'price': 9.99, 'img_url': 'https://i5.peapod.com/c/3U/3U5OU.png'}, {'id': '18', 'name': 'Pizza for One Suprema Frozen Pizza', 'aisle': 'frozen pizza', 'department': 'frozen', 'price': 12.5, 'img_url': 'https://ipcdn.freshop.com/resize?url=https://images.freshop.com/00019600046707/4b32e88d8ce88b66492de400816e4b7b_large.png&width=512&type=webp&quality=90'}, {'id': '19', 'name': 'Gluten Free Quinoa Three Cheese & Mushroom Blend', 'aisle': 'grains rice dried goods', 'department': 'dry goods pasta', 'price': 3.99, 'img_url': 'https://www.foodservicedirect.com/media/catalog/product/8/5/859331002012.jpg?width=1200&height=1200&quality=85&fit=bounds'}, {'id': '20', 'name': 'Pomegranate Cranberry & Aloe Vera Enrich Drink', 'aisle': 'juice nectars', 'department': 'beverages', 'price': 4.25, 'img_url': 'https://images.albertsons-media.com/is/image/ABS/960071018-ECOM?$ng-ecom-pdp-mobile$&defaultImage=Not_Available'}, {'id': '012000161155', 'name': 'LIFE WTR (33.8 oz)', 'aisle': 'water', 'department': 'beverages', 'price': 1.99, 'img_url': 'https://i5.walmartimages.com/asr/41d7c500-39de-4408-aa4b-8fe2a8cd8499.14ba48641c9f2e98fd3b92406f0297db.jpeg?odnHeight=612&odnWidth=612&odnBg=FFFFFF'}, {'id': '742365005176', 'name': 'Horizon Organic Lowfat Milk (8 oz)', 'aisle': 'dairy', 'department': 'beverages', 'price': 2.49, 'img_url': 'https://horizon.com/wp-content/uploads/horizon-shelf-stable-organic-plain-1-percent-milk.jpg'}, {'id': '855569003029', 'name': 'Perfect Bar (Peanut Butter)', 'aisle': 'protein bars', 'department': 'snacks', 'price': 2.69, 'img_url': 'https://images.heb.com/is/image/HEBGrocery/001797251?fit=constrain,1&wid=800&hei=800&fmt=jpg&qlt=85,0&resMode=sharp2&op_usm=1.75,0.3,2,0'}, {'id': '189928399189', 'name': 'Genoa Tortellini', 'aisle': 'pasta', 'department': 'pasta', 'price': 4.99, 'img_url': 'https://images.squarespace-cdn.com/content/v1/57d9af33e3df281fe622a44b/1500410633071-GSU3TOGH4FQNBEJO5LDF/Cropped_TortelliniwithPesto.jpg'}, {'id': '073390010379', 'name': 'Mentos', 'aisle': 'mints', 'department': 'mints', 'price': 3.5, 'img_url': 'https://thumbs.dreamstime.com/b/mentos-chewy-mints-london-uk-december-th-packet-mint-over-plain-white-background-107076203.jpg'}, {'id': '095008023182', 'name': 'Essie Off Tropic Nail Polish', 'aisle': 'nail care', 'department': 'beauty', 'price': 5.5, 'img_url': 'https://www.essie.com/-/media/Project/loreal/brand-sites/essie/Americas/US/products_nailpolish/enamels/greens/off_tropic/offtropic-removebg-preview.png'}, {'id': '04357209', 'name': 'Kool-Aid Liquid Tropical Punch', 'aisle': 'juice ', 'department': 'beverages', 'price': 3.99, 'img_url': 'https://m.media-amazon.com/images/W/IMAGERENDERING_521856-T1/images/I/71+-d-QrtVL.jpg'}, {'id': '04389208', 'name': 'Mio Lemonade', 'aisle': 'juice', 'department': 'beverages', 'price': 2.99, 'img_url': 'https://m.media-amazon.com/images/W/IMAGERENDERING_521856-T1/images/I/71ZQHMkLxzL.jpg'}, {'id': '747599421815', 'name': 'Ghiradelli Minis', 'aisle': 'chocolate', 'department': 'snacks', 'price': 7.99, 'img_url': 'https://www.ghirardelli.com/media/catalog/product/1/0/10747599419703_pi_ecom.png?quality=80&fit=bounds&height=500&width=500&canvas=500:500'}, {'id': '611269331240', 'name': 'Red Bull Watermelon', 'aisle': 'energy drinks', 'department': 'beverages', 'price': 3.5, 'img_url': 'https://images.ctfassets.net/lcr8qbvxj7mh/1ADleIaY71gu6STEVZhqra/c4ae7c971dd685042a815e3333634a8a/US_RBRE_250_Single_Unit_close_ambient_ORIGINAL_DRES.png'}, {'id': '077326612255', 'name': \"Wild Lavender Tom's Deodorant\", 'aisle': 'hygiene', 'department': 'personal care', 'price': 6.5, 'img_url': 'https://www.tomsofmaine.com/content/dam/cp-sites/toms/toms-of-maine/global/products/antiperspirant-and-deodorant/wht-na-wild-lavender-ll-deodorant.png'}, {'id': '3606000537743', 'name': 'CeraVe Daily Moisturizing Lotion', 'aisle': 'lotions', 'department': 'personal care', 'price': 5.99, 'img_url': 'https://m.media-amazon.com/images/W/IMAGERENDERING_521856-T1/images/I/51nFUxdgIZL.jpg'}, {'id': '075720008513', 'name': 'Poland Spring 20 oz', 'aisle': 'water', 'department': 'beverages', 'price': 3.33, 'img_url': 'https://www.polandspring.com/sites/g/files/zmtnxh116/files/2023-01/poland_spring-spring_water-20oz-feature.png'}]\n"
          ]
        }
      ]
    },
    {
      "cell_type": "code",
      "source": [],
      "metadata": {
        "id": "owN8zJruwW4t"
      },
      "execution_count": null,
      "outputs": []
    },
    {
      "cell_type": "code",
      "source": [],
      "metadata": {
        "id": "zd2nb5-Ewjc-"
      },
      "execution_count": null,
      "outputs": []
    },
    {
      "cell_type": "markdown",
      "source": [
        "## Product Lookup Function"
      ],
      "metadata": {
        "id": "sHZ7P8hsyr8g"
      }
    },
    {
      "cell_type": "code",
      "source": [
        "def lookup_product(product_id):\n",
        "    \"\"\"Assumes the \"products\" variable is in memory as a list of dictionaries.\n",
        "\n",
        "        Params: product_id (int or string) the identifier or bar code of the product you want to look up.\n",
        "\n",
        "        Returns: a product dictionary, or None if not found.\n",
        "    \"\"\"\n",
        "    try:\n",
        "        matching_products = [p for p in products if str(p[\"id\"]) == str(product_id)]\n",
        "        product = matching_products[0] # triggers IndexError if there are no matches / no first item in the list\n",
        "        return product\n",
        "    except IndexError as err:\n",
        "        return None\n",
        "\n",
        "\n",
        "assert lookup_product(2)[\"name\"] == \"All-Seasons Salt\"\n",
        "assert lookup_product(18)[\"name\"] == \"Pizza for One Suprema Frozen Pizza\"\n",
        "assert lookup_product(999) == None\n",
        "assert lookup_product(\"OOPS\") == None\n",
        "print(\"TESTS PASS\")"
      ],
      "metadata": {
        "colab": {
          "base_uri": "https://localhost:8080/"
        },
        "id": "s9R5gi8uytkd",
        "outputId": "d43289cf-2b38-4c34-bc05-4dd371b6d135"
      },
      "execution_count": 28,
      "outputs": [
        {
          "output_type": "stream",
          "name": "stdout",
          "text": [
            "TESTS PASS\n"
          ]
        }
      ]
    },
    {
      "cell_type": "code",
      "source": [
        "example_matching_product = lookup_product(2)\n",
        "print(example_matching_product)"
      ],
      "metadata": {
        "colab": {
          "base_uri": "https://localhost:8080/"
        },
        "id": "bwHX3P5I1WgW",
        "outputId": "cf98c112-5c1d-4a08-e895-bae536772224"
      },
      "execution_count": 33,
      "outputs": [
        {
          "output_type": "stream",
          "name": "stdout",
          "text": [
            "{'id': 2, 'name': 'All-Seasons Salt', 'department': 'pantry', 'aisle': 'spices seasonings', 'price': 4.99}\n"
          ]
        }
      ]
    },
    {
      "cell_type": "markdown",
      "source": [
        "### Email Sending Function"
      ],
      "metadata": {
        "id": "HAD7Vc6j_Nq1"
      }
    },
    {
      "cell_type": "markdown",
      "source": [
        "This code uses the `sendgrid` Python package to interface with the [SendGrid](https://sendgrid.com/) email sending service.\n",
        "\n",
        "In order to use this code, you'll first need to create a SendGrid account, verify your single sender address, and obtain an API Key. You will be asked to supply your sender address and API Key via the `getpass` secure input cell below.\n",
        "\n",
        "> HINT: see the [sendgrid package docs]() for more info"
      ],
      "metadata": {
        "id": "kKzO2Mhzws-x"
      }
    },
    {
      "cell_type": "code",
      "source": [
        "#\n",
        "# EMAIL SENDING (optional)\n",
        "# ... use this code to send receipt via email\n",
        "# ... or comment it out / remove if you end up not sending email receipts\n",
        "#"
      ],
      "metadata": {
        "id": "LVy4F49f3R63"
      },
      "execution_count": null,
      "outputs": []
    },
    {
      "cell_type": "code",
      "source": [
        "%%capture\n",
        "\n",
        "# install sendgrid package (specific version that will work with the email sending function provided below)\n",
        "!pip install sendgrid==6.5.0"
      ],
      "metadata": {
        "id": "ZAn_aiFsJmmJ"
      },
      "execution_count": 22,
      "outputs": []
    },
    {
      "cell_type": "code",
      "source": [
        "from getpass import getpass\n",
        "\n",
        "SENDGRID_API_KEY = getpass(\"Please input your Sendgrid API Key: \")\n",
        "SENDER_ADDRESS = getpass(\"Please input your Sender Email Address: \")"
      ],
      "metadata": {
        "id": "JjlSSRB7JOSM",
        "colab": {
          "base_uri": "https://localhost:8080/"
        },
        "outputId": "e723df4a-1c7a-48e7-dc36-571dd5e8f0e2"
      },
      "execution_count": 23,
      "outputs": [
        {
          "name": "stdout",
          "output_type": "stream",
          "text": [
            "Please input your Sendgrid API Key: ··········\n",
            "Please input your Sender Email Address: ··········\n"
          ]
        }
      ]
    },
    {
      "cell_type": "code",
      "source": [
        "from sendgrid import SendGridAPIClient\n",
        "from sendgrid.helpers.mail import Mail\n",
        "\n",
        "def send_email(subject=\"[Shopping Cart App] This is a test\", html=\"<p>Hello World</p>\", recipient_address=SENDER_ADDRESS):\n",
        "    \"\"\"\n",
        "        Sends an email with the specified subject and html contents to the specified recipient,\n",
        "\n",
        "        If recipient is not specified, sends to the admin's sender address by default.\n",
        "    \"\"\"\n",
        "    client = SendGridAPIClient(SENDGRID_API_KEY) #> <class 'sendgrid.sendgrid.SendGridAPIClient>\n",
        "    print(\"CLIENT:\", type(client))\n",
        "    print(\"SUBJECT:\", subject)\n",
        "    #print(\"HTML:\", html)\n",
        "\n",
        "    message = Mail(from_email=SENDER_ADDRESS, to_emails=recipient_address, subject=subject, html_content=html)\n",
        "    try:\n",
        "        response = client.send(message)\n",
        "        print(\"RESPONSE:\", type(response)) #> <class 'python_http_client.client.Response'>\n",
        "        print(response.status_code) #> 202 indicates SUCCESS\n",
        "        return response\n",
        "    except Exception as e:\n",
        "        print(\"OOPS\", type(e), e)\n",
        "        return None\n"
      ],
      "metadata": {
        "id": "zQbrdsIQeb5p"
      },
      "execution_count": 24,
      "outputs": []
    },
    {
      "cell_type": "code",
      "source": [
        "# send a test email:\n",
        "send_email()"
      ],
      "metadata": {
        "colab": {
          "base_uri": "https://localhost:8080/"
        },
        "id": "yIZuIc_dyOYL",
        "outputId": "9b9600a3-e3bb-47ba-c0b9-aa1e6a9bbb87"
      },
      "execution_count": 25,
      "outputs": [
        {
          "output_type": "stream",
          "name": "stdout",
          "text": [
            "CLIENT: <class 'sendgrid.sendgrid.SendGridAPIClient'>\n",
            "SUBJECT: [Shopping Cart App] This is a test\n",
            "RESPONSE: <class 'python_http_client.client.Response'>\n",
            "202\n"
          ]
        },
        {
          "output_type": "execute_result",
          "data": {
            "text/plain": [
              "<python_http_client.client.Response at 0x7b5103e491b0>"
            ]
          },
          "metadata": {},
          "execution_count": 25
        }
      ]
    }
  ]
}