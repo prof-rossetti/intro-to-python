{
  "nbformat": 4,
  "nbformat_minor": 0,
  "metadata": {
    "colab": {
      "name": "Hackathon - Weather App",
      "provenance": [],
      "collapsed_sections": [],
      "include_colab_link": true
    },
    "kernelspec": {
      "name": "python3",
      "display_name": "Python 3"
    }
  },
  "cells": [
    {
      "cell_type": "markdown",
      "metadata": {
        "id": "view-in-github",
        "colab_type": "text"
      },
      "source": [
        "<a href=\"https://colab.research.google.com/github/prof-rossetti/intro-to-python/blob/master/projects/hackathon/Hackathon_Weather_App.ipynb\" target=\"_parent\"><img src=\"https://colab.research.google.com/assets/colab-badge.svg\" alt=\"Open In Colab\"/></a>"
      ]
    },
    {
      "cell_type": "markdown",
      "metadata": {
        "id": "kWzmfFqnHk2A"
      },
      "source": [
        "\n",
        "# Requirements\n",
        "\n",
        "Write a Python program to display a weather forecast for any given zip code in the United States. The program should specifically obtain its forecast data from the **Weather.gov API** (see \"References\" section below for more info). \n",
        "\n",
        "## Information Inputs\n",
        "\n",
        "The program should allow the user to input or otherwise specify their **zip code** (a.k.a. postal code) (e.g. `20057`). \n",
        "\n",
        "> FYI: Using and modifying the provided `ZIP_CODE` variable is fine! Because the input function can be buggy sometimes on Colab.\n",
        "\n",
        "> NOTE: ideally we would validate this input to ensure it is numeric in nature (which you can optionally do), but for this project we can just assume the user will be providing a valid zip code.\n",
        "\n",
        "## Information Outputs\n",
        "\n",
        "The program should display a seven-day weather forecast for the provided zipcode. Specifically, it should display **one forecast per day**. HINT: we might need to filter out the night-time forecasts, based on the period's \"isDaytime\" or \"name\" properties.\n",
        "\n",
        "The forecast for any daily period should include at least the following information:\n",
        "\n",
        "   + The **day of week** (e.g. \"Today\", \"Tuesday\", \"Wednesday\", etc.). HINT: we can use the period's \"name\" property.\n",
        "   + The **human-readable date** (e.g. \"2022-01-10\" or \"Jan 10, 2022\"). HINT: we might need to use [the `datetime` module](https://github.com/prof-rossetti/intro-to-python/blob/master/notes/python/modules/datetime.md) to convert the the period's \"startTime\" property to a datetime object (see two possible approaches in the \"Setup\" section of this notebook), and then use [the `strftime()` method](https://docs.python.org/3/library/datetime.html#strftime-and-strptime-format-codes) to do some custom formatting.\n",
        "   + The **temperature** in Farhenheit, with the temperature unit (e.g. \"64 degrees F\"). HINT: we can use the period's \"temperature\" and \"temperatureUnit\" properties.\n",
        "   + The **weather condition** (e.g. \"Sunny\",  \"Mostly Clear\", \"Partly Cloudy\", \"Rainy\", etc.). HINT: we can use the period's \"shortForecast\" or \"longForecast\" property.\n",
        "\n",
        "Separately, the program should also explicitly tell the user **whether or not there will be rain today**. So the user can know whether or not to bring an umbrella with them today. For example, printing either \"NO RAIN TODAY!\" or \"RAIN TODAY!\".\n",
        "\n",
        "## Evaluation\n",
        "\n",
        "Category | Description | Weight\n",
        "--- | --- | ---\n",
        "Info Inputs | Captures user zip code. | 10%\n",
        "Info Processing | Converts user zip code to latitude and longitude. | 15%\n",
        "Info Processing | Issues HTTP request(s) to the Weather.gov API. | 15%\n",
        "Info Outputs | Displays an accurate weather forecast for the given zipcode. | 10%\n",
        "Info Outputs | Displays all desired forecast information (i.e. day of week (5%), human readable date (10%), temperature (5%), weather condition (5%)) | 25%\n",
        "Info Outputs | Displays only one forecast per day. | 10%\n",
        "Info Outputs | Indicates separately and explicitly whether it will be raining or not today. | 10%\n",
        "UI/UX | Provides a good user experience, with a clean and concise final display. | 5%\n",
        "\n",
        "### Further Exploration Challenges\n",
        "\n",
        "After completing the basic requirements, consider optionally tackling these further exploration challenges for extra credit.\n",
        "\n",
        "**Hourly Forecasts: 10%**\n",
        "\n",
        "The program should optionally allow the user to specify  whether they want a normal \"daily\" forecast, or an \"hourly\" forecast. And it should display whichever forecast they chose. \n",
        "\n",
        "For the hourly option, the program should display one forecast for each hour, but should only display forecasts for the current day. To acheive this, the program can either A) display a maximum of 24 hourly periods, or B) specifically filter out / exclude any periods happening after the current day. \n",
        "\n",
        "> HINT: for approach B, try first obtaining a date object for the current day's date, converting it to a string, and checking if that date substring exists in the period's \"startTime\" property.\n",
        "\n",
        "> HINT: There are two different forecast URLs provided in the first API response, so we can choose which one to make the second request to, based on the user selection.\n",
        "\n",
        "> NOTE: Unlike the daily forecasts, for hourly forecasts, it is OK to have more than one per day, and OK to include night-time periods. \n",
        "\n",
        "> NOTE: The hourly forecast should still tell the user whether it is raining today (i.e if any of the hourly forecasts mention rain).\n",
        "\n",
        "\n",
        "**Weather Icons: 5%**\n",
        "\n",
        "It would be nice if the program displayed images alongside the forecast output. \n",
        "\n",
        "> HINT: There are some image URLs provided in the forecast response for each daily or hourly time period. See the period's \"icon\" property.\n",
        "\n",
        "> HINT: Maybe the `IPython.display` module can help display images in Colab. See the [`Image` class](https://ipython.readthedocs.io/en/stable/api/generated/IPython.display.html#IPython.display.Image) and [`display()` method](https://ipython.readthedocs.io/en/stable/api/generated/IPython.display.html#IPython.display.DisplayHandle.display) docs, and also this specific GitHub issue about [displaying multiple images in the same Colab cell](https://github.com/ipython/ipython/issues/4222).\n",
        "\n",
        "\n"
      ]
    },
    {
      "cell_type": "markdown",
      "metadata": {
        "id": "qQYGDfI-QpAf"
      },
      "source": [
        "# References\n",
        "\n"
      ]
    },
    {
      "cell_type": "markdown",
      "metadata": {
        "id": "CcIxGvMWNtqR"
      },
      "source": [
        "## Weather.gov API\n"
      ]
    },
    {
      "cell_type": "markdown",
      "metadata": {
        "id": "PgS1j4W_cyg4"
      },
      "source": [
        "\n",
        "  + [Documentation](https://www.weather.gov/documentation/services-web-api)\n",
        "  + [Status](https://api.weather.gov/)\n",
        "\n",
        "Visit the Weather.gov API documentation site. Click \"Examples\" and focus on the \"How do I get the forecast?\" section (copied below):\n",
        "\n",
        "> ### How do I get the forecast?\n",
        ">\n",
        "> Forecasts are divided into 2.5km grids. Each NWS office is responsible for a section of the grid. The API endpoint for the forecast at a specific grid is:\n",
        ">\n",
        "> + `https://api.weather.gov/gridpoints/{office}/{grid X},{grid Y}/forecast`\n",
        ">\n",
        "> + https://api.weather.gov/gridpoints/TOP/31,80/forecast\n",
        ">\n",
        "> If you do not know the grid that correlates to your location, you can use the \"/points\" endpoint to retrieve the exact grid endpoint by coordinates:\n",
        ">\n",
        ">   + `https://api.weather.gov/points/{latitude},{longitude}`\n",
        ">   + https://api.weather.gov/points/39.7456,-97.0892\n",
        ">\n",
        "> This will return the grid endpoint in the \"forecast\" property. \n",
        "\n",
        "\n",
        "\n",
        "OK so basically we first have to specify some lat/long values in a \"points\" request to get a response which contains the forecast URL for a corresponding \"grid\" location, and then make a second request to that forecast URL to get the actual forecast data.\n",
        "\n",
        "If we first use the `geocode` Package (reference below), to lookup the lat/long coordinates for the user's zipcode, we should be good to get the data. And then we just focus on parsing it. \n"
      ]
    },
    {
      "cell_type": "markdown",
      "metadata": {
        "id": "QmyQCk7rPrri"
      },
      "source": [
        "## The `pgeocode` Package\n"
      ]
    },
    {
      "cell_type": "markdown",
      "metadata": {
        "id": "hp5WEhf4f4mk"
      },
      "source": [
        "\n",
        "\n",
        "References:\n",
        "\n",
        "  + [Package Index](https://pypi.org/project/pgeocode/)\n",
        "  + [GitHub Repo](https://github.com/symerio/pgeocode)\n",
        "  + [Docs](https://pgeocode.readthedocs.io/en/latest/)\n",
        "  + [`pgeocode.Nominatim`](https://pgeocode.readthedocs.io/en/latest/generated/pgeocode.Nominatim.html)\n",
        "  + [List of Supported Country Codes](https://github.com/symerio/pgeocode#supported-countries)\n",
        "  + [`pgeocode.Nominatim.query_postal_code()`](https://pgeocode.readthedocs.io/en/latest/generated/pgeocode.Nominatim.html#pgeocode.Nominatim.query_postal_code)\n",
        "  \n",
        "Read the Package Docs, specifically focusing on the Installation section (covered in the Setup cell of this notebook), and the Quickstart Guide. The Quickstart Guide says we need to initialize a new `Nominatum` object for our desired country (see supported country codes list), and then use that object's `query_postal_code()` method, passing in the zipcode, to get back some result continaing the lat/long coords. \n",
        "\n",
        "> HINT: the result will be a `pandas.Series` object that will have certain column attributes we can access with a dictionary-like accessor (e.g. `result[\"attribute name\"]`)."
      ]
    },
    {
      "cell_type": "markdown",
      "metadata": {
        "id": "DNKL6SrwHikf"
      },
      "source": [
        "# Setup\n",
        "\n",
        "Run the first setup cell with the pip installation command in it. Feel free to reference any of the other setup content, as desired. Some of it is not necessary, but might be helpful or fun."
      ]
    },
    {
      "cell_type": "code",
      "metadata": {
        "id": "qeNc7kKfczKD"
      },
      "source": [
        "# ONE-TIME SETUP STEP:\n",
        "# ... UN-COMMENT THE LINE BELOW AND RUN THIS CELL TO INSTALL THE pgeocode PACKAGE\n",
        "# ... THEN RE-COMMENT THE LINE BELOW AND CONTINUE\n",
        "#\n",
        "#!pip install pgeocode"
      ],
      "execution_count": null,
      "outputs": []
    },
    {
      "cell_type": "code",
      "metadata": {
        "colab": {
          "base_uri": "https://localhost:8080/"
        },
        "id": "eMIXxLM8ySDn",
        "outputId": "eee68a80-f64d-461e-cd74-75a2f5525af9"
      },
      "source": [
        "# DISPLAYING THE DEGREES SIGN \n",
        "degree_sign = u\"\\N{DEGREE SIGN}\"\n",
        "print(f\"THE TEMPERATURE IS 90 {degree_sign}F\")"
      ],
      "execution_count": null,
      "outputs": [
        {
          "output_type": "stream",
          "text": [
            "THE TEMPERATURE IS 90 °F\n"
          ],
          "name": "stdout"
        }
      ]
    },
    {
      "cell_type": "code",
      "metadata": {
        "colab": {
          "base_uri": "https://localhost:8080/"
        },
        "id": "vcqbefYGxz0S",
        "outputId": "2a21ed6a-bb31-490a-aaaf-25bae8878dcd"
      },
      "source": [
        "# DATE PARSING STRATEGY A\n",
        "\n",
        "from datetime import datetime\n",
        "\n",
        "start_time = '2021-03-04T19:00:00-05:00'\n",
        "dt = datetime.strptime(start_time, '%Y-%m-%dT%H:%M:%S%z')\n",
        "dt"
      ],
      "execution_count": null,
      "outputs": [
        {
          "output_type": "execute_result",
          "data": {
            "text/plain": [
              "datetime.datetime(2021, 3, 4, 19, 0, tzinfo=datetime.timezone(datetime.timedelta(days=-1, seconds=68400)))"
            ]
          },
          "metadata": {
            "tags": []
          },
          "execution_count": 12
        }
      ]
    },
    {
      "cell_type": "code",
      "metadata": {
        "id": "59l53zQ8vSdE",
        "colab": {
          "base_uri": "https://localhost:8080/"
        },
        "outputId": "5dae30a4-1703-4990-b9f0-b0f6f288f9b9"
      },
      "source": [
        "# DATE PARSING STRATEGY B\n",
        "\n",
        "import dateutil.parser\n",
        "\n",
        "start_time = '2021-03-04T19:00:00-05:00'\n",
        "dt = dateutil.parser.parse(start_time)\n",
        "dt"
      ],
      "execution_count": null,
      "outputs": [
        {
          "output_type": "execute_result",
          "data": {
            "text/plain": [
              "datetime.datetime(2021, 3, 4, 19, 0, tzinfo=tzoffset(None, -18000))"
            ]
          },
          "metadata": {
            "tags": []
          },
          "execution_count": 13
        }
      ]
    },
    {
      "cell_type": "code",
      "metadata": {
        "colab": {
          "base_uri": "https://localhost:8080/"
        },
        "id": "hrCNDmlUiSze",
        "outputId": "978b1871-e2f8-434e-e130-8524aff3a502"
      },
      "source": [
        "import json\n",
        "import requests\n",
        "from pprint import pprint\n",
        "\n",
        "print(\"-----------------------\")\n",
        "print(\"WEATHER.GOV API STATUS...\")\n",
        "status_response = requests.get(\"https://api.weather.gov\")\n",
        "print(status_response.status_code)\n",
        "parsed_status_response = json.loads(status_response.text)\n",
        "print(parsed_status_response[\"status\"])"
      ],
      "execution_count": null,
      "outputs": [
        {
          "output_type": "stream",
          "text": [
            "-----------------------\n",
            "WEATHER.GOV API STATUS...\n",
            "200\n",
            "OK\n"
          ],
          "name": "stdout"
        }
      ]
    },
    {
      "cell_type": "markdown",
      "metadata": {
        "id": "T8I2yc6RLZmG"
      },
      "source": [
        "# Implementation"
      ]
    },
    {
      "cell_type": "markdown",
      "metadata": {
        "id": "66Rqks8wXgaI"
      },
      "source": [
        "## Info Inputs"
      ]
    },
    {
      "cell_type": "code",
      "metadata": {
        "colab": {
          "base_uri": "https://localhost:8080/"
        },
        "id": "AjEQlxaUUgeV",
        "outputId": "d7ca6ab9-057b-4cc9-8e63-56412a447d1d"
      },
      "source": [
        "# OK FOR THE USER TO MODIFY THIS VARIABLE AND RE-RUN ALL CELLS AS DESIRED\n",
        "ZIP_CODE = \"20057\"\n",
        "print(\"ZIP CODE:\", ZIP_CODE)"
      ],
      "execution_count": null,
      "outputs": [
        {
          "output_type": "stream",
          "text": [
            "ZIP CODE: 20057\n"
          ],
          "name": "stdout"
        }
      ]
    },
    {
      "cell_type": "markdown",
      "metadata": {
        "id": "DVqvLXpoXbHl"
      },
      "source": [
        "## Info Processing"
      ]
    },
    {
      "cell_type": "code",
      "metadata": {
        "id": "Nx8dz-3rxvZi"
      },
      "source": [
        "# todo write some code here in as many cells as necessary, to make requests and process the data\n",
        "\n"
      ],
      "execution_count": null,
      "outputs": []
    },
    {
      "cell_type": "code",
      "metadata": {
        "id": "2eeUoKc4oZ8h"
      },
      "source": [
        ""
      ],
      "execution_count": null,
      "outputs": []
    },
    {
      "cell_type": "code",
      "metadata": {
        "id": "63zdjCwYoaq8"
      },
      "source": [
        ""
      ],
      "execution_count": null,
      "outputs": []
    },
    {
      "cell_type": "markdown",
      "metadata": {
        "id": "zdX1iMuGv5if"
      },
      "source": [
        "## Info Outputs"
      ]
    },
    {
      "cell_type": "code",
      "metadata": {
        "id": "CJXOvKVcgX1T"
      },
      "source": [
        "# todo write some code here to provide a final, clean-looking display of the forecast\n",
        "\n"
      ],
      "execution_count": null,
      "outputs": []
    }
  ]
}