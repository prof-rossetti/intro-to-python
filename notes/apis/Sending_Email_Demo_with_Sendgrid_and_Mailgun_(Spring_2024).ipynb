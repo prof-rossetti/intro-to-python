{
  "nbformat": 4,
  "nbformat_minor": 0,
  "metadata": {
    "colab": {
      "provenance": [],
      "authorship_tag": "ABX9TyMTnXwYTkTmSYE4GtobTRsP",
      "include_colab_link": true
    },
    "kernelspec": {
      "name": "python3",
      "display_name": "Python 3"
    },
    "language_info": {
      "name": "python"
    }
  },
  "cells": [
    {
      "cell_type": "markdown",
      "metadata": {
        "id": "view-in-github",
        "colab_type": "text"
      },
      "source": [
        "<a href=\"https://colab.research.google.com/github/prof-rossetti/intro-to-python/blob/main/notes/apis/Sending_Email_Demo_with_Sendgrid_and_Mailgun_(Spring_2024).ipynb\" target=\"_parent\"><img src=\"https://colab.research.google.com/assets/colab-badge.svg\" alt=\"Open In Colab\"/></a>"
      ]
    },
    {
      "cell_type": "markdown",
      "source": [
        "This notebook demonstrates how to send email in Python, using two different approaches. The first approach uses  the [SendGrid API](https://sendgrid.com/), while the second approach uses the [Mailgun API](https://app.mailgun.com/).\n"
      ],
      "metadata": {
        "id": "iPiBlViwMElX"
      }
    },
    {
      "cell_type": "markdown",
      "source": [
        "# SendGrid"
      ],
      "metadata": {
        "id": "_tudFOJQRa_c"
      }
    },
    {
      "cell_type": "markdown",
      "source": [
        "## Setup"
      ],
      "metadata": {
        "id": "qsTIZUw1Sa6i"
      }
    },
    {
      "cell_type": "markdown",
      "source": [
        "To use sendgrid for sending email, you must first follow the [setup instructions](https://github.com/prof-rossetti/intro-to-python/blob/main/notes/python/packages/sendgrid.md) to create an account, verify your account, setup a single sender address and verify it, then finally obtain an API Key.\n",
        "\n",
        "Sometimes SendGrid may deny your application for seemingly no reason. Try using your gmail address as the single sender, and put information related to the university (like the address) as the business information.\n",
        "\n",
        "If working in a group, only one group member needs to get this set up successfully, and you can consider sharing credentials with other group members.\n",
        "\n",
        "Once you have obtained the credentials, set them as notebook secrets called `SENDGRID_SENDER_ADDRESS` and  `SENDGRID_API_KEY`, respectively.\n"
      ],
      "metadata": {
        "id": "RUPgxSVYRcpI"
      }
    },
    {
      "cell_type": "markdown",
      "source": [
        "Installing (a specific version of) the package:"
      ],
      "metadata": {
        "id": "JudOBTj7NHOW"
      }
    },
    {
      "cell_type": "code",
      "source": [
        "%%capture\n",
        "!pip install sendgrid==6.5.0"
      ],
      "metadata": {
        "id": "ZAn_aiFsJmmJ"
      },
      "execution_count": null,
      "outputs": []
    },
    {
      "cell_type": "markdown",
      "source": [
        "Reading secret credentials:"
      ],
      "metadata": {
        "id": "vzVqGcTNNIlK"
      }
    },
    {
      "cell_type": "code",
      "source": [
        "from google.colab import userdata\n",
        "\n",
        "SENDGRID_API_KEY = userdata.get(\"SENDGRID_API_KEY\")\n",
        "SENDGRID_SENDER_ADDRESS = userdata.get(\"SENDGRID_SENDER_ADDRESS\")"
      ],
      "metadata": {
        "id": "gmS0kpqKSEk4"
      },
      "execution_count": null,
      "outputs": []
    },
    {
      "cell_type": "markdown",
      "source": [
        "## Usage"
      ],
      "metadata": {
        "id": "xcHRHqPwSe8Z"
      }
    },
    {
      "cell_type": "markdown",
      "source": [
        "Email sending helper function:"
      ],
      "metadata": {
        "id": "gvcUC8OoNLJP"
      }
    },
    {
      "cell_type": "code",
      "source": [
        "from sendgrid import SendGridAPIClient\n",
        "from sendgrid.helpers.mail import Mail\n",
        "\n",
        "\n",
        "def send_email(recipient_address=SENDGRID_SENDER_ADDRESS, subject=\"[Shopping Cart App] Testing 123\", html_content=\"<p>Hello World</p>\"):\n",
        "    \"\"\"Sends an email to the given recipient address.\n",
        "\n",
        "        Params:\n",
        "            recipient_address (str): The email address of the recipient.\n",
        "            subject (str): The subject of the email.\n",
        "            html_content (str): The HTML content of the email. Can pass a string formatted as HTML.\n",
        "    \"\"\"\n",
        "    print(\"SENDING EMAIL TO:\", recipient_address)\n",
        "    print(\"SUBJECT:\", subject)\n",
        "    print(\"HTML:\", html_content)\n",
        "\n",
        "    client = SendGridAPIClient(SENDGRID_API_KEY)\n",
        "    print(\"CLIENT:\", type(client))\n",
        "\n",
        "    # always send from the sender, but allow us to customize the recipient by passing it in to the function as a parameter\n",
        "    message = Mail(from_email=SENDGRID_SENDER_ADDRESS, to_emails=recipient_address, subject=subject, html_content=html_content)\n",
        "\n",
        "    try:\n",
        "        response = client.send(message)\n",
        "\n",
        "        print(\"RESPONSE:\", type(response)) #> <class 'python_http_client.client.Response'>\n",
        "        print(response.status_code) #> 202 indicates SUCCESS\n",
        "        print(response.body)\n",
        "        print(response.headers)\n",
        "\n",
        "    except Exception as err:\n",
        "        print(type(err))\n",
        "        print(err)\n",
        "\n"
      ],
      "metadata": {
        "id": "zQbrdsIQeb5p"
      },
      "execution_count": null,
      "outputs": []
    },
    {
      "cell_type": "markdown",
      "source": [
        "Using the function to send an example email:"
      ],
      "metadata": {
        "id": "Kybq3QGtNNYd"
      }
    },
    {
      "cell_type": "code",
      "source": [
        "send_email()"
      ],
      "metadata": {
        "colab": {
          "base_uri": "https://localhost:8080/"
        },
        "id": "884JbkGEjT4u",
        "outputId": "519b06b5-1243-4f23-e604-67bf88a1f3dd"
      },
      "execution_count": null,
      "outputs": [
        {
          "output_type": "stream",
          "name": "stdout",
          "text": [
            "SENDING EMAIL TO: prof.mj.rossetti@gmail.com\n",
            "SUBJECT: [Shopping Cart App] Testing 123\n",
            "HTML: <p>Hello World</p>\n",
            "CLIENT: <class 'sendgrid.sendgrid.SendGridAPIClient'>\n",
            "RESPONSE: <class 'python_http_client.client.Response'>\n",
            "202\n",
            "b''\n",
            "Server: nginx\n",
            "Date: Wed, 20 Mar 2024 21:49:53 GMT\n",
            "Content-Length: 0\n",
            "Connection: close\n",
            "X-Message-Id: t6YixEL_RZ2fMOwyemuUSg\n",
            "Access-Control-Allow-Origin: https://sendgrid.api-docs.io\n",
            "Access-Control-Allow-Methods: POST\n",
            "Access-Control-Allow-Headers: Authorization, Content-Type, On-behalf-of, x-sg-elas-acl\n",
            "Access-Control-Max-Age: 600\n",
            "X-No-CORS-Reason: https://sendgrid.com/docs/Classroom/Basics/API/cors.html\n",
            "Strict-Transport-Security: max-age=600; includeSubDomains\n",
            "\n",
            "\n"
          ]
        }
      ]
    },
    {
      "cell_type": "code",
      "source": [
        "my_content = \"\"\"\n",
        "\n",
        "    <img\n",
        "        src=\"https://img.freepik.com/free-vector/flat-ice-cream-collection_23-2148982427.jpg\"\n",
        "        alt=\"image of an ice cream\"\n",
        "        height=100\n",
        "    >\n",
        "\n",
        "    <h1>Ice Cream Shop Menu</h1>\n",
        "\n",
        "    <p>Most popular flavors:</p>\n",
        "\n",
        "    <ul>\n",
        "        <li>Vanilla Bean </li>\n",
        "        <li>Choc </li>\n",
        "        <li>Strawberry</li>\n",
        "    </ul>\n",
        "\"\"\"\n",
        "send_email(html_content=my_content)"
      ],
      "metadata": {
        "colab": {
          "base_uri": "https://localhost:8080/"
        },
        "id": "lJRx9QWkNuTc",
        "outputId": "e1b29a5e-1eb8-4fe0-be2b-a4559adb2ee1"
      },
      "execution_count": null,
      "outputs": [
        {
          "output_type": "stream",
          "name": "stdout",
          "text": [
            "SENDING EMAIL TO: prof.mj.rossetti@gmail.com\n",
            "SUBJECT: [Shopping Cart App] Testing 123\n",
            "HTML: \n",
            "\n",
            "    <img\n",
            "        src=\"https://img.freepik.com/free-vector/flat-ice-cream-collection_23-2148982427.jpg\"\n",
            "        alt=\"image of an ice cream\"\n",
            "        height=100\n",
            "    >\n",
            "\n",
            "    <h1>Ice Cream Shop Menu</h1>\n",
            "\n",
            "    <p>Most popular flavors:</p>\n",
            "\n",
            "    <ul>\n",
            "        <li>Vanilla Bean </li>\n",
            "        <li>Choc </li>\n",
            "        <li>Strawberry</li>\n",
            "    </ul>\n",
            "\n",
            "CLIENT: <class 'sendgrid.sendgrid.SendGridAPIClient'>\n",
            "RESPONSE: <class 'python_http_client.client.Response'>\n",
            "202\n",
            "b''\n",
            "Server: nginx\n",
            "Date: Wed, 20 Mar 2024 21:49:53 GMT\n",
            "Content-Length: 0\n",
            "Connection: close\n",
            "X-Message-Id: GsBA-1QPSm2ddncEThRY_g\n",
            "Access-Control-Allow-Origin: https://sendgrid.api-docs.io\n",
            "Access-Control-Allow-Methods: POST\n",
            "Access-Control-Allow-Headers: Authorization, Content-Type, On-behalf-of, x-sg-elas-acl\n",
            "Access-Control-Max-Age: 600\n",
            "X-No-CORS-Reason: https://sendgrid.com/docs/Classroom/Basics/API/cors.html\n",
            "Strict-Transport-Security: max-age=600; includeSubDomains\n",
            "\n",
            "\n"
          ]
        }
      ]
    },
    {
      "cell_type": "markdown",
      "source": [
        "# Mailgun"
      ],
      "metadata": {
        "id": "FtkzkdHQPQCx"
      }
    },
    {
      "cell_type": "markdown",
      "source": [
        "## Setup"
      ],
      "metadata": {
        "id": "f0zrjzghT3OK"
      }
    },
    {
      "cell_type": "markdown",
      "source": [
        "Alternatively, we can try sending email with Mailgun:\n",
        "\n",
        "  + https://app.mailgun.com/\n",
        "  + https://github.com/prof-rossetti/intro-to-python/blob/main/notes/apis/mailgun.md"
      ],
      "metadata": {
        "id": "HtSBvdojT6p0"
      }
    },
    {
      "cell_type": "markdown",
      "source": [
        "\n",
        "\n",
        "\n",
        "Create account with your university email address (i.e. `MAILGUN_SENDER_ADDRESS`). Click verification link sent to that address. Login. Find and click nav link about \"Sending\" email. From the domains page, note the sandbox domain provided to you by default (i.e. `MAILGUN_DOMAIN` like \"sandbox______.mailgun.org\"). Find and click on API Key settings link on bottom right, then on the api keys page, scroll down and click the button to create a new API Key (i.e. `MAILGUN_API_KEY`).\n",
        "\n",
        "> NOTE: Sandbox domains are restricted to authorized recipients only. So you'll only be able to send emails to yourself and a handful of \"beta tester\" friends and family until / unless you register your own domain later.\n",
        "\n",
        "> NOTE: if you see 403 error, try registering your own email address as an \"Authorized Recipient\", and click the verification email, and try again\n",
        "\n",
        "Before proceeding, set these credentials as notebook secrets (`MAILGUN_SENDER_ADDRESS`, `MAILGUN_DOMAIN` , and `MAILGUN_API_KEY`)."
      ],
      "metadata": {
        "id": "ROicUQ-bPSeb"
      }
    },
    {
      "cell_type": "code",
      "source": [
        "from google.colab import userdata\n",
        "\n",
        "MAILGUN_SENDER_ADDRESS = userdata.get(\"MAILGUN_SENDER_ADDRESS\") #  \"example@georgetown.edu\"\n",
        "MAILGUN_DOMAIN = userdata.get(\"MAILGUN_DOMAIN\") #  \"sandbox______.mailgun.org\"\n",
        "MAILGUN_API_KEY = userdata.get(\"MAILGUN_API_KEY\")"
      ],
      "metadata": {
        "id": "gU1zIWjwVRsp"
      },
      "execution_count": null,
      "outputs": []
    },
    {
      "cell_type": "markdown",
      "source": [
        "## Usage"
      ],
      "metadata": {
        "id": "rXvIAHyM3C4-"
      }
    },
    {
      "cell_type": "code",
      "source": [
        "import requests\n",
        "\n",
        "\n",
        "def send_mail(recipient_address=MAILGUN_SENDER_ADDRESS, subject=\"[Shopping Cart App] Testing 123\", html_content=\"<p>Hello World</p>\"):\n",
        "    print(\"SENDING EMAIL TO:\", recipient_address)\n",
        "    print(\"SUBJECT:\", subject)\n",
        "    print(\"HTML:\", html_content)\n",
        "\n",
        "    try:\n",
        "        request_url = f\"https://api.mailgun.net/v3/{MAILGUN_DOMAIN}/messages\"\n",
        "        message_data = {\n",
        "            'from': MAILGUN_SENDER_ADDRESS,\n",
        "            'to': recipient_address,\n",
        "            'subject': subject,\n",
        "            'html': html_content,\n",
        "        }\n",
        "        print(message_data)\n",
        "        response = requests.post(request_url,\n",
        "            auth=('api', MAILGUN_API_KEY),\n",
        "            data=message_data\n",
        "        )\n",
        "        print(\"RESULT:\", response.status_code)\n",
        "        response.raise_for_status()\n",
        "        print(\"Email sent successfully!\")\n",
        "    except requests.exceptions.RequestException as e:\n",
        "        print(f\"Error sending email: {str(e)}\")\n",
        "\n",
        "\n",
        "send_mail()\n"
      ],
      "metadata": {
        "colab": {
          "base_uri": "https://localhost:8080/"
        },
        "id": "5EbrV-4hPS_y",
        "outputId": "e1929ee6-febe-46c2-dae4-aee615311b5d"
      },
      "execution_count": null,
      "outputs": [
        {
          "output_type": "stream",
          "name": "stdout",
          "text": [
            "SENDING EMAIL TO: mjr300@georgetown.edu\n",
            "SUBJECT: [Shopping Cart App] Testing 123\n",
            "HTML: <p>Hello World</p>\n",
            "{'from': 'mjr300@georgetown.edu', 'to': 'mjr300@georgetown.edu', 'subject': '[Shopping Cart App] Testing 123', 'html': '<p>Hello World</p>'}\n",
            "RESULT: 200\n",
            "Email sent successfully!\n"
          ]
        }
      ]
    },
    {
      "cell_type": "code",
      "source": [
        "my_content = \"\"\"\n",
        "\n",
        "    <img\n",
        "        src=\"https://img.freepik.com/free-vector/flat-ice-cream-collection_23-2148982427.jpg\"\n",
        "        alt=\"image of an ice cream\"\n",
        "        height=100\n",
        "    >\n",
        "\n",
        "    <h1>Ice Cream Shop Menu</h1>\n",
        "\n",
        "    <p>Most popular flavors:</p>\n",
        "\n",
        "    <ul>\n",
        "        <li>Vanilla Bean </li>\n",
        "        <li>Choc </li>\n",
        "        <li>Strawberry</li>\n",
        "    </ul>\n",
        "\"\"\"\n",
        "send_mail(html_content=my_content)"
      ],
      "metadata": {
        "colab": {
          "base_uri": "https://localhost:8080/"
        },
        "id": "G-aNw2s-UNQw",
        "outputId": "e7f16670-4d5b-4b3f-a3b2-aebcfa017060"
      },
      "execution_count": null,
      "outputs": [
        {
          "output_type": "stream",
          "name": "stdout",
          "text": [
            "SENDING EMAIL TO: mjr300@georgetown.edu\n",
            "SUBJECT: [Shopping Cart App] Testing 123\n",
            "HTML: \n",
            "\n",
            "    <img\n",
            "        src=\"https://img.freepik.com/free-vector/flat-ice-cream-collection_23-2148982427.jpg\"\n",
            "        alt=\"image of an ice cream\"\n",
            "        height=100\n",
            "    >\n",
            "\n",
            "    <h1>Ice Cream Shop Menu</h1>\n",
            "\n",
            "    <p>Most popular flavors:</p>\n",
            "\n",
            "    <ul>\n",
            "        <li>Vanilla Bean </li>\n",
            "        <li>Choc </li>\n",
            "        <li>Strawberry</li>\n",
            "    </ul>\n",
            "\n",
            "{'from': 'mjr300@georgetown.edu', 'to': 'mjr300@georgetown.edu', 'subject': '[Shopping Cart App] Testing 123', 'html': '\\n\\n    <img\\n        src=\"https://img.freepik.com/free-vector/flat-ice-cream-collection_23-2148982427.jpg\"\\n        alt=\"image of an ice cream\"\\n        height=100\\n    >\\n\\n    <h1>Ice Cream Shop Menu</h1>\\n\\n    <p>Most popular flavors:</p>\\n\\n    <ul>\\n        <li>Vanilla Bean </li>\\n        <li>Choc </li>\\n        <li>Strawberry</li>\\n    </ul>\\n'}\n",
            "RESULT: 200\n",
            "Email sent successfully!\n"
          ]
        }
      ]
    }
  ]
}