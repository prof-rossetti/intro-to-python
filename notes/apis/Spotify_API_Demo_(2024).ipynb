{
  "nbformat": 4,
  "nbformat_minor": 0,
  "metadata": {
    "colab": {
      "provenance": [],
      "collapsed_sections": [
        "TeoUz227W0r5"
      ],
      "authorship_tag": "ABX9TyNESTke528qAlcxjppW5tQK",
      "include_colab_link": true
    },
    "kernelspec": {
      "name": "python3",
      "display_name": "Python 3"
    }
  },
  "cells": [
    {
      "cell_type": "markdown",
      "metadata": {
        "id": "view-in-github",
        "colab_type": "text"
      },
      "source": [
        "<a href=\"https://colab.research.google.com/github/prof-rossetti/intro-to-python/blob/main/notes/apis/Spotify_API_Demo_(2024).ipynb\" target=\"_parent\"><img src=\"https://colab.research.google.com/assets/colab-badge.svg\" alt=\"Open In Colab\"/></a>"
      ]
    },
    {
      "cell_type": "markdown",
      "metadata": {
        "id": "Mkx6kqODzk5r"
      },
      "source": [
        "# References\n"
      ]
    },
    {
      "cell_type": "markdown",
      "metadata": {
        "id": "mp6ti6rBE5sx"
      },
      "source": [
        "\n",
        "## The Spotify API\n",
        "\n",
        "  + https://developer.spotify.com/documentation/web-api/\n",
        "  + https://developer.spotify.com/documentation/general/guides/authorization-guide\n",
        "  + https://developer.spotify.com/documentation/general/guides/scopes/\n",
        "\n",
        "## The `spotipy` Package\n",
        "\n",
        "The `spotipy` package provides an interface into the Spotify API.\n",
        "\n",
        "  + https://github.com/plamere/spotipy\n",
        "  + https://github.com/plamere/spotipy#quick-start\n",
        "  + https://spotipy.readthedocs.io/en/latest/\n",
        "  + https://spotipy.readthedocs.io/en/latest/#client-credentials-flow\n",
        "  + https://spotipy.readthedocs.io/en/latest/#authorization-code-flow\n",
        "\n"
      ]
    },
    {
      "cell_type": "markdown",
      "metadata": {
        "id": "cChEVsHSzqsU"
      },
      "source": [
        "\n",
        "# Setup\n",
        "\n"
      ]
    },
    {
      "cell_type": "markdown",
      "metadata": {
        "id": "Waq5k4czWmCS"
      },
      "source": [
        "Installing the `spotipy` package into the notebook environment:"
      ]
    },
    {
      "cell_type": "code",
      "source": [
        "%%capture\n",
        "!pip install spotipy"
      ],
      "metadata": {
        "id": "yEWKc8CYXac8"
      },
      "execution_count": 30,
      "outputs": []
    },
    {
      "cell_type": "code",
      "source": [
        "!pip list | grep spotipy"
      ],
      "metadata": {
        "id": "F8l2YiorWzq3",
        "colab": {
          "base_uri": "https://localhost:8080/"
        },
        "outputId": "e5fdcab6-bcb8-49ae-9f70-47bba980d666"
      },
      "execution_count": 31,
      "outputs": [
        {
          "output_type": "stream",
          "name": "stdout",
          "text": [
            "spotipy                          2.23.0\n"
          ]
        }
      ]
    },
    {
      "cell_type": "markdown",
      "metadata": {
        "id": "h81rvMYAWkoM"
      },
      "source": [
        "Create a [Spotify API Client application](https://developer.spotify.com/dashboard/applications/), note its credentials, then set them as notebook secrets called `SPOTIPY_CLIENT_ID` and `SPOTIPY_CLIENT_SECRET` respectively."
      ]
    },
    {
      "cell_type": "code",
      "source": [
        "from google.colab import userdata\n",
        "\n",
        "SPOTIPY_CLIENT_ID = userdata.get(\"SPOTIPY_CLIENT_ID\")\n",
        "SPOTIPY_CLIENT_SECRET = userdata.get(\"SPOTIPY_CLIENT_SECRET\")"
      ],
      "metadata": {
        "id": "l1QEGRWxCaN8"
      },
      "execution_count": null,
      "outputs": []
    },
    {
      "cell_type": "markdown",
      "metadata": {
        "id": "NnlooeDez9oC"
      },
      "source": [
        "# Usage"
      ]
    },
    {
      "cell_type": "markdown",
      "metadata": {
        "id": "BBUDnbNrWw7A"
      },
      "source": [
        "## Info Inputs"
      ]
    },
    {
      "cell_type": "code",
      "metadata": {
        "id": "WaEb9THPWvWJ"
      },
      "source": [
        "search_term = \"Dua Lipa\""
      ],
      "execution_count": null,
      "outputs": []
    },
    {
      "cell_type": "markdown",
      "metadata": {
        "id": "TeoUz227W0r5"
      },
      "source": [
        "### Info Processing"
      ]
    },
    {
      "cell_type": "code",
      "metadata": {
        "id": "OQ3QJr6GE3qy",
        "colab": {
          "base_uri": "https://localhost:8080/"
        },
        "outputId": "39562593-45be-49cc-e4cf-6e4814e0e39c"
      },
      "source": [
        "\n",
        "from spotipy import Spotify\n",
        "from spotipy.oauth2 import SpotifyClientCredentials\n",
        "\n",
        "creds = SpotifyClientCredentials(client_id=SPOTIPY_CLIENT_ID, client_secret=SPOTIPY_CLIENT_SECRET)\n",
        "client = Spotify(client_credentials_manager=creds)\n",
        "print(\"CLIENT:\", type(client))"
      ],
      "execution_count": null,
      "outputs": [
        {
          "output_type": "stream",
          "name": "stdout",
          "text": [
            "CLIENT: <class 'spotipy.client.Spotify'>\n"
          ]
        }
      ]
    },
    {
      "cell_type": "code",
      "metadata": {
        "colab": {
          "base_uri": "https://localhost:8080/"
        },
        "id": "MlC-4x3OW_FP",
        "outputId": "9a8ed81e-688c-49d9-9643-afd23f11c655"
      },
      "source": [
        "# api request\n",
        "results = client.search(q=search_term, limit=20)\n",
        "print(results.keys())"
      ],
      "execution_count": null,
      "outputs": [
        {
          "output_type": "stream",
          "name": "stdout",
          "text": [
            "dict_keys(['tracks'])\n"
          ]
        }
      ]
    },
    {
      "cell_type": "code",
      "metadata": {
        "colab": {
          "base_uri": "https://localhost:8080/"
        },
        "id": "CL1KFdaGXK3j",
        "outputId": "346431f6-e316-4396-e965-01d7645f6d84"
      },
      "source": [
        "print(results[\"tracks\"].keys())"
      ],
      "execution_count": null,
      "outputs": [
        {
          "output_type": "stream",
          "name": "stdout",
          "text": [
            "dict_keys(['href', 'items', 'limit', 'next', 'offset', 'previous', 'total'])\n"
          ]
        }
      ]
    },
    {
      "cell_type": "code",
      "metadata": {
        "colab": {
          "base_uri": "https://localhost:8080/"
        },
        "id": "2_9i4QcSXTG4",
        "outputId": "2b8b2311-b656-4314-ecd7-6c2c6ab8a87d"
      },
      "source": [
        "tracks = results[\"tracks\"][\"items\"]\n",
        "print(tracks[0].keys())"
      ],
      "execution_count": null,
      "outputs": [
        {
          "output_type": "stream",
          "name": "stdout",
          "text": [
            "dict_keys(['album', 'artists', 'available_markets', 'disc_number', 'duration_ms', 'explicit', 'external_ids', 'external_urls', 'href', 'id', 'is_local', 'name', 'popularity', 'preview_url', 'track_number', 'type', 'uri'])\n"
          ]
        }
      ]
    },
    {
      "cell_type": "code",
      "metadata": {
        "colab": {
          "base_uri": "https://localhost:8080/"
        },
        "id": "Rm198tATX3Dy",
        "outputId": "01e56a81-a590-4fb5-ad50-d16706bf4dd9"
      },
      "source": [
        "print(tracks[0].keys())"
      ],
      "execution_count": null,
      "outputs": [
        {
          "output_type": "stream",
          "name": "stdout",
          "text": [
            "dict_keys(['album', 'artists', 'available_markets', 'disc_number', 'duration_ms', 'explicit', 'external_ids', 'external_urls', 'href', 'id', 'is_local', 'name', 'popularity', 'preview_url', 'track_number', 'type', 'uri'])\n"
          ]
        }
      ]
    },
    {
      "cell_type": "code",
      "metadata": {
        "id": "MCqpPBgGYspH"
      },
      "source": [
        "try:\n",
        "    del tracks[0][\"album\"][\"available_markets\"]\n",
        "except:\n",
        "    pass"
      ],
      "execution_count": null,
      "outputs": []
    },
    {
      "cell_type": "code",
      "metadata": {
        "id": "ZxrDNyFJaICs"
      },
      "source": [
        "# convert image URL to html\n",
        "# credit to: https://towardsdatascience.com/rendering-images-inside-a-pandas-dataframe-3631a4883f60\n",
        "\n",
        "def img_html(url):\n",
        "    return '<img src=\"'+ url + '\" width=\"50\" >'\n",
        "\n",
        "def preview_html(url):\n",
        "    if url:\n",
        "        return '<a href=\"'+ url + '\" >Listen on Spotify</a>'\n",
        "    else:\n",
        "        return None"
      ],
      "execution_count": null,
      "outputs": []
    },
    {
      "cell_type": "code",
      "metadata": {
        "id": "vp2YsXYoXhqS"
      },
      "source": [
        "records = []\n",
        "# parsing the response\n",
        "for index, track in enumerate(tracks):\n",
        "    #print(' ', index, \"|\", track['name'], \"|\", track[\"artists\"][0][\"name\"])\n",
        "    record = {\n",
        "        \"index\": index,\n",
        "        \"name\": track['name'],\n",
        "        \"artist\": track[\"artists\"][0][\"name\"],\n",
        "        #\"duration_ms\": track['duration_ms'],\n",
        "        #\"explicit\":  track['explicit'],\n",
        "        \"popularity\": track[\"popularity\"],\n",
        "        \"preview_url\": preview_html(track[\"preview_url\"]),\n",
        "        \"album_art\": img_html(track[\"album\"][\"images\"][0][\"url\"])\n",
        "    }\n",
        "    records.append(record)"
      ],
      "execution_count": null,
      "outputs": []
    },
    {
      "cell_type": "code",
      "metadata": {
        "id": "rxnK4mryXmIj",
        "colab": {
          "base_uri": "https://localhost:8080/",
          "height": 206
        },
        "outputId": "70582253-98a6-4388-98ce-4e25af5351bd"
      },
      "source": [
        "from pandas import DataFrame\n",
        "\n",
        "tracks_df = DataFrame(records)\n",
        "tracks_df.head()"
      ],
      "execution_count": null,
      "outputs": [
        {
          "output_type": "execute_result",
          "data": {
            "text/plain": [
              "   index             name       artist  popularity  \\\n",
              "0      0       Levitating     Dua Lipa          79   \n",
              "1      1         Dua Lipa  Jack Harlow          69   \n",
              "2      2         Illusion     Dua Lipa          87   \n",
              "3      3          Houdini     Dua Lipa          92   \n",
              "4      4  Training Season     Dua Lipa          92   \n",
              "\n",
              "                                         preview_url  \\\n",
              "0  <a href=\"https://p.scdn.co/mp3-preview/ac28d1b...   \n",
              "1  <a href=\"https://p.scdn.co/mp3-preview/a67e101...   \n",
              "2  <a href=\"https://p.scdn.co/mp3-preview/6b05342...   \n",
              "3  <a href=\"https://p.scdn.co/mp3-preview/df4af86...   \n",
              "4  <a href=\"https://p.scdn.co/mp3-preview/5608f57...   \n",
              "\n",
              "                                           album_art  \n",
              "0  <img src=\"https://i.scdn.co/image/ab67616d0000...  \n",
              "1  <img src=\"https://i.scdn.co/image/ab67616d0000...  \n",
              "2  <img src=\"https://i.scdn.co/image/ab67616d0000...  \n",
              "3  <img src=\"https://i.scdn.co/image/ab67616d0000...  \n",
              "4  <img src=\"https://i.scdn.co/image/ab67616d0000...  "
            ],
            "text/html": [
              "\n",
              "  <div id=\"df-b037d60f-c95b-4564-8f50-391ae7ef5896\" class=\"colab-df-container\">\n",
              "    <div>\n",
              "<style scoped>\n",
              "    .dataframe tbody tr th:only-of-type {\n",
              "        vertical-align: middle;\n",
              "    }\n",
              "\n",
              "    .dataframe tbody tr th {\n",
              "        vertical-align: top;\n",
              "    }\n",
              "\n",
              "    .dataframe thead th {\n",
              "        text-align: right;\n",
              "    }\n",
              "</style>\n",
              "<table border=\"1\" class=\"dataframe\">\n",
              "  <thead>\n",
              "    <tr style=\"text-align: right;\">\n",
              "      <th></th>\n",
              "      <th>index</th>\n",
              "      <th>name</th>\n",
              "      <th>artist</th>\n",
              "      <th>popularity</th>\n",
              "      <th>preview_url</th>\n",
              "      <th>album_art</th>\n",
              "    </tr>\n",
              "  </thead>\n",
              "  <tbody>\n",
              "    <tr>\n",
              "      <th>0</th>\n",
              "      <td>0</td>\n",
              "      <td>Levitating</td>\n",
              "      <td>Dua Lipa</td>\n",
              "      <td>79</td>\n",
              "      <td>&lt;a href=\"https://p.scdn.co/mp3-preview/ac28d1b...</td>\n",
              "      <td>&lt;img src=\"https://i.scdn.co/image/ab67616d0000...</td>\n",
              "    </tr>\n",
              "    <tr>\n",
              "      <th>1</th>\n",
              "      <td>1</td>\n",
              "      <td>Dua Lipa</td>\n",
              "      <td>Jack Harlow</td>\n",
              "      <td>69</td>\n",
              "      <td>&lt;a href=\"https://p.scdn.co/mp3-preview/a67e101...</td>\n",
              "      <td>&lt;img src=\"https://i.scdn.co/image/ab67616d0000...</td>\n",
              "    </tr>\n",
              "    <tr>\n",
              "      <th>2</th>\n",
              "      <td>2</td>\n",
              "      <td>Illusion</td>\n",
              "      <td>Dua Lipa</td>\n",
              "      <td>87</td>\n",
              "      <td>&lt;a href=\"https://p.scdn.co/mp3-preview/6b05342...</td>\n",
              "      <td>&lt;img src=\"https://i.scdn.co/image/ab67616d0000...</td>\n",
              "    </tr>\n",
              "    <tr>\n",
              "      <th>3</th>\n",
              "      <td>3</td>\n",
              "      <td>Houdini</td>\n",
              "      <td>Dua Lipa</td>\n",
              "      <td>92</td>\n",
              "      <td>&lt;a href=\"https://p.scdn.co/mp3-preview/df4af86...</td>\n",
              "      <td>&lt;img src=\"https://i.scdn.co/image/ab67616d0000...</td>\n",
              "    </tr>\n",
              "    <tr>\n",
              "      <th>4</th>\n",
              "      <td>4</td>\n",
              "      <td>Training Season</td>\n",
              "      <td>Dua Lipa</td>\n",
              "      <td>92</td>\n",
              "      <td>&lt;a href=\"https://p.scdn.co/mp3-preview/5608f57...</td>\n",
              "      <td>&lt;img src=\"https://i.scdn.co/image/ab67616d0000...</td>\n",
              "    </tr>\n",
              "  </tbody>\n",
              "</table>\n",
              "</div>\n",
              "    <div class=\"colab-df-buttons\">\n",
              "\n",
              "  <div class=\"colab-df-container\">\n",
              "    <button class=\"colab-df-convert\" onclick=\"convertToInteractive('df-b037d60f-c95b-4564-8f50-391ae7ef5896')\"\n",
              "            title=\"Convert this dataframe to an interactive table.\"\n",
              "            style=\"display:none;\">\n",
              "\n",
              "  <svg xmlns=\"http://www.w3.org/2000/svg\" height=\"24px\" viewBox=\"0 -960 960 960\">\n",
              "    <path d=\"M120-120v-720h720v720H120Zm60-500h600v-160H180v160Zm220 220h160v-160H400v160Zm0 220h160v-160H400v160ZM180-400h160v-160H180v160Zm440 0h160v-160H620v160ZM180-180h160v-160H180v160Zm440 0h160v-160H620v160Z\"/>\n",
              "  </svg>\n",
              "    </button>\n",
              "\n",
              "  <style>\n",
              "    .colab-df-container {\n",
              "      display:flex;\n",
              "      gap: 12px;\n",
              "    }\n",
              "\n",
              "    .colab-df-convert {\n",
              "      background-color: #E8F0FE;\n",
              "      border: none;\n",
              "      border-radius: 50%;\n",
              "      cursor: pointer;\n",
              "      display: none;\n",
              "      fill: #1967D2;\n",
              "      height: 32px;\n",
              "      padding: 0 0 0 0;\n",
              "      width: 32px;\n",
              "    }\n",
              "\n",
              "    .colab-df-convert:hover {\n",
              "      background-color: #E2EBFA;\n",
              "      box-shadow: 0px 1px 2px rgba(60, 64, 67, 0.3), 0px 1px 3px 1px rgba(60, 64, 67, 0.15);\n",
              "      fill: #174EA6;\n",
              "    }\n",
              "\n",
              "    .colab-df-buttons div {\n",
              "      margin-bottom: 4px;\n",
              "    }\n",
              "\n",
              "    [theme=dark] .colab-df-convert {\n",
              "      background-color: #3B4455;\n",
              "      fill: #D2E3FC;\n",
              "    }\n",
              "\n",
              "    [theme=dark] .colab-df-convert:hover {\n",
              "      background-color: #434B5C;\n",
              "      box-shadow: 0px 1px 3px 1px rgba(0, 0, 0, 0.15);\n",
              "      filter: drop-shadow(0px 1px 2px rgba(0, 0, 0, 0.3));\n",
              "      fill: #FFFFFF;\n",
              "    }\n",
              "  </style>\n",
              "\n",
              "    <script>\n",
              "      const buttonEl =\n",
              "        document.querySelector('#df-b037d60f-c95b-4564-8f50-391ae7ef5896 button.colab-df-convert');\n",
              "      buttonEl.style.display =\n",
              "        google.colab.kernel.accessAllowed ? 'block' : 'none';\n",
              "\n",
              "      async function convertToInteractive(key) {\n",
              "        const element = document.querySelector('#df-b037d60f-c95b-4564-8f50-391ae7ef5896');\n",
              "        const dataTable =\n",
              "          await google.colab.kernel.invokeFunction('convertToInteractive',\n",
              "                                                    [key], {});\n",
              "        if (!dataTable) return;\n",
              "\n",
              "        const docLinkHtml = 'Like what you see? Visit the ' +\n",
              "          '<a target=\"_blank\" href=https://colab.research.google.com/notebooks/data_table.ipynb>data table notebook</a>'\n",
              "          + ' to learn more about interactive tables.';\n",
              "        element.innerHTML = '';\n",
              "        dataTable['output_type'] = 'display_data';\n",
              "        await google.colab.output.renderOutput(dataTable, element);\n",
              "        const docLink = document.createElement('div');\n",
              "        docLink.innerHTML = docLinkHtml;\n",
              "        element.appendChild(docLink);\n",
              "      }\n",
              "    </script>\n",
              "  </div>\n",
              "\n",
              "\n",
              "<div id=\"df-4e389390-58c2-4e86-b4ee-736492d80aff\">\n",
              "  <button class=\"colab-df-quickchart\" onclick=\"quickchart('df-4e389390-58c2-4e86-b4ee-736492d80aff')\"\n",
              "            title=\"Suggest charts\"\n",
              "            style=\"display:none;\">\n",
              "\n",
              "<svg xmlns=\"http://www.w3.org/2000/svg\" height=\"24px\"viewBox=\"0 0 24 24\"\n",
              "     width=\"24px\">\n",
              "    <g>\n",
              "        <path d=\"M19 3H5c-1.1 0-2 .9-2 2v14c0 1.1.9 2 2 2h14c1.1 0 2-.9 2-2V5c0-1.1-.9-2-2-2zM9 17H7v-7h2v7zm4 0h-2V7h2v10zm4 0h-2v-4h2v4z\"/>\n",
              "    </g>\n",
              "</svg>\n",
              "  </button>\n",
              "\n",
              "<style>\n",
              "  .colab-df-quickchart {\n",
              "      --bg-color: #E8F0FE;\n",
              "      --fill-color: #1967D2;\n",
              "      --hover-bg-color: #E2EBFA;\n",
              "      --hover-fill-color: #174EA6;\n",
              "      --disabled-fill-color: #AAA;\n",
              "      --disabled-bg-color: #DDD;\n",
              "  }\n",
              "\n",
              "  [theme=dark] .colab-df-quickchart {\n",
              "      --bg-color: #3B4455;\n",
              "      --fill-color: #D2E3FC;\n",
              "      --hover-bg-color: #434B5C;\n",
              "      --hover-fill-color: #FFFFFF;\n",
              "      --disabled-bg-color: #3B4455;\n",
              "      --disabled-fill-color: #666;\n",
              "  }\n",
              "\n",
              "  .colab-df-quickchart {\n",
              "    background-color: var(--bg-color);\n",
              "    border: none;\n",
              "    border-radius: 50%;\n",
              "    cursor: pointer;\n",
              "    display: none;\n",
              "    fill: var(--fill-color);\n",
              "    height: 32px;\n",
              "    padding: 0;\n",
              "    width: 32px;\n",
              "  }\n",
              "\n",
              "  .colab-df-quickchart:hover {\n",
              "    background-color: var(--hover-bg-color);\n",
              "    box-shadow: 0 1px 2px rgba(60, 64, 67, 0.3), 0 1px 3px 1px rgba(60, 64, 67, 0.15);\n",
              "    fill: var(--button-hover-fill-color);\n",
              "  }\n",
              "\n",
              "  .colab-df-quickchart-complete:disabled,\n",
              "  .colab-df-quickchart-complete:disabled:hover {\n",
              "    background-color: var(--disabled-bg-color);\n",
              "    fill: var(--disabled-fill-color);\n",
              "    box-shadow: none;\n",
              "  }\n",
              "\n",
              "  .colab-df-spinner {\n",
              "    border: 2px solid var(--fill-color);\n",
              "    border-color: transparent;\n",
              "    border-bottom-color: var(--fill-color);\n",
              "    animation:\n",
              "      spin 1s steps(1) infinite;\n",
              "  }\n",
              "\n",
              "  @keyframes spin {\n",
              "    0% {\n",
              "      border-color: transparent;\n",
              "      border-bottom-color: var(--fill-color);\n",
              "      border-left-color: var(--fill-color);\n",
              "    }\n",
              "    20% {\n",
              "      border-color: transparent;\n",
              "      border-left-color: var(--fill-color);\n",
              "      border-top-color: var(--fill-color);\n",
              "    }\n",
              "    30% {\n",
              "      border-color: transparent;\n",
              "      border-left-color: var(--fill-color);\n",
              "      border-top-color: var(--fill-color);\n",
              "      border-right-color: var(--fill-color);\n",
              "    }\n",
              "    40% {\n",
              "      border-color: transparent;\n",
              "      border-right-color: var(--fill-color);\n",
              "      border-top-color: var(--fill-color);\n",
              "    }\n",
              "    60% {\n",
              "      border-color: transparent;\n",
              "      border-right-color: var(--fill-color);\n",
              "    }\n",
              "    80% {\n",
              "      border-color: transparent;\n",
              "      border-right-color: var(--fill-color);\n",
              "      border-bottom-color: var(--fill-color);\n",
              "    }\n",
              "    90% {\n",
              "      border-color: transparent;\n",
              "      border-bottom-color: var(--fill-color);\n",
              "    }\n",
              "  }\n",
              "</style>\n",
              "\n",
              "  <script>\n",
              "    async function quickchart(key) {\n",
              "      const quickchartButtonEl =\n",
              "        document.querySelector('#' + key + ' button');\n",
              "      quickchartButtonEl.disabled = true;  // To prevent multiple clicks.\n",
              "      quickchartButtonEl.classList.add('colab-df-spinner');\n",
              "      try {\n",
              "        const charts = await google.colab.kernel.invokeFunction(\n",
              "            'suggestCharts', [key], {});\n",
              "      } catch (error) {\n",
              "        console.error('Error during call to suggestCharts:', error);\n",
              "      }\n",
              "      quickchartButtonEl.classList.remove('colab-df-spinner');\n",
              "      quickchartButtonEl.classList.add('colab-df-quickchart-complete');\n",
              "    }\n",
              "    (() => {\n",
              "      let quickchartButtonEl =\n",
              "        document.querySelector('#df-4e389390-58c2-4e86-b4ee-736492d80aff button');\n",
              "      quickchartButtonEl.style.display =\n",
              "        google.colab.kernel.accessAllowed ? 'block' : 'none';\n",
              "    })();\n",
              "  </script>\n",
              "</div>\n",
              "\n",
              "    </div>\n",
              "  </div>\n"
            ],
            "application/vnd.google.colaboratory.intrinsic+json": {
              "type": "dataframe",
              "variable_name": "tracks_df",
              "summary": "{\n  \"name\": \"tracks_df\",\n  \"rows\": 20,\n  \"fields\": [\n    {\n      \"column\": \"index\",\n      \"properties\": {\n        \"dtype\": \"number\",\n        \"std\": 5,\n        \"min\": 0,\n        \"max\": 19,\n        \"num_unique_values\": 20,\n        \"samples\": [\n          0,\n          17,\n          15\n        ],\n        \"semantic_type\": \"\",\n        \"description\": \"\"\n      }\n    },\n    {\n      \"column\": \"name\",\n      \"properties\": {\n        \"dtype\": \"string\",\n        \"num_unique_values\": 18,\n        \"samples\": [\n          \"Levitating\",\n          \"Dua Lipa\",\n          \"Dance The Night - From Barbie The Album\"\n        ],\n        \"semantic_type\": \"\",\n        \"description\": \"\"\n      }\n    },\n    {\n      \"column\": \"artist\",\n      \"properties\": {\n        \"dtype\": \"category\",\n        \"num_unique_values\": 4,\n        \"samples\": [\n          \"Jack Harlow\",\n          \"Elton John\",\n          \"Dua Lipa\"\n        ],\n        \"semantic_type\": \"\",\n        \"description\": \"\"\n      }\n    },\n    {\n      \"column\": \"popularity\",\n      \"properties\": {\n        \"dtype\": \"number\",\n        \"std\": 9,\n        \"min\": 58,\n        \"max\": 92,\n        \"num_unique_values\": 13,\n        \"samples\": [\n          84,\n          75,\n          79\n        ],\n        \"semantic_type\": \"\",\n        \"description\": \"\"\n      }\n    },\n    {\n      \"column\": \"preview_url\",\n      \"properties\": {\n        \"dtype\": \"string\",\n        \"num_unique_values\": 16,\n        \"samples\": [\n          \"<a href=\\\"https://p.scdn.co/mp3-preview/ac28d1b0be285ed3bfd8e9fa5fad133776d7cf36?cid=d7df2abc82674544a78cb3f39fd7d585\\\" >Listen on Spotify</a>\",\n          \"<a href=\\\"https://p.scdn.co/mp3-preview/a67e101190a9e673e5ac1d6ee6ad47fd6c4a7d39?cid=d7df2abc82674544a78cb3f39fd7d585\\\" >Listen on Spotify</a>\",\n          \"<a href=\\\"https://p.scdn.co/mp3-preview/e4f2ca20fc8aea1eb592d613d7a4b4da6012eaa2?cid=d7df2abc82674544a78cb3f39fd7d585\\\" >Listen on Spotify</a>\"\n        ],\n        \"semantic_type\": \"\",\n        \"description\": \"\"\n      }\n    },\n    {\n      \"column\": \"album_art\",\n      \"properties\": {\n        \"dtype\": \"string\",\n        \"num_unique_values\": 12,\n        \"samples\": [\n          \"<img src=\\\"https://i.scdn.co/image/ab67616d0000b2732172b607853fa89cefa2beb4\\\" width=\\\"50\\\" >\",\n          \"<img src=\\\"https://i.scdn.co/image/ab67616d0000b273d16ac0ec27653182d719ab36\\\" width=\\\"50\\\" >\",\n          \"<img src=\\\"https://i.scdn.co/image/ab67616d0000b2734bc66095f8a70bc4e6593f4f\\\" width=\\\"50\\\" >\"\n        ],\n        \"semantic_type\": \"\",\n        \"description\": \"\"\n      }\n    }\n  ]\n}"
            }
          },
          "metadata": {},
          "execution_count": 26
        }
      ]
    },
    {
      "cell_type": "code",
      "metadata": {
        "id": "wca59E8Y0FRM"
      },
      "source": [
        "from IPython.core.display import HTML\n",
        "\n",
        "# displaying the dataframe as HTML, with HTML links and images:\n",
        "tracks_table = HTML(tracks_df.to_html(escape=False, index=False, formatters=dict(Icon=img_html)))"
      ],
      "execution_count": null,
      "outputs": []
    },
    {
      "cell_type": "markdown",
      "metadata": {
        "id": "N5tRefYiW3qW"
      },
      "source": [
        "### Info Outputs"
      ]
    },
    {
      "cell_type": "code",
      "metadata": {
        "colab": {
          "base_uri": "https://localhost:8080/",
          "height": 1000
        },
        "id": "OHuLZ5RkaWis",
        "outputId": "23c1b5e3-f11a-4ab4-b555-94d0b2ea87ae"
      },
      "source": [
        "display(tracks_table)"
      ],
      "execution_count": null,
      "outputs": [
        {
          "output_type": "display_data",
          "data": {
            "text/plain": [
              "<IPython.core.display.HTML object>"
            ],
            "text/html": [
              "<table border=\"1\" class=\"dataframe\">\n",
              "  <thead>\n",
              "    <tr style=\"text-align: right;\">\n",
              "      <th>index</th>\n",
              "      <th>name</th>\n",
              "      <th>artist</th>\n",
              "      <th>popularity</th>\n",
              "      <th>preview_url</th>\n",
              "      <th>album_art</th>\n",
              "    </tr>\n",
              "  </thead>\n",
              "  <tbody>\n",
              "    <tr>\n",
              "      <td>0</td>\n",
              "      <td>Levitating</td>\n",
              "      <td>Dua Lipa</td>\n",
              "      <td>79</td>\n",
              "      <td><a href=\"https://p.scdn.co/mp3-preview/ac28d1b0be285ed3bfd8e9fa5fad133776d7cf36?cid=d7df2abc82674544a78cb3f39fd7d585\" >Listen on Spotify</a></td>\n",
              "      <td><img src=\"https://i.scdn.co/image/ab67616d0000b2734bc66095f8a70bc4e6593f4f\" width=\"50\" ></td>\n",
              "    </tr>\n",
              "    <tr>\n",
              "      <td>1</td>\n",
              "      <td>Dua Lipa</td>\n",
              "      <td>Jack Harlow</td>\n",
              "      <td>69</td>\n",
              "      <td><a href=\"https://p.scdn.co/mp3-preview/a67e101190a9e673e5ac1d6ee6ad47fd6c4a7d39?cid=d7df2abc82674544a78cb3f39fd7d585\" >Listen on Spotify</a></td>\n",
              "      <td><img src=\"https://i.scdn.co/image/ab67616d0000b2738e55edb69ca44a25b52b17bb\" width=\"50\" ></td>\n",
              "    </tr>\n",
              "    <tr>\n",
              "      <td>2</td>\n",
              "      <td>Illusion</td>\n",
              "      <td>Dua Lipa</td>\n",
              "      <td>87</td>\n",
              "      <td><a href=\"https://p.scdn.co/mp3-preview/6b05342e38bc2061ae57abc45c1a3832bf3d7ac7?cid=d7df2abc82674544a78cb3f39fd7d585\" >Listen on Spotify</a></td>\n",
              "      <td><img src=\"https://i.scdn.co/image/ab67616d0000b273c01fb32d3c89474b4c5d17fd\" width=\"50\" ></td>\n",
              "    </tr>\n",
              "    <tr>\n",
              "      <td>3</td>\n",
              "      <td>Houdini</td>\n",
              "      <td>Dua Lipa</td>\n",
              "      <td>92</td>\n",
              "      <td><a href=\"https://p.scdn.co/mp3-preview/df4af86970ffb1a7042d1d228bcea7b4aabfdba4?cid=d7df2abc82674544a78cb3f39fd7d585\" >Listen on Spotify</a></td>\n",
              "      <td><img src=\"https://i.scdn.co/image/ab67616d0000b273001d5706fddc72561f6488af\" width=\"50\" ></td>\n",
              "    </tr>\n",
              "    <tr>\n",
              "      <td>4</td>\n",
              "      <td>Training Season</td>\n",
              "      <td>Dua Lipa</td>\n",
              "      <td>92</td>\n",
              "      <td><a href=\"https://p.scdn.co/mp3-preview/5608f578347ae26c20bfebbad47a057eca7b3d5a?cid=d7df2abc82674544a78cb3f39fd7d585\" >Listen on Spotify</a></td>\n",
              "      <td><img src=\"https://i.scdn.co/image/ab67616d0000b273790260cc86fd7b2678bb204d\" width=\"50\" ></td>\n",
              "    </tr>\n",
              "    <tr>\n",
              "      <td>5</td>\n",
              "      <td>New Rules</td>\n",
              "      <td>Dua Lipa</td>\n",
              "      <td>81</td>\n",
              "      <td><a href=\"https://p.scdn.co/mp3-preview/e4f2ca20fc8aea1eb592d613d7a4b4da6012eaa2?cid=d7df2abc82674544a78cb3f39fd7d585\" >Listen on Spotify</a></td>\n",
              "      <td><img src=\"https://i.scdn.co/image/ab67616d0000b273838698485511bd9108fadadc\" width=\"50\" ></td>\n",
              "    </tr>\n",
              "    <tr>\n",
              "      <td>6</td>\n",
              "      <td>IDGAF</td>\n",
              "      <td>Dua Lipa</td>\n",
              "      <td>79</td>\n",
              "      <td><a href=\"https://p.scdn.co/mp3-preview/5338a987bfe51f8365bf43b899ecd8a83df83226?cid=d7df2abc82674544a78cb3f39fd7d585\" >Listen on Spotify</a></td>\n",
              "      <td><img src=\"https://i.scdn.co/image/ab67616d0000b273838698485511bd9108fadadc\" width=\"50\" ></td>\n",
              "    </tr>\n",
              "    <tr>\n",
              "      <td>7</td>\n",
              "      <td>Don't Start Now</td>\n",
              "      <td>Dua Lipa</td>\n",
              "      <td>81</td>\n",
              "      <td><a href=\"https://p.scdn.co/mp3-preview/cfc6684fc467e40bb9c7e6da2ea1b22eeccb211c?cid=d7df2abc82674544a78cb3f39fd7d585\" >Listen on Spotify</a></td>\n",
              "      <td><img src=\"https://i.scdn.co/image/ab67616d0000b2734bc66095f8a70bc4e6593f4f\" width=\"50\" ></td>\n",
              "    </tr>\n",
              "    <tr>\n",
              "      <td>8</td>\n",
              "      <td>Dance The Night - From Barbie The Album</td>\n",
              "      <td>Dua Lipa</td>\n",
              "      <td>88</td>\n",
              "      <td><a href=\"https://p.scdn.co/mp3-preview/acaea048f50a3b30ca24b348c84a6047373baabb?cid=d7df2abc82674544a78cb3f39fd7d585\" >Listen on Spotify</a></td>\n",
              "      <td><img src=\"https://i.scdn.co/image/ab67616d0000b2737dd3ba455ee3390cb55b0192\" width=\"50\" ></td>\n",
              "    </tr>\n",
              "    <tr>\n",
              "      <td>9</td>\n",
              "      <td>Illusion - Extended</td>\n",
              "      <td>Dua Lipa</td>\n",
              "      <td>69</td>\n",
              "      <td><a href=\"https://p.scdn.co/mp3-preview/70a819ccf608a6186e9e7a3a84de533ead676237?cid=d7df2abc82674544a78cb3f39fd7d585\" >Listen on Spotify</a></td>\n",
              "      <td><img src=\"https://i.scdn.co/image/ab67616d0000b273c01fb32d3c89474b4c5d17fd\" width=\"50\" ></td>\n",
              "    </tr>\n",
              "    <tr>\n",
              "      <td>10</td>\n",
              "      <td>Don't Start Now</td>\n",
              "      <td>Dua Lipa</td>\n",
              "      <td>69</td>\n",
              "      <td><a href=\"https://p.scdn.co/mp3-preview/cfc6684fc467e40bb9c7e6da2ea1b22eeccb211c?cid=d7df2abc82674544a78cb3f39fd7d585\" >Listen on Spotify</a></td>\n",
              "      <td><img src=\"https://i.scdn.co/image/ab67616d0000b273ccdddb2e5349ea0608c3e016\" width=\"50\" ></td>\n",
              "    </tr>\n",
              "    <tr>\n",
              "      <td>11</td>\n",
              "      <td>Break My Heart</td>\n",
              "      <td>Dua Lipa</td>\n",
              "      <td>76</td>\n",
              "      <td><a href=\"https://p.scdn.co/mp3-preview/a0078bbdb4351ec221eb7f330bd01856636601b5?cid=d7df2abc82674544a78cb3f39fd7d585\" >Listen on Spotify</a></td>\n",
              "      <td><img src=\"https://i.scdn.co/image/ab67616d0000b2734bc66095f8a70bc4e6593f4f\" width=\"50\" ></td>\n",
              "    </tr>\n",
              "    <tr>\n",
              "      <td>12</td>\n",
              "      <td>One Kiss (with Dua Lipa)</td>\n",
              "      <td>Calvin Harris</td>\n",
              "      <td>86</td>\n",
              "      <td><a href=\"https://p.scdn.co/mp3-preview/0c09da1fe6f1da091c05057835e6be2312e2dc18?cid=d7df2abc82674544a78cb3f39fd7d585\" >Listen on Spotify</a></td>\n",
              "      <td><img src=\"https://i.scdn.co/image/ab67616d0000b273d09f96d82310d4d77c14c108\" width=\"50\" ></td>\n",
              "    </tr>\n",
              "    <tr>\n",
              "      <td>13</td>\n",
              "      <td>Levitating (feat. DaBaby)</td>\n",
              "      <td>Dua Lipa</td>\n",
              "      <td>68</td>\n",
              "      <td><a href=\"https://p.scdn.co/mp3-preview/6af6db91dba9103cca41d6d5225f6fe120fcfcd3?cid=d7df2abc82674544a78cb3f39fd7d585\" >Listen on Spotify</a></td>\n",
              "      <td><img src=\"https://i.scdn.co/image/ab67616d0000b273ccdddb2e5349ea0608c3e016\" width=\"50\" ></td>\n",
              "    </tr>\n",
              "    <tr>\n",
              "      <td>14</td>\n",
              "      <td>Dance The Night</td>\n",
              "      <td>Dua Lipa</td>\n",
              "      <td>75</td>\n",
              "      <td><a href=\"https://p.scdn.co/mp3-preview/acaea048f50a3b30ca24b348c84a6047373baabb?cid=d7df2abc82674544a78cb3f39fd7d585\" >Listen on Spotify</a></td>\n",
              "      <td><img src=\"https://i.scdn.co/image/ab67616d0000b273d16ac0ec27653182d719ab36\" width=\"50\" ></td>\n",
              "    </tr>\n",
              "    <tr>\n",
              "      <td>15</td>\n",
              "      <td>Levitating (feat. DaBaby)</td>\n",
              "      <td>Dua Lipa</td>\n",
              "      <td>81</td>\n",
              "      <td><a href=\"https://p.scdn.co/mp3-preview/6af6db91dba9103cca41d6d5225f6fe120fcfcd3?cid=d7df2abc82674544a78cb3f39fd7d585\" >Listen on Spotify</a></td>\n",
              "      <td><img src=\"https://i.scdn.co/image/ab67616d0000b2732172b607853fa89cefa2beb4\" width=\"50\" ></td>\n",
              "    </tr>\n",
              "    <tr>\n",
              "      <td>16</td>\n",
              "      <td>Fever</td>\n",
              "      <td>Dua Lipa</td>\n",
              "      <td>66</td>\n",
              "      <td><a href=\"https://p.scdn.co/mp3-preview/8bc5e53c711b522a7009b3784263f17c75d1c0c8?cid=d7df2abc82674544a78cb3f39fd7d585\" >Listen on Spotify</a></td>\n",
              "      <td><img src=\"https://i.scdn.co/image/ab67616d0000b2732172b607853fa89cefa2beb4\" width=\"50\" ></td>\n",
              "    </tr>\n",
              "    <tr>\n",
              "      <td>17</td>\n",
              "      <td>Cold Heart - PNAU Remix</td>\n",
              "      <td>Elton John</td>\n",
              "      <td>84</td>\n",
              "      <td>None</td>\n",
              "      <td><img src=\"https://i.scdn.co/image/ab67616d0000b2739f5cce8304c42d3a5463fd23\" width=\"50\" ></td>\n",
              "    </tr>\n",
              "    <tr>\n",
              "      <td>18</td>\n",
              "      <td>Love Again</td>\n",
              "      <td>Dua Lipa</td>\n",
              "      <td>68</td>\n",
              "      <td><a href=\"https://p.scdn.co/mp3-preview/46e92047133c80aca29179d80a11a5decfb2b37f?cid=d7df2abc82674544a78cb3f39fd7d585\" >Listen on Spotify</a></td>\n",
              "      <td><img src=\"https://i.scdn.co/image/ab67616d0000b273ccdddb2e5349ea0608c3e016\" width=\"50\" ></td>\n",
              "    </tr>\n",
              "    <tr>\n",
              "      <td>19</td>\n",
              "      <td>Cool</td>\n",
              "      <td>Dua Lipa</td>\n",
              "      <td>58</td>\n",
              "      <td><a href=\"https://p.scdn.co/mp3-preview/57d9ce2a7de9f4f452df2b9e11e62cf56f4bdf79?cid=d7df2abc82674544a78cb3f39fd7d585\" >Listen on Spotify</a></td>\n",
              "      <td><img src=\"https://i.scdn.co/image/ab67616d0000b273ccdddb2e5349ea0608c3e016\" width=\"50\" ></td>\n",
              "    </tr>\n",
              "  </tbody>\n",
              "</table>"
            ]
          },
          "metadata": {}
        }
      ]
    }
  ]
}