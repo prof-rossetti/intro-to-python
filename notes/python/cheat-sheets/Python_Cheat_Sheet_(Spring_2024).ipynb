{
  "nbformat": 4,
  "nbformat_minor": 0,
  "metadata": {
    "colab": {
      "provenance": [],
      "toc_visible": true,
      "authorship_tag": "ABX9TyPPLEBsbPPNEiL5iKZNZaYA",
      "include_colab_link": true
    },
    "kernelspec": {
      "name": "python3",
      "display_name": "Python 3"
    },
    "language_info": {
      "name": "python"
    }
  },
  "cells": [
    {
      "cell_type": "markdown",
      "metadata": {
        "id": "view-in-github",
        "colab_type": "text"
      },
      "source": [
        "<a href=\"https://colab.research.google.com/github/prof-rossetti/intro-to-python/blob/main/notes/python/cheat-sheets/Python_Cheat_Sheet_(Spring_2024).ipynb\" target=\"_parent\"><img src=\"https://colab.research.google.com/assets/colab-badge.svg\" alt=\"Open In Colab\"/></a>"
      ]
    },
    {
      "cell_type": "markdown",
      "source": [
        "## Comments"
      ],
      "metadata": {
        "id": "v0JOPTtRZnlD"
      }
    },
    {
      "cell_type": "code",
      "execution_count": null,
      "metadata": {
        "id": "67mKJuNeZXq8"
      },
      "outputs": [],
      "source": [
        "# this is a comment"
      ]
    },
    {
      "cell_type": "code",
      "source": [
        "# adapted this code from url: ___________\n",
        "\n",
        "# student XYZ helped me with this section\n"
      ],
      "metadata": {
        "id": "EvzqhHG27yuO"
      },
      "execution_count": null,
      "outputs": []
    },
    {
      "cell_type": "code",
      "source": [
        "print(\"HELLO\") # this is still a comment"
      ],
      "metadata": {
        "colab": {
          "base_uri": "https://localhost:8080/"
        },
        "id": "nWpKwehQ75VC",
        "outputId": "ca6107b0-b3f1-46a9-dab7-248cfca358d4"
      },
      "execution_count": null,
      "outputs": [
        {
          "output_type": "stream",
          "name": "stdout",
          "text": [
            "HELLO\n"
          ]
        }
      ]
    },
    {
      "cell_type": "markdown",
      "source": [
        "## Variables"
      ],
      "metadata": {
        "id": "mKnAe26_Zp_H"
      }
    },
    {
      "cell_type": "markdown",
      "source": [
        "When storing variables, we use the equals sign (the assignment operator). Whatever is on the right of the equals sign is stored in the variable on the left:"
      ],
      "metadata": {
        "id": "jcOeApND1rSa"
      }
    },
    {
      "cell_type": "code",
      "source": [
        "x = 5\n",
        "print(x)"
      ],
      "metadata": {
        "colab": {
          "base_uri": "https://localhost:8080/"
        },
        "id": "bcZ0fYx9ZsqY",
        "outputId": "7accd52c-36ce-4ab5-9c56-9a4da86c67d5"
      },
      "execution_count": null,
      "outputs": [
        {
          "output_type": "stream",
          "name": "stdout",
          "text": [
            "5\n"
          ]
        }
      ]
    },
    {
      "cell_type": "code",
      "source": [],
      "metadata": {
        "id": "3N5FwjJo134d"
      },
      "execution_count": null,
      "outputs": []
    },
    {
      "cell_type": "code",
      "source": [],
      "metadata": {
        "id": "p6YXrwRw14bJ"
      },
      "execution_count": null,
      "outputs": []
    },
    {
      "cell_type": "markdown",
      "source": [
        "The name \"variable\" means that it's values can change over time:"
      ],
      "metadata": {
        "id": "fT4oqIk3zP_5"
      }
    },
    {
      "cell_type": "code",
      "source": [
        "x = 5\n",
        "print(x)\n",
        "\n",
        "x = 10 + 10\n",
        "print(x)\n",
        "\n",
        "x = x + 10\n",
        "print(x)"
      ],
      "metadata": {
        "id": "UAw3sNcdvAPg",
        "colab": {
          "base_uri": "https://localhost:8080/"
        },
        "outputId": "3680fa33-f937-4602-f3ef-1ca9fe531b72"
      },
      "execution_count": null,
      "outputs": [
        {
          "output_type": "stream",
          "name": "stdout",
          "text": [
            "5\n",
            "20\n",
            "30\n"
          ]
        }
      ]
    },
    {
      "cell_type": "code",
      "source": [],
      "metadata": {
        "id": "TJT8kz7vvAHb"
      },
      "execution_count": null,
      "outputs": []
    },
    {
      "cell_type": "code",
      "source": [],
      "metadata": {
        "id": "OB2X6vCmu_3s"
      },
      "execution_count": null,
      "outputs": []
    },
    {
      "cell_type": "markdown",
      "source": [
        "We like contextual variable names (use snake case, which is essentially all lowercase with underscores):"
      ],
      "metadata": {
        "id": "mcA7CO7QzSYq"
      }
    },
    {
      "cell_type": "code",
      "source": [
        "#s = 90\n",
        "#speed = 90\n",
        "# speed mph = 90 # NOT VALID\n",
        "\n",
        "speed_mph = 90\n"
      ],
      "metadata": {
        "id": "Kt1NoMJpzUWe"
      },
      "execution_count": null,
      "outputs": []
    },
    {
      "cell_type": "code",
      "source": [],
      "metadata": {
        "id": "Gdnuo7lUzUn1"
      },
      "execution_count": null,
      "outputs": []
    },
    {
      "cell_type": "markdown",
      "source": [
        "Sometimes you may see us use all capital letters for variables that are considered as \"constants\", in other words, if we don't expect their values to change. In some languages, this will prevent the values from being changed, but in Python it is just a convention (doesn't prevent value from being updated later). We'll often use constants for configuration variables and notebook secrets."
      ],
      "metadata": {
        "id": "aH_dsbGZ19If"
      }
    },
    {
      "cell_type": "code",
      "source": [
        "MY_CONSTANT = 3.14\n"
      ],
      "metadata": {
        "id": "Ih_oA-5l2GnM"
      },
      "execution_count": null,
      "outputs": []
    },
    {
      "cell_type": "code",
      "source": [],
      "metadata": {
        "id": "AQd9KVQd2HAl"
      },
      "execution_count": null,
      "outputs": []
    },
    {
      "cell_type": "markdown",
      "source": [
        "## Built-in Functions"
      ],
      "metadata": {
        "id": "Z0olg9uzZudg"
      }
    },
    {
      "cell_type": "markdown",
      "source": [
        "https://docs.python.org/3/library/functions.html"
      ],
      "metadata": {
        "id": "yI5f919vac_a"
      }
    },
    {
      "cell_type": "markdown",
      "source": [
        "### The `print` Function"
      ],
      "metadata": {
        "id": "Xo4V1R_JZwyr"
      }
    },
    {
      "cell_type": "markdown",
      "source": [
        "https://docs.python.org/3/library/functions.html#print"
      ],
      "metadata": {
        "id": "5MC708uOa7Tp"
      }
    },
    {
      "cell_type": "code",
      "source": [
        "# print # without trailing parens, we are just referencing the function as a variable\n",
        "\n",
        "# print()"
      ],
      "metadata": {
        "id": "ccC4bP22ABUp"
      },
      "execution_count": null,
      "outputs": []
    },
    {
      "cell_type": "code",
      "source": [
        "print(\"HELLO WORLD\")\n",
        "print(4)\n",
        "print(4 + 4)"
      ],
      "metadata": {
        "colab": {
          "base_uri": "https://localhost:8080/"
        },
        "id": "oMv9KWZSa74T",
        "outputId": "7accb22f-fc78-4776-c9f6-a3598e10e2b0"
      },
      "execution_count": null,
      "outputs": [
        {
          "output_type": "stream",
          "name": "stdout",
          "text": [
            "HELLO WORLD\n",
            "4\n",
            "8\n"
          ]
        }
      ]
    },
    {
      "cell_type": "markdown",
      "source": [
        "Printing vs displaying last thing in a cell:"
      ],
      "metadata": {
        "id": "p6EdxV51zJic"
      }
    },
    {
      "cell_type": "code",
      "source": [
        "x = 10\n",
        "print(x)\n",
        "\n",
        "y = 20\n",
        "print(y)"
      ],
      "metadata": {
        "id": "rm-86PBnzMBi",
        "colab": {
          "base_uri": "https://localhost:8080/"
        },
        "outputId": "e1a20597-1d7f-43fd-afb2-c3a3c581ca2d"
      },
      "execution_count": null,
      "outputs": [
        {
          "output_type": "stream",
          "name": "stdout",
          "text": [
            "10\n",
            "20\n"
          ]
        }
      ]
    },
    {
      "cell_type": "code",
      "source": [
        "x = 10\n",
        "print(x)\n",
        "\n",
        "y = 20\n",
        "y # in colab notebook, if we just mention some variable as the last thing in a cell, we'll see it"
      ],
      "metadata": {
        "id": "XkfHGo6wzMa5",
        "colab": {
          "base_uri": "https://localhost:8080/"
        },
        "outputId": "c42f7dec-52ac-4f3f-f416-6e555d263936"
      },
      "execution_count": null,
      "outputs": [
        {
          "output_type": "stream",
          "name": "stdout",
          "text": [
            "10\n"
          ]
        },
        {
          "output_type": "execute_result",
          "data": {
            "text/plain": [
              "20"
            ]
          },
          "metadata": {},
          "execution_count": 13
        }
      ]
    },
    {
      "cell_type": "code",
      "source": [
        "x = 10\n",
        "x\n",
        "\n",
        "y = 20\n",
        "print(y)"
      ],
      "metadata": {
        "id": "N9BMZXy2zMY8",
        "colab": {
          "base_uri": "https://localhost:8080/"
        },
        "outputId": "4b43206b-51e1-4d17-a590-f8bf05007aa4"
      },
      "execution_count": null,
      "outputs": [
        {
          "output_type": "stream",
          "name": "stdout",
          "text": [
            "20\n"
          ]
        }
      ]
    },
    {
      "cell_type": "code",
      "source": [],
      "metadata": {
        "id": "8zoywwW3zMWH"
      },
      "execution_count": null,
      "outputs": []
    },
    {
      "cell_type": "markdown",
      "source": [
        "Printing comma separated items:\n"
      ],
      "metadata": {
        "id": "MBj-TfK0zEfT"
      }
    },
    {
      "cell_type": "code",
      "source": [
        "print(4, 100, \"hello\", True)"
      ],
      "metadata": {
        "id": "3XRmKUobzHGq",
        "colab": {
          "base_uri": "https://localhost:8080/"
        },
        "outputId": "2916be0b-17d6-4dcc-e6df-fcaa6e94c4a5"
      },
      "execution_count": null,
      "outputs": [
        {
          "output_type": "stream",
          "name": "stdout",
          "text": [
            "4 100 hello True\n"
          ]
        }
      ]
    },
    {
      "cell_type": "code",
      "source": [],
      "metadata": {
        "id": "368pkbupzHi_"
      },
      "execution_count": null,
      "outputs": []
    },
    {
      "cell_type": "markdown",
      "source": [
        "### The `input` Function"
      ],
      "metadata": {
        "id": "DzztPZJYwlm0"
      }
    },
    {
      "cell_type": "markdown",
      "source": [
        "https://docs.python.org/3/library/functions.html#input"
      ],
      "metadata": {
        "id": "_GXCx1Z-w4RO"
      }
    },
    {
      "cell_type": "code",
      "source": [
        "print(\"TOP\")\n",
        "\n",
        "#input(\"Please input a icecream flavor: \")\n",
        "flavor = input(\"Please input a icecream flavor: \")\n",
        "\n",
        "print(flavor)\n",
        "print(\"BOTTOM\")"
      ],
      "metadata": {
        "colab": {
          "base_uri": "https://localhost:8080/"
        },
        "id": "J4Xl8ODlBndt",
        "outputId": "6c93584f-465e-4154-dedc-622679740c2f"
      },
      "execution_count": null,
      "outputs": [
        {
          "output_type": "stream",
          "name": "stdout",
          "text": [
            "TOP\n",
            "Please input a icecream flavor: coffee\n",
            "coffee\n",
            "BOTTOM\n"
          ]
        }
      ]
    },
    {
      "cell_type": "markdown",
      "source": [
        "It always returns a string, so we might have to convert the value as necessary:"
      ],
      "metadata": {
        "id": "RRjzgfg7Vv40"
      }
    },
    {
      "cell_type": "code",
      "source": [
        "temperature_c = input(\"Temp in Celcius? \")\n",
        "print(type(temperature_c))\n",
        "\n",
        "temperature_c = float(temperature_c)\n",
        "print(type(temperature_c))\n",
        "\n",
        "temperature_f = (temperature_c *(9/5)) + 32\n",
        "print(temperature_f)"
      ],
      "metadata": {
        "id": "pBEYY0pDDDET",
        "colab": {
          "base_uri": "https://localhost:8080/"
        },
        "outputId": "494410c3-bc8f-45d6-d8a3-8af3a17fa60c"
      },
      "execution_count": null,
      "outputs": [
        {
          "output_type": "stream",
          "name": "stdout",
          "text": [
            "Temp in Celcius? -270\n",
            "<class 'str'>\n",
            "<class 'float'>\n",
            "-454.0\n"
          ]
        }
      ]
    },
    {
      "cell_type": "markdown",
      "source": [
        "## Object Oriented Programming"
      ],
      "metadata": {
        "id": "klGtkIsY0Rbi"
      }
    },
    {
      "cell_type": "markdown",
      "source": [
        "\n",
        "Characteristics of an \"object\":\n",
        "\n",
        "  + Identity\n",
        "  + Attributes / Properties\n",
        "  + Behaviors / Methods\n",
        "\n",
        "\n",
        "![different color polos on the shelf](https://github.com/s2t2/lambda-ds-3-1/blob/master/img/polos.png?raw=true)"
      ],
      "metadata": {
        "id": "E6HQCO9W0fQf"
      }
    },
    {
      "cell_type": "markdown",
      "source": [
        "In functional programming, the function is the star of the show, and we pass object(s) in as parameters, like:\n",
        "  + `my_func(my_object)`\n",
        "  + `fold(polo)`\n",
        "  + `ship_to_store(polo, \"Boston, MA\")`\n",
        "\n",
        "In object oriented programming, the objects are the stars of the show, and we invoke methods and properties directly on them, like...\n",
        "\n",
        "**proprties / attributes** (no trailing parens):\n",
        "  + `my_object.some_property`\n",
        "  + `polo.color`\n",
        "  + `polo.size`\n",
        "\n",
        "and **methods** (like a function, requires trailing parens):\n",
        "  + `my_object.some_method()`\n",
        "  + `polo.fold()`\n",
        "  + `polo.ship_to_store(\"Boston, MA\")`\n"
      ],
      "metadata": {
        "id": "2qdXPIE50mOP"
      }
    },
    {
      "cell_type": "markdown",
      "source": [
        "We will return to create our own custom objects using classes, but for now we will consider the built-in objects represented by Python's basic datatypes."
      ],
      "metadata": {
        "id": "v3IrhdbS1EeG"
      }
    },
    {
      "cell_type": "markdown",
      "source": [
        "# Datatype Detection Functions"
      ],
      "metadata": {
        "id": "_ew-UTaAEIn5"
      }
    },
    {
      "cell_type": "markdown",
      "source": [
        "### The `type` Function"
      ],
      "metadata": {
        "id": "6P6QSSMUw1tn"
      }
    },
    {
      "cell_type": "markdown",
      "source": [
        "The `type` function tells us what datatype a given object is."
      ],
      "metadata": {
        "id": "GiNleRim-PFY"
      }
    },
    {
      "cell_type": "code",
      "source": [
        "print(type(100))\n",
        "print(type(4.5))\n",
        "print(type(100.0))"
      ],
      "metadata": {
        "colab": {
          "base_uri": "https://localhost:8080/"
        },
        "id": "bzTbgcMIEJ-O",
        "outputId": "6a60c6a2-3414-4ec9-8778-e82fde8e9f17"
      },
      "execution_count": null,
      "outputs": [
        {
          "output_type": "stream",
          "name": "stdout",
          "text": [
            "<class 'int'>\n",
            "<class 'float'>\n",
            "<class 'float'>\n"
          ]
        }
      ]
    },
    {
      "cell_type": "code",
      "source": [
        "print(type(\"HELLO\"))\n",
        "print(type(\"HELLO WORLD\"))"
      ],
      "metadata": {
        "colab": {
          "base_uri": "https://localhost:8080/"
        },
        "id": "nIR9n0-EEvp2",
        "outputId": "e78df8f9-2882-42ef-9317-5963989b206f"
      },
      "execution_count": null,
      "outputs": [
        {
          "output_type": "stream",
          "name": "stdout",
          "text": [
            "<class 'str'>\n",
            "<class 'str'>\n"
          ]
        }
      ]
    },
    {
      "cell_type": "code",
      "source": [
        "print(type(True))\n",
        "print(type(False))"
      ],
      "metadata": {
        "colab": {
          "base_uri": "https://localhost:8080/"
        },
        "id": "fD-zMFcXE5wk",
        "outputId": "e98fb636-6dbc-4d43-ab5f-db56b597ac97"
      },
      "execution_count": null,
      "outputs": [
        {
          "output_type": "stream",
          "name": "stdout",
          "text": [
            "<class 'bool'>\n",
            "<class 'bool'>\n"
          ]
        }
      ]
    },
    {
      "cell_type": "code",
      "source": [
        "#print(bool(0))\n",
        "#print(bool(1))"
      ],
      "metadata": {
        "id": "QWm8V5RlFTxj"
      },
      "execution_count": null,
      "outputs": []
    },
    {
      "cell_type": "code",
      "source": [
        "print(type([1, 6, 3, 100]))"
      ],
      "metadata": {
        "colab": {
          "base_uri": "https://localhost:8080/"
        },
        "id": "wcDXXq7oFz3_",
        "outputId": "8bb8b539-a9ed-44b3-ee41-ff7fc4976154"
      },
      "execution_count": null,
      "outputs": [
        {
          "output_type": "stream",
          "name": "stdout",
          "text": [
            "<class 'list'>\n"
          ]
        }
      ]
    },
    {
      "cell_type": "code",
      "source": [
        "print(type({\"first_name\": \"Michael\", \"last_name\": \"Jordan\"}))"
      ],
      "metadata": {
        "colab": {
          "base_uri": "https://localhost:8080/"
        },
        "id": "AXqqxDQ4GIHj",
        "outputId": "597c7f20-0a76-4196-938a-800de723754d"
      },
      "execution_count": null,
      "outputs": [
        {
          "output_type": "stream",
          "name": "stdout",
          "text": [
            "<class 'dict'>\n"
          ]
        }
      ]
    },
    {
      "cell_type": "markdown",
      "source": [
        "### The `isinstance` Function"
      ],
      "metadata": {
        "id": "7e0VPVCLy87C"
      }
    },
    {
      "cell_type": "markdown",
      "source": [
        "The `isinstance` function asks, is this object a member of the given datatype?"
      ],
      "metadata": {
        "id": "pOMWhC-kM_IX"
      }
    },
    {
      "cell_type": "code",
      "source": [
        "isinstance(100, int)"
      ],
      "metadata": {
        "id": "aJYIg7hf96pY",
        "colab": {
          "base_uri": "https://localhost:8080/"
        },
        "outputId": "533f287d-2dd9-42aa-ee36-96b7fc03f23e"
      },
      "execution_count": null,
      "outputs": [
        {
          "output_type": "execute_result",
          "data": {
            "text/plain": [
              "True"
            ]
          },
          "metadata": {},
          "execution_count": 6
        }
      ]
    },
    {
      "cell_type": "code",
      "source": [
        "isinstance(100, str)"
      ],
      "metadata": {
        "id": "LEqsODWV96nt",
        "colab": {
          "base_uri": "https://localhost:8080/"
        },
        "outputId": "214ae07c-97af-4813-82ae-dade1a4d4341"
      },
      "execution_count": null,
      "outputs": [
        {
          "output_type": "execute_result",
          "data": {
            "text/plain": [
              "False"
            ]
          },
          "metadata": {},
          "execution_count": 7
        }
      ]
    },
    {
      "cell_type": "code",
      "source": [],
      "metadata": {
        "id": "yKFT4aGI96ji"
      },
      "execution_count": null,
      "outputs": []
    },
    {
      "cell_type": "code",
      "source": [],
      "metadata": {
        "id": "ZJ1Prbl696ZO"
      },
      "execution_count": null,
      "outputs": []
    },
    {
      "cell_type": "markdown",
      "source": [
        "# Datatype Conversion Functions"
      ],
      "metadata": {
        "id": "XTBrbdcw_npJ"
      }
    },
    {
      "cell_type": "code",
      "source": [
        "int(\"2\")"
      ],
      "metadata": {
        "colab": {
          "base_uri": "https://localhost:8080/"
        },
        "id": "JIGmjhySJyTD",
        "outputId": "2bc791cc-78e8-4849-9e16-417535a5ddfc"
      },
      "execution_count": null,
      "outputs": [
        {
          "output_type": "execute_result",
          "data": {
            "text/plain": [
              "2"
            ]
          },
          "metadata": {},
          "execution_count": 8
        }
      ]
    },
    {
      "cell_type": "code",
      "source": [
        "float(\"2\")"
      ],
      "metadata": {
        "id": "QithpreIz_R8",
        "colab": {
          "base_uri": "https://localhost:8080/"
        },
        "outputId": "a4d11340-4431-4ba5-d43e-6f459cdf1846"
      },
      "execution_count": null,
      "outputs": [
        {
          "output_type": "execute_result",
          "data": {
            "text/plain": [
              "2.0"
            ]
          },
          "metadata": {},
          "execution_count": 9
        }
      ]
    },
    {
      "cell_type": "code",
      "source": [
        "str(2)"
      ],
      "metadata": {
        "id": "2h0soLnpz_my",
        "colab": {
          "base_uri": "https://localhost:8080/"
        },
        "outputId": "6ab499fe-057e-4514-e36f-191d0448b6aa"
      },
      "execution_count": null,
      "outputs": [
        {
          "output_type": "execute_result",
          "data": {
            "text/plain": [
              "'2'"
            ],
            "application/vnd.google.colaboratory.intrinsic+json": {
              "type": "string"
            }
          },
          "metadata": {},
          "execution_count": 10
        }
      ]
    },
    {
      "cell_type": "code",
      "source": [
        "bool(0)"
      ],
      "metadata": {
        "id": "QMFaEVLa_pmw",
        "colab": {
          "base_uri": "https://localhost:8080/"
        },
        "outputId": "fb40a507-af8f-4814-9cb6-431ffd3537c8"
      },
      "execution_count": null,
      "outputs": [
        {
          "output_type": "execute_result",
          "data": {
            "text/plain": [
              "False"
            ]
          },
          "metadata": {},
          "execution_count": 11
        }
      ]
    },
    {
      "cell_type": "markdown",
      "source": [
        "# Basic Datatypes"
      ],
      "metadata": {
        "id": "sPSpIn9gvI8W"
      }
    },
    {
      "cell_type": "markdown",
      "source": [
        "## Numbers"
      ],
      "metadata": {
        "id": "Qty3KFvyvKrB"
      }
    },
    {
      "cell_type": "markdown",
      "source": [
        "Math! (i.e. Arithmetic Operations)"
      ],
      "metadata": {
        "id": "Si0RDQKz-mh6"
      }
    },
    {
      "cell_type": "code",
      "source": [
        "print(2 + 10)\n",
        "print(2 - 10)\n",
        "print(2 * 10)\n",
        "print(2 / 10)"
      ],
      "metadata": {
        "id": "dYysjmYLvL-B",
        "colab": {
          "base_uri": "https://localhost:8080/"
        },
        "outputId": "61c084bf-5fb8-4cfb-cb86-a9a6a460e067"
      },
      "execution_count": null,
      "outputs": [
        {
          "output_type": "stream",
          "name": "stdout",
          "text": [
            "12\n",
            "-8\n",
            "20\n",
            "0.2\n"
          ]
        }
      ]
    },
    {
      "cell_type": "markdown",
      "source": [
        "Rounding numbers, with the `round` function:"
      ],
      "metadata": {
        "id": "-T5EsTH9-qXp"
      }
    },
    {
      "cell_type": "markdown",
      "source": [
        "https://docs.python.org/3/library/functions.html#round"
      ],
      "metadata": {
        "id": "ToG4RWb1Hk8J"
      }
    },
    {
      "cell_type": "code",
      "source": [
        "print(round(6.675555, 1))\n",
        "print(round(6.675555, 2))\n",
        "print(round(6.675555, 3))\n",
        "print(round(6.675555, 4))\n",
        "print(round(6.675555, 5))"
      ],
      "metadata": {
        "id": "nsPRA5G8vMNF",
        "colab": {
          "base_uri": "https://localhost:8080/"
        },
        "outputId": "a9f67103-512b-4512-a4f9-a7f1ad1ff347"
      },
      "execution_count": null,
      "outputs": [
        {
          "output_type": "stream",
          "name": "stdout",
          "text": [
            "6.7\n",
            "6.68\n",
            "6.676\n",
            "6.6756\n",
            "6.67556\n"
          ]
        }
      ]
    },
    {
      "cell_type": "markdown",
      "source": [
        "**Variables Challenge**: \"The International Space Station periodically sends back temperature readings from space, and recently sent back a report that the temperature was around -270 degrees Celsius. Write Python code to model the Celsius temperature concept in a variable, and then convert this Celsius temperature to Fahrenheit, and print the results.\"\n",
        "\n"
      ],
      "metadata": {
        "id": "CG-wXyAzBHq9"
      }
    },
    {
      "cell_type": "code",
      "source": [
        "temperature_c = -270\n",
        "temperature_f = (temperature_c *(9/5)) + 32\n",
        "print(temperature_f)"
      ],
      "metadata": {
        "id": "JYgcLCdIvMhQ",
        "colab": {
          "base_uri": "https://localhost:8080/"
        },
        "outputId": "537fef01-d13e-4e04-bd82-fe6ec9fc247d"
      },
      "execution_count": null,
      "outputs": [
        {
          "output_type": "stream",
          "name": "stdout",
          "text": [
            "-454.0\n"
          ]
        }
      ]
    },
    {
      "cell_type": "markdown",
      "source": [
        "## Strings"
      ],
      "metadata": {
        "id": "UoQuD5i6vNFj"
      }
    },
    {
      "cell_type": "markdown",
      "source": [
        "Single quotes or double quotes on the extremities."
      ],
      "metadata": {
        "id": "cp6TYFLb-5Br"
      }
    },
    {
      "cell_type": "code",
      "source": [
        "message = 'HELLO WORLD'\n",
        "print(message)"
      ],
      "metadata": {
        "colab": {
          "base_uri": "https://localhost:8080/"
        },
        "id": "FLWNRx8nIUex",
        "outputId": "21b273f3-d9f0-480a-84db-5041ff1787de"
      },
      "execution_count": null,
      "outputs": [
        {
          "output_type": "stream",
          "name": "stdout",
          "text": [
            "HELLO WORLD\n"
          ]
        }
      ]
    },
    {
      "cell_type": "code",
      "source": [
        "message = \"HELLO WORLD\"\n",
        "print(message)"
      ],
      "metadata": {
        "id": "JDrJiN5kvZej",
        "colab": {
          "base_uri": "https://localhost:8080/"
        },
        "outputId": "ec9a257b-7c22-4840-9af6-3d0281160b11"
      },
      "execution_count": null,
      "outputs": [
        {
          "output_type": "stream",
          "name": "stdout",
          "text": [
            "HELLO WORLD\n"
          ]
        }
      ]
    },
    {
      "cell_type": "markdown",
      "source": [
        "Probably prefer double quotes so we can use contractions:"
      ],
      "metadata": {
        "id": "_A6ChXl--_QA"
      }
    },
    {
      "cell_type": "code",
      "source": [
        "message = \"Don't do that\"\n",
        "print(message)"
      ],
      "metadata": {
        "id": "zD5z9VgXvZ70",
        "colab": {
          "base_uri": "https://localhost:8080/"
        },
        "outputId": "29fb44bb-d6fe-4b7c-ed8c-e2864fa217f1"
      },
      "execution_count": null,
      "outputs": [
        {
          "output_type": "stream",
          "name": "stdout",
          "text": [
            "Don't do that\n"
          ]
        }
      ]
    },
    {
      "cell_type": "code",
      "source": [
        "#message = 'Don't do that' # NOT VALID\n",
        "#print(message)"
      ],
      "metadata": {
        "id": "pgHwIB40IelK"
      },
      "execution_count": null,
      "outputs": []
    },
    {
      "cell_type": "markdown",
      "source": [
        "Multiline strings:"
      ],
      "metadata": {
        "id": "ZKE3EOCtzkK2"
      }
    },
    {
      "cell_type": "code",
      "source": [
        "message = \"\"\"\n",
        "This is a menu for our game.\n",
        "\n",
        "Do this\n",
        "\n",
        "  + 1 __________\n",
        "  + 2 ____________\n",
        "  + 3 _____________\n",
        "\n",
        "\"\"\"\n",
        "print(message)"
      ],
      "metadata": {
        "id": "-Du9sm8xvZ5Q",
        "colab": {
          "base_uri": "https://localhost:8080/"
        },
        "outputId": "dfb89c84-41f8-43b4-8925-c03471e357fb"
      },
      "execution_count": null,
      "outputs": [
        {
          "output_type": "stream",
          "name": "stdout",
          "text": [
            "\n",
            "This is a menu for our game.\n",
            "\n",
            "Do this\n",
            "\n",
            "  + 1 __________\n",
            "  + 2 ____________\n",
            "  + 3 _____________\n",
            "\n",
            "\n"
          ]
        }
      ]
    },
    {
      "cell_type": "markdown",
      "source": [
        "Concatenation (i.e. joining two strings together):"
      ],
      "metadata": {
        "id": "QXdZqSV0zxoV"
      }
    },
    {
      "cell_type": "code",
      "source": [
        "message = \"HELLO\" + \"WORLD\"\n",
        "print(message)"
      ],
      "metadata": {
        "id": "-jOod32Dz0WK",
        "colab": {
          "base_uri": "https://localhost:8080/"
        },
        "outputId": "d02deece-36ba-4c68-b767-12288865ca96"
      },
      "execution_count": null,
      "outputs": [
        {
          "output_type": "stream",
          "name": "stdout",
          "text": [
            "HELLOWORLD\n"
          ]
        }
      ]
    },
    {
      "cell_type": "code",
      "source": [
        "message = \"HELLO \" + \"WORLD\"\n",
        "print(message)"
      ],
      "metadata": {
        "id": "idwXPM4Cz0nL",
        "colab": {
          "base_uri": "https://localhost:8080/"
        },
        "outputId": "49888ffe-93a7-46a3-9f0f-6a02f5f2f7b6"
      },
      "execution_count": null,
      "outputs": [
        {
          "output_type": "stream",
          "name": "stdout",
          "text": [
            "HELLO WORLD\n"
          ]
        }
      ]
    },
    {
      "cell_type": "code",
      "source": [
        "message = \"HELLO\" + \" WORLD\"\n",
        "print(message)"
      ],
      "metadata": {
        "colab": {
          "base_uri": "https://localhost:8080/"
        },
        "id": "h17I2BUcJLmt",
        "outputId": "44ad73a2-ad8a-40be-8bba-67c5e1779065"
      },
      "execution_count": null,
      "outputs": [
        {
          "output_type": "stream",
          "name": "stdout",
          "text": [
            "HELLO WORLD\n"
          ]
        }
      ]
    },
    {
      "cell_type": "code",
      "source": [
        "message = \"HELLO\" + \" \" + \"WORLD\"\n",
        "print(message)"
      ],
      "metadata": {
        "colab": {
          "base_uri": "https://localhost:8080/"
        },
        "id": "-VlZxVf3JLf3",
        "outputId": "9674f556-3e5d-49e1-8745-ba9d10aefc91"
      },
      "execution_count": null,
      "outputs": [
        {
          "output_type": "stream",
          "name": "stdout",
          "text": [
            "HELLO WORLD\n"
          ]
        }
      ]
    },
    {
      "cell_type": "markdown",
      "source": [
        "Why datatypes matter:"
      ],
      "metadata": {
        "id": "qLD36xxcz9l5"
      }
    },
    {
      "cell_type": "code",
      "source": [
        "print(2+2)\n",
        "print(\"2\"+\"2\")"
      ],
      "metadata": {
        "id": "ueZOAD3fz-6k",
        "colab": {
          "base_uri": "https://localhost:8080/"
        },
        "outputId": "b1a7448d-c353-401c-87fb-a8c0f3512301"
      },
      "execution_count": null,
      "outputs": [
        {
          "output_type": "stream",
          "name": "stdout",
          "text": [
            "4\n",
            "22\n"
          ]
        }
      ]
    },
    {
      "cell_type": "code",
      "source": [
        "#print(2 + \"2\") # NOT VALID"
      ],
      "metadata": {
        "id": "2guyswPaJ5A7"
      },
      "execution_count": null,
      "outputs": []
    },
    {
      "cell_type": "code",
      "source": [
        "price = 4.5\n",
        "print(\"PRICE:\", price)\n",
        "print(\"PRICE: $\", price)\n",
        "#print(\"PRICE: $\" + price) # NOT VALID. CAN'T CONCAT STRRING WITH NUMERIC DATA!\n",
        "print(\"PRICE: $\" + str(price))"
      ],
      "metadata": {
        "colab": {
          "base_uri": "https://localhost:8080/"
        },
        "id": "b4PuWqdkAHni",
        "outputId": "77818b38-c903-4797-ca55-b2d3cdf5c223"
      },
      "execution_count": null,
      "outputs": [
        {
          "output_type": "stream",
          "name": "stdout",
          "text": [
            "PRICE: 4.5\n",
            "PRICE: $ 4.5\n",
            "PRICE: $4.5\n"
          ]
        }
      ]
    },
    {
      "cell_type": "markdown",
      "source": [
        "Format strings:"
      ],
      "metadata": {
        "id": "CbDQvi1Hz7O8"
      }
    },
    {
      "cell_type": "code",
      "source": [
        "#price = 4.5\n",
        "#print(\"PRICE:\", price)\n",
        "#print(\"PRICE: $\", price)"
      ],
      "metadata": {
        "id": "AgVaifZoz8bF"
      },
      "execution_count": null,
      "outputs": []
    },
    {
      "cell_type": "code",
      "source": [
        "price = 4.5\n",
        "print(\"PRICE: ${price}\") # NOT WHAT WE WANT. REMEMBER THE PRECEDING F\n",
        "print(f\"PRICE: ${price}\")"
      ],
      "metadata": {
        "id": "CXdcVwzRz8q9",
        "colab": {
          "base_uri": "https://localhost:8080/"
        },
        "outputId": "76ad4ae1-7148-48a3-f697-3c0227fd77bb"
      },
      "execution_count": null,
      "outputs": [
        {
          "output_type": "stream",
          "name": "stdout",
          "text": [
            "PRICE: ${price}\n",
            "PRICE: $4.5\n"
          ]
        }
      ]
    },
    {
      "cell_type": "markdown",
      "source": [
        "String case manipulation:"
      ],
      "metadata": {
        "id": "zbVfuNn2zmOE"
      }
    },
    {
      "cell_type": "code",
      "source": [
        "\"hello WorlD\".upper()"
      ],
      "metadata": {
        "id": "Ssr6uGfevZzu",
        "colab": {
          "base_uri": "https://localhost:8080/",
          "height": 35
        },
        "outputId": "2e4efb0e-7709-4a57-ce10-a5c7bd1479d4"
      },
      "execution_count": null,
      "outputs": [
        {
          "output_type": "execute_result",
          "data": {
            "text/plain": [
              "'HELLO WORLD'"
            ],
            "application/vnd.google.colaboratory.intrinsic+json": {
              "type": "string"
            }
          },
          "metadata": {},
          "execution_count": 19
        }
      ]
    },
    {
      "cell_type": "code",
      "source": [
        "\"hello WorlD\".lower()"
      ],
      "metadata": {
        "id": "FpUcvPKhvZxK",
        "colab": {
          "base_uri": "https://localhost:8080/",
          "height": 35
        },
        "outputId": "e19ff9b4-679a-42e6-87e4-e53e49a80413"
      },
      "execution_count": null,
      "outputs": [
        {
          "output_type": "execute_result",
          "data": {
            "text/plain": [
              "'hello world'"
            ],
            "application/vnd.google.colaboratory.intrinsic+json": {
              "type": "string"
            }
          },
          "metadata": {},
          "execution_count": 20
        }
      ]
    },
    {
      "cell_type": "code",
      "source": [
        "\"hello WorlD\".title()"
      ],
      "metadata": {
        "colab": {
          "base_uri": "https://localhost:8080/",
          "height": 35
        },
        "id": "RbW97QOBLNL9",
        "outputId": "e699204a-500b-4fec-a12a-60ae4a6a29bf"
      },
      "execution_count": null,
      "outputs": [
        {
          "output_type": "execute_result",
          "data": {
            "text/plain": [
              "'Hello World'"
            ],
            "application/vnd.google.colaboratory.intrinsic+json": {
              "type": "string"
            }
          },
          "metadata": {},
          "execution_count": 21
        }
      ]
    },
    {
      "cell_type": "markdown",
      "source": [
        "Substring replacement:"
      ],
      "metadata": {
        "id": "C00Hk9E50F8I"
      }
    },
    {
      "cell_type": "code",
      "source": [
        "\"hello WorlD\".replace(\"hello\", \"goodbye\")"
      ],
      "metadata": {
        "id": "Rh2yq3RR0IPc",
        "colab": {
          "base_uri": "https://localhost:8080/",
          "height": 35
        },
        "outputId": "8bd849b5-328f-43e1-c682-9bed5548c523"
      },
      "execution_count": null,
      "outputs": [
        {
          "output_type": "execute_result",
          "data": {
            "text/plain": [
              "'goodbye WorlD'"
            ],
            "application/vnd.google.colaboratory.intrinsic+json": {
              "type": "string"
            }
          },
          "metadata": {},
          "execution_count": 23
        }
      ]
    },
    {
      "cell_type": "markdown",
      "source": [
        "Counting the number of characters:"
      ],
      "metadata": {
        "id": "QBJnPk7jSEbn"
      }
    },
    {
      "cell_type": "code",
      "source": [
        "len(\"hello WorlD\")"
      ],
      "metadata": {
        "colab": {
          "base_uri": "https://localhost:8080/"
        },
        "id": "hRNNz5RkSGWv",
        "outputId": "6c582a3f-b5d6-400f-8e94-a161e04fe4f7"
      },
      "execution_count": null,
      "outputs": [
        {
          "output_type": "execute_result",
          "data": {
            "text/plain": [
              "11"
            ]
          },
          "metadata": {},
          "execution_count": 25
        }
      ]
    },
    {
      "cell_type": "markdown",
      "source": [
        "String splitting:"
      ],
      "metadata": {
        "id": "i4eHxufH0ETX"
      }
    },
    {
      "cell_type": "code",
      "source": [
        "\"hello WorlD\".split(\" \")"
      ],
      "metadata": {
        "id": "36LYoB1f0Fqf",
        "colab": {
          "base_uri": "https://localhost:8080/"
        },
        "outputId": "82605e4b-0976-4107-cb81-89feb9b96022"
      },
      "execution_count": null,
      "outputs": [
        {
          "output_type": "execute_result",
          "data": {
            "text/plain": [
              "['hello', 'WorlD']"
            ]
          },
          "metadata": {},
          "execution_count": 24
        }
      ]
    },
    {
      "cell_type": "markdown",
      "source": [
        "Substring checking:"
      ],
      "metadata": {
        "id": "YVWfuK5PzrBu"
      }
    },
    {
      "cell_type": "code",
      "source": [
        "\"h\" in \"hello WorlD\""
      ],
      "metadata": {
        "id": "n9pHdwiezsk-",
        "colab": {
          "base_uri": "https://localhost:8080/"
        },
        "outputId": "617cd042-8134-4716-821b-8c625ab62de6"
      },
      "execution_count": null,
      "outputs": [
        {
          "output_type": "execute_result",
          "data": {
            "text/plain": [
              "True"
            ]
          },
          "metadata": {},
          "execution_count": 28
        }
      ]
    },
    {
      "cell_type": "code",
      "source": [
        "\"h\" not in \"hello World\""
      ],
      "metadata": {
        "colab": {
          "base_uri": "https://localhost:8080/"
        },
        "id": "5cz2xXeSSuAj",
        "outputId": "89ce44eb-9209-44b1-bb41-c38138aa0e40"
      },
      "execution_count": null,
      "outputs": [
        {
          "output_type": "execute_result",
          "data": {
            "text/plain": [
              "False"
            ]
          },
          "metadata": {},
          "execution_count": 29
        }
      ]
    },
    {
      "cell_type": "markdown",
      "source": [
        "String slicing:"
      ],
      "metadata": {
        "id": "6yVTNfgfzo6G"
      }
    },
    {
      "cell_type": "code",
      "source": [
        "\"2024-01-01\"[:4]"
      ],
      "metadata": {
        "colab": {
          "base_uri": "https://localhost:8080/",
          "height": 35
        },
        "id": "NBgn3OgfSZV_",
        "outputId": "9c15f9b1-83c4-4a5e-fdf4-aaf43ce99ccd"
      },
      "execution_count": null,
      "outputs": [
        {
          "output_type": "execute_result",
          "data": {
            "text/plain": [
              "'2024'"
            ],
            "application/vnd.google.colaboratory.intrinsic+json": {
              "type": "string"
            }
          },
          "metadata": {},
          "execution_count": 27
        }
      ]
    },
    {
      "cell_type": "code",
      "source": [
        "\"hello WorlD\"[0:5]"
      ],
      "metadata": {
        "id": "jOtPL_GdvZuq",
        "colab": {
          "base_uri": "https://localhost:8080/",
          "height": 35
        },
        "outputId": "b02d1269-49bf-4bcf-8cfd-a2ceae0f08b9"
      },
      "execution_count": null,
      "outputs": [
        {
          "output_type": "execute_result",
          "data": {
            "text/plain": [
              "'hello'"
            ],
            "application/vnd.google.colaboratory.intrinsic+json": {
              "type": "string"
            }
          },
          "metadata": {},
          "execution_count": 26
        }
      ]
    },
    {
      "cell_type": "code",
      "source": [
        "\"hello WorlD\"[5:]"
      ],
      "metadata": {
        "colab": {
          "base_uri": "https://localhost:8080/",
          "height": 35
        },
        "id": "W0SQFQ4lLv5y",
        "outputId": "082b49aa-2e47-4054-b117-17bea5b59a96"
      },
      "execution_count": null,
      "outputs": [
        {
          "output_type": "execute_result",
          "data": {
            "text/plain": [
              "' WorlD'"
            ],
            "application/vnd.google.colaboratory.intrinsic+json": {
              "type": "string"
            }
          },
          "metadata": {},
          "execution_count": 71
        }
      ]
    },
    {
      "cell_type": "markdown",
      "source": [
        "**Strings Challenge**\n",
        "\n",
        "What will we see when we run the following code?\n",
        "\n",
        "```python\n",
        "\"Programming is FUN!!\".lower().replace(\"FUN\", \"awesome\")\n",
        "```\n",
        "\n",
        "Answer: ___________\n",
        "\n",
        "\n"
      ],
      "metadata": {
        "id": "wTs983TcAtEq"
      }
    },
    {
      "cell_type": "code",
      "source": [
        "\"Programming is FUN!!\".lower().replace(\"FUN\", \"awesome\")"
      ],
      "metadata": {
        "id": "TJ6vX5LmA1vK",
        "colab": {
          "base_uri": "https://localhost:8080/",
          "height": 35
        },
        "outputId": "9fef96a3-4abb-4dc9-d65b-583a27cd8790"
      },
      "execution_count": null,
      "outputs": [
        {
          "output_type": "execute_result",
          "data": {
            "text/plain": [
              "'programming is fun!!'"
            ],
            "application/vnd.google.colaboratory.intrinsic+json": {
              "type": "string"
            }
          },
          "metadata": {},
          "execution_count": 30
        }
      ]
    },
    {
      "cell_type": "markdown",
      "source": [
        "## Booleans"
      ],
      "metadata": {
        "id": "YqXfHxOWvavJ"
      }
    },
    {
      "cell_type": "code",
      "source": [
        "True == False"
      ],
      "metadata": {
        "id": "pEuo_pH6vb4-",
        "colab": {
          "base_uri": "https://localhost:8080/"
        },
        "outputId": "8a29b820-b555-4838-8677-302796f7b3d8"
      },
      "execution_count": null,
      "outputs": [
        {
          "output_type": "execute_result",
          "data": {
            "text/plain": [
              "False"
            ]
          },
          "metadata": {},
          "execution_count": 41
        }
      ]
    },
    {
      "cell_type": "code",
      "source": [],
      "metadata": {
        "id": "OrlYXuSfvcSu"
      },
      "execution_count": null,
      "outputs": []
    },
    {
      "cell_type": "code",
      "source": [],
      "metadata": {
        "id": "UcJNDpsJvcPa"
      },
      "execution_count": null,
      "outputs": []
    },
    {
      "cell_type": "code",
      "source": [],
      "metadata": {
        "id": "HYCI67rmHg7l"
      },
      "execution_count": null,
      "outputs": []
    },
    {
      "cell_type": "markdown",
      "source": [
        "**Booleans and Conditional Logic Challenge**:\n",
        "\n",
        "You are writing a program to provide instructions based on whether or not it is raining out, and whether or not the user owns an umbrella.\n",
        "\n",
        "Model the concept of whether or not its raining, using a variable called `is_raining`, and assign it a boolean value of choice.\n",
        "\n",
        "Model the concept of whether or not the user owns an umbrella as `owns_umbrella`, and assign it a boolean value.\n",
        "\n",
        "In the event it is **not raining**, the program should display a message like \"Skies are clear\".\n",
        "\n",
        "In the event it **is raining**, we want to instruct the user to \"Buy an umbrella\", or \"Bring your umbrella\", as applicable, depending on whether or not they own an umbrella.\"\n",
        "\n",
        "\n",
        "\n",
        "Run the program using different combinations of boolean values for `is_raining` and `owns_umbrella` to ensure the program works in different situations."
      ],
      "metadata": {
        "id": "m8R97BeDFeRl"
      }
    },
    {
      "cell_type": "code",
      "source": [
        "is_raining = True\n",
        "owns_umbrella = True\n",
        "\n",
        "if is_raining == False:\n",
        "    print(\"Skies are clear\")\n",
        "elif is_raining == True and owns_umbrella == False:\n",
        "    print(\"Buy umbrella\")\n",
        "else:\n",
        "    print(\"Bring umbrella...it's raining!\")\n",
        "\n",
        "print(\"BOTTOM\")"
      ],
      "metadata": {
        "id": "-lFntYGgvcM4",
        "colab": {
          "base_uri": "https://localhost:8080/"
        },
        "outputId": "44f06a5b-e9cb-4965-ee19-82325e70ddd2"
      },
      "execution_count": null,
      "outputs": [
        {
          "output_type": "stream",
          "name": "stdout",
          "text": [
            "Bring umbrella...it's raining!\n",
            "BOTTOM\n"
          ]
        }
      ]
    },
    {
      "cell_type": "code",
      "source": [
        "is_raining = True\n",
        "owns_umbrella = False\n",
        "\n",
        "#if is_raining == True:\n",
        "if is_raining:\n",
        "\n",
        "    # if owns_umbrella == True:\n",
        "    if owns_umbrella:\n",
        "        print(\"Bring your umbrella!\")\n",
        "    else:\n",
        "        print(\"Buy an umbrella!\")\n",
        "else:\n",
        "    print(\"Skies are clear!\")"
      ],
      "metadata": {
        "id": "7dSmuDbaG6GT",
        "colab": {
          "base_uri": "https://localhost:8080/"
        },
        "outputId": "711300b0-686d-4e52-cf4b-c23bb3eabc26"
      },
      "execution_count": null,
      "outputs": [
        {
          "output_type": "stream",
          "name": "stdout",
          "text": [
            "Buy an umbrella!\n"
          ]
        }
      ]
    },
    {
      "cell_type": "code",
      "source": [
        "is_raining = True\n",
        "owns_umbrella = False\n",
        "\n",
        "if is_raining == True:\n",
        "    # IT IS RAINING\n",
        "    if owns_umbrella == True:\n",
        "        print(\"Bring your umbrella!\")\n",
        "    else:\n",
        "        print(\"Buy an umbrella!\")\n",
        "    # DOWN HERE\n",
        "    print(\"we are still in the world where it is raining\")\n",
        "else:\n",
        "    print(\"Skies are clear!\")\n",
        "\n",
        "print(\"BOTTOM\")"
      ],
      "metadata": {
        "colab": {
          "base_uri": "https://localhost:8080/"
        },
        "id": "VLdi5UXiGCXb",
        "outputId": "74df67a7-11a6-40e5-f2fe-948217237439"
      },
      "execution_count": null,
      "outputs": [
        {
          "output_type": "stream",
          "name": "stdout",
          "text": [
            "Buy an umbrella!\n",
            "we are still in the world where it is raining\n",
            "BOTTOM\n"
          ]
        }
      ]
    },
    {
      "cell_type": "markdown",
      "source": [
        "# Python Operators"
      ],
      "metadata": {
        "id": "oDCRicRw1S5c"
      }
    },
    {
      "cell_type": "markdown",
      "source": [
        "https://www.w3schools.com/python/python_operators.asp"
      ],
      "metadata": {
        "id": "6-OaSRnk1Xml"
      }
    },
    {
      "cell_type": "markdown",
      "source": [
        "Comparison Operators"
      ],
      "metadata": {
        "id": "c5s7DcntXkEV"
      }
    },
    {
      "cell_type": "code",
      "source": [
        "5 < 10"
      ],
      "metadata": {
        "id": "WtPxpmZ41Uyo",
        "colab": {
          "base_uri": "https://localhost:8080/"
        },
        "outputId": "f1493f37-226f-42a8-c315-3db75ed33ef7"
      },
      "execution_count": null,
      "outputs": [
        {
          "output_type": "execute_result",
          "data": {
            "text/plain": [
              "True"
            ]
          },
          "metadata": {},
          "execution_count": 35
        }
      ]
    },
    {
      "cell_type": "code",
      "source": [
        "5 >= 10"
      ],
      "metadata": {
        "colab": {
          "base_uri": "https://localhost:8080/"
        },
        "id": "TAvcung_XnU8",
        "outputId": "78b7f205-63ca-45cc-bc43-2240a7dc1261"
      },
      "execution_count": null,
      "outputs": [
        {
          "output_type": "execute_result",
          "data": {
            "text/plain": [
              "False"
            ]
          },
          "metadata": {},
          "execution_count": 36
        }
      ]
    },
    {
      "cell_type": "code",
      "source": [
        "5 == 5"
      ],
      "metadata": {
        "colab": {
          "base_uri": "https://localhost:8080/"
        },
        "id": "PCCBQ5wPXrgu",
        "outputId": "226cf928-2a4c-4e21-93c3-b097110ef86e"
      },
      "execution_count": null,
      "outputs": [
        {
          "output_type": "execute_result",
          "data": {
            "text/plain": [
              "True"
            ]
          },
          "metadata": {},
          "execution_count": 37
        }
      ]
    },
    {
      "cell_type": "code",
      "source": [
        "5 != 5"
      ],
      "metadata": {
        "colab": {
          "base_uri": "https://localhost:8080/"
        },
        "id": "xjXWRi3qX-Ck",
        "outputId": "668c3ed8-4ebb-4385-bb88-b94a86674843"
      },
      "execution_count": null,
      "outputs": [
        {
          "output_type": "execute_result",
          "data": {
            "text/plain": [
              "False"
            ]
          },
          "metadata": {},
          "execution_count": 40
        }
      ]
    },
    {
      "cell_type": "code",
      "source": [
        "5 == 10"
      ],
      "metadata": {
        "colab": {
          "base_uri": "https://localhost:8080/"
        },
        "id": "v3_GCeaPXuP6",
        "outputId": "538a41f4-a5fa-4232-e798-039f9431ca88"
      },
      "execution_count": null,
      "outputs": [
        {
          "output_type": "execute_result",
          "data": {
            "text/plain": [
              "False"
            ]
          },
          "metadata": {},
          "execution_count": 38
        }
      ]
    },
    {
      "cell_type": "code",
      "source": [
        "x = 5\n",
        "\n",
        "x == 10"
      ],
      "metadata": {
        "colab": {
          "base_uri": "https://localhost:8080/"
        },
        "id": "otn5c1xcX2q5",
        "outputId": "cb3b9804-e173-44c0-d7cb-f4249bc8fcbd"
      },
      "execution_count": null,
      "outputs": [
        {
          "output_type": "execute_result",
          "data": {
            "text/plain": [
              "False"
            ]
          },
          "metadata": {},
          "execution_count": 39
        }
      ]
    },
    {
      "cell_type": "markdown",
      "source": [
        "Logical Operators (for compound expressions):"
      ],
      "metadata": {
        "id": "_qGNfb05YPtv"
      }
    },
    {
      "cell_type": "code",
      "source": [
        "x = 5\n",
        "\n",
        "x > 0 and x > 2"
      ],
      "metadata": {
        "colab": {
          "base_uri": "https://localhost:8080/"
        },
        "id": "agC6KMVgYSyi",
        "outputId": "7123bf8e-654c-4353-eac2-44b6e957c9df"
      },
      "execution_count": null,
      "outputs": [
        {
          "output_type": "execute_result",
          "data": {
            "text/plain": [
              "True"
            ]
          },
          "metadata": {},
          "execution_count": 44
        }
      ]
    },
    {
      "cell_type": "code",
      "source": [
        "x = 5\n",
        "\n",
        "x > 0 and x < 2"
      ],
      "metadata": {
        "colab": {
          "base_uri": "https://localhost:8080/"
        },
        "id": "wylwDufAZKtx",
        "outputId": "d63b6472-f53e-4cd4-ec3b-0682d69032ec"
      },
      "execution_count": null,
      "outputs": [
        {
          "output_type": "execute_result",
          "data": {
            "text/plain": [
              "False"
            ]
          },
          "metadata": {},
          "execution_count": 45
        }
      ]
    },
    {
      "cell_type": "code",
      "source": [
        "x = 5\n",
        "\n",
        "x > 0 or x < 2"
      ],
      "metadata": {
        "colab": {
          "base_uri": "https://localhost:8080/"
        },
        "id": "V0vp2EpyZUpo",
        "outputId": "317b4e96-b0a4-4056-c489-dff01a7cf0ce"
      },
      "execution_count": null,
      "outputs": [
        {
          "output_type": "execute_result",
          "data": {
            "text/plain": [
              "True"
            ]
          },
          "metadata": {},
          "execution_count": 46
        }
      ]
    },
    {
      "cell_type": "markdown",
      "source": [
        "\"Truthiness\""
      ],
      "metadata": {
        "id": "p5Rx0005DV1k"
      }
    },
    {
      "cell_type": "code",
      "source": [
        "False or True"
      ],
      "metadata": {
        "colab": {
          "base_uri": "https://localhost:8080/"
        },
        "id": "PMxtavzoDY7H",
        "outputId": "381101d2-94ba-4810-b0b6-889d09a8cd99"
      },
      "execution_count": null,
      "outputs": [
        {
          "output_type": "execute_result",
          "data": {
            "text/plain": [
              "True"
            ]
          },
          "metadata": {},
          "execution_count": 1
        }
      ]
    },
    {
      "cell_type": "markdown",
      "source": [
        "\"or\" also essentially gives us the first truthy value (empty things are falsy)"
      ],
      "metadata": {
        "id": "ewsI07HiD5aO"
      }
    },
    {
      "cell_type": "code",
      "source": [
        "0 or \"\" or [] or False or None or 4"
      ],
      "metadata": {
        "colab": {
          "base_uri": "https://localhost:8080/"
        },
        "id": "2Fud4wLkDlkP",
        "outputId": "44a87ffe-2336-4c6d-b823-f77ace1deafe"
      },
      "execution_count": null,
      "outputs": [
        {
          "output_type": "execute_result",
          "data": {
            "text/plain": [
              "4"
            ]
          },
          "metadata": {},
          "execution_count": 7
        }
      ]
    },
    {
      "cell_type": "code",
      "source": [
        "False or 5"
      ],
      "metadata": {
        "colab": {
          "base_uri": "https://localhost:8080/"
        },
        "id": "G8rqmN0qDaxp",
        "outputId": "3d23dde4-6704-4432-cfa8-62d27a4267fc"
      },
      "execution_count": null,
      "outputs": [
        {
          "output_type": "execute_result",
          "data": {
            "text/plain": [
              "5"
            ]
          },
          "metadata": {},
          "execution_count": 2
        }
      ]
    },
    {
      "cell_type": "code",
      "source": [
        "None or False or 4 or True"
      ],
      "metadata": {
        "colab": {
          "base_uri": "https://localhost:8080/"
        },
        "id": "53eIf6C9DXMm",
        "outputId": "3284bb00-c819-4dcc-ca14-f3cdceb9751a"
      },
      "execution_count": null,
      "outputs": [
        {
          "output_type": "execute_result",
          "data": {
            "text/plain": [
              "4"
            ]
          },
          "metadata": {},
          "execution_count": 5
        }
      ]
    },
    {
      "cell_type": "code",
      "source": [
        "#value or \"default\""
      ],
      "metadata": {
        "id": "a2-7NqnoDuNT"
      },
      "execution_count": null,
      "outputs": []
    },
    {
      "cell_type": "markdown",
      "source": [
        "# Conditional Logic"
      ],
      "metadata": {
        "id": "1hOhtOZDZ5GO"
      }
    },
    {
      "cell_type": "code",
      "source": [
        "print(\"TOP\")\n",
        "\n",
        "x = 5\n",
        "\n",
        "if x > 0:\n",
        "    print(\"x is greater than 0\")\n",
        "    # nothing else inside the if clause\n",
        "\n",
        "\n",
        "print(\"BOTTOM\")"
      ],
      "metadata": {
        "colab": {
          "base_uri": "https://localhost:8080/"
        },
        "id": "mcFK9IB0Z7mU",
        "outputId": "a4601353-130e-47f3-d828-023863931246"
      },
      "execution_count": null,
      "outputs": [
        {
          "output_type": "stream",
          "name": "stdout",
          "text": [
            "TOP\n",
            "x is greater than 0\n",
            "BOTTOM\n"
          ]
        }
      ]
    },
    {
      "cell_type": "code",
      "source": [
        "print(\"TOP\")\n",
        "\n",
        "x = 5\n",
        "\n",
        "if x < 0:\n",
        "    print(\"x is less than 0\")\n",
        "    # nothing else inside the if clause\n",
        "\n",
        "\n",
        "print(\"BOTTOM\")"
      ],
      "metadata": {
        "colab": {
          "base_uri": "https://localhost:8080/"
        },
        "id": "nYfDn1-_an02",
        "outputId": "b4ae7acd-2d3b-42ef-ab2e-7224a405848f"
      },
      "execution_count": null,
      "outputs": [
        {
          "output_type": "stream",
          "name": "stdout",
          "text": [
            "TOP\n",
            "BOTTOM\n"
          ]
        }
      ]
    },
    {
      "cell_type": "code",
      "source": [
        "print(\"TOP\")\n",
        "\n",
        "x = 5\n",
        "\n",
        "if x < 0:\n",
        "    print(\"x is less than 0\")\n",
        "    # nothing else inside the if clause\n",
        "else:\n",
        "    print(\"NOPE\")\n",
        "\n",
        "print(\"BOTTOM\")"
      ],
      "metadata": {
        "colab": {
          "base_uri": "https://localhost:8080/"
        },
        "id": "e0wtSRAfazHb",
        "outputId": "04b49f7c-3a68-45f1-fd10-1ed4da1d8fd7"
      },
      "execution_count": null,
      "outputs": [
        {
          "output_type": "stream",
          "name": "stdout",
          "text": [
            "TOP\n",
            "NOPE\n",
            "BOTTOM\n"
          ]
        }
      ]
    },
    {
      "cell_type": "code",
      "source": [
        "print(\"TOP\")\n",
        "\n",
        "x = 5\n",
        "\n",
        "if x < 0:\n",
        "    print(\"x is less than 0\")\n",
        "    # nothing else inside the if clause\n",
        "elif x < 2:\n",
        "    print(\"x is less than 2\")\n",
        "    # nothing else inside the elif clause\n",
        "elif x < 10:\n",
        "    print(\"x is less than 10\")\n",
        "    # nothing else inside the elif clause\n",
        "elif x < 100:\n",
        "    print(\"x is less than 100\")\n",
        "    # nothing else inside the elif clause\n",
        "else:\n",
        "    print(\"NOPE\")\n",
        "\n",
        "print(\"BOTTOM\")"
      ],
      "metadata": {
        "colab": {
          "base_uri": "https://localhost:8080/"
        },
        "id": "-5Lyut4xbXS4",
        "outputId": "4b772455-659f-43a7-b900-9e23fee34be0"
      },
      "execution_count": null,
      "outputs": [
        {
          "output_type": "stream",
          "name": "stdout",
          "text": [
            "TOP\n",
            "x is less than 10\n",
            "BOTTOM\n"
          ]
        }
      ]
    },
    {
      "cell_type": "code",
      "source": [],
      "metadata": {
        "id": "BYIS-xV9NsZV"
      },
      "execution_count": null,
      "outputs": []
    },
    {
      "cell_type": "code",
      "source": [],
      "metadata": {
        "id": "nB8YM7reNsV9"
      },
      "execution_count": null,
      "outputs": []
    },
    {
      "cell_type": "markdown",
      "source": [
        "# Validating User Inputs"
      ],
      "metadata": {
        "id": "wib1cQkpcktn"
      }
    },
    {
      "cell_type": "code",
      "source": [
        "\n",
        "user_choice = input(\"Please enter your selection ('Rock', 'Paper', 'Scissors'): \")\n",
        "print(user_choice)\n",
        "\n",
        "# valid options are only 'Rock', 'Paper', or 'Scissors'\n",
        "# how to know if they messed up or not\n",
        "# if they messed up, let's tell them to run the cell and try again\n",
        "# otherwise we'll say \"good job, valid input\"\n",
        "\n",
        "if user_choice == \"rock\":\n",
        "    print(\"VALID\")\n",
        "elif user_choice == \"paper\":\n",
        "    print(\"VALID\")\n",
        "elif user_choice == \"scissors\":\n",
        "    print(\"VALID\")\n",
        "else:\n",
        "    print(\"INVALID\")\n"
      ],
      "metadata": {
        "colab": {
          "base_uri": "https://localhost:8080/"
        },
        "id": "0o23y3-wcmV8",
        "outputId": "3ecf62bc-429c-48c2-d9ba-f8ae568f8859"
      },
      "execution_count": null,
      "outputs": [
        {
          "output_type": "stream",
          "name": "stdout",
          "text": [
            "Please enter your selection ('Rock', 'Paper', 'Scissors'): rock\n",
            "rock\n",
            "VALID\n"
          ]
        }
      ]
    },
    {
      "cell_type": "code",
      "source": [
        "\n",
        "user_choice = input(\"Please enter your selection ('Rock', 'Paper', 'Scissors'): \")\n",
        "print(user_choice)\n",
        "\n",
        "# valid options are only 'Rock', 'Paper', or 'Scissors'\n",
        "# how to know if they messed up or not\n",
        "# if they messed up, let's tell them to run the cell and try again\n",
        "# otherwise we'll say \"good job, valid input\"\n",
        "\n",
        "if user_choice == \"rock\" or user_choice == \"paper\" or user_choice == \"scissors\":\n",
        "    print(\"VALID\")\n",
        "else:\n",
        "    print(\"INVALID\")\n"
      ],
      "metadata": {
        "colab": {
          "base_uri": "https://localhost:8080/"
        },
        "id": "9EAn2xdvd86c",
        "outputId": "571ed521-69af-4fcd-ec98-76c5b880e7a8"
      },
      "execution_count": null,
      "outputs": [
        {
          "output_type": "stream",
          "name": "stdout",
          "text": [
            "Please enter your selection ('Rock', 'Paper', 'Scissors'): rock\n",
            "rock\n",
            "VALID\n"
          ]
        }
      ]
    },
    {
      "cell_type": "markdown",
      "source": [
        "todo: nested conditionals!"
      ],
      "metadata": {
        "id": "iZe2PqO4ifyO"
      }
    },
    {
      "cell_type": "code",
      "source": [],
      "metadata": {
        "id": "Yott4iZtihir"
      },
      "execution_count": null,
      "outputs": []
    },
    {
      "cell_type": "markdown",
      "source": [
        "# Form Inputs in Colab"
      ],
      "metadata": {
        "id": "FmEVFVYhJPB0"
      }
    },
    {
      "cell_type": "code",
      "source": [
        "#symbol = input(\"Please input a stock symbol (e.g. 'MSFT'): \")\n",
        "#print(symbol)"
      ],
      "metadata": {
        "colab": {
          "base_uri": "https://localhost:8080/"
        },
        "id": "JyJAC5A-JpuA",
        "outputId": "b8b42bf6-7537-4ce9-f54a-cb96a58ba4e1"
      },
      "execution_count": null,
      "outputs": [
        {
          "output_type": "stream",
          "name": "stdout",
          "text": [
            "Please input a stock symbol (e.g. 'MSFT'): GOOGL\n",
            "GOOGL\n"
          ]
        }
      ]
    },
    {
      "cell_type": "code",
      "source": [
        "#flav = input(\"Please input your fav ice cream flavor: \")\n",
        "#print(flav)"
      ],
      "metadata": {
        "colab": {
          "base_uri": "https://localhost:8080/"
        },
        "id": "E4tM2uXKJWgw",
        "outputId": "94a8e1dd-35d4-4ef1-cb3e-f8fe107aa741"
      },
      "execution_count": null,
      "outputs": [
        {
          "output_type": "stream",
          "name": "stdout",
          "text": [
            "Please input your fav ice cream flavor: choc\n",
            "choc\n"
          ]
        }
      ]
    },
    {
      "cell_type": "markdown",
      "source": [
        "Choose a weekday from the dropdown menu then run the cell:"
      ],
      "metadata": {
        "id": "czeTeGbwLPVY"
      }
    },
    {
      "cell_type": "code",
      "source": [
        "weekday = \"friday\"  # @param ['monday', 'tuesday', 'wednesday', 'thursday', 'friday']\n",
        "\n",
        "print(weekday)"
      ],
      "metadata": {
        "colab": {
          "base_uri": "https://localhost:8080/"
        },
        "id": "mPENFBjxKMIx",
        "outputId": "f2a6240b-1e56-4d27-b0b7-e9e605442b0f"
      },
      "execution_count": null,
      "outputs": [
        {
          "output_type": "stream",
          "name": "stdout",
          "text": [
            "friday\n"
          ]
        }
      ]
    },
    {
      "cell_type": "markdown",
      "source": [
        "# Modules and Imports"
      ],
      "metadata": {
        "id": "rC1hkJtQNEw5"
      }
    },
    {
      "cell_type": "markdown",
      "source": [
        "https://docs.python.org/3/library/"
      ],
      "metadata": {
        "id": "ejBUFqPONGkg"
      }
    },
    {
      "cell_type": "markdown",
      "source": [
        "## The `math` Module"
      ],
      "metadata": {
        "id": "qQcOwfymNIOc"
      }
    },
    {
      "cell_type": "markdown",
      "source": [
        "https://docs.python.org/3/library/math.html"
      ],
      "metadata": {
        "id": "TQecOwtINKam"
      }
    },
    {
      "cell_type": "code",
      "source": [
        "# print(pi) # NameError: name 'pi' is not defined"
      ],
      "metadata": {
        "id": "BPP6oELFNKum"
      },
      "execution_count": null,
      "outputs": []
    },
    {
      "cell_type": "code",
      "source": [
        "# strategy 1: import the entire module, and access vars and functions via namespace\n",
        "import math\n",
        "\n",
        "print(math.pi)"
      ],
      "metadata": {
        "colab": {
          "base_uri": "https://localhost:8080/"
        },
        "id": "wV2auEn6NaCk",
        "outputId": "bfc039f1-17b4-45e2-b440-9fbd43a0da25"
      },
      "execution_count": null,
      "outputs": [
        {
          "output_type": "stream",
          "name": "stdout",
          "text": [
            "3.141592653589793\n"
          ]
        }
      ]
    },
    {
      "cell_type": "code",
      "source": [
        "# strategy 2: from the module import only the vars and functions we care about, and access them from the global scope\n",
        "from math import pi, ceil\n",
        "\n",
        "print(pi)"
      ],
      "metadata": {
        "colab": {
          "base_uri": "https://localhost:8080/"
        },
        "id": "q35TqZc1NmNU",
        "outputId": "c492a5f9-b034-4631-8241-476a610aea46"
      },
      "execution_count": null,
      "outputs": [
        {
          "output_type": "stream",
          "name": "stdout",
          "text": [
            "3.141592653589793\n"
          ]
        }
      ]
    },
    {
      "cell_type": "code",
      "source": [
        "ceil(pi)"
      ],
      "metadata": {
        "colab": {
          "base_uri": "https://localhost:8080/"
        },
        "id": "3NoOPa-vNz0a",
        "outputId": "ed29f209-a404-45cc-cc04-44105de48be1"
      },
      "execution_count": null,
      "outputs": [
        {
          "output_type": "execute_result",
          "data": {
            "text/plain": [
              "4"
            ]
          },
          "metadata": {},
          "execution_count": 28
        }
      ]
    },
    {
      "cell_type": "markdown",
      "source": [
        "## The `os` Module"
      ],
      "metadata": {
        "id": "8cECQzvdTA4d"
      }
    },
    {
      "cell_type": "markdown",
      "source": [
        "https://github.com/prof-rossetti/intro-to-python/blob/main/notes/python/modules/os.md"
      ],
      "metadata": {
        "id": "PjNdWDlxTZ3p"
      }
    },
    {
      "cell_type": "code",
      "source": [
        "#os.listdir(\"/path/to/Desktop\")\n",
        "\n",
        "import os\n",
        "\n",
        "os.listdir(\"sample_data\")"
      ],
      "metadata": {
        "colab": {
          "base_uri": "https://localhost:8080/"
        },
        "id": "3SAp3ThSTJqp",
        "outputId": "d0da196d-0c10-48a8-e13b-5231c372b5ef"
      },
      "execution_count": null,
      "outputs": [
        {
          "output_type": "execute_result",
          "data": {
            "text/plain": [
              "['README.md',\n",
              " 'anscombe.json',\n",
              " 'california_housing_train.csv',\n",
              " 'mnist_train_small.csv',\n",
              " 'mnist_test.csv',\n",
              " 'california_housing_test.csv']"
            ]
          },
          "metadata": {},
          "execution_count": 9
        }
      ]
    },
    {
      "cell_type": "markdown",
      "source": [
        "## The `datetime` Module"
      ],
      "metadata": {
        "id": "AKv8MwRGTD_F"
      }
    },
    {
      "cell_type": "markdown",
      "source": [
        "https://github.com/prof-rossetti/intro-to-python/blob/main/notes/python/modules/datetime.md"
      ],
      "metadata": {
        "id": "qyKH6jfgUGLD"
      }
    },
    {
      "cell_type": "code",
      "source": [
        "from datetime import date, datetime\n",
        "\n",
        "today = date.today()\n",
        "print(type(today)) #> <class 'datetime.date'>\n",
        "print(today) #> 2021-03-08"
      ],
      "metadata": {
        "colab": {
          "base_uri": "https://localhost:8080/"
        },
        "id": "YmARRdV0TFOW",
        "outputId": "f06b66ad-36bf-4d37-d8a6-c1f8c2500e0b"
      },
      "execution_count": null,
      "outputs": [
        {
          "output_type": "stream",
          "name": "stdout",
          "text": [
            "<class 'datetime.date'>\n",
            "2024-01-31\n"
          ]
        }
      ]
    },
    {
      "cell_type": "code",
      "source": [
        "now = datetime.now()\n",
        "print(type(now)) #> <class 'datetime.datetime'>\n",
        "print(now) #> 2021-03-08 18:26:47.259366"
      ],
      "metadata": {
        "colab": {
          "base_uri": "https://localhost:8080/"
        },
        "id": "VQP-mVRAUgYt",
        "outputId": "c82ec632-5a8d-4efe-e078-d330051cd600"
      },
      "execution_count": null,
      "outputs": [
        {
          "output_type": "stream",
          "name": "stdout",
          "text": [
            "<class 'datetime.datetime'>\n",
            "2024-01-31 16:21:17.321568\n"
          ]
        }
      ]
    },
    {
      "cell_type": "markdown",
      "source": [
        "## The `random` Module"
      ],
      "metadata": {
        "id": "yCDnPgP8TF4I"
      }
    },
    {
      "cell_type": "markdown",
      "source": [
        "https://github.com/prof-rossetti/intro-to-python/blob/main/notes/python/modules/random.md"
      ],
      "metadata": {
        "id": "_ssY3TjHWltf"
      }
    },
    {
      "cell_type": "code",
      "source": [
        "import random\n",
        "\n",
        "random.random() #> 0.6357193086559119"
      ],
      "metadata": {
        "colab": {
          "base_uri": "https://localhost:8080/"
        },
        "id": "9x3jD00fTJAF",
        "outputId": "1f3b8621-cebf-463b-dd6b-4ea948ea875d"
      },
      "execution_count": null,
      "outputs": [
        {
          "output_type": "execute_result",
          "data": {
            "text/plain": [
              "0.08756837570117215"
            ]
          },
          "metadata": {},
          "execution_count": 18
        }
      ]
    },
    {
      "cell_type": "code",
      "source": [
        "random.randint(1, 100) #> 43"
      ],
      "metadata": {
        "colab": {
          "base_uri": "https://localhost:8080/"
        },
        "id": "-1u4hmSqWmrg",
        "outputId": "84ab0e0b-d0c6-434b-a6a7-de51e9a23240"
      },
      "execution_count": null,
      "outputs": [
        {
          "output_type": "execute_result",
          "data": {
            "text/plain": [
              "16"
            ]
          },
          "metadata": {},
          "execution_count": 19
        }
      ]
    },
    {
      "cell_type": "code",
      "source": [
        "flavor = random.choice([\"van\", \"choc\", \"straw\"])\n",
        "print(\"FLAVOR:\", flavor)"
      ],
      "metadata": {
        "colab": {
          "base_uri": "https://localhost:8080/"
        },
        "id": "YgEuHS7jW0xs",
        "outputId": "0286cd16-93ac-4b4d-d6f4-f2eb3d043b64"
      },
      "execution_count": null,
      "outputs": [
        {
          "output_type": "stream",
          "name": "stdout",
          "text": [
            "FLAVOR: straw\n"
          ]
        }
      ]
    },
    {
      "cell_type": "markdown",
      "source": [
        "## The `statistics` Module"
      ],
      "metadata": {
        "id": "BRViAF20THKt"
      }
    },
    {
      "cell_type": "markdown",
      "source": [
        "https://github.com/prof-rossetti/intro-to-python/blob/main/notes/python/modules/statistics.md"
      ],
      "metadata": {
        "id": "cclB3yQUVKT6"
      }
    },
    {
      "cell_type": "code",
      "source": [
        "import statistics\n",
        "\n",
        "arr = [1, 2, 2, 3, 4, 6, 7, 8, 9]\n",
        "\n",
        "print(statistics.mean(arr)) #> 4.666666666666667\n",
        "print(statistics.median(arr)) #> 4\n",
        "print(statistics.mode(arr)) #> 2"
      ],
      "metadata": {
        "colab": {
          "base_uri": "https://localhost:8080/"
        },
        "id": "zKnC9vvDTIfM",
        "outputId": "f7fe2fdc-9d4c-4602-e04c-d1b2931f8b05"
      },
      "execution_count": null,
      "outputs": [
        {
          "output_type": "stream",
          "name": "stdout",
          "text": [
            "4.666666666666667\n",
            "4\n",
            "2\n"
          ]
        }
      ]
    },
    {
      "cell_type": "code",
      "source": [
        "import statistics as st\n",
        "\n",
        "arr = [1, 2, 2, 3, 4, 6, 7, 8, 9]\n",
        "\n",
        "print(st.mean(arr)) #> 4.666666666666667\n",
        "print(st.median(arr)) #> 4\n",
        "print(st.mode(arr)) #> 2"
      ],
      "metadata": {
        "colab": {
          "base_uri": "https://localhost:8080/"
        },
        "id": "TW3ZO29ZWTOB",
        "outputId": "2cf4c98c-8902-48ca-cb3b-c6d629dc3c26"
      },
      "execution_count": null,
      "outputs": [
        {
          "output_type": "stream",
          "name": "stdout",
          "text": [
            "4.666666666666667\n",
            "4\n",
            "2\n"
          ]
        }
      ]
    },
    {
      "cell_type": "code",
      "source": [
        "from statistics import mean, median, mode\n",
        "\n",
        "arr = [1, 2, 2, 3, 4, 6, 7, 8, 9]\n",
        "\n",
        "print(mean(arr)) #> 4.666666666666667\n",
        "print(median(arr)) #> 4\n",
        "print(mode(arr)) #> 2"
      ],
      "metadata": {
        "colab": {
          "base_uri": "https://localhost:8080/"
        },
        "id": "R78J5WTXVrT4",
        "outputId": "c48c8bd5-9a9e-4d24-d9c5-8ef01c3a8629"
      },
      "execution_count": null,
      "outputs": [
        {
          "output_type": "stream",
          "name": "stdout",
          "text": [
            "4.666666666666667\n",
            "4\n",
            "2\n"
          ]
        }
      ]
    },
    {
      "cell_type": "markdown",
      "source": [
        "# While Loops, Counters, and Accumulators"
      ],
      "metadata": {
        "id": "ifaFvQblHOjQ"
      }
    },
    {
      "cell_type": "markdown",
      "source": [
        "Two kinds of loops (while, and for).\n",
        "\n",
        "Loops allow us to execute some code over and over again, until some stopping condition is met.\n",
        "\n",
        "With a while loop, we specify the condition for when the loop should stop.\n",
        "\n",
        "With a for loop, we will loop through all the items in a given list and the loop will stop once there are no more items.\n"
      ],
      "metadata": {
        "id": "7YTaDgCkYMcn"
      }
    },
    {
      "cell_type": "code",
      "source": [
        "# while CONDITION:\n",
        "#     # do something\n",
        "\n",
        "# INFINITE LOOP (KIND OF PROBLEMATIC WILL NEVER STOP)\n",
        "#while True:\n",
        "#    print(\"-------\")\n",
        "#    print(\"Hello\")\n"
      ],
      "metadata": {
        "id": "MTvk7H9pHR3k"
      },
      "execution_count": null,
      "outputs": []
    },
    {
      "cell_type": "code",
      "source": [
        "while True:\n",
        "    print(\"-------\")\n",
        "    print(\"Hello\")\n",
        "\n",
        "    break\n",
        "\n",
        "\n",
        "print(\"BOTTOM\")"
      ],
      "metadata": {
        "colab": {
          "base_uri": "https://localhost:8080/"
        },
        "id": "bfmz31NBZYEC",
        "outputId": "04e471be-3ddc-43a7-b183-a7fabeb699e8"
      },
      "execution_count": null,
      "outputs": [
        {
          "output_type": "stream",
          "name": "stdout",
          "text": [
            "-------\n",
            "Hello\n",
            "BOTTOM\n"
          ]
        }
      ]
    },
    {
      "cell_type": "code",
      "source": [
        "counter = 0\n",
        "\n",
        "while True:\n",
        "    print(\"-------\")\n",
        "    print(counter, \"Hello\")\n",
        "\n",
        "    break\n",
        "\n",
        "\n",
        "print(\"BOTTOM\")"
      ],
      "metadata": {
        "colab": {
          "base_uri": "https://localhost:8080/"
        },
        "id": "TdooY619HSS7",
        "outputId": "01e891ed-72bf-40c9-e352-12329f0fa1bd"
      },
      "execution_count": null,
      "outputs": [
        {
          "output_type": "stream",
          "name": "stdout",
          "text": [
            "-------\n",
            "0 Hello\n",
            "BOTTOM\n"
          ]
        }
      ]
    },
    {
      "cell_type": "code",
      "source": [
        "x = 5\n",
        "print(x)\n",
        "\n",
        "x = x + 10\n",
        "print(x)\n",
        "\n",
        "x += 10\n",
        "print(x)"
      ],
      "metadata": {
        "colab": {
          "base_uri": "https://localhost:8080/"
        },
        "id": "D24otWTZaxJg",
        "outputId": "a4dbd3a0-3034-4b70-ed0e-dc8bae15598c"
      },
      "execution_count": null,
      "outputs": [
        {
          "output_type": "stream",
          "name": "stdout",
          "text": [
            "5\n",
            "15\n",
            "25\n"
          ]
        }
      ]
    },
    {
      "cell_type": "code",
      "source": [
        "counter = 0\n",
        "\n",
        "while True:\n",
        "    print(\"-------\")\n",
        "    print(counter, \"Hello\")\n",
        "\n",
        "    #counter = counter + 1\n",
        "    counter += 1\n",
        "    if counter >= 5:\n",
        "        break\n",
        "\n",
        "print(\"BOTTOM\")"
      ],
      "metadata": {
        "colab": {
          "base_uri": "https://localhost:8080/"
        },
        "id": "Wnjz9cSlaHB7",
        "outputId": "6370148a-7871-46dc-964b-f00f239b3952"
      },
      "execution_count": null,
      "outputs": [
        {
          "output_type": "stream",
          "name": "stdout",
          "text": [
            "-------\n",
            "0 Hello\n",
            "-------\n",
            "1 Hello\n",
            "-------\n",
            "2 Hello\n",
            "-------\n",
            "3 Hello\n",
            "-------\n",
            "4 Hello\n",
            "BOTTOM\n"
          ]
        }
      ]
    },
    {
      "cell_type": "code",
      "source": [
        "counter = 0\n",
        "\n",
        "while counter < 5:\n",
        "    print(\"-------\")\n",
        "    print(counter, \"Hello\")\n",
        "    counter += 1\n",
        "    # nothing else inside the scope of the loop\n",
        "\n",
        "print(\"BOTTOM\")"
      ],
      "metadata": {
        "colab": {
          "base_uri": "https://localhost:8080/"
        },
        "id": "ykb-WTlZbMEM",
        "outputId": "3f54abfd-3a48-4d88-8aa0-fb8585e0e21d"
      },
      "execution_count": null,
      "outputs": [
        {
          "output_type": "stream",
          "name": "stdout",
          "text": [
            "-------\n",
            "0 Hello\n",
            "-------\n",
            "1 Hello\n",
            "-------\n",
            "2 Hello\n",
            "-------\n",
            "3 Hello\n",
            "-------\n",
            "4 Hello\n",
            "BOTTOM\n"
          ]
        }
      ]
    },
    {
      "cell_type": "code",
      "source": [
        "i = 0\n",
        "\n",
        "while i < 5:\n",
        "    print(\"-------\")\n",
        "    print(i, \"Hello\")\n",
        "    i += 1\n",
        "    # nothing else inside the scope of the loop\n",
        "\n",
        "print(\"BOTTOM\")"
      ],
      "metadata": {
        "colab": {
          "base_uri": "https://localhost:8080/"
        },
        "id": "h7e3IlGubxYL",
        "outputId": "ec7f3a8d-a085-4021-a7de-1402df44aeb1"
      },
      "execution_count": null,
      "outputs": [
        {
          "output_type": "stream",
          "name": "stdout",
          "text": [
            "-------\n",
            "0 Hello\n",
            "-------\n",
            "1 Hello\n",
            "-------\n",
            "2 Hello\n",
            "-------\n",
            "3 Hello\n",
            "-------\n",
            "4 Hello\n",
            "BOTTOM\n"
          ]
        }
      ]
    },
    {
      "cell_type": "code",
      "source": [
        "message = \"whatever\"\n",
        "\n",
        "while message != \"HELLO\":\n",
        "    print(message)\n",
        "\n",
        "    message = input(\"Please input your message\")\n",
        "    print(\"-------\")\n",
        "    # nothing else inside the scope of the loop\n",
        "\n",
        "print(\"BOTTOM\")"
      ],
      "metadata": {
        "colab": {
          "base_uri": "https://localhost:8080/"
        },
        "id": "DmqLusufb-cx",
        "outputId": "0115c15e-eaf5-4896-81bb-ebdc6fb77b96"
      },
      "execution_count": null,
      "outputs": [
        {
          "output_type": "stream",
          "name": "stdout",
          "text": [
            "whatever\n",
            "Please input your messageyep\n",
            "-------\n",
            "yep\n",
            "Please input your messagehello world\n",
            "-------\n",
            "hello world\n",
            "Please input your messageHELLO\n",
            "-------\n",
            "BOTTOM\n"
          ]
        }
      ]
    },
    {
      "cell_type": "markdown",
      "source": [
        "**Counters and Accumulators Challenge**\n",
        "\n",
        "You have saved \\$150,000 in the bank. You decide to invest this money in the stock market. The average rate of return to expect from the stock market is around 8% per year. Under these conditions, how many years will it take your money to grow to $1M? Answer in terms of full years (i.e. round up to the nearest full year, as necessary).\n",
        "\n",
        "> HINT: use a loop and some basic math (shouldn't need any fancy financial formulae)"
      ],
      "metadata": {
        "id": "VvhsBVtWIorF"
      }
    },
    {
      "cell_type": "code",
      "source": [
        "money = 150_000\n",
        "year = 0\n",
        "\n",
        "while money < 1_000_000:\n",
        "    money = money * 1.08 # ACCUMULATOR\n",
        "    year = year + 1 # COUNTER\n",
        "    #print(\"money:\", round(money,2))\n",
        "    #print(\"year:\", year)\n",
        "    print(year, round(money,2))\n",
        "\n",
        "\n",
        "print(\"\")\n",
        "print(\"You have at least $1 million by the end of year\", year)"
      ],
      "metadata": {
        "colab": {
          "base_uri": "https://localhost:8080/"
        },
        "id": "Cs5lPLMDHSj4",
        "outputId": "d3538a18-d3f2-4c5a-ee05-07bf6763fa3b"
      },
      "execution_count": null,
      "outputs": [
        {
          "output_type": "stream",
          "name": "stdout",
          "text": [
            "1 162000.0\n",
            "2 174960.0\n",
            "3 188956.8\n",
            "4 204073.34\n",
            "5 220399.21\n",
            "6 238031.15\n",
            "7 257073.64\n",
            "8 277639.53\n",
            "9 299850.69\n",
            "10 323838.75\n",
            "11 349745.85\n",
            "12 377725.52\n",
            "13 407943.56\n",
            "14 440579.04\n",
            "15 475825.37\n",
            "16 513891.4\n",
            "17 555002.71\n",
            "18 599402.92\n",
            "19 647355.16\n",
            "20 699143.57\n",
            "21 755075.06\n",
            "22 815481.06\n",
            "23 880719.55\n",
            "24 951177.11\n",
            "25 1027271.28\n",
            "\n",
            "You have at least $1 million by the end of year 25\n"
          ]
        }
      ]
    },
    {
      "cell_type": "code",
      "source": [],
      "metadata": {
        "id": "zt8fniXmdSmd"
      },
      "execution_count": null,
      "outputs": []
    },
    {
      "cell_type": "markdown",
      "source": [
        "# Custom Functions"
      ],
      "metadata": {
        "id": "jO90zDLMHS0L"
      }
    },
    {
      "cell_type": "markdown",
      "source": [
        "See also, Custom Functions Exercise (link in Syllabus, with walkthrough videos).\n",
        "\n",
        "Review concepts like parameters, and return values."
      ],
      "metadata": {
        "id": "sLSg7C4ILpoe"
      }
    },
    {
      "cell_type": "code",
      "source": [
        "# FUNCTION DEFINITION:\n",
        "\n",
        "def say_hello():\n",
        "    print(\"----------\")\n",
        "    print(\"Hello\")\n",
        "\n",
        "\n",
        "# outside the scope / not part of the function\n",
        "print(\"BOTTOM\")"
      ],
      "metadata": {
        "colab": {
          "base_uri": "https://localhost:8080/"
        },
        "id": "7jNOc_xVHUS1",
        "outputId": "55b25c42-5e4a-4776-c731-a4d0d3d66b39"
      },
      "execution_count": null,
      "outputs": [
        {
          "output_type": "stream",
          "name": "stdout",
          "text": [
            "BOTTOM\n"
          ]
        }
      ]
    },
    {
      "cell_type": "code",
      "source": [
        "# FUNCTION INVOCATIONS:\n"
      ],
      "metadata": {
        "id": "I8Xt1t0nDu2z"
      },
      "execution_count": null,
      "outputs": []
    },
    {
      "cell_type": "code",
      "source": [
        "say_hello()"
      ],
      "metadata": {
        "colab": {
          "base_uri": "https://localhost:8080/"
        },
        "id": "-lW78sx5MVkN",
        "outputId": "f3ada67c-cc6f-4daf-ec4a-0b5cc55a1e83"
      },
      "execution_count": null,
      "outputs": [
        {
          "output_type": "stream",
          "name": "stdout",
          "text": [
            "----------\n",
            "Hello\n"
          ]
        }
      ]
    },
    {
      "cell_type": "code",
      "source": [
        "say_hello()"
      ],
      "metadata": {
        "colab": {
          "base_uri": "https://localhost:8080/"
        },
        "id": "s0lme7UDDpPv",
        "outputId": "56c72c37-b581-4c94-b0a4-a6f94eae8533"
      },
      "execution_count": null,
      "outputs": [
        {
          "output_type": "stream",
          "name": "stdout",
          "text": [
            "----------\n",
            "Hello\n"
          ]
        }
      ]
    },
    {
      "cell_type": "code",
      "source": [
        "say_hello()"
      ],
      "metadata": {
        "colab": {
          "base_uri": "https://localhost:8080/"
        },
        "id": "m5_5VCauDqDk",
        "outputId": "7fd82c0c-d0da-4546-dade-6a58cab974be"
      },
      "execution_count": null,
      "outputs": [
        {
          "output_type": "stream",
          "name": "stdout",
          "text": [
            "----------\n",
            "Hello\n"
          ]
        }
      ]
    },
    {
      "cell_type": "markdown",
      "source": [
        "Not all functions need parameters / inputs.\n",
        "\n",
        "\n",
        "Not all functions need return values / outputs.\n",
        "\n",
        "But commonly they will have those.\n",
        "\n",
        "We'll also hope to include a documentation string if possible."
      ],
      "metadata": {
        "id": "rk7-6L2MD7Ek"
      }
    },
    {
      "cell_type": "code",
      "source": [
        "\n",
        "#def enlarge(n):\n",
        "#    larger = n * 100\n",
        "#    print(larger)\n",
        "#\n",
        "\n",
        "def enlarge(n):\n",
        "    \"\"\"This is a doctstring.\n",
        "        The first multiline string inside a function serves as the documentation for that function\n",
        "\n",
        "        For enlarging a number\n",
        "\n",
        "        Params:\n",
        "            n (numeric like int or float)\n",
        "\n",
        "    \"\"\"\n",
        "    larger = n * 100\n",
        "    #print(larger)\n",
        "    return larger\n"
      ],
      "metadata": {
        "id": "-gC3NDzVEA35"
      },
      "execution_count": null,
      "outputs": []
    },
    {
      "cell_type": "code",
      "source": [
        "enlarge(9)"
      ],
      "metadata": {
        "colab": {
          "base_uri": "https://localhost:8080/"
        },
        "id": "AiZzluT-EJP7",
        "outputId": "21bd864d-8e5b-4549-e011-f63b61c9b3ee"
      },
      "execution_count": null,
      "outputs": [
        {
          "output_type": "stream",
          "name": "stdout",
          "text": [
            "900\n"
          ]
        }
      ]
    },
    {
      "cell_type": "code",
      "source": [
        "result = enlarge(10)\n",
        "print(\"----\")\n",
        "print(result)"
      ],
      "metadata": {
        "colab": {
          "base_uri": "https://localhost:8080/"
        },
        "id": "7lAeTPgrF3ZO",
        "outputId": "630e82e4-9caa-4d07-8bdc-657ea7bdb1b1"
      },
      "execution_count": null,
      "outputs": [
        {
          "output_type": "stream",
          "name": "stdout",
          "text": [
            "----\n",
            "1000\n"
          ]
        }
      ]
    },
    {
      "cell_type": "code",
      "source": [
        "enlarge(10)"
      ],
      "metadata": {
        "id": "LmEUztnfFQEq"
      },
      "execution_count": null,
      "outputs": []
    },
    {
      "cell_type": "code",
      "source": [
        "n = 88\n",
        "enlarge(n)"
      ],
      "metadata": {
        "colab": {
          "base_uri": "https://localhost:8080/"
        },
        "id": "vVY3VbaGERF4",
        "outputId": "bbc3c27c-8bf6-4f64-e610-46455c34c209"
      },
      "execution_count": null,
      "outputs": [
        {
          "output_type": "stream",
          "name": "stdout",
          "text": [
            "8800\n"
          ]
        }
      ]
    },
    {
      "cell_type": "code",
      "source": [
        "i = 88\n",
        "enlarge(i)"
      ],
      "metadata": {
        "colab": {
          "base_uri": "https://localhost:8080/"
        },
        "id": "HCiB8Vl5EpXG",
        "outputId": "f3674567-6f87-401a-e5be-f800c1a58e44"
      },
      "execution_count": null,
      "outputs": [
        {
          "output_type": "stream",
          "name": "stdout",
          "text": [
            "8800\n"
          ]
        }
      ]
    },
    {
      "cell_type": "code",
      "source": [
        "enlarge(\"hello\")"
      ],
      "metadata": {
        "colab": {
          "base_uri": "https://localhost:8080/"
        },
        "id": "TDbhhGpUEx-j",
        "outputId": "ac34ef37-7711-41cf-941c-e33b77789b3b"
      },
      "execution_count": null,
      "outputs": [
        {
          "output_type": "stream",
          "name": "stdout",
          "text": [
            "hellohellohellohellohellohellohellohellohellohellohellohellohellohellohellohellohellohellohellohellohellohellohellohellohellohellohellohellohellohellohellohellohellohellohellohellohellohellohellohellohellohellohellohellohellohellohellohellohellohellohellohellohellohellohellohellohellohellohellohellohellohellohellohellohellohellohellohellohellohellohellohellohellohellohellohellohellohellohellohellohellohellohellohellohellohellohellohellohellohellohellohellohellohellohellohellohellohellohellohello\n"
          ]
        }
      ]
    },
    {
      "cell_type": "markdown",
      "source": [
        "## Unit Testing"
      ],
      "metadata": {
        "id": "fYFPmziwKeFW"
      }
    },
    {
      "cell_type": "markdown",
      "source": [
        "We use a keyword called `assert` to state we expect something to be True.\n",
        "\n",
        "The assertion will yell if that's not the case.\n",
        "\n",
        "Otherwise it won't yell at us."
      ],
      "metadata": {
        "id": "bAtSgJcNIVMQ"
      }
    },
    {
      "cell_type": "code",
      "source": [
        "assert 2+2 == 4\n",
        "print(\"BOTTOM, TESTS ARE PASSING\")"
      ],
      "metadata": {
        "colab": {
          "base_uri": "https://localhost:8080/"
        },
        "id": "VmgMK2TRIyqh",
        "outputId": "b8e4567f-bae1-4244-c1ec-b46813af9324"
      },
      "execution_count": null,
      "outputs": [
        {
          "output_type": "stream",
          "name": "stdout",
          "text": [
            "BOTTOM, TESTS ARE PASSING\n"
          ]
        }
      ]
    },
    {
      "cell_type": "code",
      "source": [
        "assert 2+2 == 5\n",
        "print(\"BOTTOM, TESTS ARE PASSING\")"
      ],
      "metadata": {
        "colab": {
          "base_uri": "https://localhost:8080/",
          "height": 193
        },
        "id": "5uyFSWImIqxI",
        "outputId": "21f09ce8-b39e-40f6-8043-4898f9b1c321"
      },
      "execution_count": null,
      "outputs": [
        {
          "output_type": "error",
          "ename": "AssertionError",
          "evalue": "",
          "traceback": [
            "\u001b[0;31m---------------------------------------------------------------------------\u001b[0m",
            "\u001b[0;31mAssertionError\u001b[0m                            Traceback (most recent call last)",
            "\u001b[0;32m<ipython-input-27-6ca41826335a>\u001b[0m in \u001b[0;36m<cell line: 1>\u001b[0;34m()\u001b[0m\n\u001b[0;32m----> 1\u001b[0;31m \u001b[0;32massert\u001b[0m \u001b[0;36m2\u001b[0m\u001b[0;34m+\u001b[0m\u001b[0;36m2\u001b[0m \u001b[0;34m==\u001b[0m \u001b[0;36m5\u001b[0m\u001b[0;34m\u001b[0m\u001b[0;34m\u001b[0m\u001b[0m\n\u001b[0m\u001b[1;32m      2\u001b[0m \u001b[0mprint\u001b[0m\u001b[0;34m(\u001b[0m\u001b[0;34m\"BOTTOM, TESTS ARE PASSING\"\u001b[0m\u001b[0;34m)\u001b[0m\u001b[0;34m\u001b[0m\u001b[0;34m\u001b[0m\u001b[0m\n",
            "\u001b[0;31mAssertionError\u001b[0m: "
          ]
        }
      ]
    },
    {
      "cell_type": "code",
      "source": [
        "result = enlarge(10)\n",
        "assert result == 1000\n",
        "print(\"BOTTOM, TESTS ARE PASSING\")"
      ],
      "metadata": {
        "colab": {
          "base_uri": "https://localhost:8080/"
        },
        "id": "tuQn4-oAKf8K",
        "outputId": "62bbcb41-57d3-406c-be01-c15e8686ea44"
      },
      "execution_count": null,
      "outputs": [
        {
          "output_type": "stream",
          "name": "stdout",
          "text": [
            "BOTTOM, TESTS ARE PASSING\n"
          ]
        }
      ]
    },
    {
      "cell_type": "code",
      "source": [],
      "metadata": {
        "id": "z1i-DGtEMWuA"
      },
      "execution_count": null,
      "outputs": []
    },
    {
      "cell_type": "markdown",
      "source": [
        "### Tests for RPS"
      ],
      "metadata": {
        "id": "J7wvq2mRJH-u"
      }
    },
    {
      "cell_type": "code",
      "source": [
        "#def determine_outcome(u, c):\n",
        "#    \"\"\"Params :\n",
        "#        u : string option of \"rock\" or \"paper\" or \"scissors\"\n",
        "#        c : string option of \"rock\" or \"paper\" or \"scissors\"\n",
        "#\n",
        "#        Return: string outcome of \"TIE GAME\", \"USER WINS\", or \"COMP WINS\"\n",
        "#    \"\"\"\n",
        "#    if u == c:\n",
        "#        #print(\"TIE GAME\")\n",
        "#        return \"TIE GAME\"\n",
        "#    elif (u == \"rock\" and c == \"scissors\") or (u == \"paper\" and c == \"rock\") or (u == \"scissors\" and c == \"paper\"):\n",
        "#        #print(\"USER WINS\")\n",
        "#        return \"USER WINS\"\n",
        "#    else:\n",
        "#        #print(\"COMP WINS\")\n",
        "#        return \"COMP WINS\"\n",
        "#\n"
      ],
      "metadata": {
        "id": "vJPeOYBBKLUN"
      },
      "execution_count": null,
      "outputs": []
    },
    {
      "cell_type": "code",
      "source": [
        "def determine_outcome(u, c):\n",
        "    \"\"\"Params :\n",
        "        u : string option of \"rock\" or \"paper\" or \"scissors\"\n",
        "        c : string option of \"rock\" or \"paper\" or \"scissors\"\n",
        "\n",
        "        Return: string outcome of \"TIE GAME\", \"USER WINS\", or \"COMP WINS\"\n",
        "    \"\"\"\n",
        "    valid_options = [\"rock\", \"paper\", \"scissors\"]\n",
        "    if u not in valid_options or c not in valid_options:\n",
        "        print(\"OOPS, check your inputs and try again!\")\n",
        "        #return \"INVALID\"\n",
        "        return None\n",
        "\n",
        "    if u == c:\n",
        "        #print(\"TIE GAME\")\n",
        "        return \"TIE GAME\"\n",
        "    elif (u == \"rock\" and c == \"scissors\") or (u == \"paper\" and c == \"rock\") or (u == \"scissors\" and c == \"paper\"):\n",
        "        #print(\"USER WINS\")\n",
        "        return \"USER WINS\"\n",
        "    else:\n",
        "        #print(\"COMP WINS\")\n",
        "        return \"COMP WINS\"\n",
        "\n"
      ],
      "metadata": {
        "id": "Z3Iy0-TzXg4q"
      },
      "execution_count": null,
      "outputs": []
    },
    {
      "cell_type": "code",
      "source": [
        "def determine_outcome(u, c):\n",
        "    \"\"\"Params :\n",
        "        u : string option of \"rock\" or \"paper\" or \"scissors\"\n",
        "        c : string option of \"rock\" or \"paper\" or \"scissors\"\n",
        "\n",
        "        Return: string outcome of \"TIE GAME\", \"USER WINS\", or \"COMP WINS\"\n",
        "    \"\"\"\n",
        "    valid_options = [\"rock\", \"paper\", \"scissors\"]\n",
        "    if u not in valid_options or c not in valid_options:\n",
        "        print(\"OOPS, check your inputs and try again!\")\n",
        "        #return \"INVALID\"\n",
        "        return None\n",
        "\n",
        "    # CAN WE IMPLEMENT THE LOGIC WITHOUT USING AN IF STATEMENT (DICT APPROACH)\n",
        "\n",
        "    winners = {\n",
        "        # TOP LEVEL REPRESENTS USER CHOICE\n",
        "        \"rock\":{\n",
        "            # NESTED LEVEL REPRESENTS THE COMP CHOICE\n",
        "            \"rock\": \"TIE GAME\",\n",
        "            \"paper\": \"COMP WINS\",\n",
        "            \"scissors\": \"USER WINS\",\n",
        "        },\n",
        "        \"paper\":{\n",
        "            \"rock\": \"USER WINS\",\n",
        "            \"paper\": \"TIE GAME\",\n",
        "            \"scissors\": \"COMP WINS\",\n",
        "        },\n",
        "        \"scissors\":{\n",
        "            \"rock\": \"COMP WINS\",\n",
        "            \"paper\": \"USER WINS\",\n",
        "            \"scissors\": \"TIE GAME\",\n",
        "        },\n",
        "    }\n",
        "    winning_choice = winners[u][c]\n",
        "    return winning_choice\n",
        "\n"
      ],
      "metadata": {
        "id": "lT2XsEK2dsfR"
      },
      "execution_count": null,
      "outputs": []
    },
    {
      "cell_type": "code",
      "source": [
        "#def determine_outcome(u, c):\n",
        "#    \"\"\"Params :\n",
        "#        u : string option of \"rock\" or \"paper\" or \"scissors\"\n",
        "#        c : string option of \"rock\" or \"paper\" or \"scissors\"\n",
        "#\n",
        "#        Return: string outcome of \"TIE GAME\", \"USER WINS\", or \"COMP WINS\"\n",
        "#    \"\"\"\n",
        "#    valid_options = [\"rock\", \"paper\", \"scissors\"]\n",
        "#    if u not in valid_options or c not in valid_options:\n",
        "#        print(\"OOPS, check your inputs and try again!\")\n",
        "#        #return \"INVALID\"\n",
        "#        return None\n",
        "#    else:\n",
        "#        if u == c:\n",
        "#            #print(\"TIE GAME\")\n",
        "#            return \"TIE GAME\"\n",
        "#        elif (u == \"rock\" and c == \"scissors\") or (u == \"paper\" and c == \"rock\") or (u == \"scissors\" and c == \"paper\"):\n",
        "#            #print(\"USER WINS\")\n",
        "#            return \"USER WINS\"\n",
        "#        else:\n",
        "#            #print(\"COMP WINS\")\n",
        "#            return \"COMP WINS\"\n",
        "#\n"
      ],
      "metadata": {
        "id": "9pYmrU1VY8gl"
      },
      "execution_count": null,
      "outputs": []
    },
    {
      "cell_type": "code",
      "source": [
        "determine_outcome(u=\"OOPS\", c=\"paper\")"
      ],
      "metadata": {
        "colab": {
          "base_uri": "https://localhost:8080/"
        },
        "id": "Amrlbc96Oh8b",
        "outputId": "b409af63-6c34-4439-e327-46a3e175baa3"
      },
      "execution_count": null,
      "outputs": [
        {
          "output_type": "stream",
          "name": "stdout",
          "text": [
            "OOPS, check your inputs and try again!\n"
          ]
        }
      ]
    },
    {
      "cell_type": "code",
      "source": [
        "# UNIT TESTS\n",
        "# ... invoke our function with certain combinations of parameter inputs\n",
        "# ... and prove whether or not the function works as expected / returns the expected value\n",
        "\n",
        "result = determine_outcome(u=\"rock\", c=\"rock\")\n",
        "assert result == \"TIE GAME\"\n",
        "assert determine_outcome(u=\"rock\", c=\"paper\") == \"COMP WINS\"\n",
        "assert determine_outcome(u=\"rock\", c=\"scissors\") == \"USER WINS\"\n",
        "\n",
        "assert determine_outcome(u=\"paper\", c=\"rock\") == \"USER WINS\"\n",
        "assert determine_outcome(u=\"paper\", c=\"paper\") ==\"TIE GAME\"\n",
        "assert determine_outcome(u=\"paper\", c=\"scissors\") == \"COMP WINS\"\n",
        "\n",
        "assert determine_outcome(u=\"scissors\", c=\"rock\") == \"COMP WINS\"\n",
        "assert determine_outcome(u=\"scissors\", c=\"paper\") == \"USER WINS\"\n",
        "assert determine_outcome(u=\"scissors\", c=\"scissors\") == \"TIE GAME\"\n",
        "\n",
        "# what would happen if we pass an invalid input\n",
        "#assert determine_outcome(u=\"paper\", c=\"OOOPS\") == \"INVALID\"\n",
        "#assert determine_outcome(u=\"OOPS\", c=\"paper\") == \"INVALID\"\n",
        "#assert determine_outcome(u=\"OOPS\", c=\"OOPS\") == \"INVALID\"\n",
        "assert determine_outcome(u=\"paper\", c=\"OOOPS\") == None\n",
        "assert determine_outcome(u=\"OOPS\", c=\"paper\") == None\n",
        "assert determine_outcome(u=\"OOPS\", c=\"OOPS\") == None\n",
        "\n",
        "\n",
        "print(\"ALL TESTS PASS\")"
      ],
      "metadata": {
        "colab": {
          "base_uri": "https://localhost:8080/"
        },
        "id": "YfSTxSMYKKfU",
        "outputId": "e3acd3cf-eb83-451d-ca80-cf00340fcff6"
      },
      "execution_count": null,
      "outputs": [
        {
          "output_type": "stream",
          "name": "stdout",
          "text": [
            "OOPS, check your inputs and try again!\n",
            "OOPS, check your inputs and try again!\n",
            "OOPS, check your inputs and try again!\n",
            "ALL TESTS PASS\n"
          ]
        }
      ]
    },
    {
      "cell_type": "markdown",
      "source": [
        "After we have defined and tested our function, we are ready to \"refactor\" / \"reorganize\" our original code to use it!"
      ],
      "metadata": {
        "id": "NMNge-dgOnXT"
      }
    },
    {
      "cell_type": "code",
      "source": [
        "import random\n",
        "\n",
        "u = input(\"Please choose r, p, s:\")\n",
        "print(u)\n",
        "\n",
        "c = random.choice([\"rock\", \"paper\", \"scissors\"])\n",
        "print(c)\n",
        "\n",
        "# outcome determination logic\n",
        "#if u == c:\n",
        "#    print(\"TIE GAME\")\n",
        "#elif (u == \"rock\" and c == \"scissors\") or (u == \"paper\" and c == \"rock\") or (u == \"scissors\" and c == \"paper\"):\n",
        "#    print(\"USER WINS\")\n",
        "#else:\n",
        "#    print(\"COMP WINS\")\n",
        "\n",
        "#outcome = determine_outcome(u=u, c=c)\n",
        "outcome = determine_outcome(u, c)\n",
        "\n",
        "print(outcome)\n"
      ],
      "metadata": {
        "colab": {
          "base_uri": "https://localhost:8080/"
        },
        "id": "moWcI7iiJJ4x",
        "outputId": "ef765814-ead1-405a-bce7-cc9e462dbaa7"
      },
      "execution_count": null,
      "outputs": [
        {
          "output_type": "stream",
          "name": "stdout",
          "text": [
            "Please choose r, p, s:rock\n",
            "rock\n",
            "rock\n",
            "TIE GAME\n"
          ]
        }
      ]
    },
    {
      "cell_type": "markdown",
      "source": [
        "# Container Datatypes"
      ],
      "metadata": {
        "id": "w7-PhX254zuu"
      }
    },
    {
      "cell_type": "markdown",
      "source": [
        "## Dictionaries"
      ],
      "metadata": {
        "id": "pwjmczO443r4"
      }
    },
    {
      "cell_type": "code",
      "source": [
        "#dog = {\"breed\": \"Lab\",\"name\": \"Murphy\",\"weight_lbs\": 45,\"age_yrs\": 6,\"good_boy\": True}\n",
        "#print(dog)\n",
        "#type(dog)"
      ],
      "metadata": {
        "id": "QA5U35qFat9Q"
      },
      "execution_count": null,
      "outputs": []
    },
    {
      "cell_type": "code",
      "source": [
        "dog = {\n",
        "    \"breed\": \"Lab\",\n",
        "    \"name\": \"Murphy\",\n",
        "    \"weight_lbs\": 45,\n",
        "    \"age_yrs\": 6,\n",
        "    \"good_boy\": True\n",
        "}\n",
        "print(dog)\n",
        "type(dog)"
      ],
      "metadata": {
        "id": "JwaoeuhV5rEo",
        "colab": {
          "base_uri": "https://localhost:8080/"
        },
        "outputId": "1efb0c3f-83b7-4c1d-fad7-86df678f5fb4"
      },
      "execution_count": null,
      "outputs": [
        {
          "output_type": "stream",
          "name": "stdout",
          "text": [
            "{'breed': 'Lab', 'name': 'Murphy', 'weight_lbs': 45, 'age_yrs': 6, 'good_boy': True}\n"
          ]
        },
        {
          "output_type": "execute_result",
          "data": {
            "text/plain": [
              "dict"
            ]
          },
          "metadata": {},
          "execution_count": 27
        }
      ]
    },
    {
      "cell_type": "code",
      "source": [
        "dog"
      ],
      "metadata": {
        "colab": {
          "base_uri": "https://localhost:8080/"
        },
        "id": "0WB_YUo6dLxW",
        "outputId": "aa4c5a3c-002c-4b3c-9dfd-519790e71455"
      },
      "execution_count": null,
      "outputs": [
        {
          "output_type": "execute_result",
          "data": {
            "text/plain": [
              "{'breed': 'Lab',\n",
              " 'name': 'Murphy',\n",
              " 'weight_lbs': 45,\n",
              " 'age_yrs': 6,\n",
              " 'good_boy': True}"
            ]
          },
          "metadata": {},
          "execution_count": 37
        }
      ]
    },
    {
      "cell_type": "markdown",
      "source": [
        "Dictionaries have \"key-value\" pairs.\n",
        "\n",
        "In order to access the value, we have to know and reference the corresponding attribute name / label called the \"key\".\n",
        "\n",
        "\n",
        "So it is most helpful whenever we know we are working with a dictionary, to ask \"what are the keys?\""
      ],
      "metadata": {
        "id": "fdJzV_ZC47vM"
      }
    },
    {
      "cell_type": "code",
      "source": [
        "dog.keys()"
      ],
      "metadata": {
        "id": "BAxqjrMf45YF",
        "colab": {
          "base_uri": "https://localhost:8080/"
        },
        "outputId": "3ed85c0b-68f0-4dfc-c46b-9aa29ea39e7d"
      },
      "execution_count": null,
      "outputs": [
        {
          "output_type": "execute_result",
          "data": {
            "text/plain": [
              "dict_keys(['breed', 'name', 'weight_lbs', 'age_yrs', 'good_boy'])"
            ]
          },
          "metadata": {},
          "execution_count": 28
        }
      ]
    },
    {
      "cell_type": "markdown",
      "source": [
        "Can also ask for just the values, or just the key value pairs, in a different list-like format"
      ],
      "metadata": {
        "id": "E1n4ZIaB6AOm"
      }
    },
    {
      "cell_type": "markdown",
      "source": [
        "Accessing items / values in a dictionary by their textual attribute name (i.e. the \"key):"
      ],
      "metadata": {
        "id": "5Zbp2oUz5PFB"
      }
    },
    {
      "cell_type": "code",
      "source": [
        "print(dog[\"breed\"])\n",
        "print(dog[\"name\"])"
      ],
      "metadata": {
        "colab": {
          "base_uri": "https://localhost:8080/"
        },
        "id": "gv9PkdxHc-hd",
        "outputId": "944f8e7b-735d-498e-d75e-e6f37077a7f9"
      },
      "execution_count": null,
      "outputs": [
        {
          "output_type": "stream",
          "name": "stdout",
          "text": [
            "Lab\n",
            "Murphy\n"
          ]
        }
      ]
    },
    {
      "cell_type": "code",
      "source": [
        "dog[\"breed\"]"
      ],
      "metadata": {
        "id": "v47F5yVj449Z",
        "colab": {
          "base_uri": "https://localhost:8080/",
          "height": 36
        },
        "outputId": "c4da0f81-4429-4929-e1bf-63b1dbf502ce"
      },
      "execution_count": null,
      "outputs": [
        {
          "output_type": "execute_result",
          "data": {
            "text/plain": [
              "'Lab'"
            ],
            "application/vnd.google.colaboratory.intrinsic+json": {
              "type": "string"
            }
          },
          "metadata": {},
          "execution_count": 29
        }
      ]
    },
    {
      "cell_type": "code",
      "source": [
        "dog[\"name\"]"
      ],
      "metadata": {
        "id": "aLfrJDu-4520",
        "colab": {
          "base_uri": "https://localhost:8080/",
          "height": 36
        },
        "outputId": "64efc6ec-bae8-4c9f-94ca-1b416fb347e4"
      },
      "execution_count": null,
      "outputs": [
        {
          "output_type": "execute_result",
          "data": {
            "text/plain": [
              "'Murphy'"
            ],
            "application/vnd.google.colaboratory.intrinsic+json": {
              "type": "string"
            }
          },
          "metadata": {},
          "execution_count": 30
        }
      ]
    },
    {
      "cell_type": "code",
      "source": [
        "#dog[\"fav_food\"]  #> INVALID ... KeyError"
      ],
      "metadata": {
        "id": "V02sPoXpcAzc"
      },
      "execution_count": null,
      "outputs": []
    },
    {
      "cell_type": "markdown",
      "source": [
        "less commonly we can access the dictionary's values or k/v pairs"
      ],
      "metadata": {
        "id": "txwJwVYrcVOW"
      }
    },
    {
      "cell_type": "code",
      "source": [
        "dog.values()"
      ],
      "metadata": {
        "colab": {
          "base_uri": "https://localhost:8080/"
        },
        "id": "y9INIkVlcUQC",
        "outputId": "6c092b08-3328-4b3c-8924-eefe379f25e2"
      },
      "execution_count": null,
      "outputs": [
        {
          "output_type": "execute_result",
          "data": {
            "text/plain": [
              "dict_values(['Lab', 'Murphy', 45, 6, True])"
            ]
          },
          "metadata": {},
          "execution_count": 33
        }
      ]
    },
    {
      "cell_type": "code",
      "source": [
        "dog.items()"
      ],
      "metadata": {
        "colab": {
          "base_uri": "https://localhost:8080/"
        },
        "id": "AzZ0EayzcQSA",
        "outputId": "d36a154b-71da-402e-bd91-2d2757f28eb1"
      },
      "execution_count": null,
      "outputs": [
        {
          "output_type": "execute_result",
          "data": {
            "text/plain": [
              "dict_items([('breed', 'Lab'), ('name', 'Murphy'), ('weight_lbs', 45), ('age_yrs', 6), ('good_boy', True)])"
            ]
          },
          "metadata": {},
          "execution_count": 34
        }
      ]
    },
    {
      "cell_type": "markdown",
      "source": [
        "We can have nested structures:"
      ],
      "metadata": {
        "id": "TqmmazpUe1Rh"
      }
    },
    {
      "cell_type": "code",
      "source": [
        "winners = {\n",
        "    # TOP LEVEL REPRESENTS USER CHOICE\n",
        "    \"rock\":{\n",
        "        # NESTED LEVEL REPRESENTS THE COMP CHOICE\n",
        "        \"rock\": \"TIE GAME\",\n",
        "        \"paper\": \"COMP WINS\",\n",
        "        \"scissors\": \"USER WINS\",\n",
        "    },\n",
        "    \"paper\":{\n",
        "        \"rock\": \"USER WINS\",\n",
        "        \"paper\": \"TIE GAME\",\n",
        "        \"scissors\": \"COMP WINS\",\n",
        "    },\n",
        "    \"scissors\":{\n",
        "        \"rock\": \"COMP WINS\",\n",
        "        \"paper\": \"USER WINS\",\n",
        "        \"scissors\": \"TIE GAME\",\n",
        "    },\n",
        "}"
      ],
      "metadata": {
        "id": "ekdOnlzwe2zv"
      },
      "execution_count": null,
      "outputs": []
    },
    {
      "cell_type": "code",
      "source": [
        "winners[\"rock\"]"
      ],
      "metadata": {
        "colab": {
          "base_uri": "https://localhost:8080/"
        },
        "id": "VLV1FCI0e54k",
        "outputId": "c29d6153-3b4a-46d2-b1f1-4a137a09214e"
      },
      "execution_count": null,
      "outputs": [
        {
          "output_type": "execute_result",
          "data": {
            "text/plain": [
              "{'rock': 'TIE GAME', 'paper': 'COMP WINS', 'scissors': 'USER WINS'}"
            ]
          },
          "metadata": {},
          "execution_count": 43
        }
      ]
    },
    {
      "cell_type": "code",
      "source": [
        "winners[\"rock\"][\"rock\"]"
      ],
      "metadata": {
        "colab": {
          "base_uri": "https://localhost:8080/",
          "height": 36
        },
        "id": "4BfIkOrXfDPo",
        "outputId": "662e21f3-5f2d-4718-8044-4aa220afe246"
      },
      "execution_count": null,
      "outputs": [
        {
          "output_type": "execute_result",
          "data": {
            "text/plain": [
              "'TIE GAME'"
            ],
            "application/vnd.google.colaboratory.intrinsic+json": {
              "type": "string"
            }
          },
          "metadata": {},
          "execution_count": 44
        }
      ]
    },
    {
      "cell_type": "code",
      "source": [
        "u = \"rock\"\n",
        "c = \"rock\"\n",
        "winners[u][c]"
      ],
      "metadata": {
        "colab": {
          "base_uri": "https://localhost:8080/",
          "height": 36
        },
        "id": "0lk8wzW7fFFz",
        "outputId": "0de12a63-c3f4-4f87-be16-f4090990a0c2"
      },
      "execution_count": null,
      "outputs": [
        {
          "output_type": "execute_result",
          "data": {
            "text/plain": [
              "'TIE GAME'"
            ],
            "application/vnd.google.colaboratory.intrinsic+json": {
              "type": "string"
            }
          },
          "metadata": {},
          "execution_count": 46
        }
      ]
    },
    {
      "cell_type": "markdown",
      "source": [
        "## Lists"
      ],
      "metadata": {
        "id": "pDVG9_Dx420b"
      }
    },
    {
      "cell_type": "code",
      "source": [
        "#flavors = [\n",
        "#    \"van\",\n",
        "#    \"choc\",\n",
        "#    \"straw\",\n",
        "#    \"mocha\"\n",
        "#]\n",
        "#print(flavors)\n",
        "#type(flavors)"
      ],
      "metadata": {
        "id": "MMSudKAygET2"
      },
      "execution_count": null,
      "outputs": []
    },
    {
      "cell_type": "code",
      "source": [
        "flavors = [\"van\", \"choc\", \"straw\", \"mocha\"]\n",
        "print(flavors)\n",
        "type(flavors)"
      ],
      "metadata": {
        "id": "P3XajzRu5qgL",
        "colab": {
          "base_uri": "https://localhost:8080/"
        },
        "outputId": "aa3ba2e1-ab88-4d78-e7e2-6466a4605384"
      },
      "execution_count": null,
      "outputs": [
        {
          "output_type": "stream",
          "name": "stdout",
          "text": [
            "['van', 'choc', 'straw', 'mocha']\n"
          ]
        },
        {
          "output_type": "execute_result",
          "data": {
            "text/plain": [
              "list"
            ]
          },
          "metadata": {},
          "execution_count": 48
        }
      ]
    },
    {
      "cell_type": "markdown",
      "source": [
        "Counting items in a list:"
      ],
      "metadata": {
        "id": "ziECWv2O54Dl"
      }
    },
    {
      "cell_type": "code",
      "source": [
        "len(flavors)"
      ],
      "metadata": {
        "colab": {
          "base_uri": "https://localhost:8080/"
        },
        "id": "4-ERWjRRgOL_",
        "outputId": "539d72eb-757e-440f-fdee-4e89c79173ab"
      },
      "execution_count": null,
      "outputs": [
        {
          "output_type": "execute_result",
          "data": {
            "text/plain": [
              "4"
            ]
          },
          "metadata": {},
          "execution_count": 52
        }
      ]
    },
    {
      "cell_type": "markdown",
      "source": [
        "Accessing items / values in a list by their numeric index (which starts at zero for the first item):"
      ],
      "metadata": {
        "id": "V3DMrtXY5WIL"
      }
    },
    {
      "cell_type": "code",
      "source": [
        "flavors[0]"
      ],
      "metadata": {
        "id": "ifFQBuUp46bY",
        "colab": {
          "base_uri": "https://localhost:8080/",
          "height": 36
        },
        "outputId": "556b57ec-2347-4db8-a73e-bf8cf331f4f4"
      },
      "execution_count": null,
      "outputs": [
        {
          "output_type": "execute_result",
          "data": {
            "text/plain": [
              "'van'"
            ],
            "application/vnd.google.colaboratory.intrinsic+json": {
              "type": "string"
            }
          },
          "metadata": {},
          "execution_count": 53
        }
      ]
    },
    {
      "cell_type": "code",
      "source": [
        "print(flavors)\n",
        "print(\"----------\")\n",
        "print(flavors[0])\n",
        "print(flavors[1])\n",
        "print(flavors[2])\n",
        "print(flavors[3])"
      ],
      "metadata": {
        "colab": {
          "base_uri": "https://localhost:8080/"
        },
        "id": "vl8gywxOg8BL",
        "outputId": "097015c6-df69-4ce7-a0d5-3278c27e9d88"
      },
      "execution_count": null,
      "outputs": [
        {
          "output_type": "stream",
          "name": "stdout",
          "text": [
            "['van', 'choc', 'straw', 'mocha']\n",
            "----------\n",
            "van\n",
            "choc\n",
            "straw\n",
            "mocha\n"
          ]
        }
      ]
    },
    {
      "cell_type": "code",
      "source": [
        "#print(flavors[9]) #> INVALID... IndexError"
      ],
      "metadata": {
        "id": "0NIjllJ-hMIS"
      },
      "execution_count": null,
      "outputs": []
    },
    {
      "cell_type": "code",
      "source": [
        "#flavors[\"breed\"]"
      ],
      "metadata": {
        "id": "aBszoX6thbkh"
      },
      "execution_count": null,
      "outputs": []
    },
    {
      "cell_type": "markdown",
      "source": [
        "Last item (no matter how many items there are):"
      ],
      "metadata": {
        "id": "nEe-KtR25cZL"
      }
    },
    {
      "cell_type": "code",
      "source": [
        "flavors[-1]"
      ],
      "metadata": {
        "id": "ovixsYP05fFb",
        "colab": {
          "base_uri": "https://localhost:8080/",
          "height": 36
        },
        "outputId": "73ad3293-28ae-484f-9b9f-5bf11f69cb25"
      },
      "execution_count": null,
      "outputs": [
        {
          "output_type": "execute_result",
          "data": {
            "text/plain": [
              "'mocha'"
            ],
            "application/vnd.google.colaboratory.intrinsic+json": {
              "type": "string"
            }
          },
          "metadata": {},
          "execution_count": 60
        }
      ]
    },
    {
      "cell_type": "markdown",
      "source": [
        "Add items to the list:"
      ],
      "metadata": {
        "id": "OUGVSF99h2Yv"
      }
    },
    {
      "cell_type": "code",
      "source": [
        "flavors = [\"van\", \"choc\", \"straw\", \"mocha\"]\n",
        "\n",
        "print(flavors)\n",
        "print(len(flavors))\n",
        "\n",
        "flavors.append(\"mint choc chip\") # MUTATING\n",
        "print(flavors)\n",
        "print(len(flavors))"
      ],
      "metadata": {
        "colab": {
          "base_uri": "https://localhost:8080/"
        },
        "id": "QNmA_xoQh1L-",
        "outputId": "f3244e68-d547-4e41-acb7-a9696d0e3d75"
      },
      "execution_count": null,
      "outputs": [
        {
          "output_type": "stream",
          "name": "stdout",
          "text": [
            "['van', 'choc', 'straw', 'mocha']\n",
            "4\n",
            "['van', 'choc', 'straw', 'mocha', 'mint choc chip']\n",
            "5\n"
          ]
        }
      ]
    },
    {
      "cell_type": "code",
      "source": [
        "flavors[-1]"
      ],
      "metadata": {
        "colab": {
          "base_uri": "https://localhost:8080/",
          "height": 36
        },
        "id": "Agdpa_Crh0jO",
        "outputId": "6256f76d-aacc-4517-f075-8b9430eddfcd"
      },
      "execution_count": null,
      "outputs": [
        {
          "output_type": "execute_result",
          "data": {
            "text/plain": [
              "'mint choc chip'"
            ],
            "application/vnd.google.colaboratory.intrinsic+json": {
              "type": "string"
            }
          },
          "metadata": {},
          "execution_count": 67
        }
      ]
    },
    {
      "cell_type": "code",
      "source": [],
      "metadata": {
        "id": "1zwDcV6uhsco"
      },
      "execution_count": null,
      "outputs": []
    },
    {
      "cell_type": "markdown",
      "source": [
        "List slicing:"
      ],
      "metadata": {
        "id": "i1KVkDo051Sx"
      }
    },
    {
      "cell_type": "code",
      "source": [
        "flavors[0:2]"
      ],
      "metadata": {
        "id": "3aHLroeX52qx",
        "colab": {
          "base_uri": "https://localhost:8080/"
        },
        "outputId": "63f7686b-f849-4528-922b-26784623bcbe"
      },
      "execution_count": null,
      "outputs": [
        {
          "output_type": "execute_result",
          "data": {
            "text/plain": [
              "['van', 'choc']"
            ]
          },
          "metadata": {},
          "execution_count": 70
        }
      ]
    },
    {
      "cell_type": "code",
      "source": [
        "# most commonly, we will start at the beginning of the list\n",
        "# and grab the first X items\n",
        "\n",
        "print(\"HELLO WORLD\"[0:1])\n",
        "print(\"HELLO WORLD\"[0:2])\n",
        "print(\"HELLO WORLD\"[0:5])"
      ],
      "metadata": {
        "colab": {
          "base_uri": "https://localhost:8080/"
        },
        "id": "ZIqfAh-Pisfl",
        "outputId": "d7268ac2-6021-4bea-c688-3bd6db715bba"
      },
      "execution_count": null,
      "outputs": [
        {
          "output_type": "stream",
          "name": "stdout",
          "text": [
            "H\n",
            "HE\n",
            "HELLO\n"
          ]
        }
      ]
    },
    {
      "cell_type": "code",
      "source": [
        "# counter intuitive / weird:\n",
        "\n",
        "print(\"HELLO WORLD\"[1:2])\n",
        "print(\"HELLO WORLD\"[1:3])"
      ],
      "metadata": {
        "colab": {
          "base_uri": "https://localhost:8080/"
        },
        "id": "MsqVi_vZjapN",
        "outputId": "b7323ddb-0e25-43cd-9504-dff87f791387"
      },
      "execution_count": null,
      "outputs": [
        {
          "output_type": "stream",
          "name": "stdout",
          "text": [
            "E\n",
            "EL\n"
          ]
        }
      ]
    },
    {
      "cell_type": "markdown",
      "source": [
        "Inclusion checking:"
      ],
      "metadata": {
        "id": "2HM1osoqjDkf"
      }
    },
    {
      "cell_type": "code",
      "source": [
        "flavors = [\"van\", \"choc\", \"straw\", \"mocha\"]\n",
        "\n",
        "\"mint\" in flavors"
      ],
      "metadata": {
        "id": "aOD0YXDX53Cs",
        "colab": {
          "base_uri": "https://localhost:8080/"
        },
        "outputId": "51401fae-fbb2-4a6f-d91b-b4f0b848500b"
      },
      "execution_count": null,
      "outputs": [
        {
          "output_type": "execute_result",
          "data": {
            "text/plain": [
              "False"
            ]
          },
          "metadata": {},
          "execution_count": 1
        }
      ]
    },
    {
      "cell_type": "markdown",
      "source": [
        "### Sorting"
      ],
      "metadata": {
        "id": "0pfOYTAF6K7_"
      }
    },
    {
      "cell_type": "markdown",
      "source": [
        "https://docs.python.org/3/library/functions.html#sorted"
      ],
      "metadata": {
        "id": "yjLHeLdNGq1e"
      }
    },
    {
      "cell_type": "code",
      "source": [
        "print(flavors)\n",
        "\n",
        "print(sorted(flavors)) # NOT MUTATING\n",
        "\n",
        "print(flavors)"
      ],
      "metadata": {
        "id": "Si8f7vQD6Kia",
        "colab": {
          "base_uri": "https://localhost:8080/"
        },
        "outputId": "d11cb9e6-7b4e-46d5-f173-e866f0a9697c"
      },
      "execution_count": null,
      "outputs": [
        {
          "output_type": "stream",
          "name": "stdout",
          "text": [
            "['van', 'choc', 'straw', 'mocha']\n",
            "['choc', 'mocha', 'straw', 'van']\n",
            "['van', 'choc', 'straw', 'mocha']\n"
          ]
        }
      ]
    },
    {
      "cell_type": "code",
      "source": [
        "sorted_flavors = sorted(flavors)\n",
        "print(sorted_flavors)"
      ],
      "metadata": {
        "colab": {
          "base_uri": "https://localhost:8080/"
        },
        "id": "VW2cjfwbHWBe",
        "outputId": "4664770d-d3ab-4056-f9f7-bf2efe952af6"
      },
      "execution_count": null,
      "outputs": [
        {
          "output_type": "stream",
          "name": "stdout",
          "text": [
            "['choc', 'mocha', 'straw', 'van']\n"
          ]
        }
      ]
    },
    {
      "cell_type": "code",
      "source": [
        "\"a\" < \"b\""
      ],
      "metadata": {
        "colab": {
          "base_uri": "https://localhost:8080/"
        },
        "id": "ZYLjQvslHynP",
        "outputId": "ed1cb28f-d41c-426c-873a-f376a5edd536"
      },
      "execution_count": null,
      "outputs": [
        {
          "output_type": "execute_result",
          "data": {
            "text/plain": [
              "True"
            ]
          },
          "metadata": {},
          "execution_count": 8
        }
      ]
    },
    {
      "cell_type": "code",
      "source": [
        "4 < 5"
      ],
      "metadata": {
        "colab": {
          "base_uri": "https://localhost:8080/"
        },
        "id": "GYtfxmG1H02b",
        "outputId": "92ec6c43-9b43-4737-be07-ba267b7844c4"
      },
      "execution_count": null,
      "outputs": [
        {
          "output_type": "execute_result",
          "data": {
            "text/plain": [
              "True"
            ]
          },
          "metadata": {},
          "execution_count": 9
        }
      ]
    },
    {
      "cell_type": "code",
      "source": [
        "nums = [5, 15, 4, 9, 36, 3]\n",
        "\n",
        "sorted(nums)"
      ],
      "metadata": {
        "colab": {
          "base_uri": "https://localhost:8080/"
        },
        "id": "gcBkk15gHoNk",
        "outputId": "a8d35b70-c88c-4a58-955f-f9ac6431a4aa"
      },
      "execution_count": null,
      "outputs": [
        {
          "output_type": "execute_result",
          "data": {
            "text/plain": [
              "[3, 4, 5, 9, 15, 36]"
            ]
          },
          "metadata": {},
          "execution_count": 7
        }
      ]
    },
    {
      "cell_type": "code",
      "source": [
        "sorted(flavors, reverse=False)"
      ],
      "metadata": {
        "colab": {
          "base_uri": "https://localhost:8080/"
        },
        "id": "AGczu3o8IVId",
        "outputId": "7e660d63-e4c6-459b-a3a6-f6964a355ada"
      },
      "execution_count": null,
      "outputs": [
        {
          "output_type": "execute_result",
          "data": {
            "text/plain": [
              "['choc', 'mocha', 'straw', 'van']"
            ]
          },
          "metadata": {},
          "execution_count": 12
        }
      ]
    },
    {
      "cell_type": "code",
      "source": [
        "sorted(flavors, reverse=True)"
      ],
      "metadata": {
        "colab": {
          "base_uri": "https://localhost:8080/"
        },
        "id": "uiN0ebxdILVe",
        "outputId": "a5b4136a-d02c-40d9-ad27-e388197928ee"
      },
      "execution_count": null,
      "outputs": [
        {
          "output_type": "execute_result",
          "data": {
            "text/plain": [
              "['van', 'straw', 'mocha', 'choc']"
            ]
          },
          "metadata": {},
          "execution_count": 11
        }
      ]
    },
    {
      "cell_type": "markdown",
      "source": [
        "If our list is complex, Python might not know how to sort it, so we need to specify, using the \"key\" parameter:"
      ],
      "metadata": {
        "id": "9bH5pSFwIcd0"
      }
    },
    {
      "cell_type": "code",
      "source": [
        "#{\"city\": \"New York\", \"name\": \"Yankees\"} < {\"city\": \"New Haven\", \"name\": \"Ravens\"}"
      ],
      "metadata": {
        "id": "usJ8yKx-IxgG"
      },
      "execution_count": null,
      "outputs": []
    },
    {
      "cell_type": "code",
      "source": [
        "teams = [\n",
        "    {\"city\": \"New York\", \"name\": \"Yankees\"},\n",
        "    {\"city\": \"New York\", \"name\": \"Mets\"},\n",
        "    {\"city\": \"Boston\", \"name\": \"Red Sox\"},\n",
        "    {\"city\": \"New Haven\", \"name\": \"Ravens\"}\n",
        "]\n",
        "\n",
        "#sorted(teams) # INVALID ... TypeError: '<' not supported between instances of 'dict' and 'dict'"
      ],
      "metadata": {
        "id": "oG5XTr_SIhUn"
      },
      "execution_count": null,
      "outputs": []
    },
    {
      "cell_type": "code",
      "source": [
        "# on what basis should we sort the items in this list?\n",
        "#sorted(teams, key=_______________)\n",
        "\n",
        "from operator import itemgetter\n",
        "\n",
        "sorted(teams, key=itemgetter(\"city\"))"
      ],
      "metadata": {
        "colab": {
          "base_uri": "https://localhost:8080/"
        },
        "id": "iv4PTcl3I-Tu",
        "outputId": "1e60e2be-7cf5-44e0-c48e-c6994710e84a"
      },
      "execution_count": null,
      "outputs": [
        {
          "output_type": "execute_result",
          "data": {
            "text/plain": [
              "[{'city': 'Boston', 'name': 'Red Sox'},\n",
              " {'city': 'New Haven', 'name': 'Ravens'},\n",
              " {'city': 'New York', 'name': 'Yankees'},\n",
              " {'city': 'New York', 'name': 'Mets'}]"
            ]
          },
          "metadata": {},
          "execution_count": 17
        }
      ]
    },
    {
      "cell_type": "code",
      "source": [
        "sorted(teams, key=itemgetter(\"name\"))"
      ],
      "metadata": {
        "colab": {
          "base_uri": "https://localhost:8080/"
        },
        "id": "ks7SS-8rJnuz",
        "outputId": "c49520bf-467b-4e21-8d1c-d5f08d6f68ad"
      },
      "execution_count": null,
      "outputs": [
        {
          "output_type": "execute_result",
          "data": {
            "text/plain": [
              "[{'city': 'New York', 'name': 'Mets'},\n",
              " {'city': 'New Haven', 'name': 'Ravens'},\n",
              " {'city': 'Boston', 'name': 'Red Sox'},\n",
              " {'city': 'New York', 'name': 'Yankees'}]"
            ]
          },
          "metadata": {},
          "execution_count": 18
        }
      ]
    },
    {
      "cell_type": "markdown",
      "source": [
        "Lambda syntax is a little fancy / maybe confusing. But just a head's up if you see it in the wild. And you feel comfortable."
      ],
      "metadata": {
        "id": "hl0DCIIrJ7Xa"
      }
    },
    {
      "cell_type": "code",
      "source": [
        "sorted(teams, key= lambda team: team[\"name\"])"
      ],
      "metadata": {
        "colab": {
          "base_uri": "https://localhost:8080/"
        },
        "id": "MZLFVBNvJsEk",
        "outputId": "e2083818-3530-4787-ef3b-d45df1c42afb"
      },
      "execution_count": null,
      "outputs": [
        {
          "output_type": "execute_result",
          "data": {
            "text/plain": [
              "[{'city': 'New York', 'name': 'Mets'},\n",
              " {'city': 'New Haven', 'name': 'Ravens'},\n",
              " {'city': 'Boston', 'name': 'Red Sox'},\n",
              " {'city': 'New York', 'name': 'Yankees'}]"
            ]
          },
          "metadata": {},
          "execution_count": 19
        }
      ]
    },
    {
      "cell_type": "code",
      "source": [
        "sorted(teams, key= lambda x: x[\"name\"])"
      ],
      "metadata": {
        "colab": {
          "base_uri": "https://localhost:8080/"
        },
        "id": "BQVDeKwYJ4fb",
        "outputId": "9744d03a-0d88-4c0a-b071-04efbc66a5c7"
      },
      "execution_count": null,
      "outputs": [
        {
          "output_type": "execute_result",
          "data": {
            "text/plain": [
              "[{'city': 'New York', 'name': 'Mets'},\n",
              " {'city': 'New Haven', 'name': 'Ravens'},\n",
              " {'city': 'Boston', 'name': 'Red Sox'},\n",
              " {'city': 'New York', 'name': 'Yankees'}]"
            ]
          },
          "metadata": {},
          "execution_count": 20
        }
      ]
    },
    {
      "cell_type": "markdown",
      "source": [
        "### \"For\" Loops"
      ],
      "metadata": {
        "id": "0AvOFIoc6San"
      }
    },
    {
      "cell_type": "markdown",
      "source": [
        "Looping through each item in a list, until there are no more items left:"
      ],
      "metadata": {
        "id": "TDK4Syv66IYC"
      }
    },
    {
      "cell_type": "code",
      "source": [
        "flavors = [\"van\", \"choc\", \"straw\", \"mocha\"]\n",
        "\n",
        "# for ____ in ____________:\n",
        "#     _______\n",
        "\n",
        "# for [VARIABLE REFERENCE TO GIVEN ITEM] in [EXISTING LIST OF ITEMS]:\n",
        "#     [DO SOMETHING WITH VARIABLE]\n",
        "\n",
        "for flavor in flavors:\n",
        "    print(\"---------\")\n",
        "    print(flavor)\n",
        "\n",
        "print(\"BOTTOM\")"
      ],
      "metadata": {
        "id": "S79EsEZ26Jpu",
        "colab": {
          "base_uri": "https://localhost:8080/"
        },
        "outputId": "168c6856-a7eb-494d-a8c8-a569bf0408c2"
      },
      "execution_count": null,
      "outputs": [
        {
          "output_type": "stream",
          "name": "stdout",
          "text": [
            "---------\n",
            "van\n",
            "---------\n",
            "choc\n",
            "---------\n",
            "straw\n",
            "---------\n",
            "mocha\n",
            "BOTTOM\n"
          ]
        }
      ]
    },
    {
      "cell_type": "code",
      "source": [
        "flavors = [\"van\", \"choc\", \"straw\", \"mocha\"]\n",
        "\n",
        "for x in flavors:\n",
        "    print(\"---------\")\n",
        "    print(x)\n",
        "    # nothing left, so we go to the next item\n",
        "\n",
        "# until there are no more items\n",
        "print(\"BOTTOM\")"
      ],
      "metadata": {
        "colab": {
          "base_uri": "https://localhost:8080/"
        },
        "id": "beuBMtjHL1RD",
        "outputId": "7167684d-2ad8-4cc0-b4a7-1e28ada21255"
      },
      "execution_count": null,
      "outputs": [
        {
          "output_type": "stream",
          "name": "stdout",
          "text": [
            "---------\n",
            "van\n",
            "---------\n",
            "choc\n",
            "---------\n",
            "straw\n",
            "---------\n",
            "mocha\n",
            "BOTTOM\n"
          ]
        }
      ]
    },
    {
      "cell_type": "markdown",
      "source": [
        "### Mapping"
      ],
      "metadata": {
        "id": "9vkLejfvMKUK"
      }
    },
    {
      "cell_type": "markdown",
      "source": [
        "Collect a transformed version of the original items (resulting list will have same number of items as the original, but their values will be different):"
      ],
      "metadata": {
        "id": "ltX0r3z0MVdE"
      }
    },
    {
      "cell_type": "code",
      "source": [
        "letters = [\"a\", \"b\", \"c\"]\n",
        "letters.append(\"z\")\n",
        "letters"
      ],
      "metadata": {
        "colab": {
          "base_uri": "https://localhost:8080/"
        },
        "id": "PdwlafwreV_x",
        "outputId": "2e86ae3d-bd10-4ddc-db89-c1d457a4aaa8"
      },
      "execution_count": null,
      "outputs": [
        {
          "output_type": "execute_result",
          "data": {
            "text/plain": [
              "['a', 'b', 'c', 'z']"
            ]
          },
          "metadata": {},
          "execution_count": 6
        }
      ]
    },
    {
      "cell_type": "code",
      "source": [
        "flavors = [\"van\", \"choc\", \"straw\", \"mocha\"]\n",
        "\n",
        "transformed_flavors = []\n",
        "\n",
        "for flavor in flavors:\n",
        "    #print(\"---------\")\n",
        "    #print(flavor.upper())\n",
        "    transformed_flavors.append(flavor.upper())\n",
        "    #print(transformed_flavors)\n",
        "\n",
        "print(\"BOTTOM\")\n",
        "print(transformed_flavors)"
      ],
      "metadata": {
        "colab": {
          "base_uri": "https://localhost:8080/"
        },
        "id": "-XajAUfQMLye",
        "outputId": "df2bdc46-6d8f-412e-d799-98f94c592e20"
      },
      "execution_count": null,
      "outputs": [
        {
          "output_type": "stream",
          "name": "stdout",
          "text": [
            "BOTTOM\n",
            "['VAN', 'CHOC', 'STRAW', 'MOCHA']\n"
          ]
        }
      ]
    },
    {
      "cell_type": "markdown",
      "source": [
        "### Filtering"
      ],
      "metadata": {
        "id": "1d5273aTMMEB"
      }
    },
    {
      "cell_type": "markdown",
      "source": [
        "Collect a subset of of the original items, only the ones which match some logical condition (resulting list will have zero or more items):"
      ],
      "metadata": {
        "id": "x29LI_36MekM"
      }
    },
    {
      "cell_type": "code",
      "source": [
        "flavors = [\"van\", \"choc\", \"straw\", \"mocha\"]\n",
        "\n",
        "# how can we arrive at just a list of flavors that have less than five characters\n",
        "\n",
        "matching_flavors = []\n",
        "\n",
        "for item in flavors:\n",
        "    #print(\"-------\")\n",
        "    #print(item)\n",
        "\n",
        "    #if item == \"van\":\n",
        "    #    print(\"MATCH\")\n",
        "\n",
        "    if len(item) < 5:\n",
        "        #print(\"MATCH\")\n",
        "        matching_flavors.append(item)\n",
        "\n",
        "\n",
        "print(\"BOTTOM\")\n",
        "print(matching_flavors)"
      ],
      "metadata": {
        "colab": {
          "base_uri": "https://localhost:8080/"
        },
        "id": "elrdcKlAMNoS",
        "outputId": "7bc9aade-de9d-419a-8c22-20b343e1d577"
      },
      "execution_count": null,
      "outputs": [
        {
          "output_type": "stream",
          "name": "stdout",
          "text": [
            "BOTTOM\n",
            "['van', 'choc']\n"
          ]
        }
      ]
    },
    {
      "cell_type": "code",
      "source": [
        "flavors = [\"van\", \"choc\", \"straw\", \"mocha\"]\n",
        "\n",
        "# how can we arrive at just a list of flavors that have less than five characters\n",
        "\n",
        "matching_flavors = []\n",
        "\n",
        "for item in flavors:\n",
        "    #matching_flavors.append(item)\n",
        "\n",
        "    if len(item) < 5:\n",
        "        #print(\"MATCH\")\n",
        "        matching_flavors.append(item) # FILTERING\n",
        "\n",
        "print(\"BOTTOM\")\n",
        "print(matching_flavors)"
      ],
      "metadata": {
        "colab": {
          "base_uri": "https://localhost:8080/"
        },
        "id": "cOO28kdWgNRi",
        "outputId": "975a9170-8dfc-41b5-fae1-94a933241eb3"
      },
      "execution_count": null,
      "outputs": [
        {
          "output_type": "stream",
          "name": "stdout",
          "text": [
            "BOTTOM\n",
            "['van', 'choc']\n"
          ]
        }
      ]
    },
    {
      "cell_type": "markdown",
      "source": [
        "### List Comprehensions"
      ],
      "metadata": {
        "id": "kLPKRiZzQL-B"
      }
    },
    {
      "cell_type": "markdown",
      "source": [
        "See \"List Comprehensions Exercise\""
      ],
      "metadata": {
        "id": "bFOdSbRhQN-v"
      }
    },
    {
      "cell_type": "code",
      "source": [
        "flavors = [\"van\", \"choc\", \"straw\", \"mocha\"]\n",
        "\n",
        "# [___ for ___ in ______] # mapping\n",
        "# [___ for ___ in ______ if ______] # optionally, for filtering\n",
        "\n",
        "transformed_flavors = [flavor.upper() for flavor in flavors]\n",
        "\n",
        "print(transformed_flavors)"
      ],
      "metadata": {
        "colab": {
          "base_uri": "https://localhost:8080/"
        },
        "id": "ZcocNaq7juJu",
        "outputId": "17edd3d9-4747-4b55-9a90-27d23fe43a47"
      },
      "execution_count": null,
      "outputs": [
        {
          "output_type": "stream",
          "name": "stdout",
          "text": [
            "['VAN', 'CHOC', 'STRAW', 'MOCHA']\n"
          ]
        }
      ]
    },
    {
      "cell_type": "code",
      "source": [
        "flavors = [\"van\", \"choc\", \"straw\", \"mocha\"]\n",
        "\n",
        "# [___ for ___ in ______] # mapping\n",
        "# [___ for ___ in ______ if ______] # optionally, for filtering\n",
        "\n",
        "matching_flavors = [flavor for flavor in flavors if len(flavor) < 5]\n",
        "\n",
        "print(matching_flavors)"
      ],
      "metadata": {
        "colab": {
          "base_uri": "https://localhost:8080/"
        },
        "id": "EKKWDxUekjKO",
        "outputId": "96aa0308-23b9-44b9-9df5-beb2ccd4da98"
      },
      "execution_count": null,
      "outputs": [
        {
          "output_type": "stream",
          "name": "stdout",
          "text": [
            "['van', 'choc']\n"
          ]
        }
      ]
    },
    {
      "cell_type": "code",
      "source": [
        "flavors = [\"van\", \"choc\", \"straw\", \"mocha\"]\n",
        "\n",
        "# [___ for ___ in ______] # mapping\n",
        "# [___ for ___ in ______ if ______] # optionally, for filtering\n",
        "\n",
        "matching_flavors = [flavor.upper() for flavor in flavors if len(flavor) < 5]\n",
        "\n",
        "print(matching_flavors)"
      ],
      "metadata": {
        "id": "O8yWOejSlBbx",
        "outputId": "95d33694-4289-46f7-e970-219d0ea49a1b",
        "colab": {
          "base_uri": "https://localhost:8080/"
        }
      },
      "execution_count": null,
      "outputs": [
        {
          "output_type": "stream",
          "name": "stdout",
          "text": [
            "['VAN', 'CHOC']\n"
          ]
        }
      ]
    }
  ]
}