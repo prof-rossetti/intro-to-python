{
  "nbformat": 4,
  "nbformat_minor": 0,
  "metadata": {
    "colab": {
      "provenance": []
    },
    "kernelspec": {
      "name": "python3",
      "display_name": "Python 3"
    },
    "language_info": {
      "name": "python"
    }
  },
  "cells": [
    {
      "cell_type": "markdown",
      "source": [
        "\n",
        "\n",
        "# Background\n",
        "\n",
        "Pokemon is a popular video game and cartoon show.\n",
        "\n",
        "For this API Challenge, we will explore the capabilities of the Poke API, which provides access to Pokemon game data:\n",
        "  + https://pokeapi.co/\n",
        "  + https://pokeapi.co/docs/v2\n",
        "\n",
        "> \"This is a full RESTful API linked to an extensive database detailing everything about the Pokémon main game series. We've covered everything from Pokémon to Berry Flavors.\"\n"
      ],
      "metadata": {
        "id": "N74MKE724naZ"
      }
    },
    {
      "cell_type": "code",
      "execution_count": null,
      "metadata": {
        "colab": {
          "base_uri": "https://localhost:8080/",
          "height": 124
        },
        "id": "73ZrIWiKwjbv",
        "outputId": "a1114387-1aaa-4071-c40c-546f178f88b5"
      },
      "outputs": [
        {
          "output_type": "display_data",
          "data": {
            "text/html": [
              "<img src=\"https://pokeapi.co/static/pokeapi_256.3fa72200.png\"/>"
            ],
            "text/plain": [
              "<IPython.core.display.Image object>"
            ]
          },
          "metadata": {}
        }
      ],
      "source": [
        "from IPython.display import Image, Audio, display\n",
        "\n",
        "display(Image(url=\"https://pokeapi.co/static/pokeapi_256.3fa72200.png\"))"
      ]
    },
    {
      "cell_type": "code",
      "source": [
        "display(Image(url=\"https://raw.githubusercontent.com/PokeAPI/sprites/master/sprites/pokemon/25.png\"))\n",
        "Audio(url=\"https://raw.githubusercontent.com/PokeAPI/cries/main/cries/pokemon/latest/25.ogg\")"
      ],
      "metadata": {
        "colab": {
          "base_uri": "https://localhost:8080/",
          "height": 175
        },
        "id": "k6ouxmHpwn0G",
        "outputId": "9230284f-26b4-4fad-aeeb-9b15d13044ba"
      },
      "execution_count": null,
      "outputs": [
        {
          "output_type": "display_data",
          "data": {
            "text/html": [
              "<img src=\"https://raw.githubusercontent.com/PokeAPI/sprites/master/sprites/pokemon/25.png\"/>"
            ],
            "text/plain": [
              "<IPython.core.display.Image object>"
            ]
          },
          "metadata": {}
        },
        {
          "output_type": "execute_result",
          "data": {
            "text/plain": [
              "<IPython.lib.display.Audio object>"
            ],
            "text/html": [
              "\n",
              "                <audio  controls=\"controls\" >\n",
              "                    <source src=\"https://raw.githubusercontent.com/PokeAPI/cries/main/cries/pokemon/latest/25.ogg\" type=\"audio/ogg\" />\n",
              "                    Your browser does not support the audio element.\n",
              "                </audio>\n",
              "              "
            ]
          },
          "metadata": {},
          "execution_count": 4
        }
      ]
    },
    {
      "cell_type": "markdown",
      "source": [
        "\n",
        "# Challenges\n",
        "\n",
        "Our goal is to build a pokemon information lookup tool, to help pokemon trainers make data-driven decisions when battling and raising their pokemon.\n",
        "\n",
        "Basic Requirements:\n",
        "\n",
        "  + In Part 1, we will fetch and display a list of all pokemon characters.\n",
        "\n",
        "  + In Part 2, we will ask the user to choose their favorite pokemon from the list, and ensure they chose a valid name.\n",
        "  \n",
        "  + In Part 3, we will fetch and display information about the user's favorite pokemon.\n",
        "\n",
        "Further Exploration:\n",
        "\n",
        "  + In Part 4, we will loop through all the pokemon and gather information about each, and save this data to a CSV file for later.\n",
        "\n",
        "  + In Part 5, we will save this data about all Pokemon to Google Sheets (see [example sheet](https://docs.google.com/spreadsheets/d/1WhswYl9OJWJ4V0WaM_GceljIknCx6vUdOo2JDbMYBlQ/edit?usp=sharing))."
      ],
      "metadata": {
        "id": "7aDiRQWx_Gcp"
      }
    },
    {
      "cell_type": "markdown",
      "source": [
        "## Part 1 (List All Pokemon)\n"
      ],
      "metadata": {
        "id": "4MkNR3BHBH8A"
      }
    },
    {
      "cell_type": "markdown",
      "source": [
        "\n",
        "\n",
        "Goal: Display a list of pokemon from the first generation games.\n",
        "\n",
        "a) Fetch a list of first generation pokemon from the API. Use a single request only.\n",
        "\n",
        "> NOTE: first generation pokemon are the first 151 provided by the API\n",
        "\n",
        "> HINT: explore the `limit` and `offset` URL parameters of the pokemon list endpoint (https://pokeapi.co/api/v2/pokemon)\n",
        "\n",
        "\n",
        "b) Store the list of Pokemon in a variable called `first_gen`.\n",
        "\n",
        "c) Display a count of the number of Pokemon in the list (i.e. `151`).\n",
        "\n",
        "d) Loop through the pokemon and print the name of each, formatted as title case (i.e. starting with \"Bulbasaur\" and ending with \"Mew\").\n"
      ],
      "metadata": {
        "id": "PoHJuzIG6JON"
      }
    },
    {
      "cell_type": "code",
      "source": [],
      "metadata": {
        "id": "Z4U-L8kV6GYp"
      },
      "execution_count": null,
      "outputs": []
    },
    {
      "cell_type": "code",
      "source": [],
      "metadata": {
        "id": "3WjM8uJs8kJH"
      },
      "execution_count": null,
      "outputs": []
    },
    {
      "cell_type": "code",
      "source": [],
      "metadata": {
        "id": "Pc1vyEjx8k97"
      },
      "execution_count": null,
      "outputs": []
    },
    {
      "cell_type": "code",
      "source": [],
      "metadata": {
        "id": "Pv9ta0CW8q33"
      },
      "execution_count": null,
      "outputs": []
    },
    {
      "cell_type": "code",
      "source": [],
      "metadata": {
        "id": "xvZEXs1763pU"
      },
      "execution_count": null,
      "outputs": []
    },
    {
      "cell_type": "code",
      "source": [],
      "metadata": {
        "id": "G-n26Hng812p"
      },
      "execution_count": null,
      "outputs": []
    },
    {
      "cell_type": "markdown",
      "source": [
        "## Part 2 (Lookup Pokemon)\n"
      ],
      "metadata": {
        "id": "s3JXwuimCeLy"
      }
    },
    {
      "cell_type": "markdown",
      "source": [
        "Goal: Prompt the user to input their favorite pokemon, and perform validations to ensure they input a valid name.\n",
        "\n",
        "a) Prompt the user to input the name of their favorite Pokemon, based on the list of names displayed in Part 1.\n",
        "\n",
        "b) Store their favorite Pokemon name in a variable called `fav_name`.\n",
        "\n",
        "c) Lookup the favorite pokemon name from the list of Pokemon obtained in Part 1. Perform validations such that if the user types a valid name, the program will display the name and URL of the matching Pokemon (i.e. ` 'snorlax'`, `'https://pokeapi.co/api/v2/pokemon/143/'`). Otherwise if they mistype the Pokemon name, the program should display a message like \"OOPS, invalid name, please try again.\"\n",
        "\n",
        "> CHALLENGE: optionally perform this validation step within a loop that will allow the user to continuously try again until they finally input a valid name.\n"
      ],
      "metadata": {
        "id": "hnlFXp2F64F_"
      }
    },
    {
      "cell_type": "code",
      "source": [],
      "metadata": {
        "id": "2a_qpAEk74DB"
      },
      "execution_count": null,
      "outputs": []
    },
    {
      "cell_type": "code",
      "source": [],
      "metadata": {
        "id": "nX_s1-P_6GOJ"
      },
      "execution_count": null,
      "outputs": []
    },
    {
      "cell_type": "markdown",
      "source": [
        "## Part 3 (Get Pokemon Info)"
      ],
      "metadata": {
        "id": "YTH-cSw07K1o"
      }
    },
    {
      "cell_type": "markdown",
      "source": [
        "\n",
        "Goal: Fetch detailed information about the user's favorite Pokemon inputted in Part 2.\n",
        "\n",
        "> HINT: see https://pokeapi.co/docs/v2#pokemon-section\n",
        "\n",
        "Using data from the Poke API, address the following challenges:\n",
        "\n",
        "a) Display the following information about the selected Pokemon:\n",
        "\n",
        "   + Name (i.e. `\"Snorlax\"`)\n",
        "   + Height (i.e. `21`), presumably this is in feet\n",
        "   + Weight (i.e. `4600`), presumably this is in lbs\n",
        "   + Base Experience (i.e. `189`)\n",
        "\n",
        "\n",
        "b) Display a thumbnail image of the Pokemon, for example using its \"front default sprite\".\n",
        "\n",
        "c) Play an audio of the Pokemon's cry, using its \"latest cry\".\n",
        "\n",
        "\n",
        "d) Display additional information about the selected Pokemon:\n",
        "   + Types, formatted as a simple list of strings (i.e. `['Normal']`)\n",
        "   + Abilities, formatted as a simple list of strings (i.e. `['Immunity', 'Thick-Fat', 'Gluttony']`)\n",
        "   + Items, formatted as a simple list of strings (i.e. `['Chesto-Berry', 'Leftovers']`)\n",
        "\n",
        "\n",
        "e) Display the Pokemon's stats, including:\n",
        "\n",
        "  +  HP (i.e. `160`)\n",
        "  + Attack (i.e. `110`)\n",
        "  + Defense (i.e. `65`)\n",
        "  + Special Attack (i.e. `65`)\n",
        "  + Special Defense (i.e. `110`)\n",
        "  + Speed (i.e. `30`).\n",
        "\n"
      ],
      "metadata": {
        "id": "tiHl4BFSBDbK"
      }
    },
    {
      "cell_type": "code",
      "source": [],
      "metadata": {
        "id": "VvItWrG67M6M"
      },
      "execution_count": null,
      "outputs": []
    },
    {
      "cell_type": "code",
      "source": [],
      "metadata": {
        "id": "xFv7j9C0_qmh"
      },
      "execution_count": null,
      "outputs": []
    },
    {
      "cell_type": "code",
      "source": [],
      "metadata": {
        "id": "2c-RGVU57WK9"
      },
      "execution_count": null,
      "outputs": []
    },
    {
      "cell_type": "code",
      "source": [],
      "metadata": {
        "id": "M2h0__ZL7aYi"
      },
      "execution_count": null,
      "outputs": []
    },
    {
      "cell_type": "code",
      "source": [],
      "metadata": {
        "id": "8OfWuOjn7bKS"
      },
      "execution_count": null,
      "outputs": []
    },
    {
      "cell_type": "code",
      "source": [],
      "metadata": {
        "id": "eMbaiAkM7cDj"
      },
      "execution_count": null,
      "outputs": []
    },
    {
      "cell_type": "code",
      "source": [],
      "metadata": {
        "id": "UnIKR-C37Jfu"
      },
      "execution_count": null,
      "outputs": []
    },
    {
      "cell_type": "code",
      "source": [],
      "metadata": {
        "id": "XekRMfKLBaL6"
      },
      "execution_count": null,
      "outputs": []
    },
    {
      "cell_type": "markdown",
      "source": [
        "## Part 4 (Pokemon Database)"
      ],
      "metadata": {
        "id": "dvC5uLQA6arj"
      }
    },
    {
      "cell_type": "markdown",
      "source": [
        "Motivation: Everytime we fetch data about a pokemon, we are making a network request, which takes time. How about if we go through a one time process where we collect data for all the pokemon and store it somewhere for easier reference?\n",
        "\n",
        "Goal: loop through all the first generation pokemon and collect data about each, and store all the data in a single CSV file.\n",
        "\n",
        "a) Loop through each Pokemon in the `first_gen` list, and print the name and URL for each.\n",
        "\n",
        "b) Within the loop, make a request for data about each pokemon, using the provided URL.\n",
        "\n",
        "c) Within the loop, create a simple dictionary of information for each Pokemon (to simplify the super nested structure and only keep the data we care about). Also \"collect\" this simplified dictionary for later, into a list called `db`.\n",
        "\n",
        "\n",
        "d) When your loop finishes, print the number of items in the `db` list, as well as the first item.\n",
        "\n",
        "...\n",
        "\n",
        "e) Pass the list of dictionaries (`db`) to the pandas `DataFrame` class constructor, to initialize a new instance of the dataframe datatype, using the Pokemon data we collected.\n",
        "\n",
        "f) Display the number of rows in the dataframe, as well as the first few records.\n",
        "\n",
        "g) Save the dataframe to a CSV file called \"first_gen_pokemon.csv\"."
      ],
      "metadata": {
        "id": "vkOx63KQI3fJ"
      }
    },
    {
      "cell_type": "code",
      "source": [],
      "metadata": {
        "id": "9nrc6iTKDVEm"
      },
      "execution_count": null,
      "outputs": []
    },
    {
      "cell_type": "code",
      "source": [],
      "metadata": {
        "id": "h6ON9LRLJLlp"
      },
      "execution_count": null,
      "outputs": []
    },
    {
      "cell_type": "code",
      "source": [],
      "metadata": {
        "id": "mxm2tblAJLgl"
      },
      "execution_count": null,
      "outputs": []
    },
    {
      "cell_type": "markdown",
      "source": [
        "Code for parts E, F, and G:"
      ],
      "metadata": {
        "id": "n-OWW2X43H29"
      }
    },
    {
      "cell_type": "code",
      "source": [
        "# from pandas import DataFrame\n",
        "#\n",
        "# df = DataFrame(db)\n",
        "# print(len(df))\n",
        "# df.head()"
      ],
      "metadata": {
        "id": "tta635-Q2vmV"
      },
      "execution_count": null,
      "outputs": []
    },
    {
      "cell_type": "code",
      "source": [
        "# df.to_csv(\"first_gen_pokemon.csv\", index=False)"
      ],
      "metadata": {
        "id": "sKHpoBOQ2vYC"
      },
      "execution_count": null,
      "outputs": []
    },
    {
      "cell_type": "markdown",
      "source": [
        "## Part 5 (Google Sheets Database)"
      ],
      "metadata": {
        "id": "bkdnzBnwDaMF"
      }
    },
    {
      "cell_type": "markdown",
      "source": [
        "Stretch Goal: In addition to storing the Pokemon database to CSV file, also write the data to Google Sheets (like this [example](https://docs.google.com/spreadsheets/d/1WhswYl9OJWJ4V0WaM_GceljIknCx6vUdOo2JDbMYBlQ/edit#gid=788962999)).\n",
        "\n",
        "Setup: Create a new google sheet document, and note it's identifier (i.e. `GOOGLE_SHEETS_DOCUMENT_ID`). Create a new sheet within this document called \"gen-1\".\n",
        "\n",
        "References:\n",
        "\n",
        "  + https://github.com/prof-rossetti/intro-to-python/blob/main/notes/python/packages/gspread.md\n",
        "\n",
        "a) Use some boilerplate Google Colab authentication code to login with your Google Account.\n",
        "\n",
        "b) Set the `GOOGLE_SHEETS_DOCUMENT_ID` to reference the identifier to the document you set up.\n",
        "\n",
        "c) Install the `gspread` package via pip, as necessary, and use it to access the document provided by the `GOOGLE_SHEETS_DOCUMENT_ID`. Verify by printing a list of the sheet names that currently exist in this document.\n",
        "\n",
        "d) Finally, write the dataframe data to the \"gen-1\" sheet.\n",
        "\n",
        "\n",
        "> NOTE: when trying to write data to the sheet, if any columns have list values (for types, held items, abilities, etc.), that will trigger an error. To work around this error, we can use an approach like this to convert each column of lists to a column of comma separated strings instead:\n",
        ">\n",
        ">  `df[\"types\"] = df[\"types\"].str.join(\", \")`.\n",
        ">\n",
        "> These new columns of comma separated strings can be written to the sheet without error."
      ],
      "metadata": {
        "id": "tc0ES2YNFiZN"
      }
    },
    {
      "cell_type": "code",
      "source": [
        "# df[\"types\"] = df[\"types\"].str.join(\", \")\n",
        "# df[\"held_items\"] = df[\"held_items\"].str.join(\", \")\n",
        "# df[\"abilities\"] = df[\"abilities\"].str.join(\", \")\n",
        "# df.head()"
      ],
      "metadata": {
        "id": "kyplVk9tGvLc"
      },
      "execution_count": null,
      "outputs": []
    },
    {
      "cell_type": "code",
      "source": [
        "# %%capture\n",
        "# !pip install gspread"
      ],
      "metadata": {
        "id": "e9fcKGww3ipB"
      },
      "execution_count": null,
      "outputs": []
    },
    {
      "cell_type": "code",
      "source": [],
      "metadata": {
        "id": "gT9C4lXO3oV5"
      },
      "execution_count": null,
      "outputs": []
    },
    {
      "cell_type": "code",
      "source": [
        "GOOGLE_SHEETS_DOCUMENT_ID = \"...\"\n",
        "\n"
      ],
      "metadata": {
        "id": "kF53HmP4JFos"
      },
      "execution_count": null,
      "outputs": []
    },
    {
      "cell_type": "code",
      "source": [],
      "metadata": {
        "id": "OFv7b-EN1DRG"
      },
      "execution_count": null,
      "outputs": []
    },
    {
      "cell_type": "code",
      "source": [],
      "metadata": {
        "id": "_7-dbQsfGht6"
      },
      "execution_count": null,
      "outputs": []
    },
    {
      "cell_type": "code",
      "source": [],
      "metadata": {
        "id": "AbNvxEdoGSjV"
      },
      "execution_count": null,
      "outputs": []
    },
    {
      "cell_type": "code",
      "source": [],
      "metadata": {
        "id": "GqjQne4GJFl1"
      },
      "execution_count": null,
      "outputs": []
    },
    {
      "cell_type": "code",
      "source": [],
      "metadata": {
        "id": "0q5LWapUJFhu"
      },
      "execution_count": null,
      "outputs": []
    }
  ]
}