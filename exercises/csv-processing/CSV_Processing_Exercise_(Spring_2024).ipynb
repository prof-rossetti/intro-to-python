{
  "nbformat": 4,
  "nbformat_minor": 0,
  "metadata": {
    "colab": {
      "provenance": [],
      "authorship_tag": "ABX9TyM8UWrTWOvy/uXFiOa9b4+R",
      "include_colab_link": true
    },
    "kernelspec": {
      "name": "python3",
      "display_name": "Python 3"
    }
  },
  "cells": [
    {
      "cell_type": "markdown",
      "metadata": {
        "id": "view-in-github",
        "colab_type": "text"
      },
      "source": [
        "<a href=\"https://colab.research.google.com/github/prof-rossetti/intro-to-python/blob/main/exercises/csv-processing/CSV_Processing_Exercise_(Spring_2024).ipynb\" target=\"_parent\"><img src=\"https://colab.research.google.com/assets/colab-badge.svg\" alt=\"Open In Colab\"/></a>"
      ]
    },
    {
      "cell_type": "markdown",
      "metadata": {
        "id": "wbaQ4VhP0UKx"
      },
      "source": [
        "# Instructions\n",
        "\n",
        "Each of these challenges provides a different CSV formatted dataset. Write Python code to process each file and answer the respective questions about the data contained within.\n"
      ]
    },
    {
      "cell_type": "markdown",
      "metadata": {
        "id": "YCUuLa2J0RHU"
      },
      "source": [
        "\n",
        "# References\n",
        "\n",
        "You will find the following reference material directly helpful in completing this exercise.\n",
        "\n",
        "Working with CSV files:\n",
        "\n",
        "  + [`pandas.read_csv()`](https://pandas.pydata.org/pandas-docs/stable/reference/api/pandas.read_csv.html)\n",
        "  + [`pandas.DataFrame`](https://pandas.pydata.org/pandas-docs/stable/reference/api/pandas.DataFrame.html):\n",
        "    + [`pandas.DataFrame.iterrows()`](https://pandas.pydata.org/pandas-docs/stable/reference/api/pandas.DataFrame.iterrows.html)\n",
        "    + [`pandas.DataFrame.groupby()`](https://pandas.pydata.org/pandas-docs/stable/reference/api/pandas.DataFrame.groupby.html)\n",
        "  + [`pandas.Series`](https://pandas.pydata.org/pandas-docs/stable/reference/api/pandas.Series.html):\n",
        "    + [`pandas.Series.map()`](https://pandas.pydata.org/pandas-docs/stable/reference/api/pandas.Series.map.html)\n",
        "    + [`pandas.Series.value_counts()`](https://pandas.pydata.org/pandas-docs/stable/reference/api/pandas.Series.value_counts.html)\n",
        "  + [`pandas.pivot_table()`](https://pandas.pydata.org/docs/reference/api/pandas.pivot_table.html)\n",
        "\n",
        "\n",
        "\n",
        "    \n",
        "\n",
        "\n"
      ]
    },
    {
      "cell_type": "markdown",
      "source": [
        "# Challenges"
      ],
      "metadata": {
        "id": "sibPuGCWALm-"
      }
    },
    {
      "cell_type": "markdown",
      "metadata": {
        "id": "5b06VpNVE4C5"
      },
      "source": [
        "## Challenge 1 (Gradebook)"
      ]
    },
    {
      "cell_type": "markdown",
      "metadata": {
        "id": "20nwP1b_FNGe"
      },
      "source": [
        "\n",
        "Given the provided \"gradebook.csv\" file, write Python code to read the CSV data and perform each of the following tasks...\n",
        "\n",
        "A) Print the **column names** (i.e. `['student_id', 'final_grade']`).\n",
        "\n",
        "B) Print the **number of students** / rows (i.e. `10`).\n",
        "\n",
        "C) Print the **average grade** (i.e. `83.64`).\n",
        "\n",
        "D) Print the **median grade** (i.e. ` 87.6`).\n",
        "\n",
        "E) Create another column on the DataFrame called \"letter_grade\", and use a custom function to assign each numeric score a corresponding **letter grade**.\n",
        "\n",
        "> HINT: use the Series object's `apply()` or `map()` method\n",
        "\n",
        "\n",
        "F) Print the **percentage of students who got each letter grade**.\n",
        "\n",
        "> HINT: use the Series object's `value_counts()` method"
      ]
    },
    {
      "cell_type": "code",
      "source": [
        "from pandas import read_csv\n",
        "\n",
        "#\n",
        "# GRADEBOOK\n",
        "#\n",
        "\n",
        "#df = read_csv(\"gradebook.csv\")\n",
        "df = read_csv(\"https://raw.githubusercontent.com/prof-rossetti/intro-to-python/master/data/gradebook.csv\")\n",
        "\n",
        "print(df.head())"
      ],
      "metadata": {
        "colab": {
          "base_uri": "https://localhost:8080/"
        },
        "id": "BDgxuJH3QRTm",
        "outputId": "f48b6266-3615-4c0f-f033-ec34972f5002"
      },
      "execution_count": null,
      "outputs": [
        {
          "output_type": "stream",
          "name": "stdout",
          "text": [
            "   student_id  final_grade\n",
            "0           1         76.7\n",
            "1           2         85.1\n",
            "2           3         50.3\n",
            "3           4         89.8\n",
            "4           5         97.4\n"
          ]
        }
      ]
    },
    {
      "cell_type": "code",
      "source": [],
      "metadata": {
        "id": "Eh4nBhe8W9sm"
      },
      "execution_count": null,
      "outputs": []
    },
    {
      "cell_type": "code",
      "source": [],
      "metadata": {
        "id": "kte_0sExW9pu"
      },
      "execution_count": null,
      "outputs": []
    },
    {
      "cell_type": "code",
      "metadata": {
        "id": "2Xm_a4xF_Nwh",
        "colab": {
          "base_uri": "https://localhost:8080/"
        },
        "outputId": "23522816-ae37-412b-faaf-711f7d4b1c10"
      },
      "source": [
        "\n",
        "# HERE IS AN EXAMPLE FUNCTION TO USE FOR LETTER GRADE CONVERSION (FEEL FREE TO REVISE AS DESIRED)\n",
        "\n",
        "def calculate_grade(score):\n",
        "    if score >= 75.0:\n",
        "        grade = \"Pass\"\n",
        "    else:\n",
        "        grade = \"Fail\"\n",
        "    return grade\n",
        "\n",
        "\n",
        "# example invocations:\n",
        "print(calculate_grade(50))\n",
        "print(calculate_grade(90))"
      ],
      "execution_count": null,
      "outputs": [
        {
          "output_type": "stream",
          "name": "stdout",
          "text": [
            "Fail\n",
            "Pass\n"
          ]
        }
      ]
    },
    {
      "cell_type": "code",
      "source": [],
      "metadata": {
        "id": "Q0pwHNEZQU30"
      },
      "execution_count": null,
      "outputs": []
    },
    {
      "cell_type": "code",
      "source": [],
      "metadata": {
        "id": "jgLxWvtIVJiK"
      },
      "execution_count": null,
      "outputs": []
    },
    {
      "cell_type": "code",
      "source": [],
      "metadata": {
        "id": "J6B6VAQqW6Ii"
      },
      "execution_count": null,
      "outputs": []
    },
    {
      "cell_type": "code",
      "source": [],
      "metadata": {
        "id": "gxM_q1ZJW6GN"
      },
      "execution_count": null,
      "outputs": []
    },
    {
      "cell_type": "markdown",
      "metadata": {
        "id": "Erj3QCpkFBx0"
      },
      "source": [
        "## Challenge 2 (Products)\n",
        "\n",
        "Given the provided \"products.csv\" file, write Python code to read the CSV data and perform each of the following tasks...\n",
        "\n",
        "A) Print the **number of products** (rows) (i.e. `20`).\n",
        "\n",
        "B) Print the **columns** (i.e. `['id', 'name', 'aisle', 'department', 'price']`).\n",
        "\n",
        "B) Loop through each of the rows and **print the name and price of each product**. Use the provided `to_usd` function to format prices as USD with dollar sign and two decimal places.\n"
      ]
    },
    {
      "cell_type": "code",
      "metadata": {
        "id": "nGbRcwzl_ar0",
        "colab": {
          "base_uri": "https://localhost:8080/"
        },
        "outputId": "e853408a-15b3-4e40-c26b-bdd8d5c3af72"
      },
      "source": [
        "\n",
        "# HERE IS A PRICE FORMATTING FUNCTION FOR YOU TO USE\n",
        "\n",
        "def to_usd(my_price):\n",
        "    \"\"\"\n",
        "        Converts a numeric value to USD-formatted string, for printing and display purposes.\n",
        "        Adds dollar sign and commas for the thousands separator.\n",
        "        Rounds to two decimal places.\n",
        "\n",
        "        Param: my_price (int or float or str) like 4000.444444 or \"4000.444444\"\n",
        "\n",
        "        Example: to_usd(4000.444444)\n",
        "\n",
        "        Returns: $4,000.44\n",
        "    \"\"\"\n",
        "    return f\"${float(my_price):,.2f}\"\n",
        "\n",
        "\n",
        "# example invocations:\n",
        "print(to_usd(4.5))\n",
        "print(to_usd(1234567890.12345))"
      ],
      "execution_count": null,
      "outputs": [
        {
          "output_type": "stream",
          "name": "stdout",
          "text": [
            "$4.50\n",
            "$1,234,567,890.12\n"
          ]
        }
      ]
    },
    {
      "cell_type": "code",
      "metadata": {
        "id": "9XzkP4dG_m4l",
        "colab": {
          "base_uri": "https://localhost:8080/"
        },
        "outputId": "6a1e4274-1a9c-4337-a719-568743ba39f1"
      },
      "source": [
        "#\n",
        "# PRODUCTS\n",
        "#\n",
        "\n",
        "from pandas import read_csv\n",
        "\n",
        "#df = read_csv(\"products.csv\")\n",
        "df = read_csv(\"https://raw.githubusercontent.com/prof-rossetti/intro-to-python/master/data/products.csv\")\n",
        "\n",
        "print(df.head())"
      ],
      "execution_count": null,
      "outputs": [
        {
          "output_type": "stream",
          "name": "stdout",
          "text": [
            "   id                                               name  \\\n",
            "0   1                         Chocolate Sandwich Cookies   \n",
            "1   2                                   All-Seasons Salt   \n",
            "2   3               Robust Golden Unsweetened Oolong Tea   \n",
            "3   4  Smart Ones Classic Favorites Mini Rigatoni Wit...   \n",
            "4   5                          Green Chile Anytime Sauce   \n",
            "\n",
            "                        aisle department  price  \n",
            "0               cookies cakes     snacks   3.50  \n",
            "1           spices seasonings     pantry   4.99  \n",
            "2                         tea  beverages   2.49  \n",
            "3                frozen meals     frozen   6.99  \n",
            "4  marinades meat preparation     pantry   7.99  \n"
          ]
        }
      ]
    },
    {
      "cell_type": "code",
      "source": [],
      "metadata": {
        "id": "05ExyBv3RRK3"
      },
      "execution_count": null,
      "outputs": []
    },
    {
      "cell_type": "code",
      "source": [],
      "metadata": {
        "id": "3rXQ8jQrVORa"
      },
      "execution_count": null,
      "outputs": []
    },
    {
      "cell_type": "code",
      "source": [],
      "metadata": {
        "id": "ra_su82lVOLD"
      },
      "execution_count": null,
      "outputs": []
    },
    {
      "cell_type": "markdown",
      "source": [
        "## Challenge 3 (Monthly Sales)"
      ],
      "metadata": {
        "id": "ZeG0Tijy_RDI"
      }
    },
    {
      "cell_type": "markdown",
      "source": [
        "\n",
        "Given the provided `sales_df` variable representing monthly retail sales, write Python code to read the CSV data and perform each of the following tasks...\n",
        "\n",
        "\n",
        "A) What is the **structure** of this data. In other words, we have a \"row per what?\" Describe your answer in words.\n",
        "\n",
        "\n",
        "B) How many **unique products** are sold (i.e. `7`), and what are their names? Print the list of unique products in alphabetical order (i.e. `['Baseball Cap', 'Brown Boots', 'Button-Down Shirt', 'Khaki Pants', 'Sticker Pack', 'Super Soft Hoodie', 'Vintage Logo Tee']`).\n",
        "\n",
        "C) Print the **total monthly sales**, formatted as USD (i.e. `\"$12,000.71\"`).\n",
        "\n",
        "\n",
        "D) Calculate the **total sales for each day**, and create a bar or line chart depicting the sales over time. Optionally  also print which five dates have the most sales.\n",
        "\n",
        "\n",
        "\n",
        "<img src=\"https://user-images.githubusercontent.com/1328807/211162483-1418bd1c-7e43-42bc-b2c4-b5c24e242f0a.png\" height=\"300\"/>\n",
        "\n",
        "\n",
        "\n",
        "\n",
        "E) Determine the **total sales for each product**, and create a horizontal bar chart to show the top selling products, with the bars sorted in descending order of their length.\n",
        "\n",
        "\n",
        "\n",
        "\n",
        "<img src=\"https://user-images.githubusercontent.com/1328807/211162481-07593a51-57f9-4bfd-ab14-f0878d8bc960.png\" height=\"300\"/>\n",
        "\n",
        "\n",
        "\n",
        "\n"
      ],
      "metadata": {
        "id": "28gXC34HMbX9"
      }
    },
    {
      "cell_type": "code",
      "source": [
        "#\n",
        "# MONTHLY SALES\n",
        "#\n",
        "\n",
        "month = \"201803\"\n",
        "sales_df = read_csv(f\"https://raw.githubusercontent.com/prof-rossetti/data-analytics-in-python/main/data/unit-2/monthly-sales/sales-{month}.csv\")\n",
        "sales_df.head()"
      ],
      "metadata": {
        "colab": {
          "base_uri": "https://localhost:8080/",
          "height": 206
        },
        "id": "lJeSWjfNAZdy",
        "outputId": "77e0fa96-c382-4396-9fbd-b46c22b652b3"
      },
      "execution_count": null,
      "outputs": [
        {
          "output_type": "execute_result",
          "data": {
            "text/plain": [
              "         date            product  unit price  units sold  sales price\n",
              "0  2018-03-01  Button-Down Shirt       65.05           2       130.10\n",
              "1  2018-03-01   Vintage Logo Tee       15.95           1        15.95\n",
              "2  2018-03-01       Sticker Pack        4.50           1         4.50\n",
              "3  2018-03-02  Super Soft Hoodie       75.00           2       150.00\n",
              "4  2018-03-02  Button-Down Shirt       65.05           7       455.35"
            ],
            "text/html": [
              "\n",
              "  <div id=\"df-5bde5a6f-b1a2-4752-a138-b4cc633c61ac\">\n",
              "    <div class=\"colab-df-container\">\n",
              "      <div>\n",
              "<style scoped>\n",
              "    .dataframe tbody tr th:only-of-type {\n",
              "        vertical-align: middle;\n",
              "    }\n",
              "\n",
              "    .dataframe tbody tr th {\n",
              "        vertical-align: top;\n",
              "    }\n",
              "\n",
              "    .dataframe thead th {\n",
              "        text-align: right;\n",
              "    }\n",
              "</style>\n",
              "<table border=\"1\" class=\"dataframe\">\n",
              "  <thead>\n",
              "    <tr style=\"text-align: right;\">\n",
              "      <th></th>\n",
              "      <th>date</th>\n",
              "      <th>product</th>\n",
              "      <th>unit price</th>\n",
              "      <th>units sold</th>\n",
              "      <th>sales price</th>\n",
              "    </tr>\n",
              "  </thead>\n",
              "  <tbody>\n",
              "    <tr>\n",
              "      <th>0</th>\n",
              "      <td>2018-03-01</td>\n",
              "      <td>Button-Down Shirt</td>\n",
              "      <td>65.05</td>\n",
              "      <td>2</td>\n",
              "      <td>130.10</td>\n",
              "    </tr>\n",
              "    <tr>\n",
              "      <th>1</th>\n",
              "      <td>2018-03-01</td>\n",
              "      <td>Vintage Logo Tee</td>\n",
              "      <td>15.95</td>\n",
              "      <td>1</td>\n",
              "      <td>15.95</td>\n",
              "    </tr>\n",
              "    <tr>\n",
              "      <th>2</th>\n",
              "      <td>2018-03-01</td>\n",
              "      <td>Sticker Pack</td>\n",
              "      <td>4.50</td>\n",
              "      <td>1</td>\n",
              "      <td>4.50</td>\n",
              "    </tr>\n",
              "    <tr>\n",
              "      <th>3</th>\n",
              "      <td>2018-03-02</td>\n",
              "      <td>Super Soft Hoodie</td>\n",
              "      <td>75.00</td>\n",
              "      <td>2</td>\n",
              "      <td>150.00</td>\n",
              "    </tr>\n",
              "    <tr>\n",
              "      <th>4</th>\n",
              "      <td>2018-03-02</td>\n",
              "      <td>Button-Down Shirt</td>\n",
              "      <td>65.05</td>\n",
              "      <td>7</td>\n",
              "      <td>455.35</td>\n",
              "    </tr>\n",
              "  </tbody>\n",
              "</table>\n",
              "</div>\n",
              "      <button class=\"colab-df-convert\" onclick=\"convertToInteractive('df-5bde5a6f-b1a2-4752-a138-b4cc633c61ac')\"\n",
              "              title=\"Convert this dataframe to an interactive table.\"\n",
              "              style=\"display:none;\">\n",
              "        \n",
              "  <svg xmlns=\"http://www.w3.org/2000/svg\" height=\"24px\"viewBox=\"0 0 24 24\"\n",
              "       width=\"24px\">\n",
              "    <path d=\"M0 0h24v24H0V0z\" fill=\"none\"/>\n",
              "    <path d=\"M18.56 5.44l.94 2.06.94-2.06 2.06-.94-2.06-.94-.94-2.06-.94 2.06-2.06.94zm-11 1L8.5 8.5l.94-2.06 2.06-.94-2.06-.94L8.5 2.5l-.94 2.06-2.06.94zm10 10l.94 2.06.94-2.06 2.06-.94-2.06-.94-.94-2.06-.94 2.06-2.06.94z\"/><path d=\"M17.41 7.96l-1.37-1.37c-.4-.4-.92-.59-1.43-.59-.52 0-1.04.2-1.43.59L10.3 9.45l-7.72 7.72c-.78.78-.78 2.05 0 2.83L4 21.41c.39.39.9.59 1.41.59.51 0 1.02-.2 1.41-.59l7.78-7.78 2.81-2.81c.8-.78.8-2.07 0-2.86zM5.41 20L4 18.59l7.72-7.72 1.47 1.35L5.41 20z\"/>\n",
              "  </svg>\n",
              "      </button>\n",
              "      \n",
              "  <style>\n",
              "    .colab-df-container {\n",
              "      display:flex;\n",
              "      flex-wrap:wrap;\n",
              "      gap: 12px;\n",
              "    }\n",
              "\n",
              "    .colab-df-convert {\n",
              "      background-color: #E8F0FE;\n",
              "      border: none;\n",
              "      border-radius: 50%;\n",
              "      cursor: pointer;\n",
              "      display: none;\n",
              "      fill: #1967D2;\n",
              "      height: 32px;\n",
              "      padding: 0 0 0 0;\n",
              "      width: 32px;\n",
              "    }\n",
              "\n",
              "    .colab-df-convert:hover {\n",
              "      background-color: #E2EBFA;\n",
              "      box-shadow: 0px 1px 2px rgba(60, 64, 67, 0.3), 0px 1px 3px 1px rgba(60, 64, 67, 0.15);\n",
              "      fill: #174EA6;\n",
              "    }\n",
              "\n",
              "    [theme=dark] .colab-df-convert {\n",
              "      background-color: #3B4455;\n",
              "      fill: #D2E3FC;\n",
              "    }\n",
              "\n",
              "    [theme=dark] .colab-df-convert:hover {\n",
              "      background-color: #434B5C;\n",
              "      box-shadow: 0px 1px 3px 1px rgba(0, 0, 0, 0.15);\n",
              "      filter: drop-shadow(0px 1px 2px rgba(0, 0, 0, 0.3));\n",
              "      fill: #FFFFFF;\n",
              "    }\n",
              "  </style>\n",
              "\n",
              "      <script>\n",
              "        const buttonEl =\n",
              "          document.querySelector('#df-5bde5a6f-b1a2-4752-a138-b4cc633c61ac button.colab-df-convert');\n",
              "        buttonEl.style.display =\n",
              "          google.colab.kernel.accessAllowed ? 'block' : 'none';\n",
              "\n",
              "        async function convertToInteractive(key) {\n",
              "          const element = document.querySelector('#df-5bde5a6f-b1a2-4752-a138-b4cc633c61ac');\n",
              "          const dataTable =\n",
              "            await google.colab.kernel.invokeFunction('convertToInteractive',\n",
              "                                                     [key], {});\n",
              "          if (!dataTable) return;\n",
              "\n",
              "          const docLinkHtml = 'Like what you see? Visit the ' +\n",
              "            '<a target=\"_blank\" href=https://colab.research.google.com/notebooks/data_table.ipynb>data table notebook</a>'\n",
              "            + ' to learn more about interactive tables.';\n",
              "          element.innerHTML = '';\n",
              "          dataTable['output_type'] = 'display_data';\n",
              "          await google.colab.output.renderOutput(dataTable, element);\n",
              "          const docLink = document.createElement('div');\n",
              "          docLink.innerHTML = docLinkHtml;\n",
              "          element.appendChild(docLink);\n",
              "        }\n",
              "      </script>\n",
              "    </div>\n",
              "  </div>\n",
              "  "
            ]
          },
          "metadata": {},
          "execution_count": 5
        }
      ]
    },
    {
      "cell_type": "markdown",
      "source": [
        "Answer for A (fill in blanks):\n",
        "\n",
        "Looks like we have a row per _____________ per __________."
      ],
      "metadata": {
        "id": "dVdjZ3rnPHPk"
      }
    },
    {
      "cell_type": "code",
      "source": [],
      "metadata": {
        "id": "Tka_YC9vMj-j"
      },
      "execution_count": null,
      "outputs": []
    },
    {
      "cell_type": "code",
      "source": [],
      "metadata": {
        "id": "LwlDQ93rSnQ3"
      },
      "execution_count": null,
      "outputs": []
    },
    {
      "cell_type": "code",
      "source": [],
      "metadata": {
        "id": "CkfKCXoNAp2g"
      },
      "execution_count": null,
      "outputs": []
    },
    {
      "cell_type": "code",
      "source": [],
      "metadata": {
        "id": "_zOxes9zLN1S"
      },
      "execution_count": null,
      "outputs": []
    },
    {
      "cell_type": "code",
      "source": [],
      "metadata": {
        "id": "mjzhvDGqBQ80"
      },
      "execution_count": null,
      "outputs": []
    },
    {
      "cell_type": "code",
      "source": [],
      "metadata": {
        "id": "jWLpl52HCCMZ"
      },
      "execution_count": null,
      "outputs": []
    },
    {
      "cell_type": "markdown",
      "metadata": {
        "id": "T3pog_lUEnH9"
      },
      "source": [
        "## Challenge 4 (Albums)"
      ]
    },
    {
      "cell_type": "markdown",
      "metadata": {
        "id": "p1YRvNq9D-0B"
      },
      "source": [
        "\n",
        "Given the provided \"albums.csv\" file, write Python code to read the CSV data and perform each of the following tasks...\n",
        "\n",
        "> artist_id | artist_name | album_id | album_title\n",
        "> --- | ---  | ---  | ---\n",
        "> 1 | AC/DC | 1 | For Those About To Rock We Salute You\n",
        "> 1 | AC/DC | 4 | Let There Be Rock\n",
        "> 3 | Aerosmith | 5 | Big Ones\n",
        "> 4 | Alanis Morissette | 6 | Jagged Little Pill\n",
        "> 68 | Miles Davis | 48 | The Essential Miles Davis [Disc 1]\n",
        "> 68 | Miles Davis | 49 | The Essential Miles Davis [Disc 2]\n",
        "> 59 | Santana | 197 | Santana - As Years Go By\n",
        "> 59 | Santana | 198 | Santana Live\n",
        "\n",
        "\n",
        "\n",
        "A) Print a list of the CSV file's **column names** (i.e. `['artist_id', 'artist_name', 'album_id', 'album_title']`).\n",
        "\n",
        "B) Print the **number of rows** in the CSV file, excluding the header row (i.e. `347`).\n",
        "\n",
        "C) Assuming each \"artist_id\" represents a unique artist, print the **number of unique artists** (i.e. `204`).\n",
        "\n",
        "D) Assuming each \"album_id\" represents a unique album, identify **which five artists have the most albums**, and print that artist's name and corresponding album count\n",
        "\n",
        "> FYI: the following table depicts the top five artists by album count...\n",
        ">\n",
        "> | artist_name   | album_count |\n",
        "> |---------------|----------|\n",
        "> | Iron Maiden   | 21       |\n",
        "> | Led Zeppelin  | 14       |\n",
        "> | Deep Purple   | 11       |\n",
        "> | Metallica     | 10       |\n",
        "> | U2            | 10       |\n",
        "\n",
        "\n"
      ]
    },
    {
      "cell_type": "code",
      "metadata": {
        "id": "QDzPKrLGdJZj",
        "colab": {
          "base_uri": "https://localhost:8080/"
        },
        "outputId": "42bf92f0-5812-406d-de4b-58e24a0ac4fe"
      },
      "source": [
        "\n",
        "#\n",
        "# ALBUMS\n",
        "#\n",
        "\n",
        "df = read_csv(\"https://gist.githubusercontent.com/s2t2/f2b01347c06258cad28e7331f1e9320f/raw/b61ea33cd18aaadf885eb04544d921c9d9445e21/albums.csv\")\n",
        "print(df.head())"
      ],
      "execution_count": null,
      "outputs": [
        {
          "output_type": "stream",
          "name": "stdout",
          "text": [
            "   artist_id artist_name  album_id                            album_title\n",
            "0          1       AC/DC         1  For Those About To Rock We Salute You\n",
            "1          2      Accept         2                      Balls to the Wall\n",
            "2          2      Accept         3                      Restless and Wild\n",
            "3          1       AC/DC         4                      Let There Be Rock\n",
            "4          3   Aerosmith         5                               Big Ones\n"
          ]
        }
      ]
    },
    {
      "cell_type": "code",
      "source": [],
      "metadata": {
        "id": "KJ6HkiJnTfdQ"
      },
      "execution_count": null,
      "outputs": []
    },
    {
      "cell_type": "code",
      "source": [],
      "metadata": {
        "id": "CbdOFqb6WfBF"
      },
      "execution_count": null,
      "outputs": []
    },
    {
      "cell_type": "code",
      "source": [],
      "metadata": {
        "id": "a794Wu9sWe-x"
      },
      "execution_count": null,
      "outputs": []
    },
    {
      "cell_type": "markdown",
      "source": [],
      "metadata": {
        "id": "D76-jW19Xzhr"
      }
    },
    {
      "cell_type": "code",
      "source": [],
      "metadata": {
        "id": "hRFgR8h-We8L"
      },
      "execution_count": null,
      "outputs": []
    },
    {
      "cell_type": "code",
      "source": [],
      "metadata": {
        "id": "p68azTwwWe5m"
      },
      "execution_count": null,
      "outputs": []
    },
    {
      "cell_type": "markdown",
      "source": [
        "## Challenge 5 (Pokemon)"
      ],
      "metadata": {
        "id": "NieOt4EWT4nq"
      }
    },
    {
      "cell_type": "markdown",
      "source": [
        "\n",
        "Given the provided [\"pokemon-gen-1.csv\"](https://raw.githubusercontent.com/prof-rossetti/intro-to-python/main/data/pokemon-gen-1.csv) file, write Python code to read the CSV data and perform each of the following tasks...\n",
        "\n",
        "\n",
        "\n",
        "a) How many Pokemon are there?\n",
        "\n",
        "b) Loop through the Pokemon and print the name of each.\n",
        "\n",
        "> HINT: use `.iterrows()` to loop through the rows\n",
        "\n",
        "c) Which five Pokemon have the highest base experience? Display their names and base experience and types.\n",
        "\n",
        "> HINT: use `.sort_values()` to sort the rows by base experience in descending order, then take the first five. Then display the specific info / columns we want.\n",
        "\n",
        "d) Filter the data to find a Pokemon with a name of \"Pikachu\". Display information about that pokemon, ideally as a dictionary. Then also display an image of this Pokemon, using the image url.\n",
        "\n",
        "> HINT: after filtering, use `iloc[0]` to grab the first row, then convert it to a dictionary.\n",
        "\n",
        "e) How many Pokemon are \"Electric\" type? What are their names?\n",
        "\n",
        "> HINT: use `.str.contains()` for the filter condition\n"
      ],
      "metadata": {
        "id": "XQjJweTaUFee"
      }
    },
    {
      "cell_type": "code",
      "source": [
        "from pandas import read_csv\n",
        "\n",
        "pokemon_url = \"https://raw.githubusercontent.com/prof-rossetti/intro-to-python/main/data/pokemon-gen-1.csv\"\n",
        "\n",
        "pokemon_df = read_csv(pokemon_url)\n",
        "pokemon_df.head()"
      ],
      "metadata": {
        "colab": {
          "base_uri": "https://localhost:8080/",
          "height": 365
        },
        "id": "avrPJXPAT-I6",
        "outputId": "d571f20d-2877-43a7-d08e-b4f7d2cd953b"
      },
      "execution_count": null,
      "outputs": [
        {
          "output_type": "execute_result",
          "data": {
            "text/plain": [
              "        name  base_experience  height  weight           types  \\\n",
              "0    Chansey              395      11     346          Normal   \n",
              "1     Mewtwo              340      20    1220         Psychic   \n",
              "2  Dragonite              300      22    2100  Dragon, Flying   \n",
              "3        Mew              300       4      40         Psychic   \n",
              "4   Articuno              290      17     554     Ice, Flying   \n",
              "\n",
              "                            abilities                          held_items  \\\n",
              "0  Natural-Cure, Serene-Grace, Healer  Oval-Stone, Lucky-Egg, Lucky-Punch   \n",
              "1                   Pressure, Unnerve                                 NaN   \n",
              "2             Inner-Focus, Multiscale           Dragon-Scale, Dragon-Fang   \n",
              "3                         Synchronize                           Lum-Berry   \n",
              "4                Pressure, Snow-Cloak                                 NaN   \n",
              "\n",
              "   attack  defense  special_attack  special_defense  speed  \\\n",
              "0       5        5              35              105     50   \n",
              "1     110       90             154               90    130   \n",
              "2     134       95             100              100     80   \n",
              "3     100      100             100              100    100   \n",
              "4      85      100              95              125     85   \n",
              "\n",
              "                                           image_url  \\\n",
              "0  https://raw.githubusercontent.com/PokeAPI/spri...   \n",
              "1  https://raw.githubusercontent.com/PokeAPI/spri...   \n",
              "2  https://raw.githubusercontent.com/PokeAPI/spri...   \n",
              "3  https://raw.githubusercontent.com/PokeAPI/spri...   \n",
              "4  https://raw.githubusercontent.com/PokeAPI/spri...   \n",
              "\n",
              "                                             cry_url  \n",
              "0  https://raw.githubusercontent.com/PokeAPI/crie...  \n",
              "1  https://raw.githubusercontent.com/PokeAPI/crie...  \n",
              "2  https://raw.githubusercontent.com/PokeAPI/crie...  \n",
              "3  https://raw.githubusercontent.com/PokeAPI/crie...  \n",
              "4  https://raw.githubusercontent.com/PokeAPI/crie...  "
            ],
            "text/html": [
              "\n",
              "  <div id=\"df-14a2c82b-668d-45aa-a4e6-a8b8985b817e\" class=\"colab-df-container\">\n",
              "    <div>\n",
              "<style scoped>\n",
              "    .dataframe tbody tr th:only-of-type {\n",
              "        vertical-align: middle;\n",
              "    }\n",
              "\n",
              "    .dataframe tbody tr th {\n",
              "        vertical-align: top;\n",
              "    }\n",
              "\n",
              "    .dataframe thead th {\n",
              "        text-align: right;\n",
              "    }\n",
              "</style>\n",
              "<table border=\"1\" class=\"dataframe\">\n",
              "  <thead>\n",
              "    <tr style=\"text-align: right;\">\n",
              "      <th></th>\n",
              "      <th>name</th>\n",
              "      <th>base_experience</th>\n",
              "      <th>height</th>\n",
              "      <th>weight</th>\n",
              "      <th>types</th>\n",
              "      <th>abilities</th>\n",
              "      <th>held_items</th>\n",
              "      <th>attack</th>\n",
              "      <th>defense</th>\n",
              "      <th>special_attack</th>\n",
              "      <th>special_defense</th>\n",
              "      <th>speed</th>\n",
              "      <th>image_url</th>\n",
              "      <th>cry_url</th>\n",
              "    </tr>\n",
              "  </thead>\n",
              "  <tbody>\n",
              "    <tr>\n",
              "      <th>0</th>\n",
              "      <td>Chansey</td>\n",
              "      <td>395</td>\n",
              "      <td>11</td>\n",
              "      <td>346</td>\n",
              "      <td>Normal</td>\n",
              "      <td>Natural-Cure, Serene-Grace, Healer</td>\n",
              "      <td>Oval-Stone, Lucky-Egg, Lucky-Punch</td>\n",
              "      <td>5</td>\n",
              "      <td>5</td>\n",
              "      <td>35</td>\n",
              "      <td>105</td>\n",
              "      <td>50</td>\n",
              "      <td>https://raw.githubusercontent.com/PokeAPI/spri...</td>\n",
              "      <td>https://raw.githubusercontent.com/PokeAPI/crie...</td>\n",
              "    </tr>\n",
              "    <tr>\n",
              "      <th>1</th>\n",
              "      <td>Mewtwo</td>\n",
              "      <td>340</td>\n",
              "      <td>20</td>\n",
              "      <td>1220</td>\n",
              "      <td>Psychic</td>\n",
              "      <td>Pressure, Unnerve</td>\n",
              "      <td>NaN</td>\n",
              "      <td>110</td>\n",
              "      <td>90</td>\n",
              "      <td>154</td>\n",
              "      <td>90</td>\n",
              "      <td>130</td>\n",
              "      <td>https://raw.githubusercontent.com/PokeAPI/spri...</td>\n",
              "      <td>https://raw.githubusercontent.com/PokeAPI/crie...</td>\n",
              "    </tr>\n",
              "    <tr>\n",
              "      <th>2</th>\n",
              "      <td>Dragonite</td>\n",
              "      <td>300</td>\n",
              "      <td>22</td>\n",
              "      <td>2100</td>\n",
              "      <td>Dragon, Flying</td>\n",
              "      <td>Inner-Focus, Multiscale</td>\n",
              "      <td>Dragon-Scale, Dragon-Fang</td>\n",
              "      <td>134</td>\n",
              "      <td>95</td>\n",
              "      <td>100</td>\n",
              "      <td>100</td>\n",
              "      <td>80</td>\n",
              "      <td>https://raw.githubusercontent.com/PokeAPI/spri...</td>\n",
              "      <td>https://raw.githubusercontent.com/PokeAPI/crie...</td>\n",
              "    </tr>\n",
              "    <tr>\n",
              "      <th>3</th>\n",
              "      <td>Mew</td>\n",
              "      <td>300</td>\n",
              "      <td>4</td>\n",
              "      <td>40</td>\n",
              "      <td>Psychic</td>\n",
              "      <td>Synchronize</td>\n",
              "      <td>Lum-Berry</td>\n",
              "      <td>100</td>\n",
              "      <td>100</td>\n",
              "      <td>100</td>\n",
              "      <td>100</td>\n",
              "      <td>100</td>\n",
              "      <td>https://raw.githubusercontent.com/PokeAPI/spri...</td>\n",
              "      <td>https://raw.githubusercontent.com/PokeAPI/crie...</td>\n",
              "    </tr>\n",
              "    <tr>\n",
              "      <th>4</th>\n",
              "      <td>Articuno</td>\n",
              "      <td>290</td>\n",
              "      <td>17</td>\n",
              "      <td>554</td>\n",
              "      <td>Ice, Flying</td>\n",
              "      <td>Pressure, Snow-Cloak</td>\n",
              "      <td>NaN</td>\n",
              "      <td>85</td>\n",
              "      <td>100</td>\n",
              "      <td>95</td>\n",
              "      <td>125</td>\n",
              "      <td>85</td>\n",
              "      <td>https://raw.githubusercontent.com/PokeAPI/spri...</td>\n",
              "      <td>https://raw.githubusercontent.com/PokeAPI/crie...</td>\n",
              "    </tr>\n",
              "  </tbody>\n",
              "</table>\n",
              "</div>\n",
              "    <div class=\"colab-df-buttons\">\n",
              "\n",
              "  <div class=\"colab-df-container\">\n",
              "    <button class=\"colab-df-convert\" onclick=\"convertToInteractive('df-14a2c82b-668d-45aa-a4e6-a8b8985b817e')\"\n",
              "            title=\"Convert this dataframe to an interactive table.\"\n",
              "            style=\"display:none;\">\n",
              "\n",
              "  <svg xmlns=\"http://www.w3.org/2000/svg\" height=\"24px\" viewBox=\"0 -960 960 960\">\n",
              "    <path d=\"M120-120v-720h720v720H120Zm60-500h600v-160H180v160Zm220 220h160v-160H400v160Zm0 220h160v-160H400v160ZM180-400h160v-160H180v160Zm440 0h160v-160H620v160ZM180-180h160v-160H180v160Zm440 0h160v-160H620v160Z\"/>\n",
              "  </svg>\n",
              "    </button>\n",
              "\n",
              "  <style>\n",
              "    .colab-df-container {\n",
              "      display:flex;\n",
              "      gap: 12px;\n",
              "    }\n",
              "\n",
              "    .colab-df-convert {\n",
              "      background-color: #E8F0FE;\n",
              "      border: none;\n",
              "      border-radius: 50%;\n",
              "      cursor: pointer;\n",
              "      display: none;\n",
              "      fill: #1967D2;\n",
              "      height: 32px;\n",
              "      padding: 0 0 0 0;\n",
              "      width: 32px;\n",
              "    }\n",
              "\n",
              "    .colab-df-convert:hover {\n",
              "      background-color: #E2EBFA;\n",
              "      box-shadow: 0px 1px 2px rgba(60, 64, 67, 0.3), 0px 1px 3px 1px rgba(60, 64, 67, 0.15);\n",
              "      fill: #174EA6;\n",
              "    }\n",
              "\n",
              "    .colab-df-buttons div {\n",
              "      margin-bottom: 4px;\n",
              "    }\n",
              "\n",
              "    [theme=dark] .colab-df-convert {\n",
              "      background-color: #3B4455;\n",
              "      fill: #D2E3FC;\n",
              "    }\n",
              "\n",
              "    [theme=dark] .colab-df-convert:hover {\n",
              "      background-color: #434B5C;\n",
              "      box-shadow: 0px 1px 3px 1px rgba(0, 0, 0, 0.15);\n",
              "      filter: drop-shadow(0px 1px 2px rgba(0, 0, 0, 0.3));\n",
              "      fill: #FFFFFF;\n",
              "    }\n",
              "  </style>\n",
              "\n",
              "    <script>\n",
              "      const buttonEl =\n",
              "        document.querySelector('#df-14a2c82b-668d-45aa-a4e6-a8b8985b817e button.colab-df-convert');\n",
              "      buttonEl.style.display =\n",
              "        google.colab.kernel.accessAllowed ? 'block' : 'none';\n",
              "\n",
              "      async function convertToInteractive(key) {\n",
              "        const element = document.querySelector('#df-14a2c82b-668d-45aa-a4e6-a8b8985b817e');\n",
              "        const dataTable =\n",
              "          await google.colab.kernel.invokeFunction('convertToInteractive',\n",
              "                                                    [key], {});\n",
              "        if (!dataTable) return;\n",
              "\n",
              "        const docLinkHtml = 'Like what you see? Visit the ' +\n",
              "          '<a target=\"_blank\" href=https://colab.research.google.com/notebooks/data_table.ipynb>data table notebook</a>'\n",
              "          + ' to learn more about interactive tables.';\n",
              "        element.innerHTML = '';\n",
              "        dataTable['output_type'] = 'display_data';\n",
              "        await google.colab.output.renderOutput(dataTable, element);\n",
              "        const docLink = document.createElement('div');\n",
              "        docLink.innerHTML = docLinkHtml;\n",
              "        element.appendChild(docLink);\n",
              "      }\n",
              "    </script>\n",
              "  </div>\n",
              "\n",
              "\n",
              "<div id=\"df-d75bc503-dca6-4bd6-9388-86f2ec6b8a57\">\n",
              "  <button class=\"colab-df-quickchart\" onclick=\"quickchart('df-d75bc503-dca6-4bd6-9388-86f2ec6b8a57')\"\n",
              "            title=\"Suggest charts\"\n",
              "            style=\"display:none;\">\n",
              "\n",
              "<svg xmlns=\"http://www.w3.org/2000/svg\" height=\"24px\"viewBox=\"0 0 24 24\"\n",
              "     width=\"24px\">\n",
              "    <g>\n",
              "        <path d=\"M19 3H5c-1.1 0-2 .9-2 2v14c0 1.1.9 2 2 2h14c1.1 0 2-.9 2-2V5c0-1.1-.9-2-2-2zM9 17H7v-7h2v7zm4 0h-2V7h2v10zm4 0h-2v-4h2v4z\"/>\n",
              "    </g>\n",
              "</svg>\n",
              "  </button>\n",
              "\n",
              "<style>\n",
              "  .colab-df-quickchart {\n",
              "      --bg-color: #E8F0FE;\n",
              "      --fill-color: #1967D2;\n",
              "      --hover-bg-color: #E2EBFA;\n",
              "      --hover-fill-color: #174EA6;\n",
              "      --disabled-fill-color: #AAA;\n",
              "      --disabled-bg-color: #DDD;\n",
              "  }\n",
              "\n",
              "  [theme=dark] .colab-df-quickchart {\n",
              "      --bg-color: #3B4455;\n",
              "      --fill-color: #D2E3FC;\n",
              "      --hover-bg-color: #434B5C;\n",
              "      --hover-fill-color: #FFFFFF;\n",
              "      --disabled-bg-color: #3B4455;\n",
              "      --disabled-fill-color: #666;\n",
              "  }\n",
              "\n",
              "  .colab-df-quickchart {\n",
              "    background-color: var(--bg-color);\n",
              "    border: none;\n",
              "    border-radius: 50%;\n",
              "    cursor: pointer;\n",
              "    display: none;\n",
              "    fill: var(--fill-color);\n",
              "    height: 32px;\n",
              "    padding: 0;\n",
              "    width: 32px;\n",
              "  }\n",
              "\n",
              "  .colab-df-quickchart:hover {\n",
              "    background-color: var(--hover-bg-color);\n",
              "    box-shadow: 0 1px 2px rgba(60, 64, 67, 0.3), 0 1px 3px 1px rgba(60, 64, 67, 0.15);\n",
              "    fill: var(--button-hover-fill-color);\n",
              "  }\n",
              "\n",
              "  .colab-df-quickchart-complete:disabled,\n",
              "  .colab-df-quickchart-complete:disabled:hover {\n",
              "    background-color: var(--disabled-bg-color);\n",
              "    fill: var(--disabled-fill-color);\n",
              "    box-shadow: none;\n",
              "  }\n",
              "\n",
              "  .colab-df-spinner {\n",
              "    border: 2px solid var(--fill-color);\n",
              "    border-color: transparent;\n",
              "    border-bottom-color: var(--fill-color);\n",
              "    animation:\n",
              "      spin 1s steps(1) infinite;\n",
              "  }\n",
              "\n",
              "  @keyframes spin {\n",
              "    0% {\n",
              "      border-color: transparent;\n",
              "      border-bottom-color: var(--fill-color);\n",
              "      border-left-color: var(--fill-color);\n",
              "    }\n",
              "    20% {\n",
              "      border-color: transparent;\n",
              "      border-left-color: var(--fill-color);\n",
              "      border-top-color: var(--fill-color);\n",
              "    }\n",
              "    30% {\n",
              "      border-color: transparent;\n",
              "      border-left-color: var(--fill-color);\n",
              "      border-top-color: var(--fill-color);\n",
              "      border-right-color: var(--fill-color);\n",
              "    }\n",
              "    40% {\n",
              "      border-color: transparent;\n",
              "      border-right-color: var(--fill-color);\n",
              "      border-top-color: var(--fill-color);\n",
              "    }\n",
              "    60% {\n",
              "      border-color: transparent;\n",
              "      border-right-color: var(--fill-color);\n",
              "    }\n",
              "    80% {\n",
              "      border-color: transparent;\n",
              "      border-right-color: var(--fill-color);\n",
              "      border-bottom-color: var(--fill-color);\n",
              "    }\n",
              "    90% {\n",
              "      border-color: transparent;\n",
              "      border-bottom-color: var(--fill-color);\n",
              "    }\n",
              "  }\n",
              "</style>\n",
              "\n",
              "  <script>\n",
              "    async function quickchart(key) {\n",
              "      const quickchartButtonEl =\n",
              "        document.querySelector('#' + key + ' button');\n",
              "      quickchartButtonEl.disabled = true;  // To prevent multiple clicks.\n",
              "      quickchartButtonEl.classList.add('colab-df-spinner');\n",
              "      try {\n",
              "        const charts = await google.colab.kernel.invokeFunction(\n",
              "            'suggestCharts', [key], {});\n",
              "      } catch (error) {\n",
              "        console.error('Error during call to suggestCharts:', error);\n",
              "      }\n",
              "      quickchartButtonEl.classList.remove('colab-df-spinner');\n",
              "      quickchartButtonEl.classList.add('colab-df-quickchart-complete');\n",
              "    }\n",
              "    (() => {\n",
              "      let quickchartButtonEl =\n",
              "        document.querySelector('#df-d75bc503-dca6-4bd6-9388-86f2ec6b8a57 button');\n",
              "      quickchartButtonEl.style.display =\n",
              "        google.colab.kernel.accessAllowed ? 'block' : 'none';\n",
              "    })();\n",
              "  </script>\n",
              "</div>\n",
              "\n",
              "    </div>\n",
              "  </div>\n"
            ],
            "application/vnd.google.colaboratory.intrinsic+json": {
              "type": "dataframe",
              "variable_name": "pokemon_df",
              "summary": "{\n  \"name\": \"pokemon_df\",\n  \"rows\": 151,\n  \"fields\": [\n    {\n      \"column\": \"name\",\n      \"properties\": {\n        \"dtype\": \"string\",\n        \"num_unique_values\": 151,\n        \"samples\": [\n          \"Wartortle\",\n          \"Clefable\",\n          \"Weepinbell\"\n        ],\n        \"semantic_type\": \"\",\n        \"description\": \"\"\n      }\n    },\n    {\n      \"column\": \"base_experience\",\n      \"properties\": {\n        \"dtype\": \"number\",\n        \"std\": 73,\n        \"min\": 39,\n        \"max\": 395,\n        \"num_unique_values\": 85,\n        \"samples\": [\n          53,\n          395,\n          65\n        ],\n        \"semantic_type\": \"\",\n        \"description\": \"\"\n      }\n    },\n    {\n      \"column\": \"height\",\n      \"properties\": {\n        \"dtype\": \"number\",\n        \"std\": 9,\n        \"min\": 2,\n        \"max\": 88,\n        \"num_unique_values\": 26,\n        \"samples\": [\n          15,\n          9,\n          11\n        ],\n        \"semantic_type\": \"\",\n        \"description\": \"\"\n      }\n    },\n    {\n      \"column\": \"weight\",\n      \"properties\": {\n        \"dtype\": \"number\",\n        \"std\": 594,\n        \"min\": 1,\n        \"max\": 4600,\n        \"num_unique_values\": 108,\n        \"samples\": [\n          99,\n          540,\n          554\n        ],\n        \"semantic_type\": \"\",\n        \"description\": \"\"\n      }\n    },\n    {\n      \"column\": \"types\",\n      \"properties\": {\n        \"dtype\": \"category\",\n        \"num_unique_values\": 38,\n        \"samples\": [\n          \"Ice, Psychic\",\n          \"Bug, Grass\",\n          \"Electric, Flying\"\n        ],\n        \"semantic_type\": \"\",\n        \"description\": \"\"\n      }\n    },\n    {\n      \"column\": \"abilities\",\n      \"properties\": {\n        \"dtype\": \"string\",\n        \"num_unique_values\": 94,\n        \"samples\": [\n          \"Hyper-Cutter, Mold-Breaker, Moxie\",\n          \"Compound-Eyes, Tinted-Lens\",\n          \"Magnet-Pull, Sturdy, Analytic\"\n        ],\n        \"semantic_type\": \"\",\n        \"description\": \"\"\n      }\n    },\n    {\n      \"column\": \"held_items\",\n      \"properties\": {\n        \"dtype\": \"category\",\n        \"num_unique_values\": 52,\n        \"samples\": [\n          \"Rawst-Berry, Charcoal\",\n          \"Metal-Powder, Quick-Powder\",\n          \"Kings-Rock, Lagging-Tail\"\n        ],\n        \"semantic_type\": \"\",\n        \"description\": \"\"\n      }\n    },\n    {\n      \"column\": \"attack\",\n      \"properties\": {\n        \"dtype\": \"number\",\n        \"std\": 26,\n        \"min\": 5,\n        \"max\": 134,\n        \"num_unique_values\": 46,\n        \"samples\": [\n          52,\n          73,\n          81\n        ],\n        \"semantic_type\": \"\",\n        \"description\": \"\"\n      }\n    },\n    {\n      \"column\": \"defense\",\n      \"properties\": {\n        \"dtype\": \"number\",\n        \"std\": 26,\n        \"min\": 5,\n        \"max\": 180,\n        \"num_unique_values\": 44,\n        \"samples\": [\n          160,\n          105,\n          110\n        ],\n        \"semantic_type\": \"\",\n        \"description\": \"\"\n      }\n    },\n    {\n      \"column\": \"special_attack\",\n      \"properties\": {\n        \"dtype\": \"number\",\n        \"std\": 28,\n        \"min\": 15,\n        \"max\": 154,\n        \"num_unique_values\": 34,\n        \"samples\": [\n          60,\n          115,\n          30\n        ],\n        \"semantic_type\": \"\",\n        \"description\": \"\"\n      }\n    },\n    {\n      \"column\": \"special_defense\",\n      \"properties\": {\n        \"dtype\": \"number\",\n        \"std\": 24,\n        \"min\": 20,\n        \"max\": 125,\n        \"num_unique_values\": 29,\n        \"samples\": [\n          31,\n          55,\n          45\n        ],\n        \"semantic_type\": \"\",\n        \"description\": \"\"\n      }\n    },\n    {\n      \"column\": \"speed\",\n      \"properties\": {\n        \"dtype\": \"number\",\n        \"std\": 27,\n        \"min\": 15,\n        \"max\": 150,\n        \"num_unique_values\": 42,\n        \"samples\": [\n          67,\n          45,\n          76\n        ],\n        \"semantic_type\": \"\",\n        \"description\": \"\"\n      }\n    },\n    {\n      \"column\": \"image_url\",\n      \"properties\": {\n        \"dtype\": \"string\",\n        \"num_unique_values\": 151,\n        \"samples\": [\n          \"https://raw.githubusercontent.com/PokeAPI/sprites/master/sprites/pokemon/8.png\",\n          \"https://raw.githubusercontent.com/PokeAPI/sprites/master/sprites/pokemon/36.png\",\n          \"https://raw.githubusercontent.com/PokeAPI/sprites/master/sprites/pokemon/70.png\"\n        ],\n        \"semantic_type\": \"\",\n        \"description\": \"\"\n      }\n    },\n    {\n      \"column\": \"cry_url\",\n      \"properties\": {\n        \"dtype\": \"string\",\n        \"num_unique_values\": 151,\n        \"samples\": [\n          \"https://raw.githubusercontent.com/PokeAPI/cries/main/cries/pokemon/latest/8.ogg\",\n          \"https://raw.githubusercontent.com/PokeAPI/cries/main/cries/pokemon/latest/36.ogg\",\n          \"https://raw.githubusercontent.com/PokeAPI/cries/main/cries/pokemon/latest/70.ogg\"\n        ],\n        \"semantic_type\": \"\",\n        \"description\": \"\"\n      }\n    }\n  ]\n}"
            }
          },
          "metadata": {},
          "execution_count": 2
        }
      ]
    },
    {
      "cell_type": "code",
      "source": [],
      "metadata": {
        "id": "7id9k4SaW9rC"
      },
      "execution_count": null,
      "outputs": []
    },
    {
      "cell_type": "code",
      "source": [],
      "metadata": {
        "id": "EuKvBoMeWBvp"
      },
      "execution_count": null,
      "outputs": []
    },
    {
      "cell_type": "code",
      "source": [],
      "metadata": {
        "id": "CVOnTt_NWe3U"
      },
      "execution_count": null,
      "outputs": []
    },
    {
      "cell_type": "code",
      "source": [],
      "metadata": {
        "id": "PtUJP9gzbRmp"
      },
      "execution_count": null,
      "outputs": []
    },
    {
      "cell_type": "code",
      "source": [],
      "metadata": {
        "id": "mjVbFFgUbRg6"
      },
      "execution_count": null,
      "outputs": []
    }
  ]
}